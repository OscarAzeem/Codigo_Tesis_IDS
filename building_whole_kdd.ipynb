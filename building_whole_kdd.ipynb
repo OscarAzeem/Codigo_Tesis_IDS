{
 "cells": [
  {
   "cell_type": "code",
   "execution_count": 1,
   "metadata": {
    "collapsed": true
   },
   "outputs": [],
   "source": [
    "from my_classes_01 import Metodos_Thesis as MT\n",
    "import pandas as pd\n",
    "mc=MT()"
   ]
  },
  {
   "cell_type": "code",
   "execution_count": 2,
   "metadata": {
    "collapsed": true
   },
   "outputs": [],
   "source": [
    "#Reading the whole dataset\n",
    "wkdd99=pd.read_csv(\"./Original_Corrected_datasets/KDD/kddcup_data.csv\")"
   ]
  },
  {
   "cell_type": "code",
   "execution_count": 7,
   "metadata": {},
   "outputs": [
    {
     "name": "stdout",
     "output_type": "stream",
     "text": [
      "Me encuentro trabajando en :apache2\n",
      "\n",
      " NO SE encuentra valores para: apache2\n",
      "\n",
      "Me encuentro trabajando en :back"
     ]
    },
    {
     "name": "stderr",
     "output_type": "stream",
     "text": [
      "/Users/Azeem/my-scripts/python/Codigo_thesis_python/my_classes_01.py:102: SettingWithCopyWarning: \n",
      "A value is trying to be set on a copy of a slice from a DataFrame.\n",
      "Try using .loc[row_indexer,col_indexer] = value instead\n",
      "\n",
      "See the caveats in the documentation: http://pandas.pydata.org/pandas-docs/stable/indexing.html#indexing-view-versus-copy\n",
      "  pandas_temporal[\"Group\"] = nombre_grupo\n",
      "/Users/Azeem/my-scripts/python/Codigo_thesis_python/my_classes_01.py:103: SettingWithCopyWarning: \n",
      "A value is trying to be set on a copy of a slice from a DataFrame.\n",
      "Try using .loc[row_indexer,col_indexer] = value instead\n",
      "\n",
      "See the caveats in the documentation: http://pandas.pydata.org/pandas-docs/stable/indexing.html#indexing-view-versus-copy\n",
      "  pandas_temporal[\"IndexAttack\"] = index_attack\n",
      "/Users/Azeem/my-scripts/python/Codigo_thesis_python/my_classes_01.py:104: SettingWithCopyWarning: \n",
      "A value is trying to be set on a copy of a slice from a DataFrame.\n",
      "Try using .loc[row_indexer,col_indexer] = value instead\n",
      "\n",
      "See the caveats in the documentation: http://pandas.pydata.org/pandas-docs/stable/indexing.html#indexing-view-versus-copy\n",
      "  pandas_temporal[\"IndexByGroup\"] = index_attack_by_group\n",
      "/Users/Azeem/my-scripts/python/Codigo_thesis_python/my_classes_01.py:109: SettingWithCopyWarning: \n",
      "A value is trying to be set on a copy of a slice from a DataFrame.\n",
      "Try using .loc[row_indexer,col_indexer] = value instead\n",
      "\n",
      "See the caveats in the documentation: http://pandas.pydata.org/pandas-docs/stable/indexing.html#indexing-view-versus-copy\n",
      "  pandas_temporal['IndexBinary'] = 1\n"
     ]
    },
    {
     "name": "stdout",
     "output_type": "stream",
     "text": [
      "\n",
      "Me encuentro trabajando en :buffer_overflow\n",
      "Me encuentro trabajando en :ftp_write\n",
      "Me encuentro trabajando en :guess_passwd\n",
      "Me encuentro trabajando en :httptunnel\n",
      "\n",
      " NO SE encuentra valores para: httptunnel\n",
      "\n",
      "Me encuentro trabajando en :imap\n",
      "Me encuentro trabajando en :ipsweep\n",
      "Me encuentro trabajando en :land\n",
      "Me encuentro trabajando en :loadmodule\n",
      "Me encuentro trabajando en :mailbomb\n",
      "\n",
      " NO SE encuentra valores para: mailbomb\n",
      "\n",
      "Me encuentro trabajando en :mscan\n",
      "\n",
      " NO SE encuentra valores para: mscan\n",
      "\n",
      "Me encuentro trabajando en :multihop\n",
      "Me encuentro trabajando en :named\n",
      "\n",
      " NO SE encuentra valores para: named\n",
      "\n",
      "Me encuentro trabajando en :neptune\n",
      "Me encuentro trabajando en :nmap\n",
      "Me encuentro trabajando en :normal\n"
     ]
    },
    {
     "name": "stderr",
     "output_type": "stream",
     "text": [
      "/Users/Azeem/my-scripts/python/Codigo_thesis_python/my_classes_01.py:112: SettingWithCopyWarning: \n",
      "A value is trying to be set on a copy of a slice from a DataFrame.\n",
      "Try using .loc[row_indexer,col_indexer] = value instead\n",
      "\n",
      "See the caveats in the documentation: http://pandas.pydata.org/pandas-docs/stable/indexing.html#indexing-view-versus-copy\n",
      "  pandas_temporal['IndexBinary'] = 0\n"
     ]
    },
    {
     "name": "stdout",
     "output_type": "stream",
     "text": [
      "Me encuentro trabajando en :perl\n",
      "Me encuentro trabajando en :phf\n",
      "Me encuentro trabajando en :pod\n",
      "Me encuentro trabajando en :portsweep\n",
      "Me encuentro trabajando en :processtable\n",
      "\n",
      " NO SE encuentra valores para: processtable\n",
      "\n",
      "Me encuentro trabajando en :ps\n",
      "\n",
      " NO SE encuentra valores para: ps\n",
      "\n",
      "Me encuentro trabajando en :rootkit\n",
      "Me encuentro trabajando en :saint\n",
      "\n",
      " NO SE encuentra valores para: saint\n",
      "\n",
      "Me encuentro trabajando en :satan\n",
      "Me encuentro trabajando en :sendmail\n",
      "\n",
      " NO SE encuentra valores para: sendmail\n",
      "\n",
      "Me encuentro trabajando en :smurf\n",
      "Me encuentro trabajando en :snmpgetattack\n",
      "\n",
      " NO SE encuentra valores para: snmpgetattack\n",
      "\n",
      "Me encuentro trabajando en :snmpguess\n",
      "\n",
      " NO SE encuentra valores para: snmpguess\n",
      "\n",
      "Me encuentro trabajando en :spy\n",
      "Me encuentro trabajando en :sqlattack\n",
      "\n",
      " NO SE encuentra valores para: sqlattack\n",
      "\n",
      "Me encuentro trabajando en :teardrop\n",
      "Me encuentro trabajando en :udpstorm\n",
      "\n",
      " NO SE encuentra valores para: udpstorm\n",
      "\n",
      "Me encuentro trabajando en :warezclient\n",
      "Me encuentro trabajando en :warezmaster\n",
      "Me encuentro trabajando en :worm\n",
      "\n",
      " NO SE encuentra valores para: worm\n",
      "\n",
      "Me encuentro trabajando en :xlock\n",
      "\n",
      " NO SE encuentra valores para: xlock\n",
      "\n",
      "Me encuentro trabajando en :xsnoop\n",
      "\n",
      " NO SE encuentra valores para: xsnoop\n",
      "\n",
      "Me encuentro trabajando en :xterm\n",
      "\n",
      " NO SE encuentra valores para: xterm\n",
      "\n",
      "Trabaje: 23 veces\n",
      "No encontre valores: 17 veces\n"
     ]
    }
   ],
   "source": [
    "F_wkdd99=mc.building_the_labels(wkdd99)"
   ]
  },
  {
   "cell_type": "code",
   "execution_count": 8,
   "metadata": {},
   "outputs": [
    {
     "data": {
      "text/plain": [
       "Index(['Duration', 'ProtocolType', 'Service', 'Flag', 'SourceBytes',\n",
       "       'DestinationBytes', 'Land', 'WrongFragment', 'Urgent', 'Hot',\n",
       "       'FailedLogins', 'LoggedIn', 'NumberOfCompromised', 'RootShell',\n",
       "       'SuAttempted', 'Root', 'NumberOfFileCreations', 'NumberOfShellPrompts',\n",
       "       'NumberOfAccessFiles', 'NumberOfOutbound', 'IsHotLogin', 'IsGuestLogin',\n",
       "       'Count', 'SrvCount', 'SerrorRate', 'SrvSerrorRate', 'RerrorRate',\n",
       "       'SrvRerrorRate', 'SameSrvRate', 'DiffSrvRate', 'SrvDiffHostRate',\n",
       "       'DstHostCount', 'DstHostSrvCount', 'DstHostSameSrvRate',\n",
       "       'DstHostDiffSrvRate', 'DstHostSameSrcPortRate',\n",
       "       'DstHostSrvDiffHostRate', 'DstHostSerrorRate', 'DstHostSrvSerrorRate',\n",
       "       'DstHostRerrorRate', 'DstHostSrvRerrorRate', 'TypeOfAttack', 'Group',\n",
       "       'IndexAttack', 'IndexByGroup', 'IndexBinary'],\n",
       "      dtype='object')"
      ]
     },
     "execution_count": 8,
     "metadata": {},
     "output_type": "execute_result"
    }
   ],
   "source": [
    "F_wkdd99.columns"
   ]
  },
  {
   "cell_type": "code",
   "execution_count": null,
   "metadata": {},
   "outputs": [],
   "source": [
    "#saving the kdd99 dataset\n",
    "F_wkdd99.to_csv(\"dataset_labeled/whole_kdd.csv\",index=False)"
   ]
  },
  {
   "cell_type": "code",
   "execution_count": null,
   "metadata": {
    "collapsed": true
   },
   "outputs": [],
   "source": []
  }
 ],
 "metadata": {
  "kernelspec": {
   "display_name": "Python 3",
   "language": "python",
   "name": "python3"
  },
  "language_info": {
   "codemirror_mode": {
    "name": "ipython",
    "version": 3
   },
   "file_extension": ".py",
   "mimetype": "text/x-python",
   "name": "python",
   "nbconvert_exporter": "python",
   "pygments_lexer": "ipython3",
   "version": "3.6.1"
  }
 },
 "nbformat": 4,
 "nbformat_minor": 2
}
