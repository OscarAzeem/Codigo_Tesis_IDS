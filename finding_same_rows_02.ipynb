{
 "cells": [
  {
   "cell_type": "code",
   "execution_count": 168,
   "metadata": {
    "collapsed": true
   },
   "outputs": [],
   "source": [
    "import pandas as pd\n",
    "import numpy as np\n",
    "from my_classes_01 import Metodos_Thesis as MT\n",
    "mc=MT()\n",
    "dataset=pd.read_csv(\"./dataset_labeled/nsl_testing_labeled.csv\")\n",
    "pd.set_option('display.max_columns', 50)"
   ]
  },
  {
   "cell_type": "code",
   "execution_count": 169,
   "metadata": {
    "collapsed": true
   },
   "outputs": [],
   "source": [
    "def registros_iguales_2(dataset_inicio,inicio,fin):\n",
    "    from sklearn import preprocessing\n",
    "    dataset=dataset_inicio.loc[:,inicio:fin]\n",
    "    columnas=dataset.columns\n",
    "    print(\"***PREPROCESSING***\")\n",
    "    for indice in range(0,len(columnas)):\n",
    "        if type(dataset.loc[0,columnas[indice]]) == str:\n",
    "            print('Building the labels dimension number= %d, perteneciente al Nombre: %s' % (indice,columnas[indice]))\n",
    "            #print('Nombre %s' % (columnas[indice]))\n",
    "            #print('Su tipo es %s=' % (str(type(data))))\n",
    "            #label enconder, object\n",
    "            label_encoder=preprocessing.LabelEncoder()\n",
    "            #label encoer, fit\n",
    "            label_encoder.fit(dataset[columnas[indice]])\n",
    "            #building the dataframe\n",
    "            dataset[columnas[indice]]=label_encoder.transform(dataset[columnas[indice]])\n",
    "    #obteniendo la suma del dataset\n",
    "    suma=dataset.sum(axis=1)\n",
    "    #adding the \"suma\" series to the dataset_inicio \n",
    "    dataset_inicio[\"suma\"]=suma\n",
    "    #borrando los duplicados\n",
    "    series_suma=dataset_inicio[dataset_inicio.suma.duplicated(keep=False)]\n",
    "    #obteniendo los valores repetidos mediante group by\n",
    "    series_suma=dataset_inicio.groupby('suma').apply(lambda x: list(x.index))\n",
    "    #\n",
    "    print(\"***VALORES REPETIDOS***\")\n",
    "    print(\"Existen %d de valores repetidos\" % (len(dataset_inicio)-len(series_suma)))\n",
    "    #arriba todo bien\n",
    "    for indice in range(0,len(series_suma)):\n",
    "        if len(series_suma[series_suma.index.values[indice]]) > 1:\n",
    "            print(\"NUEVA REPETICION en el indice suma: %d\" %(series_suma.index.values[indice]))\n",
    "            print(\"Tiene un total de instancias iguales a: %d\" %(len(series_suma[series_suma.index.values[indice]])))\n",
    "            #aqui parece el problema\n",
    "            for cantidad_instancias_repetidas in range(0,len(series_suma[series_suma.index.values[indice]])):\n",
    "                print(\"No de instancia: %d que equivale al indice dataset: %d\" %(cantidad_instancias_repetidas,series_suma[series_suma.index.values[indice]][cantidad_instancias_repetidas]))\n",
    "                ataque=dataset_inicio.loc[series_suma[series_suma.index.values[indice]][cantidad_instancias_repetidas],\"TypeOfAttack\"]\n",
    "                clase=dataset_inicio.loc[series_suma[series_suma.index.values[indice]][cantidad_instancias_repetidas],\"Group\"]\n",
    "                print(\"Pertenece al tipo de ataque: %s de la clase %s\" %(ataque, clase))"
   ]
  },
  {
   "cell_type": "markdown",
   "metadata": {},
   "source": [
    "# No coincide con emacs al primer momento ya que el csv tiene una fila de más: nombre de las columnas\n",
    "# Y el indice en pandas empieza en cero, el numero seria +2\n",
    "# si la coincidencia es en: 9471+2=9473"
   ]
  },
  {
   "cell_type": "code",
   "execution_count": 179,
   "metadata": {},
   "outputs": [],
   "source": [
    "inicio='Duration'\n",
    "fin='IndexBinary'\n",
    "dataset_inicio=dataset"
   ]
  },
  {
   "cell_type": "code",
   "execution_count": 185,
   "metadata": {},
   "outputs": [
    {
     "ename": "ValueError",
     "evalue": "labels ['TimesApparead'] not contained in axis",
     "output_type": "error",
     "traceback": [
      "\u001b[0;31m---------------------------------------------------------------------------\u001b[0m",
      "\u001b[0;31mValueError\u001b[0m                                Traceback (most recent call last)",
      "\u001b[0;32m<ipython-input-185-302bf5792101>\u001b[0m in \u001b[0;36m<module>\u001b[0;34m()\u001b[0m\n\u001b[0;32m----> 1\u001b[0;31m \u001b[0mdataset_inicio\u001b[0m\u001b[0;34m=\u001b[0m\u001b[0mdataset_inicio\u001b[0m\u001b[0;34m.\u001b[0m\u001b[0mdrop\u001b[0m\u001b[0;34m(\u001b[0m\u001b[0;34m[\u001b[0m\u001b[0;34m'TimesApparead'\u001b[0m\u001b[0;34m]\u001b[0m\u001b[0;34m,\u001b[0m\u001b[0maxis\u001b[0m\u001b[0;34m=\u001b[0m\u001b[0;36m1\u001b[0m\u001b[0;34m)\u001b[0m\u001b[0;34m\u001b[0m\u001b[0m\n\u001b[0m",
      "\u001b[0;32m/Users/Azeem/anaconda/lib/python3.6/site-packages/pandas/core/generic.py\u001b[0m in \u001b[0;36mdrop\u001b[0;34m(self, labels, axis, level, inplace, errors)\u001b[0m\n\u001b[1;32m   2048\u001b[0m                 \u001b[0mnew_axis\u001b[0m \u001b[0;34m=\u001b[0m \u001b[0maxis\u001b[0m\u001b[0;34m.\u001b[0m\u001b[0mdrop\u001b[0m\u001b[0;34m(\u001b[0m\u001b[0mlabels\u001b[0m\u001b[0;34m,\u001b[0m \u001b[0mlevel\u001b[0m\u001b[0;34m=\u001b[0m\u001b[0mlevel\u001b[0m\u001b[0;34m,\u001b[0m \u001b[0merrors\u001b[0m\u001b[0;34m=\u001b[0m\u001b[0merrors\u001b[0m\u001b[0;34m)\u001b[0m\u001b[0;34m\u001b[0m\u001b[0m\n\u001b[1;32m   2049\u001b[0m             \u001b[0;32melse\u001b[0m\u001b[0;34m:\u001b[0m\u001b[0;34m\u001b[0m\u001b[0m\n\u001b[0;32m-> 2050\u001b[0;31m                 \u001b[0mnew_axis\u001b[0m \u001b[0;34m=\u001b[0m \u001b[0maxis\u001b[0m\u001b[0;34m.\u001b[0m\u001b[0mdrop\u001b[0m\u001b[0;34m(\u001b[0m\u001b[0mlabels\u001b[0m\u001b[0;34m,\u001b[0m \u001b[0merrors\u001b[0m\u001b[0;34m=\u001b[0m\u001b[0merrors\u001b[0m\u001b[0;34m)\u001b[0m\u001b[0;34m\u001b[0m\u001b[0m\n\u001b[0m\u001b[1;32m   2051\u001b[0m             \u001b[0mdropped\u001b[0m \u001b[0;34m=\u001b[0m \u001b[0mself\u001b[0m\u001b[0;34m.\u001b[0m\u001b[0mreindex\u001b[0m\u001b[0;34m(\u001b[0m\u001b[0;34m**\u001b[0m\u001b[0;34m{\u001b[0m\u001b[0maxis_name\u001b[0m\u001b[0;34m:\u001b[0m \u001b[0mnew_axis\u001b[0m\u001b[0;34m}\u001b[0m\u001b[0;34m)\u001b[0m\u001b[0;34m\u001b[0m\u001b[0m\n\u001b[1;32m   2052\u001b[0m             \u001b[0;32mtry\u001b[0m\u001b[0;34m:\u001b[0m\u001b[0;34m\u001b[0m\u001b[0m\n",
      "\u001b[0;32m/Users/Azeem/anaconda/lib/python3.6/site-packages/pandas/core/indexes/base.py\u001b[0m in \u001b[0;36mdrop\u001b[0;34m(self, labels, errors)\u001b[0m\n\u001b[1;32m   3573\u001b[0m             \u001b[0;32mif\u001b[0m \u001b[0merrors\u001b[0m \u001b[0;34m!=\u001b[0m \u001b[0;34m'ignore'\u001b[0m\u001b[0;34m:\u001b[0m\u001b[0;34m\u001b[0m\u001b[0m\n\u001b[1;32m   3574\u001b[0m                 raise ValueError('labels %s not contained in axis' %\n\u001b[0;32m-> 3575\u001b[0;31m                                  labels[mask])\n\u001b[0m\u001b[1;32m   3576\u001b[0m             \u001b[0mindexer\u001b[0m \u001b[0;34m=\u001b[0m \u001b[0mindexer\u001b[0m\u001b[0;34m[\u001b[0m\u001b[0;34m~\u001b[0m\u001b[0mmask\u001b[0m\u001b[0;34m]\u001b[0m\u001b[0;34m\u001b[0m\u001b[0m\n\u001b[1;32m   3577\u001b[0m         \u001b[0;32mreturn\u001b[0m \u001b[0mself\u001b[0m\u001b[0;34m.\u001b[0m\u001b[0mdelete\u001b[0m\u001b[0;34m(\u001b[0m\u001b[0mindexer\u001b[0m\u001b[0;34m)\u001b[0m\u001b[0;34m\u001b[0m\u001b[0m\n",
      "\u001b[0;31mValueError\u001b[0m: labels ['TimesApparead'] not contained in axis"
     ]
    }
   ],
   "source": [
    "dataset_inicio=dataset_inicio.drop(['TimesApparead'],axis=1)"
   ]
  },
  {
   "cell_type": "code",
   "execution_count": 184,
   "metadata": {},
   "outputs": [
    {
     "name": "stdout",
     "output_type": "stream",
     "text": [
      "***PREPROCESSING***\n",
      "***VALORES REPETIDOS***\n",
      "Existen 0 de valores repetidos\n"
     ]
    }
   ],
   "source": [
    "from sklearn import preprocessing\n",
    "dataset=dataset_inicio.loc[:,inicio:fin]\n",
    "columnas=dataset.columns\n",
    "print(\"***PREPROCESSING***\")\n",
    "for indice in range(0,len(columnas)):\n",
    "    if type(dataset.loc[0,columnas[indice]]) == str:\n",
    "        print('Building the labels dimension number= %d, perteneciente al Nombre: %s' % (indice,columnas[indice]))\n",
    "        #print('Nombre %s' % (columnas[indice]))\n",
    "        #print('Su tipo es %s=' % (str(type(data))))\n",
    "        #label enconder, object\n",
    "        label_encoder=preprocessing.LabelEncoder()\n",
    "        #label encoer, fit\n",
    "        label_encoder.fit(dataset[columnas[indice]])\n",
    "        #building the dataframe\n",
    "        dataset[columnas[indice]]=label_encoder.transform(dataset[columnas[indice]])\n",
    "    #for donde multiplica todas las columnas, para evitar los iguales al sumar \n",
    "    dataset[columnas[indice]]=dataset[columnas[indice]]*(np.random.randn())    \n",
    "        \n",
    "#obteniendo la suma del dataset\n",
    "suma=dataset.sum(axis=1)\n",
    "#adding the \"suma\" series to the dataset_inicio \n",
    "dataset_inicio[\"suma\"]=suma\n",
    "#borrando los duplicados\n",
    "series_suma=dataset_inicio[dataset_inicio.suma.duplicated(keep=False)]\n",
    "#obteniendo los valores repetidos mediante group by\n",
    "series_suma=dataset_inicio.groupby('suma').apply(lambda x: list(x.index))\n",
    "#\n",
    "print(\"***VALORES REPETIDOS***\")\n",
    "print(\"Existen %d de valores repetidos\" % (len(dataset_inicio)-len(series_suma)))\n",
    "#arriba todo bien\n",
    "for indice in range(0,len(series_suma)):\n",
    "    if len(series_suma[series_suma.index.values[indice]]) > 1:\n",
    "        print(\"NUEVA REPETICION en el indice suma: %f\" %(series_suma.index.values[indice]))\n",
    "        print(\"Tiene un total de instancias iguales a: %d\" %(len(series_suma[series_suma.index.values[indice]])))\n",
    "        #aqui parece el problema\n",
    "        for cantidad_instancias_repetidas in range(0,len(series_suma[series_suma.index.values[indice]])):\n",
    "            print(\"No de instancia: %d que equivale al indice dataset: %d\" %(cantidad_instancias_repetidas,series_suma[series_suma.index.values[indice]][cantidad_instancias_repetidas]))\n",
    "            ataque=dataset_inicio.loc[series_suma[series_suma.index.values[indice]][cantidad_instancias_repetidas],\"TypeOfAttack\"]\n",
    "            clase=dataset_inicio.loc[series_suma[series_suma.index.values[indice]][cantidad_instancias_repetidas],\"Group\"]\n",
    "            print(\"Pertenece al tipo de ataque: %s de la clase %s\" %(ataque, clase))"
   ]
  },
  {
   "cell_type": "code",
   "execution_count": 183,
   "metadata": {},
   "outputs": [
    {
     "data": {
      "text/html": [
       "<div>\n",
       "<style>\n",
       "    .dataframe thead tr:only-child th {\n",
       "        text-align: right;\n",
       "    }\n",
       "\n",
       "    .dataframe thead th {\n",
       "        text-align: left;\n",
       "    }\n",
       "\n",
       "    .dataframe tbody tr th {\n",
       "        vertical-align: top;\n",
       "    }\n",
       "</style>\n",
       "<table border=\"1\" class=\"dataframe\">\n",
       "  <thead>\n",
       "    <tr style=\"text-align: right;\">\n",
       "      <th></th>\n",
       "      <th>Duration</th>\n",
       "      <th>ProtocolType</th>\n",
       "      <th>Service</th>\n",
       "      <th>Flag</th>\n",
       "      <th>SourceBytes</th>\n",
       "      <th>DestinationBytes</th>\n",
       "      <th>Land</th>\n",
       "      <th>WrongFragment</th>\n",
       "      <th>Urgent</th>\n",
       "      <th>Hot</th>\n",
       "      <th>FailedLogins</th>\n",
       "      <th>LoggedIn</th>\n",
       "      <th>NumberOfCompromised</th>\n",
       "      <th>RootShell</th>\n",
       "      <th>SuAttempted</th>\n",
       "      <th>Root</th>\n",
       "      <th>NumberOfFileCreations</th>\n",
       "      <th>NumberOfShellPrompts</th>\n",
       "      <th>NumberOfAccessFiles</th>\n",
       "      <th>NumberOfOutbound</th>\n",
       "      <th>IsHotLogin</th>\n",
       "      <th>IsGuestLogin</th>\n",
       "      <th>Count</th>\n",
       "      <th>SrvCount</th>\n",
       "      <th>SerrorRate</th>\n",
       "      <th>SrvSerrorRate</th>\n",
       "      <th>RerrorRate</th>\n",
       "      <th>SrvRerrorRate</th>\n",
       "      <th>SameSrvRate</th>\n",
       "      <th>DiffSrvRate</th>\n",
       "      <th>SrvDiffHostRate</th>\n",
       "      <th>DstHostCount</th>\n",
       "      <th>DstHostSrvCount</th>\n",
       "      <th>DstHostSameSrvRate</th>\n",
       "      <th>DstHostDiffSrvRate</th>\n",
       "      <th>DstHostSameSrcPortRate</th>\n",
       "      <th>DstHostSrvDiffHostRate</th>\n",
       "      <th>DstHostSerrorRate</th>\n",
       "      <th>DstHostSrvSerrorRate</th>\n",
       "      <th>DstHostRerrorRate</th>\n",
       "      <th>DstHostSrvRerrorRate</th>\n",
       "      <th>TypeOfAttack</th>\n",
       "      <th>Group</th>\n",
       "      <th>IndexAttack</th>\n",
       "      <th>IndexByGroup</th>\n",
       "      <th>IndexBinary</th>\n",
       "      <th>suma</th>\n",
       "    </tr>\n",
       "  </thead>\n",
       "  <tbody>\n",
       "    <tr>\n",
       "      <th>9471</th>\n",
       "      <td>0</td>\n",
       "      <td>13.962217</td>\n",
       "      <td>573.744938</td>\n",
       "      <td>203.23314</td>\n",
       "      <td>0</td>\n",
       "      <td>0</td>\n",
       "      <td>1</td>\n",
       "      <td>0</td>\n",
       "      <td>0</td>\n",
       "      <td>0</td>\n",
       "      <td>0</td>\n",
       "      <td>0</td>\n",
       "      <td>0</td>\n",
       "      <td>0</td>\n",
       "      <td>0</td>\n",
       "      <td>0</td>\n",
       "      <td>0</td>\n",
       "      <td>0</td>\n",
       "      <td>0</td>\n",
       "      <td>0</td>\n",
       "      <td>0</td>\n",
       "      <td>0</td>\n",
       "      <td>1</td>\n",
       "      <td>2</td>\n",
       "      <td>1.0</td>\n",
       "      <td>1.0</td>\n",
       "      <td>0.0</td>\n",
       "      <td>0.0</td>\n",
       "      <td>1.0</td>\n",
       "      <td>0.0</td>\n",
       "      <td>1.0</td>\n",
       "      <td>1</td>\n",
       "      <td>3</td>\n",
       "      <td>1.0</td>\n",
       "      <td>0.0</td>\n",
       "      <td>1.0</td>\n",
       "      <td>1.0</td>\n",
       "      <td>1.0</td>\n",
       "      <td>1.0</td>\n",
       "      <td>0.0</td>\n",
       "      <td>0.0</td>\n",
       "      <td>403.789645</td>\n",
       "      <td>0.0</td>\n",
       "      <td>8</td>\n",
       "      <td>1</td>\n",
       "      <td>1</td>\n",
       "      <td>1221.729941</td>\n",
       "    </tr>\n",
       "    <tr>\n",
       "      <th>18529</th>\n",
       "      <td>0</td>\n",
       "      <td>13.962217</td>\n",
       "      <td>573.744938</td>\n",
       "      <td>203.23314</td>\n",
       "      <td>0</td>\n",
       "      <td>0</td>\n",
       "      <td>1</td>\n",
       "      <td>0</td>\n",
       "      <td>0</td>\n",
       "      <td>0</td>\n",
       "      <td>0</td>\n",
       "      <td>0</td>\n",
       "      <td>0</td>\n",
       "      <td>0</td>\n",
       "      <td>0</td>\n",
       "      <td>0</td>\n",
       "      <td>0</td>\n",
       "      <td>0</td>\n",
       "      <td>0</td>\n",
       "      <td>0</td>\n",
       "      <td>0</td>\n",
       "      <td>0</td>\n",
       "      <td>1</td>\n",
       "      <td>3</td>\n",
       "      <td>1.0</td>\n",
       "      <td>1.0</td>\n",
       "      <td>0.0</td>\n",
       "      <td>0.0</td>\n",
       "      <td>1.0</td>\n",
       "      <td>0.0</td>\n",
       "      <td>1.0</td>\n",
       "      <td>1</td>\n",
       "      <td>2</td>\n",
       "      <td>1.0</td>\n",
       "      <td>0.0</td>\n",
       "      <td>1.0</td>\n",
       "      <td>1.0</td>\n",
       "      <td>1.0</td>\n",
       "      <td>1.0</td>\n",
       "      <td>0.0</td>\n",
       "      <td>0.0</td>\n",
       "      <td>403.789645</td>\n",
       "      <td>0.0</td>\n",
       "      <td>8</td>\n",
       "      <td>1</td>\n",
       "      <td>1</td>\n",
       "      <td>1221.729941</td>\n",
       "    </tr>\n",
       "  </tbody>\n",
       "</table>\n",
       "</div>"
      ],
      "text/plain": [
       "       Duration  ProtocolType     Service       Flag  SourceBytes  \\\n",
       "9471          0     13.962217  573.744938  203.23314            0   \n",
       "18529         0     13.962217  573.744938  203.23314            0   \n",
       "\n",
       "       DestinationBytes  Land  WrongFragment  Urgent  Hot  FailedLogins  \\\n",
       "9471                  0     1              0       0    0             0   \n",
       "18529                 0     1              0       0    0             0   \n",
       "\n",
       "       LoggedIn  NumberOfCompromised  RootShell  SuAttempted  Root  \\\n",
       "9471          0                    0          0            0     0   \n",
       "18529         0                    0          0            0     0   \n",
       "\n",
       "       NumberOfFileCreations  NumberOfShellPrompts  NumberOfAccessFiles  \\\n",
       "9471                       0                     0                    0   \n",
       "18529                      0                     0                    0   \n",
       "\n",
       "       NumberOfOutbound  IsHotLogin  IsGuestLogin  Count  SrvCount  \\\n",
       "9471                  0           0             0      1         2   \n",
       "18529                 0           0             0      1         3   \n",
       "\n",
       "       SerrorRate  SrvSerrorRate  RerrorRate  SrvRerrorRate  SameSrvRate  \\\n",
       "9471          1.0            1.0         0.0            0.0          1.0   \n",
       "18529         1.0            1.0         0.0            0.0          1.0   \n",
       "\n",
       "       DiffSrvRate  SrvDiffHostRate  DstHostCount  DstHostSrvCount  \\\n",
       "9471           0.0              1.0             1                3   \n",
       "18529          0.0              1.0             1                2   \n",
       "\n",
       "       DstHostSameSrvRate  DstHostDiffSrvRate  DstHostSameSrcPortRate  \\\n",
       "9471                  1.0                 0.0                     1.0   \n",
       "18529                 1.0                 0.0                     1.0   \n",
       "\n",
       "       DstHostSrvDiffHostRate  DstHostSerrorRate  DstHostSrvSerrorRate  \\\n",
       "9471                      1.0                1.0                   1.0   \n",
       "18529                     1.0                1.0                   1.0   \n",
       "\n",
       "       DstHostRerrorRate  DstHostSrvRerrorRate  TypeOfAttack  Group  \\\n",
       "9471                 0.0                   0.0    403.789645    0.0   \n",
       "18529                0.0                   0.0    403.789645    0.0   \n",
       "\n",
       "       IndexAttack  IndexByGroup  IndexBinary         suma  \n",
       "9471             8             1            1  1221.729941  \n",
       "18529            8             1            1  1221.729941  "
      ]
     },
     "execution_count": 183,
     "metadata": {},
     "output_type": "execute_result"
    }
   ],
   "source": [
    "dataset_inicio.loc[[9471,18529],:]"
   ]
  },
  {
   "cell_type": "code",
   "execution_count": 122,
   "metadata": {},
   "outputs": [
    {
     "data": {
      "text/html": [
       "<div>\n",
       "<style>\n",
       "    .dataframe thead tr:only-child th {\n",
       "        text-align: right;\n",
       "    }\n",
       "\n",
       "    .dataframe thead th {\n",
       "        text-align: left;\n",
       "    }\n",
       "\n",
       "    .dataframe tbody tr th {\n",
       "        vertical-align: top;\n",
       "    }\n",
       "</style>\n",
       "<table border=\"1\" class=\"dataframe\">\n",
       "  <thead>\n",
       "    <tr style=\"text-align: right;\">\n",
       "      <th></th>\n",
       "      <th>Duration</th>\n",
       "      <th>ProtocolType</th>\n",
       "      <th>Service</th>\n",
       "      <th>Flag</th>\n",
       "      <th>SourceBytes</th>\n",
       "      <th>DestinationBytes</th>\n",
       "      <th>Land</th>\n",
       "      <th>WrongFragment</th>\n",
       "      <th>Urgent</th>\n",
       "      <th>Hot</th>\n",
       "      <th>...</th>\n",
       "      <th>DstHostSerrorRate</th>\n",
       "      <th>DstHostSrvSerrorRate</th>\n",
       "      <th>DstHostRerrorRate</th>\n",
       "      <th>DstHostSrvRerrorRate</th>\n",
       "      <th>TypeOfAttack</th>\n",
       "      <th>TimesApparead</th>\n",
       "      <th>Group</th>\n",
       "      <th>IndexAttack</th>\n",
       "      <th>IndexByGroup</th>\n",
       "      <th>IndexBinary</th>\n",
       "    </tr>\n",
       "  </thead>\n",
       "  <tbody>\n",
       "    <tr>\n",
       "      <th>12349</th>\n",
       "      <td>0</td>\n",
       "      <td>59.622352</td>\n",
       "      <td>-3614.932548</td>\n",
       "      <td>-217.792612</td>\n",
       "      <td>121</td>\n",
       "      <td>174</td>\n",
       "      <td>0</td>\n",
       "      <td>0</td>\n",
       "      <td>0</td>\n",
       "      <td>0</td>\n",
       "      <td>...</td>\n",
       "      <td>0.0</td>\n",
       "      <td>0.0</td>\n",
       "      <td>0.0</td>\n",
       "      <td>0.04</td>\n",
       "      <td>332.651977</td>\n",
       "      <td>9</td>\n",
       "      <td>-279.433228</td>\n",
       "      <td>4</td>\n",
       "      <td>4</td>\n",
       "      <td>1</td>\n",
       "    </tr>\n",
       "    <tr>\n",
       "      <th>21710</th>\n",
       "      <td>0</td>\n",
       "      <td>59.622352</td>\n",
       "      <td>-3614.932548</td>\n",
       "      <td>-217.792612</td>\n",
       "      <td>125</td>\n",
       "      <td>174</td>\n",
       "      <td>0</td>\n",
       "      <td>0</td>\n",
       "      <td>0</td>\n",
       "      <td>0</td>\n",
       "      <td>...</td>\n",
       "      <td>0.0</td>\n",
       "      <td>0.0</td>\n",
       "      <td>0.0</td>\n",
       "      <td>0.05</td>\n",
       "      <td>332.651977</td>\n",
       "      <td>8</td>\n",
       "      <td>-279.433228</td>\n",
       "      <td>4</td>\n",
       "      <td>4</td>\n",
       "      <td>1</td>\n",
       "    </tr>\n",
       "  </tbody>\n",
       "</table>\n",
       "<p>2 rows × 47 columns</p>\n",
       "</div>"
      ],
      "text/plain": [
       "       Duration  ProtocolType      Service        Flag  SourceBytes  \\\n",
       "12349         0     59.622352 -3614.932548 -217.792612          121   \n",
       "21710         0     59.622352 -3614.932548 -217.792612          125   \n",
       "\n",
       "       DestinationBytes  Land  WrongFragment  Urgent  Hot     ...       \\\n",
       "12349               174     0              0       0    0     ...        \n",
       "21710               174     0              0       0    0     ...        \n",
       "\n",
       "       DstHostSerrorRate  DstHostSrvSerrorRate  DstHostRerrorRate  \\\n",
       "12349                0.0                   0.0                0.0   \n",
       "21710                0.0                   0.0                0.0   \n",
       "\n",
       "       DstHostSrvRerrorRate  TypeOfAttack  TimesApparead       Group  \\\n",
       "12349                  0.04    332.651977              9 -279.433228   \n",
       "21710                  0.05    332.651977              8 -279.433228   \n",
       "\n",
       "       IndexAttack  IndexByGroup  IndexBinary  \n",
       "12349            4             4            1  \n",
       "21710            4             4            1  \n",
       "\n",
       "[2 rows x 47 columns]"
      ]
     },
     "execution_count": 122,
     "metadata": {},
     "output_type": "execute_result"
    }
   ],
   "source": [
    "dataset.loc[[12349,21710],:]"
   ]
  },
  {
   "cell_type": "code",
   "execution_count": 23,
   "metadata": {
    "collapsed": true
   },
   "outputs": [],
   "source": [
    "t1=dataset.loc[3445,:]"
   ]
  },
  {
   "cell_type": "code",
   "execution_count": 26,
   "metadata": {},
   "outputs": [
    {
     "data": {
      "text/plain": [
       "116.16"
      ]
     },
     "execution_count": 26,
     "metadata": {},
     "output_type": "execute_result"
    }
   ],
   "source": [
    "t1.sum()"
   ]
  },
  {
   "cell_type": "code",
   "execution_count": 27,
   "metadata": {
    "collapsed": true
   },
   "outputs": [],
   "source": [
    "t2=dataset.loc[9666,:]"
   ]
  },
  {
   "cell_type": "code",
   "execution_count": 28,
   "metadata": {},
   "outputs": [
    {
     "data": {
      "text/plain": [
       "116.16"
      ]
     },
     "execution_count": 28,
     "metadata": {},
     "output_type": "execute_result"
    }
   ],
   "source": [
    "t2.sum()"
   ]
  },
  {
   "cell_type": "markdown",
   "metadata": {},
   "source": [
    "# el problema esta en el label encoder, hay que asginar valores más grandes"
   ]
  },
  {
   "cell_type": "code",
   "execution_count": 32,
   "metadata": {
    "collapsed": true
   },
   "outputs": [],
   "source": [
    "#multiplicando por un valor random unicamente las columnas en las que fue usada el label encoder"
   ]
  },
  {
   "cell_type": "code",
   "execution_count": 96,
   "metadata": {},
   "outputs": [
    {
     "data": {
      "text/plain": [
       "76"
      ]
     },
     "execution_count": 96,
     "metadata": {},
     "output_type": "execute_result"
    }
   ],
   "source": [
    "np.random.randint(low=20,high=80)"
   ]
  }
 ],
 "metadata": {
  "kernelspec": {
   "display_name": "Python 3",
   "language": "python",
   "name": "python3"
  },
  "language_info": {
   "codemirror_mode": {
    "name": "ipython",
    "version": 3
   },
   "file_extension": ".py",
   "mimetype": "text/x-python",
   "name": "python",
   "nbconvert_exporter": "python",
   "pygments_lexer": "ipython3",
   "version": "3.6.1"
  }
 },
 "nbformat": 4,
 "nbformat_minor": 2
}
