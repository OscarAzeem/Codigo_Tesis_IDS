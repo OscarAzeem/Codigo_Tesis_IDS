{
 "cells": [
  {
   "cell_type": "markdown",
   "metadata": {},
   "source": [
    "# Librerías"
   ]
  },
  {
   "cell_type": "code",
   "execution_count": 1,
   "metadata": {
    "collapsed": true
   },
   "outputs": [],
   "source": [
    "import itertools\n",
    "import time\n",
    "import numpy as np\n",
    "import pandas as pd\n",
    "import matplotlib.pyplot as plt\n",
    "from matplotlib import offsetbox\n",
    "from sklearn import (manifold, datasets, decomposition, ensemble,\n",
    "                     discriminant_analysis, random_projection)#Prueba evaluación y entrenamiento un solo individuo. \n",
    "#Vectores completos\n",
    "from sklearn.metrics import classification_report,confusion_matrix,accuracy_score\n",
    "import random"
   ]
  },
  {
   "cell_type": "markdown",
   "metadata": {},
   "source": [
    "# Databases"
   ]
  },
  {
   "cell_type": "code",
   "execution_count": 454,
   "metadata": {
    "collapsed": true
   },
   "outputs": [],
   "source": [
    "#Reading all the cvs\n",
    "#Nss learning\n",
    "nsl_training=pd.read_csv('./Final_Datasets/MINMAX_FD_NSL_Tra.csv')\n",
    "#Nsl testing\n",
    "nsl_testing=pd.read_csv('./Final_Datasets/MINMAX_FD_NSL_Test.csv')"
   ]
  },
  {
   "cell_type": "markdown",
   "metadata": {},
   "source": [
    "# Labels"
   ]
  },
  {
   "cell_type": "code",
   "execution_count": 6,
   "metadata": {
    "collapsed": true
   },
   "outputs": [],
   "source": [
    "#NSL TESTING LABELS\n",
    "\n",
    "#Index binary (2 clases)\n",
    "L_nsl_testing_indexbinary=pd.read_csv(\"./Final_Datasets/L_nsl_testing_indexbinary.csv\")\n",
    "#Index by Group (5 clases)\n",
    "L_nsl_testing_indexbygroup=pd.read_csv(\"./Final_Datasets/L_nsl_testing_indexbygroup.csv\")\n",
    "#Index tipe of attack (42? clases)\n",
    "L_nsl_testing_indextipeofattack=pd.read_csv(\"./Final_Datasets/L_nsl_testing_indextipeofattack.csv\")\n",
    "\n",
    "\n",
    "#nsl TRAINING LABELS\n",
    "# 2 clases\n",
    "L_nsl_training_indexbinary=pd.read_csv(\"./Final_Datasets/L_nsl_training_indexbinary.csv\")\n",
    "#Index by Group (5 clases)\n",
    "L_nsl_training_indexbygroup=pd.read_csv(\"./Final_Datasets/L_nsl_training_indexbygroup.csv\")\n",
    "#Index tipe of attack (42? clases)\n",
    "L_nsl_training_indextipeofattack=pd.read_csv(\"./Final_Datasets/L_nsl_training_indextipeofattack.csv\")"
   ]
  },
  {
   "cell_type": "markdown",
   "metadata": {},
   "source": [
    "# Conversión de Pandas->Numpy (array) not Matrix"
   ]
  },
  {
   "cell_type": "code",
   "execution_count": 455,
   "metadata": {},
   "outputs": [],
   "source": [
    "n_nsl_training=nsl_training.as_matrix(columns=None)\n",
    "n_nsl_testing=nsl_testing.as_matrix(columns=None)"
   ]
  },
  {
   "cell_type": "markdown",
   "metadata": {},
   "source": [
    "# Lectura del modelo"
   ]
  },
  {
   "cell_type": "code",
   "execution_count": 4,
   "metadata": {
    "collapsed": true
   },
   "outputs": [],
   "source": [
    "from sklearn.ensemble import RandomForestClassifier\n",
    "\n",
    "modelo=RandomForestClassifier(criterion='entropy',n_jobs=2, \n",
    "                              bootstrap=True, max_depth=10, max_features='sqrt', min_samples_leaf=2, \n",
    "                              min_samples_split=100, n_estimators=8)\n"
   ]
  },
  {
   "cell_type": "markdown",
   "metadata": {},
   "source": [
    "# Creacion de las funciones a utilizar"
   ]
  },
  {
   "cell_type": "code",
   "execution_count": 10,
   "metadata": {
    "collapsed": true
   },
   "outputs": [],
   "source": [
    "def muta_vector_binario(dimensiones_temporales,M=40):\n",
    "    \"\"\"Dimensiones temporales: vector binario que contiene las dimensiones actuales de la ultima\n",
    "        iteración probada.\n",
    "        M=cantidad total de dimensiones a mutar. Si no se otorga un número\n",
    "        M es igual a la máxima cantidad de dimensiones en NSL-KDD\"\"\"\n",
    "    #Genera tres números aleatorios entre 0 y M\n",
    "    #Dichos numeros aleatorios seran los indices a mutar entre de (dimensiones_temporales)\n",
    "    indice=sorted(random.sample(list(range(0,dimensiones_temporales.shape[1])), M))\n",
    "    #Aplica la operación negación binaria a los valores del indice\n",
    "    for numero_indice in indice:\n",
    "        if dimensiones_temporales[indice]==0:\n",
    "            dimensiones_temporales[indice]=1\n",
    "        else:\n",
    "            dimensiones_temporales[indice]=0\n",
    "    #regresa el vector mutado\n",
    "    vector_mutado=dimensiones_temporales\n",
    "    return vector_mutado\n",
    "    "
   ]
  },
  {
   "cell_type": "code",
   "execution_count": 456,
   "metadata": {
    "scrolled": true
   },
   "outputs": [
    {
     "name": "stdout",
     "output_type": "stream",
     "text": [
      "Dimensiones activas: \n",
      "(array([ 0,  7,  8,  9, 11, 13, 14, 15, 16, 17, 21, 23, 25, 26, 33, 35, 36,\n",
      "       39]),)\n",
      "Total de dimensiones activas: 18\n",
      "Porcentaje de exactitud: 0.724659539547 (accuracy score)\n"
     ]
    }
   ],
   "source": [
    "#inicio RMHC\n",
    "#M, comienza con la máxima cantidad de dimensiones posibles\n",
    "M=n_nsl_training.shape[1]\n",
    "\n",
    "\n",
    "#declaración de la primea solución del espacio de búsqueda. \n",
    "#de forma completamente aleatoria\n",
    "#La primer solución se considera la mejor en la primer iteración\n",
    "dimensiones_mejor=np.random.randint(2, size=M)\n",
    "\n",
    "#se filtra la base de datos con las dimensiones de dimensiones mejor\n",
    "#SE hacen cero las dimensiones a omitir\n",
    "#dimensiones_mejor contiene la mejor iteración, entonces es la dimensión activa\n",
    "training=n_nsl_training*dimensiones_mejor\n",
    "testing=n_nsl_testing*dimensiones_mejor\n",
    "\n",
    "#Se buscan esos ceros en el indice (dimensiones suspendidas)\n",
    "zeros=np.where(dimensiones_mejor == 0)\n",
    "\n",
    "#se obtienen los indices del los unos (dimensiones activas)\n",
    "unos=np.where(dimensiones_mejor==1)\n",
    "\n",
    "\n",
    "#se eliminan esas dimensiones\n",
    "training=np.delete(training,zeros,axis=1)\n",
    "testing=np.delete(testing,zeros,axis=1)\n",
    "\n",
    "\n",
    "#se declara un vector que contiene todas las dimensiones en cada iteración\n",
    "dimensiones_iteracion=[]\n",
    "dimensiones_iteracion.append(dimensiones_mejor)\n",
    "\n",
    "\n",
    "\n",
    "#se entrena el modelo\n",
    "modelo.fit(training,L_nsl_training_indexbinary.values.ravel())\n",
    "#se obtienen las predicciones\n",
    "predicciones=modelo.predict(testing)\n",
    "\n",
    "#se obtiene el accuracy score\n",
    "score_mejor=accuracy_score(L_nsl_testing_indexbinary,predicciones)\n",
    "#se declara un vector que contiene todos los score de todas las iteraciones\n",
    "\n",
    "score_iteracion=[]\n",
    "score_iteracion.append(score_mejor)\n",
    "\n",
    "\n",
    "print(\"Dimensiones activas: \")\n",
    "print(unos)\n",
    "print(\"Total de dimensiones activas: %s\" % np.array(unos).shape[1])\n",
    "print(\"Porcentaje de exactitud: %s (accuracy score)\" %accuracy_score(L_nsl_testing_indexbinary,predicciones))"
   ]
  },
  {
   "cell_type": "code",
   "execution_count": 457,
   "metadata": {},
   "outputs": [
    {
     "data": {
      "text/plain": [
       "(22543, 40)"
      ]
     },
     "execution_count": 457,
     "metadata": {},
     "output_type": "execute_result"
    }
   ],
   "source": [
    "n_nsl_testing.shape"
   ]
  },
  {
   "cell_type": "code",
   "execution_count": 458,
   "metadata": {},
   "outputs": [
    {
     "data": {
      "text/plain": [
       "(125973, 40)"
      ]
     },
     "execution_count": 458,
     "metadata": {},
     "output_type": "execute_result"
    }
   ],
   "source": [
    "n_nsl_training.shape"
   ]
  },
  {
   "cell_type": "code",
   "execution_count": 459,
   "metadata": {},
   "outputs": [
    {
     "data": {
      "text/plain": [
       "(125973, 18)"
      ]
     },
     "execution_count": 459,
     "metadata": {},
     "output_type": "execute_result"
    }
   ],
   "source": [
    "training.shape"
   ]
  },
  {
   "cell_type": "code",
   "execution_count": 460,
   "metadata": {},
   "outputs": [
    {
     "data": {
      "text/plain": [
       "(22543, 18)"
      ]
     },
     "execution_count": 460,
     "metadata": {},
     "output_type": "execute_result"
    }
   ],
   "source": [
    "testing.shape"
   ]
  },
  {
   "cell_type": "code",
   "execution_count": null,
   "metadata": {
    "collapsed": true
   },
   "outputs": [],
   "source": []
  },
  {
   "cell_type": "code",
   "execution_count": null,
   "metadata": {
    "collapsed": true
   },
   "outputs": [],
   "source": []
  },
  {
   "cell_type": "code",
   "execution_count": 11,
   "metadata": {
    "collapsed": true
   },
   "outputs": [],
   "source": [
    "def obtencion_parametros_binarios(vector_actual, M=40):\n",
    "    \"\"\"M=máximo número de dimensiones a mutar\n",
    "    vector_actual= vector binario, relacionado con la ultima iteracion\n",
    "    puede o no ser el mejor.\n",
    "    Regresa los zeros y unos actuales,\n",
    "    el ultimo vector binario,\n",
    "    los dataset filtrados\"\"\"\n",
    "\n",
    "    #Agregar la función para calcular M\n",
    "\n",
    "    \n",
    "    #Muta el ultimo vector\n",
    "    dimensiones_temporales=muta_vector_binario(vector_actual,M)\n",
    "\n",
    "    #se filtra la base de datos con las dimensiones de dimensiones mejor\n",
    "    #SE hacen cero las dimensiones a omitir\n",
    "    #dimensiones_temporales contiene la mejor iteración, entonces es la dimensión activa\n",
    "    training=nsl_training*dimensiones_temporales\n",
    "    testing=nsl_testing*dimensiones_temporales\n",
    "\n",
    "    #Se buscan esos ceros en el indice (dimensiones suspendidas)\n",
    "    zeros=np.where(dimensiones_temporales == 0)\n",
    "\n",
    "    #se obtienen los indices del los unos (dimensiones activas)\n",
    "    unos=np.where(dimensiones_temporales==1)\n",
    "\n",
    "    #se eliminan esas dimensiones\n",
    "    training=np.delete(training,zeros,axis=1)\n",
    "    testing=np.delete(testing,zeros,axis=1)\n",
    "\n",
    "    \n",
    "    return [dimensiones_temporales,zeros,unos,training,testing]"
   ]
  },
  {
   "cell_type": "markdown",
   "metadata": {},
   "source": [
    "# Inicio del algoritmo RMHC"
   ]
  },
  {
   "cell_type": "code",
   "execution_count": 12,
   "metadata": {
    "collapsed": true
   },
   "outputs": [],
   "source": [
    "from sklearn.ensemble import RandomForestClassifier\n",
    "\n",
    "modelo=RandomForestClassifier(criterion='entropy',n_jobs=2, \n",
    "                              bootstrap=True, max_depth=10, max_features='sqrt', min_samples_leaf=2, \n",
    "                              min_samples_split=100, n_estimators=8)\n"
   ]
  },
  {
   "cell_type": "code",
   "execution_count": 15,
   "metadata": {},
   "outputs": [
    {
     "ename": "IndexError",
     "evalue": "tuple index out of range",
     "output_type": "error",
     "traceback": [
      "\u001b[0;31m---------------------------------------------------------------------------\u001b[0m",
      "\u001b[0;31mIndexError\u001b[0m                                Traceback (most recent call last)",
      "\u001b[0;32m<ipython-input-15-2db7a9f5ac7b>\u001b[0m in \u001b[0;36m<module>\u001b[0;34m()\u001b[0m\n\u001b[1;32m     17\u001b[0m \u001b[0;34m\u001b[0m\u001b[0m\n\u001b[1;32m     18\u001b[0m \u001b[0;32mwhile\u001b[0m \u001b[0;34m(\u001b[0m\u001b[0mi\u001b[0m\u001b[0;34m<\u001b[0m\u001b[0miteraciones_maximas\u001b[0m\u001b[0;34m)\u001b[0m\u001b[0;34m:\u001b[0m\u001b[0;34m\u001b[0m\u001b[0m\n\u001b[0;32m---> 19\u001b[0;31m     \u001b[0;34m[\u001b[0m\u001b[0mdimensiones_temporales\u001b[0m\u001b[0;34m,\u001b[0m\u001b[0mzeros\u001b[0m\u001b[0;34m,\u001b[0m\u001b[0munos\u001b[0m\u001b[0;34m,\u001b[0m\u001b[0mtraining\u001b[0m\u001b[0;34m,\u001b[0m\u001b[0mtesting\u001b[0m\u001b[0;34m]\u001b[0m\u001b[0;34m=\u001b[0m\u001b[0mobtencion_parametros_binarios\u001b[0m\u001b[0;34m(\u001b[0m\u001b[0mmejor_solucion\u001b[0m\u001b[0;34m)\u001b[0m\u001b[0;34m\u001b[0m\u001b[0m\n\u001b[0m\u001b[1;32m     20\u001b[0m     \u001b[0;31m#Se evaluan los resultados\u001b[0m\u001b[0;34m\u001b[0m\u001b[0;34m\u001b[0m\u001b[0m\n\u001b[1;32m     21\u001b[0m     \u001b[0;31m#se entrena el modelo\u001b[0m\u001b[0;34m\u001b[0m\u001b[0;34m\u001b[0m\u001b[0m\n",
      "\u001b[0;32m<ipython-input-11-eea41065ca89>\u001b[0m in \u001b[0;36mobtencion_parametros_binarios\u001b[0;34m(vector_actual, M)\u001b[0m\n\u001b[1;32m     11\u001b[0m \u001b[0;34m\u001b[0m\u001b[0m\n\u001b[1;32m     12\u001b[0m     \u001b[0;31m#Muta el ultimo vector\u001b[0m\u001b[0;34m\u001b[0m\u001b[0;34m\u001b[0m\u001b[0m\n\u001b[0;32m---> 13\u001b[0;31m     \u001b[0mdimensiones_temporales\u001b[0m\u001b[0;34m=\u001b[0m\u001b[0mmuta_vector_binario\u001b[0m\u001b[0;34m(\u001b[0m\u001b[0mvector_actual\u001b[0m\u001b[0;34m,\u001b[0m\u001b[0mM\u001b[0m\u001b[0;34m)\u001b[0m\u001b[0;34m\u001b[0m\u001b[0m\n\u001b[0m\u001b[1;32m     14\u001b[0m \u001b[0;34m\u001b[0m\u001b[0m\n\u001b[1;32m     15\u001b[0m     \u001b[0;31m#se filtra la base de datos con las dimensiones de dimensiones mejor\u001b[0m\u001b[0;34m\u001b[0m\u001b[0;34m\u001b[0m\u001b[0m\n",
      "\u001b[0;32m<ipython-input-10-fa9dc43ca1da>\u001b[0m in \u001b[0;36mmuta_vector_binario\u001b[0;34m(dimensiones_temporales, M)\u001b[0m\n\u001b[1;32m      6\u001b[0m     \u001b[0;31m#Genera tres números aleatorios entre 0 y M\u001b[0m\u001b[0;34m\u001b[0m\u001b[0;34m\u001b[0m\u001b[0m\n\u001b[1;32m      7\u001b[0m     \u001b[0;31m#Dichos numeros aleatorios seran los indices a mutar entre de (dimensiones_temporales)\u001b[0m\u001b[0;34m\u001b[0m\u001b[0;34m\u001b[0m\u001b[0m\n\u001b[0;32m----> 8\u001b[0;31m     \u001b[0mindice\u001b[0m\u001b[0;34m=\u001b[0m\u001b[0msorted\u001b[0m\u001b[0;34m(\u001b[0m\u001b[0mrandom\u001b[0m\u001b[0;34m.\u001b[0m\u001b[0msample\u001b[0m\u001b[0;34m(\u001b[0m\u001b[0mlist\u001b[0m\u001b[0;34m(\u001b[0m\u001b[0mrange\u001b[0m\u001b[0;34m(\u001b[0m\u001b[0;36m0\u001b[0m\u001b[0;34m,\u001b[0m\u001b[0mdimensiones_temporales\u001b[0m\u001b[0;34m.\u001b[0m\u001b[0mshape\u001b[0m\u001b[0;34m[\u001b[0m\u001b[0;36m1\u001b[0m\u001b[0;34m]\u001b[0m\u001b[0;34m)\u001b[0m\u001b[0;34m)\u001b[0m\u001b[0;34m,\u001b[0m \u001b[0mM\u001b[0m\u001b[0;34m)\u001b[0m\u001b[0;34m)\u001b[0m\u001b[0;34m\u001b[0m\u001b[0m\n\u001b[0m\u001b[1;32m      9\u001b[0m     \u001b[0;31m#Aplica la operación negación binaria a los valores del indice\u001b[0m\u001b[0;34m\u001b[0m\u001b[0;34m\u001b[0m\u001b[0m\n\u001b[1;32m     10\u001b[0m     \u001b[0;32mfor\u001b[0m \u001b[0mnumero_indice\u001b[0m \u001b[0;32min\u001b[0m \u001b[0mindice\u001b[0m\u001b[0;34m:\u001b[0m\u001b[0;34m\u001b[0m\u001b[0m\n",
      "\u001b[0;31mIndexError\u001b[0m: tuple index out of range"
     ]
    }
   ],
   "source": [
    "i=0\n",
    "M=40\n",
    "iteraciones_maximas=10\n",
    "mejor_solucion=np.random.randint(2, size=M)\n",
    "#almacena los score de todas las iteraciones\n",
    "registro_score_iteracion=[]\n",
    "#almacena el vector binario de todas las iteraciones\n",
    "registro_dimensiones_iteracion=[]\n",
    "#almacena unicamente el score de los vectores binarios aceptados\n",
    "registro_score_valores_aceptados=[]\n",
    "#almacena el vector binario de los valores aceptados\n",
    "registro_dimensiones_valores_aceptados=[]\n",
    "#almacena el indice de las dimensiones activas de los valores aceptados\n",
    "registro_unos_valores_aceptados=[]\n",
    "\n",
    "mejor_solucion\n",
    "\n",
    "while (i<iteraciones_maximas):\n",
    "    [dimensiones_temporales,zeros,unos,training,testing]=obtencion_parametros_binarios(mejor_solucion)    \n",
    "    #Se evaluan los resultados\n",
    "    #se entrena el modelo\n",
    "    modelo.fit(training,L_nsl_training_indexbinary.values.ravel())\n",
    "    #se obtienen las predicciones\n",
    "    predicciones=modelo.predict(testing)\n",
    "\n",
    "    #se obtiene el accuracy score\n",
    "    score_actual=accuracy_score(L_nsl_testing_indexbinary,predicciones)\n",
    "    #se declara un vector que contiene todos los score de todas las iteraciones\n",
    "\n",
    "    #Se almacenan los resultados\n",
    "    registro_score_iteracion.append(score_actual)\n",
    "    registro_dimensiones_iteracion.append(dimensiones_temporales)\n",
    "    \n",
    "\n",
    "    \n",
    "    #Se imprimen los resultados\n",
    "    print(\"Dimensiones activas: \")\n",
    "    print(unos)\n",
    "    print(\"Total de dimensiones activas: %s\" % np.array(unos).shape[1])\n",
    "    print(\"Porcentaje de exactitud: %s (accuracy score)\" %accuracy_score(L_nsl_testing_indexbinary,predicciones))\n",
    "    \n",
    "    \n",
    "    i=i+1\n",
    "    "
   ]
  },
  {
   "cell_type": "code",
   "execution_count": 41,
   "metadata": {},
   "outputs": [
    {
     "data": {
      "text/plain": [
       "array([0, 1, 0, 0, 1, 1, 0, 0, 1, 0, 0, 1, 0, 1, 1, 1, 1, 0, 0, 0, 1, 0, 1,\n",
       "       1, 0, 1, 1, 1, 1, 0, 1, 1, 1, 0, 0, 0, 0, 0, 1, 1])"
      ]
     },
     "execution_count": 41,
     "metadata": {},
     "output_type": "execute_result"
    }
   ],
   "source": [
    "mejor_solucion=np.random.randint(2, size=M)\n",
    "mejor_solucion"
   ]
  },
  {
   "cell_type": "code",
   "execution_count": null,
   "metadata": {
    "collapsed": true
   },
   "outputs": [],
   "source": []
  },
  {
   "cell_type": "code",
   "execution_count": null,
   "metadata": {
    "collapsed": true
   },
   "outputs": [],
   "source": []
  },
  {
   "cell_type": "code",
   "execution_count": null,
   "metadata": {
    "collapsed": true
   },
   "outputs": [],
   "source": [
    "#evaluación del siguiente vector\n",
    "\n",
    "\n",
    "    #se eliminan esas dimensiones\n",
    "    training=np.delete(training,zeros,axis=1)\n",
    "    testing=np.delete(testing,zeros,axis=1)\n",
    "\n",
    "\n",
    "    #se declara un vector que contiene todas las dimensiones en cada iteración\n",
    "    dimensiones_iteracion=[]\n",
    "    dimensiones_iteracion.append(dimensiones_mejor)\n",
    "\n",
    "\n",
    "\n",
    "    #se entrena el modelo\n",
    "    modelo.fit(training,L_nsl_training_indexbinary.values.ravel())\n",
    "    #se obtienen las predicciones\n",
    "    predicciones=modelo.predict(testing)\n",
    "\n",
    "    #se obtiene el accuracy score\n",
    "    score_mejor=accuracy_score(L_nsl_testing_indexbinary,predicciones)\n",
    "    #se declara un vector que contiene todos los score de todas las iteraciones\n",
    "\n",
    "    score_iteracion=[]\n",
    "    score_iteracion.append(score_mejor)\n",
    "\n",
    "\n",
    "    print(\"Dimensiones activas: \")\n",
    "    print(unos)\n",
    "    print(\"Total de dimensiones activas: %s\" % np.array(unos).shape[1])\n",
    "    print(\"Porcentaje de exactitud: %s (accuracy score)\" %accuracy_score(L_nsl_testing_indexbinary,predicciones))"
   ]
  },
  {
   "cell_type": "code",
   "execution_count": 433,
   "metadata": {},
   "outputs": [
    {
     "name": "stdout",
     "output_type": "stream",
     "text": [
      "[1 1 0 1 1 0 0 0 0 1 1 1 0 0 0 0 1 1 0 0 0 1 0 1 1 1 1 1 0 0 0 1 0 1 0 1 0\n",
      " 1 0 0]\n"
     ]
    }
   ],
   "source": [
    "print(mejor_solucion)"
   ]
  },
  {
   "cell_type": "code",
   "execution_count": 444,
   "metadata": {
    "collapsed": true
   },
   "outputs": [],
   "source": [
    "def muta_vector_binario(dimensiones_temporales,M=20):\n",
    "    \"\"\"Dimensiones temporales: vector binario que contiene las dimensiones actuales de la ultima\n",
    "        iteración probada.\n",
    "        M=cantidad total de dimensiones a mutar. Si no se otorga un número\n",
    "        M es igual a la máxima cantidad de dimensiones en NSL-KDD\"\"\"\n",
    "    \n",
    "    vector_mutado=np.array(dimensiones_temporales)\n",
    "    #Genera tres números aleatorios entre 0 y M\n",
    "    #Dichos numeros aleatorios seran los indices a mutar entre de (vector_mutado)\n",
    "    indice=sorted(random.sample(list(range(0,vector_mutado.shape[0])), M))\n",
    "    print(indice)\n",
    "    #Aplica la operación negación binaria a los valores del indice\n",
    "    for numero_indice in indice:\n",
    "        if vector_mutado[numero_indice]==0:\n",
    "            vector_mutado[numero_indice]=1\n",
    "        else:\n",
    "            vector_mutado[numero_indice]=0\n",
    "    #regresa el vector mutado\n",
    "    return vector_mutado"
   ]
  },
  {
   "cell_type": "code",
   "execution_count": 451,
   "metadata": {},
   "outputs": [
    {
     "name": "stdout",
     "output_type": "stream",
     "text": [
      "[1 1 0 1 1 0 0 0 0 1 1 1 0 0 0 0 1 1 0 0 0 1 0 1 1 1 1 1 0 0 0 1 0 1 0 1 0\n",
      " 1 0 0]\n",
      "\n",
      "\n",
      "[5, 6, 7, 10, 13, 14, 16, 19, 20, 21, 22, 24, 25, 26, 28, 29, 31, 36, 38, 39]\n",
      "[1 1 0 1 1 1 1 1 0 1 0 1 0 1 1 0 0 1 0 1 1 0 1 1 0 0 0 1 1 1 0 0 0 1 0 1 1\n",
      " 1 1 1]\n"
     ]
    }
   ],
   "source": [
    "print(mejor_solucion)\n",
    "print(\"\\n\")\n",
    "test=muta_vector_binario(mejor_solucion)\n",
    "print(test)"
   ]
  },
  {
   "cell_type": "code",
   "execution_count": null,
   "metadata": {
    "collapsed": true
   },
   "outputs": [],
   "source": []
  },
  {
   "cell_type": "code",
   "execution_count": 45,
   "metadata": {},
   "outputs": [
    {
     "data": {
      "text/plain": [
       "40"
      ]
     },
     "execution_count": 45,
     "metadata": {},
     "output_type": "execute_result"
    }
   ],
   "source": [
    "mejor_solucion.shape[0]"
   ]
  },
  {
   "cell_type": "code",
   "execution_count": 163,
   "metadata": {
    "collapsed": true
   },
   "outputs": [],
   "source": [
    "dimensiones_temporales=mejor_solucion"
   ]
  },
  {
   "cell_type": "code",
   "execution_count": 162,
   "metadata": {},
   "outputs": [
    {
     "data": {
      "text/plain": [
       "[1, 8, 9, 11, 13, 15, 16, 17, 18, 20, 23, 25, 26, 28, 30, 31, 32, 34, 35, 39]"
      ]
     },
     "execution_count": 162,
     "metadata": {},
     "output_type": "execute_result"
    }
   ],
   "source": [
    "indice=sorted(random.sample(list(range(0,dimensiones_temporales.shape[0])), 20))\n",
    "indice"
   ]
  },
  {
   "cell_type": "code",
   "execution_count": 165,
   "metadata": {},
   "outputs": [
    {
     "data": {
      "text/plain": [
       "0"
      ]
     },
     "execution_count": 165,
     "metadata": {},
     "output_type": "execute_result"
    }
   ],
   "source": [
    "dimensiones_temporales[0]"
   ]
  },
  {
   "cell_type": "code",
   "execution_count": null,
   "metadata": {
    "collapsed": true
   },
   "outputs": [],
   "source": []
  }
 ],
 "metadata": {
  "kernelspec": {
   "display_name": "Python 3",
   "language": "python",
   "name": "python3"
  },
  "language_info": {
   "codemirror_mode": {
    "name": "ipython",
    "version": 3
   },
   "file_extension": ".py",
   "mimetype": "text/x-python",
   "name": "python",
   "nbconvert_exporter": "python",
   "pygments_lexer": "ipython3",
   "version": "3.6.1"
  }
 },
 "nbformat": 4,
 "nbformat_minor": 2
}
