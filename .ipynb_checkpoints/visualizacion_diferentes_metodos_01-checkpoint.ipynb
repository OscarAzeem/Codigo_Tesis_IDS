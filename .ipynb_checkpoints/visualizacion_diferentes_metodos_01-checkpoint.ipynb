{
 "cells": [
  {
   "cell_type": "code",
   "execution_count": 1,
   "metadata": {
    "collapsed": true
   },
   "outputs": [],
   "source": [
    "%matplotlib inline"
   ]
  },
  {
   "cell_type": "code",
   "execution_count": 2,
   "metadata": {},
   "outputs": [
    {
     "name": "stdout",
     "output_type": "stream",
     "text": [
      "Automatically created module for IPython interactive environment\n"
     ]
    }
   ],
   "source": [
    "print(__doc__)\n",
    "from time import time\n",
    "\n",
    "import numpy as np\n",
    "import pandas as pd\n",
    "import matplotlib.pyplot as plt\n",
    "from matplotlib import offsetbox\n",
    "from sklearn import (manifold, datasets, decomposition, ensemble,\n",
    "                     discriminant_analysis, random_projection)\n"
   ]
  },
  {
   "cell_type": "code",
   "execution_count": 3,
   "metadata": {
    "collapsed": true
   },
   "outputs": [],
   "source": [
    "#Reading all the cvs\n",
    "#Nss learning\n",
    "nsl_training=pd.read_csv('./Final_Datasets/MINMAX_FD_NSL_Tra.csv')\n",
    "#Nsl testing\n",
    "nsl_testing=pd.read_csv('./Final_Datasets/MINMAX_FD_NSL_Test.csv')\n"
   ]
  },
  {
   "cell_type": "code",
   "execution_count": 4,
   "metadata": {
    "collapsed": true
   },
   "outputs": [],
   "source": [
    "#NSL TESTING LABELS\n",
    "\n",
    "#Index binary\n",
    "L_nsl_testing_indexbinary=pd.read_csv(\"./Final_Datasets/L_nsl_testing_indexbinary.csv\")\n",
    "#Index by Group\n",
    "L_nsl_testing_indexbygroup=pd.read_csv(\"./Final_Datasets/L_nsl_testing_indexbygroup.csv\")\n",
    "#Index tipe of attack\n",
    "L_nsl_testing_indextipeofattack=pd.read_csv(\"./Final_Datasets/L_nsl_testing_indextipeofattack.csv\")\n",
    "\n",
    "\n",
    "#nsl TRAINING LABELS\n",
    "L_nsl_training_indexbinary=pd.read_csv(\"./Final_Datasets/L_nsl_training_indexbinary.csv\")\n",
    "#Index by Group\n",
    "L_nsl_training_indexbygroup=pd.read_csv(\"./Final_Datasets/L_nsl_training_indexbygroup.csv\")\n",
    "#Index tipe of attack\n",
    "L_nsl_training_indextipeofattack=pd.read_csv(\"./Final_Datasets/L_nsl_training_indextipeofattack.csv\")"
   ]
  },
  {
   "cell_type": "code",
   "execution_count": 5,
   "metadata": {
    "collapsed": true
   },
   "outputs": [],
   "source": [
    "#converting to numpy"
   ]
  },
  {
   "cell_type": "code",
   "execution_count": 6,
   "metadata": {
    "collapsed": true
   },
   "outputs": [],
   "source": [
    "X=nsl_training.values\n",
    "y=L_nsl_training_indexbinary.values.T"
   ]
  },
  {
   "cell_type": "code",
   "execution_count": 7,
   "metadata": {
    "collapsed": true
   },
   "outputs": [],
   "source": [
    "#selecting just a few rows\n",
    "X=X[0:500,:]\n",
    "y=y[0:500,:]"
   ]
  },
  {
   "cell_type": "code",
   "execution_count": 14,
   "metadata": {},
   "outputs": [],
   "source": [
    "def ploteo(X,y,dimensiones,title=None):\n",
    "    \"\"\"X, despues de haber sido aplicada la transformación. y, Labels actuales\n",
    "    X,y-> arreglo numpy\"\"\"\n",
    "    #normalizando la transformación (despues de ser normalizada)\n",
    "    x_min,x_max=np.min(X,0),np.max(X,0)\n",
    "    X=(X-x_min)/(x_max-x_min)\n",
    "    plt.figure()\n",
    "    ax=plt.subplot(111)\n",
    "    final=X.shape[0]-1\n",
    "    print('el valor final es: %d' %final)\n",
    "    for i in list(range(0,final)):\n",
    "        plt.text(X[i, 0], X[i, 1], str(y[0,i]),\n",
    "                 color=plt.cm.Set1(y[0,i] / dimensiones),\n",
    "                 fontdict={'weight': 'bold', 'size': 9})\n",
    "    plt.xticks([]),plt.yticks([])\n",
    "    if title is not None:\n",
    "        plt.title(title)\n",
    "    "
   ]
  },
  {
   "cell_type": "code",
   "execution_count": 15,
   "metadata": {
    "scrolled": true
   },
   "outputs": [
    {
     "name": "stdout",
     "output_type": "stream",
     "text": [
      "Computing PCA projection\n",
      "el valor final es: 499\n"
     ]
    },
    {
     "data": {
      "image/png": "[encoded data removed]",
      "text/plain": [
       "<matplotlib.figure.Figure at 0x11ad05c50>"
      ]
     },
     "metadata": {},
     "output_type": "display_data"
    }
   ],
   "source": [
    "print(\"Computing PCA projection\")\n",
    "t0 = time()\n",
    "X_pca = decomposition.TruncatedSVD(n_components=2).fit_transform(X)\n",
    "ploteo(X_pca,y,2,\"Principal Components projection of the digits (time %.2fs)\" % (time() - t0))\n",
    "plt.show()"
   ]
  },
  {
   "cell_type": "code",
   "execution_count": null,
   "metadata": {
    "collapsed": true
   },
   "outputs": [],
   "source": []
  },
  {
   "cell_type": "code",
   "execution_count": null,
   "metadata": {
    "collapsed": true
   },
   "outputs": [],
   "source": []
  },
  {
   "cell_type": "code",
   "execution_count": null,
   "metadata": {
    "collapsed": true
   },
   "outputs": [],
   "source": []
  },
  {
   "cell_type": "code",
   "execution_count": null,
   "metadata": {
    "collapsed": true
   },
   "outputs": [],
   "source": []
  },
  {
   "cell_type": "code",
   "execution_count": null,
   "metadata": {
    "collapsed": true
   },
   "outputs": [],
   "source": []
  },
  {
   "cell_type": "code",
   "execution_count": null,
   "metadata": {
    "collapsed": true
   },
   "outputs": [],
   "source": []
  },
  {
   "cell_type": "code",
   "execution_count": null,
   "metadata": {
    "collapsed": true
   },
   "outputs": [],
   "source": []
  },
  {
   "cell_type": "code",
   "execution_count": null,
   "metadata": {
    "collapsed": true
   },
   "outputs": [],
   "source": []
  },
  {
   "cell_type": "code",
   "execution_count": null,
   "metadata": {
    "collapsed": true
   },
   "outputs": [],
   "source": []
  },
  {
   "cell_type": "code",
   "execution_count": null,
   "metadata": {
    "collapsed": true
   },
   "outputs": [],
   "source": []
  },
  {
   "cell_type": "code",
   "execution_count": null,
   "metadata": {
    "collapsed": true
   },
   "outputs": [],
   "source": []
  },
  {
   "cell_type": "code",
   "execution_count": null,
   "metadata": {
    "collapsed": true
   },
   "outputs": [],
   "source": []
  },
  {
   "cell_type": "code",
   "execution_count": null,
   "metadata": {
    "collapsed": true
   },
   "outputs": [],
   "source": []
  },
  {
   "cell_type": "code",
   "execution_count": null,
   "metadata": {
    "collapsed": true
   },
   "outputs": [],
   "source": []
  },
  {
   "cell_type": "code",
   "execution_count": null,
   "metadata": {
    "collapsed": true
   },
   "outputs": [],
   "source": []
  },
  {
   "cell_type": "code",
   "execution_count": null,
   "metadata": {
    "collapsed": true
   },
   "outputs": [],
   "source": []
  },
  {
   "cell_type": "code",
   "execution_count": null,
   "metadata": {
    "collapsed": true
   },
   "outputs": [],
   "source": []
  },
  {
   "cell_type": "code",
   "execution_count": null,
   "metadata": {
    "collapsed": true
   },
   "outputs": [],
   "source": []
  },
  {
   "cell_type": "code",
   "execution_count": null,
   "metadata": {
    "collapsed": true
   },
   "outputs": [],
   "source": []
  },
  {
   "cell_type": "code",
   "execution_count": 70,
   "metadata": {},
   "outputs": [
    {
     "data": {
      "text/plain": [
       "(125973, 2)"
      ]
     },
     "execution_count": 70,
     "metadata": {},
     "output_type": "execute_result"
    }
   ],
   "source": [
    "X_pca.shape"
   ]
  },
  {
   "cell_type": "code",
   "execution_count": 30,
   "metadata": {},
   "outputs": [
    {
     "data": {
      "text/plain": [
       "numpy.ndarray"
      ]
     },
     "execution_count": 30,
     "metadata": {},
     "output_type": "execute_result"
    }
   ],
   "source": [
    "type(y)"
   ]
  },
  {
   "cell_type": "code",
   "execution_count": 31,
   "metadata": {},
   "outputs": [
    {
     "data": {
      "text/plain": [
       "numpy.ndarray"
      ]
     },
     "execution_count": 31,
     "metadata": {},
     "output_type": "execute_result"
    }
   ],
   "source": [
    "type(X)"
   ]
  },
  {
   "cell_type": "code",
   "execution_count": 33,
   "metadata": {},
   "outputs": [
    {
     "data": {
      "text/plain": [
       "array([[1, 1, 0, ..., 1, 0, 1]])"
      ]
     },
     "execution_count": 33,
     "metadata": {},
     "output_type": "execute_result"
    }
   ],
   "source": [
    "y.T"
   ]
  },
  {
   "cell_type": "code",
   "execution_count": 35,
   "metadata": {},
   "outputs": [
    {
     "data": {
      "text/plain": [
       "(125973, 40)"
      ]
     },
     "execution_count": 35,
     "metadata": {},
     "output_type": "execute_result"
    }
   ],
   "source": [
    "X.shape"
   ]
  },
  {
   "cell_type": "code",
   "execution_count": 37,
   "metadata": {},
   "outputs": [
    {
     "data": {
      "text/plain": [
       "0.0"
      ]
     },
     "execution_count": 37,
     "metadata": {},
     "output_type": "execute_result"
    }
   ],
   "source": [
    "X[0,0]"
   ]
  },
  {
   "cell_type": "code",
   "execution_count": 38,
   "metadata": {},
   "outputs": [
    {
     "data": {
      "text/plain": [
       "0.0"
      ]
     },
     "execution_count": 38,
     "metadata": {},
     "output_type": "execute_result"
    }
   ],
   "source": [
    "X[0,1]"
   ]
  },
  {
   "cell_type": "code",
   "execution_count": 39,
   "metadata": {},
   "outputs": [
    {
     "data": {
      "text/plain": [
       "0.0"
      ]
     },
     "execution_count": 39,
     "metadata": {},
     "output_type": "execute_result"
    }
   ],
   "source": [
    "X[1,0]"
   ]
  },
  {
   "cell_type": "code",
   "execution_count": 40,
   "metadata": {},
   "outputs": [
    {
     "data": {
      "text/plain": [
       "array([[ 0.        ,  0.        ,  0.        , ...,  0.        ,\n",
       "         0.05      ,  0.        ],\n",
       "       [ 0.        ,  1.        ,  0.01449275, ...,  0.        ,\n",
       "         0.        ,  0.        ],\n",
       "       [ 0.        ,  0.        ,  0.02898551, ...,  1.        ,\n",
       "         0.        ,  0.        ],\n",
       "       ..., \n",
       "       [ 0.        ,  0.        ,  0.2173913 , ...,  0.        ,\n",
       "         0.01      ,  0.        ],\n",
       "       [ 0.        ,  0.        ,  0.50724638, ...,  1.        ,\n",
       "         0.        ,  0.        ],\n",
       "       [ 0.        ,  0.        ,  0.        , ...,  0.        ,\n",
       "         0.        ,  0.        ]])"
      ]
     },
     "execution_count": 40,
     "metadata": {},
     "output_type": "execute_result"
    }
   ],
   "source": [
    "X"
   ]
  },
  {
   "cell_type": "code",
   "execution_count": 8,
   "metadata": {},
   "outputs": [
    {
     "data": {
      "text/plain": [
       "(125973, 40)"
      ]
     },
     "execution_count": 8,
     "metadata": {},
     "output_type": "execute_result"
    }
   ],
   "source": [
    "X.shape"
   ]
  },
  {
   "cell_type": "code",
   "execution_count": 9,
   "metadata": {},
   "outputs": [
    {
     "data": {
      "text/plain": [
       "(1, 22543)"
      ]
     },
     "execution_count": 9,
     "metadata": {},
     "output_type": "execute_result"
    }
   ],
   "source": [
    "y.shape"
   ]
  },
  {
   "cell_type": "code",
   "execution_count": 19,
   "metadata": {},
   "outputs": [
    {
     "data": {
      "text/plain": [
       "1"
      ]
     },
     "execution_count": 19,
     "metadata": {},
     "output_type": "execute_result"
    }
   ],
   "source": [
    "y[0,22542]"
   ]
  },
  {
   "cell_type": "code",
   "execution_count": 20,
   "metadata": {},
   "outputs": [
    {
     "data": {
      "text/plain": [
       "125972"
      ]
     },
     "execution_count": 20,
     "metadata": {},
     "output_type": "execute_result"
    }
   ],
   "source": [
    "X.shape[0]-1"
   ]
  },
  {
   "cell_type": "code",
   "execution_count": 50,
   "metadata": {},
   "outputs": [
    {
     "data": {
      "text/html": [
       "<div>\n",
       "<style>\n",
       "    .dataframe thead tr:only-child th {\n",
       "        text-align: right;\n",
       "    }\n",
       "\n",
       "    .dataframe thead th {\n",
       "        text-align: left;\n",
       "    }\n",
       "\n",
       "    .dataframe tbody tr th {\n",
       "        vertical-align: top;\n",
       "    }\n",
       "</style>\n",
       "<table border=\"1\" class=\"dataframe\">\n",
       "  <thead>\n",
       "    <tr style=\"text-align: right;\">\n",
       "      <th></th>\n",
       "      <th>Duration</th>\n",
       "      <th>ProtocolType</th>\n",
       "      <th>Service</th>\n",
       "      <th>Flag</th>\n",
       "      <th>SourceBytes</th>\n",
       "      <th>DestinationBytes</th>\n",
       "      <th>Land</th>\n",
       "      <th>WrongFragment</th>\n",
       "      <th>Urgent</th>\n",
       "      <th>Hot</th>\n",
       "      <th>...</th>\n",
       "      <th>DstHostCount</th>\n",
       "      <th>DstHostSrvCount</th>\n",
       "      <th>DstHostSameSrvRate</th>\n",
       "      <th>DstHostDiffSrvRate</th>\n",
       "      <th>DstHostSameSrcPortRate</th>\n",
       "      <th>DstHostSrvDiffHostRate</th>\n",
       "      <th>DstHostSerrorRate</th>\n",
       "      <th>DstHostSrvSerrorRate</th>\n",
       "      <th>DstHostRerrorRate</th>\n",
       "      <th>DstHostSrvRerrorRate</th>\n",
       "    </tr>\n",
       "  </thead>\n",
       "  <tbody>\n",
       "    <tr>\n",
       "      <th>0</th>\n",
       "      <td>0.0</td>\n",
       "      <td>0.0</td>\n",
       "      <td>0.000000</td>\n",
       "      <td>0.1</td>\n",
       "      <td>3.558064e-07</td>\n",
       "      <td>0.0</td>\n",
       "      <td>0.0</td>\n",
       "      <td>0.0</td>\n",
       "      <td>0.0</td>\n",
       "      <td>0.0</td>\n",
       "      <td>...</td>\n",
       "      <td>0.588235</td>\n",
       "      <td>0.098039</td>\n",
       "      <td>0.17</td>\n",
       "      <td>0.03</td>\n",
       "      <td>0.17</td>\n",
       "      <td>0.0</td>\n",
       "      <td>0.0</td>\n",
       "      <td>0.0</td>\n",
       "      <td>0.05</td>\n",
       "      <td>0.0</td>\n",
       "    </tr>\n",
       "    <tr>\n",
       "      <th>1</th>\n",
       "      <td>0.0</td>\n",
       "      <td>1.0</td>\n",
       "      <td>0.014493</td>\n",
       "      <td>0.1</td>\n",
       "      <td>1.057999e-07</td>\n",
       "      <td>0.0</td>\n",
       "      <td>0.0</td>\n",
       "      <td>0.0</td>\n",
       "      <td>0.0</td>\n",
       "      <td>0.0</td>\n",
       "      <td>...</td>\n",
       "      <td>1.000000</td>\n",
       "      <td>0.003922</td>\n",
       "      <td>0.00</td>\n",
       "      <td>0.60</td>\n",
       "      <td>0.88</td>\n",
       "      <td>0.0</td>\n",
       "      <td>0.0</td>\n",
       "      <td>0.0</td>\n",
       "      <td>0.00</td>\n",
       "      <td>0.0</td>\n",
       "    </tr>\n",
       "    <tr>\n",
       "      <th>2</th>\n",
       "      <td>0.0</td>\n",
       "      <td>0.0</td>\n",
       "      <td>0.028986</td>\n",
       "      <td>0.3</td>\n",
       "      <td>0.000000e+00</td>\n",
       "      <td>0.0</td>\n",
       "      <td>0.0</td>\n",
       "      <td>0.0</td>\n",
       "      <td>0.0</td>\n",
       "      <td>0.0</td>\n",
       "      <td>...</td>\n",
       "      <td>1.000000</td>\n",
       "      <td>0.101961</td>\n",
       "      <td>0.10</td>\n",
       "      <td>0.05</td>\n",
       "      <td>0.00</td>\n",
       "      <td>0.0</td>\n",
       "      <td>1.0</td>\n",
       "      <td>1.0</td>\n",
       "      <td>0.00</td>\n",
       "      <td>0.0</td>\n",
       "    </tr>\n",
       "  </tbody>\n",
       "</table>\n",
       "<p>3 rows × 40 columns</p>\n",
       "</div>"
      ],
      "text/plain": [
       "   Duration  ProtocolType   Service  Flag   SourceBytes  DestinationBytes  \\\n",
       "0       0.0           0.0  0.000000   0.1  3.558064e-07               0.0   \n",
       "1       0.0           1.0  0.014493   0.1  1.057999e-07               0.0   \n",
       "2       0.0           0.0  0.028986   0.3  0.000000e+00               0.0   \n",
       "\n",
       "   Land  WrongFragment  Urgent  Hot          ...           DstHostCount  \\\n",
       "0   0.0            0.0     0.0  0.0          ...               0.588235   \n",
       "1   0.0            0.0     0.0  0.0          ...               1.000000   \n",
       "2   0.0            0.0     0.0  0.0          ...               1.000000   \n",
       "\n",
       "   DstHostSrvCount  DstHostSameSrvRate  DstHostDiffSrvRate  \\\n",
       "0         0.098039                0.17                0.03   \n",
       "1         0.003922                0.00                0.60   \n",
       "2         0.101961                0.10                0.05   \n",
       "\n",
       "   DstHostSameSrcPortRate  DstHostSrvDiffHostRate  DstHostSerrorRate  \\\n",
       "0                    0.17                     0.0                0.0   \n",
       "1                    0.88                     0.0                0.0   \n",
       "2                    0.00                     0.0                1.0   \n",
       "\n",
       "   DstHostSrvSerrorRate  DstHostRerrorRate  DstHostSrvRerrorRate  \n",
       "0                   0.0               0.05                   0.0  \n",
       "1                   0.0               0.00                   0.0  \n",
       "2                   1.0               0.00                   0.0  \n",
       "\n",
       "[3 rows x 40 columns]"
      ]
     },
     "execution_count": 50,
     "metadata": {},
     "output_type": "execute_result"
    }
   ],
   "source": [
    "nsl_training.head(3)"
   ]
  },
  {
   "cell_type": "code",
   "execution_count": 15,
   "metadata": {
    "scrolled": true
   },
   "outputs": [
    {
     "name": "stdout",
     "output_type": "stream",
     "text": [
      "Computing PCA projection\n",
      "el valor final es: 125972\n"
     ]
    },
    {
     "data": {
      "image/png": "[encoded data removed]",
      "text/plain": [
       "<matplotlib.figure.Figure at 0x1084a3da0>"
      ]
     },
     "metadata": {},
     "output_type": "display_data"
    }
   ],
   "source": [
    "print(\"Computing PCA projection\")\n",
    "t0 = time()\n",
    "X_pca = decomposition.TruncatedSVD(n_components=2).fit_transform(X)\n",
    "ploteo(X_pca,y,\"Principal Components projection of the digits (time %.2fs)\" % (time() - t0))\n",
    "plt.show()"
   ]
  },
  {
   "cell_type": "code",
   "execution_count": 51,
   "metadata": {
    "scrolled": true
   },
   "outputs": [
    {
     "data": {
      "text/html": [
       "<div>\n",
       "<style>\n",
       "    .dataframe thead tr:only-child th {\n",
       "        text-align: right;\n",
       "    }\n",
       "\n",
       "    .dataframe thead th {\n",
       "        text-align: left;\n",
       "    }\n",
       "\n",
       "    .dataframe tbody tr th {\n",
       "        vertical-align: top;\n",
       "    }\n",
       "</style>\n",
       "<table border=\"1\" class=\"dataframe\">\n",
       "  <thead>\n",
       "    <tr style=\"text-align: right;\">\n",
       "      <th></th>\n",
       "      <th>Duration</th>\n",
       "      <th>ProtocolType</th>\n",
       "      <th>Service</th>\n",
       "      <th>Flag</th>\n",
       "      <th>SourceBytes</th>\n",
       "      <th>DestinationBytes</th>\n",
       "      <th>Land</th>\n",
       "      <th>WrongFragment</th>\n",
       "      <th>Urgent</th>\n",
       "      <th>Hot</th>\n",
       "      <th>...</th>\n",
       "      <th>DstHostCount</th>\n",
       "      <th>DstHostSrvCount</th>\n",
       "      <th>DstHostSameSrvRate</th>\n",
       "      <th>DstHostDiffSrvRate</th>\n",
       "      <th>DstHostSameSrcPortRate</th>\n",
       "      <th>DstHostSrvDiffHostRate</th>\n",
       "      <th>DstHostSerrorRate</th>\n",
       "      <th>DstHostSrvSerrorRate</th>\n",
       "      <th>DstHostRerrorRate</th>\n",
       "      <th>DstHostSrvRerrorRate</th>\n",
       "    </tr>\n",
       "  </thead>\n",
       "  <tbody>\n",
       "    <tr>\n",
       "      <th>0</th>\n",
       "      <td>0.0</td>\n",
       "      <td>0.0</td>\n",
       "      <td>0.016129</td>\n",
       "      <td>0.1</td>\n",
       "      <td>3.558064e-07</td>\n",
       "      <td>0.0</td>\n",
       "      <td>0.0</td>\n",
       "      <td>0.0</td>\n",
       "      <td>0.0</td>\n",
       "      <td>0.0</td>\n",
       "      <td>...</td>\n",
       "      <td>0.588235</td>\n",
       "      <td>0.098039</td>\n",
       "      <td>0.17</td>\n",
       "      <td>0.03</td>\n",
       "      <td>0.17</td>\n",
       "      <td>0.0</td>\n",
       "      <td>0.0</td>\n",
       "      <td>0.0</td>\n",
       "      <td>0.05</td>\n",
       "      <td>0.0</td>\n",
       "    </tr>\n",
       "    <tr>\n",
       "      <th>1</th>\n",
       "      <td>0.0</td>\n",
       "      <td>1.0</td>\n",
       "      <td>0.274194</td>\n",
       "      <td>0.1</td>\n",
       "      <td>1.057999e-07</td>\n",
       "      <td>0.0</td>\n",
       "      <td>0.0</td>\n",
       "      <td>0.0</td>\n",
       "      <td>0.0</td>\n",
       "      <td>0.0</td>\n",
       "      <td>...</td>\n",
       "      <td>1.000000</td>\n",
       "      <td>0.003922</td>\n",
       "      <td>0.00</td>\n",
       "      <td>0.60</td>\n",
       "      <td>0.88</td>\n",
       "      <td>0.0</td>\n",
       "      <td>0.0</td>\n",
       "      <td>0.0</td>\n",
       "      <td>0.00</td>\n",
       "      <td>0.0</td>\n",
       "    </tr>\n",
       "    <tr>\n",
       "      <th>2</th>\n",
       "      <td>0.0</td>\n",
       "      <td>0.0</td>\n",
       "      <td>0.000000</td>\n",
       "      <td>0.3</td>\n",
       "      <td>0.000000e+00</td>\n",
       "      <td>0.0</td>\n",
       "      <td>0.0</td>\n",
       "      <td>0.0</td>\n",
       "      <td>0.0</td>\n",
       "      <td>0.0</td>\n",
       "      <td>...</td>\n",
       "      <td>1.000000</td>\n",
       "      <td>0.101961</td>\n",
       "      <td>0.10</td>\n",
       "      <td>0.05</td>\n",
       "      <td>0.00</td>\n",
       "      <td>0.0</td>\n",
       "      <td>1.0</td>\n",
       "      <td>1.0</td>\n",
       "      <td>0.00</td>\n",
       "      <td>0.0</td>\n",
       "    </tr>\n",
       "  </tbody>\n",
       "</table>\n",
       "<p>3 rows × 40 columns</p>\n",
       "</div>"
      ],
      "text/plain": [
       "   Duration  ProtocolType   Service  Flag   SourceBytes  DestinationBytes  \\\n",
       "0       0.0           0.0  0.016129   0.1  3.558064e-07               0.0   \n",
       "1       0.0           1.0  0.274194   0.1  1.057999e-07               0.0   \n",
       "2       0.0           0.0  0.000000   0.3  0.000000e+00               0.0   \n",
       "\n",
       "   Land  WrongFragment  Urgent  Hot          ...           DstHostCount  \\\n",
       "0   0.0            0.0     0.0  0.0          ...               0.588235   \n",
       "1   0.0            0.0     0.0  0.0          ...               1.000000   \n",
       "2   0.0            0.0     0.0  0.0          ...               1.000000   \n",
       "\n",
       "   DstHostSrvCount  DstHostSameSrvRate  DstHostDiffSrvRate  \\\n",
       "0         0.098039                0.17                0.03   \n",
       "1         0.003922                0.00                0.60   \n",
       "2         0.101961                0.10                0.05   \n",
       "\n",
       "   DstHostSameSrcPortRate  DstHostSrvDiffHostRate  DstHostSerrorRate  \\\n",
       "0                    0.17                     0.0                0.0   \n",
       "1                    0.88                     0.0                0.0   \n",
       "2                    0.00                     0.0                1.0   \n",
       "\n",
       "   DstHostSrvSerrorRate  DstHostRerrorRate  DstHostSrvRerrorRate  \n",
       "0                   0.0               0.05                   0.0  \n",
       "1                   0.0               0.00                   0.0  \n",
       "2                   1.0               0.00                   0.0  \n",
       "\n",
       "[3 rows x 40 columns]"
      ]
     },
     "execution_count": 51,
     "metadata": {},
     "output_type": "execute_result"
    }
   ],
   "source": [
    "d.head(3)"
   ]
  },
  {
   "cell_type": "code",
   "execution_count": 42,
   "metadata": {
    "collapsed": true
   },
   "outputs": [],
   "source": [
    "STD_nsl_training=pd.read_csv('./Final_Datasets/STD_FD_NSL_Tra.csv')"
   ]
  },
  {
   "cell_type": "code",
   "execution_count": 45,
   "metadata": {},
   "outputs": [
    {
     "data": {
      "text/html": [
       "<div>\n",
       "<style>\n",
       "    .dataframe thead tr:only-child th {\n",
       "        text-align: right;\n",
       "    }\n",
       "\n",
       "    .dataframe thead th {\n",
       "        text-align: left;\n",
       "    }\n",
       "\n",
       "    .dataframe tbody tr th {\n",
       "        vertical-align: top;\n",
       "    }\n",
       "</style>\n",
       "<table border=\"1\" class=\"dataframe\">\n",
       "  <thead>\n",
       "    <tr style=\"text-align: right;\">\n",
       "      <th></th>\n",
       "      <th>Duration</th>\n",
       "      <th>ProtocolType</th>\n",
       "      <th>Service</th>\n",
       "      <th>Flag</th>\n",
       "      <th>SourceBytes</th>\n",
       "      <th>DestinationBytes</th>\n",
       "      <th>Land</th>\n",
       "      <th>WrongFragment</th>\n",
       "      <th>Urgent</th>\n",
       "      <th>Hot</th>\n",
       "      <th>...</th>\n",
       "      <th>DstHostCount</th>\n",
       "      <th>DstHostSrvCount</th>\n",
       "      <th>DstHostSameSrvRate</th>\n",
       "      <th>DstHostDiffSrvRate</th>\n",
       "      <th>DstHostSameSrcPortRate</th>\n",
       "      <th>DstHostSrvDiffHostRate</th>\n",
       "      <th>DstHostSerrorRate</th>\n",
       "      <th>DstHostSrvSerrorRate</th>\n",
       "      <th>DstHostRerrorRate</th>\n",
       "      <th>DstHostSrvRerrorRate</th>\n",
       "    </tr>\n",
       "  </thead>\n",
       "  <tbody>\n",
       "    <tr>\n",
       "      <th>0</th>\n",
       "      <td>-0.110249</td>\n",
       "      <td>-0.453175</td>\n",
       "      <td>-0.792078</td>\n",
       "      <td>-0.500327</td>\n",
       "      <td>-0.007679</td>\n",
       "      <td>-0.004919</td>\n",
       "      <td>-0.014089</td>\n",
       "      <td>-0.089486</td>\n",
       "      <td>-0.007736</td>\n",
       "      <td>-0.095076</td>\n",
       "      <td>...</td>\n",
       "      <td>-0.324063</td>\n",
       "      <td>-0.818890</td>\n",
       "      <td>-0.782367</td>\n",
       "      <td>-0.280282</td>\n",
       "      <td>0.069972</td>\n",
       "      <td>-0.289103</td>\n",
       "      <td>-0.639532</td>\n",
       "      <td>-0.624871</td>\n",
       "      <td>-0.224532</td>\n",
       "      <td>-0.376387</td>\n",
       "    </tr>\n",
       "    <tr>\n",
       "      <th>1</th>\n",
       "      <td>-0.110249</td>\n",
       "      <td>2.529705</td>\n",
       "      <td>-0.713710</td>\n",
       "      <td>-0.500327</td>\n",
       "      <td>-0.007737</td>\n",
       "      <td>-0.004919</td>\n",
       "      <td>-0.014089</td>\n",
       "      <td>-0.089486</td>\n",
       "      <td>-0.007736</td>\n",
       "      <td>-0.095076</td>\n",
       "      <td>...</td>\n",
       "      <td>0.734343</td>\n",
       "      <td>-1.035688</td>\n",
       "      <td>-1.161030</td>\n",
       "      <td>2.736852</td>\n",
       "      <td>2.367737</td>\n",
       "      <td>-0.289103</td>\n",
       "      <td>-0.639532</td>\n",
       "      <td>-0.624871</td>\n",
       "      <td>-0.387635</td>\n",
       "      <td>-0.376387</td>\n",
       "    </tr>\n",
       "    <tr>\n",
       "      <th>2</th>\n",
       "      <td>-0.110249</td>\n",
       "      <td>-0.453175</td>\n",
       "      <td>-0.635342</td>\n",
       "      <td>1.222259</td>\n",
       "      <td>-0.007762</td>\n",
       "      <td>-0.004919</td>\n",
       "      <td>-0.014089</td>\n",
       "      <td>-0.089486</td>\n",
       "      <td>-0.007736</td>\n",
       "      <td>-0.095076</td>\n",
       "      <td>...</td>\n",
       "      <td>0.734343</td>\n",
       "      <td>-0.809857</td>\n",
       "      <td>-0.938287</td>\n",
       "      <td>-0.174417</td>\n",
       "      <td>-0.480197</td>\n",
       "      <td>-0.289103</td>\n",
       "      <td>1.608759</td>\n",
       "      <td>1.618955</td>\n",
       "      <td>-0.387635</td>\n",
       "      <td>-0.376387</td>\n",
       "    </tr>\n",
       "    <tr>\n",
       "      <th>3</th>\n",
       "      <td>-0.110249</td>\n",
       "      <td>-0.453175</td>\n",
       "      <td>-0.556973</td>\n",
       "      <td>-0.500327</td>\n",
       "      <td>-0.007723</td>\n",
       "      <td>-0.002891</td>\n",
       "      <td>-0.014089</td>\n",
       "      <td>-0.089486</td>\n",
       "      <td>-0.007736</td>\n",
       "      <td>-0.095076</td>\n",
       "      <td>...</td>\n",
       "      <td>-1.533670</td>\n",
       "      <td>1.258754</td>\n",
       "      <td>1.066401</td>\n",
       "      <td>-0.439078</td>\n",
       "      <td>-0.383108</td>\n",
       "      <td>0.066252</td>\n",
       "      <td>-0.572083</td>\n",
       "      <td>-0.602433</td>\n",
       "      <td>-0.387635</td>\n",
       "      <td>-0.345084</td>\n",
       "    </tr>\n",
       "    <tr>\n",
       "      <th>4</th>\n",
       "      <td>-0.110249</td>\n",
       "      <td>-0.453175</td>\n",
       "      <td>-0.556973</td>\n",
       "      <td>-0.500327</td>\n",
       "      <td>-0.007728</td>\n",
       "      <td>-0.004814</td>\n",
       "      <td>-0.014089</td>\n",
       "      <td>-0.089486</td>\n",
       "      <td>-0.007736</td>\n",
       "      <td>-0.095076</td>\n",
       "      <td>...</td>\n",
       "      <td>0.734343</td>\n",
       "      <td>1.258754</td>\n",
       "      <td>1.066401</td>\n",
       "      <td>-0.439078</td>\n",
       "      <td>-0.480197</td>\n",
       "      <td>-0.289103</td>\n",
       "      <td>-0.639532</td>\n",
       "      <td>-0.624871</td>\n",
       "      <td>-0.387635</td>\n",
       "      <td>-0.376387</td>\n",
       "    </tr>\n",
       "  </tbody>\n",
       "</table>\n",
       "<p>5 rows × 40 columns</p>\n",
       "</div>"
      ],
      "text/plain": [
       "   Duration  ProtocolType   Service      Flag  SourceBytes  DestinationBytes  \\\n",
       "0 -0.110249     -0.453175 -0.792078 -0.500327    -0.007679         -0.004919   \n",
       "1 -0.110249      2.529705 -0.713710 -0.500327    -0.007737         -0.004919   \n",
       "2 -0.110249     -0.453175 -0.635342  1.222259    -0.007762         -0.004919   \n",
       "3 -0.110249     -0.453175 -0.556973 -0.500327    -0.007723         -0.002891   \n",
       "4 -0.110249     -0.453175 -0.556973 -0.500327    -0.007728         -0.004814   \n",
       "\n",
       "       Land  WrongFragment    Urgent       Hot          ...           \\\n",
       "0 -0.014089      -0.089486 -0.007736 -0.095076          ...            \n",
       "1 -0.014089      -0.089486 -0.007736 -0.095076          ...            \n",
       "2 -0.014089      -0.089486 -0.007736 -0.095076          ...            \n",
       "3 -0.014089      -0.089486 -0.007736 -0.095076          ...            \n",
       "4 -0.014089      -0.089486 -0.007736 -0.095076          ...            \n",
       "\n",
       "   DstHostCount  DstHostSrvCount  DstHostSameSrvRate  DstHostDiffSrvRate  \\\n",
       "0     -0.324063        -0.818890           -0.782367           -0.280282   \n",
       "1      0.734343        -1.035688           -1.161030            2.736852   \n",
       "2      0.734343        -0.809857           -0.938287           -0.174417   \n",
       "3     -1.533670         1.258754            1.066401           -0.439078   \n",
       "4      0.734343         1.258754            1.066401           -0.439078   \n",
       "\n",
       "   DstHostSameSrcPortRate  DstHostSrvDiffHostRate  DstHostSerrorRate  \\\n",
       "0                0.069972               -0.289103          -0.639532   \n",
       "1                2.367737               -0.289103          -0.639532   \n",
       "2               -0.480197               -0.289103           1.608759   \n",
       "3               -0.383108                0.066252          -0.572083   \n",
       "4               -0.480197               -0.289103          -0.639532   \n",
       "\n",
       "   DstHostSrvSerrorRate  DstHostRerrorRate  DstHostSrvRerrorRate  \n",
       "0             -0.624871          -0.224532             -0.376387  \n",
       "1             -0.624871          -0.387635             -0.376387  \n",
       "2              1.618955          -0.387635             -0.376387  \n",
       "3             -0.602433          -0.387635             -0.345084  \n",
       "4             -0.624871          -0.387635             -0.376387  \n",
       "\n",
       "[5 rows x 40 columns]"
      ]
     },
     "execution_count": 45,
     "metadata": {},
     "output_type": "execute_result"
    }
   ],
   "source": [
    "STD_nsl_training.head()"
   ]
  },
  {
   "cell_type": "code",
   "execution_count": 46,
   "metadata": {
    "collapsed": true
   },
   "outputs": [],
   "source": [
    "SV=STD_nsl_training.values"
   ]
  },
  {
   "cell_type": "code",
   "execution_count": 47,
   "metadata": {},
   "outputs": [
    {
     "data": {
      "text/plain": [
       "array([[-0.11024922, -0.45317535, -0.79207837, ..., -0.6248708 ,\n",
       "        -0.22453241, -0.37638703],\n",
       "       [-0.11024922,  2.52970516, -0.71370994, ..., -0.6248708 ,\n",
       "        -0.38763462, -0.37638703],\n",
       "       [-0.11024922, -0.45317535, -0.63534151, ...,  1.6189552 ,\n",
       "        -0.38763462, -0.37638703],\n",
       "       ..., \n",
       "       [-0.11024922, -0.45317535,  0.38344809, ..., -0.6248708 ,\n",
       "        -0.35501418, -0.37638703],\n",
       "       [-0.11024922, -0.45317535,  1.9508167 , ...,  1.6189552 ,\n",
       "        -0.38763462, -0.37638703],\n",
       "       [-0.11024922, -0.45317535, -0.79207837, ..., -0.6248708 ,\n",
       "        -0.38763462, -0.37638703]])"
      ]
     },
     "execution_count": 47,
     "metadata": {},
     "output_type": "execute_result"
    }
   ],
   "source": [
    "SV"
   ]
  },
  {
   "cell_type": "code",
   "execution_count": 48,
   "metadata": {
    "collapsed": true
   },
   "outputs": [],
   "source": [
    "d=pd.read_csv('./Final_Datasets/b_MINMAX_FD_NSL_Tra.csv')"
   ]
  },
  {
   "cell_type": "code",
   "execution_count": 73,
   "metadata": {},
   "outputs": [
    {
     "data": {
      "text/plain": [
       "array([1, 1, 0, ..., 1, 0, 1])"
      ]
     },
     "execution_count": 73,
     "metadata": {},
     "output_type": "execute_result"
    }
   ],
   "source": [
    "y[0]"
   ]
  },
  {
   "cell_type": "code",
   "execution_count": 74,
   "metadata": {},
   "outputs": [
    {
     "ename": "IndexError",
     "evalue": "index 1 is out of bounds for axis 0 with size 1",
     "output_type": "error",
     "traceback": [
      "\u001b[0;31m---------------------------------------------------------------------------\u001b[0m",
      "\u001b[0;31mIndexError\u001b[0m                                Traceback (most recent call last)",
      "\u001b[0;32m<ipython-input-74-56a253f43c7c>\u001b[0m in \u001b[0;36m<module>\u001b[0;34m()\u001b[0m\n\u001b[0;32m----> 1\u001b[0;31m \u001b[0my\u001b[0m\u001b[0;34m[\u001b[0m\u001b[0;36m1\u001b[0m\u001b[0;34m]\u001b[0m\u001b[0;34m\u001b[0m\u001b[0m\n\u001b[0m",
      "\u001b[0;31mIndexError\u001b[0m: index 1 is out of bounds for axis 0 with size 1"
     ]
    }
   ],
   "source": [
    "y[1]"
   ]
  },
  {
   "cell_type": "code",
   "execution_count": null,
   "metadata": {
    "collapsed": true
   },
   "outputs": [],
   "source": []
  }
 ],
 "metadata": {
  "kernelspec": {
   "display_name": "Python 3",
   "language": "python",
   "name": "python3"
  },
  "language_info": {
   "codemirror_mode": {
    "name": "ipython",
    "version": 3
   },
   "file_extension": ".py",
   "mimetype": "text/x-python",
   "name": "python",
   "nbconvert_exporter": "python",
   "pygments_lexer": "ipython3",
   "version": "3.6.1"
  }
 },
 "nbformat": 4,
 "nbformat_minor": 2
}
