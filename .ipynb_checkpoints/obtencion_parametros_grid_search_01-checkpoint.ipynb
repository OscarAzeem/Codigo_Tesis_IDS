{
 "cells": [
  {
   "cell_type": "markdown",
   "metadata": {},
   "source": [
    "# Obtención de parámetros mediante GridSearch"
   ]
  },
  {
   "cell_type": "markdown",
   "metadata": {},
   "source": [
    "## Reading the libraries"
   ]
  },
  {
   "cell_type": "code",
   "execution_count": 1,
   "metadata": {
    "collapsed": true
   },
   "outputs": [],
   "source": [
    "import time\n",
    "import numpy as np\n",
    "import pandas as pd\n",
    "import matplotlib.pyplot as plt\n",
    "from matplotlib import offsetbox\n",
    "from sklearn import (manifold, datasets, decomposition, ensemble,\n",
    "                     discriminant_analysis, random_projection)"
   ]
  },
  {
   "cell_type": "code",
   "execution_count": 2,
   "metadata": {
    "collapsed": true
   },
   "outputs": [],
   "source": [
    "from sklearn.metrics import classification_report\n",
    "#from sklearn.grid_search import GridSearchCV\n",
    "from sklearn.model_selection import GridSearchCV"
   ]
  },
  {
   "cell_type": "markdown",
   "metadata": {},
   "source": [
    "# Reading the Datasets with the labels"
   ]
  },
  {
   "cell_type": "code",
   "execution_count": 3,
   "metadata": {
    "collapsed": true
   },
   "outputs": [],
   "source": [
    "#Reading all the cvs\n",
    "#Nss learning\n",
    "nsl_training=pd.read_csv('./Final_Datasets/MINMAX_FD_NSL_Tra.csv')\n",
    "#Nsl testing\n",
    "nsl_testing=pd.read_csv('./Final_Datasets/MINMAX_FD_NSL_Test.csv')\n"
   ]
  },
  {
   "cell_type": "code",
   "execution_count": 4,
   "metadata": {
    "collapsed": true
   },
   "outputs": [],
   "source": [
    "#NSL TESTING LABELS\n",
    "\n",
    "#Index binary\n",
    "L_nsl_testing_indexbinary=pd.read_csv(\"./Final_Datasets/L_nsl_testing_indexbinary.csv\")\n",
    "#Index by Group\n",
    "L_nsl_testing_indexbygroup=pd.read_csv(\"./Final_Datasets/L_nsl_testing_indexbygroup.csv\")\n",
    "#Index tipe of attack\n",
    "L_nsl_testing_indextipeofattack=pd.read_csv(\"./Final_Datasets/L_nsl_testing_indextipeofattack.csv\")\n",
    "\n",
    "\n",
    "#nsl TRAINING LABELS\n",
    "L_nsl_training_indexbinary=pd.read_csv(\"./Final_Datasets/L_nsl_training_indexbinary.csv\")\n",
    "#Index by Group\n",
    "L_nsl_training_indexbygroup=pd.read_csv(\"./Final_Datasets/L_nsl_training_indexbygroup.csv\")\n",
    "#Index tipe of attack\n",
    "L_nsl_training_indextipeofattack=pd.read_csv(\"./Final_Datasets/L_nsl_training_indextipeofattack.csv\")"
   ]
  },
  {
   "cell_type": "code",
   "execution_count": null,
   "metadata": {
    "collapsed": true
   },
   "outputs": [],
   "source": []
  },
  {
   "cell_type": "markdown",
   "metadata": {},
   "source": [
    "# KNN"
   ]
  },
  {
   "cell_type": "markdown",
   "metadata": {},
   "source": [
    "# Prueba del modelo. No grid search"
   ]
  },
  {
   "cell_type": "code",
   "execution_count": 19,
   "metadata": {
    "collapsed": true
   },
   "outputs": [],
   "source": [
    "#Prueba evaluación y entrenamiento un solo individuo. \n",
    "#Vectores completos"
   ]
  },
  {
   "cell_type": "code",
   "execution_count": 6,
   "metadata": {
    "collapsed": true
   },
   "outputs": [],
   "source": [
    "#Reading the modelo"
   ]
  },
  {
   "cell_type": "code",
   "execution_count": 9,
   "metadata": {
    "collapsed": true
   },
   "outputs": [],
   "source": [
    "from sklearn import neighbors\n",
    "modelo=neighbors.KNeighborsClassifier(n_neighbors=10,weights='distance')\n",
    "param_grid={'n_neighbors':[10,100,500],'metric':['euclidean','minkowski'],\n",
    "            'algorithm':['ball_tree','kd_tree'],\n",
    "            'leaf_size':[30,60,90],\n",
    "           }\n",
    "modelo=neighbors.KNeighborsClassifier(weights='distance')"
   ]
  },
  {
   "cell_type": "code",
   "execution_count": 15,
   "metadata": {},
   "outputs": [
    {
     "name": "stdout",
     "output_type": "stream",
     "text": [
      "\n",
      " Tiempo entrenamiento\n",
      "\n",
      "--- 93.35775303840637 seconds ---\n"
     ]
    }
   ],
   "source": [
    "start_time = time.time()\n",
    "modelo.fit(nsl_training,L_nsl_training_indexbinary.values.ravel())\n",
    "t_entrenamiento_f_o=(time.time() - start_time)\n",
    "print(\"\\n Tiempo entrenamiento\\n\")\n",
    "print(\"--- %s seconds ---\" % t_entrenamiento_f_o)"
   ]
  },
  {
   "cell_type": "code",
   "execution_count": 16,
   "metadata": {},
   "outputs": [
    {
     "name": "stdout",
     "output_type": "stream",
     "text": [
      "\n",
      " Tiempo de evaluacion\n",
      "\n",
      "--- 80.5230040550232 seconds ---\n"
     ]
    }
   ],
   "source": [
    "#Testing the classifier\n",
    "start_time = time.time()\n",
    "predicciones=modelo.predict(nsl_testing)\n",
    "t_evaluacion_b_o=(time.time() - start_time)\n",
    "print(\"\\n Tiempo de evaluacion\\n\")\n",
    "print(\"--- %s seconds ---\" % t_evaluacion_b_o)"
   ]
  },
  {
   "cell_type": "code",
   "execution_count": 18,
   "metadata": {},
   "outputs": [
    {
     "name": "stdout",
     "output_type": "stream",
     "text": [
      "             precision    recall  f1-score   support\n",
      "\n",
      "          0       0.65      0.98      0.78      9710\n",
      "          1       0.97      0.60      0.74     12833\n",
      "\n",
      "avg / total       0.83      0.76      0.76     22543\n",
      "\n"
     ]
    }
   ],
   "source": [
    "print(classification_report(L_nsl_testing_indexbinary, predicciones))"
   ]
  },
  {
   "cell_type": "markdown",
   "metadata": {},
   "source": [
    "# GRIDSEARCH -  KNN"
   ]
  },
  {
   "cell_type": "code",
   "execution_count": 5,
   "metadata": {
    "collapsed": true
   },
   "outputs": [],
   "source": [
    "from sklearn import neighbors\n",
    "modelo=neighbors.KNeighborsClassifier(n_neighbors=10,weights='distance')\n",
    "param_grid={'n_neighbors':[10,100,500],'metric':['euclidean','minkowski'],\n",
    "            'algorithm':['ball_tree','kd_tree'],\n",
    "            'leaf_size':[30,60,90],\n",
    "           }\n",
    "modelo=neighbors.KNeighborsClassifier(weights='distance')"
   ]
  },
  {
   "cell_type": "code",
   "execution_count": 8,
   "metadata": {
    "collapsed": true
   },
   "outputs": [],
   "source": [
    "#declaracion del grid\n",
    "#cv=numero de foldings dentro de la base de evaluacion\n",
    "grid=GridSearchCV(modelo,param_grid,verbose=3,cv=2)"
   ]
  },
  {
   "cell_type": "code",
   "execution_count": 9,
   "metadata": {},
   "outputs": [
    {
     "name": "stdout",
     "output_type": "stream",
     "text": [
      "Fitting 2 folds for each of 36 candidates, totalling 72 fits\n",
      "[CV] algorithm=ball_tree, leaf_size=30, metric=euclidean, n_neighbors=10 \n",
      "[CV]  algorithm=ball_tree, leaf_size=30, metric=euclidean, n_neighbors=10, score=0.994793, total= 4.4min\n",
      "[CV] algorithm=ball_tree, leaf_size=30, metric=euclidean, n_neighbors=10 \n"
     ]
    },
    {
     "name": "stderr",
     "output_type": "stream",
     "text": [
      "[Parallel(n_jobs=1)]: Done   1 out of   1 | elapsed:  8.6min remaining:    0.0s\n"
     ]
    },
    {
     "name": "stdout",
     "output_type": "stream",
     "text": [
      "[CV]  algorithm=ball_tree, leaf_size=30, metric=euclidean, n_neighbors=10, score=0.994491, total= 4.6min\n",
      "[CV] algorithm=ball_tree, leaf_size=30, metric=euclidean, n_neighbors=100 \n"
     ]
    },
    {
     "name": "stderr",
     "output_type": "stream",
     "text": [
      "[Parallel(n_jobs=1)]: Done   2 out of   2 | elapsed: 17.4min remaining:    0.0s\n"
     ]
    },
    {
     "name": "stdout",
     "output_type": "stream",
     "text": [
      "[CV]  algorithm=ball_tree, leaf_size=30, metric=euclidean, n_neighbors=100, score=0.989506, total= 5.1min\n",
      "[CV] algorithm=ball_tree, leaf_size=30, metric=euclidean, n_neighbors=100 \n",
      "[CV]  algorithm=ball_tree, leaf_size=30, metric=euclidean, n_neighbors=100, score=0.990601, total= 6.2min\n",
      "[CV] algorithm=ball_tree, leaf_size=30, metric=euclidean, n_neighbors=500 \n",
      "[CV]  algorithm=ball_tree, leaf_size=30, metric=euclidean, n_neighbors=500, score=0.979869, total= 7.2min\n",
      "[CV] algorithm=ball_tree, leaf_size=30, metric=euclidean, n_neighbors=500 \n",
      "[CV]  algorithm=ball_tree, leaf_size=30, metric=euclidean, n_neighbors=500, score=0.980615, total= 6.4min\n",
      "[CV] algorithm=ball_tree, leaf_size=30, metric=minkowski, n_neighbors=10 \n",
      "[CV]  algorithm=ball_tree, leaf_size=30, metric=minkowski, n_neighbors=10, score=0.994793, total= 5.4min\n",
      "[CV] algorithm=ball_tree, leaf_size=30, metric=minkowski, n_neighbors=10 \n",
      "[CV]  algorithm=ball_tree, leaf_size=30, metric=minkowski, n_neighbors=10, score=0.994491, total= 5.9min\n",
      "[CV] algorithm=ball_tree, leaf_size=30, metric=minkowski, n_neighbors=100 \n",
      "[CV]  algorithm=ball_tree, leaf_size=30, metric=minkowski, n_neighbors=100, score=0.989506, total= 4.7min\n",
      "[CV] algorithm=ball_tree, leaf_size=30, metric=minkowski, n_neighbors=100 \n",
      "[CV]  algorithm=ball_tree, leaf_size=30, metric=minkowski, n_neighbors=100, score=0.990601, total= 4.9min\n",
      "[CV] algorithm=ball_tree, leaf_size=30, metric=minkowski, n_neighbors=500 \n",
      "[CV]  algorithm=ball_tree, leaf_size=30, metric=minkowski, n_neighbors=500, score=0.979869, total= 6.1min\n",
      "[CV] algorithm=ball_tree, leaf_size=30, metric=minkowski, n_neighbors=500 \n",
      "[CV]  algorithm=ball_tree, leaf_size=30, metric=minkowski, n_neighbors=500, score=0.980615, total= 6.3min\n",
      "[CV] algorithm=ball_tree, leaf_size=60, metric=euclidean, n_neighbors=10 \n",
      "[CV]  algorithm=ball_tree, leaf_size=60, metric=euclidean, n_neighbors=10, score=0.994793, total= 5.2min\n",
      "[CV] algorithm=ball_tree, leaf_size=60, metric=euclidean, n_neighbors=10 \n",
      "[CV]  algorithm=ball_tree, leaf_size=60, metric=euclidean, n_neighbors=10, score=0.994491, total= 5.3min\n",
      "[CV] algorithm=ball_tree, leaf_size=60, metric=euclidean, n_neighbors=100 \n",
      "[CV]  algorithm=ball_tree, leaf_size=60, metric=euclidean, n_neighbors=100, score=0.989506, total= 5.4min\n",
      "[CV] algorithm=ball_tree, leaf_size=60, metric=euclidean, n_neighbors=100 \n",
      "[CV]  algorithm=ball_tree, leaf_size=60, metric=euclidean, n_neighbors=100, score=0.990601, total= 5.4min\n",
      "[CV] algorithm=ball_tree, leaf_size=60, metric=euclidean, n_neighbors=500 \n",
      "[CV]  algorithm=ball_tree, leaf_size=60, metric=euclidean, n_neighbors=500, score=0.979869, total= 6.3min\n",
      "[CV] algorithm=ball_tree, leaf_size=60, metric=euclidean, n_neighbors=500 \n",
      "[CV]  algorithm=ball_tree, leaf_size=60, metric=euclidean, n_neighbors=500, score=0.980615, total= 6.3min\n",
      "[CV] algorithm=ball_tree, leaf_size=60, metric=minkowski, n_neighbors=10 \n",
      "[CV]  algorithm=ball_tree, leaf_size=60, metric=minkowski, n_neighbors=10, score=0.994793, total= 4.9min\n",
      "[CV] algorithm=ball_tree, leaf_size=60, metric=minkowski, n_neighbors=10 \n",
      "[CV]  algorithm=ball_tree, leaf_size=60, metric=minkowski, n_neighbors=10, score=0.994491, total= 4.8min\n",
      "[CV] algorithm=ball_tree, leaf_size=60, metric=minkowski, n_neighbors=100 \n",
      "[CV]  algorithm=ball_tree, leaf_size=60, metric=minkowski, n_neighbors=100, score=0.989506, total= 5.3min\n",
      "[CV] algorithm=ball_tree, leaf_size=60, metric=minkowski, n_neighbors=100 \n",
      "[CV]  algorithm=ball_tree, leaf_size=60, metric=minkowski, n_neighbors=100, score=0.990601, total= 5.3min\n",
      "[CV] algorithm=ball_tree, leaf_size=60, metric=minkowski, n_neighbors=500 \n",
      "[CV]  algorithm=ball_tree, leaf_size=60, metric=minkowski, n_neighbors=500, score=0.979869, total= 6.2min\n",
      "[CV] algorithm=ball_tree, leaf_size=60, metric=minkowski, n_neighbors=500 \n",
      "[CV]  algorithm=ball_tree, leaf_size=60, metric=minkowski, n_neighbors=500, score=0.980615, total= 6.3min\n",
      "[CV] algorithm=ball_tree, leaf_size=90, metric=euclidean, n_neighbors=10 \n",
      "[CV]  algorithm=ball_tree, leaf_size=90, metric=euclidean, n_neighbors=10, score=0.994793, total= 5.4min\n",
      "[CV] algorithm=ball_tree, leaf_size=90, metric=euclidean, n_neighbors=10 \n",
      "[CV]  algorithm=ball_tree, leaf_size=90, metric=euclidean, n_neighbors=10, score=0.994491, total= 5.3min\n",
      "[CV] algorithm=ball_tree, leaf_size=90, metric=euclidean, n_neighbors=100 \n",
      "[CV]  algorithm=ball_tree, leaf_size=90, metric=euclidean, n_neighbors=100, score=0.989506, total= 5.9min\n",
      "[CV] algorithm=ball_tree, leaf_size=90, metric=euclidean, n_neighbors=100 \n",
      "[CV]  algorithm=ball_tree, leaf_size=90, metric=euclidean, n_neighbors=100, score=0.990601, total= 5.8min\n",
      "[CV] algorithm=ball_tree, leaf_size=90, metric=euclidean, n_neighbors=500 \n",
      "[CV]  algorithm=ball_tree, leaf_size=90, metric=euclidean, n_neighbors=500, score=0.979869, total= 6.7min\n",
      "[CV] algorithm=ball_tree, leaf_size=90, metric=euclidean, n_neighbors=500 \n",
      "[CV]  algorithm=ball_tree, leaf_size=90, metric=euclidean, n_neighbors=500, score=0.980615, total= 6.7min\n",
      "[CV] algorithm=ball_tree, leaf_size=90, metric=minkowski, n_neighbors=10 \n",
      "[CV]  algorithm=ball_tree, leaf_size=90, metric=minkowski, n_neighbors=10, score=0.994793, total= 5.4min\n",
      "[CV] algorithm=ball_tree, leaf_size=90, metric=minkowski, n_neighbors=10 \n",
      "[CV]  algorithm=ball_tree, leaf_size=90, metric=minkowski, n_neighbors=10, score=0.994491, total= 5.3min\n",
      "[CV] algorithm=ball_tree, leaf_size=90, metric=minkowski, n_neighbors=100 \n",
      "[CV]  algorithm=ball_tree, leaf_size=90, metric=minkowski, n_neighbors=100, score=0.989506, total= 5.9min\n",
      "[CV] algorithm=ball_tree, leaf_size=90, metric=minkowski, n_neighbors=100 \n",
      "[CV]  algorithm=ball_tree, leaf_size=90, metric=minkowski, n_neighbors=100, score=0.990601, total= 5.8min\n",
      "[CV] algorithm=ball_tree, leaf_size=90, metric=minkowski, n_neighbors=500 \n",
      "[CV]  algorithm=ball_tree, leaf_size=90, metric=minkowski, n_neighbors=500, score=0.979869, total= 6.7min\n",
      "[CV] algorithm=ball_tree, leaf_size=90, metric=minkowski, n_neighbors=500 \n",
      "[CV]  algorithm=ball_tree, leaf_size=90, metric=minkowski, n_neighbors=500, score=0.980615, total= 6.6min\n",
      "[CV] algorithm=kd_tree, leaf_size=30, metric=euclidean, n_neighbors=10 \n",
      "[CV]  algorithm=kd_tree, leaf_size=30, metric=euclidean, n_neighbors=10, score=0.994793, total= 1.9min\n",
      "[CV] algorithm=kd_tree, leaf_size=30, metric=euclidean, n_neighbors=10 \n",
      "[CV]  algorithm=kd_tree, leaf_size=30, metric=euclidean, n_neighbors=10, score=0.994491, total= 2.5min\n",
      "[CV] algorithm=kd_tree, leaf_size=30, metric=euclidean, n_neighbors=100 \n",
      "[CV]  algorithm=kd_tree, leaf_size=30, metric=euclidean, n_neighbors=100, score=0.989506, total= 2.4min\n",
      "[CV] algorithm=kd_tree, leaf_size=30, metric=euclidean, n_neighbors=100 \n",
      "[CV]  algorithm=kd_tree, leaf_size=30, metric=euclidean, n_neighbors=100, score=0.990601, total= 3.1min\n",
      "[CV] algorithm=kd_tree, leaf_size=30, metric=euclidean, n_neighbors=500 \n",
      "[CV]  algorithm=kd_tree, leaf_size=30, metric=euclidean, n_neighbors=500, score=0.979869, total= 3.5min\n",
      "[CV] algorithm=kd_tree, leaf_size=30, metric=euclidean, n_neighbors=500 \n",
      "[CV]  algorithm=kd_tree, leaf_size=30, metric=euclidean, n_neighbors=500, score=0.980615, total= 4.0min\n",
      "[CV] algorithm=kd_tree, leaf_size=30, metric=minkowski, n_neighbors=10 \n",
      "[CV]  algorithm=kd_tree, leaf_size=30, metric=minkowski, n_neighbors=10, score=0.994793, total= 1.9min\n",
      "[CV] algorithm=kd_tree, leaf_size=30, metric=minkowski, n_neighbors=10 \n",
      "[CV]  algorithm=kd_tree, leaf_size=30, metric=minkowski, n_neighbors=10, score=0.994491, total= 2.5min\n",
      "[CV] algorithm=kd_tree, leaf_size=30, metric=minkowski, n_neighbors=100 \n",
      "[CV]  algorithm=kd_tree, leaf_size=30, metric=minkowski, n_neighbors=100, score=0.989506, total= 2.5min\n",
      "[CV] algorithm=kd_tree, leaf_size=30, metric=minkowski, n_neighbors=100 \n",
      "[CV]  algorithm=kd_tree, leaf_size=30, metric=minkowski, n_neighbors=100, score=0.990601, total= 3.1min\n",
      "[CV] algorithm=kd_tree, leaf_size=30, metric=minkowski, n_neighbors=500 \n",
      "[CV]  algorithm=kd_tree, leaf_size=30, metric=minkowski, n_neighbors=500, score=0.979869, total= 3.5min\n",
      "[CV] algorithm=kd_tree, leaf_size=30, metric=minkowski, n_neighbors=500 \n",
      "[CV]  algorithm=kd_tree, leaf_size=30, metric=minkowski, n_neighbors=500, score=0.980615, total= 4.0min\n",
      "[CV] algorithm=kd_tree, leaf_size=60, metric=euclidean, n_neighbors=10 \n"
     ]
    },
    {
     "name": "stdout",
     "output_type": "stream",
     "text": [
      "[CV]  algorithm=kd_tree, leaf_size=60, metric=euclidean, n_neighbors=10, score=0.994793, total= 2.0min\n",
      "[CV] algorithm=kd_tree, leaf_size=60, metric=euclidean, n_neighbors=10 \n",
      "[CV]  algorithm=kd_tree, leaf_size=60, metric=euclidean, n_neighbors=10, score=0.994491, total= 2.6min\n",
      "[CV] algorithm=kd_tree, leaf_size=60, metric=euclidean, n_neighbors=100 \n",
      "[CV]  algorithm=kd_tree, leaf_size=60, metric=euclidean, n_neighbors=100, score=0.989506, total= 2.5min\n",
      "[CV] algorithm=kd_tree, leaf_size=60, metric=euclidean, n_neighbors=100 \n",
      "[CV]  algorithm=kd_tree, leaf_size=60, metric=euclidean, n_neighbors=100, score=0.990601, total= 3.0min\n",
      "[CV] algorithm=kd_tree, leaf_size=60, metric=euclidean, n_neighbors=500 \n",
      "[CV]  algorithm=kd_tree, leaf_size=60, metric=euclidean, n_neighbors=500, score=0.979869, total= 3.4min\n",
      "[CV] algorithm=kd_tree, leaf_size=60, metric=euclidean, n_neighbors=500 \n",
      "[CV]  algorithm=kd_tree, leaf_size=60, metric=euclidean, n_neighbors=500, score=0.980615, total= 3.8min\n",
      "[CV] algorithm=kd_tree, leaf_size=60, metric=minkowski, n_neighbors=10 \n",
      "[CV]  algorithm=kd_tree, leaf_size=60, metric=minkowski, n_neighbors=10, score=0.994793, total= 2.0min\n",
      "[CV] algorithm=kd_tree, leaf_size=60, metric=minkowski, n_neighbors=10 \n",
      "[CV]  algorithm=kd_tree, leaf_size=60, metric=minkowski, n_neighbors=10, score=0.994491, total= 2.6min\n",
      "[CV] algorithm=kd_tree, leaf_size=60, metric=minkowski, n_neighbors=100 \n",
      "[CV]  algorithm=kd_tree, leaf_size=60, metric=minkowski, n_neighbors=100, score=0.989506, total= 2.5min\n",
      "[CV] algorithm=kd_tree, leaf_size=60, metric=minkowski, n_neighbors=100 \n",
      "[CV]  algorithm=kd_tree, leaf_size=60, metric=minkowski, n_neighbors=100, score=0.990601, total= 3.0min\n",
      "[CV] algorithm=kd_tree, leaf_size=60, metric=minkowski, n_neighbors=500 \n",
      "[CV]  algorithm=kd_tree, leaf_size=60, metric=minkowski, n_neighbors=500, score=0.979869, total= 3.4min\n",
      "[CV] algorithm=kd_tree, leaf_size=60, metric=minkowski, n_neighbors=500 \n",
      "[CV]  algorithm=kd_tree, leaf_size=60, metric=minkowski, n_neighbors=500, score=0.980615, total= 3.9min\n",
      "[CV] algorithm=kd_tree, leaf_size=90, metric=euclidean, n_neighbors=10 \n",
      "[CV]  algorithm=kd_tree, leaf_size=90, metric=euclidean, n_neighbors=10, score=0.994793, total= 2.2min\n",
      "[CV] algorithm=kd_tree, leaf_size=90, metric=euclidean, n_neighbors=10 \n",
      "[CV]  algorithm=kd_tree, leaf_size=90, metric=euclidean, n_neighbors=10, score=0.994491, total= 2.7min\n",
      "[CV] algorithm=kd_tree, leaf_size=90, metric=euclidean, n_neighbors=100 \n",
      "[CV]  algorithm=kd_tree, leaf_size=90, metric=euclidean, n_neighbors=100, score=0.989506, total= 2.7min\n",
      "[CV] algorithm=kd_tree, leaf_size=90, metric=euclidean, n_neighbors=100 \n",
      "[CV]  algorithm=kd_tree, leaf_size=90, metric=euclidean, n_neighbors=100, score=0.990601, total= 3.1min\n",
      "[CV] algorithm=kd_tree, leaf_size=90, metric=euclidean, n_neighbors=500 \n",
      "[CV]  algorithm=kd_tree, leaf_size=90, metric=euclidean, n_neighbors=500, score=0.979869, total= 3.6min\n",
      "[CV] algorithm=kd_tree, leaf_size=90, metric=euclidean, n_neighbors=500 \n",
      "[CV]  algorithm=kd_tree, leaf_size=90, metric=euclidean, n_neighbors=500, score=0.980615, total= 3.9min\n",
      "[CV] algorithm=kd_tree, leaf_size=90, metric=minkowski, n_neighbors=10 \n",
      "[CV]  algorithm=kd_tree, leaf_size=90, metric=minkowski, n_neighbors=10, score=0.994793, total= 2.2min\n",
      "[CV] algorithm=kd_tree, leaf_size=90, metric=minkowski, n_neighbors=10 \n",
      "[CV]  algorithm=kd_tree, leaf_size=90, metric=minkowski, n_neighbors=10, score=0.994491, total= 2.7min\n",
      "[CV] algorithm=kd_tree, leaf_size=90, metric=minkowski, n_neighbors=100 \n",
      "[CV]  algorithm=kd_tree, leaf_size=90, metric=minkowski, n_neighbors=100, score=0.989506, total= 2.7min\n",
      "[CV] algorithm=kd_tree, leaf_size=90, metric=minkowski, n_neighbors=100 \n",
      "[CV]  algorithm=kd_tree, leaf_size=90, metric=minkowski, n_neighbors=100, score=0.990601, total= 3.1min\n",
      "[CV] algorithm=kd_tree, leaf_size=90, metric=minkowski, n_neighbors=500 \n",
      "[CV]  algorithm=kd_tree, leaf_size=90, metric=minkowski, n_neighbors=500, score=0.979869, total= 3.6min\n",
      "[CV] algorithm=kd_tree, leaf_size=90, metric=minkowski, n_neighbors=500 \n",
      "[CV]  algorithm=kd_tree, leaf_size=90, metric=minkowski, n_neighbors=500, score=0.980615, total= 3.9min\n"
     ]
    },
    {
     "name": "stderr",
     "output_type": "stream",
     "text": [
      "[Parallel(n_jobs=1)]: Done  72 out of  72 | elapsed: 609.5min finished\n"
     ]
    },
    {
     "data": {
      "text/plain": [
       "GridSearchCV(cv=2, error_score='raise',\n",
       "       estimator=KNeighborsClassifier(algorithm='auto', leaf_size=30, metric='minkowski',\n",
       "           metric_params=None, n_jobs=1, n_neighbors=5, p=2,\n",
       "           weights='distance'),\n",
       "       fit_params={}, iid=True, n_jobs=1,\n",
       "       param_grid={'n_neighbors': [10, 100, 500], 'metric': ['euclidean', 'minkowski'], 'algorithm': ['ball_tree', 'kd_tree'], 'leaf_size': [30, 60, 90]},\n",
       "       pre_dispatch='2*n_jobs', refit=True, return_train_score=True,\n",
       "       scoring=None, verbose=3)"
      ]
     },
     "execution_count": 9,
     "metadata": {},
     "output_type": "execute_result"
    }
   ],
   "source": [
    "grid.fit(nsl_training,L_nsl_training_indexbinary.values.ravel())"
   ]
  },
  {
   "cell_type": "markdown",
   "metadata": {
    "collapsed": true
   },
   "source": [
    "# SVM (SVC in scikit Learn)"
   ]
  },
  {
   "cell_type": "code",
   "execution_count": 5,
   "metadata": {
    "collapsed": true
   },
   "outputs": [],
   "source": [
    "from sklearn.svm import SVC\n",
    "#class sklearn.svm.SVC(C=1.0, kernel=’rbf’, degree=3, gamma=’auto’, coef0=0.0, shrinking=True,\n",
    "#                      probability=False, tol=0.001, cache_size=200, class_weight=None, \n",
    "#                      verbose=False, max_iter=-1, decision_function_shape=’ovr’, \n",
    "#                      random_state=None)[source]\n",
    "modelo = SVC(C=10.0, kernel='rbf', cache_size=3000,verbose=4)"
   ]
  },
  {
   "cell_type": "code",
   "execution_count": 6,
   "metadata": {},
   "outputs": [
    {
     "name": "stdout",
     "output_type": "stream",
     "text": [
      "[LibSVM]\n",
      " Tiempo entrenamiento\n",
      "\n",
      "--- 223.24472188949585 seconds ---\n"
     ]
    }
   ],
   "source": [
    "start_time = time.time()\n",
    "modelo.fit(nsl_training,L_nsl_training_indexbinary.values.ravel())\n",
    "t_entrenamiento_f_o=(time.time() - start_time)\n",
    "print(\"\\n Tiempo entrenamiento\\n\")\n",
    "print(\"--- %s seconds ---\" % t_entrenamiento_f_o)"
   ]
  },
  {
   "cell_type": "code",
   "execution_count": 7,
   "metadata": {},
   "outputs": [
    {
     "name": "stdout",
     "output_type": "stream",
     "text": [
      "\n",
      " Tiempo de evaluacion\n",
      "\n",
      "--- 20.599907159805298 seconds ---\n"
     ]
    }
   ],
   "source": [
    "#Testing the classifier\n",
    "start_time = time.time()\n",
    "predicciones=modelo.predict(nsl_testing)\n",
    "t_evaluacion_b_o=(time.time() - start_time)\n",
    "print(\"\\n Tiempo de evaluacion\\n\")\n",
    "print(\"--- %s seconds ---\" % t_evaluacion_b_o)"
   ]
  },
  {
   "cell_type": "code",
   "execution_count": 8,
   "metadata": {},
   "outputs": [
    {
     "name": "stdout",
     "output_type": "stream",
     "text": [
      "             precision    recall  f1-score   support\n",
      "\n",
      "          0       0.67      0.98      0.79      9710\n",
      "          1       0.97      0.63      0.77     12833\n",
      "\n",
      "avg / total       0.84      0.78      0.78     22543\n",
      "\n"
     ]
    }
   ],
   "source": [
    "print(classification_report(L_nsl_testing_indexbinary, predicciones))"
   ]
  },
  {
   "cell_type": "markdown",
   "metadata": {
    "collapsed": true
   },
   "source": [
    "# GRID SEARCH - SVM-> SVC"
   ]
  },
  {
   "cell_type": "code",
   "execution_count": 14,
   "metadata": {},
   "outputs": [],
   "source": [
    "from sklearn.svm import SVC\n",
    "modelo=SVC(kernel='rbf',cache_size=4000)\n",
    "param_grid={'C':[10,100,1000],\n",
    "            'gamma':[10,1,0.1,0.001],\n",
    "            'shrinking':[1,0]}"
   ]
  },
  {
   "cell_type": "code",
   "execution_count": 15,
   "metadata": {
    "collapsed": true
   },
   "outputs": [],
   "source": [
    "grid=GridSearchCV(modelo,param_grid,verbose=3,cv=2)"
   ]
  },
  {
   "cell_type": "code",
   "execution_count": 16,
   "metadata": {},
   "outputs": [
    {
     "name": "stdout",
     "output_type": "stream",
     "text": [
      "Fitting 2 folds for each of 24 candidates, totalling 48 fits\n",
      "[CV] C=10, gamma=10, shrinking=1 .....................................\n",
      "[CV] ...... C=10, gamma=10, shrinking=1, score=0.994888, total= 1.6min\n",
      "[CV] C=10, gamma=10, shrinking=1 .....................................\n"
     ]
    },
    {
     "name": "stderr",
     "output_type": "stream",
     "text": [
      "[Parallel(n_jobs=1)]: Done   1 out of   1 | elapsed:  2.0min remaining:    0.0s\n"
     ]
    },
    {
     "name": "stdout",
     "output_type": "stream",
     "text": [
      "[CV] ...... C=10, gamma=10, shrinking=1, score=0.995221, total= 2.0min\n",
      "[CV] C=10, gamma=10, shrinking=0 .....................................\n"
     ]
    },
    {
     "name": "stderr",
     "output_type": "stream",
     "text": [
      "[Parallel(n_jobs=1)]: Done   2 out of   2 | elapsed:  4.7min remaining:    0.0s\n"
     ]
    },
    {
     "name": "stdout",
     "output_type": "stream",
     "text": [
      "[CV] ...... C=10, gamma=10, shrinking=0, score=0.994888, total= 1.8min\n",
      "[CV] C=10, gamma=10, shrinking=0 .....................................\n",
      "[CV] ...... C=10, gamma=10, shrinking=0, score=0.995221, total= 1.4min\n",
      "[CV] C=10, gamma=1, shrinking=1 ......................................\n",
      "[CV] ....... C=10, gamma=1, shrinking=1, score=0.995348, total=  34.7s\n",
      "[CV] C=10, gamma=1, shrinking=1 ......................................\n",
      "[CV] ....... C=10, gamma=1, shrinking=1, score=0.995253, total=  36.5s\n",
      "[CV] C=10, gamma=1, shrinking=0 ......................................\n",
      "[CV] ....... C=10, gamma=1, shrinking=0, score=0.995332, total=  34.2s\n",
      "[CV] C=10, gamma=1, shrinking=0 ......................................\n",
      "[CV] ....... C=10, gamma=1, shrinking=0, score=0.995253, total=  34.7s\n",
      "[CV] C=10, gamma=0.1, shrinking=1 ....................................\n",
      "[CV] ..... C=10, gamma=0.1, shrinking=1, score=0.983790, total= 1.0min\n",
      "[CV] C=10, gamma=0.1, shrinking=1 ....................................\n",
      "[CV] ..... C=10, gamma=0.1, shrinking=1, score=0.984377, total= 1.1min\n",
      "[CV] C=10, gamma=0.1, shrinking=0 ....................................\n",
      "[CV] ..... C=10, gamma=0.1, shrinking=0, score=0.983790, total=  58.8s\n",
      "[CV] C=10, gamma=0.1, shrinking=0 ....................................\n",
      "[CV] ..... C=10, gamma=0.1, shrinking=0, score=0.984377, total= 1.0min\n",
      "[CV] C=10, gamma=0.001, shrinking=1 ..................................\n",
      "[CV] ... C=10, gamma=0.001, shrinking=1, score=0.953228, total= 4.2min\n",
      "[CV] C=10, gamma=0.001, shrinking=1 ..................................\n",
      "[CV] ... C=10, gamma=0.001, shrinking=1, score=0.954911, total=47.1min\n",
      "[CV] C=10, gamma=0.001, shrinking=0 ..................................\n",
      "[CV] ... C=10, gamma=0.001, shrinking=0, score=0.953228, total= 2.4min\n",
      "[CV] C=10, gamma=0.001, shrinking=0 ..................................\n",
      "[CV] ... C=10, gamma=0.001, shrinking=0, score=0.954911, total= 2.7min\n",
      "[CV] C=100, gamma=10, shrinking=1 ....................................\n",
      "[CV] ..... C=100, gamma=10, shrinking=1, score=0.995062, total= 1.3min\n",
      "[CV] C=100, gamma=10, shrinking=1 ....................................\n",
      "[CV] ..... C=100, gamma=10, shrinking=1, score=0.995459, total= 1.3min\n",
      "[CV] C=100, gamma=10, shrinking=0 ....................................\n",
      "[CV] ..... C=100, gamma=10, shrinking=0, score=0.995062, total= 1.3min\n",
      "[CV] C=100, gamma=10, shrinking=0 ....................................\n",
      "[CV] ..... C=100, gamma=10, shrinking=0, score=0.995459, total= 1.4min\n",
      "[CV] C=100, gamma=1, shrinking=1 .....................................\n",
      "[CV] ...... C=100, gamma=1, shrinking=1, score=0.995761, total=  22.2s\n",
      "[CV] C=100, gamma=1, shrinking=1 .....................................\n",
      "[CV] ...... C=100, gamma=1, shrinking=1, score=0.996380, total=  23.7s\n",
      "[CV] C=100, gamma=1, shrinking=0 .....................................\n",
      "[CV] ...... C=100, gamma=1, shrinking=0, score=0.995761, total=  27.1s\n",
      "[CV] C=100, gamma=1, shrinking=0 .....................................\n",
      "[CV] ...... C=100, gamma=1, shrinking=0, score=0.996380, total=  27.2s\n",
      "[CV] C=100, gamma=0.1, shrinking=1 ...................................\n",
      "[CV] .... C=100, gamma=0.1, shrinking=1, score=0.993268, total=  42.7s\n",
      "[CV] C=100, gamma=0.1, shrinking=1 ...................................\n",
      "[CV] .... C=100, gamma=0.1, shrinking=1, score=0.992856, total=  44.4s\n",
      "[CV] C=100, gamma=0.1, shrinking=0 ...................................\n",
      "[CV] .... C=100, gamma=0.1, shrinking=0, score=0.993268, total=  47.6s\n",
      "[CV] C=100, gamma=0.1, shrinking=0 ...................................\n",
      "[CV] .... C=100, gamma=0.1, shrinking=0, score=0.992856, total=  48.6s\n",
      "[CV] C=100, gamma=0.001, shrinking=1 .................................\n",
      "[CV] .. C=100, gamma=0.001, shrinking=1, score=0.957626, total= 2.5min\n",
      "[CV] C=100, gamma=0.001, shrinking=1 .................................\n",
      "[CV] .. C=100, gamma=0.001, shrinking=1, score=0.959928, total= 2.5min\n",
      "[CV] C=100, gamma=0.001, shrinking=0 .................................\n",
      "[CV] .. C=100, gamma=0.001, shrinking=0, score=0.957626, total= 2.2min\n",
      "[CV] C=100, gamma=0.001, shrinking=0 .................................\n",
      "[CV] .. C=100, gamma=0.001, shrinking=0, score=0.959928, total= 2.3min\n",
      "[CV] C=1000, gamma=10, shrinking=1 ...................................\n",
      "[CV] .... C=1000, gamma=10, shrinking=1, score=0.994840, total= 1.8min\n",
      "[CV] C=1000, gamma=10, shrinking=1 ...................................\n",
      "[CV] .... C=1000, gamma=10, shrinking=1, score=0.995491, total= 1.5min\n",
      "[CV] C=1000, gamma=10, shrinking=0 ...................................\n",
      "[CV] .... C=1000, gamma=10, shrinking=0, score=0.994840, total= 1.7min\n",
      "[CV] C=1000, gamma=10, shrinking=0 ...................................\n",
      "[CV] .... C=1000, gamma=10, shrinking=0, score=0.995491, total= 1.6min\n",
      "[CV] C=1000, gamma=1, shrinking=1 ....................................\n",
      "[CV] ..... C=1000, gamma=1, shrinking=1, score=0.995729, total=  23.1s\n",
      "[CV] C=1000, gamma=1, shrinking=1 ....................................\n",
      "[CV] ..... C=1000, gamma=1, shrinking=1, score=0.996507, total=  25.4s\n",
      "[CV] C=1000, gamma=1, shrinking=0 ....................................\n",
      "[CV] ..... C=1000, gamma=1, shrinking=0, score=0.995729, total=  43.0s\n",
      "[CV] C=1000, gamma=1, shrinking=0 ....................................\n",
      "[CV] ..... C=1000, gamma=1, shrinking=0, score=0.996507, total=  42.0s\n",
      "[CV] C=1000, gamma=0.1, shrinking=1 ..................................\n",
      "[CV] ... C=1000, gamma=0.1, shrinking=1, score=0.995126, total=  39.7s\n",
      "[CV] C=1000, gamma=0.1, shrinking=1 ..................................\n",
      "[CV] ... C=1000, gamma=0.1, shrinking=1, score=0.995237, total=  40.5s\n",
      "[CV] C=1000, gamma=0.1, shrinking=0 ..................................\n",
      "[CV] ... C=1000, gamma=0.1, shrinking=0, score=0.995126, total= 2.1min\n",
      "[CV] C=1000, gamma=0.1, shrinking=0 ..................................\n",
      "[CV] ... C=1000, gamma=0.1, shrinking=0, score=0.995237, total= 2.2min\n",
      "[CV] C=1000, gamma=0.001, shrinking=1 ................................\n",
      "[CV] . C=1000, gamma=0.001, shrinking=1, score=0.966263, total= 2.3min\n",
      "[CV] C=1000, gamma=0.001, shrinking=1 ................................\n",
      "[CV] . C=1000, gamma=0.001, shrinking=1, score=0.969739, total= 3.6min\n",
      "[CV] C=1000, gamma=0.001, shrinking=0 ................................\n",
      "[CV] . C=1000, gamma=0.001, shrinking=0, score=0.966263, total= 3.9min\n",
      "[CV] C=1000, gamma=0.001, shrinking=0 ................................\n",
      "[CV] . C=1000, gamma=0.001, shrinking=0, score=0.969755, total= 3.4min\n"
     ]
    },
    {
     "name": "stderr",
     "output_type": "stream",
     "text": [
      "[Parallel(n_jobs=1)]: Done  48 out of  48 | elapsed: 138.5min finished\n"
     ]
    },
    {
     "data": {
      "text/plain": [
       "GridSearchCV(cv=2, error_score='raise',\n",
       "       estimator=SVC(C=1.0, cache_size=4000, class_weight=None, coef0=0.0,\n",
       "  decision_function_shape=None, degree=3, gamma='auto', kernel='rbf',\n",
       "  max_iter=-1, probability=False, random_state=None, shrinking=True,\n",
       "  tol=0.001, verbose=False),\n",
       "       fit_params={}, iid=True, n_jobs=1,\n",
       "       param_grid={'C': [10, 100, 1000], 'gamma': [10, 1, 0.1, 0.001], 'shrinking': [1, 0]},\n",
       "       pre_dispatch='2*n_jobs', refit=True, return_train_score=True,\n",
       "       scoring=None, verbose=3)"
      ]
     },
     "execution_count": 16,
     "metadata": {},
     "output_type": "execute_result"
    }
   ],
   "source": [
    "grid.fit(nsl_training,L_nsl_training_indexbinary.values.ravel())"
   ]
  },
  {
   "cell_type": "code",
   "execution_count": null,
   "metadata": {
    "collapsed": true
   },
   "outputs": [],
   "source": []
  },
  {
   "cell_type": "code",
   "execution_count": null,
   "metadata": {
    "collapsed": true
   },
   "outputs": [],
   "source": []
  },
  {
   "cell_type": "code",
   "execution_count": null,
   "metadata": {
    "collapsed": true
   },
   "outputs": [],
   "source": []
  },
  {
   "cell_type": "code",
   "execution_count": null,
   "metadata": {
    "collapsed": true
   },
   "outputs": [],
   "source": []
  },
  {
   "cell_type": "code",
   "execution_count": null,
   "metadata": {
    "collapsed": true
   },
   "outputs": [],
   "source": []
  },
  {
   "cell_type": "code",
   "execution_count": null,
   "metadata": {
    "collapsed": true
   },
   "outputs": [],
   "source": []
  },
  {
   "cell_type": "code",
   "execution_count": null,
   "metadata": {
    "collapsed": true
   },
   "outputs": [],
   "source": []
  },
  {
   "cell_type": "code",
   "execution_count": null,
   "metadata": {},
   "outputs": [
    {
     "name": "stdout",
     "output_type": "stream",
     "text": [
      "Fitting 3 folds for each of 36 candidates, totalling 108 fits\n",
      "[CV] algorithm=ball_tree, leaf_size=30, metric=euclidean, n_neighbors=10 \n"
     ]
    }
   ],
   "source": [
    "grid.fit(nsl_training,L_nsl_training_indexbinary.values.ravel())"
   ]
  },
  {
   "cell_type": "code",
   "execution_count": null,
   "metadata": {
    "collapsed": true
   },
   "outputs": [],
   "source": []
  },
  {
   "cell_type": "code",
   "execution_count": null,
   "metadata": {
    "collapsed": true
   },
   "outputs": [],
   "source": []
  },
  {
   "cell_type": "code",
   "execution_count": null,
   "metadata": {
    "collapsed": true
   },
   "outputs": [],
   "source": []
  },
  {
   "cell_type": "code",
   "execution_count": null,
   "metadata": {
    "collapsed": true
   },
   "outputs": [],
   "source": []
  },
  {
   "cell_type": "code",
   "execution_count": null,
   "metadata": {
    "collapsed": true
   },
   "outputs": [],
   "source": []
  },
  {
   "cell_type": "code",
   "execution_count": null,
   "metadata": {
    "collapsed": true
   },
   "outputs": [],
   "source": [
    "parameters = {'kernel':['rbf'], 'C':[1, 10,100],'metric':(''),\n",
    "              'algorithm':[‘auto’, ‘ball_tree’, ‘kd_tree’, ‘brute’]}\n",
    "\n",
    "\n",
    "\n",
    "algorithm : {‘auto’, ‘ball_tree’, ‘kd_tree’, ‘brute’}"
   ]
  },
  {
   "cell_type": "code",
   "execution_count": null,
   "metadata": {
    "collapsed": true
   },
   "outputs": [],
   "source": [
    "classification_report(L_nsl_testing_indexbinary,predictions)"
   ]
  },
  {
   "cell_type": "code",
   "execution_count": null,
   "metadata": {
    "collapsed": true
   },
   "outputs": [],
   "source": [
    "sklearn.neighbors.KNeighborsClassifier\n",
    "class sklearn.neighbors.KNeighborsClassifier(n_neighbors=5, weights=’uniform’, algorithm=’auto’, \n",
    "                                            leaf_size=30, p=2, metric=’minkowski’, metric_params=None,\n",
    "                                             n_jobs=1, **kwargs"
   ]
  },
  {
   "cell_type": "code",
   "execution_count": null,
   "metadata": {
    "collapsed": true
   },
   "outputs": [],
   "source": [
    "param_grid={'C':[0.1,1,10,100,1000],'gamma':[1,0.1,0.01,0.001,0.0001]}"
   ]
  },
  {
   "cell_type": "code",
   "execution_count": null,
   "metadata": {
    "collapsed": true
   },
   "outputs": [],
   "source": [
    "grid=GridSearchCV(SVC(),param_grid,verbose=3)"
   ]
  },
  {
   "cell_type": "code",
   "execution_count": null,
   "metadata": {
    "collapsed": true
   },
   "outputs": [],
   "source": [
    "grid.fit(e_nsl_training,L_nsl_training_indexbinary.values.ravel())"
   ]
  },
  {
   "cell_type": "code",
   "execution_count": null,
   "metadata": {
    "collapsed": true
   },
   "outputs": [],
   "source": [
    "grid.best_params_"
   ]
  },
  {
   "cell_type": "code",
   "execution_count": null,
   "metadata": {
    "collapsed": true
   },
   "outputs": [],
   "source": [
    "grid.best_estimator_"
   ]
  },
  {
   "cell_type": "code",
   "execution_count": null,
   "metadata": {
    "collapsed": true
   },
   "outputs": [],
   "source": []
  },
  {
   "cell_type": "code",
   "execution_count": null,
   "metadata": {
    "collapsed": true
   },
   "outputs": [],
   "source": []
  },
  {
   "cell_type": "markdown",
   "metadata": {},
   "source": [
    "# KNN"
   ]
  },
  {
   "cell_type": "code",
   "execution_count": null,
   "metadata": {
    "collapsed": true
   },
   "outputs": [],
   "source": []
  }
 ],
 "metadata": {
  "kernelspec": {
   "display_name": "Python 3",
   "language": "python",
   "name": "python3"
  },
  "language_info": {
   "codemirror_mode": {
    "name": "ipython",
    "version": 3
   },
   "file_extension": ".py",
   "mimetype": "text/x-python",
   "name": "python",
   "nbconvert_exporter": "python",
   "pygments_lexer": "ipython3",
   "version": "3.6.1"
  }
 },
 "nbformat": 4,
 "nbformat_minor": 2
}
