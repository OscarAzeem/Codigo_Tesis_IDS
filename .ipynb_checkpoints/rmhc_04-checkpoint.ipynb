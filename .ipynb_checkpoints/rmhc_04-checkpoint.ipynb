{
 "cells": [
  {
   "cell_type": "markdown",
   "metadata": {},
   "source": [
    "# Librerías"
   ]
  },
  {
   "cell_type": "code",
   "execution_count": 8,
   "metadata": {
    "collapsed": true
   },
   "outputs": [],
   "source": [
    "import itertools\n",
    "import time\n",
    "import numpy as np\n",
    "import pandas as pd\n",
    "import matplotlib.pyplot as plt\n",
    "from matplotlib import offsetbox\n",
    "from sklearn import (manifold, datasets, decomposition, ensemble,\n",
    "                     discriminant_analysis, random_projection)#Prueba evaluación y entrenamiento un solo individuo. \n",
    "#Vectores completos\n",
    "from sklearn.metrics import classification_report,confusion_matrix,accuracy_score\n",
    "import random"
   ]
  },
  {
   "cell_type": "markdown",
   "metadata": {},
   "source": [
    "# Databases"
   ]
  },
  {
   "cell_type": "code",
   "execution_count": 9,
   "metadata": {
    "collapsed": true
   },
   "outputs": [],
   "source": [
    "#Reading all the cvs\n",
    "#Nss learning\n",
    "nsl_training=pd.read_csv('./Final_Datasets/MINMAX_FD_NSL_Tra.csv')\n",
    "#Nsl testing\n",
    "nsl_testing=pd.read_csv('./Final_Datasets/MINMAX_FD_NSL_Test.csv')"
   ]
  },
  {
   "cell_type": "markdown",
   "metadata": {},
   "source": [
    "# Labels"
   ]
  },
  {
   "cell_type": "code",
   "execution_count": 10,
   "metadata": {
    "collapsed": true
   },
   "outputs": [],
   "source": [
    "#NSL TESTING LABELS\n",
    "\n",
    "#Index binary (2 clases)\n",
    "L_nsl_testing_indexbinary=pd.read_csv(\"./Final_Datasets/L_nsl_testing_indexbinary.csv\")\n",
    "#Index by Group (5 clases)\n",
    "L_nsl_testing_indexbygroup=pd.read_csv(\"./Final_Datasets/L_nsl_testing_indexbygroup.csv\")\n",
    "#Index tipe of attack (42? clases)\n",
    "L_nsl_testing_indextipeofattack=pd.read_csv(\"./Final_Datasets/L_nsl_testing_indextipeofattack.csv\")\n",
    "\n",
    "\n",
    "#nsl TRAINING LABELS\n",
    "# 2 clases\n",
    "L_nsl_training_indexbinary=pd.read_csv(\"./Final_Datasets/L_nsl_training_indexbinary.csv\")\n",
    "#Index by Group (5 clases)\n",
    "L_nsl_training_indexbygroup=pd.read_csv(\"./Final_Datasets/L_nsl_training_indexbygroup.csv\")\n",
    "#Index tipe of attack (42? clases)\n",
    "L_nsl_training_indextipeofattack=pd.read_csv(\"./Final_Datasets/L_nsl_training_indextipeofattack.csv\")"
   ]
  },
  {
   "cell_type": "markdown",
   "metadata": {},
   "source": [
    "# Conversión de Pandas->Numpy (array) not Matrix"
   ]
  },
  {
   "cell_type": "code",
   "execution_count": 11,
   "metadata": {
    "collapsed": true
   },
   "outputs": [],
   "source": [
    "nsl_training=nsl_training.as_matrix(columns=None)\n",
    "nsl_testing=nsl_testing.as_matrix(columns=None)"
   ]
  },
  {
   "cell_type": "markdown",
   "metadata": {},
   "source": [
    "# Lectura del modelo"
   ]
  },
  {
   "cell_type": "code",
   "execution_count": 24,
   "metadata": {
    "collapsed": true
   },
   "outputs": [],
   "source": [
    "from sklearn.ensemble import RandomForestClassifier\n",
    "\n",
    "modelo=RandomForestClassifier(criterion='entropy',n_jobs=2, \n",
    "                              bootstrap=True, max_depth=10, max_features='sqrt', min_samples_leaf=2, \n",
    "                              min_samples_split=100, n_estimators=8)\n"
   ]
  },
  {
   "cell_type": "markdown",
   "metadata": {},
   "source": [
    "# Creacion de las funciones a utilizar"
   ]
  },
  {
   "cell_type": "code",
   "execution_count": 331,
   "metadata": {
    "scrolled": false
   },
   "outputs": [
    {
     "name": "stdout",
     "output_type": "stream",
     "text": [
      "Dimensiones activas: \n",
      "(array([ 1,  2,  4,  7,  9, 10, 14, 17, 18, 19, 21, 22, 23, 25, 26, 28, 29,\n",
      "       32, 34, 35, 36]),)\n",
      "Total de dimensiones activas: 21\n",
      "Porcentaje de exactitud: 0.764538881249 (accuracy score)\n"
     ]
    }
   ],
   "source": [
    "#inicio RMHC\n",
    "#M, comienza con la máxima cantidad de dimensiones posibles\n",
    "M=n_nsl_training.shape[1]\n",
    "\n",
    "\n",
    "#declaración de la primea solución del espacio de búsqueda. \n",
    "#de forma completamente aleatoria\n",
    "#La primer solución se considera la mejor en la primer iteración\n",
    "dimensiones_mejor=np.random.randint(2, size=M)\n",
    "\n",
    "#se filtra la base de datos con las dimensiones de dimensiones mejor\n",
    "#SE hacen cero las dimensiones a omitir\n",
    "#dimensiones_mejor contiene la mejor iteración, entonces es la dimensión activa\n",
    "training=n_nsl_training*dimensiones_mejor\n",
    "testing=n_nsl_testing*dimensiones_mejor\n",
    "\n",
    "#Se buscan esos ceros en el indice (dimensiones suspendidas)\n",
    "zeros=np.where(dimensiones_mejor == 0)\n",
    "\n",
    "#se obtienen los indices del los unos (dimensiones activas)\n",
    "unos=np.where(dimensiones_mejor==1)\n",
    "\n",
    "\n",
    "#se eliminan esas dimensiones\n",
    "training=np.delete(training,zeros,axis=1)\n",
    "testing=np.delete(testing,zeros,axis=1)\n",
    "\n",
    "\n",
    "#se declara un vector que contiene todas las dimensiones en cada iteración\n",
    "dimensiones_iteracion=[]\n",
    "dimensiones_iteracion.append(dimensiones_mejor)\n",
    "\n",
    "\n",
    "\n",
    "#se entrena el modelo\n",
    "modelo.fit(training,L_nsl_training_indexbinary.values.ravel())\n",
    "#se obtienen las predicciones\n",
    "predicciones=modelo.predict(testing)\n",
    "\n",
    "#se obtiene el accuracy score\n",
    "score_mejor=accuracy_score(L_nsl_testing_indexbinary,predicciones)\n",
    "#se declara un vector que contiene todos los score de todas las iteraciones\n",
    "\n",
    "score_iteracion=[]\n",
    "score_iteracion.append(score_mejor)\n",
    "\n",
    "\n",
    "print(\"Dimensiones activas: \")\n",
    "print(unos)\n",
    "print(\"Total de dimensiones activas: %s\" % np.array(unos).shape[1])\n",
    "print(\"Porcentaje de exactitud: %s (accuracy score)\" %accuracy_score(L_nsl_testing_indexbinary,predicciones))"
   ]
  },
  {
   "cell_type": "code",
   "execution_count": 25,
   "metadata": {
    "collapsed": true
   },
   "outputs": [],
   "source": [
    "def muta_vector_binario(dimensiones_temporales,M=20):\n",
    "    \"\"\"Dimensiones temporales: vector binario que contiene las dimensiones actuales de la ultima\n",
    "        iteración probada.\n",
    "        M=cantidad total de dimensiones a mutar. Si no se otorga un número\n",
    "        M es igual a la máxima cantidad de dimensiones en NSL-KDD\"\"\"\n",
    "    \n",
    "    vector_mutado=np.array(dimensiones_temporales)\n",
    "    #Genera números aleatorios entre 0 y M\n",
    "    #Dichos numeros aleatorios seran los indices a mutar entre de (vector_mutado)\n",
    "    indice=sorted(random.sample(list(range(0,vector_mutado.shape[0])), M))\n",
    "   \n",
    "    #Aplica la operación negación binaria a los valores del indice\n",
    "    for numero_indice in indice:\n",
    "        if vector_mutado[numero_indice]==0:\n",
    "            vector_mutado[numero_indice]=1\n",
    "        else:\n",
    "            vector_mutado[numero_indice]=0\n",
    "    #regresa el vector mutado\n",
    "    print(\"indice de vectores a mutar\")\n",
    "    print(indice)\n",
    "    print(\"\\n\")\n",
    "    print(\"Solución actual:\")\n",
    "    print(dimensiones_temporales)\n",
    "    print(\"Solución mutada:\")\n",
    "    print(vector_mutado)\n",
    "    print(\"\\n\")\n",
    "    return vector_mutado\n",
    "    "
   ]
  },
  {
   "cell_type": "markdown",
   "metadata": {},
   "source": [
    "# funcion muta vector binario corregida"
   ]
  },
  {
   "cell_type": "code",
   "execution_count": 81,
   "metadata": {
    "collapsed": true
   },
   "outputs": [],
   "source": [
    "def muta_vector_binario(dimensiones_temporales,M=20):\n",
    "    \"\"\"Dimensiones temporales: vector binario que contiene las dimensiones actuales de la ultima\n",
    "        iteración probada.\n",
    "        M=cantidad total de dimensiones a mutar. Si no se otorga un número\n",
    "        M es igual a la máxima cantidad de dimensiones en NSL-KDD\"\"\"\n",
    "    \n",
    "    vector_mutado=np.array(dimensiones_temporales)\n",
    "    #Genera números aleatorios entre 0 y M\n",
    "    #Dichos numeros aleatorios seran los indices a mutar de (vector_mutado)\n",
    "    indice=sorted(random.sample(list(range(0,40)),M))\n",
    "    \n",
    "   \n",
    "    #Aplica la operación negación binaria a los valores del indice\n",
    "    for numero_indice in indice:\n",
    "        if vector_mutado[numero_indice]==0:\n",
    "            vector_mutado[numero_indice]=1\n",
    "        else:\n",
    "            vector_mutado[numero_indice]=0\n",
    "    #regresa el vector mutado\n",
    "    print(\"indice de vectores a mutar\")\n",
    "    print(indice)\n",
    "    print(\"\\n\")\n",
    "    print(\"Solución actual:\")\n",
    "    print(dimensiones_temporales)\n",
    "    print(\"Solución mutada:\")\n",
    "    print(vector_mutado)\n",
    "    print(\"\\n\")\n",
    "    return vector_mutado\n",
    "    "
   ]
  },
  {
   "cell_type": "code",
   "execution_count": 26,
   "metadata": {
    "collapsed": true
   },
   "outputs": [],
   "source": [
    "def obtencion_parametros_binarios(vector_actual, M=40):\n",
    "    \"\"\"M=máximo número de dimensiones a mutar\n",
    "    vector_actual= vector binario, relacionado con la ultima iteracion\n",
    "    puede o no ser el mejor.\n",
    "    Regresa los zeros y unos actuales,\n",
    "    el ultimo vector binario,\n",
    "    los dataset filtrados\"\"\"\n",
    "\n",
    "    #Agregar la función para calcular M\n",
    "\n",
    "    \n",
    "    #Muta el ultimo vector\n",
    "    dimensiones_temporales=muta_vector_binario(vector_actual,M)\n",
    "\n",
    "    #se filtra la base de datos con las dimensiones de dimensiones mejor\n",
    "    #SE hacen cero las dimensiones a omitir\n",
    "    #dimensiones_temporales contiene la mejor iteración, entonces es la dimensión activa\n",
    "    training=nsl_training*dimensiones_temporales\n",
    "    testing=nsl_testing*dimensiones_temporales\n",
    "\n",
    "    #Se buscan esos ceros en el indice (dimensiones suspendidas)\n",
    "    zeros=np.where(dimensiones_temporales == 0)\n",
    "\n",
    "    #se obtienen los indices del los unos (dimensiones activas)\n",
    "    unos=np.where(dimensiones_temporales==1)\n",
    "\n",
    "    #se eliminan esas dimensiones\n",
    "    training=np.delete(training,zeros,axis=1)\n",
    "    testing=np.delete(testing,zeros,axis=1)\n",
    "\n",
    "    \n",
    "    return [dimensiones_temporales,zeros,unos,training,testing]"
   ]
  },
  {
   "cell_type": "markdown",
   "metadata": {},
   "source": [
    "# Inicio del algoritmo RMHC"
   ]
  },
  {
   "cell_type": "code",
   "execution_count": 27,
   "metadata": {
    "collapsed": true
   },
   "outputs": [],
   "source": [
    "from sklearn.ensemble import RandomForestClassifier\n",
    "\n",
    "modelo=RandomForestClassifier(criterion='entropy',n_jobs=2, \n",
    "                              bootstrap=True, max_depth=10, max_features='sqrt', min_samples_leaf=2, \n",
    "                              min_samples_split=100, n_estimators=8)\n"
   ]
  },
  {
   "cell_type": "code",
   "execution_count": 43,
   "metadata": {
    "collapsed": true
   },
   "outputs": [
    {
     "name": "stdout",
     "output_type": "stream",
     "text": [
      "solucion_inicial\n",
      "[1 0 1 0 0 0 0 0 1 0 0 1 0 0 0 0 0 1 0 1 0 0 0 1 1 0 1 1 0 1 1 1 0 0 1 1 1\n",
      " 0 0 1]\n",
      "\n",
      "\n",
      "\n",
      " Iteracion: 1 \n",
      "\n",
      "indice de vectores a mutar\n",
      "[0, 2, 4, 5, 6, 11, 12, 13, 15, 16, 17, 20, 22, 23, 25, 28, 30, 35, 36, 39]\n",
      "\n",
      "\n",
      "Solución actual:\n",
      "[1 0 1 0 0 0 0 0 1 0 0 1 0 0 0 0 0 1 0 1 0 0 0 1 1 0 1 1 0 1 1 1 0 0 1 1 1\n",
      " 0 0 1]\n",
      "Solución mutada:\n",
      "[0 0 0 0 1 1 1 0 1 0 0 0 1 1 0 1 1 0 0 1 1 0 1 0 1 1 1 1 1 1 0 1 0 0 1 0 0\n",
      " 0 0 0]\n",
      "\n",
      "\n",
      "Dimensiones activas: \n",
      "(array([ 4,  5,  6,  8, 12, 13, 15, 16, 19, 20, 22, 24, 25, 26, 27, 28, 29,\n",
      "       31, 34]),)\n",
      "Total de dimensiones activas: 19\n",
      "Porcentaje de exactitud: 0.77727010602 (accuracy score)\n",
      "Probabilidad de error (Perror): 0.22272989398\n",
      "\n",
      " Iteracion: 2 \n",
      "\n",
      "indice de vectores a mutar\n",
      "[0, 3, 10, 11, 15, 16, 17, 18, 19, 21, 22, 23, 24, 27, 29, 31, 32, 34, 38, 39]\n",
      "\n",
      "\n",
      "Solución actual:\n",
      "[0 0 0 0 1 1 1 0 1 0 0 0 1 1 0 1 1 0 0 1 1 0 1 0 1 1 1 1 1 1 0 1 0 0 1 0 0\n",
      " 0 0 0]\n",
      "Solución mutada:\n",
      "[1 0 0 1 1 1 1 0 1 0 1 1 1 1 0 0 0 1 1 0 1 1 0 1 0 1 1 0 1 0 0 0 1 0 0 0 0\n",
      " 0 1 1]\n",
      "\n",
      "\n",
      "Dimensiones activas: \n",
      "(array([ 0,  3,  4,  5,  6,  8, 10, 11, 12, 13, 17, 18, 20, 21, 23, 25, 26,\n",
      "       28, 32, 38, 39]),)\n",
      "Total de dimensiones activas: 21\n",
      "Porcentaje de exactitud: 0.753803841547 (accuracy score)\n",
      "Probabilidad de error (Perror): 0.246196158453\n",
      "\n",
      " Iteracion: 3 \n",
      "\n",
      "indice de vectores a mutar\n",
      "[0, 2, 4, 5, 6, 8, 10, 12, 13, 15, 16, 18, 19, 22, 23, 25, 27, 28, 31, 35]\n",
      "\n",
      "\n",
      "Solución actual:\n",
      "[1 0 0 1 1 1 1 0 1 0 1 1 1 1 0 0 0 1 1 0 1 1 0 1 0 1 1 0 1 0 0 0 1 0 0 0 0\n",
      " 0 1 1]\n",
      "Solución mutada:\n",
      "[0 0 1 1 0 0 0 0 0 0 0 1 0 0 0 1 1 1 0 1 1 1 1 0 0 0 1 1 0 0 0 1 1 0 0 1 0\n",
      " 0 1 1]\n",
      "\n",
      "\n",
      "Dimensiones activas: \n",
      "(array([ 2,  3, 11, 15, 16, 17, 19, 20, 21, 22, 26, 27, 31, 32, 35, 38, 39]),)\n",
      "Total de dimensiones activas: 17\n",
      "Porcentaje de exactitud: 0.756864658652 (accuracy score)\n",
      "Probabilidad de error (Perror): 0.243135341348\n",
      "\n",
      " Iteracion: 4 \n",
      "\n",
      "indice de vectores a mutar\n",
      "[1, 2, 3, 5, 6, 10, 12, 14, 17, 18, 20, 25, 26, 27, 28, 30, 32, 33, 35, 36]\n",
      "\n",
      "\n",
      "Solución actual:\n",
      "[0 0 1 1 0 0 0 0 0 0 0 1 0 0 0 1 1 1 0 1 1 1 1 0 0 0 1 1 0 0 0 1 1 0 0 1 0\n",
      " 0 1 1]\n",
      "Solución mutada:\n",
      "[0 1 0 0 0 1 1 0 0 0 1 1 1 0 1 1 1 0 1 1 0 1 1 0 0 1 0 0 1 0 1 1 0 1 0 0 1\n",
      " 0 1 1]\n",
      "\n",
      "\n",
      "Dimensiones activas: \n",
      "(array([ 1,  5,  6, 10, 11, 12, 14, 15, 16, 18, 19, 21, 22, 25, 28, 30, 31,\n",
      "       33, 36, 38, 39]),)\n",
      "Total de dimensiones activas: 21\n",
      "Porcentaje de exactitud: 0.744577030564 (accuracy score)\n",
      "Probabilidad de error (Perror): 0.255422969436\n",
      "\n",
      " Iteracion: 5 \n",
      "\n",
      "indice de vectores a mutar\n",
      "[0, 1, 4, 5, 6, 7, 9, 10, 11, 13, 14, 20, 21, 23, 28, 29, 32, 33, 36, 37]\n",
      "\n",
      "\n",
      "Solución actual:\n",
      "[0 1 0 0 0 1 1 0 0 0 1 1 1 0 1 1 1 0 1 1 0 1 1 0 0 1 0 0 1 0 1 1 0 1 0 0 1\n",
      " 0 1 1]\n",
      "Solución mutada:\n",
      "[1 0 0 0 1 0 0 1 0 1 0 0 1 1 0 1 1 0 1 1 1 0 1 1 0 1 0 0 0 1 1 1 1 0 0 0 0\n",
      " 1 1 1]\n",
      "\n",
      "\n",
      "Dimensiones activas: \n",
      "(array([ 0,  4,  7,  9, 12, 13, 15, 16, 18, 19, 20, 22, 23, 25, 29, 30, 31,\n",
      "       32, 37, 38, 39]),)\n",
      "Total de dimensiones activas: 21\n",
      "Porcentaje de exactitud: 0.733442753848 (accuracy score)\n",
      "Probabilidad de error (Perror): 0.266557246152\n",
      "\n",
      " Iteracion: 6 \n",
      "\n",
      "indice de vectores a mutar\n",
      "[0, 2, 5, 6, 7, 8, 10, 11, 13, 14, 18, 22, 24, 25, 26, 28, 34, 35, 37, 38]\n",
      "\n",
      "\n",
      "Solución actual:\n",
      "[1 0 0 0 1 0 0 1 0 1 0 0 1 1 0 1 1 0 1 1 1 0 1 1 0 1 0 0 0 1 1 1 1 0 0 0 0\n",
      " 1 1 1]\n",
      "Solución mutada:\n",
      "[0 0 1 0 1 1 1 0 1 1 1 1 1 0 1 1 1 0 0 1 1 0 0 1 1 0 1 0 1 1 1 1 1 0 1 1 0\n",
      " 0 0 1]\n",
      "\n",
      "\n",
      "Dimensiones activas: \n",
      "(array([ 2,  4,  5,  6,  8,  9, 10, 11, 12, 14, 15, 16, 19, 20, 23, 24, 26,\n",
      "       28, 29, 30, 31, 32, 34, 35, 39]),)\n",
      "Total de dimensiones activas: 25\n",
      "Porcentaje de exactitud: 0.766623785654 (accuracy score)\n",
      "Probabilidad de error (Perror): 0.233376214346\n",
      "\n",
      " Iteracion: 7 \n",
      "\n",
      "indice de vectores a mutar\n",
      "[1, 2, 3, 5, 6, 9, 13, 15, 21, 23, 24, 25, 26, 30, 32, 33, 35, 36, 38, 39]\n",
      "\n",
      "\n",
      "Solución actual:\n",
      "[0 0 1 0 1 1 1 0 1 1 1 1 1 0 1 1 1 0 0 1 1 0 0 1 1 0 1 0 1 1 1 1 1 0 1 1 0\n",
      " 0 0 1]\n",
      "Solución mutada:\n",
      "[0 1 0 1 1 0 0 0 1 0 1 1 1 1 1 0 1 0 0 1 1 1 0 0 0 1 0 0 1 1 0 1 0 1 1 0 1\n",
      " 0 1 0]\n",
      "\n",
      "\n",
      "Dimensiones activas: \n",
      "(array([ 1,  3,  4,  8, 10, 11, 12, 13, 14, 16, 19, 20, 21, 25, 28, 29, 31,\n",
      "       33, 34, 36, 38]),)\n",
      "Total de dimensiones activas: 21\n",
      "Porcentaje de exactitud: 0.76280885419 (accuracy score)\n",
      "Probabilidad de error (Perror): 0.23719114581\n",
      "\n",
      " Iteracion: 8 \n",
      "\n",
      "indice de vectores a mutar\n",
      "[0, 4, 5, 8, 10, 14, 16, 17, 18, 19, 20, 21, 23, 25, 26, 27, 29, 31, 35, 36]\n",
      "\n",
      "\n",
      "Solución actual:\n",
      "[0 1 0 1 1 0 0 0 1 0 1 1 1 1 1 0 1 0 0 1 1 1 0 0 0 1 0 0 1 1 0 1 0 1 1 0 1\n",
      " 0 1 0]\n",
      "Solución mutada:\n",
      "[1 1 0 1 0 1 0 0 0 0 0 1 1 1 0 0 0 1 1 0 0 0 0 1 0 0 1 1 1 0 0 0 0 1 1 1 0\n",
      " 0 1 0]\n",
      "\n",
      "\n",
      "Dimensiones activas: \n",
      "(array([ 0,  1,  3,  5, 11, 12, 13, 17, 18, 23, 26, 27, 28, 33, 34, 35, 38]),)\n",
      "Total de dimensiones activas: 17\n",
      "Porcentaje de exactitud: 0.769862041432 (accuracy score)\n",
      "Probabilidad de error (Perror): 0.230137958568\n",
      "\n",
      " Iteracion: 9 \n",
      "\n",
      "indice de vectores a mutar\n",
      "[0, 3, 4, 5, 7, 9, 10, 11, 19, 20, 21, 22, 24, 25, 27, 30, 34, 35, 37, 38]\n",
      "\n",
      "\n",
      "Solución actual:\n",
      "[1 1 0 1 0 1 0 0 0 0 0 1 1 1 0 0 0 1 1 0 0 0 0 1 0 0 1 1 1 0 0 0 0 1 1 1 0\n",
      " 0 1 0]\n",
      "Solución mutada:\n",
      "[0 1 0 0 1 0 0 1 0 1 1 0 1 1 0 0 0 1 1 1 1 1 1 1 1 1 1 0 1 0 1 0 0 1 0 0 0\n",
      " 1 0 0]\n",
      "\n",
      "\n",
      "Dimensiones activas: \n",
      "(array([ 1,  4,  7,  9, 10, 12, 13, 17, 18, 19, 20, 21, 22, 23, 24, 25, 26,\n",
      "       28, 30, 33, 37]),)\n",
      "Total de dimensiones activas: 21\n",
      "Porcentaje de exactitud: 0.756287982966 (accuracy score)\n",
      "Probabilidad de error (Perror): 0.243712017034\n",
      "\n",
      " Iteracion: 10 \n",
      "\n",
      "indice de vectores a mutar\n",
      "[0, 3, 4, 6, 7, 11, 13, 14, 15, 16, 17, 19, 21, 22, 24, 27, 28, 30, 31, 37]\n",
      "\n",
      "\n",
      "Solución actual:\n",
      "[0 1 0 0 1 0 0 1 0 1 1 0 1 1 0 0 0 1 1 1 1 1 1 1 1 1 1 0 1 0 1 0 0 1 0 0 0\n",
      " 1 0 0]\n",
      "Solución mutada:\n",
      "[1 1 0 1 0 0 1 0 0 1 1 1 1 0 1 1 1 0 1 0 1 0 0 1 0 1 1 1 0 0 0 1 0 1 0 0 0\n",
      " 0 0 0]\n",
      "\n",
      "\n",
      "Dimensiones activas: \n",
      "(array([ 0,  1,  3,  6,  9, 10, 11, 12, 14, 15, 16, 18, 20, 23, 25, 26, 27,\n",
      "       31, 33]),)\n",
      "Total de dimensiones activas: 19\n",
      "Porcentaje de exactitud: 0.75619926363 (accuracy score)\n",
      "Probabilidad de error (Perror): 0.24380073637\n"
     ]
    }
   ],
   "source": [
    "i=0\n",
    "M=40\n",
    "iteraciones_maximas=10\n",
    "mejor_solucion=np.random.randint(2, size=M)\n",
    "#almacena los score de todas las iteraciones\n",
    "registro_score_iteracion=[]\n",
    "#almacena la probabilidad de error de todas las iteraciones\n",
    "registro_perror_iteracion=[]\n",
    "#almacena el vector binario de todas las iteraciones\n",
    "registro_dimensiones_iteracion=[]\n",
    "#registro de la probabilidad de error de los valores aceptados\n",
    "registro_perror_valores_aceptados=[]\n",
    "#almacena unicamente el score de los vectores binarios aceptados\n",
    "registro_score_valores_aceptados=[]\n",
    "#almacena el vector binario de los valores aceptados (dimensiones_activas)\n",
    "registro_dimensiones_activas_valores_aceptados=[]\n",
    "#registro de las dimensiones activas por iteracion\n",
    "registro_dimensiones_activas_iteracion=[]\n",
    "#registro de la cantidad de dimensiones activas por iteracion\n",
    "registro_cantidad_dimensiones_activas_iteracion=[]\n",
    "\n",
    "\n",
    "\n",
    "print(\"solucion_inicial\")\n",
    "print(mejor_solucion)\n",
    "print(\"\\n\")\n",
    "\n",
    "dimensiones_temporales=np.array(mejor_solucion)\n",
    "\n",
    "while (i<iteraciones_maximas):\n",
    "    print(\"\\n Iteracion: %s \\n\" %(i+1))\n",
    "    [dimensiones_temporales,zeros,unos,training,testing]=obtencion_parametros_binarios(dimensiones_temporales,M=20)    \n",
    "    #Se evaluan los resultados\n",
    "    #se entrena el modelo\n",
    "    modelo.fit(training,L_nsl_training_indexbinary.values.ravel())\n",
    "    #se obtienen las predicciones\n",
    "    predicciones=modelo.predict(testing)\n",
    "\n",
    "    #se obtiene el accuracy score\n",
    "    score_actual=accuracy_score(L_nsl_testing_indexbinary,predicciones)\n",
    "    #se obtiene la probabilidad de error\n",
    "    perror_actual=1-score_actual\n",
    "    \n",
    "    #se declara un vector que contiene todos los score de todas las iteraciones\n",
    "\n",
    "    #Se almacenan los resultados\n",
    "    registro_score_iteracion.append(score_actual)\n",
    "    registro_dimensiones_iteracion.append(dimensiones_temporales)\n",
    "    registro_perror_iteracion.append(perror_actual)\n",
    "    registro_dimensiones_activas_iteracion.append(unos)\n",
    "    registro_cantidad_dimensiones_activas_iteracion.append(np.array(unos).shape[1])\n",
    "\n",
    "    \n",
    "    #Se imprimen los resultados\n",
    "    print(\"Dimensiones activas: \")\n",
    "    print(unos)\n",
    "    print(\"Total de dimensiones activas: %s\" % np.array(unos).shape[1])\n",
    "    print(\"Porcentaje de exactitud: %s (accuracy score)\" %accuracy_score(L_nsl_testing_indexbinary,predicciones))\n",
    "    print(\"Probabilidad de error (Perror): %s\" % (1-accuracy_score(L_nsl_testing_indexbinary,predicciones)))\n",
    "    \n",
    "    i=i+1\n",
    "    "
   ]
  },
  {
   "cell_type": "code",
   "execution_count": 44,
   "metadata": {},
   "outputs": [
    {
     "data": {
      "text/plain": [
       "[19, 21, 17, 21, 21, 25, 21, 17, 21, 19]"
      ]
     },
     "execution_count": 44,
     "metadata": {},
     "output_type": "execute_result"
    }
   ],
   "source": [
    "registro_cantidad_dimensiones_activas_iteracion"
   ]
  },
  {
   "cell_type": "code",
   "execution_count": 32,
   "metadata": {},
   "outputs": [
    {
     "data": {
      "text/plain": [
       "[0.25622144346360287,\n",
       " 0.24038504191988641,\n",
       " 0.23692498780109128,\n",
       " 0.2490351772168744,\n",
       " 0.24779310650756337,\n",
       " 0.24739386949385622,\n",
       " 0.22902896686332785,\n",
       " 0.25182983631282441,\n",
       " 0.21407975868340501,\n",
       " 0.21709621612030339]"
      ]
     },
     "execution_count": 32,
     "metadata": {},
     "output_type": "execute_result"
    }
   ],
   "source": [
    "registro_perror_iteracion"
   ]
  },
  {
   "cell_type": "code",
   "execution_count": 33,
   "metadata": {},
   "outputs": [
    {
     "data": {
      "text/plain": [
       "[array([1, 0, 0, 1, 1, 0, 1, 0, 1, 1, 0, 1, 0, 1, 1, 0, 0, 0, 1, 0, 1, 0, 1,\n",
       "        1, 1, 0, 1, 1, 1, 0, 1, 1, 0, 1, 0, 0, 0, 1, 0, 0]),\n",
       " array([0, 1, 1, 1, 1, 0, 1, 0, 1, 0, 1, 1, 0, 0, 1, 1, 0, 0, 1, 0, 0, 0, 1,\n",
       "        1, 0, 1, 0, 0, 0, 0, 0, 0, 1, 1, 0, 1, 1, 0, 1, 0]),\n",
       " array([1, 1, 0, 0, 1, 0, 0, 1, 1, 1, 0, 0, 0, 0, 1, 0, 1, 0, 0, 1, 0, 0, 1,\n",
       "        0, 1, 0, 1, 0, 0, 1, 0, 0, 1, 1, 0, 1, 0, 0, 0, 1]),\n",
       " array([1, 1, 0, 1, 1, 1, 0, 0, 1, 1, 0, 1, 1, 0, 1, 1, 0, 1, 1, 1, 1, 0, 0,\n",
       "        0, 0, 0, 0, 1, 1, 1, 0, 1, 1, 0, 0, 1, 1, 1, 0, 0]),\n",
       " array([1, 1, 1, 0, 0, 1, 1, 0, 1, 1, 1, 0, 0, 0, 0, 1, 0, 0, 1, 0, 1, 0, 0,\n",
       "        0, 1, 0, 0, 0, 0, 1, 1, 0, 0, 1, 0, 0, 1, 0, 1, 0]),\n",
       " array([0, 0, 0, 1, 0, 1, 1, 1, 1, 0, 0, 0, 1, 1, 0, 0, 0, 0, 0, 0, 1, 1, 0,\n",
       "        0, 1, 1, 0, 1, 1, 0, 0, 0, 0, 1, 1, 1, 1, 0, 1, 1]),\n",
       " array([1, 1, 0, 1, 1, 1, 0, 0, 0, 1, 0, 1, 0, 1, 1, 0, 1, 1, 0, 1, 0, 1, 0,\n",
       "        0, 1, 1, 0, 1, 1, 0, 1, 1, 0, 0, 1, 0, 0, 0, 0, 1]),\n",
       " array([1, 0, 1, 1, 0, 0, 1, 1, 1, 0, 0, 0, 0, 0, 1, 1, 0, 1, 1, 1, 1, 0, 0,\n",
       "        0, 1, 0, 0, 0, 1, 0, 0, 1, 0, 0, 0, 1, 0, 0, 0, 1]),\n",
       " array([1, 1, 1, 1, 0, 1, 0, 1, 1, 0, 0, 1, 1, 1, 1, 0, 0, 0, 1, 0, 0, 1, 1,\n",
       "        1, 0, 0, 1, 0, 1, 0, 1, 0, 0, 0, 0, 1, 0, 1, 1, 0]),\n",
       " array([0, 0, 1, 0, 1, 0, 0, 1, 0, 1, 1, 0, 1, 1, 0, 0, 1, 0, 1, 1, 1, 0, 0,\n",
       "        1, 0, 0, 1, 0, 0, 0, 1, 1, 0, 1, 0, 0, 0, 1, 1, 1])]"
      ]
     },
     "execution_count": 33,
     "metadata": {},
     "output_type": "execute_result"
    }
   ],
   "source": [
    "registro_dimensiones_iteracion"
   ]
  },
  {
   "cell_type": "code",
   "execution_count": 35,
   "metadata": {
    "scrolled": true
   },
   "outputs": [
    {
     "data": {
      "text/plain": [
       "[(array([ 1,  2,  3,  6,  8,  9, 10, 11, 15, 16, 17, 21, 23, 24, 27, 28, 32,\n",
       "         33, 34, 35, 36, 38, 39]),),\n",
       " (array([ 0,  1,  2,  4,  7,  9, 10, 11, 13, 15, 19, 23, 24, 25, 28, 29, 32]),),\n",
       " (array([ 0,  1,  3,  5,  6,  8, 10, 13, 15, 17, 19, 20, 21, 22, 23, 27, 28,\n",
       "         29, 30, 36, 38]),),\n",
       " (array([ 2,  4,  5,  7,  9, 10, 12, 15, 19, 20, 23, 27, 32, 35, 36]),),\n",
       " (array([ 0,  3,  4,  5,  7,  9, 10, 12, 13, 14, 16, 18, 19, 20, 21, 24, 25,\n",
       "         26, 28, 31, 36, 37, 39]),),\n",
       " (array([ 0,  1,  2,  5,  6,  7,  8,  9, 10, 11, 12, 16, 19, 20, 22, 27, 30,\n",
       "         31, 35, 36, 37, 38, 39]),),\n",
       " (array([ 1,  2,  3,  8,  9, 11, 12, 14, 15, 16, 17, 18, 19, 20, 21, 22, 26,\n",
       "         28, 31, 33, 35]),),\n",
       " (array([ 3,  6,  9, 11, 15, 16, 20, 23, 24, 26, 30, 31, 36, 37, 38]),),\n",
       " (array([ 0,  1,  5,  6,  8, 10, 13, 15, 16, 17, 20, 21, 23, 24, 25, 30, 32,\n",
       "         33, 34, 36, 39]),),\n",
       " (array([ 0,  1,  3,  4,  6, 13, 16, 20, 22, 24, 26, 28, 33, 35, 38]),)]"
      ]
     },
     "execution_count": 35,
     "metadata": {},
     "output_type": "execute_result"
    }
   ],
   "source": [
    "registro_dimensiones_activas_iteracion"
   ]
  },
  {
   "cell_type": "code",
   "execution_count": null,
   "metadata": {
    "collapsed": true
   },
   "outputs": [],
   "source": [
    "registro"
   ]
  },
  {
   "cell_type": "code",
   "execution_count": null,
   "metadata": {
    "collapsed": true
   },
   "outputs": [],
   "source": []
  },
  {
   "cell_type": "markdown",
   "metadata": {},
   "source": [
    "# Funcion para calcular M dependiendo de las iteraciones"
   ]
  },
  {
   "cell_type": "code",
   "execution_count": 22,
   "metadata": {},
   "outputs": [],
   "source": [
    "def M_dimensiones_a_mutar(Perror,i_actual,i_max,M_Max=40):\n",
    "    iteraciones=1-(i_actual/i_max)\n",
    "    M=M_Max*np.amin([iteraciones,Perror])\n",
    "    M=np.array(np.round_(M))\n",
    "    return M"
   ]
  },
  {
   "cell_type": "code",
   "execution_count": 48,
   "metadata": {
    "scrolled": true
   },
   "outputs": [
    {
     "name": "stdout",
     "output_type": "stream",
     "text": [
      "0.0\n",
      "0.0\n",
      "0.0\n",
      "0.0\n",
      "0.0\n",
      "0.0\n",
      "0.0\n",
      "0.0\n",
      "0.0\n",
      "0.0\n",
      "0.0\n",
      "0.0\n",
      "0.0\n",
      "0.0\n",
      "0.0\n",
      "0.0\n",
      "0.0\n",
      "0.0\n",
      "0.0\n",
      "0.0\n",
      "0.0\n",
      "0.0\n",
      "0.0\n",
      "0.0\n",
      "0.0\n",
      "0.0\n",
      "0.0\n",
      "0.0\n",
      "0.0\n",
      "0.0\n",
      "0.0\n",
      "0.0\n",
      "0.0\n",
      "0.0\n",
      "0.0\n",
      "0.0\n",
      "0.0\n",
      "0.0\n",
      "0.0\n",
      "0.0\n",
      "0.0\n",
      "0.0\n",
      "0.0\n",
      "0.0\n",
      "0.0\n",
      "0.0\n",
      "0.0\n",
      "0.0\n",
      "0.0\n",
      "0.0\n",
      "0.0\n",
      "0.0\n",
      "0.0\n",
      "0.0\n",
      "0.0\n",
      "0.0\n",
      "0.0\n",
      "0.0\n",
      "0.0\n",
      "0.0\n",
      "0.0\n",
      "0.0\n",
      "0.0\n",
      "0.0\n",
      "0.0\n",
      "0.0\n",
      "0.0\n",
      "0.0\n",
      "0.0\n",
      "0.0\n",
      "0.0\n",
      "0.0\n",
      "0.0\n",
      "0.0\n",
      "0.0\n",
      "0.0\n",
      "0.0\n",
      "0.0\n",
      "0.0\n",
      "0.0\n",
      "0.0\n",
      "0.0\n",
      "0.0\n",
      "0.0\n",
      "0.0\n",
      "0.0\n",
      "0.0\n",
      "0.0\n",
      "0.0\n",
      "0.0\n",
      "0.0\n",
      "0.0\n",
      "0.0\n",
      "0.0\n",
      "0.0\n",
      "0.0\n",
      "0.0\n",
      "0.0\n",
      "0.0\n",
      "0.0\n",
      "0.0\n",
      "0.0\n",
      "0.0\n",
      "0.0\n",
      "0.0\n",
      "0.0\n",
      "0.0\n",
      "0.0\n",
      "0.0\n",
      "0.0\n",
      "0.0\n",
      "0.0\n",
      "0.0\n",
      "0.0\n",
      "0.0\n",
      "0.0\n",
      "0.0\n",
      "0.0\n",
      "0.0\n",
      "0.0\n",
      "0.0\n",
      "0.0\n",
      "0.0\n",
      "0.0\n",
      "0.0\n",
      "0.0\n",
      "0.0\n",
      "0.0\n",
      "0.0\n",
      "0.0\n",
      "0.0\n",
      "0.0\n",
      "0.0\n",
      "0.0\n",
      "0.0\n",
      "0.0\n",
      "0.0\n",
      "0.0\n",
      "0.0\n",
      "0.0\n",
      "0.0\n",
      "0.0\n",
      "0.0\n",
      "0.0\n",
      "0.0\n",
      "0.0\n",
      "0.0\n",
      "0.0\n",
      "0.0\n",
      "0.0\n",
      "0.0\n",
      "0.0\n",
      "0.0\n",
      "0.0\n",
      "0.0\n",
      "0.0\n",
      "0.0\n",
      "0.0\n",
      "0.0\n",
      "0.0\n",
      "0.0\n",
      "0.0\n",
      "0.0\n",
      "0.0\n",
      "0.0\n",
      "0.0\n",
      "0.0\n",
      "0.0\n",
      "0.0\n",
      "0.0\n",
      "0.0\n",
      "0.0\n",
      "0.0\n",
      "0.0\n",
      "0.0\n",
      "0.0\n",
      "0.0\n",
      "0.0\n",
      "0.0\n",
      "0.0\n",
      "0.0\n",
      "0.0\n",
      "0.0\n",
      "0.0\n",
      "0.0\n",
      "0.0\n",
      "0.0\n",
      "0.0\n",
      "0.0\n",
      "0.0\n",
      "0.0\n",
      "0.0\n",
      "0.0\n",
      "0.0\n",
      "0.0\n",
      "0.0\n",
      "0.0\n",
      "0.0\n",
      "0.0\n",
      "0.0\n"
     ]
    }
   ],
   "source": [
    "Perror=0.01\n",
    "i_max=200\n",
    "M_Max=40\n",
    "for elemento in list(range(1,i_max+1)):\n",
    "    M=dimensiones_a_mutar(Perror,elemento,i_max,M_Max)\n",
    "    print(M)"
   ]
  },
  {
   "cell_type": "markdown",
   "metadata": {},
   "source": [
    "# Funcion para calcular el ren"
   ]
  },
  {
   "cell_type": "code",
   "execution_count": 56,
   "metadata": {},
   "outputs": [
    {
     "name": "stdout",
     "output_type": "stream",
     "text": [
      "solucion_inicial\n",
      "[0 0 0 1 1 0 1 1 0 0 1 0 1 0 0 0 0 1 1 0 1 1 0 0 0 0 1 1 1 0 1 0 1 1 0 0 0\n",
      " 1]\n",
      "\n",
      "\n",
      "\n",
      " Iteracion: 1 \n",
      "\n"
     ]
    },
    {
     "ename": "IndexError",
     "evalue": "index 38 is out of bounds for axis 0 with size 38",
     "output_type": "error",
     "traceback": [
      "\u001b[0;31m---------------------------------------------------------------------------\u001b[0m",
      "\u001b[0;31mIndexError\u001b[0m                                Traceback (most recent call last)",
      "\u001b[0;32m<ipython-input-56-6c7206c75dbf>\u001b[0m in \u001b[0;36m<module>\u001b[0;34m()\u001b[0m\n\u001b[1;32m     31\u001b[0m     \u001b[0mprint\u001b[0m\u001b[0;34m(\u001b[0m\u001b[0;34m\"\\n Iteracion: %s \\n\"\u001b[0m \u001b[0;34m%\u001b[0m\u001b[0;34m(\u001b[0m\u001b[0mi\u001b[0m\u001b[0;34m)\u001b[0m\u001b[0;34m)\u001b[0m\u001b[0;34m\u001b[0m\u001b[0m\n\u001b[1;32m     32\u001b[0m \u001b[0;34m\u001b[0m\u001b[0m\n\u001b[0;32m---> 33\u001b[0;31m     \u001b[0;34m[\u001b[0m\u001b[0mdimensiones_temporales\u001b[0m\u001b[0;34m,\u001b[0m\u001b[0mzeros\u001b[0m\u001b[0;34m,\u001b[0m\u001b[0munos\u001b[0m\u001b[0;34m,\u001b[0m\u001b[0mtraining\u001b[0m\u001b[0;34m,\u001b[0m\u001b[0mtesting\u001b[0m\u001b[0;34m]\u001b[0m\u001b[0;34m=\u001b[0m\u001b[0mobtencion_parametros_binarios\u001b[0m\u001b[0;34m(\u001b[0m\u001b[0mdimensiones_temporales\u001b[0m\u001b[0;34m,\u001b[0m\u001b[0mM\u001b[0m\u001b[0;34m)\u001b[0m\u001b[0;34m\u001b[0m\u001b[0m\n\u001b[0m\u001b[1;32m     34\u001b[0m     \u001b[0;31m#Se evaluan los resultados\u001b[0m\u001b[0;34m\u001b[0m\u001b[0;34m\u001b[0m\u001b[0m\n\u001b[1;32m     35\u001b[0m     \u001b[0;31m#se entrena el modelo\u001b[0m\u001b[0;34m\u001b[0m\u001b[0;34m\u001b[0m\u001b[0m\n",
      "\u001b[0;32m<ipython-input-26-eea41065ca89>\u001b[0m in \u001b[0;36mobtencion_parametros_binarios\u001b[0;34m(vector_actual, M)\u001b[0m\n\u001b[1;32m     11\u001b[0m \u001b[0;34m\u001b[0m\u001b[0m\n\u001b[1;32m     12\u001b[0m     \u001b[0;31m#Muta el ultimo vector\u001b[0m\u001b[0;34m\u001b[0m\u001b[0;34m\u001b[0m\u001b[0m\n\u001b[0;32m---> 13\u001b[0;31m     \u001b[0mdimensiones_temporales\u001b[0m\u001b[0;34m=\u001b[0m\u001b[0mmuta_vector_binario\u001b[0m\u001b[0;34m(\u001b[0m\u001b[0mvector_actual\u001b[0m\u001b[0;34m,\u001b[0m\u001b[0mM\u001b[0m\u001b[0;34m)\u001b[0m\u001b[0;34m\u001b[0m\u001b[0m\n\u001b[0m\u001b[1;32m     14\u001b[0m \u001b[0;34m\u001b[0m\u001b[0m\n\u001b[1;32m     15\u001b[0m     \u001b[0;31m#se filtra la base de datos con las dimensiones de dimensiones mejor\u001b[0m\u001b[0;34m\u001b[0m\u001b[0;34m\u001b[0m\u001b[0m\n",
      "\u001b[0;32m<ipython-input-55-8eeaa920fa3f>\u001b[0m in \u001b[0;36mmuta_vector_binario\u001b[0;34m(dimensiones_temporales, M)\u001b[0m\n\u001b[1;32m     15\u001b[0m     \u001b[0;31m#Aplica la operación negación binaria a los valores del indice\u001b[0m\u001b[0;34m\u001b[0m\u001b[0;34m\u001b[0m\u001b[0m\n\u001b[1;32m     16\u001b[0m     \u001b[0;32mfor\u001b[0m \u001b[0mnumero_indice\u001b[0m \u001b[0;32min\u001b[0m \u001b[0mindice\u001b[0m\u001b[0;34m:\u001b[0m\u001b[0;34m\u001b[0m\u001b[0m\n\u001b[0;32m---> 17\u001b[0;31m         \u001b[0;32mif\u001b[0m \u001b[0mvector_mutado\u001b[0m\u001b[0;34m[\u001b[0m\u001b[0mnumero_indice\u001b[0m\u001b[0;34m]\u001b[0m\u001b[0;34m==\u001b[0m\u001b[0;36m0\u001b[0m\u001b[0;34m:\u001b[0m\u001b[0;34m\u001b[0m\u001b[0m\n\u001b[0m\u001b[1;32m     18\u001b[0m             \u001b[0mvector_mutado\u001b[0m\u001b[0;34m[\u001b[0m\u001b[0mnumero_indice\u001b[0m\u001b[0;34m]\u001b[0m\u001b[0;34m=\u001b[0m\u001b[0;36m1\u001b[0m\u001b[0;34m\u001b[0m\u001b[0m\n\u001b[1;32m     19\u001b[0m         \u001b[0;32melse\u001b[0m\u001b[0;34m:\u001b[0m\u001b[0;34m\u001b[0m\u001b[0m\n",
      "\u001b[0;31mIndexError\u001b[0m: index 38 is out of bounds for axis 0 with size 38"
     ]
    }
   ],
   "source": [
    "i=1\n",
    "M=38\n",
    "iteraciones_maximas=11\n",
    "#la declaracion tiene que ser 40! cómo puede tener menos dimensinoes???!!!\n",
    "mejor_solucion=np.random.randint(2, size=40)\n",
    "#almacena los score de todas las iteraciones\n",
    "registro_score_iteracion=[]\n",
    "#almacena la probabilidad de error de todas las iteraciones\n",
    "registro_perror_iteracion=[]\n",
    "#almacena el vector binario de todas las iteraciones\n",
    "registro_dimensiones_iteracion=[]\n",
    "#registro de la probabilidad de error de los valores aceptados\n",
    "registro_perror_valores_aceptados=[]\n",
    "#almacena unicamente el score de los vectores binarios aceptados\n",
    "registro_score_valores_aceptados=[]\n",
    "#almacena el vector binario de los valores aceptados (dimensiones_activas)\n",
    "registro_dimensiones_activas_valores_aceptados=[]\n",
    "#registro de las dimensiones activas por iteracion\n",
    "registro_dimensiones_activas_iteracion=[]\n",
    "#registro de la cantidad de dimensiones activas por iteracion\n",
    "registro_cantidad_dimensiones_activas_iteracion=[]\n",
    "\n",
    "\n",
    "\n",
    "print(\"solucion_inicial\")\n",
    "print(mejor_solucion)\n",
    "print(\"\\n\")\n",
    "\n",
    "dimensiones_temporales=np.array(mejor_solucion)\n",
    "\n",
    "while (i<iteraciones_maximas):\n",
    "    print(\"\\n Iteracion: %s \\n\" %(i))\n",
    "    \n",
    "    [dimensiones_temporales,zeros,unos,training,testing]=obtencion_parametros_binarios(dimensiones_temporales,M)    \n",
    "    #Se evaluan los resultados\n",
    "    #se entrena el modelo\n",
    "    modelo.fit(training,L_nsl_training_indexbinary.values.ravel())\n",
    "    #se obtienen las predicciones\n",
    "    predicciones=modelo.predict(testing)\n",
    "\n",
    "    #se obtiene el accuracy score\n",
    "    score_actual=accuracy_score(L_nsl_testing_indexbinary,predicciones)\n",
    "    #se obtiene la probabilidad de error\n",
    "    perror_actual=1-score_actual\n",
    "    \n",
    "    #se declara un vector que contiene todos los score de todas las iteraciones\n",
    "\n",
    "    #Se almacenan los resultados\n",
    "    registro_score_iteracion.append(score_actual)\n",
    "    registro_dimensiones_iteracion.append(dimensiones_temporales)\n",
    "    registro_perror_iteracion.append(perror_actual)\n",
    "    registro_dimensiones_activas_iteracion.append(unos)\n",
    "    registro_cantidad_dimensiones_activas_iteracion.append(np.array(unos).shape[1])\n",
    "\n",
    "    \n",
    "    #Se imprimen los resultados\n",
    "    print(\"Dimensiones activas: \")\n",
    "    print(unos)\n",
    "    print(\"Total de dimensiones activas: %s\" % np.array(unos).shape[1])\n",
    "    print(\"Porcentaje de exactitud: %s (accuracy score)\" %accuracy_score(L_nsl_testing_indexbinary,predicciones))\n",
    "    print(\"Probabilidad de error (Perror): %s\" % (1-accuracy_score(L_nsl_testing_indexbinary,predicciones)))\n",
    "    \n",
    "    #M se calcula al final\n",
    "    \n",
    "    M=M_dimensiones_a_mutar(perror_actual,i,iteraciones_maximas,M_Max=40)\n",
    "    \n",
    "    i=i+1\n",
    "    "
   ]
  },
  {
   "cell_type": "code",
   "execution_count": null,
   "metadata": {
    "collapsed": true
   },
   "outputs": [],
   "source": [
    "def muta_vector_binario(dimensiones_temporales,M=20):\n",
    "    \"\"\"Dimensiones temporales: vector binario que contiene las dimensiones actuales de la ultima\n",
    "        iteración probada.\n",
    "        M=cantidad total de dimensiones a mutar. Si no se otorga un número\n",
    "        M es igual a la máxima cantidad de dimensiones en NSL-KDD\"\"\"\n",
    "    \n",
    "    vector_mutado=np.array(dimensiones_temporales)\n",
    "    #Genera números aleatorios entre 0 y M\n",
    "    #Dichos numeros aleatorios seran los indices a mutar entre de (vector_mutado)\n",
    "    indice=sorted(random.sample(list(range(0,40)),M))\n",
    "    \n",
    "    #indice=sorted(random.sample(list(range(0,vector_mutado.shape[0])), M))\n",
    "   \n",
    "    #Aplica la operación negación binaria a los valores del indice\n",
    "    for numero_indice in indice:\n",
    "        if vector_mutado[numero_indice]==0:\n",
    "            vector_mutado[numero_indice]=1\n",
    "        else:\n",
    "            vector_mutado[numero_indice]=0\n",
    "    #regresa el vector mutado\n",
    "    print(\"indice de vectores a mutar\")\n",
    "    print(indice)\n",
    "    print(\"\\n\")\n",
    "    print(\"Solución actual:\")\n",
    "    print(dimensiones_temporales)\n",
    "    print(\"Solución mutada:\")\n",
    "    print(vector_mutado)\n",
    "    print(\"\\n\")\n",
    "    return vector_mutado\n",
    "    "
   ]
  },
  {
   "cell_type": "code",
   "execution_count": 58,
   "metadata": {},
   "outputs": [
    {
     "ename": "IndexError",
     "evalue": "index 38 is out of bounds for axis 0 with size 38",
     "output_type": "error",
     "traceback": [
      "\u001b[0;31m---------------------------------------------------------------------------\u001b[0m",
      "\u001b[0;31mIndexError\u001b[0m                                Traceback (most recent call last)",
      "\u001b[0;32m<ipython-input-58-e4c085782028>\u001b[0m in \u001b[0;36m<module>\u001b[0;34m()\u001b[0m\n\u001b[0;32m----> 1\u001b[0;31m \u001b[0mmuta_vector_binario\u001b[0m\u001b[0;34m(\u001b[0m\u001b[0mdimensiones_temporales\u001b[0m\u001b[0;34m,\u001b[0m\u001b[0;36m38\u001b[0m\u001b[0;34m)\u001b[0m\u001b[0;34m\u001b[0m\u001b[0m\n\u001b[0m",
      "\u001b[0;32m<ipython-input-55-8eeaa920fa3f>\u001b[0m in \u001b[0;36mmuta_vector_binario\u001b[0;34m(dimensiones_temporales, M)\u001b[0m\n\u001b[1;32m     15\u001b[0m     \u001b[0;31m#Aplica la operación negación binaria a los valores del indice\u001b[0m\u001b[0;34m\u001b[0m\u001b[0;34m\u001b[0m\u001b[0m\n\u001b[1;32m     16\u001b[0m     \u001b[0;32mfor\u001b[0m \u001b[0mnumero_indice\u001b[0m \u001b[0;32min\u001b[0m \u001b[0mindice\u001b[0m\u001b[0;34m:\u001b[0m\u001b[0;34m\u001b[0m\u001b[0m\n\u001b[0;32m---> 17\u001b[0;31m         \u001b[0;32mif\u001b[0m \u001b[0mvector_mutado\u001b[0m\u001b[0;34m[\u001b[0m\u001b[0mnumero_indice\u001b[0m\u001b[0;34m]\u001b[0m\u001b[0;34m==\u001b[0m\u001b[0;36m0\u001b[0m\u001b[0;34m:\u001b[0m\u001b[0;34m\u001b[0m\u001b[0m\n\u001b[0m\u001b[1;32m     18\u001b[0m             \u001b[0mvector_mutado\u001b[0m\u001b[0;34m[\u001b[0m\u001b[0mnumero_indice\u001b[0m\u001b[0;34m]\u001b[0m\u001b[0;34m=\u001b[0m\u001b[0;36m1\u001b[0m\u001b[0;34m\u001b[0m\u001b[0m\n\u001b[1;32m     19\u001b[0m         \u001b[0;32melse\u001b[0m\u001b[0;34m:\u001b[0m\u001b[0;34m\u001b[0m\u001b[0m\n",
      "\u001b[0;31mIndexError\u001b[0m: index 38 is out of bounds for axis 0 with size 38"
     ]
    }
   ],
   "source": [
    "muta_vector_binario(dimensiones_temporales,38)"
   ]
  },
  {
   "cell_type": "code",
   "execution_count": 76,
   "metadata": {},
   "outputs": [
    {
     "name": "stdout",
     "output_type": "stream",
     "text": [
      "(40,)\n",
      "[1 1 1 1 1 1 1 1 0 1 1 1 0 0 1 1 1 0 1 0 1 0 1 0 1 0 0 0 1 0 0 0 0 1 1 0 1\n",
      " 0 1 1]\n"
     ]
    }
   ],
   "source": [
    "mejor_solucion=np.random.randint(2, size=40)\n",
    "dimensiones_temporales=np.array(mejor_solucion)\n",
    "print(dimensiones_temporales.shape)\n",
    "print(mejor_solucion)\n"
   ]
  },
  {
   "cell_type": "code",
   "execution_count": 79,
   "metadata": {},
   "outputs": [
    {
     "name": "stdout",
     "output_type": "stream",
     "text": [
      "[0, 1, 2, 3, 4, 5, 6, 8, 9, 10, 11, 12, 13, 14, 15, 16, 17, 18, 19, 20, 21, 22, 23, 24, 25, 27, 28, 30, 31, 32, 33, 35, 36, 37, 38, 39]\n"
     ]
    }
   ],
   "source": [
    "M=36\n",
    "vector_mutado=np.array(dimensiones_temporales)\n",
    "#Genera números aleatorios entre 0 y M\n",
    "#Dichos numeros aleatorios seran los indices a mutar entre de (vector_mutado)\n",
    "indice_general=list(range(0,40))\n",
    "indice=sorted(random.sample(indice_general,M))\n",
    "print(indice)\n",
    "\n"
   ]
  },
  {
   "cell_type": "code",
   "execution_count": 80,
   "metadata": {},
   "outputs": [
    {
     "name": "stdout",
     "output_type": "stream",
     "text": [
      "indice de vectores a mutar\n",
      "[0, 1, 2, 3, 4, 5, 6, 8, 9, 10, 11, 12, 13, 14, 15, 16, 17, 18, 19, 20, 21, 22, 23, 24, 25, 27, 28, 30, 31, 32, 33, 35, 36, 37, 38, 39]\n",
      "\n",
      "\n",
      "Solución actual:\n",
      "[1 1 1 1 1 1 1 1 0 1 1 1 0 0 1 1 1 0 1 0 1 0 1 0 1 0 0 0 1 0 0 0 0 1 1 0 1\n",
      " 0 1 1]\n",
      "Solución mutada:\n",
      "[0 0 0 0 0 0 0 1 1 0 0 0 1 1 0 0 0 1 0 1 0 1 0 1 0 1 0 1 0 0 1 1 1 0 1 1 0\n",
      " 1 0 0]\n",
      "\n",
      "\n"
     ]
    },
    {
     "data": {
      "text/plain": [
       "array([0, 0, 0, 0, 0, 0, 0, 1, 1, 0, 0, 0, 1, 1, 0, 0, 0, 1, 0, 1, 0, 1, 0,\n",
       "       1, 0, 1, 0, 1, 0, 0, 1, 1, 1, 0, 1, 1, 0, 1, 0, 0])"
      ]
     },
     "execution_count": 80,
     "metadata": {},
     "output_type": "execute_result"
    }
   ],
   "source": [
    "#indice=sorted(random.sample(list(range(0,vector_mutado.shape[0])), M))\n",
    "\n",
    "#Aplica la operación negación binaria a los valores del indice\n",
    "for numero_indice in indice:\n",
    "    if vector_mutado[numero_indice]==0:\n",
    "        vector_mutado[numero_indice]=1\n",
    "    else:\n",
    "        vector_mutado[numero_indice]=0\n",
    "#regresa el vector mutado\n",
    "print(\"indice de vectores a mutar\")\n",
    "print(indice)\n",
    "print(\"\\n\")\n",
    "print(\"Solución actual:\")\n",
    "print(dimensiones_temporales)\n",
    "print(\"Solución mutada:\")\n",
    "print(vector_mutado)\n",
    "print(\"\\n\")\n",
    "vector_mutado"
   ]
  },
  {
   "cell_type": "code",
   "execution_count": null,
   "metadata": {
    "collapsed": true
   },
   "outputs": [],
   "source": []
  }
 ],
 "metadata": {
  "kernelspec": {
   "display_name": "Python 3",
   "language": "python",
   "name": "python3"
  },
  "language_info": {
   "codemirror_mode": {
    "name": "ipython",
    "version": 3
   },
   "file_extension": ".py",
   "mimetype": "text/x-python",
   "name": "python",
   "nbconvert_exporter": "python",
   "pygments_lexer": "ipython3",
   "version": "3.6.1"
  }
 },
 "nbformat": 4,
 "nbformat_minor": 2
}
