{
 "cells": [
  {
   "cell_type": "code",
   "execution_count": 28,
   "metadata": {
    "collapsed": true
   },
   "outputs": [],
   "source": [
    "dic_ataques_all={\"probe\":['satan','ipsweep','nmap','portsweep','mscan','saint',],\\\n",
    "             \"dos\":['back','land','neptune','pod','teardrop','smurf','apache2','mailbomb','processtable',\\\n",
    "                   'udpstorm'],\\\n",
    "            \"normal\":[\"normal\"],\\\n",
    "            \"r2l\":[\"guess_passwd\",'ftp_write','imap','multihop','named','phf','sendmail',\\\n",
    "                  'warezmaster','warezclient','spy','snmpgetattack','snmpguess','worm','xlock','xsnoop'],\\\n",
    "            \"u2r\":['buffer_overflow','loadmodule','perl','rootkit','httptunnel','ps','sqlattack','xterm']}"
   ]
  },
  {
   "cell_type": "code",
   "execution_count": 1,
   "metadata": {
    "collapsed": true
   },
   "outputs": [],
   "source": [
    "#Definiendo las librerias\n",
    "#importing everything\n",
    "import pandas as pd\n",
    "import numpy as np\n",
    "#visualization\n",
    "import matplotlib.pyplot as plt\n",
    "import seaborn as sns\n",
    "#printing in notebook\n",
    "%matplotlib inline"
   ]
  },
  {
   "cell_type": "code",
   "execution_count": 2,
   "metadata": {
    "collapsed": true
   },
   "outputs": [],
   "source": [
    "#Reading all the datasets :("
   ]
  },
  {
   "cell_type": "code",
   "execution_count": 5,
   "metadata": {
    "collapsed": true
   },
   "outputs": [],
   "source": [
    "whole_kdd=pd.read_csv(\"./Original_Corrected_datasets/KDD/kddcup_data.csv\")\n",
    "#leyendo 10% kdd\n",
    "kdd_10_percent=pd.read_csv('./Original_Corrected_datasets/KDD/kddcup_data_10_percent.csv')\n",
    "#leyendo corrected (testing dataset)\n",
    "testing=pd.read_csv('./Original_Corrected_datasets/KDD/corrected.csv')"
   ]
  },
  {
   "cell_type": "markdown",
   "metadata": {},
   "source": [
    "# Longitudes"
   ]
  },
  {
   "cell_type": "code",
   "execution_count": 10,
   "metadata": {},
   "outputs": [
    {
     "name": "stdout",
     "output_type": "stream",
     "text": [
      "(4898431, 42)\n",
      "(494021, 42)\n",
      "(311029, 42)\n"
     ]
    }
   ],
   "source": [
    "#Longitudes\n",
    "print(whole_kdd.shape)\n",
    "print(kdd_10_percent.shape)\n",
    "print(testing.shape)"
   ]
  },
  {
   "cell_type": "markdown",
   "metadata": {},
   "source": [
    "# Tipos de ataques y longitudes"
   ]
  },
  {
   "cell_type": "code",
   "execution_count": 16,
   "metadata": {},
   "outputs": [
    {
     "name": "stdout",
     "output_type": "stream",
     "text": [
      "['normal' 'buffer_overflow' 'loadmodule' 'perl' 'neptune' 'smurf'\n",
      " 'guess_passwd' 'pod' 'teardrop' 'portsweep' 'ipsweep' 'land' 'ftp_write'\n",
      " 'back' 'imap' 'satan' 'phf' 'nmap' 'multihop' 'warezmaster' 'warezclient'\n",
      " 'spy' 'rootkit']\n",
      "23\n"
     ]
    }
   ],
   "source": [
    "#Tipos de ataques\n",
    "print(whole_kdd.TypeOfAttack.unique())\n",
    "print(len(whole_kdd.TypeOfAttack.unique()))"
   ]
  },
  {
   "cell_type": "code",
   "execution_count": 20,
   "metadata": {},
   "outputs": [
    {
     "name": "stdout",
     "output_type": "stream",
     "text": [
      "['normal' 'buffer_overflow' 'loadmodule' 'perl' 'neptune' 'smurf'\n",
      " 'guess_passwd' 'pod' 'teardrop' 'portsweep' 'ipsweep' 'land' 'ftp_write'\n",
      " 'back' 'imap' 'satan' 'phf' 'nmap' 'multihop' 'warezmaster' 'warezclient'\n",
      " 'spy' 'rootkit']\n",
      "23\n"
     ]
    }
   ],
   "source": [
    "print(kdd_10_percent.TypeOfAttack.unique())\n",
    "print(len(kdd_10_percent.TypeOfAttack.unique()))"
   ]
  },
  {
   "cell_type": "code",
   "execution_count": 21,
   "metadata": {},
   "outputs": [
    {
     "name": "stdout",
     "output_type": "stream",
     "text": [
      "['normal' 'snmpgetattack' 'named' 'xlock' 'smurf' 'ipsweep' 'multihop'\n",
      " 'xsnoop' 'sendmail' 'guess_passwd' 'saint' 'buffer_overflow' 'portsweep'\n",
      " 'pod' 'apache2' 'phf' 'udpstorm' 'warezmaster' 'perl' 'satan' 'xterm'\n",
      " 'mscan' 'processtable' 'ps' 'nmap' 'rootkit' 'neptune' 'loadmodule' 'imap'\n",
      " 'back' 'httptunnel' 'worm' 'mailbomb' 'ftp_write' 'teardrop' 'land'\n",
      " 'sqlattack' 'snmpguess']\n",
      "38\n"
     ]
    }
   ],
   "source": [
    "print(testing.TypeOfAttack.unique())\n",
    "print(len(testing.TypeOfAttack.unique()))"
   ]
  },
  {
   "cell_type": "markdown",
   "metadata": {},
   "source": [
    "# Desglose"
   ]
  },
  {
   "cell_type": "code",
   "execution_count": 29,
   "metadata": {
    "collapsed": true
   },
   "outputs": [],
   "source": [
    "def imprime_parametros(dataset,dic_ataques_all={\"probe\":['satan','ipsweep','nmap','portsweep','mscan','saint',],\\\n",
    "             \"dos\":['back','land','neptune','pod','teardrop','smurf','apache2','mailbomb','processtable',\\\n",
    "                   'udpstorm'],\\\n",
    "            \"normal\":[\"normal\"],\\\n",
    "            \"r2l\":[\"guess_passwd\",'ftp_write','imap','multihop','named','phf','sendmail',\\\n",
    "                  'warezmaster','warezclient','spy','snmpgeattack','snmpguess','worm','xlock','xsnoop'],\\\n",
    "            \"u2r\":['buffer_overflow','loadmodule','perl','rootkit','httptunnel','ps','sqlattack','xterm']}):\n",
    "    total=0\n",
    "    t=0\n",
    "    for llaves,valores in dic_ataques.items():\n",
    "        print(\"Grupo de ataque: \"+llaves)\n",
    "        for i in range(0,len(dic_ataques[llaves])):\n",
    "            l=len(dataset[dataset.TypeOfAttack==dic_ataques[llaves][i]])\n",
    "            t=t+l\n",
    "            print(\"El total de valores del ataque: \"+str(dic_ataques[llaves][i])+\" es: \"+str(l))\n",
    "        print(\"Total= \"+str(t))\n",
    "        total=total+t\n",
    "        t=0\n",
    "    print(\"el total general es: \"+str(total))"
   ]
  },
  {
   "cell_type": "code",
   "execution_count": 33,
   "metadata": {
    "collapsed": true
   },
   "outputs": [],
   "source": [
    "dic_ataques_all={\"probe\":['satan','ipsweep','nmap','portsweep','mscan','saint',],\\\n",
    "             \"dos\":['back','land','neptune','pod','teardrop','smurf','apache2','mailbomb','processtable',\\\n",
    "                   'udpstorm'],\\\n",
    "            \"normal\":[\"normal\"],\\\n",
    "            \"r2l\":[\"guess_passwd\",'ftp_write','imap','multihop','named','phf','sendmail',\\\n",
    "                  'warezmaster','warezclient','spy','snmpgetattack','snmpguess','worm','xlock','xsnoop'],\\\n",
    "            \"u2r\":['buffer_overflow','loadmodule','perl','rootkit','httptunnel','ps','sqlattack','xterm']}"
   ]
  },
  {
   "cell_type": "code",
   "execution_count": 34,
   "metadata": {},
   "outputs": [
    {
     "name": "stdout",
     "output_type": "stream",
     "text": [
      "Grupo de ataque: probe\n",
      "El total de valores del ataque: satan es: 15892\n",
      "El total de valores del ataque: ipsweep es: 12481\n",
      "El total de valores del ataque: nmap es: 2316\n",
      "El total de valores del ataque: portsweep es: 10413\n",
      "El total de valores del ataque: mscan es: 0\n",
      "El total de valores del ataque: saint es: 0\n",
      "Total= 41102\n",
      "Grupo de ataque: dos\n",
      "El total de valores del ataque: back es: 2203\n",
      "El total de valores del ataque: land es: 21\n",
      "El total de valores del ataque: neptune es: 1072017\n",
      "El total de valores del ataque: pod es: 264\n",
      "El total de valores del ataque: teardrop es: 979\n",
      "El total de valores del ataque: smurf es: 2807886\n",
      "El total de valores del ataque: apache2 es: 0\n",
      "El total de valores del ataque: mailbomb es: 0\n",
      "El total de valores del ataque: processtable es: 0\n",
      "El total de valores del ataque: udpstorm es: 0\n",
      "Total= 3883370\n",
      "Grupo de ataque: normal\n",
      "El total de valores del ataque: normal es: 972781\n",
      "Total= 972781\n",
      "Grupo de ataque: r2l\n",
      "El total de valores del ataque: guess_passwd es: 53\n",
      "El total de valores del ataque: ftp_write es: 8\n",
      "El total de valores del ataque: imap es: 12\n",
      "El total de valores del ataque: multihop es: 7\n",
      "El total de valores del ataque: named es: 0\n",
      "El total de valores del ataque: phf es: 4\n",
      "El total de valores del ataque: sendmail es: 0\n",
      "El total de valores del ataque: warezmaster es: 20\n",
      "El total de valores del ataque: warezclient es: 1020\n",
      "El total de valores del ataque: spy es: 2\n",
      "El total de valores del ataque: snmpgeattack es: 0\n",
      "El total de valores del ataque: snmpguess es: 0\n",
      "El total de valores del ataque: worm es: 0\n",
      "El total de valores del ataque: xlock es: 0\n",
      "El total de valores del ataque: xsnoop es: 0\n",
      "Total= 1126\n",
      "Grupo de ataque: u2r\n",
      "El total de valores del ataque: buffer_overflow es: 30\n",
      "El total de valores del ataque: loadmodule es: 9\n",
      "El total de valores del ataque: perl es: 3\n",
      "El total de valores del ataque: rootkit es: 10\n",
      "El total de valores del ataque: httptunnel es: 0\n",
      "El total de valores del ataque: ps es: 0\n",
      "El total de valores del ataque: sqlattack es: 0\n",
      "El total de valores del ataque: xterm es: 0\n",
      "Total= 52\n",
      "el total general es: 4898431\n"
     ]
    }
   ],
   "source": [
    "imprime_parametros(whole_kdd,dic_ataques=dic_ataques_all)"
   ]
  },
  {
   "cell_type": "code",
   "execution_count": 35,
   "metadata": {},
   "outputs": [
    {
     "name": "stdout",
     "output_type": "stream",
     "text": [
      "Grupo de ataque: probe\n",
      "El total de valores del ataque: satan es: 1589\n",
      "El total de valores del ataque: ipsweep es: 1247\n",
      "El total de valores del ataque: nmap es: 231\n",
      "El total de valores del ataque: portsweep es: 1040\n",
      "El total de valores del ataque: mscan es: 0\n",
      "El total de valores del ataque: saint es: 0\n",
      "Total= 4107\n",
      "Grupo de ataque: dos\n",
      "El total de valores del ataque: back es: 2203\n",
      "El total de valores del ataque: land es: 21\n",
      "El total de valores del ataque: neptune es: 107201\n",
      "El total de valores del ataque: pod es: 264\n",
      "El total de valores del ataque: teardrop es: 979\n",
      "El total de valores del ataque: smurf es: 280790\n",
      "El total de valores del ataque: apache2 es: 0\n",
      "El total de valores del ataque: mailbomb es: 0\n",
      "El total de valores del ataque: processtable es: 0\n",
      "El total de valores del ataque: udpstorm es: 0\n",
      "Total= 391458\n",
      "Grupo de ataque: normal\n",
      "El total de valores del ataque: normal es: 97278\n",
      "Total= 97278\n",
      "Grupo de ataque: r2l\n",
      "El total de valores del ataque: guess_passwd es: 53\n",
      "El total de valores del ataque: ftp_write es: 8\n",
      "El total de valores del ataque: imap es: 12\n",
      "El total de valores del ataque: multihop es: 7\n",
      "El total de valores del ataque: named es: 0\n",
      "El total de valores del ataque: phf es: 4\n",
      "El total de valores del ataque: sendmail es: 0\n",
      "El total de valores del ataque: warezmaster es: 20\n",
      "El total de valores del ataque: warezclient es: 1020\n",
      "El total de valores del ataque: spy es: 2\n",
      "El total de valores del ataque: snmpgeattack es: 0\n",
      "El total de valores del ataque: snmpguess es: 0\n",
      "El total de valores del ataque: worm es: 0\n",
      "El total de valores del ataque: xlock es: 0\n",
      "El total de valores del ataque: xsnoop es: 0\n",
      "Total= 1126\n",
      "Grupo de ataque: u2r\n",
      "El total de valores del ataque: buffer_overflow es: 30\n",
      "El total de valores del ataque: loadmodule es: 9\n",
      "El total de valores del ataque: perl es: 3\n",
      "El total de valores del ataque: rootkit es: 10\n",
      "El total de valores del ataque: httptunnel es: 0\n",
      "El total de valores del ataque: ps es: 0\n",
      "El total de valores del ataque: sqlattack es: 0\n",
      "El total de valores del ataque: xterm es: 0\n",
      "Total= 52\n",
      "el total general es: 494021\n"
     ]
    }
   ],
   "source": [
    "imprime_parametros(kdd_10_percent,dic_ataques=dic_ataques_all)"
   ]
  },
  {
   "cell_type": "code",
   "execution_count": 36,
   "metadata": {},
   "outputs": [
    {
     "name": "stdout",
     "output_type": "stream",
     "text": [
      "Grupo de ataque: probe\n",
      "El total de valores del ataque: satan es: 1633\n",
      "El total de valores del ataque: ipsweep es: 306\n",
      "El total de valores del ataque: nmap es: 84\n",
      "El total de valores del ataque: portsweep es: 354\n",
      "El total de valores del ataque: mscan es: 1053\n",
      "El total de valores del ataque: saint es: 736\n",
      "Total= 4166\n",
      "Grupo de ataque: dos\n",
      "El total de valores del ataque: back es: 1098\n",
      "El total de valores del ataque: land es: 9\n",
      "El total de valores del ataque: neptune es: 58001\n",
      "El total de valores del ataque: pod es: 87\n",
      "El total de valores del ataque: teardrop es: 12\n",
      "El total de valores del ataque: smurf es: 164091\n",
      "El total de valores del ataque: apache2 es: 794\n",
      "El total de valores del ataque: mailbomb es: 5000\n",
      "El total de valores del ataque: processtable es: 759\n",
      "El total de valores del ataque: udpstorm es: 2\n",
      "Total= 229853\n",
      "Grupo de ataque: normal\n",
      "El total de valores del ataque: normal es: 60593\n",
      "Total= 60593\n",
      "Grupo de ataque: r2l\n",
      "El total de valores del ataque: guess_passwd es: 4367\n",
      "El total de valores del ataque: ftp_write es: 3\n",
      "El total de valores del ataque: imap es: 1\n",
      "El total de valores del ataque: multihop es: 18\n",
      "El total de valores del ataque: named es: 17\n",
      "El total de valores del ataque: phf es: 2\n",
      "El total de valores del ataque: sendmail es: 17\n",
      "El total de valores del ataque: warezmaster es: 1602\n",
      "El total de valores del ataque: warezclient es: 0\n",
      "El total de valores del ataque: spy es: 0\n",
      "El total de valores del ataque: snmpgeattack es: 0\n",
      "El total de valores del ataque: snmpguess es: 2406\n",
      "El total de valores del ataque: worm es: 2\n",
      "El total de valores del ataque: xlock es: 9\n",
      "El total de valores del ataque: xsnoop es: 4\n",
      "Total= 8448\n",
      "Grupo de ataque: u2r\n",
      "El total de valores del ataque: buffer_overflow es: 22\n",
      "El total de valores del ataque: loadmodule es: 2\n",
      "El total de valores del ataque: perl es: 2\n",
      "El total de valores del ataque: rootkit es: 13\n",
      "El total de valores del ataque: httptunnel es: 158\n",
      "El total de valores del ataque: ps es: 16\n",
      "El total de valores del ataque: sqlattack es: 2\n",
      "El total de valores del ataque: xterm es: 13\n",
      "Total= 228\n",
      "el total general es: 303288\n"
     ]
    }
   ],
   "source": [
    "imprime_parametros(testing,dic_ataques=dic_ataques_all)"
   ]
  },
  {
   "cell_type": "code",
   "execution_count": null,
   "metadata": {
    "collapsed": true
   },
   "outputs": [],
   "source": []
  }
 ],
 "metadata": {
  "kernelspec": {
   "display_name": "Python 3",
   "language": "python",
   "name": "python3"
  },
  "language_info": {
   "codemirror_mode": {
    "name": "ipython",
    "version": 3
   },
   "file_extension": ".py",
   "mimetype": "text/x-python",
   "name": "python",
   "nbconvert_exporter": "python",
   "pygments_lexer": "ipython3",
   "version": "3.6.1"
  }
 },
 "nbformat": 4,
 "nbformat_minor": 2
}
