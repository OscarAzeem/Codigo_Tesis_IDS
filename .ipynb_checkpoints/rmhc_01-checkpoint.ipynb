{
 "cells": [
  {
   "cell_type": "markdown",
   "metadata": {},
   "source": [
    "# Librerías"
   ]
  },
  {
   "cell_type": "code",
   "execution_count": 1,
   "metadata": {
    "collapsed": true
   },
   "outputs": [],
   "source": [
    "import itertools\n",
    "import time\n",
    "import numpy as np\n",
    "import pandas as pd\n",
    "import matplotlib.pyplot as plt\n",
    "from matplotlib import offsetbox\n",
    "from sklearn import (manifold, datasets, decomposition, ensemble,\n",
    "                     discriminant_analysis, random_projection)#Prueba evaluación y entrenamiento un solo individuo. \n",
    "#Vectores completos\n",
    "from sklearn.metrics import classification_report,confusion_matrix,accuracy_score\n",
    "import random"
   ]
  },
  {
   "cell_type": "markdown",
   "metadata": {},
   "source": [
    "# Databases"
   ]
  },
  {
   "cell_type": "code",
   "execution_count": 2,
   "metadata": {
    "collapsed": true
   },
   "outputs": [],
   "source": [
    "#Reading all the cvs\n",
    "#Nss learning\n",
    "nsl_training=pd.read_csv('./Final_Datasets/MINMAX_FD_NSL_Tra.csv')\n",
    "#Nsl testing\n",
    "nsl_testing=pd.read_csv('./Final_Datasets/MINMAX_FD_NSL_Test.csv')"
   ]
  },
  {
   "cell_type": "markdown",
   "metadata": {},
   "source": [
    "# Labels"
   ]
  },
  {
   "cell_type": "code",
   "execution_count": 3,
   "metadata": {
    "collapsed": true
   },
   "outputs": [],
   "source": [
    "#NSL TESTING LABELS\n",
    "\n",
    "#Index binary (2 clases)\n",
    "L_nsl_testing_indexbinary=pd.read_csv(\"./Final_Datasets/L_nsl_testing_indexbinary.csv\")\n",
    "#Index by Group (5 clases)\n",
    "L_nsl_testing_indexbygroup=pd.read_csv(\"./Final_Datasets/L_nsl_testing_indexbygroup.csv\")\n",
    "#Index tipe of attack (42? clases)\n",
    "L_nsl_testing_indextipeofattack=pd.read_csv(\"./Final_Datasets/L_nsl_testing_indextipeofattack.csv\")\n",
    "\n",
    "\n",
    "#nsl TRAINING LABELS\n",
    "# 2 clases\n",
    "L_nsl_training_indexbinary=pd.read_csv(\"./Final_Datasets/L_nsl_training_indexbinary.csv\")\n",
    "#Index by Group (5 clases)\n",
    "L_nsl_training_indexbygroup=pd.read_csv(\"./Final_Datasets/L_nsl_training_indexbygroup.csv\")\n",
    "#Index tipe of attack (42? clases)\n",
    "L_nsl_training_indextipeofattack=pd.read_csv(\"./Final_Datasets/L_nsl_training_indextipeofattack.csv\")"
   ]
  },
  {
   "cell_type": "markdown",
   "metadata": {},
   "source": [
    "# Conversión de Pandas->Numpy (array) not Matrix"
   ]
  },
  {
   "cell_type": "code",
   "execution_count": 5,
   "metadata": {
    "collapsed": true
   },
   "outputs": [],
   "source": [
    "n_nsl_training=nsl_training.as_matrix(columns=None)\n",
    "n_nsl_testing=nsl_testing.as_matrix(columns=None)"
   ]
  },
  {
   "cell_type": "markdown",
   "metadata": {},
   "source": [
    "# Verificación de que se dio una correcta conversión"
   ]
  },
  {
   "cell_type": "code",
   "execution_count": 7,
   "metadata": {},
   "outputs": [
    {
     "data": {
      "text/plain": [
       "array([ 0.        ,  0.        ,  0.02898551,  0.        ,  0.        ,\n",
       "        0.        ,  0.        ,  0.        ,  0.        ,  0.        ,\n",
       "        0.        ,  0.        ,  0.        ,  0.        ,  0.        ,\n",
       "        0.        ,  0.        ,  0.        ,  0.        ,  0.        ,\n",
       "        0.        ,  0.4481409 ,  0.01956947,  0.        ,  0.        ,\n",
       "        1.        ,  1.        ,  0.04      ,  0.06      ,  0.        ,\n",
       "        1.        ,  0.03921569,  0.04      ,  0.06      ,  0.        ,\n",
       "        0.        ,  0.        ,  0.        ,  1.        ,  1.        ])"
      ]
     },
     "execution_count": 7,
     "metadata": {},
     "output_type": "execute_result"
    }
   ],
   "source": [
    "n_nsl_testing[0,:]"
   ]
  },
  {
   "cell_type": "code",
   "execution_count": 9,
   "metadata": {},
   "outputs": [
    {
     "data": {
      "text/html": [
       "<div>\n",
       "<style>\n",
       "    .dataframe thead tr:only-child th {\n",
       "        text-align: right;\n",
       "    }\n",
       "\n",
       "    .dataframe thead th {\n",
       "        text-align: left;\n",
       "    }\n",
       "\n",
       "    .dataframe tbody tr th {\n",
       "        vertical-align: top;\n",
       "    }\n",
       "</style>\n",
       "<table border=\"1\" class=\"dataframe\">\n",
       "  <thead>\n",
       "    <tr style=\"text-align: right;\">\n",
       "      <th></th>\n",
       "      <th>Duration</th>\n",
       "      <th>ProtocolType</th>\n",
       "      <th>Service</th>\n",
       "      <th>Flag</th>\n",
       "      <th>SourceBytes</th>\n",
       "      <th>DestinationBytes</th>\n",
       "      <th>Land</th>\n",
       "      <th>WrongFragment</th>\n",
       "      <th>Urgent</th>\n",
       "      <th>Hot</th>\n",
       "      <th>...</th>\n",
       "      <th>DstHostCount</th>\n",
       "      <th>DstHostSrvCount</th>\n",
       "      <th>DstHostSameSrvRate</th>\n",
       "      <th>DstHostDiffSrvRate</th>\n",
       "      <th>DstHostSameSrcPortRate</th>\n",
       "      <th>DstHostSrvDiffHostRate</th>\n",
       "      <th>DstHostSerrorRate</th>\n",
       "      <th>DstHostSrvSerrorRate</th>\n",
       "      <th>DstHostRerrorRate</th>\n",
       "      <th>DstHostSrvRerrorRate</th>\n",
       "    </tr>\n",
       "  </thead>\n",
       "  <tbody>\n",
       "    <tr>\n",
       "      <th>0</th>\n",
       "      <td>0.0</td>\n",
       "      <td>0.0</td>\n",
       "      <td>0.028986</td>\n",
       "      <td>0.0</td>\n",
       "      <td>0.0</td>\n",
       "      <td>0.0</td>\n",
       "      <td>0.0</td>\n",
       "      <td>0.0</td>\n",
       "      <td>0.0</td>\n",
       "      <td>0.0</td>\n",
       "      <td>...</td>\n",
       "      <td>1.0</td>\n",
       "      <td>0.039216</td>\n",
       "      <td>0.04</td>\n",
       "      <td>0.06</td>\n",
       "      <td>0.0</td>\n",
       "      <td>0.0</td>\n",
       "      <td>0.0</td>\n",
       "      <td>0.0</td>\n",
       "      <td>1.0</td>\n",
       "      <td>1.0</td>\n",
       "    </tr>\n",
       "  </tbody>\n",
       "</table>\n",
       "<p>1 rows × 40 columns</p>\n",
       "</div>"
      ],
      "text/plain": [
       "   Duration  ProtocolType   Service  Flag  SourceBytes  DestinationBytes  \\\n",
       "0       0.0           0.0  0.028986   0.0          0.0               0.0   \n",
       "\n",
       "   Land  WrongFragment  Urgent  Hot          ...           DstHostCount  \\\n",
       "0   0.0            0.0     0.0  0.0          ...                    1.0   \n",
       "\n",
       "   DstHostSrvCount  DstHostSameSrvRate  DstHostDiffSrvRate  \\\n",
       "0         0.039216                0.04                0.06   \n",
       "\n",
       "   DstHostSameSrcPortRate  DstHostSrvDiffHostRate  DstHostSerrorRate  \\\n",
       "0                     0.0                     0.0                0.0   \n",
       "\n",
       "   DstHostSrvSerrorRate  DstHostRerrorRate  DstHostSrvRerrorRate  \n",
       "0                   0.0                1.0                   1.0  \n",
       "\n",
       "[1 rows x 40 columns]"
      ]
     },
     "execution_count": 9,
     "metadata": {},
     "output_type": "execute_result"
    }
   ],
   "source": [
    "nsl_testing.head(1)"
   ]
  },
  {
   "cell_type": "code",
   "execution_count": 10,
   "metadata": {},
   "outputs": [
    {
     "data": {
      "text/plain": [
       "array([  0.00000000e+00,   0.00000000e+00,   0.00000000e+00,\n",
       "         1.00000000e-01,   3.55806412e-07,   0.00000000e+00,\n",
       "         0.00000000e+00,   0.00000000e+00,   0.00000000e+00,\n",
       "         0.00000000e+00,   0.00000000e+00,   0.00000000e+00,\n",
       "         0.00000000e+00,   0.00000000e+00,   0.00000000e+00,\n",
       "         0.00000000e+00,   0.00000000e+00,   0.00000000e+00,\n",
       "         0.00000000e+00,   0.00000000e+00,   0.00000000e+00,\n",
       "         3.91389432e-03,   3.91389432e-03,   0.00000000e+00,\n",
       "         0.00000000e+00,   0.00000000e+00,   0.00000000e+00,\n",
       "         1.00000000e+00,   0.00000000e+00,   0.00000000e+00,\n",
       "         5.88235294e-01,   9.80392157e-02,   1.70000000e-01,\n",
       "         3.00000000e-02,   1.70000000e-01,   0.00000000e+00,\n",
       "         0.00000000e+00,   0.00000000e+00,   5.00000000e-02,\n",
       "         0.00000000e+00])"
      ]
     },
     "execution_count": 10,
     "metadata": {},
     "output_type": "execute_result"
    }
   ],
   "source": [
    "n_nsl_training[0,:]"
   ]
  },
  {
   "cell_type": "code",
   "execution_count": 11,
   "metadata": {},
   "outputs": [
    {
     "data": {
      "text/html": [
       "<div>\n",
       "<style>\n",
       "    .dataframe thead tr:only-child th {\n",
       "        text-align: right;\n",
       "    }\n",
       "\n",
       "    .dataframe thead th {\n",
       "        text-align: left;\n",
       "    }\n",
       "\n",
       "    .dataframe tbody tr th {\n",
       "        vertical-align: top;\n",
       "    }\n",
       "</style>\n",
       "<table border=\"1\" class=\"dataframe\">\n",
       "  <thead>\n",
       "    <tr style=\"text-align: right;\">\n",
       "      <th></th>\n",
       "      <th>Duration</th>\n",
       "      <th>ProtocolType</th>\n",
       "      <th>Service</th>\n",
       "      <th>Flag</th>\n",
       "      <th>SourceBytes</th>\n",
       "      <th>DestinationBytes</th>\n",
       "      <th>Land</th>\n",
       "      <th>WrongFragment</th>\n",
       "      <th>Urgent</th>\n",
       "      <th>Hot</th>\n",
       "      <th>...</th>\n",
       "      <th>DstHostCount</th>\n",
       "      <th>DstHostSrvCount</th>\n",
       "      <th>DstHostSameSrvRate</th>\n",
       "      <th>DstHostDiffSrvRate</th>\n",
       "      <th>DstHostSameSrcPortRate</th>\n",
       "      <th>DstHostSrvDiffHostRate</th>\n",
       "      <th>DstHostSerrorRate</th>\n",
       "      <th>DstHostSrvSerrorRate</th>\n",
       "      <th>DstHostRerrorRate</th>\n",
       "      <th>DstHostSrvRerrorRate</th>\n",
       "    </tr>\n",
       "  </thead>\n",
       "  <tbody>\n",
       "    <tr>\n",
       "      <th>0</th>\n",
       "      <td>0.0</td>\n",
       "      <td>0.0</td>\n",
       "      <td>0.0</td>\n",
       "      <td>0.1</td>\n",
       "      <td>3.558064e-07</td>\n",
       "      <td>0.0</td>\n",
       "      <td>0.0</td>\n",
       "      <td>0.0</td>\n",
       "      <td>0.0</td>\n",
       "      <td>0.0</td>\n",
       "      <td>...</td>\n",
       "      <td>0.588235</td>\n",
       "      <td>0.098039</td>\n",
       "      <td>0.17</td>\n",
       "      <td>0.03</td>\n",
       "      <td>0.17</td>\n",
       "      <td>0.0</td>\n",
       "      <td>0.0</td>\n",
       "      <td>0.0</td>\n",
       "      <td>0.05</td>\n",
       "      <td>0.0</td>\n",
       "    </tr>\n",
       "  </tbody>\n",
       "</table>\n",
       "<p>1 rows × 40 columns</p>\n",
       "</div>"
      ],
      "text/plain": [
       "   Duration  ProtocolType  Service  Flag   SourceBytes  DestinationBytes  \\\n",
       "0       0.0           0.0      0.0   0.1  3.558064e-07               0.0   \n",
       "\n",
       "   Land  WrongFragment  Urgent  Hot          ...           DstHostCount  \\\n",
       "0   0.0            0.0     0.0  0.0          ...               0.588235   \n",
       "\n",
       "   DstHostSrvCount  DstHostSameSrvRate  DstHostDiffSrvRate  \\\n",
       "0         0.098039                0.17                0.03   \n",
       "\n",
       "   DstHostSameSrcPortRate  DstHostSrvDiffHostRate  DstHostSerrorRate  \\\n",
       "0                    0.17                     0.0                0.0   \n",
       "\n",
       "   DstHostSrvSerrorRate  DstHostRerrorRate  DstHostSrvRerrorRate  \n",
       "0                   0.0               0.05                   0.0  \n",
       "\n",
       "[1 rows x 40 columns]"
      ]
     },
     "execution_count": 11,
     "metadata": {},
     "output_type": "execute_result"
    }
   ],
   "source": [
    "nsl_training.head(1)"
   ]
  },
  {
   "cell_type": "code",
   "execution_count": 17,
   "metadata": {},
   "outputs": [
    {
     "data": {
      "text/plain": [
       "40"
      ]
     },
     "execution_count": 17,
     "metadata": {},
     "output_type": "execute_result"
    }
   ],
   "source": [
    "a=n_nsl_testing.shape[1]\n",
    "a"
   ]
  },
  {
   "cell_type": "markdown",
   "metadata": {},
   "source": [
    "# Lectura del modelo"
   ]
  },
  {
   "cell_type": "code",
   "execution_count": 4,
   "metadata": {
    "collapsed": true
   },
   "outputs": [],
   "source": [
    "from sklearn.ensemble import RandomForestClassifier\n",
    "\n",
    "modelo=RandomForestClassifier(criterion='entropy',n_jobs=2, \n",
    "                              bootstrap=True, max_depth=10, max_features='sqrt', min_samples_leaf=2, \n",
    "                              min_samples_split=100, n_estimators=8)\n"
   ]
  },
  {
   "cell_type": "code",
   "execution_count": 179,
   "metadata": {},
   "outputs": [],
   "source": [
    "def muta_vector_binario(dimensiones_temporales,M=40):\n",
    "    \"\"\"Dimensiones temporales: vector binario que contiene las dimensiones actuales de la ultima\n",
    "        iteración probada.\n",
    "        M=cantidad total de dimensiones a mutar. Si no se otorga un número\n",
    "        M es igual a la máxima cantidad de dimensiones en NSL-KDD\"\"\"\n",
    "    #Genera tres números aleatorios entre 0 y M\n",
    "    #Dichos numeros aleatorios seran los indices a mutar entre de (dimensiones_temporales)\n",
    "    indice=sorted(random.sample(list(range(0,dimensiones_temporales.shape[1])), M))\n",
    "    #Aplica la operación negación binaria a los valores del indice\n",
    "    for numero_indice in indice:\n",
    "        if dimensiones_temporales[indice]==0:\n",
    "            dimensiones_temporales[indice]=1\n",
    "        else:\n",
    "            dimensiones_temporales[indice]=0\n",
    "    #regresa el vector mutado\n",
    "    vector_mutado=dimensiones_temporales\n",
    "    return vector_mutado\n",
    "    "
   ]
  },
  {
   "cell_type": "code",
   "execution_count": 331,
   "metadata": {
    "scrolled": false
   },
   "outputs": [
    {
     "name": "stdout",
     "output_type": "stream",
     "text": [
      "Dimensiones activas: \n",
      "(array([ 1,  2,  4,  7,  9, 10, 14, 17, 18, 19, 21, 22, 23, 25, 26, 28, 29,\n",
      "       32, 34, 35, 36]),)\n",
      "Total de dimensiones activas: 21\n",
      "Porcentaje de exactitud: 0.764538881249 (accuracy score)\n"
     ]
    }
   ],
   "source": [
    "#inicio RMHC\n",
    "#M, comienza con la máxima cantidad de dimensiones posibles\n",
    "M=n_nsl_training.shape[1]\n",
    "\n",
    "\n",
    "#declaración de la primea solución del espacio de búsqueda. \n",
    "#de forma completamente aleatoria\n",
    "#La primer solución se considera la mejor en la primer iteración\n",
    "dimensiones_mejor=np.random.randint(2, size=M)\n",
    "\n",
    "#se filtra la base de datos con las dimensiones de dimensiones mejor\n",
    "#SE hacen cero las dimensiones a omitir\n",
    "#dimensiones_mejor contiene la mejor iteración, entonces es la dimensión activa\n",
    "training=n_nsl_training*dimensiones_mejor\n",
    "testing=n_nsl_testing*dimensiones_mejor\n",
    "\n",
    "#Se buscan esos ceros en el indice (dimensiones suspendidas)\n",
    "zeros=np.where(dimensiones_mejor == 0)\n",
    "\n",
    "#se obtienen los indices del los unos (dimensiones activas)\n",
    "unos=np.where(dimensiones_mejor==1)\n",
    "\n",
    "\n",
    "#se eliminan esas dimensiones\n",
    "training=np.delete(training,zeros,axis=1)\n",
    "testing=np.delete(testing,zeros,axis=1)\n",
    "\n",
    "\n",
    "#se declara un vector que contiene todas las dimensiones en cada iteración\n",
    "dimensiones_iteracion=[]\n",
    "dimensiones_iteracion.append(dimensiones_mejor)\n",
    "\n",
    "\n",
    "\n",
    "#se entrena el modelo\n",
    "modelo.fit(training,L_nsl_training_indexbinary.values.ravel())\n",
    "#se obtienen las predicciones\n",
    "predicciones=modelo.predict(testing)\n",
    "\n",
    "#se obtiene el accuracy score\n",
    "score_mejor=accuracy_score(L_nsl_testing_indexbinary,predicciones)\n",
    "#se declara un vector que contiene todos los score de todas las iteraciones\n",
    "\n",
    "score_iteracion=[]\n",
    "score_iteracion.append(score_mejor)\n",
    "\n",
    "\n",
    "print(\"Dimensiones activas: \")\n",
    "print(unos)\n",
    "print(\"Total de dimensiones activas: %s\" % np.array(unos).shape[1])\n",
    "print(\"Porcentaje de exactitud: %s (accuracy score)\" %accuracy_score(L_nsl_testing_indexbinary,predicciones))"
   ]
  },
  {
   "cell_type": "code",
   "execution_count": 332,
   "metadata": {
    "collapsed": true
   },
   "outputs": [],
   "source": [
    "def obtencion_parametros_binarios(vector_actual, M=40):\n",
    "    \"\"\"M=máximo número de dimensiones a mutar\n",
    "    vector_actual= vector binario, relacionado con la ultima iteracion\n",
    "    puede o no ser el mejor.\n",
    "    Regresa los zeros y unos actuales,\n",
    "    el ultimo vector binario,\n",
    "    los dataset filtrados\"\"\"\n",
    "\n",
    "    #Agregar la función para calcular M\n",
    "\n",
    "    \n",
    "    #Muta el ultimo vector\n",
    "    dimensiones_temporales=muta_vector_binario(vector_actual,M)\n",
    "\n",
    "    #se filtra la base de datos con las dimensiones de dimensiones mejor\n",
    "    #SE hacen cero las dimensiones a omitir\n",
    "    #dimensiones_temporales contiene la mejor iteración, entonces es la dimensión activa\n",
    "    training=nsl_training*dimensiones_temporales\n",
    "    testing=nsl_testing*dimensiones_temporales\n",
    "\n",
    "    #Se buscan esos ceros en el indice (dimensiones suspendidas)\n",
    "    zeros=np.where(dimensiones_temporales == 0)\n",
    "\n",
    "    #se obtienen los indices del los unos (dimensiones activas)\n",
    "    unos=np.where(dimensiones_temporales==1)\n",
    "\n",
    "    #se eliminan esas dimensiones\n",
    "    training=np.delete(training,zeros,axis=1)\n",
    "    testing=np.delete(testing,zeros,axis=1)\n",
    "\n",
    "    \n",
    "    return [dimensiones_temporales,zeros,unos,training,testing]"
   ]
  },
  {
   "cell_type": "code",
   "execution_count": null,
   "metadata": {
    "collapsed": true
   },
   "outputs": [],
   "source": []
  },
  {
   "cell_type": "code",
   "execution_count": null,
   "metadata": {
    "collapsed": true
   },
   "outputs": [],
   "source": []
  },
  {
   "cell_type": "code",
   "execution_count": null,
   "metadata": {
    "collapsed": true
   },
   "outputs": [],
   "source": []
  },
  {
   "cell_type": "code",
   "execution_count": null,
   "metadata": {
    "collapsed": true
   },
   "outputs": [],
   "source": []
  },
  {
   "cell_type": "code",
   "execution_count": null,
   "metadata": {
    "collapsed": true
   },
   "outputs": [],
   "source": [
    "#evaluación del siguiente vector\n",
    "\n",
    "\n",
    "    #se eliminan esas dimensiones\n",
    "    training=np.delete(training,zeros,axis=1)\n",
    "    testing=np.delete(testing,zeros,axis=1)\n",
    "\n",
    "\n",
    "    #se declara un vector que contiene todas las dimensiones en cada iteración\n",
    "    dimensiones_iteracion=[]\n",
    "    dimensiones_iteracion.append(dimensiones_mejor)\n",
    "\n",
    "\n",
    "\n",
    "    #se entrena el modelo\n",
    "    modelo.fit(training,L_nsl_training_indexbinary.values.ravel())\n",
    "    #se obtienen las predicciones\n",
    "    predicciones=modelo.predict(testing)\n",
    "\n",
    "    #se obtiene el accuracy score\n",
    "    score_mejor=accuracy_score(L_nsl_testing_indexbinary,predicciones)\n",
    "    #se declara un vector que contiene todos los score de todas las iteraciones\n",
    "\n",
    "    score_iteracion=[]\n",
    "    score_iteracion.append(score_mejor)\n",
    "\n",
    "\n",
    "    print(\"Dimensiones activas: \")\n",
    "    print(unos)\n",
    "    print(\"Total de dimensiones activas: %s\" % np.array(unos).shape[1])\n",
    "    print(\"Porcentaje de exactitud: %s (accuracy score)\" %accuracy_score(L_nsl_testing_indexbinary,predicciones))"
   ]
  },
  {
   "cell_type": "code",
   "execution_count": null,
   "metadata": {
    "collapsed": true
   },
   "outputs": [],
   "source": []
  },
  {
   "cell_type": "code",
   "execution_count": null,
   "metadata": {
    "collapsed": true
   },
   "outputs": [],
   "source": []
  },
  {
   "cell_type": "code",
   "execution_count": null,
   "metadata": {
    "collapsed": true
   },
   "outputs": [],
   "source": []
  },
  {
   "cell_type": "code",
   "execution_count": null,
   "metadata": {
    "collapsed": true
   },
   "outputs": [],
   "source": []
  }
 ],
 "metadata": {
  "kernelspec": {
   "display_name": "Python 3",
   "language": "python",
   "name": "python3"
  },
  "language_info": {
   "codemirror_mode": {
    "name": "ipython",
    "version": 3
   },
   "file_extension": ".py",
   "mimetype": "text/x-python",
   "name": "python",
   "nbconvert_exporter": "python",
   "pygments_lexer": "ipython3",
   "version": "3.6.1"
  }
 },
 "nbformat": 4,
 "nbformat_minor": 2
}
