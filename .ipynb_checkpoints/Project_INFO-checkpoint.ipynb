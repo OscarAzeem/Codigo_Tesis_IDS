{
 "cells": [
  {
   "cell_type": "markdown",
   "metadata": {},
   "source": [
    "# General info:\n",
    "## Datasets\n",
    "* One instance it's missing in the testing dataset, it has 22543 values, instead of 22544\n",
    "* it's missing because the gitgub file already has one value missing "
   ]
  },
  {
   "cell_type": "markdown",
   "metadata": {},
   "source": [
    "# INFO about the CSV\n",
    "\n",
    "\n",
    "## Full datasets. Contienen las cinco clases. etiqueta\n",
    "## NSL\n",
    "* Dimensiones\n",
    "    * 42, tipo de ataque\n",
    "    * Times Apparead= Veces que aparecio ese ataque (nsl paper)\n",
    "    * Grupo (cinco clases) \n",
    "    * IndexAttack= indice en la hoja de los 39 ataques (éstos si están númerados manualmente y se tiene registro)\n",
    "    * Index by Group= indice de las 5 clases, (númeración en la hoja)\n",
    "    * Index Binary, númeración en dos clases, 0 no ataque, 1 ataque\n",
    "* Nombres:\n",
    "    * nsl_training_labeled.csv\n",
    "    * nsl_testing_labeled.csv\n",
    "\n",
    "## KDD\n",
    "* Dimensiones: \n",
    "    * 42, tipo de ataque (un punto de más)\n",
    "    * Group= Grupo al que pertenece\n",
    "    * Index attack, igual que kdd\n",
    "    * index by group, igual que kdd\n",
    "    * index binary, igual que kk\n",
    "* Nombres:\n",
    "    * kdd_testing_labeled.csv\n",
    "    * kdd_training_10_labeled.csv\n",
    "    * No hay registro de whole kdd\n",
    "\n",
    "\n",
    "# Etiquetas\n",
    "## Indices binarios (dos clases):\n",
    "\n",
    " *  L_kdd_testing_indexbinary.csv\n",
    " *  L_kdd_training_10_indexbinary.csv\n",
    " *  L_nsl_testing_indexbinary.csv\n",
    " *  L_nsl_training_indexbinary.csv \n",
    "\n",
    "## Indices en grupo (cinco clases):\n",
    " *  L_kdd_training_10_indexbygroup.csv\n",
    " *  L_kdd_testing_indexbygroup.csv\n",
    " *  L_nsl_testing_indexbygroup.csv \n",
    " *  L_nsl_training_indexbygroup.csv\n",
    " \n",
    " \n",
    "## Indices por tipo de ataque (39 clases, 39 ataques): \n",
    " *  L_kdd_training_10_indextipeofattack.csv\n",
    " *  L_kdd_testing_indextipeofattack.csv\n",
    " *  L_nsl_testing_indextipeofattack.csv\n",
    " *  L_nsl_training_indextipeofattack.csv\n",
    "\n",
    " \n",
    "# Datasets para los clasificadores\n",
    "## All numerical. Does not have string values. \n",
    "* Cada uno de los números representa una etiqueta, fue creada con un método el cual asignaba un número a cada tipo de valor. Sin embargo el número no se mantuvo por cuestiones del congreso \n",
    "* Solamente hay NSL, debido a que es la base de datos que se ocupa en el trabajo de tesis\n",
    "\n",
    "* FD_nsl_training.csv and \n",
    "* FD_nsl_testing.csv\n"
   ]
  }
 ],
 "metadata": {
  "kernelspec": {
   "display_name": "Python 3",
   "language": "python",
   "name": "python3"
  },
  "language_info": {
   "codemirror_mode": {
    "name": "ipython",
    "version": 3
   },
   "file_extension": ".py",
   "mimetype": "text/x-python",
   "name": "python",
   "nbconvert_exporter": "python",
   "pygments_lexer": "ipython3",
   "version": "3.6.1"
  }
 },
 "nbformat": 4,
 "nbformat_minor": 2
}
