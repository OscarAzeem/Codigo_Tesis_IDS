{
 "cells": [
  {
   "cell_type": "code",
   "execution_count": 2,
   "metadata": {
    "collapsed": true
   },
   "outputs": [],
   "source": [
    "import pandas as pd\n",
    "import numpy as np\n",
    "import math"
   ]
  },
  {
   "cell_type": "code",
   "execution_count": 3,
   "metadata": {
    "collapsed": true
   },
   "outputs": [],
   "source": [
    "pd.set_option('display.max_columns', 50)"
   ]
  },
  {
   "cell_type": "code",
   "execution_count": 4,
   "metadata": {
    "collapsed": true
   },
   "outputs": [],
   "source": [
    "test=pd.read_csv(\"./dataset_labeled/nsl_testing_labeled.csv\")\n",
    "tra=pd.read_csv(\"./dataset_labeled/nsl_training_labeled.csv\")"
   ]
  },
  {
   "cell_type": "code",
   "execution_count": 5,
   "metadata": {},
   "outputs": [
    {
     "data": {
      "text/html": [
       "<div>\n",
       "<style>\n",
       "    .dataframe thead tr:only-child th {\n",
       "        text-align: right;\n",
       "    }\n",
       "\n",
       "    .dataframe thead th {\n",
       "        text-align: left;\n",
       "    }\n",
       "\n",
       "    .dataframe tbody tr th {\n",
       "        vertical-align: top;\n",
       "    }\n",
       "</style>\n",
       "<table border=\"1\" class=\"dataframe\">\n",
       "  <thead>\n",
       "    <tr style=\"text-align: right;\">\n",
       "      <th></th>\n",
       "      <th>Duration</th>\n",
       "      <th>ProtocolType</th>\n",
       "      <th>Service</th>\n",
       "      <th>Flag</th>\n",
       "      <th>SourceBytes</th>\n",
       "      <th>DestinationBytes</th>\n",
       "      <th>Land</th>\n",
       "      <th>WrongFragment</th>\n",
       "      <th>Urgent</th>\n",
       "      <th>Hot</th>\n",
       "      <th>FailedLogins</th>\n",
       "      <th>LoggedIn</th>\n",
       "      <th>NumberOfCompromised</th>\n",
       "      <th>RootShell</th>\n",
       "      <th>SuAttempted</th>\n",
       "      <th>Root</th>\n",
       "      <th>NumberOfFileCreations</th>\n",
       "      <th>NumberOfShellPrompts</th>\n",
       "      <th>NumberOfAccessFiles</th>\n",
       "      <th>NumberOfOutbound</th>\n",
       "      <th>IsHotLogin</th>\n",
       "      <th>IsGuestLogin</th>\n",
       "      <th>Count</th>\n",
       "      <th>SrvCount</th>\n",
       "      <th>SerrorRate</th>\n",
       "      <th>SrvSerrorRate</th>\n",
       "      <th>RerrorRate</th>\n",
       "      <th>SrvRerrorRate</th>\n",
       "      <th>SameSrvRate</th>\n",
       "      <th>DiffSrvRate</th>\n",
       "      <th>SrvDiffHostRate</th>\n",
       "      <th>DstHostCount</th>\n",
       "      <th>DstHostSrvCount</th>\n",
       "      <th>DstHostSameSrvRate</th>\n",
       "      <th>DstHostDiffSrvRate</th>\n",
       "      <th>DstHostSameSrcPortRate</th>\n",
       "      <th>DstHostSrvDiffHostRate</th>\n",
       "      <th>DstHostSerrorRate</th>\n",
       "      <th>DstHostSrvSerrorRate</th>\n",
       "      <th>DstHostRerrorRate</th>\n",
       "      <th>DstHostSrvRerrorRate</th>\n",
       "      <th>TypeOfAttack</th>\n",
       "      <th>TimesApparead</th>\n",
       "      <th>Group</th>\n",
       "      <th>IndexAttack</th>\n",
       "      <th>IndexByGroup</th>\n",
       "      <th>IndexBinary</th>\n",
       "    </tr>\n",
       "  </thead>\n",
       "  <tbody>\n",
       "    <tr>\n",
       "      <th>0</th>\n",
       "      <td>0</td>\n",
       "      <td>tcp</td>\n",
       "      <td>private</td>\n",
       "      <td>REJ</td>\n",
       "      <td>0</td>\n",
       "      <td>0</td>\n",
       "      <td>0</td>\n",
       "      <td>0</td>\n",
       "      <td>0</td>\n",
       "      <td>0</td>\n",
       "      <td>0</td>\n",
       "      <td>0</td>\n",
       "      <td>0</td>\n",
       "      <td>0</td>\n",
       "      <td>0</td>\n",
       "      <td>0</td>\n",
       "      <td>0</td>\n",
       "      <td>0</td>\n",
       "      <td>0</td>\n",
       "      <td>0</td>\n",
       "      <td>0</td>\n",
       "      <td>0</td>\n",
       "      <td>229</td>\n",
       "      <td>10</td>\n",
       "      <td>0.0</td>\n",
       "      <td>0.00</td>\n",
       "      <td>1.0</td>\n",
       "      <td>1.0</td>\n",
       "      <td>0.04</td>\n",
       "      <td>0.06</td>\n",
       "      <td>0.00</td>\n",
       "      <td>255</td>\n",
       "      <td>10</td>\n",
       "      <td>0.04</td>\n",
       "      <td>0.06</td>\n",
       "      <td>0.00</td>\n",
       "      <td>0.00</td>\n",
       "      <td>0.0</td>\n",
       "      <td>0.0</td>\n",
       "      <td>1.00</td>\n",
       "      <td>1.00</td>\n",
       "      <td>neptune</td>\n",
       "      <td>21</td>\n",
       "      <td>dos</td>\n",
       "      <td>14</td>\n",
       "      <td>1</td>\n",
       "      <td>1</td>\n",
       "    </tr>\n",
       "    <tr>\n",
       "      <th>1</th>\n",
       "      <td>0</td>\n",
       "      <td>tcp</td>\n",
       "      <td>private</td>\n",
       "      <td>REJ</td>\n",
       "      <td>0</td>\n",
       "      <td>0</td>\n",
       "      <td>0</td>\n",
       "      <td>0</td>\n",
       "      <td>0</td>\n",
       "      <td>0</td>\n",
       "      <td>0</td>\n",
       "      <td>0</td>\n",
       "      <td>0</td>\n",
       "      <td>0</td>\n",
       "      <td>0</td>\n",
       "      <td>0</td>\n",
       "      <td>0</td>\n",
       "      <td>0</td>\n",
       "      <td>0</td>\n",
       "      <td>0</td>\n",
       "      <td>0</td>\n",
       "      <td>0</td>\n",
       "      <td>136</td>\n",
       "      <td>1</td>\n",
       "      <td>0.0</td>\n",
       "      <td>0.00</td>\n",
       "      <td>1.0</td>\n",
       "      <td>1.0</td>\n",
       "      <td>0.01</td>\n",
       "      <td>0.06</td>\n",
       "      <td>0.00</td>\n",
       "      <td>255</td>\n",
       "      <td>1</td>\n",
       "      <td>0.00</td>\n",
       "      <td>0.06</td>\n",
       "      <td>0.00</td>\n",
       "      <td>0.00</td>\n",
       "      <td>0.0</td>\n",
       "      <td>0.0</td>\n",
       "      <td>1.00</td>\n",
       "      <td>1.00</td>\n",
       "      <td>neptune</td>\n",
       "      <td>21</td>\n",
       "      <td>dos</td>\n",
       "      <td>14</td>\n",
       "      <td>1</td>\n",
       "      <td>1</td>\n",
       "    </tr>\n",
       "    <tr>\n",
       "      <th>2</th>\n",
       "      <td>2</td>\n",
       "      <td>tcp</td>\n",
       "      <td>ftp_data</td>\n",
       "      <td>SF</td>\n",
       "      <td>12983</td>\n",
       "      <td>0</td>\n",
       "      <td>0</td>\n",
       "      <td>0</td>\n",
       "      <td>0</td>\n",
       "      <td>0</td>\n",
       "      <td>0</td>\n",
       "      <td>0</td>\n",
       "      <td>0</td>\n",
       "      <td>0</td>\n",
       "      <td>0</td>\n",
       "      <td>0</td>\n",
       "      <td>0</td>\n",
       "      <td>0</td>\n",
       "      <td>0</td>\n",
       "      <td>0</td>\n",
       "      <td>0</td>\n",
       "      <td>0</td>\n",
       "      <td>1</td>\n",
       "      <td>1</td>\n",
       "      <td>0.0</td>\n",
       "      <td>0.00</td>\n",
       "      <td>0.0</td>\n",
       "      <td>0.0</td>\n",
       "      <td>1.00</td>\n",
       "      <td>0.00</td>\n",
       "      <td>0.00</td>\n",
       "      <td>134</td>\n",
       "      <td>86</td>\n",
       "      <td>0.61</td>\n",
       "      <td>0.04</td>\n",
       "      <td>0.61</td>\n",
       "      <td>0.02</td>\n",
       "      <td>0.0</td>\n",
       "      <td>0.0</td>\n",
       "      <td>0.00</td>\n",
       "      <td>0.00</td>\n",
       "      <td>normal</td>\n",
       "      <td>21</td>\n",
       "      <td>normal</td>\n",
       "      <td>16</td>\n",
       "      <td>2</td>\n",
       "      <td>0</td>\n",
       "    </tr>\n",
       "    <tr>\n",
       "      <th>3</th>\n",
       "      <td>0</td>\n",
       "      <td>icmp</td>\n",
       "      <td>eco_i</td>\n",
       "      <td>SF</td>\n",
       "      <td>20</td>\n",
       "      <td>0</td>\n",
       "      <td>0</td>\n",
       "      <td>0</td>\n",
       "      <td>0</td>\n",
       "      <td>0</td>\n",
       "      <td>0</td>\n",
       "      <td>0</td>\n",
       "      <td>0</td>\n",
       "      <td>0</td>\n",
       "      <td>0</td>\n",
       "      <td>0</td>\n",
       "      <td>0</td>\n",
       "      <td>0</td>\n",
       "      <td>0</td>\n",
       "      <td>0</td>\n",
       "      <td>0</td>\n",
       "      <td>0</td>\n",
       "      <td>1</td>\n",
       "      <td>65</td>\n",
       "      <td>0.0</td>\n",
       "      <td>0.00</td>\n",
       "      <td>0.0</td>\n",
       "      <td>0.0</td>\n",
       "      <td>1.00</td>\n",
       "      <td>0.00</td>\n",
       "      <td>1.00</td>\n",
       "      <td>3</td>\n",
       "      <td>57</td>\n",
       "      <td>1.00</td>\n",
       "      <td>0.00</td>\n",
       "      <td>1.00</td>\n",
       "      <td>0.28</td>\n",
       "      <td>0.0</td>\n",
       "      <td>0.0</td>\n",
       "      <td>0.00</td>\n",
       "      <td>0.00</td>\n",
       "      <td>saint</td>\n",
       "      <td>15</td>\n",
       "      <td>probe</td>\n",
       "      <td>24</td>\n",
       "      <td>3</td>\n",
       "      <td>1</td>\n",
       "    </tr>\n",
       "    <tr>\n",
       "      <th>4</th>\n",
       "      <td>1</td>\n",
       "      <td>tcp</td>\n",
       "      <td>telnet</td>\n",
       "      <td>RSTO</td>\n",
       "      <td>0</td>\n",
       "      <td>15</td>\n",
       "      <td>0</td>\n",
       "      <td>0</td>\n",
       "      <td>0</td>\n",
       "      <td>0</td>\n",
       "      <td>0</td>\n",
       "      <td>0</td>\n",
       "      <td>0</td>\n",
       "      <td>0</td>\n",
       "      <td>0</td>\n",
       "      <td>0</td>\n",
       "      <td>0</td>\n",
       "      <td>0</td>\n",
       "      <td>0</td>\n",
       "      <td>0</td>\n",
       "      <td>0</td>\n",
       "      <td>0</td>\n",
       "      <td>1</td>\n",
       "      <td>8</td>\n",
       "      <td>0.0</td>\n",
       "      <td>0.12</td>\n",
       "      <td>1.0</td>\n",
       "      <td>0.5</td>\n",
       "      <td>1.00</td>\n",
       "      <td>0.00</td>\n",
       "      <td>0.75</td>\n",
       "      <td>29</td>\n",
       "      <td>86</td>\n",
       "      <td>0.31</td>\n",
       "      <td>0.17</td>\n",
       "      <td>0.03</td>\n",
       "      <td>0.02</td>\n",
       "      <td>0.0</td>\n",
       "      <td>0.0</td>\n",
       "      <td>0.83</td>\n",
       "      <td>0.71</td>\n",
       "      <td>mscan</td>\n",
       "      <td>11</td>\n",
       "      <td>probe</td>\n",
       "      <td>11</td>\n",
       "      <td>3</td>\n",
       "      <td>1</td>\n",
       "    </tr>\n",
       "  </tbody>\n",
       "</table>\n",
       "</div>"
      ],
      "text/plain": [
       "   Duration ProtocolType   Service  Flag  SourceBytes  DestinationBytes  Land  \\\n",
       "0         0          tcp   private   REJ            0                 0     0   \n",
       "1         0          tcp   private   REJ            0                 0     0   \n",
       "2         2          tcp  ftp_data    SF        12983                 0     0   \n",
       "3         0         icmp     eco_i    SF           20                 0     0   \n",
       "4         1          tcp    telnet  RSTO            0                15     0   \n",
       "\n",
       "   WrongFragment  Urgent  Hot  FailedLogins  LoggedIn  NumberOfCompromised  \\\n",
       "0              0       0    0             0         0                    0   \n",
       "1              0       0    0             0         0                    0   \n",
       "2              0       0    0             0         0                    0   \n",
       "3              0       0    0             0         0                    0   \n",
       "4              0       0    0             0         0                    0   \n",
       "\n",
       "   RootShell  SuAttempted  Root  NumberOfFileCreations  NumberOfShellPrompts  \\\n",
       "0          0            0     0                      0                     0   \n",
       "1          0            0     0                      0                     0   \n",
       "2          0            0     0                      0                     0   \n",
       "3          0            0     0                      0                     0   \n",
       "4          0            0     0                      0                     0   \n",
       "\n",
       "   NumberOfAccessFiles  NumberOfOutbound  IsHotLogin  IsGuestLogin  Count  \\\n",
       "0                    0                 0           0             0    229   \n",
       "1                    0                 0           0             0    136   \n",
       "2                    0                 0           0             0      1   \n",
       "3                    0                 0           0             0      1   \n",
       "4                    0                 0           0             0      1   \n",
       "\n",
       "   SrvCount  SerrorRate  SrvSerrorRate  RerrorRate  SrvRerrorRate  \\\n",
       "0        10         0.0           0.00         1.0            1.0   \n",
       "1         1         0.0           0.00         1.0            1.0   \n",
       "2         1         0.0           0.00         0.0            0.0   \n",
       "3        65         0.0           0.00         0.0            0.0   \n",
       "4         8         0.0           0.12         1.0            0.5   \n",
       "\n",
       "   SameSrvRate  DiffSrvRate  SrvDiffHostRate  DstHostCount  DstHostSrvCount  \\\n",
       "0         0.04         0.06             0.00           255               10   \n",
       "1         0.01         0.06             0.00           255                1   \n",
       "2         1.00         0.00             0.00           134               86   \n",
       "3         1.00         0.00             1.00             3               57   \n",
       "4         1.00         0.00             0.75            29               86   \n",
       "\n",
       "   DstHostSameSrvRate  DstHostDiffSrvRate  DstHostSameSrcPortRate  \\\n",
       "0                0.04                0.06                    0.00   \n",
       "1                0.00                0.06                    0.00   \n",
       "2                0.61                0.04                    0.61   \n",
       "3                1.00                0.00                    1.00   \n",
       "4                0.31                0.17                    0.03   \n",
       "\n",
       "   DstHostSrvDiffHostRate  DstHostSerrorRate  DstHostSrvSerrorRate  \\\n",
       "0                    0.00                0.0                   0.0   \n",
       "1                    0.00                0.0                   0.0   \n",
       "2                    0.02                0.0                   0.0   \n",
       "3                    0.28                0.0                   0.0   \n",
       "4                    0.02                0.0                   0.0   \n",
       "\n",
       "   DstHostRerrorRate  DstHostSrvRerrorRate TypeOfAttack  TimesApparead  \\\n",
       "0               1.00                  1.00      neptune             21   \n",
       "1               1.00                  1.00      neptune             21   \n",
       "2               0.00                  0.00       normal             21   \n",
       "3               0.00                  0.00        saint             15   \n",
       "4               0.83                  0.71        mscan             11   \n",
       "\n",
       "    Group  IndexAttack  IndexByGroup  IndexBinary  \n",
       "0     dos           14             1            1  \n",
       "1     dos           14             1            1  \n",
       "2  normal           16             2            0  \n",
       "3   probe           24             3            1  \n",
       "4   probe           11             3            1  "
      ]
     },
     "execution_count": 5,
     "metadata": {},
     "output_type": "execute_result"
    }
   ],
   "source": [
    "test.head()"
   ]
  },
  {
   "cell_type": "code",
   "execution_count": 6,
   "metadata": {
    "collapsed": true
   },
   "outputs": [],
   "source": [
    "def entropia_informacion(dataset,columnas=[2,3,4,7,12,21,22]):\n",
    "    #cleaning the dataset\n",
    "    #restando uno al subindice, ya que pandas empieza la numeracion en 0\n",
    "    #volviendo un numpy array porque en las listas no hay restas\n",
    "    subindice=np.asarray(columnas)-1\n",
    "    #regresando a la lista\n",
    "    subindice=subindice.tolist()\n",
    "    indice=list(range(0,len(dataset.columns)-6))\n",
    "    indice.extend(subindice)\n",
    "    s_indice=pd.Series(indice)\n",
    "    #eleminando los duplicados en el Series de Pandas\n",
    "    s_indice=s_indice.drop_duplicates(keep=False)\n",
    "    for columna in s_indice:\n",
    "        #serie temporal\n",
    "        st=dataset.loc[:,dataset.columns[columna]]\n",
    "        print(\"Columna no: %d, etiquetada: %s\" %(columna+1,dataset.columns[columna]))\n",
    "        print(\"Su Promedio es: %f\" %(st.mean()))\n",
    "        print(\"Su Desviación Estandar es: %f\" % (st.std()))\n",
    "        informacion=-1*math.log(temp[0]/temp.sum(),2)\n",
    "        print(\"Su informacion es: \")"
   ]
  },
  {
   "cell_type": "code",
   "execution_count": 10,
   "metadata": {
    "collapsed": true
   },
   "outputs": [],
   "source": [
    "#definiendo funcion para calcular la probabilidad\n",
    "s_probabilidad=None\n",
    "def probabilidad(serie):\n",
    "    s_probabilidad=[]\n",
    "    e_agrupados = serie.value_counts()\n",
    "    for elemento in e_agrupados:\n",
    "        info=elemento/e_agrupados.sum()\n",
    "        s_probabilidad.append(info)\n",
    "    ps_probabilidad=pd.Series(s_probabilidad)\n",
    "    return (ps_probabilidad,e_agrupados)"
   ]
  },
  {
   "cell_type": "code",
   "execution_count": 29,
   "metadata": {},
   "outputs": [],
   "source": [
    "#definiendo funcion para calcular la probabilidad\n",
    "#es la informacion lol\n",
    "s_informacion=None\n",
    "s_entropia=None\n",
    "#serie tiene cada valor con su cantidad\n",
    "def calculo_informacion_entropia(serie_valores_unicos,probabilidad):\n",
    "    s_informacion=[]\n",
    "    s_entropia=[]\n",
    "    for indice in list(range(0,len(serie_valores_unicos))):\n",
    "        info=-1*math.log(probabilidad.iloc[indice],2)\n",
    "        entropia=probabilidad.iloc[indice]*info\n",
    "        s_informacion.append(info)\n",
    "        s_entropia.append(entropia)\n",
    "    ps_informacion=pd.Series(s_informacion)\n",
    "    ps_entropia=pd.Series(s_entropia)\n",
    "    return (ps_informacion,ps_entropia)"
   ]
  },
  {
   "cell_type": "code",
   "execution_count": null,
   "metadata": {
    "collapsed": true
   },
   "outputs": [],
   "source": [
    "#informacion"
   ]
  },
  {
   "cell_type": "code",
   "execution_count": 78,
   "metadata": {
    "scrolled": true
   },
   "outputs": [
    {
     "data": {
      "text/plain": [
       "1.521363718492482"
      ]
     },
     "execution_count": 78,
     "metadata": {},
     "output_type": "execute_result"
    }
   ],
   "source": [
    "-1*math.log(temp[0]/temp.sum(),2)"
   ]
  },
  {
   "cell_type": "code",
   "execution_count": 80,
   "metadata": {
    "collapsed": true
   },
   "outputs": [],
   "source": [
    "#probabilidad"
   ]
  },
  {
   "cell_type": "code",
   "execution_count": 79,
   "metadata": {},
   "outputs": [
    {
     "data": {
      "text/plain": [
       "0.52997690109219986"
      ]
     },
     "execution_count": 79,
     "metadata": {},
     "output_type": "execute_result"
    }
   ],
   "source": [
    "-1*temp[0]/temp.sum()*math.log(temp[0]/temp.sum(),2)"
   ]
  },
  {
   "cell_type": "code",
   "execution_count": null,
   "metadata": {
    "collapsed": true
   },
   "outputs": [],
   "source": [
    "def informacion(serie):\n",
    "    s_informacion=pd.Series()\n",
    "    for elemento in serie:\n",
    "        s_informacion=s_informacion.append(-1*math.log(serie[elemento]/serieb.sum(),2))\n",
    "        "
   ]
  },
  {
   "cell_type": "code",
   "execution_count": 11,
   "metadata": {},
   "outputs": [],
   "source": [
    "proba,e_agrupados=probabilidad(test.Duration)"
   ]
  },
  {
   "cell_type": "code",
   "execution_count": 13,
   "metadata": {},
   "outputs": [
    {
     "data": {
      "text/plain": [
       "0.8435878099631815"
      ]
     },
     "execution_count": 13,
     "metadata": {},
     "output_type": "execute_result"
    }
   ],
   "source": [
    "proba.iloc[0]"
   ]
  },
  {
   "cell_type": "code",
   "execution_count": 30,
   "metadata": {},
   "outputs": [],
   "source": [
    "informacion,entropia=calculo_informacion_entropia(e_agrupados,proba)"
   ]
  },
  {
   "cell_type": "code",
   "execution_count": 31,
   "metadata": {},
   "outputs": [
    {
     "data": {
      "text/plain": [
       "624"
      ]
     },
     "execution_count": 31,
     "metadata": {},
     "output_type": "execute_result"
    }
   ],
   "source": [
    "len(e_agrupados)"
   ]
  },
  {
   "cell_type": "code",
   "execution_count": 32,
   "metadata": {},
   "outputs": [
    {
     "data": {
      "text/plain": [
       "0    0.207008\n",
       "1    0.137048\n",
       "2    0.128785\n",
       "3    0.069771\n",
       "4    0.064250\n",
       "dtype: float64"
      ]
     },
     "execution_count": 32,
     "metadata": {},
     "output_type": "execute_result"
    }
   ],
   "source": [
    "entropia.head()"
   ]
  },
  {
   "cell_type": "code",
   "execution_count": 33,
   "metadata": {},
   "outputs": [
    {
     "data": {
      "text/plain": [
       "0    0.843588\n",
       "1    0.026039\n",
       "2    0.023910\n",
       "3    0.010646\n",
       "4    0.009582\n",
       "dtype: float64"
      ]
     },
     "execution_count": 33,
     "metadata": {},
     "output_type": "execute_result"
    }
   ],
   "source": [
    "proba.head()"
   ]
  },
  {
   "cell_type": "code",
   "execution_count": 40,
   "metadata": {},
   "outputs": [
    {
     "data": {
      "text/plain": [
       "1.0000000000000095"
      ]
     },
     "execution_count": 40,
     "metadata": {},
     "output_type": "execute_result"
    }
   ],
   "source": [
    "proba.sum()"
   ]
  },
  {
   "cell_type": "code",
   "execution_count": 54,
   "metadata": {
    "collapsed": true
   },
   "outputs": [],
   "source": [
    "#definiendo funcion para calcular la probabilidad. da más de 1 la suma\n",
    "s_probabilidad=None\n",
    "def probabilidad(serie):\n",
    "    s_probabilidad=[]\n",
    "    e_agrupados = serie.value_counts()\n",
    "    for indice in list(range(0,len(e_agrupados))):\n",
    "        proba=e_agrupados.iloc[indice]/e_agrupados.sum()\n",
    "        s_probabilidad.append(proba)\n",
    "    ps_probabilidad=pd.Series(s_probabilidad)\n",
    "    return (ps_probabilidad,e_agrupados)"
   ]
  },
  {
   "cell_type": "code",
   "execution_count": 55,
   "metadata": {},
   "outputs": [],
   "source": [
    "proba,e_agrupados=probabilidad(test.Duration)"
   ]
  },
  {
   "cell_type": "code",
   "execution_count": 56,
   "metadata": {},
   "outputs": [
    {
     "data": {
      "text/plain": [
       "0    0.843588\n",
       "1    0.026039\n",
       "2    0.023910\n",
       "3    0.010646\n",
       "4    0.009582\n",
       "dtype: float64"
      ]
     },
     "execution_count": 56,
     "metadata": {},
     "output_type": "execute_result"
    }
   ],
   "source": [
    "proba.head()"
   ]
  },
  {
   "cell_type": "code",
   "execution_count": 57,
   "metadata": {},
   "outputs": [
    {
     "data": {
      "text/plain": [
       "0.8435878099631815"
      ]
     },
     "execution_count": 57,
     "metadata": {},
     "output_type": "execute_result"
    }
   ],
   "source": [
    "19017/len(test)"
   ]
  },
  {
   "cell_type": "code",
   "execution_count": 58,
   "metadata": {},
   "outputs": [
    {
     "data": {
      "text/plain": [
       "1.0000000000000095"
      ]
     },
     "execution_count": 58,
     "metadata": {},
     "output_type": "execute_result"
    }
   ],
   "source": [
    "proba.sum()"
   ]
  },
  {
   "cell_type": "code",
   "execution_count": 53,
   "metadata": {},
   "outputs": [
    {
     "data": {
      "text/plain": [
       "22543"
      ]
     },
     "execution_count": 53,
     "metadata": {},
     "output_type": "execute_result"
    }
   ],
   "source": [
    "len(test)"
   ]
  },
  {
   "cell_type": "code",
   "execution_count": null,
   "metadata": {
    "collapsed": true
   },
   "outputs": [],
   "source": []
  }
 ],
 "metadata": {
  "kernelspec": {
   "display_name": "Python 3",
   "language": "python",
   "name": "python3"
  },
  "language_info": {
   "codemirror_mode": {
    "name": "ipython",
    "version": 3
   },
   "file_extension": ".py",
   "mimetype": "text/x-python",
   "name": "python",
   "nbconvert_exporter": "python",
   "pygments_lexer": "ipython3",
   "version": "3.6.1"
  }
 },
 "nbformat": 4,
 "nbformat_minor": 2
}
