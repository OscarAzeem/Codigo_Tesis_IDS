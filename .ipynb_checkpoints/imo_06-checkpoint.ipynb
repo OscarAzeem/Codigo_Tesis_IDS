{
 "cells": [
  {
   "cell_type": "markdown",
   "metadata": {},
   "source": [
    "# falta solucionar el bug dónde pos_temp, tiene más dimensiones que las iguales "
   ]
  },
  {
   "cell_type": "markdown",
   "metadata": {},
   "source": [
    "# Se soluciona el bug a partir de una aproximación diferente al problema. Ya no se muta primero los diferentes si sobran dimensiones a mutar, entonces se mutan los iguales pero siempre muta el total de dimensiones otorgado por la posicion pos_temp; además todas las dimensiones se seleccionan de forma aleatoria"
   ]
  },
  {
   "cell_type": "markdown",
   "metadata": {},
   "source": [
    "# Ahora la aproximación es si post_temp es mayor a la cantidad de dimensiones diferentes, se omiten las restantes. Eso hace que se de una convergencia a la fase solida de manera más rápida, además se solucinoa el caso cuando la cantidad de dimensiones iguales es cero, (el vector era completamente igual al mejor vector), que en interaciones finales es muy posible que suceda"
   ]
  },
  {
   "cell_type": "raw",
   "metadata": {},
   "source": []
  },
  {
   "cell_type": "code",
   "execution_count": null,
   "metadata": {
    "collapsed": true
   },
   "outputs": [],
   "source": []
  },
  {
   "cell_type": "code",
   "execution_count": null,
   "metadata": {
    "collapsed": true
   },
   "outputs": [],
   "source": []
  },
  {
   "cell_type": "markdown",
   "metadata": {},
   "source": [
    "# se arreglaron las matrizes de resultados para ser una sola"
   ]
  },
  {
   "cell_type": "markdown",
   "metadata": {},
   "source": [
    "# Librerías"
   ]
  },
  {
   "cell_type": "code",
   "execution_count": 1,
   "metadata": {
    "collapsed": true
   },
   "outputs": [],
   "source": [
    "import itertools\n",
    "import time\n",
    "import numpy as np\n",
    "import pandas as pd\n",
    "import matplotlib.pyplot as plt\n",
    "from matplotlib import offsetbox\n",
    "from sklearn import (manifold, datasets, decomposition, ensemble,\n",
    "                     discriminant_analysis, random_projection)#Prueba evaluación y entrenamiento un solo individuo. \n",
    "#Vectores completos\n",
    "from sklearn.metrics import classification_report,confusion_matrix,accuracy_score\n",
    "import random"
   ]
  },
  {
   "cell_type": "code",
   "execution_count": 2,
   "metadata": {
    "collapsed": true
   },
   "outputs": [],
   "source": [
    "import seaborn as sns"
   ]
  },
  {
   "cell_type": "markdown",
   "metadata": {},
   "source": [
    "# Databases"
   ]
  },
  {
   "cell_type": "code",
   "execution_count": 3,
   "metadata": {
    "collapsed": true
   },
   "outputs": [],
   "source": [
    "#Reading all the cvs\n",
    "#Nss learning\n",
    "nsl_training=pd.read_csv('./Final_Datasets/MINMAX_FD_NSL_Tra.csv')\n",
    "#Nsl testing\n",
    "nsl_testing=pd.read_csv('./Final_Datasets/MINMAX_FD_NSL_Test.csv')"
   ]
  },
  {
   "cell_type": "markdown",
   "metadata": {},
   "source": [
    "# Labels"
   ]
  },
  {
   "cell_type": "code",
   "execution_count": 4,
   "metadata": {
    "collapsed": true
   },
   "outputs": [],
   "source": [
    "#NSL TESTING LABELS\n",
    "\n",
    "#Index binary (2 clases)\n",
    "L_nsl_testing_indexbinary=pd.read_csv(\"./Final_Datasets/L_nsl_testing_indexbinary.csv\")\n",
    "#Index by Group (5 clases)\n",
    "L_nsl_testing_indexbygroup=pd.read_csv(\"./Final_Datasets/L_nsl_testing_indexbygroup.csv\")\n",
    "#Index tipe of attack (42? clases)\n",
    "L_nsl_testing_indextipeofattack=pd.read_csv(\"./Final_Datasets/L_nsl_testing_indextipeofattack.csv\")\n",
    "\n",
    "\n",
    "#nsl TRAINING LABELS\n",
    "# 2 clases\n",
    "L_nsl_training_indexbinary=pd.read_csv(\"./Final_Datasets/L_nsl_training_indexbinary.csv\")\n",
    "#Index by Group (5 clases)\n",
    "L_nsl_training_indexbygroup=pd.read_csv(\"./Final_Datasets/L_nsl_training_indexbygroup.csv\")\n",
    "#Index tipe of attack (42? clases)\n",
    "L_nsl_training_indextipeofattack=pd.read_csv(\"./Final_Datasets/L_nsl_training_indextipeofattack.csv\")"
   ]
  },
  {
   "cell_type": "markdown",
   "metadata": {},
   "source": [
    "# Conversión de Pandas->Numpy (array) not Matrix"
   ]
  },
  {
   "cell_type": "code",
   "execution_count": 5,
   "metadata": {
    "collapsed": true
   },
   "outputs": [],
   "source": [
    "nsl_training=nsl_training.as_matrix(columns=None)\n",
    "nsl_testing=nsl_testing.as_matrix(columns=None)"
   ]
  },
  {
   "cell_type": "markdown",
   "metadata": {},
   "source": [
    "# Funcion para calcular M dependiendo de las iteraciones"
   ]
  },
  {
   "cell_type": "code",
   "execution_count": 6,
   "metadata": {
    "collapsed": true
   },
   "outputs": [],
   "source": [
    "def M_dimensiones_a_mutar(Perror,i_actual,i_max,M_Max=40):\n",
    "    iteraciones=1-(i_actual/i_max)\n",
    "    M=M_Max*np.amin([iteraciones,Perror])\n",
    "    M=np.array(np.round_(M))\n",
    "    return M"
   ]
  },
  {
   "cell_type": "markdown",
   "metadata": {},
   "source": [
    "# Funcion para calcular el rendimiento F(s)"
   ]
  },
  {
   "cell_type": "code",
   "execution_count": 20,
   "metadata": {
    "collapsed": true
   },
   "outputs": [],
   "source": [
    "def funcion_rendimiento(Perror_actual,unos,N=40,alfa=.3):\n",
    "    cardinalidad=unos\n",
    "    rendimiento=alfa*Perror_actual+(1-alfa)*(cardinalidad/N)\n",
    "    return rendimiento"
   ]
  },
  {
   "cell_type": "markdown",
   "metadata": {},
   "source": [
    "# Declaración del modelo"
   ]
  },
  {
   "cell_type": "code",
   "execution_count": 7,
   "metadata": {
    "collapsed": true
   },
   "outputs": [],
   "source": [
    "from sklearn.ensemble import RandomForestClassifier\n",
    "\n",
    "modelo=RandomForestClassifier(criterion='entropy',n_jobs=2, \n",
    "                              bootstrap=True, max_depth=10, max_features='sqrt', min_samples_leaf=2, \n",
    "                              min_samples_split=100, n_estimators=8)\n"
   ]
  },
  {
   "cell_type": "markdown",
   "metadata": {},
   "source": [
    "# Declarando e modelo para la distancia"
   ]
  },
  {
   "cell_type": "code",
   "execution_count": 8,
   "metadata": {
    "collapsed": true
   },
   "outputs": [],
   "source": [
    "from sklearn.neighbors import DistanceMetric\n",
    "dist = DistanceMetric.get_metric('jaccard')"
   ]
  },
  {
   "cell_type": "code",
   "execution_count": null,
   "metadata": {
    "collapsed": true
   },
   "outputs": [],
   "source": []
  },
  {
   "cell_type": "markdown",
   "metadata": {
    "collapsed": true
   },
   "source": [
    "# IMO"
   ]
  },
  {
   "cell_type": "markdown",
   "metadata": {},
   "source": [
    "# Funciones"
   ]
  },
  {
   "cell_type": "markdown",
   "metadata": {},
   "source": [
    "# Eval sencilla"
   ]
  },
  {
   "cell_type": "code",
   "execution_count": 9,
   "metadata": {
    "collapsed": true
   },
   "outputs": [],
   "source": [
    "#funcion para la evaluacion sencilla de un elemento\n",
    "#la evaluación sencilla consta de \n",
    "#indices_uno_poblacion, guarda los indices de la poblacion de aniones o cationes las cuales contienen los\n",
    "#parametros de 1\n",
    "def evaluacion_sencilla(poblacion,matriz_de_evaluacion,indices_unos_poblacion,modelo):\n",
    "    \"\"\"Regresa la matriz dd resultados\n",
    "    los indices dónde se encuentran los unos\"\"\"\n",
    "    for indice_elemento in list(range(0,(poblacion.shape[0]))):\n",
    "        #filtrado de la base de datos\n",
    "        training_temp=poblacion[indice_elemento]*nsl_training\n",
    "        testing_temp=poblacion[indice_elemento]*nsl_testing    \n",
    "        #se entrena el modelo\n",
    "        modelo.fit(training_temp,training_etiquetas.values.ravel())\n",
    "        #se evalua el modelo\n",
    "        predicciones_temp=modelo.predict(testing_temp)\n",
    "        #se obtiene el accuracy score\n",
    "        matriz_de_evaluacion[indice_elemento,0]=accuracy_score(testing_etiquetas,predicciones_temp)\n",
    "        #se obtiene la probabilidad de error\n",
    "        matriz_de_evaluacion[indice_elemento,1]=1-accuracy_score(testing_etiquetas,predicciones_temp)\n",
    "        #se obtienen la cantidd de los indices de los unos (dimensinoes activas)\n",
    "        matriz_de_evaluacion[indice_elemento,2]=np.array(np.where(poblacion[indice_elemento]==1)).shape[1]\n",
    "        #se obtienen los indices de los unos\n",
    "        indices_unos_poblacion.append(np.where(poblacion[indice_elemento]==1))\n",
    "        \n",
    "        print(\"unos temporales: %s\" %M_E_A[indice_elemento,2])\n",
    "    return [matriz_de_evaluacion,indices_unos_poblacion]\n",
    "\n",
    "        "
   ]
  },
  {
   "cell_type": "markdown",
   "metadata": {},
   "source": [
    "# Eval compuesta"
   ]
  },
  {
   "cell_type": "code",
   "execution_count": 14,
   "metadata": {
    "collapsed": true
   },
   "outputs": [],
   "source": [
    "\n",
    "#Matriz con resultados para su actualizacion\n",
    "#0-column (distancia - Jaccard)\n",
    "#1-column (fuerza)\n",
    "#2-column (cantidad de dimensiones similares con el mejor)\n",
    "\n",
    "#funcion para la evaluacion compuesta de un elemento\n",
    "#la evaluación sencilla consta de \n",
    "def evaluacion_compuesta(poblacion,mejor_elemento_pob_contraria,matriz_de_evaluacion):\n",
    "    \"\"\"Regresa la matriz dd resultados compuestos, la cual incluye\n",
    "    distancia (jacard), fuerza, y los indices de los vectores iguales entre \n",
    "    el elemento x y el mejor de la población\"\"\"\n",
    "    for indice_elemento in list(range(0,(poblacion.shape[0]))):\n",
    "        #se calcula el indice [elemento,3]->Distancia\n",
    "        a=poblacion[indice_elemento]\n",
    "        b=mejor_elemento_pob_contraria\n",
    "        matriz_de_evaluacion[indice_elemento,3]=dist.pairwise([a,b])[0,1]\n",
    "        #se calcula el indice [elemento,4]->fuerza\n",
    "        x=matriz_de_evaluacion[indice_elemento,3]\n",
    "        fuerza=(1/(1+(2.71828**(-0.1/x))))\n",
    "        #se almacena la fuerza en la matriz\n",
    "        matriz_de_evaluacion[indice_elemento,4]=fuerza\n",
    "        #se calcula el rendimiento F(S)\n",
    "        #se calcula el indice [elemento,5]->Rendimiento\n",
    "        matriz_de_evaluacion[indice_elemento,5]=funcion_rendimiento(matriz_de_evaluacion[indice_elemento,1],\n",
    "                                matriz_de_evaluacion[indice_elemento,2],N=40,alfa=.3)\n",
    "                             \n",
    " \n",
    "        print(\"indice_elemento %s\" %indice_elemento)\n",
    "    return [matriz_de_evaluacion]\n"
   ]
  },
  {
   "cell_type": "markdown",
   "metadata": {},
   "source": [
    "# Declaracion de parámetros"
   ]
  },
  {
   "cell_type": "code",
   "execution_count": 21,
   "metadata": {
    "scrolled": true
   },
   "outputs": [
    {
     "name": "stdout",
     "output_type": "stream",
     "text": [
      "unos temporales: 22.0\n",
      "unos temporales: 19.0\n",
      "unos temporales: 19.0\n",
      "unos temporales: 15.0\n",
      "unos temporales: 18.0\n",
      "unos temporales: 17.0\n",
      "unos temporales: 20.0\n",
      "unos temporales: 18.0\n",
      "unos temporales: 18.0\n",
      "unos temporales: 16.0\n",
      "indice_elemento 0\n",
      "indice_elemento 1\n",
      "indice_elemento 2\n",
      "indice_elemento 3\n",
      "indice_elemento 4\n",
      "indice_elemento 5\n",
      "indice_elemento 6\n",
      "indice_elemento 7\n",
      "indice_elemento 8\n",
      "indice_elemento 9\n"
     ]
    }
   ],
   "source": [
    "#Declaracion de la poblacion de forma aleatoria\n",
    "\n",
    "A=np.random.randint(2, size=(10,40))\n",
    "C=np.random.randint(2, size=(10,40))\n",
    "\n",
    "\n",
    "#Matriz Dimensiones activas (lista):\n",
    "#dimensiones_activas_aniones=[]\n",
    "#dimensiones_activas_cationes=[]\n",
    "\n",
    "I_A=[]\n",
    "I_C=[]\n",
    "\n",
    "#Matriz de evaluacion con todos los parámetros\n",
    "M_E_A=np.zeros([10,8])\n",
    "M_E_C=np.zeros([10,8])\n",
    "\n",
    "\n",
    "\n",
    "#Declaracion de las matrices para\n",
    "#Matriz Resultados sencillos\n",
    "#0-column (score)\n",
    "#1-column (p-error\n",
    "#2-column (dimensiones activas)\n",
    "\n",
    "\n",
    "#Matriz con resultados para su actualizacion\n",
    "#3-column (distancia - Jaccard)\n",
    "#4-column (fuerza)\n",
    "\n",
    "\n",
    "#5-column cantidad de dimensiones M a mutar\n",
    "#6-column Cantidad de dimensiones M que cumplieron la condición de su fase sólida/líquida\n",
    "\n",
    "\n",
    "#2-column (cantidad de dimensiones similares con el mejor)\n",
    "\n",
    "\n",
    "\n",
    "#declaracion de etiquetas\n",
    "training_etiquetas=L_nsl_training_indexbinary\n",
    "testing_etiquetas=L_nsl_testing_indexbinary\n",
    "\n",
    "[M_E_A,IA]=evaluacion_sencilla(A,M_E_A,I_A,modelo)\n",
    "\n",
    "\n",
    "#mejor elemento de forma temporal \n",
    "mejor_elemento=np.random.randint(2, size=(40))\n",
    "[M_E_A]=evaluacion_compuesta(A,mejor_elemento,M_E_A)\n",
    "\n",
    "\n"
   ]
  },
  {
   "cell_type": "code",
   "execution_count": 22,
   "metadata": {
    "scrolled": true
   },
   "outputs": [
    {
     "data": {
      "text/plain": [
       "array([[  0.76063523,   0.23936477,  22.        ,   0.82857143,\n",
       "          0.53013582,   0.45680943,   0.        ,   0.        ],\n",
       "       [  0.74714989,   0.25285011,  19.        ,   0.64285714,\n",
       "          0.53881063,   0.40835503,   0.        ,   0.        ],\n",
       "       [  0.73171273,   0.26828727,  19.        ,   0.73333333,\n",
       "          0.53403816,   0.41298618,   0.        ,   0.        ],\n",
       "       [  0.72394978,   0.27605022,  15.        ,   0.74074074,\n",
       "          0.53369881,   0.34531506,   0.        ,   0.        ],\n",
       "       [  0.73220068,   0.26779932,  18.        ,   0.76666667,\n",
       "          0.53256252,   0.3953398 ,   0.        ,   0.        ],\n",
       "       [  0.7432906 ,   0.2567094 ,  17.        ,   0.75862069,\n",
       "          0.53290689,   0.37451282,   0.        ,   0.        ],\n",
       "       [  0.76471632,   0.23528368,  20.        ,   0.74193548,\n",
       "          0.53364471,   0.4205851 ,   0.        ,   0.        ],\n",
       "       [  0.75389256,   0.24610744,  18.        ,   0.80645161,\n",
       "          0.53096032,   0.38883223,   0.        ,   0.        ],\n",
       "       [  0.75300537,   0.24699463,  18.        ,   0.72413793,\n",
       "          0.53446903,   0.38909839,   0.        ,   0.        ],\n",
       "       [  0.76218782,   0.23781218,  16.        ,   0.83333333,\n",
       "          0.52996403,   0.35134365,   0.        ,   0.        ]])"
      ]
     },
     "execution_count": 22,
     "metadata": {},
     "output_type": "execute_result"
    }
   ],
   "source": [
    "M_E_A"
   ]
  },
  {
   "cell_type": "markdown",
   "metadata": {},
   "source": [
    "# Fase líquida"
   ]
  },
  {
   "cell_type": "code",
   "execution_count": 13,
   "metadata": {
    "collapsed": true
   },
   "outputs": [],
   "source": [
    "# corregir la fase líquida para que seleccione de forma aleatoria los indices de los diferentes, ya que se\n",
    "# tendería a escoger los primeros"
   ]
  },
  {
   "cell_type": "code",
   "execution_count": 59,
   "metadata": {
    "collapsed": true
   },
   "outputs": [],
   "source": [
    "def fase_liquida(poblacion,mejor_pob_contraria,matriz_resultados):\n",
    "    \"\"\"poblacion=poblacion de aniones/cationes\n",
    "    mejor_pob_contraia=mejor elemento de la poblacion contraria a partir de la cual mutar\n",
    "    fase=liquida,solida\"\"\"\n",
    "    #probando la fase líquida\n",
    "    for indice_elemento in list(range(0,(poblacion.shape[0]))):\n",
    "        \n",
    "        print(\"\\n\")\n",
    "        print(\"Me encuentro trabajando en el elmento %s de %s totales\" %(indice_elemento,poblacion.shape[0]))\n",
    "        respaldo_temporal_elemento=np.array(poblacion[indice_elemento])\n",
    "        print(\"Elemento:\")\n",
    "        print(respaldo_temporal_elemento)\n",
    "        \n",
    "        \n",
    "        #Encuentra el total de dimensiones M posibles a mutar POR ELEMENTO\n",
    "        M=M_dimensiones_a_mutar(matriz_resultados[indice_elemento,1],i_actual,i_max)\n",
    "        \n",
    "        print(\"Tiene una probabilidad de error de: %s\" % matriz_resultados[indice_elemento,1])\n",
    "        print(\"Para el elemento %s se mutan un total máximo de M=%s dimensiones\" %(indice_elemento,M))\n",
    "        \n",
    "        #Encuentra el total de dimensinoes posibles a mutar, dependiendo del elemento (distancia,fuerza)\n",
    "        #y que ademas depende de M\n",
    "        #posicion_temp=cantidad de dimensinoes a mutar por elemento. \n",
    "        \n",
    "        #matriz_resultados[elemento,5]->posicion\n",
    "        #matriz_resultados[elemnto,4]->fuerza\n",
    "\n",
    "        \n",
    "        #posicion temporal, maxima cantidad de dimensinoes permitidas a mutar por ese elemento\n",
    "        posicion_temp=matriz_resultados[indice_elemento,4]*M\n",
    "        #se redondea para que se un total de dimensiones entero\n",
    "        posicion_temp=int(np.round_(posicion_temp))\n",
    "        \n",
    "        print(\"Cantidad de dimensiones a mutar específicas para ese elemento: %s\" %(posicion_temp))\n",
    "     \n",
    "        \n",
    "        #se actualiza la matriz de resultados\n",
    "        matriz_resultados[indice_elemento,5]=posicion_temp\n",
    "        \n",
    "        #muta unicamente los iguales, aún pese a que haya más elementos posibles a mutar M\n",
    "        #debido a la posicion_temp\n",
    "    \n",
    "        a=np.where((poblacion[indice_elemento]==mejor_pob_contraria)==False)\n",
    "        #para trabajar sin dificultades se convierte a una lista plana\n",
    "        b=np.concatenate(a).ravel().tolist()\n",
    "                \n",
    "        print(\"El elemento mejor es: \")\n",
    "        print(mejor_pob_contraria)\n",
    "        print(\"El elemento a evaluar es: \")\n",
    "        print(poblacion[indice_elemento])\n",
    "        print(\"Los indices que son diferentes son %s\" %(a))\n",
    "        \n",
    "        #se seleccionan posicion_temp elementos de forma ALEATORIA, para no elegirse siempre las primeras\n",
    "        #dimensiones\n",
    "        \n",
    "        dimensiones_utilizadas=0\n",
    "        criterio_fase_solida=0\n",
    "        \n",
    "        \n",
    "        #--------------------------------\n",
    "        \n",
    "        if (len(b)!=0):\n",
    "            if (posicion_temp>len(b)):\n",
    "                #solución al problema de cuando hay más cantidad de \n",
    "                #dimensiones posibles que de elementos, es decir,\n",
    "                #se toma todo el conjunto de dimensiones iguales\n",
    "                print(\"Entre al primer if\")\n",
    "                diferentes_temp_indices=b\n",
    "                diferentes_temp_cantidad=len(diferentes_temp_indices)\n",
    "                \n",
    "                \n",
    "                print(\"indice_elemento: %s\" %indice_elemento,\"diferentes temp indices\", diferentes_temp_indices,\n",
    "                     \"dimensinoes utilizadas: %s\" %dimensiones_utilizadas)\n",
    "\n",
    "            else:\n",
    "                \n",
    "                print(\"Entre al primer else\")\n",
    "                #cuando hay más dimensiones diferentes que dimensiones posibles a mutar\n",
    "                #se escogen de manera aleatoria\n",
    "                c=random.sample(b,posicion_temp)\n",
    "                diferentes_temp_indices=sorted(c)\n",
    "                diferentes_temp_cantidad=len(diferentes_temp_indices)\n",
    "\n",
    "                \n",
    "                print(\"indice_elemento: %s\" %indice_elemento,\"diferentes temp indices\", diferentes_temp_indices,\n",
    "                     \"dimensinoes utilizadas: %s\" %dimensiones_utilizadas)\n",
    "\n",
    "                \n",
    "            #while para mutar las dimensiones diferentes\n",
    "            #se resta uno por el while, si son 5, toma 6, debido a que empieza en cero\n",
    "            while((dimensiones_utilizadas<diferentes_temp_cantidad)):\n",
    "                print(\"Entre al primer while\")\n",
    "                print(\"Diferentes temp cantidad %s\" %diferentes_temp_cantidad)\n",
    "                #muta los diferentea\n",
    "                #print(\"\\n\\n\")\n",
    "                #print(diferentes_temp_indices)\n",
    "                #print(dimensiones_utilizadas)\n",
    "                #print(type(diferentes_temp_indices))\n",
    "                #print(diferentes_temp_indices[0,dimensiones_utilizadas])\n",
    "                \n",
    "                print(\"indice_elemento: %s\" %indice_elemento,\"diferentes temp indices\", diferentes_temp_indices,\n",
    "                     \"dimensinoes utilizadas: %s\" %dimensiones_utilizadas)\n",
    "\n",
    "                if (poblacion[indice_elemento,diferentes_temp_indices[dimensiones_utilizadas]] ==0):\n",
    "                    poblacion[indice_elemento,diferentes_temp_indices[dimensiones_utilizadas]] =1\n",
    "                else:\n",
    "                    poblacion[indice_elemento,diferentes_temp_indices[dimensiones_utilizadas]] =0\n",
    "\n",
    "\n",
    "                print(\"Se muto la dimension: %s\" %(diferentes_temp_indices[dimensiones_utilizadas]))\n",
    "                print(\"El elemento de la poblacion %s mutado es: \")\n",
    "                print(poblacion[indice_elemento])\n",
    "\n",
    "                dimensiones_utilizadas=dimensiones_utilizadas+1      \n",
    "                \n",
    "                \n",
    "        else:\n",
    "            #cuando son exactamente iguales el criterio para la fase sólida aumenta\n",
    "            criterio_fase_solida=criterio_fase_solida+1\n",
    "            \n",
    "\n",
    "\n",
    "\n"
   ]
  },
  {
   "cell_type": "code",
   "execution_count": 60,
   "metadata": {},
   "outputs": [
    {
     "data": {
      "text/plain": [
       "array([1, 0, 0, 0, 0, 1, 0, 1, 1, 1, 1, 0, 0, 1, 0, 1, 0, 0, 1, 0, 0, 0, 1,\n",
       "       0, 1, 0, 1, 1, 0, 0, 1, 1, 0, 0, 1, 0, 1, 1, 0, 1])"
      ]
     },
     "execution_count": 60,
     "metadata": {},
     "output_type": "execute_result"
    }
   ],
   "source": [
    "mejor_elemento"
   ]
  },
  {
   "cell_type": "code",
   "execution_count": 74,
   "metadata": {
    "scrolled": false
   },
   "outputs": [
    {
     "name": "stdout",
     "output_type": "stream",
     "text": [
      "\n",
      "\n",
      "Me encuentro trabajando en el elmento 0 de 10 totales\n",
      "Elemento:\n",
      "[1 0 1 0 0 1 0 1 1 1 1 0 0 1 0 1 0 0 1 0 0 0 1 0 1 0 1 2 0 0 1 1 0 0 1 0 1\n",
      " 1 0 1]\n",
      "Tiene una probabilidad de error de: 0.239364769552\n",
      "Para el elemento 0 se mutan un total máximo de M=10.0 dimensiones\n",
      "Cantidad de dimensiones a mutar específicas para ese elemento: 5\n",
      "El elemento mejor es: \n",
      "[1 0 0 0 0 1 0 1 1 1 1 0 0 1 0 1 0 0 1 0 0 0 1 0 1 0 1 1 0 0 1 1 0 0 1 0 1\n",
      " 1 0 1]\n",
      "El elemento a evaluar es: \n",
      "[1 0 1 0 0 1 0 1 1 1 1 0 0 1 0 1 0 0 1 0 0 0 1 0 1 0 1 2 0 0 1 1 0 0 1 0 1\n",
      " 1 0 1]\n",
      "Los indices que son diferentes son [ 2 27]\n",
      "Entre al primer if\n",
      "indice_elemento: 0 diferentes temp indices [2, 27] dimensinoes utilizadas: 0\n",
      "Entre al primer while\n",
      "Diferentes temp cantidad 2\n",
      "indice_elemento: 0 diferentes temp indices [2, 27] dimensinoes utilizadas: 0\n",
      "Se muto la dimension: 2\n",
      "El elemento de la poblacion %s mutado es: \n",
      "[1 0 0 0 0 1 0 1 1 1 1 0 0 1 0 1 0 0 1 0 0 0 1 0 1 0 1 2 0 0 1 1 0 0 1 0 1\n",
      " 1 0 1]\n",
      "Entre al primer while\n",
      "Diferentes temp cantidad 2\n",
      "indice_elemento: 0 diferentes temp indices [2, 27] dimensinoes utilizadas: 1\n",
      "Se muto la dimension: 27\n",
      "El elemento de la poblacion %s mutado es: \n",
      "[1 0 0 0 0 1 0 1 1 1 1 0 0 1 0 1 0 0 1 0 0 0 1 0 1 0 1 0 0 0 1 1 0 0 1 0 1\n",
      " 1 0 1]\n",
      "\n",
      "\n",
      "Me encuentro trabajando en el elmento 1 de 10 totales\n",
      "Elemento:\n",
      "[1 0 0 0 0 1 0 1 1 1 1 0 0 1 0 1 0 0 1 0 0 0 1 0 1 0 1 1 0 0 1 1 0 0 1 0 1\n",
      " 1 0 1]\n",
      "Tiene una probabilidad de error de: 0.252850108681\n",
      "Para el elemento 1 se mutan un total máximo de M=10.0 dimensiones\n",
      "Cantidad de dimensiones a mutar específicas para ese elemento: 5\n",
      "El elemento mejor es: \n",
      "[1 0 0 0 0 1 0 1 1 1 1 0 0 1 0 1 0 0 1 0 0 0 1 0 1 0 1 1 0 0 1 1 0 0 1 0 1\n",
      " 1 0 1]\n",
      "El elemento a evaluar es: \n",
      "[1 0 0 0 0 1 0 1 1 1 1 0 0 1 0 1 0 0 1 0 0 0 1 0 1 0 1 1 0 0 1 1 0 0 1 0 1\n",
      " 1 0 1]\n",
      "Los indices que son diferentes son []\n",
      "\n",
      "\n",
      "Me encuentro trabajando en el elmento 2 de 10 totales\n",
      "Elemento:\n",
      "[1 0 0 0 0 1 0 1 1 1 1 0 0 1 0 1 0 0 1 0 0 0 1 0 1 0 1 1 0 0 1 1 0 0 1 0 1\n",
      " 1 0 1]\n",
      "Tiene una probabilidad de error de: 0.268287273211\n",
      "Para el elemento 2 se mutan un total máximo de M=11.0 dimensiones\n",
      "Cantidad de dimensiones a mutar específicas para ese elemento: 6\n",
      "El elemento mejor es: \n",
      "[1 0 0 0 0 1 0 1 1 1 1 0 0 1 0 1 0 0 1 0 0 0 1 0 1 0 1 1 0 0 1 1 0 0 1 0 1\n",
      " 1 0 1]\n",
      "El elemento a evaluar es: \n",
      "[1 0 0 0 0 1 0 1 1 1 1 0 0 1 0 1 0 0 1 0 0 0 1 0 1 0 1 1 0 0 1 1 0 0 1 0 1\n",
      " 1 0 1]\n",
      "Los indices que son diferentes son []\n",
      "\n",
      "\n",
      "Me encuentro trabajando en el elmento 3 de 10 totales\n",
      "Elemento:\n",
      "[1 0 0 0 0 1 0 1 1 1 1 0 0 1 0 1 0 0 1 0 0 0 1 0 1 0 1 1 0 0 1 1 0 0 1 0 1\n",
      " 1 0 1]\n",
      "Tiene una probabilidad de error de: 0.276050215144\n",
      "Para el elemento 3 se mutan un total máximo de M=11.0 dimensiones\n",
      "Cantidad de dimensiones a mutar específicas para ese elemento: 6\n",
      "El elemento mejor es: \n",
      "[1 0 0 0 0 1 0 1 1 1 1 0 0 1 0 1 0 0 1 0 0 0 1 0 1 0 1 1 0 0 1 1 0 0 1 0 1\n",
      " 1 0 1]\n",
      "El elemento a evaluar es: \n",
      "[1 0 0 0 0 1 0 1 1 1 1 0 0 1 0 1 0 0 1 0 0 0 1 0 1 0 1 1 0 0 1 1 0 0 1 0 1\n",
      " 1 0 1]\n",
      "Los indices que son diferentes son []\n",
      "\n",
      "\n",
      "Me encuentro trabajando en el elmento 4 de 10 totales\n",
      "Elemento:\n",
      "[1 0 0 0 0 1 0 1 1 1 1 0 0 1 0 1 0 0 1 0 0 0 1 0 1 0 1 1 0 0 1 1 0 0 1 0 1\n",
      " 1 0 1]\n",
      "Tiene una probabilidad de error de: 0.267799316861\n",
      "Para el elemento 4 se mutan un total máximo de M=11.0 dimensiones\n",
      "Cantidad de dimensiones a mutar específicas para ese elemento: 6\n",
      "El elemento mejor es: \n",
      "[1 0 0 0 0 1 0 1 1 1 1 0 0 1 0 1 0 0 1 0 0 0 1 0 1 0 1 1 0 0 1 1 0 0 1 0 1\n",
      " 1 0 1]\n",
      "El elemento a evaluar es: \n",
      "[1 0 0 0 0 1 0 1 1 1 1 0 0 1 0 1 0 0 1 0 0 0 1 0 1 0 1 1 0 0 1 1 0 0 1 0 1\n",
      " 1 0 1]\n",
      "Los indices que son diferentes son []\n",
      "\n",
      "\n",
      "Me encuentro trabajando en el elmento 5 de 10 totales\n",
      "Elemento:\n",
      "[1 0 0 0 0 1 0 1 1 1 1 0 0 1 0 1 0 0 1 0 0 0 1 0 1 0 1 1 0 0 1 1 0 0 1 0 1\n",
      " 1 0 1]\n",
      "Tiene una probabilidad de error de: 0.256709399814\n",
      "Para el elemento 5 se mutan un total máximo de M=10.0 dimensiones\n",
      "Cantidad de dimensiones a mutar específicas para ese elemento: 5\n",
      "El elemento mejor es: \n",
      "[1 0 0 0 0 1 0 1 1 1 1 0 0 1 0 1 0 0 1 0 0 0 1 0 1 0 1 1 0 0 1 1 0 0 1 0 1\n",
      " 1 0 1]\n",
      "El elemento a evaluar es: \n",
      "[1 0 0 0 0 1 0 1 1 1 1 0 0 1 0 1 0 0 1 0 0 0 1 0 1 0 1 1 0 0 1 1 0 0 1 0 1\n",
      " 1 0 1]\n",
      "Los indices que son diferentes son []\n",
      "\n",
      "\n",
      "Me encuentro trabajando en el elmento 6 de 10 totales\n",
      "Elemento:\n",
      "[1 0 0 0 0 1 0 1 1 1 1 0 0 1 0 1 0 0 1 0 0 0 1 0 1 0 1 1 0 0 1 1 0 0 1 0 1\n",
      " 1 0 1]\n",
      "Tiene una probabilidad de error de: 0.235283680078\n",
      "Para el elemento 6 se mutan un total máximo de M=9.0 dimensiones\n",
      "Cantidad de dimensiones a mutar específicas para ese elemento: 5\n",
      "El elemento mejor es: \n",
      "[1 0 0 0 0 1 0 1 1 1 1 0 0 1 0 1 0 0 1 0 0 0 1 0 1 0 1 1 0 0 1 1 0 0 1 0 1\n",
      " 1 0 1]\n",
      "El elemento a evaluar es: \n",
      "[1 0 0 0 0 1 0 1 1 1 1 0 0 1 0 1 0 0 1 0 0 0 1 0 1 0 1 1 0 0 1 1 0 0 1 0 1\n",
      " 1 0 1]\n",
      "Los indices que son diferentes son []\n",
      "\n",
      "\n",
      "Me encuentro trabajando en el elmento 7 de 10 totales\n",
      "Elemento:\n",
      "[1 0 0 0 0 1 0 1 1 1 1 0 0 1 0 1 0 0 1 0 0 0 1 0 1 0 1 1 0 0 1 1 0 0 1 0 1\n",
      " 1 0 1]\n",
      "Tiene una probabilidad de error de: 0.246107439116\n",
      "Para el elemento 7 se mutan un total máximo de M=10.0 dimensiones\n",
      "Cantidad de dimensiones a mutar específicas para ese elemento: 5\n",
      "El elemento mejor es: \n",
      "[1 0 0 0 0 1 0 1 1 1 1 0 0 1 0 1 0 0 1 0 0 0 1 0 1 0 1 1 0 0 1 1 0 0 1 0 1\n",
      " 1 0 1]\n",
      "El elemento a evaluar es: \n",
      "[1 0 0 0 0 1 0 1 1 1 1 0 0 1 0 1 0 0 1 0 0 0 1 0 1 0 1 1 0 0 1 1 0 0 1 0 1\n",
      " 1 0 1]\n",
      "Los indices que son diferentes son []\n",
      "\n",
      "\n",
      "Me encuentro trabajando en el elmento 8 de 10 totales\n",
      "Elemento:\n",
      "[1 0 0 0 0 1 0 1 1 1 1 0 0 1 0 1 0 0 1 0 0 0 1 0 1 0 1 1 0 0 1 1 0 0 1 0 1\n",
      " 1 0 1]\n",
      "Tiene una probabilidad de error de: 0.24699463248\n",
      "Para el elemento 8 se mutan un total máximo de M=10.0 dimensiones\n",
      "Cantidad de dimensiones a mutar específicas para ese elemento: 5\n",
      "El elemento mejor es: \n",
      "[1 0 0 0 0 1 0 1 1 1 1 0 0 1 0 1 0 0 1 0 0 0 1 0 1 0 1 1 0 0 1 1 0 0 1 0 1\n",
      " 1 0 1]\n",
      "El elemento a evaluar es: \n",
      "[1 0 0 0 0 1 0 1 1 1 1 0 0 1 0 1 0 0 1 0 0 0 1 0 1 0 1 1 0 0 1 1 0 0 1 0 1\n",
      " 1 0 1]\n",
      "Los indices que son diferentes son []\n",
      "\n",
      "\n",
      "Me encuentro trabajando en el elmento 9 de 10 totales\n",
      "Elemento:\n",
      "[1 0 0 0 0 1 0 1 1 1 1 0 0 1 0 1 0 0 1 0 0 0 1 0 1 0 1 1 0 0 1 1 0 0 1 0 1\n",
      " 1 0 1]\n",
      "Tiene una probabilidad de error de: 0.237812181165\n",
      "Para el elemento 9 se mutan un total máximo de M=10.0 dimensiones\n",
      "Cantidad de dimensiones a mutar específicas para ese elemento: 5\n",
      "El elemento mejor es: \n",
      "[1 0 0 0 0 1 0 1 1 1 1 0 0 1 0 1 0 0 1 0 0 0 1 0 1 0 1 1 0 0 1 1 0 0 1 0 1\n",
      " 1 0 1]\n",
      "El elemento a evaluar es: \n",
      "[1 0 0 0 0 1 0 1 1 1 1 0 0 1 0 1 0 0 1 0 0 0 1 0 1 0 1 1 0 0 1 1 0 0 1 0 1\n",
      " 1 0 1]\n",
      "Los indices que son diferentes son []\n"
     ]
    }
   ],
   "source": [
    "i_actual=100\n",
    "i_max=300\n",
    "#A[0,:]=[1, 0, 1, 1, 0, 1, 0, 1, 1, 0, 1, 1, 1, 1, 1, 0, 0, 1, 0, 0, 0, 1, 1,\n",
    "#       1, 0, 0, 0, 0, 0, 0, 1, 1, 1, 1, 0, 1, 0, 1, 0, 0]\n",
    "A[0,:]=[1, 0, 1, 0, 0, 1, 0, 1, 1, 1, 1, 0, 0, 1, 0, 1, 0, 0, 1, 0, 0, 0, 1,\n",
    "       0, 1, 0, 1, 2, 0, 0, 1, 1, 0, 0, 1, 0, 1, 1, 0, 1]\n",
    "\n",
    "\n",
    "fase_liquida(A,mejor_elemento,M_E_A)"
   ]
  },
  {
   "cell_type": "code",
   "execution_count": 63,
   "metadata": {},
   "outputs": [
    {
     "data": {
      "text/plain": [
       "(7,)"
      ]
     },
     "execution_count": 63,
     "metadata": {},
     "output_type": "execute_result"
    }
   ],
   "source": [
    "f=np.array([22, 23, 26, 27, 31, 32, 33])\n",
    "f.shape"
   ]
  },
  {
   "cell_type": "code",
   "execution_count": 163,
   "metadata": {
    "scrolled": true
   },
   "outputs": [
    {
     "name": "stdout",
     "output_type": "stream",
     "text": [
      "[ 1  3  5  7  9 12 15 17 20 21 22 23 26 27 31 32 33]\n",
      "[26, 31, 32, 33]\n"
     ]
    }
   ],
   "source": [
    "posicion_temp=4\n",
    "diferentes_temp_indices=np.array([ 1,  3 , 5 , 7 , 9 ,12 ,15 ,17, 20, 21, 22, 23, 26 ,27, 31, 32, 33])\n",
    "print(diferentes_temp_indices)\n",
    "#diferentes_temp_indices=sorted(random.sample(list(diferentes_temp_indices),(posicion_temp)))\n",
    "\n",
    "\n",
    "#where regresa una tupla\n",
    "a=np.where((A[0]==mejor_pob_contraria)==False)\n",
    "#para trabajar sin dificultades se convierte a una lista plana\n",
    "a=np.concatenate(a).ravel().tolist()\n",
    "\n",
    "\n",
    "diferentes_temp_indices=sorted(random.sample(a,(4)))\n",
    "#np.concatenate(input_list).ravel().tolist()\n",
    "print(diferentes_temp_indices)"
   ]
  },
  {
   "cell_type": "code",
   "execution_count": 209,
   "metadata": {},
   "outputs": [
    {
     "data": {
      "text/plain": [
       "[22, 27, 31, 32]"
      ]
     },
     "execution_count": 209,
     "metadata": {},
     "output_type": "execute_result"
    }
   ],
   "source": [
    "a=np.array([22, 23, 26, 27, 31, 32, 33])\n",
    "a=list(a)\n",
    "diferentes_temp_indices=sorted(random.sample(a,4))\n",
    "diferentes_temp_indices"
   ]
  },
  {
   "cell_type": "code",
   "execution_count": null,
   "metadata": {
    "collapsed": true
   },
   "outputs": [],
   "source": []
  },
  {
   "cell_type": "code",
   "execution_count": null,
   "metadata": {
    "collapsed": true
   },
   "outputs": [],
   "source": []
  },
  {
   "cell_type": "code",
   "execution_count": null,
   "metadata": {
    "collapsed": true
   },
   "outputs": [],
   "source": []
  },
  {
   "cell_type": "code",
   "execution_count": null,
   "metadata": {
    "collapsed": true
   },
   "outputs": [],
   "source": []
  },
  {
   "cell_type": "code",
   "execution_count": null,
   "metadata": {
    "collapsed": true
   },
   "outputs": [],
   "source": []
  },
  {
   "cell_type": "code",
   "execution_count": 166,
   "metadata": {},
   "outputs": [
    {
     "data": {
      "text/plain": [
       "22"
      ]
     },
     "execution_count": 166,
     "metadata": {},
     "output_type": "execute_result"
    }
   ],
   "source": [
    "a[0]"
   ]
  },
  {
   "cell_type": "code",
   "execution_count": 102,
   "metadata": {
    "collapsed": true
   },
   "outputs": [],
   "source": [
    "#comprobando que regresa where"
   ]
  },
  {
   "cell_type": "code",
   "execution_count": 103,
   "metadata": {
    "collapsed": true
   },
   "outputs": [],
   "source": [
    "mejor_pob_contraria=mejor_elemento"
   ]
  },
  {
   "cell_type": "code",
   "execution_count": 115,
   "metadata": {},
   "outputs": [
    {
     "name": "stdout",
     "output_type": "stream",
     "text": [
      "<class 'tuple'>\n",
      "<class 'list'>\n",
      "[array([22, 23, 26, 27, 31, 32, 33])]\n"
     ]
    }
   ],
   "source": [
    "\n",
    "print(type(np.where((A[0]==mejor_pob_contraria)==False)))\n",
    "a=list(np.where((A[0]==mejor_pob_contraria)==False))\n",
    "b=np.array(np.where((A[0]==mejor_pob_contraria)==False))\n",
    "\n",
    "print(type(a))\n",
    "print(a)"
   ]
  },
  {
   "cell_type": "code",
   "execution_count": 116,
   "metadata": {},
   "outputs": [
    {
     "data": {
      "text/plain": [
       "[[22, 23, 26, 27, 31, 32, 33]]"
      ]
     },
     "execution_count": 116,
     "metadata": {},
     "output_type": "execute_result"
    }
   ],
   "source": [
    "b.tolist()"
   ]
  },
  {
   "cell_type": "code",
   "execution_count": 117,
   "metadata": {},
   "outputs": [
    {
     "data": {
      "text/plain": [
       "[array([22, 23, 26, 27, 31, 32, 33])]"
      ]
     },
     "execution_count": 117,
     "metadata": {},
     "output_type": "execute_result"
    }
   ],
   "source": [
    "a"
   ]
  },
  {
   "cell_type": "code",
   "execution_count": 118,
   "metadata": {},
   "outputs": [
    {
     "data": {
      "text/plain": [
       "array([22, 23, 26, 27, 31, 32, 33])"
      ]
     },
     "execution_count": 118,
     "metadata": {},
     "output_type": "execute_result"
    }
   ],
   "source": [
    "b[0]"
   ]
  },
  {
   "cell_type": "code",
   "execution_count": 55,
   "metadata": {
    "collapsed": true
   },
   "outputs": [],
   "source": [
    "posicion_temp=4"
   ]
  },
  {
   "cell_type": "code",
   "execution_count": 65,
   "metadata": {},
   "outputs": [
    {
     "data": {
      "text/plain": [
       "[3, 22, 31, 33]"
      ]
     },
     "execution_count": 65,
     "metadata": {},
     "output_type": "execute_result"
    }
   ],
   "source": [
    "diferentes_temp_indices"
   ]
  },
  {
   "cell_type": "code",
   "execution_count": null,
   "metadata": {
    "collapsed": true
   },
   "outputs": [],
   "source": []
  },
  {
   "cell_type": "code",
   "execution_count": null,
   "metadata": {
    "collapsed": true
   },
   "outputs": [],
   "source": []
  },
  {
   "cell_type": "code",
   "execution_count": 36,
   "metadata": {
    "scrolled": false
   },
   "outputs": [
    {
     "name": "stdout",
     "output_type": "stream",
     "text": [
      "\n",
      "\n",
      "Me encuentro trabajando en el elmento 0 de 10 totales\n",
      "Elemento:\n",
      "[1 1 1 0 1 1 0 1 0 0 1 1 1 0 1 0 1 0 1 0 1 0 1 0 1 0 1 1 0 0 0 0 0 1 0 1 1\n",
      " 0 0 1]\n",
      "Tiene una probabilidad de error de: 0.209377633855\n",
      "Para el elemento 0 se mutan un total máximo de M=8.0 dimensiones\n",
      "Cantidad de dimensiones a mutar específicas para ese elmento: 4.0\n",
      "El elemento mejor es: \n",
      "[1 0 1 1 1 0 0 0 0 1 1 1 0 0 1 1 1 1 1 0 0 1 0 1 1 0 0 0 0 0 0 1 1 0 0 1 1\n",
      " 0 0 1]\n",
      "El elemento a evaluar es: \n",
      "[1 1 1 0 1 1 0 1 0 0 1 1 1 0 1 0 1 0 1 0 1 0 1 0 1 0 1 1 0 0 0 0 0 1 0 1 1\n",
      " 0 0 1]\n",
      "Los indices que son diferentes son 17\n",
      "[[ 1  3  5  7  9 12 15 17 20 21 22 23 26 27 31 32 33]]\n",
      "Entre al primer while\n",
      "Se muto la dimension: 1\n",
      "El elemento de la poblacion %s mutado es: \n",
      "[1 0 1 0 1 1 0 1 0 0 1 1 1 0 1 0 1 0 1 0 1 0 1 0 1 0 1 1 0 0 0 0 0 1 0 1 1\n",
      " 0 0 1]\n",
      "Entre al primer while\n",
      "Se muto la dimension: 3\n",
      "El elemento de la poblacion %s mutado es: \n",
      "[1 0 1 1 1 1 0 1 0 0 1 1 1 0 1 0 1 0 1 0 1 0 1 0 1 0 1 1 0 0 0 0 0 1 0 1 1\n",
      " 0 0 1]\n",
      "Entre al primer while\n",
      "Se muto la dimension: 5\n",
      "El elemento de la poblacion %s mutado es: \n",
      "[1 0 1 1 1 0 0 1 0 0 1 1 1 0 1 0 1 0 1 0 1 0 1 0 1 0 1 1 0 0 0 0 0 1 0 1 1\n",
      " 0 0 1]\n",
      "Entre al primer while\n",
      "Se muto la dimension: 7\n",
      "El elemento de la poblacion %s mutado es: \n",
      "[1 0 1 1 1 0 0 0 0 0 1 1 1 0 1 0 1 0 1 0 1 0 1 0 1 0 1 1 0 0 0 0 0 1 0 1 1\n",
      " 0 0 1]\n",
      "Entre al primer while\n",
      "Se muto la dimension: 9\n",
      "El elemento de la poblacion %s mutado es: \n",
      "[1 0 1 1 1 0 0 0 0 1 1 1 1 0 1 0 1 0 1 0 1 0 1 0 1 0 1 1 0 0 0 0 0 1 0 1 1\n",
      " 0 0 1]\n",
      "\n",
      "\n",
      "Me encuentro trabajando en el elmento 1 de 10 totales\n",
      "Elemento:\n",
      "[0 0 1 1 1 1 0 0 1 1 0 0 1 0 0 0 1 0 1 1 1 0 1 1 0 0 1 1 0 1 1 0 1 1 0 1 0\n",
      " 1 1 0]\n",
      "Tiene una probabilidad de error de: 0.251075721954\n",
      "Para el elemento 1 se mutan un total máximo de M=10.0 dimensiones\n",
      "Cantidad de dimensiones a mutar específicas para ese elmento: 5.0\n",
      "El elemento mejor es: \n",
      "[1 0 1 1 1 0 0 0 0 1 1 1 0 0 1 1 1 1 1 0 0 1 0 1 1 0 0 0 0 0 0 1 1 0 0 1 1\n",
      " 0 0 1]\n",
      "El elemento a evaluar es: \n",
      "[0 0 1 1 1 1 0 0 1 1 0 0 1 0 0 0 1 0 1 1 1 0 1 1 0 0 1 1 0 1 1 0 1 1 0 1 0\n",
      " 1 1 0]\n",
      "Los indices que son diferentes son 24\n",
      "[[ 0  5  8 10 11 12 14 15 17 19 20 21 22 24 26 27 29 30 31 33 36 37 38 39]]\n",
      "Entre al primer while\n",
      "Se muto la dimension: 0\n",
      "El elemento de la poblacion %s mutado es: \n",
      "[1 0 1 1 1 1 0 0 1 1 0 0 1 0 0 0 1 0 1 1 1 0 1 1 0 0 1 1 0 1 1 0 1 1 0 1 0\n",
      " 1 1 0]\n",
      "Entre al primer while\n",
      "Se muto la dimension: 5\n",
      "El elemento de la poblacion %s mutado es: \n",
      "[1 0 1 1 1 0 0 0 1 1 0 0 1 0 0 0 1 0 1 1 1 0 1 1 0 0 1 1 0 1 1 0 1 1 0 1 0\n",
      " 1 1 0]\n",
      "Entre al primer while\n",
      "Se muto la dimension: 8\n",
      "El elemento de la poblacion %s mutado es: \n",
      "[1 0 1 1 1 0 0 0 0 1 0 0 1 0 0 0 1 0 1 1 1 0 1 1 0 0 1 1 0 1 1 0 1 1 0 1 0\n",
      " 1 1 0]\n",
      "Entre al primer while\n",
      "Se muto la dimension: 10\n",
      "El elemento de la poblacion %s mutado es: \n",
      "[1 0 1 1 1 0 0 0 0 1 1 0 1 0 0 0 1 0 1 1 1 0 1 1 0 0 1 1 0 1 1 0 1 1 0 1 0\n",
      " 1 1 0]\n",
      "Entre al primer while\n",
      "Se muto la dimension: 11\n",
      "El elemento de la poblacion %s mutado es: \n",
      "[1 0 1 1 1 0 0 0 0 1 1 1 1 0 0 0 1 0 1 1 1 0 1 1 0 0 1 1 0 1 1 0 1 1 0 1 0\n",
      " 1 1 0]\n",
      "Entre al primer while\n",
      "Se muto la dimension: 12\n",
      "El elemento de la poblacion %s mutado es: \n",
      "[1 0 1 1 1 0 0 0 0 1 1 1 0 0 0 0 1 0 1 1 1 0 1 1 0 0 1 1 0 1 1 0 1 1 0 1 0\n",
      " 1 1 0]\n",
      "\n",
      "\n",
      "Me encuentro trabajando en el elmento 2 de 10 totales\n",
      "Elemento:\n",
      "[1 0 1 0 1 1 0 0 0 1 0 1 1 1 0 1 1 1 0 1 0 0 0 1 0 0 0 1 0 1 1 1 0 0 0 1 0\n",
      " 0 0 0]\n",
      "Tiene una probabilidad de error de: 0.241050436943\n",
      "Para el elemento 2 se mutan un total máximo de M=10.0 dimensiones\n",
      "Cantidad de dimensiones a mutar específicas para ese elmento: 5.0\n",
      "El elemento mejor es: \n",
      "[1 0 1 1 1 0 0 0 0 1 1 1 0 0 1 1 1 1 1 0 0 1 0 1 1 0 0 0 0 0 0 1 1 0 0 1 1\n",
      " 0 0 1]\n",
      "El elemento a evaluar es: \n",
      "[1 0 1 0 1 1 0 0 0 1 0 1 1 1 0 1 1 1 0 1 0 0 0 1 0 0 0 1 0 1 1 1 0 0 0 1 0\n",
      " 0 0 0]\n",
      "Los indices que son diferentes son 16\n",
      "[[ 3  5 10 12 13 14 18 19 21 24 27 29 30 32 36 39]]\n",
      "Entre al primer while\n",
      "Se muto la dimension: 3\n",
      "El elemento de la poblacion %s mutado es: \n",
      "[1 0 1 1 1 1 0 0 0 1 0 1 1 1 0 1 1 1 0 1 0 0 0 1 0 0 0 1 0 1 1 1 0 0 0 1 0\n",
      " 0 0 0]\n",
      "Entre al primer while\n",
      "Se muto la dimension: 5\n",
      "El elemento de la poblacion %s mutado es: \n",
      "[1 0 1 1 1 0 0 0 0 1 0 1 1 1 0 1 1 1 0 1 0 0 0 1 0 0 0 1 0 1 1 1 0 0 0 1 0\n",
      " 0 0 0]\n",
      "Entre al primer while\n",
      "Se muto la dimension: 10\n",
      "El elemento de la poblacion %s mutado es: \n",
      "[1 0 1 1 1 0 0 0 0 1 1 1 1 1 0 1 1 1 0 1 0 0 0 1 0 0 0 1 0 1 1 1 0 0 0 1 0\n",
      " 0 0 0]\n",
      "Entre al primer while\n",
      "Se muto la dimension: 12\n",
      "El elemento de la poblacion %s mutado es: \n",
      "[1 0 1 1 1 0 0 0 0 1 1 1 0 1 0 1 1 1 0 1 0 0 0 1 0 0 0 1 0 1 1 1 0 0 0 1 0\n",
      " 0 0 0]\n",
      "Entre al primer while\n",
      "Se muto la dimension: 13\n",
      "El elemento de la poblacion %s mutado es: \n",
      "[1 0 1 1 1 0 0 0 0 1 1 1 0 0 0 1 1 1 0 1 0 0 0 1 0 0 0 1 0 1 1 1 0 0 0 1 0\n",
      " 0 0 0]\n",
      "Entre al primer while\n",
      "Se muto la dimension: 14\n",
      "El elemento de la poblacion %s mutado es: \n",
      "[1 0 1 1 1 0 0 0 0 1 1 1 0 0 1 1 1 1 0 1 0 0 0 1 0 0 0 1 0 1 1 1 0 0 0 1 0\n",
      " 0 0 0]\n",
      "\n",
      "\n",
      "Me encuentro trabajando en el elmento 3 de 10 totales\n",
      "Elemento:\n",
      "[0 1 1 1 1 0 1 1 0 1 0 1 1 0 1 1 1 0 1 1 0 1 1 1 1 0 0 1 1 0 1 0 0 1 1 1 0\n",
      " 1 1 1]\n",
      "Tiene una probabilidad de error de: 0.239231690547\n",
      "Para el elemento 3 se mutan un total máximo de M=10.0 dimensiones\n",
      "Cantidad de dimensiones a mutar específicas para ese elmento: 5.0\n",
      "El elemento mejor es: \n",
      "[1 0 1 1 1 0 0 0 0 1 1 1 0 0 1 1 1 1 1 0 0 1 0 1 1 0 0 0 0 0 0 1 1 0 0 1 1\n",
      " 0 0 1]\n",
      "El elemento a evaluar es: \n",
      "[0 1 1 1 1 0 1 1 0 1 0 1 1 0 1 1 1 0 1 1 0 1 1 1 1 0 0 1 1 0 1 0 0 1 1 1 0\n",
      " 1 1 1]\n",
      "Los indices que son diferentes son 19\n",
      "[[ 0  1  6  7 10 12 17 19 22 27 28 30 31 32 33 34 36 37 38]]\n",
      "Entre al primer while\n",
      "Se muto la dimension: 0\n",
      "El elemento de la poblacion %s mutado es: \n",
      "[1 1 1 1 1 0 1 1 0 1 0 1 1 0 1 1 1 0 1 1 0 1 1 1 1 0 0 1 1 0 1 0 0 1 1 1 0\n",
      " 1 1 1]\n",
      "Entre al primer while\n",
      "Se muto la dimension: 1\n",
      "El elemento de la poblacion %s mutado es: \n",
      "[1 0 1 1 1 0 1 1 0 1 0 1 1 0 1 1 1 0 1 1 0 1 1 1 1 0 0 1 1 0 1 0 0 1 1 1 0\n",
      " 1 1 1]\n",
      "Entre al primer while\n",
      "Se muto la dimension: 6\n",
      "El elemento de la poblacion %s mutado es: \n",
      "[1 0 1 1 1 0 0 1 0 1 0 1 1 0 1 1 1 0 1 1 0 1 1 1 1 0 0 1 1 0 1 0 0 1 1 1 0\n",
      " 1 1 1]\n",
      "Entre al primer while\n",
      "Se muto la dimension: 7\n",
      "El elemento de la poblacion %s mutado es: \n",
      "[1 0 1 1 1 0 0 0 0 1 0 1 1 0 1 1 1 0 1 1 0 1 1 1 1 0 0 1 1 0 1 0 0 1 1 1 0\n",
      " 1 1 1]\n",
      "Entre al primer while\n",
      "Se muto la dimension: 10\n",
      "El elemento de la poblacion %s mutado es: \n",
      "[1 0 1 1 1 0 0 0 0 1 1 1 1 0 1 1 1 0 1 1 0 1 1 1 1 0 0 1 1 0 1 0 0 1 1 1 0\n",
      " 1 1 1]\n",
      "Entre al primer while\n",
      "Se muto la dimension: 12\n",
      "El elemento de la poblacion %s mutado es: \n",
      "[1 0 1 1 1 0 0 0 0 1 1 1 0 0 1 1 1 0 1 1 0 1 1 1 1 0 0 1 1 0 1 0 0 1 1 1 0\n",
      " 1 1 1]\n",
      "\n",
      "\n",
      "Me encuentro trabajando en el elmento 4 de 10 totales\n",
      "Elemento:\n",
      "[1 0 0 0 1 0 1 1 1 1 0 1 0 0 0 1 1 0 1 0 0 1 0 1 1 0 0 1 1 0 1 0 0 1 1 0 1\n",
      " 1 1 0]\n",
      "Tiene una probabilidad de error de: 0.253160626359\n",
      "Para el elemento 4 se mutan un total máximo de M=10.0 dimensiones\n",
      "Cantidad de dimensiones a mutar específicas para ese elmento: 5.0\n",
      "El elemento mejor es: \n",
      "[1 0 1 1 1 0 0 0 0 1 1 1 0 0 1 1 1 1 1 0 0 1 0 1 1 0 0 0 0 0 0 1 1 0 0 1 1\n",
      " 0 0 1]\n",
      "El elemento a evaluar es: \n",
      "[1 0 0 0 1 0 1 1 1 1 0 1 0 0 0 1 1 0 1 0 0 1 0 1 1 0 0 1 1 0 1 0 0 1 1 0 1\n",
      " 1 1 0]\n",
      "Los indices que son diferentes son 19\n",
      "[[ 2  3  6  7  8 10 14 17 27 28 30 31 32 33 34 35 37 38 39]]\n",
      "Entre al primer while\n",
      "Se muto la dimension: 2\n",
      "El elemento de la poblacion %s mutado es: \n",
      "[1 0 1 0 1 0 1 1 1 1 0 1 0 0 0 1 1 0 1 0 0 1 0 1 1 0 0 1 1 0 1 0 0 1 1 0 1\n",
      " 1 1 0]\n",
      "Entre al primer while\n",
      "Se muto la dimension: 3\n",
      "El elemento de la poblacion %s mutado es: \n",
      "[1 0 1 1 1 0 1 1 1 1 0 1 0 0 0 1 1 0 1 0 0 1 0 1 1 0 0 1 1 0 1 0 0 1 1 0 1\n",
      " 1 1 0]\n",
      "Entre al primer while\n",
      "Se muto la dimension: 6\n",
      "El elemento de la poblacion %s mutado es: \n",
      "[1 0 1 1 1 0 0 1 1 1 0 1 0 0 0 1 1 0 1 0 0 1 0 1 1 0 0 1 1 0 1 0 0 1 1 0 1\n",
      " 1 1 0]\n",
      "Entre al primer while\n",
      "Se muto la dimension: 7\n",
      "El elemento de la poblacion %s mutado es: \n",
      "[1 0 1 1 1 0 0 0 1 1 0 1 0 0 0 1 1 0 1 0 0 1 0 1 1 0 0 1 1 0 1 0 0 1 1 0 1\n",
      " 1 1 0]\n",
      "Entre al primer while\n",
      "Se muto la dimension: 8\n",
      "El elemento de la poblacion %s mutado es: \n",
      "[1 0 1 1 1 0 0 0 0 1 0 1 0 0 0 1 1 0 1 0 0 1 0 1 1 0 0 1 1 0 1 0 0 1 1 0 1\n",
      " 1 1 0]\n",
      "Entre al primer while\n",
      "Se muto la dimension: 10\n",
      "El elemento de la poblacion %s mutado es: \n",
      "[1 0 1 1 1 0 0 0 0 1 1 1 0 0 0 1 1 0 1 0 0 1 0 1 1 0 0 1 1 0 1 0 0 1 1 0 1\n",
      " 1 1 0]\n",
      "\n",
      "\n",
      "Me encuentro trabajando en el elmento 5 de 10 totales\n",
      "Elemento:\n",
      "[1 1 1 1 0 0 0 1 0 1 1 0 1 0 1 1 1 0 0 0 1 1 0 1 0 0 1 1 0 1 0 1 1 0 0 0 0\n",
      " 1 1 1]\n",
      "Tiene una probabilidad de error de: 0.239941445238\n",
      "Para el elemento 5 se mutan un total máximo de M=10.0 dimensiones\n",
      "Cantidad de dimensiones a mutar específicas para ese elmento: 5.0\n",
      "El elemento mejor es: \n",
      "[1 0 1 1 1 0 0 0 0 1 1 1 0 0 1 1 1 1 1 0 0 1 0 1 1 0 0 0 0 0 0 1 1 0 0 1 1\n",
      " 0 0 1]\n",
      "El elemento a evaluar es: \n",
      "[1 1 1 1 0 0 0 1 0 1 1 0 1 0 1 1 1 0 0 0 1 1 0 1 0 0 1 1 0 1 0 1 1 0 0 0 0\n",
      " 1 1 1]\n",
      "Los indices que son diferentes son 16\n",
      "[[ 1  4  7 11 12 17 18 20 24 26 27 29 35 36 37 38]]\n",
      "Entre al primer while\n",
      "Se muto la dimension: 1\n",
      "El elemento de la poblacion %s mutado es: \n",
      "[1 0 1 1 0 0 0 1 0 1 1 0 1 0 1 1 1 0 0 0 1 1 0 1 0 0 1 1 0 1 0 1 1 0 0 0 0\n",
      " 1 1 1]\n",
      "Entre al primer while\n",
      "Se muto la dimension: 4\n",
      "El elemento de la poblacion %s mutado es: \n",
      "[1 0 1 1 1 0 0 1 0 1 1 0 1 0 1 1 1 0 0 0 1 1 0 1 0 0 1 1 0 1 0 1 1 0 0 0 0\n",
      " 1 1 1]\n",
      "Entre al primer while\n",
      "Se muto la dimension: 7\n",
      "El elemento de la poblacion %s mutado es: \n",
      "[1 0 1 1 1 0 0 0 0 1 1 0 1 0 1 1 1 0 0 0 1 1 0 1 0 0 1 1 0 1 0 1 1 0 0 0 0\n",
      " 1 1 1]\n",
      "Entre al primer while\n",
      "Se muto la dimension: 11\n",
      "El elemento de la poblacion %s mutado es: \n",
      "[1 0 1 1 1 0 0 0 0 1 1 1 1 0 1 1 1 0 0 0 1 1 0 1 0 0 1 1 0 1 0 1 1 0 0 0 0\n",
      " 1 1 1]\n",
      "Entre al primer while\n",
      "Se muto la dimension: 12\n",
      "El elemento de la poblacion %s mutado es: \n",
      "[1 0 1 1 1 0 0 0 0 1 1 1 0 0 1 1 1 0 0 0 1 1 0 1 0 0 1 1 0 1 0 1 1 0 0 0 0\n",
      " 1 1 1]\n",
      "Entre al primer while\n",
      "Se muto la dimension: 17\n",
      "El elemento de la poblacion %s mutado es: \n",
      "[1 0 1 1 1 0 0 0 0 1 1 1 0 0 1 1 1 1 0 0 1 1 0 1 0 0 1 1 0 1 0 1 1 0 0 0 0\n",
      " 1 1 1]\n",
      "\n",
      "\n",
      "Me encuentro trabajando en el elmento 6 de 10 totales\n",
      "Elemento:\n",
      "[1 0 0 1 1 1 1 0 0 0 1 0 1 1 1 1 0 1 1 1 0 0 0 1 1 0 1 0 0 1 0 1 1 1 1 1 1\n",
      " 1 1 0]\n",
      "Tiene una probabilidad de error de: 0.266645965488\n",
      "Para el elemento 6 se mutan un total máximo de M=11.0 dimensiones\n",
      "Cantidad de dimensiones a mutar específicas para ese elmento: 6.0\n",
      "El elemento mejor es: \n",
      "[1 0 1 1 1 0 0 0 0 1 1 1 0 0 1 1 1 1 1 0 0 1 0 1 1 0 0 0 0 0 0 1 1 0 0 1 1\n",
      " 0 0 1]\n",
      "El elemento a evaluar es: \n",
      "[1 0 0 1 1 1 1 0 0 0 1 0 1 1 1 1 0 1 1 1 0 0 0 1 1 0 1 0 0 1 0 1 1 1 1 1 1\n",
      " 1 1 0]\n",
      "Los indices que son diferentes son 17\n",
      "[[ 2  5  6  9 11 12 13 16 19 21 26 29 33 34 37 38 39]]\n",
      "Entre al primer while\n",
      "Se muto la dimension: 2\n",
      "El elemento de la poblacion %s mutado es: \n",
      "[1 0 1 1 1 1 1 0 0 0 1 0 1 1 1 1 0 1 1 1 0 0 0 1 1 0 1 0 0 1 0 1 1 1 1 1 1\n",
      " 1 1 0]\n",
      "Entre al primer while\n",
      "Se muto la dimension: 5\n",
      "El elemento de la poblacion %s mutado es: \n",
      "[1 0 1 1 1 0 1 0 0 0 1 0 1 1 1 1 0 1 1 1 0 0 0 1 1 0 1 0 0 1 0 1 1 1 1 1 1\n",
      " 1 1 0]\n",
      "Entre al primer while\n",
      "Se muto la dimension: 6\n",
      "El elemento de la poblacion %s mutado es: \n",
      "[1 0 1 1 1 0 0 0 0 0 1 0 1 1 1 1 0 1 1 1 0 0 0 1 1 0 1 0 0 1 0 1 1 1 1 1 1\n",
      " 1 1 0]\n",
      "Entre al primer while\n",
      "Se muto la dimension: 9\n",
      "El elemento de la poblacion %s mutado es: \n",
      "[1 0 1 1 1 0 0 0 0 1 1 0 1 1 1 1 0 1 1 1 0 0 0 1 1 0 1 0 0 1 0 1 1 1 1 1 1\n",
      " 1 1 0]\n",
      "Entre al primer while\n",
      "Se muto la dimension: 11\n",
      "El elemento de la poblacion %s mutado es: \n",
      "[1 0 1 1 1 0 0 0 0 1 1 1 1 1 1 1 0 1 1 1 0 0 0 1 1 0 1 0 0 1 0 1 1 1 1 1 1\n",
      " 1 1 0]\n",
      "Entre al primer while\n",
      "Se muto la dimension: 12\n",
      "El elemento de la poblacion %s mutado es: \n",
      "[1 0 1 1 1 0 0 0 0 1 1 1 0 1 1 1 0 1 1 1 0 0 0 1 1 0 1 0 0 1 0 1 1 1 1 1 1\n",
      " 1 1 0]\n",
      "Entre al primer while\n",
      "Se muto la dimension: 13\n",
      "El elemento de la poblacion %s mutado es: \n",
      "[1 0 1 1 1 0 0 0 0 1 1 1 0 0 1 1 0 1 1 1 0 0 0 1 1 0 1 0 0 1 0 1 1 1 1 1 1\n",
      " 1 1 0]\n",
      "\n",
      "\n",
      "Me encuentro trabajando en el elmento 7 de 10 totales\n",
      "Elemento:\n",
      "[1 0 0 0 1 0 1 1 1 1 0 0 1 1 1 0 0 0 0 1 1 1 1 1 1 0 1 1 1 0 1 1 1 0 1 1 0\n",
      " 0 1 1]\n",
      "Tiene una probabilidad de error de: 0.241272235284\n",
      "Para el elemento 7 se mutan un total máximo de M=10.0 dimensiones\n",
      "Cantidad de dimensiones a mutar específicas para ese elmento: 5.0\n",
      "El elemento mejor es: \n",
      "[1 0 1 1 1 0 0 0 0 1 1 1 0 0 1 1 1 1 1 0 0 1 0 1 1 0 0 0 0 0 0 1 1 0 0 1 1\n",
      " 0 0 1]\n",
      "El elemento a evaluar es: \n",
      "[1 0 0 0 1 0 1 1 1 1 0 0 1 1 1 0 0 0 0 1 1 1 1 1 1 0 1 1 1 0 1 1 1 0 1 1 0\n",
      " 0 1 1]\n",
      "Los indices que son diferentes son 23\n",
      "[[ 2  3  6  7  8 10 11 12 13 15 16 17 18 19 20 22 26 27 28 30 34 36 38]]\n",
      "Entre al primer while\n",
      "Se muto la dimension: 2\n",
      "El elemento de la poblacion %s mutado es: \n",
      "[1 0 1 0 1 0 1 1 1 1 0 0 1 1 1 0 0 0 0 1 1 1 1 1 1 0 1 1 1 0 1 1 1 0 1 1 0\n",
      " 0 1 1]\n",
      "Entre al primer while\n",
      "Se muto la dimension: 3\n",
      "El elemento de la poblacion %s mutado es: \n",
      "[1 0 1 1 1 0 1 1 1 1 0 0 1 1 1 0 0 0 0 1 1 1 1 1 1 0 1 1 1 0 1 1 1 0 1 1 0\n",
      " 0 1 1]\n",
      "Entre al primer while\n",
      "Se muto la dimension: 6\n",
      "El elemento de la poblacion %s mutado es: \n",
      "[1 0 1 1 1 0 0 1 1 1 0 0 1 1 1 0 0 0 0 1 1 1 1 1 1 0 1 1 1 0 1 1 1 0 1 1 0\n",
      " 0 1 1]\n",
      "Entre al primer while\n",
      "Se muto la dimension: 7\n",
      "El elemento de la poblacion %s mutado es: \n",
      "[1 0 1 1 1 0 0 0 1 1 0 0 1 1 1 0 0 0 0 1 1 1 1 1 1 0 1 1 1 0 1 1 1 0 1 1 0\n",
      " 0 1 1]\n",
      "Entre al primer while\n",
      "Se muto la dimension: 8\n",
      "El elemento de la poblacion %s mutado es: \n",
      "[1 0 1 1 1 0 0 0 0 1 0 0 1 1 1 0 0 0 0 1 1 1 1 1 1 0 1 1 1 0 1 1 1 0 1 1 0\n",
      " 0 1 1]\n",
      "Entre al primer while\n",
      "Se muto la dimension: 10\n",
      "El elemento de la poblacion %s mutado es: \n",
      "[1 0 1 1 1 0 0 0 0 1 1 0 1 1 1 0 0 0 0 1 1 1 1 1 1 0 1 1 1 0 1 1 1 0 1 1 0\n",
      " 0 1 1]\n",
      "\n",
      "\n",
      "Me encuentro trabajando en el elmento 8 de 10 totales\n",
      "Elemento:\n",
      "[1 0 1 0 0 0 0 1 1 0 1 0 1 0 1 1 0 1 1 0 1 0 0 0 1 1 0 1 1 1 1 1 1 0 0 0 0\n",
      " 1 1 0]\n",
      "Tiene una probabilidad de error de: 0.243845096039\n",
      "Para el elemento 8 se mutan un total máximo de M=10.0 dimensiones\n",
      "Cantidad de dimensiones a mutar específicas para ese elmento: 5.0\n",
      "El elemento mejor es: \n",
      "[1 0 1 1 1 0 0 0 0 1 1 1 0 0 1 1 1 1 1 0 0 1 0 1 1 0 0 0 0 0 0 1 1 0 0 1 1\n",
      " 0 0 1]\n",
      "El elemento a evaluar es: \n",
      "[1 0 1 0 0 0 0 1 1 0 1 0 1 0 1 1 0 1 1 0 1 0 0 0 1 1 0 1 1 1 1 1 1 0 0 0 0\n",
      " 1 1 0]\n",
      "Los indices que son diferentes son 21\n",
      "[[ 3  4  7  8  9 11 12 16 20 21 23 25 27 28 29 30 35 36 37 38 39]]\n",
      "Entre al primer while\n",
      "Se muto la dimension: 3\n",
      "El elemento de la poblacion %s mutado es: \n",
      "[1 0 1 1 0 0 0 1 1 0 1 0 1 0 1 1 0 1 1 0 1 0 0 0 1 1 0 1 1 1 1 1 1 0 0 0 0\n",
      " 1 1 0]\n",
      "Entre al primer while\n",
      "Se muto la dimension: 4\n",
      "El elemento de la poblacion %s mutado es: \n",
      "[1 0 1 1 1 0 0 1 1 0 1 0 1 0 1 1 0 1 1 0 1 0 0 0 1 1 0 1 1 1 1 1 1 0 0 0 0\n",
      " 1 1 0]\n",
      "Entre al primer while\n",
      "Se muto la dimension: 7\n",
      "El elemento de la poblacion %s mutado es: \n",
      "[1 0 1 1 1 0 0 0 1 0 1 0 1 0 1 1 0 1 1 0 1 0 0 0 1 1 0 1 1 1 1 1 1 0 0 0 0\n",
      " 1 1 0]\n",
      "Entre al primer while\n",
      "Se muto la dimension: 8\n",
      "El elemento de la poblacion %s mutado es: \n",
      "[1 0 1 1 1 0 0 0 0 0 1 0 1 0 1 1 0 1 1 0 1 0 0 0 1 1 0 1 1 1 1 1 1 0 0 0 0\n",
      " 1 1 0]\n",
      "Entre al primer while\n",
      "Se muto la dimension: 9\n",
      "El elemento de la poblacion %s mutado es: \n",
      "[1 0 1 1 1 0 0 0 0 1 1 0 1 0 1 1 0 1 1 0 1 0 0 0 1 1 0 1 1 1 1 1 1 0 0 0 0\n",
      " 1 1 0]\n",
      "Entre al primer while\n",
      "Se muto la dimension: 11\n",
      "El elemento de la poblacion %s mutado es: \n",
      "[1 0 1 1 1 0 0 0 0 1 1 1 1 0 1 1 0 1 1 0 1 0 0 0 1 1 0 1 1 1 1 1 1 0 0 0 0\n",
      " 1 1 0]\n",
      "\n",
      "\n",
      "Me encuentro trabajando en el elmento 9 de 10 totales\n",
      "Elemento:\n",
      "[0 0 0 0 1 0 0 1 0 1 1 1 0 1 0 1 1 0 1 1 0 1 0 0 1 1 0 0 1 1 0 1 0 0 1 1 0\n",
      " 1 0 0]\n",
      "Tiene una probabilidad de error de: 0.238255777847\n",
      "Para el elemento 9 se mutan un total máximo de M=10.0 dimensiones\n",
      "Cantidad de dimensiones a mutar específicas para ese elmento: 5.0\n",
      "El elemento mejor es: \n",
      "[1 0 1 1 1 0 0 0 0 1 1 1 0 0 1 1 1 1 1 0 0 1 0 1 1 0 0 0 0 0 0 1 1 0 0 1 1\n",
      " 0 0 1]\n",
      "El elemento a evaluar es: \n",
      "[0 0 0 0 1 0 0 1 0 1 1 1 0 1 0 1 1 0 1 1 0 1 0 0 1 1 0 0 1 1 0 1 0 0 1 1 0\n",
      " 1 0 0]\n",
      "Los indices que son diferentes son 17\n",
      "[[ 0  2  3  7 13 14 17 19 23 25 28 29 32 34 36 37 39]]\n",
      "Entre al primer while\n",
      "Se muto la dimension: 0\n",
      "El elemento de la poblacion %s mutado es: \n",
      "[1 0 0 0 1 0 0 1 0 1 1 1 0 1 0 1 1 0 1 1 0 1 0 0 1 1 0 0 1 1 0 1 0 0 1 1 0\n",
      " 1 0 0]\n",
      "Entre al primer while\n",
      "Se muto la dimension: 2\n",
      "El elemento de la poblacion %s mutado es: \n",
      "[1 0 1 0 1 0 0 1 0 1 1 1 0 1 0 1 1 0 1 1 0 1 0 0 1 1 0 0 1 1 0 1 0 0 1 1 0\n",
      " 1 0 0]\n",
      "Entre al primer while\n",
      "Se muto la dimension: 3\n",
      "El elemento de la poblacion %s mutado es: \n",
      "[1 0 1 1 1 0 0 1 0 1 1 1 0 1 0 1 1 0 1 1 0 1 0 0 1 1 0 0 1 1 0 1 0 0 1 1 0\n",
      " 1 0 0]\n",
      "Entre al primer while\n",
      "Se muto la dimension: 7\n",
      "El elemento de la poblacion %s mutado es: \n",
      "[1 0 1 1 1 0 0 0 0 1 1 1 0 1 0 1 1 0 1 1 0 1 0 0 1 1 0 0 1 1 0 1 0 0 1 1 0\n",
      " 1 0 0]\n",
      "Entre al primer while\n",
      "Se muto la dimension: 13\n",
      "El elemento de la poblacion %s mutado es: \n",
      "[1 0 1 1 1 0 0 0 0 1 1 1 0 0 0 1 1 0 1 1 0 1 0 0 1 1 0 0 1 1 0 1 0 0 1 1 0\n",
      " 1 0 0]\n",
      "Entre al primer while\n",
      "Se muto la dimension: 14\n",
      "El elemento de la poblacion %s mutado es: \n",
      "[1 0 1 1 1 0 0 0 0 1 1 1 0 0 1 1 1 0 1 1 0 1 0 0 1 1 0 0 1 1 0 1 0 0 1 1 0\n",
      " 1 0 0]\n"
     ]
    }
   ],
   "source": [
    "i_actual=100\n",
    "i_max=300\n",
    "fase_liquida(A,mejor_elemento,M_E_A)"
   ]
  },
  {
   "cell_type": "code",
   "execution_count": null,
   "metadata": {
    "collapsed": true
   },
   "outputs": [],
   "source": []
  },
  {
   "cell_type": "code",
   "execution_count": null,
   "metadata": {
    "collapsed": true
   },
   "outputs": [],
   "source": []
  },
  {
   "cell_type": "code",
   "execution_count": null,
   "metadata": {
    "collapsed": true
   },
   "outputs": [],
   "source": []
  },
  {
   "cell_type": "code",
   "execution_count": null,
   "metadata": {
    "collapsed": true
   },
   "outputs": [],
   "source": []
  },
  {
   "cell_type": "code",
   "execution_count": null,
   "metadata": {
    "collapsed": true
   },
   "outputs": [],
   "source": []
  },
  {
   "cell_type": "code",
   "execution_count": null,
   "metadata": {
    "collapsed": true
   },
   "outputs": [],
   "source": []
  },
  {
   "cell_type": "code",
   "execution_count": null,
   "metadata": {
    "collapsed": true
   },
   "outputs": [],
   "source": []
  },
  {
   "cell_type": "code",
   "execution_count": null,
   "metadata": {
    "collapsed": true
   },
   "outputs": [],
   "source": []
  },
  {
   "cell_type": "code",
   "execution_count": null,
   "metadata": {
    "collapsed": true
   },
   "outputs": [],
   "source": []
  },
  {
   "cell_type": "code",
   "execution_count": null,
   "metadata": {
    "collapsed": true
   },
   "outputs": [],
   "source": [
    "print(diferentes_temp_indices)\n",
    "            print(dimensiones_utilizadas)\n",
    "            print(diferentes_temp_indices[0,dimensiones_utilizadas])\n",
    "            "
   ]
  },
  {
   "cell_type": "code",
   "execution_count": null,
   "metadata": {
    "collapsed": true
   },
   "outputs": [],
   "source": []
  },
  {
   "cell_type": "code",
   "execution_count": null,
   "metadata": {
    "collapsed": true
   },
   "outputs": [],
   "source": []
  },
  {
   "cell_type": "code",
   "execution_count": null,
   "metadata": {
    "collapsed": true
   },
   "outputs": [],
   "source": []
  },
  {
   "cell_type": "code",
   "execution_count": null,
   "metadata": {
    "collapsed": true
   },
   "outputs": [],
   "source": []
  },
  {
   "cell_type": "code",
   "execution_count": null,
   "metadata": {
    "collapsed": true
   },
   "outputs": [],
   "source": []
  },
  {
   "cell_type": "code",
   "execution_count": 41,
   "metadata": {},
   "outputs": [
    {
     "data": {
      "text/plain": [
       "True"
      ]
     },
     "execution_count": 41,
     "metadata": {},
     "output_type": "execute_result"
    }
   ],
   "source": [
    "diferentes_temp_indices=np.array([ 0,  1,  2,  3,  9, 10, 13, 15, 19, 20, 21, 27, 28, 30, 31, 34, 35,\n",
    "       36, 37, 38])\n",
    "A[0,diferentes_temp_indices[0]] ==0"
   ]
  },
  {
   "cell_type": "code",
   "execution_count": null,
   "metadata": {
    "collapsed": true
   },
   "outputs": [],
   "source": [
    "poblacion[indice_elemento,diferentes_temp_indices[dimensiones_utilizadas]] ==0:"
   ]
  },
  {
   "cell_type": "code",
   "execution_count": null,
   "metadata": {
    "collapsed": true
   },
   "outputs": [],
   "source": []
  },
  {
   "cell_type": "code",
   "execution_count": null,
   "metadata": {
    "collapsed": true
   },
   "outputs": [],
   "source": []
  }
 ],
 "metadata": {
  "kernelspec": {
   "display_name": "Python 3",
   "language": "python",
   "name": "python3"
  },
  "language_info": {
   "codemirror_mode": {
    "name": "ipython",
    "version": 3
   },
   "file_extension": ".py",
   "mimetype": "text/x-python",
   "name": "python",
   "nbconvert_exporter": "python",
   "pygments_lexer": "ipython3",
   "version": "3.6.1"
  }
 },
 "nbformat": 4,
 "nbformat_minor": 2
}
