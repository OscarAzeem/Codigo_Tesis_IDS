{
 "cells": [
  {
   "cell_type": "markdown",
   "metadata": {},
   "source": [
    "# Evaluacion de los algoritmos: RF, con los dataset: <br>\n",
    "### Dataset Min-Max, entrenado con Tra y convertido de esa manera Test <br>\n",
    "### Dataset Min-Max, entrenado con tra y convertido; entrenado con Test y convertido \n",
    "### Dataset NO normalizado <br>\n"
   ]
  },
  {
   "cell_type": "markdown",
   "metadata": {},
   "source": [
    ".- Tiempo <br>\n",
    ".- Score <br>\n",
    ".- Matrices de confusión <br>\n",
    ".- Classification report ( Precision, Recall, f1-score, support)<br>"
   ]
  },
  {
   "cell_type": "code",
   "execution_count": 1,
   "metadata": {
    "collapsed": true
   },
   "outputs": [],
   "source": [
    "#http://scikit-learn.org/stable/auto_examples/model_selection/plot_confusion_matrix.html#sphx-glr-auto-examples-model-selection-plot-confusion-matrix-py"
   ]
  },
  {
   "cell_type": "code",
   "execution_count": 2,
   "metadata": {
    "collapsed": true
   },
   "outputs": [],
   "source": [
    "clases_binarias=['Normal','Ataque']\n",
    "#corresponde a 'Normal=0, Ataque=1\n",
    "clases_5=['dos','normal','probe','r2l','u2r']\n",
    "#corresponde a dos=0; normal=1, probe=2\n",
    "#aunque posiblemente de error poque están definidos desde 1 en vez de 0, porque azeem"
   ]
  },
  {
   "cell_type": "code",
   "execution_count": null,
   "metadata": {
    "collapsed": true
   },
   "outputs": [],
   "source": []
  },
  {
   "cell_type": "markdown",
   "metadata": {},
   "source": [
    "## Reading the libraries"
   ]
  },
  {
   "cell_type": "code",
   "execution_count": 3,
   "metadata": {
    "collapsed": true
   },
   "outputs": [],
   "source": [
    "import itertools\n",
    "import time\n",
    "import numpy as np\n",
    "import pandas as pd\n",
    "import matplotlib.pyplot as plt\n",
    "from matplotlib import offsetbox\n",
    "from sklearn import (manifold, datasets, decomposition, ensemble,\n",
    "                     discriminant_analysis, random_projection)#Prueba evaluación y entrenamiento un solo individuo. \n",
    "#Vectores completos\n",
    "from sklearn.metrics import classification_report,confusion_matrix,accuracy_score\n",
    "#from sklearn.grid_search import GridSearchCV\n",
    "from sklearn.model_selection import GridSearchCV"
   ]
  },
  {
   "cell_type": "markdown",
   "metadata": {},
   "source": [
    "# Definicion de la matriz de confusion"
   ]
  },
  {
   "cell_type": "code",
   "execution_count": 4,
   "metadata": {
    "collapsed": true
   },
   "outputs": [],
   "source": [
    "def plot_confusion_matrix(cm, classes,\n",
    "                          normalize=False,\n",
    "                          title='Confusion matrix',\n",
    "                          cmap=plt.cm.Blues):\n",
    "    \"\"\"\n",
    "    This function prints and plots the confusion matrix.\n",
    "    Normalization can be applied by setting `normalize=True`.\n",
    "    cm= confussion matriz\n",
    "    \"\"\"\n",
    "    if normalize:\n",
    "        cm = cm.astype('float') / cm.sum(axis=1)[:, np.newaxis]\n",
    "        print(\"Matriz de Confusión normalizada\")\n",
    "    else:\n",
    "        print('Matriz de Confusión')\n",
    "\n",
    "    print(cm)\n",
    "\n",
    "    plt.imshow(cm, interpolation='nearest', cmap=cmap)\n",
    "    plt.title(title)\n",
    "    plt.colorbar()\n",
    "    tick_marks = np.arange(len(classes))\n",
    "    plt.xticks(tick_marks, classes, rotation=45)\n",
    "    plt.yticks(tick_marks, classes)\n",
    "\n",
    "    fmt = '.2f' if normalize else 'd'\n",
    "    thresh = cm.max() / 2.\n",
    "    for i, j in itertools.product(range(cm.shape[0]), range(cm.shape[1])):\n",
    "        plt.text(j, i, format(cm[i, j], fmt),\n",
    "                 horizontalalignment=\"center\",\n",
    "                 color=\"white\" if cm[i, j] > thresh else \"black\")\n",
    "\n",
    "    plt.tight_layout()\n",
    "    plt.ylabel('Etiquetas Originales')\n",
    "    plt.xlabel('Etiquetas Predecidas')\n"
   ]
  },
  {
   "cell_type": "code",
   "execution_count": 5,
   "metadata": {
    "collapsed": true
   },
   "outputs": [],
   "source": [
    "from sklearn.metrics import classification_report,confusion_matrix,accuracy_score\n",
    "#from sklearn.grid_search import GridSearchCV\n",
    "from sklearn.model_selection import GridSearchCV"
   ]
  },
  {
   "cell_type": "code",
   "execution_count": 6,
   "metadata": {
    "collapsed": true
   },
   "outputs": [],
   "source": [
    "#NSL TESTING LABELS\n",
    "\n",
    "#Index binary (2 clases)\n",
    "L_nsl_testing_indexbinary=pd.read_csv(\"./Final_Datasets/L_nsl_testing_indexbinary.csv\")\n",
    "#Index by Group (5 clases)\n",
    "L_nsl_testing_indexbygroup=pd.read_csv(\"./Final_Datasets/L_nsl_testing_indexbygroup.csv\")\n",
    "#Index tipe of attack (42? clases)\n",
    "L_nsl_testing_indextipeofattack=pd.read_csv(\"./Final_Datasets/L_nsl_testing_indextipeofattack.csv\")\n",
    "\n",
    "\n",
    "#nsl TRAINING LABELS\n",
    "# 2 clases\n",
    "L_nsl_training_indexbinary=pd.read_csv(\"./Final_Datasets/L_nsl_training_indexbinary.csv\")\n",
    "#Index by Group (5 clases)\n",
    "L_nsl_training_indexbygroup=pd.read_csv(\"./Final_Datasets/L_nsl_training_indexbygroup.csv\")\n",
    "#Index tipe of attack (42? clases)\n",
    "L_nsl_training_indextipeofattack=pd.read_csv(\"./Final_Datasets/L_nsl_training_indextipeofattack.csv\")"
   ]
  },
  {
   "cell_type": "markdown",
   "metadata": {},
   "source": [
    "# 1) Dataset Min-Max, entrenado con Tra y convertido de esa manera Test <br>"
   ]
  },
  {
   "cell_type": "markdown",
   "metadata": {},
   "source": [
    "# Reading the Datasets with the labels"
   ]
  },
  {
   "cell_type": "code",
   "execution_count": 7,
   "metadata": {
    "collapsed": true
   },
   "outputs": [],
   "source": [
    "#Reading all the cvs\n",
    "#Nss learning\n",
    "nsl_training=pd.read_csv('./Final_Datasets/MINMAX_FD_NSL_Tra.csv')\n",
    "#Nsl testing\n",
    "nsl_testing=pd.read_csv('./Final_Datasets/MINMAX_FD_NSL_Test.csv')\n"
   ]
  },
  {
   "cell_type": "markdown",
   "metadata": {},
   "source": [
    "# 2 clases"
   ]
  },
  {
   "cell_type": "code",
   "execution_count": 8,
   "metadata": {
    "collapsed": true
   },
   "outputs": [],
   "source": [
    "from sklearn.ensemble import RandomForestClassifier\n",
    "\n",
    "modelo=RandomForestClassifier(criterion='entropy',n_jobs=2, \n",
    "                              bootstrap=True, max_depth=10, max_features='sqrt', min_samples_leaf=2, \n",
    "                              min_samples_split=100, n_estimators=8)\n",
    "\n"
   ]
  },
  {
   "cell_type": "code",
   "execution_count": 9,
   "metadata": {},
   "outputs": [
    {
     "name": "stdout",
     "output_type": "stream",
     "text": [
      "\n",
      " Tiempo entrenamiento\n",
      "\n",
      "--- 0.6851811408996582 seconds ---\n"
     ]
    }
   ],
   "source": [
    "start_time = time.time()\n",
    "modelo.fit(nsl_training,L_nsl_training_indexbinary.values.ravel())\n",
    "t_entrenamiento_f_o=(time.time() - start_time)\n",
    "print(\"\\n Tiempo entrenamiento\\n\")\n",
    "print(\"--- %s seconds ---\" % t_entrenamiento_f_o)"
   ]
  },
  {
   "cell_type": "code",
   "execution_count": 10,
   "metadata": {},
   "outputs": [
    {
     "name": "stdout",
     "output_type": "stream",
     "text": [
      "\n",
      " Tiempo de evaluacion\n",
      "\n",
      "--- 0.11257600784301758 seconds ---\n"
     ]
    }
   ],
   "source": [
    "#Testing the classifier\n",
    "start_time = time.time()\n",
    "predicciones=modelo.predict(nsl_testing)\n",
    "t_evaluacion_b_o=(time.time() - start_time)\n",
    "print(\"\\n Tiempo de evaluacion\\n\")\n",
    "print(\"--- %s seconds ---\" % t_evaluacion_b_o)"
   ]
  },
  {
   "cell_type": "code",
   "execution_count": 11,
   "metadata": {
    "scrolled": true
   },
   "outputs": [
    {
     "name": "stdout",
     "output_type": "stream",
     "text": [
      "             precision    recall  f1-score   support\n",
      "\n",
      "          0       0.66      0.97      0.79      9710\n",
      "          1       0.97      0.63      0.76     12833\n",
      "\n",
      "avg / total       0.84      0.78      0.77     22543\n",
      "\n"
     ]
    }
   ],
   "source": [
    "print(classification_report(L_nsl_testing_indexbinary, predicciones))"
   ]
  },
  {
   "cell_type": "code",
   "execution_count": 12,
   "metadata": {},
   "outputs": [
    {
     "name": "stdout",
     "output_type": "stream",
     "text": [
      "Total de instancias: 22543\n",
      "Total de elementos correctamente clasificados: 17478\n",
      "Porcentaje de exactitud: 0.775318280619 (accuracy score)\n"
     ]
    }
   ],
   "source": [
    "print(\"Total de instancias: %s\" % len(nsl_testing))\n",
    "print(\"Total de elementos correctamente clasificados: %s\" % \n",
    "      accuracy_score(L_nsl_testing_indexbinary,predicciones,normalize=False))\n",
    "print(\"Porcentaje de exactitud: %s (accuracy score)\" %accuracy_score(L_nsl_testing_indexbinary,predicciones))"
   ]
  },
  {
   "cell_type": "code",
   "execution_count": 13,
   "metadata": {},
   "outputs": [
    {
     "name": "stdout",
     "output_type": "stream",
     "text": [
      "Matriz de confusion\n"
     ]
    },
    {
     "data": {
      "text/plain": [
       "array([[9449,  261],\n",
       "       [4804, 8029]])"
      ]
     },
     "execution_count": 13,
     "metadata": {},
     "output_type": "execute_result"
    }
   ],
   "source": [
    "print(\"Matriz de confusion\")\n",
    "matriz_de_confusion=confusion_matrix(L_nsl_testing_indexbinary,predicciones)\n",
    "matriz_de_confusion"
   ]
  },
  {
   "cell_type": "code",
   "execution_count": 14,
   "metadata": {},
   "outputs": [
    {
     "name": "stdout",
     "output_type": "stream",
     "text": [
      "Matriz de Confusión\n",
      "[[9449  261]\n",
      " [4804 8029]]\n"
     ]
    },
    {
     "data": {
      "image/png": "[encoded data removed]",
      "text/plain": [
       "<matplotlib.figure.Figure at 0x114e164e0>"
      ]
     },
     "metadata": {},
     "output_type": "display_data"
    }
   ],
   "source": [
    "np.set_printoptions(precision=2)\n",
    "\n",
    "# Plot non-normalized confusion matrix\n",
    "plt.figure()\n",
    "plot_confusion_matrix(matriz_de_confusion, classes=clases_binarias, title='Matriz de confusión')\n",
    "plt.show()\n"
   ]
  },
  {
   "cell_type": "code",
   "execution_count": 15,
   "metadata": {},
   "outputs": [
    {
     "name": "stdout",
     "output_type": "stream",
     "text": [
      "Matriz de Confusión normalizada\n",
      "[[ 0.97  0.03]\n",
      " [ 0.37  0.63]]\n"
     ]
    },
    {
     "data": {
      "image/png": "[encoded data removed]",
      "text/plain": [
       "<matplotlib.figure.Figure at 0x1152fa080>"
      ]
     },
     "metadata": {},
     "output_type": "display_data"
    }
   ],
   "source": [
    "plt.figure()\n",
    "plot_confusion_matrix(matriz_de_confusion, classes=clases_binarias, title='Matriz de confusión Normalizada',\n",
    "                     normalize=True,)\n",
    "plt.show()"
   ]
  },
  {
   "cell_type": "markdown",
   "metadata": {},
   "source": [
    "# 5 clases"
   ]
  },
  {
   "cell_type": "code",
   "execution_count": 26,
   "metadata": {
    "collapsed": true
   },
   "outputs": [],
   "source": [
    "from sklearn.ensemble import RandomForestClassifier\n",
    "\n",
    "modelo=RandomForestClassifier(criterion='entropy',n_jobs=2, \n",
    "                              bootstrap=True, max_depth=10, max_features='sqrt', min_samples_leaf=2, \n",
    "                              min_samples_split=100, n_estimators=8)\n",
    "\n"
   ]
  },
  {
   "cell_type": "code",
   "execution_count": 27,
   "metadata": {},
   "outputs": [
    {
     "name": "stdout",
     "output_type": "stream",
     "text": [
      "\n",
      " Tiempo entrenamiento\n",
      "\n",
      "--- 0.6776120662689209 seconds ---\n"
     ]
    }
   ],
   "source": [
    "start_time = time.time()\n",
    "modelo.fit(nsl_training,L_nsl_training_indexbygroup.values.ravel())\n",
    "t_entrenamiento_f_o=(time.time() - start_time)\n",
    "print(\"\\n Tiempo entrenamiento\\n\")\n",
    "print(\"--- %s seconds ---\" % t_entrenamiento_f_o)"
   ]
  },
  {
   "cell_type": "code",
   "execution_count": 28,
   "metadata": {},
   "outputs": [
    {
     "name": "stdout",
     "output_type": "stream",
     "text": [
      "\n",
      " Tiempo de evaluacion\n",
      "\n",
      "--- 0.12226390838623047 seconds ---\n"
     ]
    }
   ],
   "source": [
    "#Testing the classifier\n",
    "start_time = time.time()\n",
    "predicciones=modelo.predict(nsl_testing)\n",
    "t_evaluacion_b_o=(time.time() - start_time)\n",
    "print(\"\\n Tiempo de evaluacion\\n\")\n",
    "print(\"--- %s seconds ---\" % t_evaluacion_b_o)"
   ]
  },
  {
   "cell_type": "code",
   "execution_count": 29,
   "metadata": {
    "scrolled": false
   },
   "outputs": [
    {
     "name": "stdout",
     "output_type": "stream",
     "text": [
      "             precision    recall  f1-score   support\n",
      "\n",
      "          1       0.95      0.75      0.84      7458\n",
      "          2       0.63      0.97      0.77      9710\n",
      "          3       0.78      0.56      0.65      2421\n",
      "          4       0.50      0.00      0.00      2754\n",
      "          5       0.00      0.00      0.00       200\n",
      "\n",
      "avg / total       0.73      0.73      0.68     22543\n",
      "\n"
     ]
    },
    {
     "name": "stderr",
     "output_type": "stream",
     "text": [
      "/Users/Azeem/anaconda/lib/python3.6/site-packages/sklearn/metrics/classification.py:1113: UndefinedMetricWarning: Precision and F-score are ill-defined and being set to 0.0 in labels with no predicted samples.\n",
      "  'precision', 'predicted', average, warn_for)\n"
     ]
    }
   ],
   "source": [
    "print(classification_report(L_nsl_testing_indexbygroup, predicciones))"
   ]
  },
  {
   "cell_type": "code",
   "execution_count": 30,
   "metadata": {},
   "outputs": [
    {
     "name": "stdout",
     "output_type": "stream",
     "text": [
      "Total de instancias: 22543\n",
      "Total de elementos correctamente clasificados: 16409\n",
      "Porcentaje de exactitud: 0.727897795324 (accuracy score)\n"
     ]
    }
   ],
   "source": [
    "print(\"Total de instancias: %s\" % len(nsl_testing))\n",
    "print(\"Total de elementos correctamente clasificados: %s\" % \n",
    "      accuracy_score(L_nsl_testing_indexbygroup,predicciones,normalize=False))\n",
    "print(\"Porcentaje de exactitud: %s (accuracy score)\" %accuracy_score(L_nsl_testing_indexbygroup,predicciones))"
   ]
  },
  {
   "cell_type": "code",
   "execution_count": 31,
   "metadata": {},
   "outputs": [
    {
     "name": "stdout",
     "output_type": "stream",
     "text": [
      "Matriz de confusion\n"
     ]
    },
    {
     "data": {
      "text/plain": [
       "array([[5595, 1667,  196,    0,    0],\n",
       "       [  66, 9464,  180,    0,    0],\n",
       "       [ 223,  849, 1349,    0,    0],\n",
       "       [   0, 2753,    0,    1,    0],\n",
       "       [   0,  198,    1,    1,    0]])"
      ]
     },
     "execution_count": 31,
     "metadata": {},
     "output_type": "execute_result"
    }
   ],
   "source": [
    "print(\"Matriz de confusion\")\n",
    "matriz_de_confusion=confusion_matrix(L_nsl_testing_indexbygroup,predicciones)\n",
    "matriz_de_confusion"
   ]
  },
  {
   "cell_type": "code",
   "execution_count": 32,
   "metadata": {},
   "outputs": [
    {
     "name": "stdout",
     "output_type": "stream",
     "text": [
      "Matriz de Confusión\n",
      "[[5595 1667  196    0    0]\n",
      " [  66 9464  180    0    0]\n",
      " [ 223  849 1349    0    0]\n",
      " [   0 2753    0    1    0]\n",
      " [   0  198    1    1    0]]\n"
     ]
    },
    {
     "data": {
      "image/png": "[encoded data removed]",
      "text/plain": [
       "<matplotlib.figure.Figure at 0x1157bb860>"
      ]
     },
     "metadata": {},
     "output_type": "display_data"
    }
   ],
   "source": [
    "np.set_printoptions(precision=2)\n",
    "\n",
    "# Plot non-normalized confusion matrix\n",
    "plt.figure()\n",
    "plot_confusion_matrix(matriz_de_confusion, classes=clases_5, title='Matriz de confusión')\n",
    "plt.show()\n"
   ]
  },
  {
   "cell_type": "code",
   "execution_count": 33,
   "metadata": {},
   "outputs": [
    {
     "name": "stdout",
     "output_type": "stream",
     "text": [
      "Matriz de Confusión normalizada\n",
      "[[  7.50e-01   2.24e-01   2.63e-02   0.00e+00   0.00e+00]\n",
      " [  6.80e-03   9.75e-01   1.85e-02   0.00e+00   0.00e+00]\n",
      " [  9.21e-02   3.51e-01   5.57e-01   0.00e+00   0.00e+00]\n",
      " [  0.00e+00   1.00e+00   0.00e+00   3.63e-04   0.00e+00]\n",
      " [  0.00e+00   9.90e-01   5.00e-03   5.00e-03   0.00e+00]]\n"
     ]
    },
    {
     "data": {
      "image/png": "[encoded data removed]",
      "text/plain": [
       "<matplotlib.figure.Figure at 0x115ac69b0>"
      ]
     },
     "metadata": {},
     "output_type": "display_data"
    }
   ],
   "source": [
    "plt.figure()\n",
    "plot_confusion_matrix(matriz_de_confusion, classes=clases_5, title='Matriz de confusión Normalizada',\n",
    "                     normalize=True,)\n",
    "plt.show()"
   ]
  },
  {
   "cell_type": "code",
   "execution_count": 34,
   "metadata": {},
   "outputs": [
    {
     "name": "stdout",
     "output_type": "stream",
     "text": [
      "             precision    recall  f1-score   support\n",
      "\n",
      "          1       0.95      0.75      0.84      7458\n",
      "          2       0.63      0.97      0.77      9710\n",
      "          3       0.78      0.56      0.65      2421\n",
      "          4       0.50      0.00      0.00      2754\n",
      "          5       0.00      0.00      0.00       200\n",
      "\n",
      "avg / total       0.73      0.73      0.68     22543\n",
      "\n"
     ]
    },
    {
     "name": "stderr",
     "output_type": "stream",
     "text": [
      "/Users/Azeem/anaconda/lib/python3.6/site-packages/sklearn/metrics/classification.py:1113: UndefinedMetricWarning: Precision and F-score are ill-defined and being set to 0.0 in labels with no predicted samples.\n",
      "  'precision', 'predicted', average, warn_for)\n"
     ]
    }
   ],
   "source": [
    "print(classification_report(L_nsl_testing_indexbygroup, predicciones))"
   ]
  },
  {
   "cell_type": "code",
   "execution_count": 35,
   "metadata": {},
   "outputs": [
    {
     "name": "stdout",
     "output_type": "stream",
     "text": [
      "Porcentaje de exactitud: 0.727897795324 (accuracy score)\n"
     ]
    }
   ],
   "source": [
    "\n",
    "print(\"Porcentaje de exactitud: %s (accuracy score)\" %accuracy_score(L_nsl_testing_indexbygroup,predicciones))"
   ]
  },
  {
   "cell_type": "code",
   "execution_count": null,
   "metadata": {
    "collapsed": true
   },
   "outputs": [],
   "source": []
  },
  {
   "cell_type": "markdown",
   "metadata": {},
   "source": [
    "# 2) Dataset Min-Max, entrenado con tra y convertido; entrenado con Test y convertido "
   ]
  },
  {
   "cell_type": "markdown",
   "metadata": {},
   "source": [
    "# Reading the Datasets with the labels"
   ]
  },
  {
   "cell_type": "code",
   "execution_count": 36,
   "metadata": {
    "collapsed": true
   },
   "outputs": [],
   "source": [
    "#Reading all the cvs\n",
    "#Nss learning\n",
    "nsl_training=pd.read_csv('./Datasets_for_evaluation/Min_Max_Entrenado_Tra_Y_Test_No_Parametro_comun/MINMAX_TRATEST_NSL_Tra.csv')\n",
    "#Nsl testing\n",
    "nsl_testing=pd.read_csv('./Datasets_for_evaluation/Min_Max_Entrenado_Tra_Y_Test_No_Parametro_comun/MINMAX_TRATEST_NSL_Test.csv')\n"
   ]
  },
  {
   "cell_type": "markdown",
   "metadata": {},
   "source": [
    "# SVM's (SVC in scikitLearn)"
   ]
  },
  {
   "cell_type": "markdown",
   "metadata": {},
   "source": [
    "# 2 clases"
   ]
  },
  {
   "cell_type": "code",
   "execution_count": 37,
   "metadata": {
    "collapsed": true
   },
   "outputs": [],
   "source": [
    "from sklearn.ensemble import RandomForestClassifier\n",
    "\n",
    "modelo=RandomForestClassifier(criterion='entropy',n_jobs=2, \n",
    "                              bootstrap=True, max_depth=10, max_features='sqrt', min_samples_leaf=2, \n",
    "                              min_samples_split=100, n_estimators=8)\n",
    "\n"
   ]
  },
  {
   "cell_type": "code",
   "execution_count": 38,
   "metadata": {},
   "outputs": [
    {
     "name": "stdout",
     "output_type": "stream",
     "text": [
      "\n",
      " Tiempo entrenamiento\n",
      "\n",
      "--- 0.6768951416015625 seconds ---\n"
     ]
    }
   ],
   "source": [
    "start_time = time.time()\n",
    "modelo.fit(nsl_training,L_nsl_training_indexbinary.values.ravel())\n",
    "t_entrenamiento_f_o=(time.time() - start_time)\n",
    "print(\"\\n Tiempo entrenamiento\\n\")\n",
    "print(\"--- %s seconds ---\" % t_entrenamiento_f_o)"
   ]
  },
  {
   "cell_type": "code",
   "execution_count": 39,
   "metadata": {},
   "outputs": [
    {
     "name": "stdout",
     "output_type": "stream",
     "text": [
      "\n",
      " Tiempo de evaluacion\n",
      "\n",
      "--- 0.1133880615234375 seconds ---\n"
     ]
    }
   ],
   "source": [
    "#Testing the classifier\n",
    "start_time = time.time()\n",
    "predicciones=modelo.predict(nsl_testing)\n",
    "t_evaluacion_b_o=(time.time() - start_time)\n",
    "print(\"\\n Tiempo de evaluacion\\n\")\n",
    "print(\"--- %s seconds ---\" % t_evaluacion_b_o)"
   ]
  },
  {
   "cell_type": "code",
   "execution_count": 40,
   "metadata": {
    "scrolled": true
   },
   "outputs": [
    {
     "name": "stdout",
     "output_type": "stream",
     "text": [
      "             precision    recall  f1-score   support\n",
      "\n",
      "          0       0.65      0.97      0.78      9710\n",
      "          1       0.97      0.60      0.74     12833\n",
      "\n",
      "avg / total       0.83      0.76      0.76     22543\n",
      "\n"
     ]
    }
   ],
   "source": [
    "print(classification_report(L_nsl_testing_indexbinary, predicciones))"
   ]
  },
  {
   "cell_type": "code",
   "execution_count": 41,
   "metadata": {},
   "outputs": [
    {
     "name": "stdout",
     "output_type": "stream",
     "text": [
      "Total de instancias: 22543\n",
      "Total de elementos correctamente clasificados: 17204\n",
      "Porcentaje de exactitud: 0.763163731535 (accuracy score)\n"
     ]
    }
   ],
   "source": [
    "print(\"Total de instancias: %s\" % len(nsl_testing))\n",
    "print(\"Total de elementos correctamente clasificados: %s\" % \n",
    "      accuracy_score(L_nsl_testing_indexbinary,predicciones,normalize=False))\n",
    "print(\"Porcentaje de exactitud: %s (accuracy score)\" %accuracy_score(L_nsl_testing_indexbinary,predicciones))"
   ]
  },
  {
   "cell_type": "code",
   "execution_count": 42,
   "metadata": {},
   "outputs": [
    {
     "name": "stdout",
     "output_type": "stream",
     "text": [
      "Matriz de confusion\n"
     ]
    },
    {
     "data": {
      "text/plain": [
       "array([[9441,  269],\n",
       "       [5070, 7763]])"
      ]
     },
     "execution_count": 42,
     "metadata": {},
     "output_type": "execute_result"
    }
   ],
   "source": [
    "print(\"Matriz de confusion\")\n",
    "matriz_de_confusion=confusion_matrix(L_nsl_testing_indexbinary,predicciones)\n",
    "matriz_de_confusion"
   ]
  },
  {
   "cell_type": "code",
   "execution_count": 43,
   "metadata": {},
   "outputs": [
    {
     "name": "stdout",
     "output_type": "stream",
     "text": [
      "Matriz de Confusión\n",
      "[[9441  269]\n",
      " [5070 7763]]\n"
     ]
    },
    {
     "data": {
      "image/png": "[encoded data removed]",
      "text/plain": [
       "<matplotlib.figure.Figure at 0x109af7c18>"
      ]
     },
     "metadata": {},
     "output_type": "display_data"
    }
   ],
   "source": [
    "np.set_printoptions(precision=2)\n",
    "\n",
    "# Plot non-normalized confusion matrix\n",
    "plt.figure()\n",
    "plot_confusion_matrix(matriz_de_confusion, classes=clases_binarias, title='Matriz de confusión')\n",
    "plt.show()\n"
   ]
  },
  {
   "cell_type": "code",
   "execution_count": 44,
   "metadata": {},
   "outputs": [
    {
     "name": "stdout",
     "output_type": "stream",
     "text": [
      "Matriz de Confusión normalizada\n",
      "[[ 0.97  0.03]\n",
      " [ 0.4   0.6 ]]\n"
     ]
    },
    {
     "data": {
      "image/png": "[encoded data removed]",
      "text/plain": [
       "<matplotlib.figure.Figure at 0x109af7cc0>"
      ]
     },
     "metadata": {},
     "output_type": "display_data"
    }
   ],
   "source": [
    "plt.figure()\n",
    "plot_confusion_matrix(matriz_de_confusion, classes=clases_binarias, title='Matriz de confusión Normalizada',\n",
    "                     normalize=True,)\n",
    "plt.show()"
   ]
  },
  {
   "cell_type": "markdown",
   "metadata": {},
   "source": [
    "# 5 clases"
   ]
  },
  {
   "cell_type": "code",
   "execution_count": 45,
   "metadata": {
    "collapsed": true
   },
   "outputs": [],
   "source": [
    "from sklearn.ensemble import RandomForestClassifier\n",
    "\n",
    "modelo=RandomForestClassifier(criterion='entropy',n_jobs=2, \n",
    "                              bootstrap=True, max_depth=10, max_features='sqrt', min_samples_leaf=2, \n",
    "                              min_samples_split=100, n_estimators=8)\n",
    "\n"
   ]
  },
  {
   "cell_type": "code",
   "execution_count": 46,
   "metadata": {},
   "outputs": [
    {
     "name": "stdout",
     "output_type": "stream",
     "text": [
      "\n",
      " Tiempo entrenamiento\n",
      "\n",
      "--- 0.6649363040924072 seconds ---\n"
     ]
    }
   ],
   "source": [
    "start_time = time.time()\n",
    "modelo.fit(nsl_training,L_nsl_training_indexbygroup.values.ravel())\n",
    "t_entrenamiento_f_o=(time.time() - start_time)\n",
    "print(\"\\n Tiempo entrenamiento\\n\")\n",
    "print(\"--- %s seconds ---\" % t_entrenamiento_f_o)"
   ]
  },
  {
   "cell_type": "code",
   "execution_count": 47,
   "metadata": {},
   "outputs": [
    {
     "name": "stdout",
     "output_type": "stream",
     "text": [
      "\n",
      " Tiempo de evaluacion\n",
      "\n",
      "--- 0.11094188690185547 seconds ---\n"
     ]
    }
   ],
   "source": [
    "#Testing the classifier\n",
    "start_time = time.time()\n",
    "predicciones=modelo.predict(nsl_testing)\n",
    "t_evaluacion_b_o=(time.time() - start_time)\n",
    "print(\"\\n Tiempo de evaluacion\\n\")\n",
    "print(\"--- %s seconds ---\" % t_evaluacion_b_o)"
   ]
  },
  {
   "cell_type": "code",
   "execution_count": 48,
   "metadata": {
    "scrolled": false
   },
   "outputs": [
    {
     "name": "stdout",
     "output_type": "stream",
     "text": [
      "             precision    recall  f1-score   support\n",
      "\n",
      "          1       0.96      0.75      0.84      7458\n",
      "          2       0.63      0.97      0.76      9710\n",
      "          3       0.87      0.59      0.70      2421\n",
      "          4       1.00      0.02      0.05      2754\n",
      "          5       0.00      0.00      0.00       200\n",
      "\n",
      "avg / total       0.80      0.73      0.69     22543\n",
      "\n"
     ]
    },
    {
     "name": "stderr",
     "output_type": "stream",
     "text": [
      "/Users/Azeem/anaconda/lib/python3.6/site-packages/sklearn/metrics/classification.py:1113: UndefinedMetricWarning: Precision and F-score are ill-defined and being set to 0.0 in labels with no predicted samples.\n",
      "  'precision', 'predicted', average, warn_for)\n"
     ]
    }
   ],
   "source": [
    "print(classification_report(L_nsl_testing_indexbygroup, predicciones))"
   ]
  },
  {
   "cell_type": "code",
   "execution_count": 49,
   "metadata": {},
   "outputs": [
    {
     "name": "stdout",
     "output_type": "stream",
     "text": [
      "Total de instancias: 22543\n",
      "Total de elementos correctamente clasificados: 16523\n",
      "Porcentaje de exactitud: 0.732954797498 (accuracy score)\n"
     ]
    }
   ],
   "source": [
    "print(\"Total de instancias: %s\" % len(nsl_testing))\n",
    "print(\"Total de elementos correctamente clasificados: %s\" % \n",
    "      accuracy_score(L_nsl_testing_indexbygroup,predicciones,normalize=False))\n",
    "print(\"Porcentaje de exactitud: %s (accuracy score)\" %accuracy_score(L_nsl_testing_indexbygroup,predicciones))"
   ]
  },
  {
   "cell_type": "code",
   "execution_count": 50,
   "metadata": {},
   "outputs": [
    {
     "name": "stdout",
     "output_type": "stream",
     "text": [
      "Matriz de confusion\n"
     ]
    },
    {
     "data": {
      "text/plain": [
       "array([[5580, 1850,   28,    0,    0],\n",
       "       [  86, 9443,  181,    0,    0],\n",
       "       [ 165,  821, 1435,    0,    0],\n",
       "       [   0, 2687,    2,   65,    0],\n",
       "       [   1,  189,   10,    0,    0]])"
      ]
     },
     "execution_count": 50,
     "metadata": {},
     "output_type": "execute_result"
    }
   ],
   "source": [
    "print(\"Matriz de confusion\")\n",
    "matriz_de_confusion=confusion_matrix(L_nsl_testing_indexbygroup,predicciones)\n",
    "matriz_de_confusion"
   ]
  },
  {
   "cell_type": "code",
   "execution_count": 51,
   "metadata": {},
   "outputs": [
    {
     "name": "stdout",
     "output_type": "stream",
     "text": [
      "Matriz de Confusión\n",
      "[[5580 1850   28    0    0]\n",
      " [  86 9443  181    0    0]\n",
      " [ 165  821 1435    0    0]\n",
      " [   0 2687    2   65    0]\n",
      " [   1  189   10    0    0]]\n"
     ]
    },
    {
     "data": {
      "image/png": "[encoded data removed]",
      "text/plain": [
       "<matplotlib.figure.Figure at 0x1157bb940>"
      ]
     },
     "metadata": {},
     "output_type": "display_data"
    }
   ],
   "source": [
    "np.set_printoptions(precision=2)\n",
    "\n",
    "# Plot non-normalized confusion matrix\n",
    "plt.figure()\n",
    "plot_confusion_matrix(matriz_de_confusion, classes=clases_5, title='Matriz de confusión')\n",
    "plt.show()\n"
   ]
  },
  {
   "cell_type": "code",
   "execution_count": 52,
   "metadata": {},
   "outputs": [
    {
     "name": "stdout",
     "output_type": "stream",
     "text": [
      "Matriz de Confusión normalizada\n",
      "[[  7.48e-01   2.48e-01   3.75e-03   0.00e+00   0.00e+00]\n",
      " [  8.86e-03   9.73e-01   1.86e-02   0.00e+00   0.00e+00]\n",
      " [  6.82e-02   3.39e-01   5.93e-01   0.00e+00   0.00e+00]\n",
      " [  0.00e+00   9.76e-01   7.26e-04   2.36e-02   0.00e+00]\n",
      " [  5.00e-03   9.45e-01   5.00e-02   0.00e+00   0.00e+00]]\n"
     ]
    },
    {
     "data": {
      "image/png": "[encoded data removed]",
      "text/plain": [
       "<matplotlib.figure.Figure at 0x115435f98>"
      ]
     },
     "metadata": {},
     "output_type": "display_data"
    }
   ],
   "source": [
    "plt.figure()\n",
    "plot_confusion_matrix(matriz_de_confusion, classes=clases_5, title='Matriz de confusión Normalizada',\n",
    "                     normalize=True,)\n",
    "plt.show()"
   ]
  },
  {
   "cell_type": "code",
   "execution_count": 53,
   "metadata": {},
   "outputs": [
    {
     "name": "stdout",
     "output_type": "stream",
     "text": [
      "             precision    recall  f1-score   support\n",
      "\n",
      "          1       0.96      0.75      0.84      7458\n",
      "          2       0.63      0.97      0.76      9710\n",
      "          3       0.87      0.59      0.70      2421\n",
      "          4       1.00      0.02      0.05      2754\n",
      "          5       0.00      0.00      0.00       200\n",
      "\n",
      "avg / total       0.80      0.73      0.69     22543\n",
      "\n"
     ]
    },
    {
     "name": "stderr",
     "output_type": "stream",
     "text": [
      "/Users/Azeem/anaconda/lib/python3.6/site-packages/sklearn/metrics/classification.py:1113: UndefinedMetricWarning: Precision and F-score are ill-defined and being set to 0.0 in labels with no predicted samples.\n",
      "  'precision', 'predicted', average, warn_for)\n"
     ]
    }
   ],
   "source": [
    "print(classification_report(L_nsl_testing_indexbygroup, predicciones))"
   ]
  },
  {
   "cell_type": "code",
   "execution_count": 54,
   "metadata": {},
   "outputs": [
    {
     "name": "stdout",
     "output_type": "stream",
     "text": [
      "Porcentaje de exactitud: 0.732954797498 (accuracy score)\n"
     ]
    }
   ],
   "source": [
    "\n",
    "print(\"Porcentaje de exactitud: %s (accuracy score)\" %accuracy_score(L_nsl_testing_indexbygroup,predicciones))"
   ]
  },
  {
   "cell_type": "markdown",
   "metadata": {},
   "source": [
    "# 3) Dataset NO normalizado"
   ]
  },
  {
   "cell_type": "markdown",
   "metadata": {},
   "source": [
    "# Reading the Datasets with the labels"
   ]
  },
  {
   "cell_type": "code",
   "execution_count": 55,
   "metadata": {
    "collapsed": true
   },
   "outputs": [],
   "source": [
    "#Reading all the cvs\n",
    "#Nss learning\n",
    "nsl_training=pd.read_csv('./Datasets_for_evaluation/No_normalizado_total_40_dimension/ORIGINAL_40_DIM_NSL_Tra.csv')\n",
    "#Nsl testing\n",
    "nsl_testing=pd.read_csv('./Datasets_for_evaluation/No_normalizado_total_40_dimension/ORIGINAL_40_DIM_NSL_Test.csv')\n"
   ]
  },
  {
   "cell_type": "markdown",
   "metadata": {},
   "source": [
    "# RF. Original datasets"
   ]
  },
  {
   "cell_type": "markdown",
   "metadata": {},
   "source": [
    "# 2 clases"
   ]
  },
  {
   "cell_type": "code",
   "execution_count": 56,
   "metadata": {
    "collapsed": true
   },
   "outputs": [],
   "source": [
    "from sklearn.ensemble import RandomForestClassifier\n",
    "\n",
    "modelo=RandomForestClassifier(criterion='entropy',n_jobs=2, \n",
    "                              bootstrap=True, max_depth=10, max_features='sqrt', min_samples_leaf=2, \n",
    "                              min_samples_split=100, n_estimators=8)\n",
    "\n"
   ]
  },
  {
   "cell_type": "code",
   "execution_count": 57,
   "metadata": {},
   "outputs": [
    {
     "name": "stdout",
     "output_type": "stream",
     "text": [
      "\n",
      " Tiempo entrenamiento\n",
      "\n",
      "--- 0.7126960754394531 seconds ---\n"
     ]
    }
   ],
   "source": [
    "start_time = time.time()\n",
    "modelo.fit(nsl_training,L_nsl_training_indexbinary.values.ravel())\n",
    "t_entrenamiento_f_o=(time.time() - start_time)\n",
    "print(\"\\n Tiempo entrenamiento\\n\")\n",
    "print(\"--- %s seconds ---\" % t_entrenamiento_f_o)"
   ]
  },
  {
   "cell_type": "code",
   "execution_count": 58,
   "metadata": {},
   "outputs": [
    {
     "name": "stdout",
     "output_type": "stream",
     "text": [
      "\n",
      " Tiempo de evaluacion\n",
      "\n",
      "--- 0.11696100234985352 seconds ---\n"
     ]
    }
   ],
   "source": [
    "#Testing the classifier\n",
    "start_time = time.time()\n",
    "predicciones=modelo.predict(nsl_testing)\n",
    "t_evaluacion_b_o=(time.time() - start_time)\n",
    "print(\"\\n Tiempo de evaluacion\\n\")\n",
    "print(\"--- %s seconds ---\" % t_evaluacion_b_o)"
   ]
  },
  {
   "cell_type": "code",
   "execution_count": 59,
   "metadata": {
    "scrolled": true
   },
   "outputs": [
    {
     "name": "stdout",
     "output_type": "stream",
     "text": [
      "             precision    recall  f1-score   support\n",
      "\n",
      "          0       0.65      0.97      0.78      9710\n",
      "          1       0.97      0.60      0.74     12833\n",
      "\n",
      "avg / total       0.83      0.76      0.76     22543\n",
      "\n"
     ]
    }
   ],
   "source": [
    "print(classification_report(L_nsl_testing_indexbinary, predicciones))"
   ]
  },
  {
   "cell_type": "code",
   "execution_count": 60,
   "metadata": {},
   "outputs": [
    {
     "name": "stdout",
     "output_type": "stream",
     "text": [
      "Total de instancias: 22543\n",
      "Total de elementos correctamente clasificados: 17131\n",
      "Porcentaje de exactitud: 0.759925475757 (accuracy score)\n"
     ]
    }
   ],
   "source": [
    "print(\"Total de instancias: %s\" % len(nsl_testing))\n",
    "print(\"Total de elementos correctamente clasificados: %s\" % \n",
    "      accuracy_score(L_nsl_testing_indexbinary,predicciones,normalize=False))\n",
    "print(\"Porcentaje de exactitud: %s (accuracy score)\" %accuracy_score(L_nsl_testing_indexbinary,predicciones))"
   ]
  },
  {
   "cell_type": "code",
   "execution_count": 61,
   "metadata": {},
   "outputs": [
    {
     "name": "stdout",
     "output_type": "stream",
     "text": [
      "Matriz de confusion\n"
     ]
    },
    {
     "data": {
      "text/plain": [
       "array([[9455,  255],\n",
       "       [5157, 7676]])"
      ]
     },
     "execution_count": 61,
     "metadata": {},
     "output_type": "execute_result"
    }
   ],
   "source": [
    "print(\"Matriz de confusion\")\n",
    "matriz_de_confusion=confusion_matrix(L_nsl_testing_indexbinary,predicciones)\n",
    "matriz_de_confusion"
   ]
  },
  {
   "cell_type": "code",
   "execution_count": 62,
   "metadata": {},
   "outputs": [
    {
     "name": "stdout",
     "output_type": "stream",
     "text": [
      "Matriz de Confusión\n",
      "[[9455  255]\n",
      " [5157 7676]]\n"
     ]
    },
    {
     "data": {
      "image/png": "[encoded data removed]",
      "text/plain": [
       "<matplotlib.figure.Figure at 0x1155c9a20>"
      ]
     },
     "metadata": {},
     "output_type": "display_data"
    }
   ],
   "source": [
    "np.set_printoptions(precision=2)\n",
    "\n",
    "# Plot non-normalized confusion matrix\n",
    "plt.figure()\n",
    "plot_confusion_matrix(matriz_de_confusion, classes=clases_binarias, title='Matriz de confusión')\n",
    "plt.show()\n"
   ]
  },
  {
   "cell_type": "code",
   "execution_count": 63,
   "metadata": {},
   "outputs": [
    {
     "name": "stdout",
     "output_type": "stream",
     "text": [
      "Matriz de Confusión normalizada\n",
      "[[ 0.97  0.03]\n",
      " [ 0.4   0.6 ]]\n"
     ]
    },
    {
     "data": {
      "image/png": "[encoded data removed]",
      "text/plain": [
       "<matplotlib.figure.Figure at 0x1153ea128>"
      ]
     },
     "metadata": {},
     "output_type": "display_data"
    }
   ],
   "source": [
    "plt.figure()\n",
    "plot_confusion_matrix(matriz_de_confusion, classes=clases_binarias, title='Matriz de confusión Normalizada',\n",
    "                     normalize=True,)\n",
    "plt.show()"
   ]
  },
  {
   "cell_type": "markdown",
   "metadata": {},
   "source": [
    "# 5 clases"
   ]
  },
  {
   "cell_type": "code",
   "execution_count": 64,
   "metadata": {
    "collapsed": true
   },
   "outputs": [],
   "source": [
    "from sklearn.ensemble import RandomForestClassifier\n",
    "\n",
    "modelo=RandomForestClassifier(criterion='entropy',n_jobs=2, \n",
    "                              bootstrap=True, max_depth=10, max_features='sqrt', min_samples_leaf=2, \n",
    "                              min_samples_split=100, n_estimators=8)\n",
    "\n"
   ]
  },
  {
   "cell_type": "code",
   "execution_count": 65,
   "metadata": {},
   "outputs": [
    {
     "name": "stdout",
     "output_type": "stream",
     "text": [
      "\n",
      " Tiempo entrenamiento\n",
      "\n",
      "--- 0.8201291561126709 seconds ---\n"
     ]
    }
   ],
   "source": [
    "start_time = time.time()\n",
    "modelo.fit(nsl_training,L_nsl_training_indexbygroup.values.ravel())\n",
    "t_entrenamiento_f_o=(time.time() - start_time)\n",
    "print(\"\\n Tiempo entrenamiento\\n\")\n",
    "print(\"--- %s seconds ---\" % t_entrenamiento_f_o)"
   ]
  },
  {
   "cell_type": "code",
   "execution_count": 66,
   "metadata": {},
   "outputs": [
    {
     "name": "stdout",
     "output_type": "stream",
     "text": [
      "\n",
      " Tiempo de evaluacion\n",
      "\n",
      "--- 0.11655306816101074 seconds ---\n"
     ]
    }
   ],
   "source": [
    "#Testing the classifier\n",
    "start_time = time.time()\n",
    "predicciones=modelo.predict(nsl_testing)\n",
    "t_evaluacion_b_o=(time.time() - start_time)\n",
    "print(\"\\n Tiempo de evaluacion\\n\")\n",
    "print(\"--- %s seconds ---\" % t_evaluacion_b_o)"
   ]
  },
  {
   "cell_type": "code",
   "execution_count": 67,
   "metadata": {
    "scrolled": false
   },
   "outputs": [
    {
     "name": "stdout",
     "output_type": "stream",
     "text": [
      "             precision    recall  f1-score   support\n",
      "\n",
      "          1       0.96      0.77      0.86      7458\n",
      "          2       0.65      0.98      0.78      9710\n",
      "          3       0.78      0.63      0.70      2421\n",
      "          4       1.00      0.04      0.08      2754\n",
      "          5       0.00      0.00      0.00       200\n",
      "\n",
      "avg / total       0.81      0.75      0.70     22543\n",
      "\n"
     ]
    },
    {
     "name": "stderr",
     "output_type": "stream",
     "text": [
      "/Users/Azeem/anaconda/lib/python3.6/site-packages/sklearn/metrics/classification.py:1113: UndefinedMetricWarning: Precision and F-score are ill-defined and being set to 0.0 in labels with no predicted samples.\n",
      "  'precision', 'predicted', average, warn_for)\n"
     ]
    }
   ],
   "source": [
    "print(classification_report(L_nsl_testing_indexbygroup, predicciones))"
   ]
  },
  {
   "cell_type": "code",
   "execution_count": 68,
   "metadata": {},
   "outputs": [
    {
     "name": "stdout",
     "output_type": "stream",
     "text": [
      "Total de instancias: 22543\n",
      "Total de elementos correctamente clasificados: 16847\n",
      "Porcentaje de exactitud: 0.747327329992 (accuracy score)\n"
     ]
    }
   ],
   "source": [
    "print(\"Total de instancias: %s\" % len(nsl_testing))\n",
    "print(\"Total de elementos correctamente clasificados: %s\" % \n",
    "      accuracy_score(L_nsl_testing_indexbygroup,predicciones,normalize=False))\n",
    "print(\"Porcentaje de exactitud: %s (accuracy score)\" %accuracy_score(L_nsl_testing_indexbygroup,predicciones))"
   ]
  },
  {
   "cell_type": "code",
   "execution_count": 69,
   "metadata": {},
   "outputs": [
    {
     "name": "stdout",
     "output_type": "stream",
     "text": [
      "Matriz de confusion\n"
     ]
    },
    {
     "data": {
      "text/plain": [
       "array([[5727, 1508,  223,    0,    0],\n",
       "       [  52, 9475,  183,    0,    0],\n",
       "       [ 158,  734, 1529,    0,    0],\n",
       "       [   0, 2635,    3,  116,    0],\n",
       "       [   0,  177,   23,    0,    0]])"
      ]
     },
     "execution_count": 69,
     "metadata": {},
     "output_type": "execute_result"
    }
   ],
   "source": [
    "print(\"Matriz de confusion\")\n",
    "matriz_de_confusion=confusion_matrix(L_nsl_testing_indexbygroup,predicciones)\n",
    "matriz_de_confusion"
   ]
  },
  {
   "cell_type": "code",
   "execution_count": 70,
   "metadata": {},
   "outputs": [
    {
     "name": "stdout",
     "output_type": "stream",
     "text": [
      "Matriz de Confusión\n",
      "[[5727 1508  223    0    0]\n",
      " [  52 9475  183    0    0]\n",
      " [ 158  734 1529    0    0]\n",
      " [   0 2635    3  116    0]\n",
      " [   0  177   23    0    0]]\n"
     ]
    },
    {
     "data": {
      "image/png": "[encoded data removed]",
      "text/plain": [
       "<matplotlib.figure.Figure at 0x115a72b00>"
      ]
     },
     "metadata": {},
     "output_type": "display_data"
    }
   ],
   "source": [
    "np.set_printoptions(precision=2)\n",
    "\n",
    "# Plot non-normalized confusion matrix\n",
    "plt.figure()\n",
    "plot_confusion_matrix(matriz_de_confusion, classes=clases_5, title='Matriz de confusión')\n",
    "plt.show()\n"
   ]
  },
  {
   "cell_type": "code",
   "execution_count": 71,
   "metadata": {},
   "outputs": [
    {
     "name": "stdout",
     "output_type": "stream",
     "text": [
      "Matriz de Confusión normalizada\n",
      "[[ 0.77  0.2   0.03  0.    0.  ]\n",
      " [ 0.01  0.98  0.02  0.    0.  ]\n",
      " [ 0.07  0.3   0.63  0.    0.  ]\n",
      " [ 0.    0.96  0.    0.04  0.  ]\n",
      " [ 0.    0.89  0.12  0.    0.  ]]\n"
     ]
    },
    {
     "data": {
      "image/png": "[encoded data removed]",
      "text/plain": [
       "<matplotlib.figure.Figure at 0x115ac15c0>"
      ]
     },
     "metadata": {},
     "output_type": "display_data"
    }
   ],
   "source": [
    "plt.figure()\n",
    "plot_confusion_matrix(matriz_de_confusion, classes=clases_5, title='Matriz de confusión Normalizada',\n",
    "                     normalize=True,)\n",
    "plt.show()"
   ]
  },
  {
   "cell_type": "code",
   "execution_count": 72,
   "metadata": {},
   "outputs": [
    {
     "name": "stdout",
     "output_type": "stream",
     "text": [
      "             precision    recall  f1-score   support\n",
      "\n",
      "          1       0.96      0.77      0.86      7458\n",
      "          2       0.65      0.98      0.78      9710\n",
      "          3       0.78      0.63      0.70      2421\n",
      "          4       1.00      0.04      0.08      2754\n",
      "          5       0.00      0.00      0.00       200\n",
      "\n",
      "avg / total       0.81      0.75      0.70     22543\n",
      "\n"
     ]
    },
    {
     "name": "stderr",
     "output_type": "stream",
     "text": [
      "/Users/Azeem/anaconda/lib/python3.6/site-packages/sklearn/metrics/classification.py:1113: UndefinedMetricWarning: Precision and F-score are ill-defined and being set to 0.0 in labels with no predicted samples.\n",
      "  'precision', 'predicted', average, warn_for)\n"
     ]
    }
   ],
   "source": [
    "print(classification_report(L_nsl_testing_indexbygroup, predicciones))"
   ]
  },
  {
   "cell_type": "code",
   "execution_count": 73,
   "metadata": {},
   "outputs": [
    {
     "name": "stdout",
     "output_type": "stream",
     "text": [
      "Porcentaje de exactitud: 0.747327329992 (accuracy score)\n"
     ]
    }
   ],
   "source": [
    "\n",
    "print(\"Porcentaje de exactitud: %s (accuracy score)\" %accuracy_score(L_nsl_testing_indexbygroup,predicciones))"
   ]
  },
  {
   "cell_type": "code",
   "execution_count": null,
   "metadata": {
    "collapsed": true
   },
   "outputs": [],
   "source": []
  },
  {
   "cell_type": "code",
   "execution_count": null,
   "metadata": {
    "collapsed": true
   },
   "outputs": [],
   "source": []
  }
 ],
 "metadata": {
  "kernelspec": {
   "display_name": "Python 3",
   "language": "python",
   "name": "python3"
  },
  "language_info": {
   "codemirror_mode": {
    "name": "ipython",
    "version": 3
   },
   "file_extension": ".py",
   "mimetype": "text/x-python",
   "name": "python",
   "nbconvert_exporter": "python",
   "pygments_lexer": "ipython3",
   "version": "3.6.1"
  }
 },
 "nbformat": 4,
 "nbformat_minor": 2
}
