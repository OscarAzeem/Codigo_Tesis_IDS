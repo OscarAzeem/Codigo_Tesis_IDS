{
 "cells": [
  {
   "cell_type": "code",
   "execution_count": 1,
   "metadata": {
    "collapsed": true
   },
   "outputs": [],
   "source": [
    "#Definiendo las librerias\n",
    "#importing everything\n",
    "import pandas as pd\n",
    "import numpy as np\n",
    "#visualization\n",
    "import matplotlib.pyplot as plt\n",
    "import seaborn as sns\n",
    "#printing in notebook\n",
    "%matplotlib inline"
   ]
  },
  {
   "cell_type": "code",
   "execution_count": 2,
   "metadata": {
    "collapsed": true
   },
   "outputs": [],
   "source": [
    "from my_classes_01 import Metodos_Thesis as MT"
   ]
  },
  {
   "cell_type": "code",
   "execution_count": 3,
   "metadata": {
    "collapsed": true
   },
   "outputs": [],
   "source": [
    "#Reading all the datasets :("
   ]
  },
  {
   "cell_type": "code",
   "execution_count": 4,
   "metadata": {
    "collapsed": true
   },
   "outputs": [],
   "source": [
    "#leyendo corrected (testing dataset)\n",
    "testing=pd.read_csv('./Original_Corrected_datasets/KDD/corrected.csv')"
   ]
  },
  {
   "cell_type": "code",
   "execution_count": 5,
   "metadata": {
    "collapsed": true
   },
   "outputs": [],
   "source": [
    "MC2=MT()"
   ]
  },
  {
   "cell_type": "code",
   "execution_count": 6,
   "metadata": {
    "scrolled": true
   },
   "outputs": [
    {
     "name": "stdout",
     "output_type": "stream",
     "text": [
      "Grupo de ataque: probe\n",
      "El total de valores del ataque: satan es: 1633\n",
      "El total de valores del ataque: ipsweep es: 306\n",
      "El total de valores del ataque: nmap es: 84\n",
      "El total de valores del ataque: portsweep es: 354\n",
      "El total de valores del ataque: mscan es: 1053\n",
      "El total de valores del ataque: saint es: 736\n",
      "Total= 4166\n",
      "Grupo de ataque: dos\n",
      "El total de valores del ataque: back es: 1098\n",
      "El total de valores del ataque: land es: 9\n",
      "El total de valores del ataque: neptune es: 58001\n",
      "El total de valores del ataque: pod es: 87\n",
      "El total de valores del ataque: teardrop es: 12\n",
      "El total de valores del ataque: smurf es: 164091\n",
      "El total de valores del ataque: apache2 es: 794\n",
      "El total de valores del ataque: mailbomb es: 5000\n",
      "El total de valores del ataque: processtable es: 759\n",
      "El total de valores del ataque: udpstorm es: 2\n",
      "Total= 229853\n",
      "Grupo de ataque: normal\n",
      "El total de valores del ataque: normal es: 60593\n",
      "Total= 60593\n",
      "Grupo de ataque: r2l\n",
      "El total de valores del ataque: guess_passwd es: 4367\n",
      "El total de valores del ataque: ftp_write es: 3\n",
      "El total de valores del ataque: imap es: 1\n",
      "El total de valores del ataque: multihop es: 18\n",
      "El total de valores del ataque: phf es: 2\n",
      "El total de valores del ataque: warezmaster es: 1602\n",
      "El total de valores del ataque: warezclient es: 0\n",
      "El total de valores del ataque: spy es: 0\n",
      "El total de valores del ataque: snmpgetattack es: 7741\n",
      "El total de valores del ataque: snmpguess es: 2406\n",
      "El total de valores del ataque: worm es: 2\n",
      "El total de valores del ataque: xlock es: 9\n",
      "El total de valores del ataque: xsnoop es: 4\n",
      "El total de valores del ataque: named es: 17\n",
      "El total de valores del ataque: sendmail es: 17\n",
      "Total= 16189\n",
      "Grupo de ataque: u2r\n",
      "El total de valores del ataque: buffer_overflow es: 22\n",
      "El total de valores del ataque: loadmodule es: 2\n",
      "El total de valores del ataque: perl es: 2\n",
      "El total de valores del ataque: rootkit es: 13\n",
      "El total de valores del ataque: httptunnel es: 158\n",
      "El total de valores del ataque: ps es: 16\n",
      "El total de valores del ataque: sqlattack es: 2\n",
      "El total de valores del ataque: xterm es: 13\n",
      "Total= 228\n",
      "el total general es: 311029\n"
     ]
    }
   ],
   "source": [
    "MC2.imprime_valores(testing)"
   ]
  },
  {
   "cell_type": "markdown",
   "metadata": {},
   "source": [
    "# Longitudes"
   ]
  },
  {
   "cell_type": "code",
   "execution_count": null,
   "metadata": {
    "collapsed": true
   },
   "outputs": [],
   "source": []
  }
 ],
 "metadata": {
  "kernelspec": {
   "display_name": "Python 3",
   "language": "python",
   "name": "python3"
  },
  "language_info": {
   "codemirror_mode": {
    "name": "ipython",
    "version": 3
   },
   "file_extension": ".py",
   "mimetype": "text/x-python",
   "name": "python",
   "nbconvert_exporter": "python",
   "pygments_lexer": "ipython3",
   "version": "3.6.1"
  }
 },
 "nbformat": 4,
 "nbformat_minor": 2
}
