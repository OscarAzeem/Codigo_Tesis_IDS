{
 "cells": [
  {
   "cell_type": "markdown",
   "metadata": {},
   "source": [
    "# General info of NSL-KDD99"
   ]
  },
  {
   "cell_type": "code",
   "execution_count": 2,
   "metadata": {
    "collapsed": true
   },
   "outputs": [],
   "source": [
    "from my_classes_01 import Metodos_Thesis as MT1\n",
    "import pandas as pd\n",
    "mc=MT1()"
   ]
  },
  {
   "cell_type": "code",
   "execution_count": 3,
   "metadata": {
    "collapsed": true
   },
   "outputs": [],
   "source": [
    "#Reading the datasets\n",
    "#testing\n",
    "testing=pd.read_csv(\"./dataset_labeled/nsl_testing_labeled.csv\")\n",
    "#training\n",
    "trainig=pd.read_csv(\"./dataset_labeled/nsl_training_labeled.csv\")\n"
   ]
  },
  {
   "cell_type": "code",
   "execution_count": 4,
   "metadata": {},
   "outputs": [
    {
     "name": "stdout",
     "output_type": "stream",
     "text": [
      "Grupo de ataque: probe\n",
      "El total de valores del ataque: satan es: 735\n",
      "El total de valores del ataque: ipsweep es: 141\n",
      "El total de valores del ataque: nmap es: 73\n",
      "El total de valores del ataque: portsweep es: 157\n",
      "El total de valores del ataque: mscan es: 996\n",
      "El total de valores del ataque: saint es: 319\n",
      "Total= 2421\n",
      "Grupo de ataque: dos\n",
      "El total de valores del ataque: back es: 359\n",
      "El total de valores del ataque: land es: 7\n",
      "El total de valores del ataque: neptune es: 4657\n",
      "El total de valores del ataque: pod es: 41\n",
      "El total de valores del ataque: teardrop es: 12\n",
      "El total de valores del ataque: smurf es: 665\n",
      "El total de valores del ataque: apache2 es: 737\n",
      "El total de valores del ataque: mailbomb es: 293\n",
      "El total de valores del ataque: processtable es: 685\n",
      "El total de valores del ataque: udpstorm es: 2\n",
      "Total= 7458\n",
      "Grupo de ataque: normal\n",
      "El total de valores del ataque: normal es: 9710\n",
      "Total= 9710\n",
      "Grupo de ataque: r2l\n",
      "El total de valores del ataque: guess_passwd es: 1231\n",
      "El total de valores del ataque: ftp_write es: 3\n",
      "El total de valores del ataque: imap es: 1\n",
      "El total de valores del ataque: multihop es: 18\n",
      "El total de valores del ataque: phf es: 2\n",
      "El total de valores del ataque: warezmaster es: 944\n",
      "El total de valores del ataque: warezclient es: 0\n",
      "El total de valores del ataque: spy es: 0\n",
      "El total de valores del ataque: snmpgetattack es: 178\n",
      "El total de valores del ataque: snmpguess es: 331\n",
      "El total de valores del ataque: worm es: 2\n",
      "El total de valores del ataque: xlock es: 9\n",
      "El total de valores del ataque: xsnoop es: 4\n",
      "El total de valores del ataque: named es: 17\n",
      "El total de valores del ataque: sendmail es: 14\n",
      "Total= 2754\n",
      "Grupo de ataque: u2r\n",
      "El total de valores del ataque: buffer_overflow es: 20\n",
      "El total de valores del ataque: loadmodule es: 2\n",
      "El total de valores del ataque: perl es: 2\n",
      "El total de valores del ataque: rootkit es: 13\n",
      "El total de valores del ataque: httptunnel es: 133\n",
      "El total de valores del ataque: ps es: 15\n",
      "El total de valores del ataque: sqlattack es: 2\n",
      "El total de valores del ataque: xterm es: 13\n",
      "Total= 200\n",
      "el total general es: 22543\n"
     ]
    }
   ],
   "source": [
    "mc.imprime_valores(testing)"
   ]
  },
  {
   "cell_type": "code",
   "execution_count": 5,
   "metadata": {},
   "outputs": [
    {
     "name": "stdout",
     "output_type": "stream",
     "text": [
      "Grupo de ataque: probe\n",
      "El total de valores del ataque: satan es: 3633\n",
      "El total de valores del ataque: ipsweep es: 3599\n",
      "El total de valores del ataque: nmap es: 1493\n",
      "El total de valores del ataque: portsweep es: 2931\n",
      "El total de valores del ataque: mscan es: 0\n",
      "El total de valores del ataque: saint es: 0\n",
      "Total= 11656\n",
      "Grupo de ataque: dos\n",
      "El total de valores del ataque: back es: 956\n",
      "El total de valores del ataque: land es: 18\n",
      "El total de valores del ataque: neptune es: 41214\n",
      "El total de valores del ataque: pod es: 201\n",
      "El total de valores del ataque: teardrop es: 892\n",
      "El total de valores del ataque: smurf es: 2646\n",
      "El total de valores del ataque: apache2 es: 0\n",
      "El total de valores del ataque: mailbomb es: 0\n",
      "El total de valores del ataque: processtable es: 0\n",
      "El total de valores del ataque: udpstorm es: 0\n",
      "Total= 45927\n",
      "Grupo de ataque: normal\n",
      "El total de valores del ataque: normal es: 67343\n",
      "Total= 67343\n",
      "Grupo de ataque: r2l\n",
      "El total de valores del ataque: guess_passwd es: 53\n",
      "El total de valores del ataque: ftp_write es: 8\n",
      "El total de valores del ataque: imap es: 11\n",
      "El total de valores del ataque: multihop es: 7\n",
      "El total de valores del ataque: phf es: 4\n",
      "El total de valores del ataque: warezmaster es: 20\n",
      "El total de valores del ataque: warezclient es: 890\n",
      "El total de valores del ataque: spy es: 2\n",
      "El total de valores del ataque: snmpgetattack es: 0\n",
      "El total de valores del ataque: snmpguess es: 0\n",
      "El total de valores del ataque: worm es: 0\n",
      "El total de valores del ataque: xlock es: 0\n",
      "El total de valores del ataque: xsnoop es: 0\n",
      "El total de valores del ataque: named es: 0\n",
      "El total de valores del ataque: sendmail es: 0\n",
      "Total= 995\n",
      "Grupo de ataque: u2r\n",
      "El total de valores del ataque: buffer_overflow es: 30\n",
      "El total de valores del ataque: loadmodule es: 9\n",
      "El total de valores del ataque: perl es: 3\n",
      "El total de valores del ataque: rootkit es: 10\n",
      "El total de valores del ataque: httptunnel es: 0\n",
      "El total de valores del ataque: ps es: 0\n",
      "El total de valores del ataque: sqlattack es: 0\n",
      "El total de valores del ataque: xterm es: 0\n",
      "Total= 52\n",
      "el total general es: 125973\n"
     ]
    }
   ],
   "source": [
    "mc.imprime_valores(trainig)"
   ]
  },
  {
   "cell_type": "code",
   "execution_count": null,
   "metadata": {
    "collapsed": true
   },
   "outputs": [],
   "source": []
  }
 ],
 "metadata": {
  "kernelspec": {
   "display_name": "Python 3",
   "language": "python",
   "name": "python3"
  },
  "language_info": {
   "codemirror_mode": {
    "name": "ipython",
    "version": 3
   },
   "file_extension": ".py",
   "mimetype": "text/x-python",
   "name": "python",
   "nbconvert_exporter": "python",
   "pygments_lexer": "ipython3",
   "version": "3.6.1"
  }
 },
 "nbformat": 4,
 "nbformat_minor": 2
}
