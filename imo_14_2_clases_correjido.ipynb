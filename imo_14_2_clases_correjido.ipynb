{
 "cells": [
  {
   "cell_type": "code",
   "execution_count": null,
   "metadata": {
    "collapsed": true
   },
   "outputs": [],
   "source": []
  },
  {
   "cell_type": "markdown",
   "metadata": {},
   "source": [
    "# Librerías"
   ]
  },
  {
   "cell_type": "code",
   "execution_count": 1,
   "metadata": {
    "collapsed": true
   },
   "outputs": [],
   "source": [
    "import itertools\n",
    "import time\n",
    "import numpy as np\n",
    "import pandas as pd\n",
    "import matplotlib.pyplot as plt\n",
    "from matplotlib import offsetbox\n",
    "from sklearn import (manifold, datasets, decomposition, ensemble,\n",
    "                     discriminant_analysis, random_projection)#Prueba evaluación y entrenamiento un solo individuo. \n",
    "#Vectores completos\n",
    "from sklearn.metrics import classification_report,confusion_matrix,accuracy_score\n",
    "import random"
   ]
  },
  {
   "cell_type": "code",
   "execution_count": 2,
   "metadata": {
    "collapsed": true
   },
   "outputs": [],
   "source": [
    "import seaborn as sns"
   ]
  },
  {
   "cell_type": "markdown",
   "metadata": {},
   "source": [
    "# Databases"
   ]
  },
  {
   "cell_type": "code",
   "execution_count": 3,
   "metadata": {
    "collapsed": true
   },
   "outputs": [],
   "source": [
    "#Reading all the cvs\n",
    "#Nss learning\n",
    "nsl_training=pd.read_csv('./Final_Datasets/MINMAX_FD_NSL_Tra.csv')\n",
    "#Nsl testing\n",
    "nsl_testing=pd.read_csv('./Final_Datasets/MINMAX_FD_NSL_Test.csv')"
   ]
  },
  {
   "cell_type": "markdown",
   "metadata": {},
   "source": [
    "# Labels"
   ]
  },
  {
   "cell_type": "code",
   "execution_count": 4,
   "metadata": {
    "collapsed": true
   },
   "outputs": [],
   "source": [
    "#NSL TESTING LABELS\n",
    "\n",
    "#Index binary (2 clases)\n",
    "L_nsl_testing_indexbinary=pd.read_csv(\"./Final_Datasets/L_nsl_testing_indexbinary.csv\")\n",
    "#Index by Group (5 clases)\n",
    "L_nsl_testing_indexbygroup=pd.read_csv(\"./Final_Datasets/L_nsl_testing_indexbygroup.csv\")\n",
    "#Index tipe of attack (42? clases)\n",
    "L_nsl_testing_indextipeofattack=pd.read_csv(\"./Final_Datasets/L_nsl_testing_indextipeofattack.csv\")\n",
    "\n",
    "\n",
    "#nsl TRAINING LABELS\n",
    "# 2 clases\n",
    "L_nsl_training_indexbinary=pd.read_csv(\"./Final_Datasets/L_nsl_training_indexbinary.csv\")\n",
    "#Index by Group (5 clases)\n",
    "L_nsl_training_indexbygroup=pd.read_csv(\"./Final_Datasets/L_nsl_training_indexbygroup.csv\")\n",
    "#Index tipe of attack (42? clases)\n",
    "L_nsl_training_indextipeofattack=pd.read_csv(\"./Final_Datasets/L_nsl_training_indextipeofattack.csv\")"
   ]
  },
  {
   "cell_type": "markdown",
   "metadata": {},
   "source": [
    "# Conversión de Pandas->Numpy (array) not Matrix"
   ]
  },
  {
   "cell_type": "code",
   "execution_count": 5,
   "metadata": {
    "collapsed": true
   },
   "outputs": [],
   "source": [
    "nsl_training=nsl_training.as_matrix(columns=None)\n",
    "nsl_testing=nsl_testing.as_matrix(columns=None)"
   ]
  },
  {
   "cell_type": "markdown",
   "metadata": {},
   "source": [
    "# Funcion para calcular M dependiendo de las iteraciones"
   ]
  },
  {
   "cell_type": "code",
   "execution_count": 6,
   "metadata": {
    "collapsed": true
   },
   "outputs": [],
   "source": [
    "def M_dimensiones_a_mutar(Perror,i_actual,i_max,M_Max=40):\n",
    "    iteraciones=1-(i_actual/i_max)\n",
    "    M=M_Max*np.amin([iteraciones,Perror])\n",
    "    M=np.array(np.round_(M))\n",
    "    return M"
   ]
  },
  {
   "cell_type": "markdown",
   "metadata": {},
   "source": [
    "# Funcion para calcular el rendimiento F(s)"
   ]
  },
  {
   "cell_type": "code",
   "execution_count": 7,
   "metadata": {
    "collapsed": true
   },
   "outputs": [],
   "source": [
    "def funcion_rendimiento(Perror_actual,unos,N=40,alfa=.3):\n",
    "    cardinalidad=unos\n",
    "    rendimiento=alfa*Perror_actual+(1-alfa)*(cardinalidad/N)\n",
    "    return rendimiento"
   ]
  },
  {
   "cell_type": "markdown",
   "metadata": {},
   "source": [
    "# Declaración del modelo"
   ]
  },
  {
   "cell_type": "code",
   "execution_count": 8,
   "metadata": {
    "collapsed": true
   },
   "outputs": [],
   "source": [
    "from sklearn.ensemble import RandomForestClassifier\n",
    "\n",
    "modelo=RandomForestClassifier(criterion='entropy',n_jobs=2, \n",
    "                              bootstrap=True, max_depth=10, max_features='sqrt', min_samples_leaf=2, \n",
    "                              min_samples_split=100, n_estimators=8)\n"
   ]
  },
  {
   "cell_type": "markdown",
   "metadata": {},
   "source": [
    "# Declarando e modelo para la distancia"
   ]
  },
  {
   "cell_type": "code",
   "execution_count": 9,
   "metadata": {
    "collapsed": true
   },
   "outputs": [],
   "source": [
    "from sklearn.neighbors import DistanceMetric\n",
    "dist = DistanceMetric.get_metric('jaccard')"
   ]
  },
  {
   "cell_type": "code",
   "execution_count": null,
   "metadata": {
    "collapsed": true
   },
   "outputs": [],
   "source": []
  },
  {
   "cell_type": "markdown",
   "metadata": {
    "collapsed": true
   },
   "source": [
    "# IMO"
   ]
  },
  {
   "cell_type": "markdown",
   "metadata": {},
   "source": [
    "# Funciones"
   ]
  },
  {
   "cell_type": "markdown",
   "metadata": {},
   "source": [
    "# Eval sencilla"
   ]
  },
  {
   "cell_type": "code",
   "execution_count": 10,
   "metadata": {
    "collapsed": true
   },
   "outputs": [],
   "source": [
    "#funcion para la evaluacion sencilla de un elemento\n",
    "#la evaluación sencilla consta de \n",
    "#indices_uno_poblacion, guarda los indices de la poblacion de aniones o cationes las cuales contienen los\n",
    "#parametros de 1\n",
    "def evaluacion_sencilla(poblacion,matriz_de_evaluacion,indices_unos_poblacion,modelo):\n",
    "    \"\"\"Regresa la matriz dd resultados\n",
    "    los indices dónde se encuentran los unos\"\"\"\n",
    "    for indice_elemento in list(range(0,(poblacion.shape[0]))):\n",
    "        #filtrado de la base de datos\n",
    "        training_temp=poblacion[indice_elemento]*nsl_training\n",
    "        testing_temp=poblacion[indice_elemento]*nsl_testing    \n",
    "        #se entrena el modelo\n",
    "        modelo.fit(training_temp,training_etiquetas.values.ravel())\n",
    "        #se evalua el modelo\n",
    "        predicciones_temp=modelo.predict(testing_temp)\n",
    "        #se obtiene el accuracy score\n",
    "        matriz_de_evaluacion[indice_elemento,0]=accuracy_score(testing_etiquetas,predicciones_temp)\n",
    "        #se obtiene la probabilidad de error\n",
    "        matriz_de_evaluacion[indice_elemento,1]=1-accuracy_score(testing_etiquetas,predicciones_temp)\n",
    "        #se obtienen la cantidd de los indices de los unos (dimensinoes activas)\n",
    "        matriz_de_evaluacion[indice_elemento,2]=np.array(np.where(poblacion[indice_elemento]==1)).shape[1]\n",
    "        #se obtienen los indices de los unos\n",
    "        indices_unos_poblacion.append(np.where(poblacion[indice_elemento]==1))\n",
    "        \n",
    "    return [matriz_de_evaluacion,indices_unos_poblacion]\n",
    "\n",
    "        "
   ]
  },
  {
   "cell_type": "markdown",
   "metadata": {},
   "source": [
    "# Eval compuesta"
   ]
  },
  {
   "cell_type": "code",
   "execution_count": 11,
   "metadata": {
    "collapsed": true
   },
   "outputs": [],
   "source": [
    "\n",
    "#Matriz con resultados para su actualizacion\n",
    "#0-column (distancia - Jaccard)\n",
    "#1-column (fuerza)\n",
    "#2-column (cantidad de dimensiones similares con el mejor)\n",
    "\n",
    "#funcion para la evaluacion compuesta de un elemento\n",
    "#la evaluación sencilla consta de \n",
    "def evaluacion_compuesta(poblacion,mejor_elemento_pob_contraria,matriz_de_evaluacion):\n",
    "    \"\"\"Regresa la matriz dd resultados compuestos, la cual incluye\n",
    "    distancia (jacard), fuerza, y los indices de los vectores iguales entre \n",
    "    el elemento x y el mejor de la población\"\"\"\n",
    "    for indice_elemento in list(range(0,(poblacion.shape[0]))):\n",
    "        #se calcula el indice [elemento,3]->Distancia\n",
    "        a=poblacion[indice_elemento]\n",
    "        b=mejor_elemento_pob_contraria\n",
    "        matriz_de_evaluacion[indice_elemento,3]=dist.pairwise([a,b])[0,1]\n",
    "        #se calcula el indice [elemento,4]->fuerza\n",
    "        x=matriz_de_evaluacion[indice_elemento,3]\n",
    "        fuerza=(1/(1+(2.71828**(-0.1/x))))\n",
    "        #se almacena la fuerza en la matriz\n",
    "        matriz_de_evaluacion[indice_elemento,4]=fuerza\n",
    "        #se calcula el rendimiento F(S)\n",
    "        #se calcula el indice [elemento,5]->Rendimiento\n",
    "        matriz_de_evaluacion[indice_elemento,5]=funcion_rendimiento(matriz_de_evaluacion[indice_elemento,1],\n",
    "                                matriz_de_evaluacion[indice_elemento,2],N=40,alfa=.3)\n",
    "                             \n",
    "    return [matriz_de_evaluacion]\n"
   ]
  },
  {
   "cell_type": "markdown",
   "metadata": {},
   "source": [
    "# Fase líquida"
   ]
  },
  {
   "cell_type": "code",
   "execution_count": 12,
   "metadata": {
    "collapsed": true
   },
   "outputs": [],
   "source": [
    "def fase_liquida(poblacion,mejor_pob_contraria,matriz_resultados,i_actual,i_max):\n",
    "    \"\"\"poblacion=poblacion de aniones/cationes\n",
    "    mejor_pob_contraia=mejor elemento de la poblacion contraria a partir de la cual mutar\n",
    "    fase=liquida,solida\"\"\"\n",
    "    #probando la fase líquida\n",
    "    for indice_elemento in list(range(0,(poblacion.shape[0]))):\n",
    "        \n",
    "        \n",
    "        \n",
    "        #Encuentra el total de dimensiones M posibles a mutar POR ELEMENTO\n",
    "        M=M_dimensiones_a_mutar(matriz_resultados[indice_elemento,1],i_actual,i_max)\n",
    "        \n",
    "\n",
    "        #Encuentra el total de dimensinoes posibles a mutar, dependiendo del elemento (distancia,fuerza)\n",
    "        #y que ademas depende de M\n",
    "        #posicion_temp=cantidad de dimensinoes a mutar por elemento. \n",
    "        \n",
    "        #matriz_resultados[elemento,5]->posicion\n",
    "        #matriz_resultados[elemnto,4]->fuerza\n",
    "\n",
    "        \n",
    "        #posicion temporal, maxima cantidad de dimensinoes permitidas a mutar por ese elemento\n",
    "        posicion_temp=matriz_resultados[indice_elemento,4]*M\n",
    "        #se redondea para que se un total de dimensiones entero\n",
    "        posicion_temp=int(np.round_(posicion_temp))\n",
    "\n",
    "        \n",
    "        #se actualiza la matriz de resultados\n",
    "        matriz_resultados[indice_elemento,6]=posicion_temp\n",
    "        \n",
    "        #muta unicamente los iguales, aún pese a que haya más elementos posibles a mutar M\n",
    "        #debido a la posicion_temp\n",
    "    \n",
    "        a=np.where((poblacion[indice_elemento]==mejor_pob_contraria)==False)\n",
    "        #para trabajar sin dificultades se convierte a una lista plana\n",
    "        b=np.concatenate(a).ravel().tolist()\n",
    "                \n",
    "        \n",
    "        #se seleccionan posicion_temp elementos de forma ALEATORIA, para no elegirse siempre las primeras\n",
    "        #dimensiones\n",
    "        \n",
    "        dimensiones_utilizadas=0\n",
    "        criterio_fase_solida=0\n",
    "        \n",
    "        \n",
    "        #--------------------------------\n",
    "        \n",
    "        if (len(b)!=0):\n",
    "            if (posicion_temp>len(b)):\n",
    "                #solución al problema de cuando hay más cantidad de \n",
    "                #dimensiones posibles que de elementos, es decir,\n",
    "                #se toma todo el conjunto de dimensiones iguales\n",
    "                diferentes_temp_indices=b\n",
    "                diferentes_temp_cantidad=len(diferentes_temp_indices)\n",
    "                \n",
    "\n",
    "            else:\n",
    "                \n",
    "                #cuando hay más dimensiones diferentes que dimensiones posibles a mutar\n",
    "                #se escogen de manera aleatoria\n",
    "                c=random.sample(b,posicion_temp)\n",
    "                diferentes_temp_indices=sorted(c)\n",
    "                diferentes_temp_cantidad=len(diferentes_temp_indices)\n",
    "\n",
    "                \n",
    "\n",
    "                \n",
    "            #while para mutar las dimensiones diferentes\n",
    "            #se resta uno por el while, si son 5, toma 6, debido a que empieza en cero\n",
    "            while((dimensiones_utilizadas<diferentes_temp_cantidad)):\n",
    "\n",
    "                #muta los diferentea\n",
    "                #print(\"\\n\\n\")\n",
    "                #print(diferentes_temp_indices)\n",
    "                #print(dimensiones_utilizadas)\n",
    "                #print(type(diferentes_temp_indices))\n",
    "                #print(diferentes_temp_indices[0,dimensiones_utilizadas])\n",
    "\n",
    "                if (poblacion[indice_elemento,diferentes_temp_indices[dimensiones_utilizadas]] ==0):\n",
    "                    poblacion[indice_elemento,diferentes_temp_indices[dimensiones_utilizadas]] =1\n",
    "                else:\n",
    "                    poblacion[indice_elemento,diferentes_temp_indices[dimensiones_utilizadas]] =0\n",
    "\n",
    "\n",
    "\n",
    "                dimensiones_utilizadas=dimensiones_utilizadas+1      \n",
    "                \n",
    "                \n",
    "        else:\n",
    "            #poblacion[elemento,7]->1, si todas las dimensiones son diferentes; \n",
    "            #0 en caso contrario\n",
    "            poblacion[indice_elemento,7]=1\n",
    "            #cuando son exactamente iguales el criterio para la fase sólida aumenta\n",
    "            #\n",
    "    \n",
    "    return [poblacion,matriz_resultados]\n",
    "            \n",
    "\n",
    "\n",
    "\n"
   ]
  },
  {
   "cell_type": "markdown",
   "metadata": {},
   "source": [
    "# Mejor individuo"
   ]
  },
  {
   "cell_type": "code",
   "execution_count": 13,
   "metadata": {
    "collapsed": true
   },
   "outputs": [],
   "source": [
    "def mejor_individuo(poblacion_matriz_evaluacion):\n",
    "    mejor=np.argmin(poblacion_matriz_evaluacion[:,5])\n",
    "    return mejor\n",
    "    "
   ]
  },
  {
   "cell_type": "markdown",
   "metadata": {},
   "source": [
    "# Fase SOLIDA"
   ]
  },
  {
   "cell_type": "code",
   "execution_count": 14,
   "metadata": {
    "collapsed": true
   },
   "outputs": [],
   "source": [
    "def fase_solida(poblacion,mejor_pob_contraria,matriz_resultados,i_actual,i_max):\n",
    "    \"\"\"poblacion=poblacion de aniones/cationes\n",
    "    mejor_pob_contraia=mejor elemento de la poblacion contraria a partir de la cual mutar\n",
    "    fase=liquida,solida\"\"\"\n",
    "    #probando la fase líquida\n",
    "    for indice_elemento in list(range(0,(poblacion.shape[0]))):\n",
    "        \n",
    "        \n",
    "        #Encuentra el total de dimensiones M posibles a mutar POR ELEMENTO\n",
    "        M=M_dimensiones_a_mutar(matriz_resultados[indice_elemento,1],i_actual,i_max)\n",
    "        \n",
    "        #Encuentra el total de dimensinoes posibles a mutar, dependiendo del elemento (distancia,fuerza)\n",
    "        #y que ademas depende de M\n",
    "        #posicion_temp=cantidad de dimensinoes a mutar por elemento. \n",
    "        \n",
    "        #matriz_resultados[elemento,5]->posicion\n",
    "        #matriz_resultados[elemnto,4]->fuerza\n",
    "\n",
    "        \n",
    "        #-Fase Sólida-#\n",
    "        \n",
    "        r=random.random()\n",
    "        \n",
    "        if r>0.5:\n",
    "            \n",
    "            #separacion drástica\n",
    "            #posicion temporal, maxima cantidad de dimensinoes permitidas a mutar por ese elemento\n",
    "            posicion_temp=matriz_resultados[indice_elemento,4]*M\n",
    "            #se redondea para que se un total de dimensiones entero\n",
    "            posicion_temp=int(np.round_(posicion_temp))\n",
    "            \n",
    "        else:\n",
    "            #Separacion Mesurada\n",
    "            alfa=random.uniform(.5,1)\n",
    "            #posicion temporal, maxima cantidad de dimensinoes permitidas a mutar por ese elemento\n",
    "            posicion_temp=matriz_resultados[indice_elemento,4]*M*alfa\n",
    "            #se redondea para que se un total de dimensiones entero\n",
    "            posicion_temp=int(np.round_(posicion_temp))\n",
    "\n",
    "        #-Fin fase Solida-#\n",
    "        \n",
    "        #se actualiza la matriz de resultados\n",
    "        matriz_resultados[indice_elemento,6]=posicion_temp\n",
    "        \n",
    "        #muta unicamente los iguales, aún pese a que haya más elementos posibles a mutar M\n",
    "        #debido a la posicion_temp\n",
    "    \n",
    "        a=np.where((poblacion[indice_elemento]==mejor_pob_contraria)==True)\n",
    "        #para trabajar sin dificultades se convierte a una lista plana\n",
    "        b=np.concatenate(a).ravel().tolist()\n",
    "                \n",
    "        \n",
    "        #se seleccionan posicion_temp elementos de forma ALEATORIA, para no elegirse siempre las primeras\n",
    "        #dimensiones\n",
    "        \n",
    "        dimensiones_utilizadas=0\n",
    "        criterio_fase_solida=0\n",
    "        \n",
    "        \n",
    "        #--------------------------------\n",
    "        \n",
    "        if (len(b)!=0):\n",
    "            if (posicion_temp>len(b)):\n",
    "                #solución al problema de cuando hay más cantidad de \n",
    "                #dimensiones posibles que de elementos, es decir,\n",
    "                #se toma todo el conjunto de dimensiones iguale\n",
    "                diferentes_temp_indices=b\n",
    "                diferentes_temp_cantidad=len(diferentes_temp_indices)\n",
    "                \n",
    "                \n",
    "\n",
    "            else:\n",
    "                \n",
    "                #cuando hay más dimensiones diferentes que dimensiones posibles a mutar\n",
    "                #se escogen de manera aleatoria\n",
    "                c=random.sample(b,posicion_temp)\n",
    "                diferentes_temp_indices=sorted(c)\n",
    "                diferentes_temp_cantidad=len(diferentes_temp_indices)\n",
    "\n",
    "                \n",
    "            #while para mutar las dimensiones diferentes\n",
    "            #se resta uno por el while, si son 5, toma 6, debido a que empieza en cero\n",
    "            while((dimensiones_utilizadas<diferentes_temp_cantidad)):\n",
    "                #muta los diferentea\n",
    "                #print(\"\\n\\n\")\n",
    "                #print(diferentes_temp_indices)\n",
    "                #print(dimensiones_utilizadas)\n",
    "                #print(type(diferentes_temp_indices))\n",
    "                #print(diferentes_temp_indices[0,dimensiones_utilizadas])\n",
    "                \n",
    "\n",
    "                if (poblacion[indice_elemento,diferentes_temp_indices[dimensiones_utilizadas]] ==0):\n",
    "                    poblacion[indice_elemento,diferentes_temp_indices[dimensiones_utilizadas]] =1\n",
    "                else:\n",
    "                    poblacion[indice_elemento,diferentes_temp_indices[dimensiones_utilizadas]] =0\n",
    "\n",
    "\n",
    "                dimensiones_utilizadas=dimensiones_utilizadas+1      \n",
    "                \n",
    "                \n",
    "        \n",
    "    return [poblacion,matriz_resultados]\n",
    "            \n",
    "\n",
    "\n",
    "\n"
   ]
  },
  {
   "cell_type": "code",
   "execution_count": null,
   "metadata": {
    "collapsed": true
   },
   "outputs": [],
   "source": []
  },
  {
   "cell_type": "markdown",
   "metadata": {},
   "source": [
    "## probando la primer posibilidad"
   ]
  },
  {
   "cell_type": "code",
   "execution_count": 15,
   "metadata": {
    "collapsed": true
   },
   "outputs": [],
   "source": [
    "#etiquetas para el modelo\n",
    "training_etiquetas=L_nsl_training_indexbinary\n",
    "testing_etiquetas=L_nsl_testing_indexbinary"
   ]
  },
  {
   "cell_type": "markdown",
   "metadata": {},
   "source": [
    "# Funcion general IMO"
   ]
  },
  {
   "cell_type": "code",
   "execution_count": 16,
   "metadata": {},
   "outputs": [
    {
     "name": "stdout",
     "output_type": "stream",
     "text": [
      "\n",
      "\n",
      " Corrida 0 de: 5\n"
     ]
    },
    {
     "name": "stderr",
     "output_type": "stream",
     "text": [
      "/Users/Azeem/anaconda/lib/python3.6/site-packages/ipykernel_launcher.py:20: RuntimeWarning: divide by zero encountered in double_scalars\n",
      "/Users/Azeem/anaconda/lib/python3.6/site-packages/ipykernel_launcher.py:20: RuntimeWarning: divide by zero encountered in double_scalars\n",
      "/Users/Azeem/anaconda/lib/python3.6/site-packages/ipykernel_launcher.py:20: RuntimeWarning: divide by zero encountered in double_scalars\n",
      "/Users/Azeem/anaconda/lib/python3.6/site-packages/ipykernel_launcher.py:20: RuntimeWarning: divide by zero encountered in double_scalars\n",
      "/Users/Azeem/anaconda/lib/python3.6/site-packages/ipykernel_launcher.py:20: RuntimeWarning: divide by zero encountered in double_scalars\n",
      "/Users/Azeem/anaconda/lib/python3.6/site-packages/ipykernel_launcher.py:20: RuntimeWarning: divide by zero encountered in double_scalars\n",
      "/Users/Azeem/anaconda/lib/python3.6/site-packages/ipykernel_launcher.py:20: RuntimeWarning: divide by zero encountered in double_scalars\n",
      "/Users/Azeem/anaconda/lib/python3.6/site-packages/ipykernel_launcher.py:20: RuntimeWarning: divide by zero encountered in double_scalars\n",
      "/Users/Azeem/anaconda/lib/python3.6/site-packages/ipykernel_launcher.py:20: RuntimeWarning: divide by zero encountered in double_scalars\n",
      "/Users/Azeem/anaconda/lib/python3.6/site-packages/ipykernel_launcher.py:20: RuntimeWarning: divide by zero encountered in double_scalars\n",
      "/Users/Azeem/anaconda/lib/python3.6/site-packages/ipykernel_launcher.py:20: RuntimeWarning: divide by zero encountered in double_scalars\n",
      "/Users/Azeem/anaconda/lib/python3.6/site-packages/ipykernel_launcher.py:20: RuntimeWarning: divide by zero encountered in double_scalars\n",
      "/Users/Azeem/anaconda/lib/python3.6/site-packages/ipykernel_launcher.py:20: RuntimeWarning: divide by zero encountered in double_scalars\n",
      "/Users/Azeem/anaconda/lib/python3.6/site-packages/ipykernel_launcher.py:20: RuntimeWarning: divide by zero encountered in double_scalars\n",
      "/Users/Azeem/anaconda/lib/python3.6/site-packages/ipykernel_launcher.py:20: RuntimeWarning: divide by zero encountered in double_scalars\n",
      "/Users/Azeem/anaconda/lib/python3.6/site-packages/ipykernel_launcher.py:20: RuntimeWarning: divide by zero encountered in double_scalars\n",
      "/Users/Azeem/anaconda/lib/python3.6/site-packages/ipykernel_launcher.py:20: RuntimeWarning: divide by zero encountered in double_scalars\n",
      "/Users/Azeem/anaconda/lib/python3.6/site-packages/ipykernel_launcher.py:20: RuntimeWarning: divide by zero encountered in double_scalars\n",
      "/Users/Azeem/anaconda/lib/python3.6/site-packages/ipykernel_launcher.py:20: RuntimeWarning: divide by zero encountered in double_scalars\n",
      "/Users/Azeem/anaconda/lib/python3.6/site-packages/ipykernel_launcher.py:20: RuntimeWarning: divide by zero encountered in double_scalars\n",
      "/Users/Azeem/anaconda/lib/python3.6/site-packages/ipykernel_launcher.py:20: RuntimeWarning: divide by zero encountered in double_scalars\n",
      "/Users/Azeem/anaconda/lib/python3.6/site-packages/ipykernel_launcher.py:20: RuntimeWarning: divide by zero encountered in double_scalars\n",
      "/Users/Azeem/anaconda/lib/python3.6/site-packages/ipykernel_launcher.py:20: RuntimeWarning: divide by zero encountered in double_scalars\n",
      "/Users/Azeem/anaconda/lib/python3.6/site-packages/ipykernel_launcher.py:20: RuntimeWarning: divide by zero encountered in double_scalars\n",
      "/Users/Azeem/anaconda/lib/python3.6/site-packages/ipykernel_launcher.py:20: RuntimeWarning: divide by zero encountered in double_scalars\n",
      "/Users/Azeem/anaconda/lib/python3.6/site-packages/ipykernel_launcher.py:20: RuntimeWarning: divide by zero encountered in double_scalars\n",
      "/Users/Azeem/anaconda/lib/python3.6/site-packages/ipykernel_launcher.py:20: RuntimeWarning: divide by zero encountered in double_scalars\n",
      "/Users/Azeem/anaconda/lib/python3.6/site-packages/ipykernel_launcher.py:20: RuntimeWarning: divide by zero encountered in double_scalars\n",
      "/Users/Azeem/anaconda/lib/python3.6/site-packages/ipykernel_launcher.py:20: RuntimeWarning: divide by zero encountered in double_scalars\n",
      "/Users/Azeem/anaconda/lib/python3.6/site-packages/ipykernel_launcher.py:20: RuntimeWarning: divide by zero encountered in double_scalars\n",
      "/Users/Azeem/anaconda/lib/python3.6/site-packages/ipykernel_launcher.py:20: RuntimeWarning: divide by zero encountered in double_scalars\n",
      "/Users/Azeem/anaconda/lib/python3.6/site-packages/ipykernel_launcher.py:20: RuntimeWarning: divide by zero encountered in double_scalars\n",
      "/Users/Azeem/anaconda/lib/python3.6/site-packages/ipykernel_launcher.py:20: RuntimeWarning: divide by zero encountered in double_scalars\n",
      "/Users/Azeem/anaconda/lib/python3.6/site-packages/ipykernel_launcher.py:20: RuntimeWarning: divide by zero encountered in double_scalars\n",
      "/Users/Azeem/anaconda/lib/python3.6/site-packages/ipykernel_launcher.py:20: RuntimeWarning: divide by zero encountered in double_scalars\n"
     ]
    },
    {
     "name": "stdout",
     "output_type": "stream",
     "text": [
      "\n",
      "\n",
      " Corrida 1 de: 5\n"
     ]
    },
    {
     "name": "stderr",
     "output_type": "stream",
     "text": [
      "/Users/Azeem/anaconda/lib/python3.6/site-packages/ipykernel_launcher.py:20: RuntimeWarning: divide by zero encountered in double_scalars\n",
      "/Users/Azeem/anaconda/lib/python3.6/site-packages/ipykernel_launcher.py:20: RuntimeWarning: divide by zero encountered in double_scalars\n",
      "/Users/Azeem/anaconda/lib/python3.6/site-packages/ipykernel_launcher.py:20: RuntimeWarning: divide by zero encountered in double_scalars\n",
      "/Users/Azeem/anaconda/lib/python3.6/site-packages/ipykernel_launcher.py:20: RuntimeWarning: divide by zero encountered in double_scalars\n",
      "/Users/Azeem/anaconda/lib/python3.6/site-packages/ipykernel_launcher.py:20: RuntimeWarning: divide by zero encountered in double_scalars\n",
      "/Users/Azeem/anaconda/lib/python3.6/site-packages/ipykernel_launcher.py:20: RuntimeWarning: divide by zero encountered in double_scalars\n",
      "/Users/Azeem/anaconda/lib/python3.6/site-packages/ipykernel_launcher.py:20: RuntimeWarning: divide by zero encountered in double_scalars\n",
      "/Users/Azeem/anaconda/lib/python3.6/site-packages/ipykernel_launcher.py:20: RuntimeWarning: divide by zero encountered in double_scalars\n",
      "/Users/Azeem/anaconda/lib/python3.6/site-packages/ipykernel_launcher.py:20: RuntimeWarning: divide by zero encountered in double_scalars\n",
      "/Users/Azeem/anaconda/lib/python3.6/site-packages/ipykernel_launcher.py:20: RuntimeWarning: divide by zero encountered in double_scalars\n",
      "/Users/Azeem/anaconda/lib/python3.6/site-packages/ipykernel_launcher.py:20: RuntimeWarning: divide by zero encountered in double_scalars\n",
      "/Users/Azeem/anaconda/lib/python3.6/site-packages/ipykernel_launcher.py:20: RuntimeWarning: divide by zero encountered in double_scalars\n",
      "/Users/Azeem/anaconda/lib/python3.6/site-packages/ipykernel_launcher.py:20: RuntimeWarning: divide by zero encountered in double_scalars\n",
      "/Users/Azeem/anaconda/lib/python3.6/site-packages/ipykernel_launcher.py:20: RuntimeWarning: divide by zero encountered in double_scalars\n",
      "/Users/Azeem/anaconda/lib/python3.6/site-packages/ipykernel_launcher.py:20: RuntimeWarning: divide by zero encountered in double_scalars\n",
      "/Users/Azeem/anaconda/lib/python3.6/site-packages/ipykernel_launcher.py:20: RuntimeWarning: divide by zero encountered in double_scalars\n",
      "/Users/Azeem/anaconda/lib/python3.6/site-packages/ipykernel_launcher.py:20: RuntimeWarning: divide by zero encountered in double_scalars\n",
      "/Users/Azeem/anaconda/lib/python3.6/site-packages/ipykernel_launcher.py:20: RuntimeWarning: divide by zero encountered in double_scalars\n",
      "/Users/Azeem/anaconda/lib/python3.6/site-packages/ipykernel_launcher.py:20: RuntimeWarning: divide by zero encountered in double_scalars\n",
      "/Users/Azeem/anaconda/lib/python3.6/site-packages/ipykernel_launcher.py:20: RuntimeWarning: divide by zero encountered in double_scalars\n",
      "/Users/Azeem/anaconda/lib/python3.6/site-packages/ipykernel_launcher.py:20: RuntimeWarning: divide by zero encountered in double_scalars\n",
      "/Users/Azeem/anaconda/lib/python3.6/site-packages/ipykernel_launcher.py:20: RuntimeWarning: divide by zero encountered in double_scalars\n",
      "/Users/Azeem/anaconda/lib/python3.6/site-packages/ipykernel_launcher.py:20: RuntimeWarning: divide by zero encountered in double_scalars\n",
      "/Users/Azeem/anaconda/lib/python3.6/site-packages/ipykernel_launcher.py:20: RuntimeWarning: divide by zero encountered in double_scalars\n",
      "/Users/Azeem/anaconda/lib/python3.6/site-packages/ipykernel_launcher.py:20: RuntimeWarning: divide by zero encountered in double_scalars\n",
      "/Users/Azeem/anaconda/lib/python3.6/site-packages/ipykernel_launcher.py:20: RuntimeWarning: divide by zero encountered in double_scalars\n",
      "/Users/Azeem/anaconda/lib/python3.6/site-packages/ipykernel_launcher.py:20: RuntimeWarning: divide by zero encountered in double_scalars\n",
      "/Users/Azeem/anaconda/lib/python3.6/site-packages/ipykernel_launcher.py:20: RuntimeWarning: divide by zero encountered in double_scalars\n",
      "/Users/Azeem/anaconda/lib/python3.6/site-packages/ipykernel_launcher.py:20: RuntimeWarning: divide by zero encountered in double_scalars\n",
      "/Users/Azeem/anaconda/lib/python3.6/site-packages/ipykernel_launcher.py:20: RuntimeWarning: divide by zero encountered in double_scalars\n",
      "/Users/Azeem/anaconda/lib/python3.6/site-packages/ipykernel_launcher.py:20: RuntimeWarning: divide by zero encountered in double_scalars\n",
      "/Users/Azeem/anaconda/lib/python3.6/site-packages/ipykernel_launcher.py:20: RuntimeWarning: divide by zero encountered in double_scalars\n",
      "/Users/Azeem/anaconda/lib/python3.6/site-packages/ipykernel_launcher.py:20: RuntimeWarning: divide by zero encountered in double_scalars\n",
      "/Users/Azeem/anaconda/lib/python3.6/site-packages/ipykernel_launcher.py:20: RuntimeWarning: divide by zero encountered in double_scalars\n",
      "/Users/Azeem/anaconda/lib/python3.6/site-packages/ipykernel_launcher.py:20: RuntimeWarning: divide by zero encountered in double_scalars\n",
      "/Users/Azeem/anaconda/lib/python3.6/site-packages/ipykernel_launcher.py:20: RuntimeWarning: divide by zero encountered in double_scalars\n",
      "/Users/Azeem/anaconda/lib/python3.6/site-packages/ipykernel_launcher.py:20: RuntimeWarning: divide by zero encountered in double_scalars\n",
      "/Users/Azeem/anaconda/lib/python3.6/site-packages/ipykernel_launcher.py:20: RuntimeWarning: divide by zero encountered in double_scalars\n",
      "/Users/Azeem/anaconda/lib/python3.6/site-packages/ipykernel_launcher.py:20: RuntimeWarning: divide by zero encountered in double_scalars\n",
      "/Users/Azeem/anaconda/lib/python3.6/site-packages/ipykernel_launcher.py:20: RuntimeWarning: divide by zero encountered in double_scalars\n"
     ]
    },
    {
     "name": "stdout",
     "output_type": "stream",
     "text": [
      "\n",
      "\n",
      " Corrida 2 de: 5\n"
     ]
    },
    {
     "name": "stderr",
     "output_type": "stream",
     "text": [
      "/Users/Azeem/anaconda/lib/python3.6/site-packages/ipykernel_launcher.py:20: RuntimeWarning: divide by zero encountered in double_scalars\n",
      "/Users/Azeem/anaconda/lib/python3.6/site-packages/ipykernel_launcher.py:20: RuntimeWarning: divide by zero encountered in double_scalars\n",
      "/Users/Azeem/anaconda/lib/python3.6/site-packages/ipykernel_launcher.py:20: RuntimeWarning: divide by zero encountered in double_scalars\n",
      "/Users/Azeem/anaconda/lib/python3.6/site-packages/ipykernel_launcher.py:20: RuntimeWarning: divide by zero encountered in double_scalars\n",
      "/Users/Azeem/anaconda/lib/python3.6/site-packages/ipykernel_launcher.py:20: RuntimeWarning: divide by zero encountered in double_scalars\n",
      "/Users/Azeem/anaconda/lib/python3.6/site-packages/ipykernel_launcher.py:20: RuntimeWarning: divide by zero encountered in double_scalars\n",
      "/Users/Azeem/anaconda/lib/python3.6/site-packages/ipykernel_launcher.py:20: RuntimeWarning: divide by zero encountered in double_scalars\n",
      "/Users/Azeem/anaconda/lib/python3.6/site-packages/ipykernel_launcher.py:20: RuntimeWarning: divide by zero encountered in double_scalars\n",
      "/Users/Azeem/anaconda/lib/python3.6/site-packages/ipykernel_launcher.py:20: RuntimeWarning: divide by zero encountered in double_scalars\n",
      "/Users/Azeem/anaconda/lib/python3.6/site-packages/ipykernel_launcher.py:20: RuntimeWarning: divide by zero encountered in double_scalars\n",
      "/Users/Azeem/anaconda/lib/python3.6/site-packages/ipykernel_launcher.py:20: RuntimeWarning: divide by zero encountered in double_scalars\n",
      "/Users/Azeem/anaconda/lib/python3.6/site-packages/ipykernel_launcher.py:20: RuntimeWarning: divide by zero encountered in double_scalars\n",
      "/Users/Azeem/anaconda/lib/python3.6/site-packages/ipykernel_launcher.py:20: RuntimeWarning: divide by zero encountered in double_scalars\n",
      "/Users/Azeem/anaconda/lib/python3.6/site-packages/ipykernel_launcher.py:20: RuntimeWarning: divide by zero encountered in double_scalars\n",
      "/Users/Azeem/anaconda/lib/python3.6/site-packages/ipykernel_launcher.py:20: RuntimeWarning: divide by zero encountered in double_scalars\n",
      "/Users/Azeem/anaconda/lib/python3.6/site-packages/ipykernel_launcher.py:20: RuntimeWarning: divide by zero encountered in double_scalars\n",
      "/Users/Azeem/anaconda/lib/python3.6/site-packages/ipykernel_launcher.py:20: RuntimeWarning: divide by zero encountered in double_scalars\n",
      "/Users/Azeem/anaconda/lib/python3.6/site-packages/ipykernel_launcher.py:20: RuntimeWarning: divide by zero encountered in double_scalars\n",
      "/Users/Azeem/anaconda/lib/python3.6/site-packages/ipykernel_launcher.py:20: RuntimeWarning: divide by zero encountered in double_scalars\n",
      "/Users/Azeem/anaconda/lib/python3.6/site-packages/ipykernel_launcher.py:20: RuntimeWarning: divide by zero encountered in double_scalars\n",
      "/Users/Azeem/anaconda/lib/python3.6/site-packages/ipykernel_launcher.py:20: RuntimeWarning: divide by zero encountered in double_scalars\n",
      "/Users/Azeem/anaconda/lib/python3.6/site-packages/ipykernel_launcher.py:20: RuntimeWarning: divide by zero encountered in double_scalars\n",
      "/Users/Azeem/anaconda/lib/python3.6/site-packages/ipykernel_launcher.py:20: RuntimeWarning: divide by zero encountered in double_scalars\n",
      "/Users/Azeem/anaconda/lib/python3.6/site-packages/ipykernel_launcher.py:20: RuntimeWarning: divide by zero encountered in double_scalars\n",
      "/Users/Azeem/anaconda/lib/python3.6/site-packages/ipykernel_launcher.py:20: RuntimeWarning: divide by zero encountered in double_scalars\n",
      "/Users/Azeem/anaconda/lib/python3.6/site-packages/ipykernel_launcher.py:20: RuntimeWarning: divide by zero encountered in double_scalars\n",
      "/Users/Azeem/anaconda/lib/python3.6/site-packages/ipykernel_launcher.py:20: RuntimeWarning: divide by zero encountered in double_scalars\n",
      "/Users/Azeem/anaconda/lib/python3.6/site-packages/ipykernel_launcher.py:20: RuntimeWarning: divide by zero encountered in double_scalars\n",
      "/Users/Azeem/anaconda/lib/python3.6/site-packages/ipykernel_launcher.py:20: RuntimeWarning: divide by zero encountered in double_scalars\n",
      "/Users/Azeem/anaconda/lib/python3.6/site-packages/ipykernel_launcher.py:20: RuntimeWarning: divide by zero encountered in double_scalars\n",
      "/Users/Azeem/anaconda/lib/python3.6/site-packages/ipykernel_launcher.py:20: RuntimeWarning: divide by zero encountered in double_scalars\n",
      "/Users/Azeem/anaconda/lib/python3.6/site-packages/ipykernel_launcher.py:20: RuntimeWarning: divide by zero encountered in double_scalars\n",
      "/Users/Azeem/anaconda/lib/python3.6/site-packages/ipykernel_launcher.py:20: RuntimeWarning: divide by zero encountered in double_scalars\n",
      "/Users/Azeem/anaconda/lib/python3.6/site-packages/ipykernel_launcher.py:20: RuntimeWarning: divide by zero encountered in double_scalars\n",
      "/Users/Azeem/anaconda/lib/python3.6/site-packages/ipykernel_launcher.py:20: RuntimeWarning: divide by zero encountered in double_scalars\n",
      "/Users/Azeem/anaconda/lib/python3.6/site-packages/ipykernel_launcher.py:20: RuntimeWarning: divide by zero encountered in double_scalars\n",
      "/Users/Azeem/anaconda/lib/python3.6/site-packages/ipykernel_launcher.py:20: RuntimeWarning: divide by zero encountered in double_scalars\n",
      "/Users/Azeem/anaconda/lib/python3.6/site-packages/ipykernel_launcher.py:20: RuntimeWarning: divide by zero encountered in double_scalars\n",
      "/Users/Azeem/anaconda/lib/python3.6/site-packages/ipykernel_launcher.py:20: RuntimeWarning: divide by zero encountered in double_scalars\n"
     ]
    },
    {
     "name": "stdout",
     "output_type": "stream",
     "text": [
      "\n",
      "\n",
      " Corrida 3 de: 5\n"
     ]
    },
    {
     "name": "stderr",
     "output_type": "stream",
     "text": [
      "/Users/Azeem/anaconda/lib/python3.6/site-packages/ipykernel_launcher.py:20: RuntimeWarning: divide by zero encountered in double_scalars\n",
      "/Users/Azeem/anaconda/lib/python3.6/site-packages/ipykernel_launcher.py:20: RuntimeWarning: divide by zero encountered in double_scalars\n",
      "/Users/Azeem/anaconda/lib/python3.6/site-packages/ipykernel_launcher.py:20: RuntimeWarning: divide by zero encountered in double_scalars\n",
      "/Users/Azeem/anaconda/lib/python3.6/site-packages/ipykernel_launcher.py:20: RuntimeWarning: divide by zero encountered in double_scalars\n",
      "/Users/Azeem/anaconda/lib/python3.6/site-packages/ipykernel_launcher.py:20: RuntimeWarning: divide by zero encountered in double_scalars\n",
      "/Users/Azeem/anaconda/lib/python3.6/site-packages/ipykernel_launcher.py:20: RuntimeWarning: divide by zero encountered in double_scalars\n",
      "/Users/Azeem/anaconda/lib/python3.6/site-packages/ipykernel_launcher.py:20: RuntimeWarning: divide by zero encountered in double_scalars\n",
      "/Users/Azeem/anaconda/lib/python3.6/site-packages/ipykernel_launcher.py:20: RuntimeWarning: divide by zero encountered in double_scalars\n",
      "/Users/Azeem/anaconda/lib/python3.6/site-packages/ipykernel_launcher.py:20: RuntimeWarning: divide by zero encountered in double_scalars\n",
      "/Users/Azeem/anaconda/lib/python3.6/site-packages/ipykernel_launcher.py:20: RuntimeWarning: divide by zero encountered in double_scalars\n",
      "/Users/Azeem/anaconda/lib/python3.6/site-packages/ipykernel_launcher.py:20: RuntimeWarning: divide by zero encountered in double_scalars\n",
      "/Users/Azeem/anaconda/lib/python3.6/site-packages/ipykernel_launcher.py:20: RuntimeWarning: divide by zero encountered in double_scalars\n",
      "/Users/Azeem/anaconda/lib/python3.6/site-packages/ipykernel_launcher.py:20: RuntimeWarning: divide by zero encountered in double_scalars\n",
      "/Users/Azeem/anaconda/lib/python3.6/site-packages/ipykernel_launcher.py:20: RuntimeWarning: divide by zero encountered in double_scalars\n",
      "/Users/Azeem/anaconda/lib/python3.6/site-packages/ipykernel_launcher.py:20: RuntimeWarning: divide by zero encountered in double_scalars\n",
      "/Users/Azeem/anaconda/lib/python3.6/site-packages/ipykernel_launcher.py:20: RuntimeWarning: divide by zero encountered in double_scalars\n",
      "/Users/Azeem/anaconda/lib/python3.6/site-packages/ipykernel_launcher.py:20: RuntimeWarning: divide by zero encountered in double_scalars\n",
      "/Users/Azeem/anaconda/lib/python3.6/site-packages/ipykernel_launcher.py:20: RuntimeWarning: divide by zero encountered in double_scalars\n",
      "/Users/Azeem/anaconda/lib/python3.6/site-packages/ipykernel_launcher.py:20: RuntimeWarning: divide by zero encountered in double_scalars\n",
      "/Users/Azeem/anaconda/lib/python3.6/site-packages/ipykernel_launcher.py:20: RuntimeWarning: divide by zero encountered in double_scalars\n",
      "/Users/Azeem/anaconda/lib/python3.6/site-packages/ipykernel_launcher.py:20: RuntimeWarning: divide by zero encountered in double_scalars\n",
      "/Users/Azeem/anaconda/lib/python3.6/site-packages/ipykernel_launcher.py:20: RuntimeWarning: divide by zero encountered in double_scalars\n",
      "/Users/Azeem/anaconda/lib/python3.6/site-packages/ipykernel_launcher.py:20: RuntimeWarning: divide by zero encountered in double_scalars\n",
      "/Users/Azeem/anaconda/lib/python3.6/site-packages/ipykernel_launcher.py:20: RuntimeWarning: divide by zero encountered in double_scalars\n",
      "/Users/Azeem/anaconda/lib/python3.6/site-packages/ipykernel_launcher.py:20: RuntimeWarning: divide by zero encountered in double_scalars\n",
      "/Users/Azeem/anaconda/lib/python3.6/site-packages/ipykernel_launcher.py:20: RuntimeWarning: divide by zero encountered in double_scalars\n",
      "/Users/Azeem/anaconda/lib/python3.6/site-packages/ipykernel_launcher.py:20: RuntimeWarning: divide by zero encountered in double_scalars\n",
      "/Users/Azeem/anaconda/lib/python3.6/site-packages/ipykernel_launcher.py:20: RuntimeWarning: divide by zero encountered in double_scalars\n",
      "/Users/Azeem/anaconda/lib/python3.6/site-packages/ipykernel_launcher.py:20: RuntimeWarning: divide by zero encountered in double_scalars\n",
      "/Users/Azeem/anaconda/lib/python3.6/site-packages/ipykernel_launcher.py:20: RuntimeWarning: divide by zero encountered in double_scalars\n",
      "/Users/Azeem/anaconda/lib/python3.6/site-packages/ipykernel_launcher.py:20: RuntimeWarning: divide by zero encountered in double_scalars\n",
      "/Users/Azeem/anaconda/lib/python3.6/site-packages/ipykernel_launcher.py:20: RuntimeWarning: divide by zero encountered in double_scalars\n",
      "/Users/Azeem/anaconda/lib/python3.6/site-packages/ipykernel_launcher.py:20: RuntimeWarning: divide by zero encountered in double_scalars\n",
      "/Users/Azeem/anaconda/lib/python3.6/site-packages/ipykernel_launcher.py:20: RuntimeWarning: divide by zero encountered in double_scalars\n",
      "/Users/Azeem/anaconda/lib/python3.6/site-packages/ipykernel_launcher.py:20: RuntimeWarning: divide by zero encountered in double_scalars\n"
     ]
    },
    {
     "name": "stdout",
     "output_type": "stream",
     "text": [
      "\n",
      "\n",
      " Corrida 4 de: 5\n"
     ]
    },
    {
     "name": "stderr",
     "output_type": "stream",
     "text": [
      "/Users/Azeem/anaconda/lib/python3.6/site-packages/ipykernel_launcher.py:20: RuntimeWarning: divide by zero encountered in double_scalars\n",
      "/Users/Azeem/anaconda/lib/python3.6/site-packages/ipykernel_launcher.py:20: RuntimeWarning: divide by zero encountered in double_scalars\n",
      "/Users/Azeem/anaconda/lib/python3.6/site-packages/ipykernel_launcher.py:20: RuntimeWarning: divide by zero encountered in double_scalars\n",
      "/Users/Azeem/anaconda/lib/python3.6/site-packages/ipykernel_launcher.py:20: RuntimeWarning: divide by zero encountered in double_scalars\n",
      "/Users/Azeem/anaconda/lib/python3.6/site-packages/ipykernel_launcher.py:20: RuntimeWarning: divide by zero encountered in double_scalars\n",
      "/Users/Azeem/anaconda/lib/python3.6/site-packages/ipykernel_launcher.py:20: RuntimeWarning: divide by zero encountered in double_scalars\n",
      "/Users/Azeem/anaconda/lib/python3.6/site-packages/ipykernel_launcher.py:20: RuntimeWarning: divide by zero encountered in double_scalars\n",
      "/Users/Azeem/anaconda/lib/python3.6/site-packages/ipykernel_launcher.py:20: RuntimeWarning: divide by zero encountered in double_scalars\n",
      "/Users/Azeem/anaconda/lib/python3.6/site-packages/ipykernel_launcher.py:20: RuntimeWarning: divide by zero encountered in double_scalars\n",
      "/Users/Azeem/anaconda/lib/python3.6/site-packages/ipykernel_launcher.py:20: RuntimeWarning: divide by zero encountered in double_scalars\n",
      "/Users/Azeem/anaconda/lib/python3.6/site-packages/ipykernel_launcher.py:20: RuntimeWarning: divide by zero encountered in double_scalars\n",
      "/Users/Azeem/anaconda/lib/python3.6/site-packages/ipykernel_launcher.py:20: RuntimeWarning: divide by zero encountered in double_scalars\n",
      "/Users/Azeem/anaconda/lib/python3.6/site-packages/ipykernel_launcher.py:20: RuntimeWarning: divide by zero encountered in double_scalars\n",
      "/Users/Azeem/anaconda/lib/python3.6/site-packages/ipykernel_launcher.py:20: RuntimeWarning: divide by zero encountered in double_scalars\n",
      "/Users/Azeem/anaconda/lib/python3.6/site-packages/ipykernel_launcher.py:20: RuntimeWarning: divide by zero encountered in double_scalars\n",
      "/Users/Azeem/anaconda/lib/python3.6/site-packages/ipykernel_launcher.py:20: RuntimeWarning: divide by zero encountered in double_scalars\n",
      "/Users/Azeem/anaconda/lib/python3.6/site-packages/ipykernel_launcher.py:20: RuntimeWarning: divide by zero encountered in double_scalars\n",
      "/Users/Azeem/anaconda/lib/python3.6/site-packages/ipykernel_launcher.py:20: RuntimeWarning: divide by zero encountered in double_scalars\n",
      "/Users/Azeem/anaconda/lib/python3.6/site-packages/ipykernel_launcher.py:20: RuntimeWarning: divide by zero encountered in double_scalars\n",
      "/Users/Azeem/anaconda/lib/python3.6/site-packages/ipykernel_launcher.py:20: RuntimeWarning: divide by zero encountered in double_scalars\n",
      "/Users/Azeem/anaconda/lib/python3.6/site-packages/ipykernel_launcher.py:20: RuntimeWarning: divide by zero encountered in double_scalars\n",
      "/Users/Azeem/anaconda/lib/python3.6/site-packages/ipykernel_launcher.py:20: RuntimeWarning: divide by zero encountered in double_scalars\n",
      "/Users/Azeem/anaconda/lib/python3.6/site-packages/ipykernel_launcher.py:20: RuntimeWarning: divide by zero encountered in double_scalars\n",
      "/Users/Azeem/anaconda/lib/python3.6/site-packages/ipykernel_launcher.py:20: RuntimeWarning: divide by zero encountered in double_scalars\n",
      "/Users/Azeem/anaconda/lib/python3.6/site-packages/ipykernel_launcher.py:20: RuntimeWarning: divide by zero encountered in double_scalars\n",
      "/Users/Azeem/anaconda/lib/python3.6/site-packages/ipykernel_launcher.py:20: RuntimeWarning: divide by zero encountered in double_scalars\n",
      "/Users/Azeem/anaconda/lib/python3.6/site-packages/ipykernel_launcher.py:20: RuntimeWarning: divide by zero encountered in double_scalars\n",
      "/Users/Azeem/anaconda/lib/python3.6/site-packages/ipykernel_launcher.py:20: RuntimeWarning: divide by zero encountered in double_scalars\n",
      "/Users/Azeem/anaconda/lib/python3.6/site-packages/ipykernel_launcher.py:20: RuntimeWarning: divide by zero encountered in double_scalars\n",
      "/Users/Azeem/anaconda/lib/python3.6/site-packages/ipykernel_launcher.py:20: RuntimeWarning: divide by zero encountered in double_scalars\n",
      "/Users/Azeem/anaconda/lib/python3.6/site-packages/ipykernel_launcher.py:20: RuntimeWarning: divide by zero encountered in double_scalars\n",
      "/Users/Azeem/anaconda/lib/python3.6/site-packages/ipykernel_launcher.py:20: RuntimeWarning: divide by zero encountered in double_scalars\n",
      "/Users/Azeem/anaconda/lib/python3.6/site-packages/ipykernel_launcher.py:20: RuntimeWarning: divide by zero encountered in double_scalars\n",
      "/Users/Azeem/anaconda/lib/python3.6/site-packages/ipykernel_launcher.py:20: RuntimeWarning: divide by zero encountered in double_scalars\n",
      "/Users/Azeem/anaconda/lib/python3.6/site-packages/ipykernel_launcher.py:20: RuntimeWarning: divide by zero encountered in double_scalars\n",
      "/Users/Azeem/anaconda/lib/python3.6/site-packages/ipykernel_launcher.py:20: RuntimeWarning: divide by zero encountered in double_scalars\n",
      "/Users/Azeem/anaconda/lib/python3.6/site-packages/ipykernel_launcher.py:20: RuntimeWarning: divide by zero encountered in double_scalars\n",
      "/Users/Azeem/anaconda/lib/python3.6/site-packages/ipykernel_launcher.py:20: RuntimeWarning: divide by zero encountered in double_scalars\n",
      "/Users/Azeem/anaconda/lib/python3.6/site-packages/ipykernel_launcher.py:20: RuntimeWarning: divide by zero encountered in double_scalars\n"
     ]
    },
    {
     "name": "stdout",
     "output_type": "stream",
     "text": [
      "\n",
      " Tiempo de IMO\n",
      "\n",
      "--- 6335.1202738285065 seconds ---\n"
     ]
    }
   ],
   "source": [
    "#Registros de resultados GLOBALES\n",
    "resultados_score=[]\n",
    "resultados_cantidad_dimensiones=[]\n",
    "resultados_rendimiento=[]\n",
    "resultados_dimensiones_activas=[]\n",
    "resultados_indices_dimensiones_activas=[]\n",
    "\n",
    "#while\n",
    "iteracion_general=0\n",
    "maxima_cantidad_de_corridas=5\n",
    "start_time = time.time()\n",
    "\n",
    "while iteracion_general<maxima_cantidad_de_corridas:\n",
    "    print(\"\\n\\n Corrida %s de: %s\" % (iteracion_general,maxima_cantidad_de_corridas))\n",
    "    \n",
    "    i=0\n",
    "    M=38\n",
    "    iteraciones_maximas=100\n",
    "    \n",
    "\n",
    "    #REGISTRO DE RESULTADOS POR EJECUCION DE EJERCICIO (300 iteraciones)\n",
    "    \n",
    "    #registro de la probabilidad de error de los valores aceptados\n",
    "    registro_perror_valores_aceptados=[]\n",
    "    #almacena unicamente el score de los vectores binarios aceptados\n",
    "    registro_score_valores_aceptados=[]\n",
    "    #almacena el vector binario de los valores aceptados (dimensiones_activas)\n",
    "    #es un sinonimo de la mejor solucion del espacio de búsqueda\n",
    "    registro_dimensiones_activas_valores_aceptados=[]\n",
    "    #registro cantidad de dimensiones activas de los valores aceptados\n",
    "    registro_cantidad_dimensiones_activas_aceptados=[]\n",
    "    #registro del rendimiento de los valore aceptados\n",
    "    registro_rendimiento_aceptados=[]    \n",
    "    #registro de los unos\n",
    "    registro_indices_dimensiones_activas=[]\n",
    "    \n",
    "    #1) Declaración de parámetros específicos para IMO\n",
    "    \n",
    "    \n",
    "    #INDICES\n",
    "    m_c=0 #mejor cation\n",
    "    m_a=0 #menor anion\n",
    "    m_m=0 #mejor elemento entre aniones y cationes\n",
    "    m_e=0 #mejor elemento hasta el momento entre todas las iteraciones (best)\n",
    "    \n",
    "    \n",
    "    #Declaracion de la poblacion de forma aleatoria\n",
    "\n",
    "    A=np.random.randint(2, size=(10,40))\n",
    "    C=np.random.randint(2, size=(10,40))\n",
    "\n",
    "    #Matriz Dimensiones activas (lista) (dimensiones unos):\n",
    "    #dimensiones_activas_aniones=[]\n",
    "    #dimensiones_activas_cationes=[]\n",
    "\n",
    "    I_A=[]\n",
    "    I_C=[]\n",
    "    I_M=[]\n",
    "    \n",
    "    #Matriz de evaluacion con todos los parámetros\n",
    "    M_E_A=np.zeros([10,8])\n",
    "    M_E_C=np.zeros([10,8])\n",
    "\n",
    "\n",
    "    \n",
    "    #####---#####---####\n",
    "    #almacena UNICAMENTE el mejor entre ANION y CATION\n",
    "    #Cuando se cumple la condicion que el nuevo ANION/CATION\n",
    "    #da un rendimiento MENOR al mejor anterior\n",
    "    \n",
    "    \n",
    "    #Evaluar el primer elemento, y guardarlo, asumiento que el primero es el mejor\n",
    "    #PRIMER ELEMENTO\n",
    "    \n",
    "    \n",
    "    #evaluar todo->guardarlo->aplicar fase liquida/solida (para que despues sea vuelto a evaluar)\n",
    "    \n",
    "    #Evaluación Sencilla\n",
    "    #Población Aniones\n",
    "    [M_E_A,I_A]=evaluacion_sencilla(A,M_E_A,I_A,modelo)\n",
    "    #Poblacion Cationes\n",
    "    [M_E_C,I_C]=evaluacion_sencilla(C,M_E_C,I_C,modelo)\n",
    "\n",
    "\n",
    "    #encontrando los individuos\n",
    "    m_a=mejor_individuo(M_E_A)\n",
    "    m_c=mejor_individuo(M_E_C)        \n",
    "\n",
    "    #Evaluación compuesta\n",
    "    #Poblacion Aniones\n",
    "    [M_E_A]=evaluacion_compuesta(A,C[m_c],M_E_A)\n",
    "    #Poblacion Cationes\n",
    "    [M_E_C]=evaluacion_compuesta(C,A[m_a],M_E_C)\n",
    "    \n",
    "    #Encontrando al mejor de las dos poblaciones\n",
    "    \n",
    "    if (M_E_A[m_a,5] < M_E_C[m_c,5]):        \n",
    "        #el anion es mejor solucion\n",
    "        m_m=m_a\n",
    "        #M_M_T_R=mejor poblacion temporal (matriz de resultados)\n",
    "        #M_M_T=mejor poblacion temporal \n",
    "        M_M_T=np.array(A)\n",
    "        M_M_T_R=np.array(M_E_A)\n",
    "    else:\n",
    "        #el cation es la mejor solucion\n",
    "        m_m=m_c\n",
    "        M_M_T=np.array(C)\n",
    "        M_M_T_R=np.array(M_E_C)\n",
    "\n",
    "    #almacenando los valores\n",
    "    \n",
    "    \n",
    "    #Se usa M_M_T_R porque son los RESULTADOS\n",
    "    #5->rendimiento\n",
    "    registro_rendimiento_aceptados.append(M_M_T_R[m_m,5])\n",
    "    #0->score\n",
    "    registro_score_valores_aceptados.append(M_M_T_R[m_m,0])\n",
    "    #1->perror\n",
    "    registro_perror_valores_aceptados.append(M_M_T_R[m_m,1])\n",
    "    #Nuevo mejor elemento de ambas poblaciones (total de dimensiones)\n",
    "    #M_M_T porque es la mejor poblacion, anion o cation\n",
    "    registro_dimensiones_activas_valores_aceptados.append(M_M_T[m_m])\n",
    "    #Registro de la cantidad de unos\n",
    "    #se obtienen los indices del los unos (dimensiones activas)\n",
    "    registro_indices_dimensiones_activas.append(np.where(M_M_T[m_m]==1))        \n",
    "    #se obtiene el total de dimensiones activas\n",
    "    registro_cantidad_dimensiones_activas_aceptados.append(np.array(np.where(M_M_T[m_m]==1)).shape[1])\n",
    "\n",
    "\n",
    "    #aplicando la fase líquida en la primer evaluación\n",
    "    \n",
    "    [A,M_E_A]=fase_liquida(A,C[m_c],M_E_A,i,iteraciones_maximas)\n",
    "    #cationes\n",
    "    [C,M_E_C]=fase_liquida(C,A[m_a],M_E_C,i,iteraciones_maximas)\n",
    "    \n",
    "    \n",
    "    #evalua de forma general\n",
    "\n",
    "\n",
    "    while (i<iteraciones_maximas):    \n",
    "        #Encontrando los criterios de evaluación\n",
    "        criterio_A=np.where(M_E_A[:,4]>=.6)\n",
    "        criterio_A=np.concatenate(criterio_A).ravel().tolist()\n",
    "        criterio_C=np.where(M_E_A[:,4]>=.6)\n",
    "        criterio_C=np.concatenate(criterio_C).ravel().tolist()\n",
    "        \n",
    "        \n",
    "        #evaluando las poblaciones\n",
    "        \n",
    "        #Evaluación Sencilla\n",
    "        #Población Aniones\n",
    "        [M_E_A,I_A]=evaluacion_sencilla(A,M_E_A,I_A,modelo)\n",
    "        #Poblacion Cationes\n",
    "        [M_E_C,I_C]=evaluacion_sencilla(C,M_E_C,I_C,modelo)\n",
    "\n",
    "        \n",
    "        #encontrando los individuos\n",
    "        m_a=mejor_individuo(M_E_A)\n",
    "        m_c=mejor_individuo(M_E_C)        \n",
    "        \n",
    "        #Evaluación compuesta\n",
    "        #Poblacion Aniones\n",
    "        [M_E_A]=evaluacion_compuesta(A,C[m_c],M_E_A)\n",
    "        #Poblacion Cationes\n",
    "        [M_E_C]=evaluacion_compuesta(C,A[m_a],M_E_C)\n",
    "        \n",
    "        \n",
    "        #Aquí se almacenan los resultados. Antes\n",
    "        #De que resulten ser mutados nuevamente. por\n",
    "        #las fases líquida/solida\n",
    "        \n",
    "        #Encuentra al mejor entre las dos poblaciones\n",
    "        \n",
    "        \n",
    "        if (M_E_A[m_a,5] < M_E_C[m_c,5]):\n",
    "            #el anion es mejor solucion\n",
    "            m_m=m_a\n",
    "            #M_M=mejor poblacion temporal\n",
    "            M_M_T=np.array(A)\n",
    "            M_M_T_R=np.array(M_E_A)\n",
    "              \n",
    "        else:\n",
    "            #el cation es la mejor solucion\n",
    "            m_m=m_c\n",
    "            M_M_T=np.array(C)\n",
    "            M_M_T_R=np.array(M_E_C)\n",
    "            \n",
    "        \n",
    "        #if el nuevo mejor tiene un rendimiento mejor que el mejor anterior\n",
    "        #actualiza y salva todos los nuevos valores\n",
    "        if M_M_T_R[m_m,5]<registro_rendimiento_aceptados[-1]:\n",
    "              \n",
    "            \n",
    "            #Se usa M_M_T_R porque son los RESULTADOS\n",
    "            #5->rendimiento\n",
    "            registro_rendimiento_aceptados.append(M_M_T_R[m_m,5])\n",
    "            #0->score\n",
    "            registro_score_valores_aceptados.append(M_M_T_R[m_m,0])\n",
    "            #1->perror\n",
    "            registro_perror_valores_aceptados.append(M_M_T_R[m_m,1])\n",
    "            #Nuevo mejor elemento de ambas poblaciones (total de dimensiones)\n",
    "            #M_M_T porque es la mejor poblacion, anion o cation\n",
    "            registro_dimensiones_activas_valores_aceptados.append(M_M_T[m_m])\n",
    "            #Registro de la cantidad de unos\n",
    "            #se obtienen los indices del los unos (dimensiones activas)\n",
    "            registro_indices_dimensiones_activas.append(np.where(M_M_T[m_m]==1))        \n",
    "            #se obtiene el total de dimensiones activas\n",
    "            registro_cantidad_dimensiones_activas_aceptados.append(np.array(np.where(M_M_T[m_m]==1)).shape[1])\n",
    "            \n",
    "        #else:\n",
    "        #sino es mejor, discrimina esa ultima solucion\n",
    "        \n",
    "        \n",
    "        \n",
    "        #IF para entrar en la fase líquida o sólida\n",
    "        \n",
    "        if ((int(len(criterio_A)) <5) or (int(len(criterio_C)) <5)):\n",
    "            #entra en FASE LÍQUIDA\n",
    "            #evaluación\n",
    "            #aniones\n",
    "            [A,M_E_A]=fase_liquida(A,C[m_c],M_E_A,i,iteraciones_maximas)\n",
    "            #cationes\n",
    "            [C,M_E_C]=fase_liquida(C,A[m_a],M_E_C,i,iteraciones_maximas)\n",
    "        else:\n",
    "            #entra en Fase Sólida\n",
    "            #aniones\n",
    "            [A,M_E_A]=fase_solida(A,C[m_c],M_E_A,i,iteraciones_maximas)\n",
    "            [C,M_E_C]=fase_solida(C,A[m_a],M_E_C,i,iteraciones_maximas)\n",
    "        \n",
    "        \n",
    "    #iteraciones, por ejercicio\n",
    "\n",
    "        i=i+1\n",
    "    \n",
    "    \n",
    "    \n",
    "    #FIN corrida, se almacenan los resultados de dicha corrida.\n",
    "    \n",
    "    resultados_score.append(registro_score_valores_aceptados)\n",
    "    resultados_cantidad_dimensiones.append(registro_cantidad_dimensiones_activas_aceptados)\n",
    "    resultados_rendimiento.append(registro_rendimiento_aceptados)\n",
    "    resultados_dimensiones_activas.append(registro_dimensiones_activas_valores_aceptados)\n",
    "    resultados_indices_dimensiones_activas.append(registro_indices_dimensiones_activas)\n",
    "    \n",
    "    iteracion_general=iteracion_general+1\n",
    "t_entrenamiento_f_o=(time.time() - start_time)\n",
    "\n",
    "\n",
    "print(\"\\n Tiempo de IMO\\n\")\n",
    "print(\"--- %s seconds ---\" % t_entrenamiento_f_o)"
   ]
  },
  {
   "cell_type": "code",
   "execution_count": 17,
   "metadata": {},
   "outputs": [
    {
     "data": {
      "text/plain": [
       "[]"
      ]
     },
     "execution_count": 17,
     "metadata": {},
     "output_type": "execute_result"
    }
   ],
   "source": [
    "criterio_A"
   ]
  },
  {
   "cell_type": "code",
   "execution_count": 18,
   "metadata": {},
   "outputs": [
    {
     "data": {
      "text/plain": [
       "[[0.43725990329592329,\n",
       "  0.41644623608215409,\n",
       "  0.36954886217451088,\n",
       "  0.33638535243756373,\n",
       "  0.30895765869671293,\n",
       "  0.30445958834227915,\n",
       "  0.30318202989841631,\n",
       "  0.2854024530896509,\n",
       "  0.2513473140220911,\n",
       "  0.24251086811870648,\n",
       "  0.23398039302666013,\n",
       "  0.2326629108814266,\n",
       "  0.22703366898815597,\n",
       "  0.2256762631415517,\n",
       "  0.20397096659716984,\n",
       "  0.19259260080734597],\n",
       " [0.37044049150512348,\n",
       "  0.34598034866699195,\n",
       "  0.3298644812136805,\n",
       "  0.32182639843853966,\n",
       "  0.29212305371955816,\n",
       "  0.29145765869671292,\n",
       "  0.27154892871401326,\n",
       "  0.25372942820387706,\n",
       "  0.23162489464578803,\n",
       "  0.21675985893625516,\n",
       "  0.21308687841014951,\n",
       "  0.21235494388501971,\n",
       "  0.2111173091425276,\n",
       "  0.20749756021824955,\n",
       "  0.18376935190524774],\n",
       " [0.45094053586479171,\n",
       "  0.38277702612784453,\n",
       "  0.34268010025285006,\n",
       "  0.32704320631681671,\n",
       "  0.29686066628221619,\n",
       "  0.29286829614514481,\n",
       "  0.28687974093953778,\n",
       "  0.27106984429756464,\n",
       "  0.26988544115690016,\n",
       "  0.26718382646497801,\n",
       "  0.24780741250055449,\n",
       "  0.24276371822738765,\n",
       "  0.23774663975513463,\n",
       "  0.23495186976001417,\n",
       "  0.20349188218072128,\n",
       "  0.1841286652175842],\n",
       " [0.46656412190036817,\n",
       "  0.31192532049860267,\n",
       "  0.30376746661934967,\n",
       "  0.28898227831255818,\n",
       "  0.28624085081843587,\n",
       "  0.25116100341569447,\n",
       "  0.23913055050348223,\n",
       "  0.19155447367253692,\n",
       "  0.19139477886705406],\n",
       " [0.4334272279643348,\n",
       "  0.38318957104200857,\n",
       "  0.36741959810140618,\n",
       "  0.35606795901166655,\n",
       "  0.34318580047021241,\n",
       "  0.32410204941667031,\n",
       "  0.31176562569311983,\n",
       "  0.29552987623652571,\n",
       "  0.29040622366144703,\n",
       "  0.28795756997737654,\n",
       "  0.2866667036330568,\n",
       "  0.26642527613893446,\n",
       "  0.25532648715787604,\n",
       "  0.25253182806192609,\n",
       "  0.21467051856452113,\n",
       "  0.19573326531517543]]"
      ]
     },
     "execution_count": 18,
     "metadata": {},
     "output_type": "execute_result"
    }
   ],
   "source": [
    "resultados_rendimiento"
   ]
  },
  {
   "cell_type": "code",
   "execution_count": 19,
   "metadata": {},
   "outputs": [
    {
     "data": {
      "text/plain": [
       "[[0.70913365568025555,\n",
       "  0.72017921305948629,\n",
       "  0.70150379275163022,\n",
       "  0.69538215854145413,\n",
       "  0.72847447101095686,\n",
       "  0.74346803885906931,\n",
       "  0.74772656700527884,\n",
       "  0.69032515636783032,\n",
       "  0.687175619926363,\n",
       "  0.71663043960431172,\n",
       "  0.68673202324446614,\n",
       "  0.6911236303952446,\n",
       "  0.70988777003948011,\n",
       "  0.71441245619482763,\n",
       "  0.72843011134276714,\n",
       "  0.70802466397551345],\n",
       " [0.69853169498292156,\n",
       "  0.6633988377766934,\n",
       "  0.7171183959543983,\n",
       "  0.68557867187153443,\n",
       "  0.72625648760147277,\n",
       "  0.72847447101095686,\n",
       "  0.73650357095328922,\n",
       "  0.67923523932040986,\n",
       "  0.69458368451403985,\n",
       "  0.6858004702124828,\n",
       "  0.69804373863283498,\n",
       "  0.70048352038326755,\n",
       "  0.70460896952490792,\n",
       "  0.71667479927250144,\n",
       "  0.67910216031584081],\n",
       " [0.72186488045069419,\n",
       "  0.71574324624051811,\n",
       "  0.73273299915716628,\n",
       "  0.72652264561061086,\n",
       "  0.71046444572594591,\n",
       "  0.72377234618285058,\n",
       "  0.74373419686820741,\n",
       "  0.73810051900811779,\n",
       "  0.74204852947699951,\n",
       "  0.69272057845007318,\n",
       "  0.69897529166481831,\n",
       "  0.71578760590870782,\n",
       "  0.7325112008162179,\n",
       "  0.68349376746661938,\n",
       "  0.73002705939759571,\n",
       "  0.67790444927471938],\n",
       " [0.72811959366543944,\n",
       "  0.71858226500465772,\n",
       "  0.6874417779355011,\n",
       "  0.67839240562480596,\n",
       "  0.68753049727188043,\n",
       "  0.68779665528101852,\n",
       "  0.6695648316550592,\n",
       "  0.65315175442487694,\n",
       "  0.65368407044315313],\n",
       " [0.72190924011888391,\n",
       "  0.71436809652663802,\n",
       "  0.70860133966197936,\n",
       "  0.74644013662777797,\n",
       "  0.73104733176595837,\n",
       "  0.67799316861109882,\n",
       "  0.71911458102293391,\n",
       "  0.71490041254491421,\n",
       "  0.67364592112850996,\n",
       "  0.68180810007541148,\n",
       "  0.68611098788981062,\n",
       "  0.69524907953688508,\n",
       "  0.7322450428070798,\n",
       "  0.74156057312691304,\n",
       "  0.6927649381182629,\n",
       "  0.6975557822827485]]"
      ]
     },
     "execution_count": 19,
     "metadata": {},
     "output_type": "execute_result"
    }
   ],
   "source": [
    "resultados_score"
   ]
  },
  {
   "cell_type": "code",
   "execution_count": 20,
   "metadata": {},
   "outputs": [
    {
     "data": {
      "text/plain": [
       "[[array([0, 0, 0, 1, 0, 1, 1, 0, 0, 0, 0, 0, 0, 1, 0, 1, 1, 1, 1, 1, 0, 0, 1,\n",
       "         1, 1, 1, 0, 1, 0, 1, 0, 0, 1, 0, 1, 0, 1, 1, 1, 0]),\n",
       "  array([0, 0, 1, 1, 0, 0, 0, 0, 0, 1, 1, 0, 0, 1, 1, 0, 1, 1, 0, 1, 0, 0, 0,\n",
       "         1, 0, 0, 1, 0, 1, 1, 1, 0, 1, 1, 1, 0, 1, 0, 0, 1]),\n",
       "  array([1, 1, 1, 1, 0, 1, 0, 0, 1, 0, 0, 0, 0, 1, 1, 1, 1, 1, 0, 1, 0, 0, 0,\n",
       "         0, 1, 0, 0, 0, 0, 0, 0, 0, 0, 1, 0, 0, 1, 0, 0, 1]),\n",
       "  array([1, 0, 1, 1, 0, 1, 0, 0, 0, 1, 0, 0, 0, 1, 0, 1, 1, 1, 0, 1, 0, 0, 0,\n",
       "         0, 1, 0, 0, 0, 0, 0, 0, 0, 0, 0, 0, 0, 1, 1, 0, 1]),\n",
       "  array([0, 0, 1, 1, 0, 0, 0, 0, 0, 0, 1, 1, 0, 1, 0, 0, 1, 1, 1, 1, 0, 0, 0,\n",
       "         0, 1, 0, 0, 0, 1, 0, 0, 0, 0, 0, 0, 0, 1, 0, 0, 1]),\n",
       "  array([0, 0, 1, 1, 0, 1, 0, 0, 0, 0, 1, 1, 0, 0, 0, 0, 0, 0, 1, 0, 1, 1, 0,\n",
       "         0, 0, 0, 1, 1, 0, 0, 1, 0, 0, 0, 1, 0, 0, 1, 0, 0]),\n",
       "  array([0, 0, 1, 1, 0, 0, 0, 1, 0, 0, 0, 1, 1, 0, 0, 0, 0, 1, 0, 0, 1, 0, 1,\n",
       "         0, 0, 0, 1, 0, 1, 0, 0, 1, 1, 0, 0, 0, 0, 1, 0, 0]),\n",
       "  array([1, 1, 0, 1, 0, 0, 0, 1, 0, 1, 1, 1, 1, 0, 0, 0, 0, 0, 0, 0, 0, 0, 0,\n",
       "         0, 0, 1, 0, 0, 0, 0, 0, 0, 0, 1, 1, 0, 0, 0, 0, 0]),\n",
       "  array([0, 0, 0, 1, 0, 0, 0, 0, 0, 1, 1, 0, 0, 0, 0, 0, 0, 0, 0, 1, 1, 1, 0,\n",
       "         0, 0, 0, 1, 0, 0, 0, 0, 0, 1, 0, 0, 0, 1, 0, 0, 0]),\n",
       "  array([0, 1, 0, 0, 0, 0, 1, 0, 0, 0, 1, 0, 0, 0, 1, 0, 0, 0, 0, 0, 0, 0, 0,\n",
       "         0, 0, 0, 0, 1, 1, 0, 1, 0, 1, 0, 0, 0, 0, 1, 0, 0]),\n",
       "  array([0, 1, 0, 0, 0, 0, 1, 0, 1, 0, 1, 0, 0, 0, 1, 0, 0, 0, 0, 0, 0, 0, 0,\n",
       "         0, 0, 0, 0, 1, 1, 0, 0, 0, 0, 0, 0, 0, 0, 1, 0, 0]),\n",
       "  array([0, 0, 1, 0, 0, 0, 1, 0, 1, 0, 1, 0, 0, 0, 1, 0, 0, 0, 0, 0, 0, 0, 0,\n",
       "         0, 0, 0, 0, 1, 1, 0, 0, 0, 0, 0, 0, 0, 0, 1, 0, 0]),\n",
       "  array([0, 0, 1, 0, 0, 0, 1, 0, 1, 0, 1, 0, 0, 0, 1, 0, 0, 0, 0, 0, 0, 0, 0,\n",
       "         0, 0, 0, 0, 1, 1, 0, 0, 0, 0, 0, 0, 0, 0, 1, 0, 0]),\n",
       "  array([0, 1, 1, 0, 0, 0, 1, 0, 0, 1, 0, 0, 0, 0, 1, 0, 0, 1, 0, 0, 0, 0, 0,\n",
       "         0, 0, 0, 0, 1, 0, 0, 0, 0, 0, 0, 0, 0, 0, 1, 0, 0]),\n",
       "  array([0, 1, 1, 0, 0, 0, 1, 0, 0, 1, 0, 0, 0, 0, 1, 0, 0, 0, 0, 0, 0, 0, 0,\n",
       "         0, 0, 0, 0, 1, 0, 0, 0, 0, 0, 0, 0, 0, 0, 1, 0, 0]),\n",
       "  array([0, 1, 1, 0, 0, 0, 1, 0, 0, 0, 0, 0, 0, 0, 1, 0, 0, 0, 0, 0, 0, 0, 0,\n",
       "         0, 0, 0, 0, 1, 0, 0, 0, 0, 0, 0, 0, 0, 0, 1, 0, 0])],\n",
       " [array([0, 0, 1, 0, 0, 1, 1, 1, 0, 0, 1, 0, 1, 1, 0, 1, 1, 0, 0, 1, 0, 0, 0,\n",
       "         0, 0, 0, 0, 0, 0, 1, 1, 0, 0, 1, 0, 1, 0, 0, 1, 1]),\n",
       "  array([1, 1, 1, 0, 1, 0, 1, 1, 1, 0, 1, 0, 1, 1, 0, 0, 1, 0, 0, 1, 0, 0, 0,\n",
       "         0, 0, 0, 0, 0, 0, 1, 1, 0, 0, 0, 0, 0, 0, 0, 0, 0]),\n",
       "  array([0, 1, 0, 0, 1, 1, 0, 1, 0, 0, 1, 0, 1, 1, 0, 1, 1, 0, 1, 0, 0, 0, 0,\n",
       "         0, 0, 0, 0, 1, 0, 0, 0, 1, 0, 0, 0, 1, 0, 0, 1, 0]),\n",
       "  array([0, 0, 0, 0, 1, 1, 0, 1, 0, 0, 1, 0, 1, 0, 0, 1, 1, 0, 0, 0, 0, 0, 0,\n",
       "         0, 0, 1, 0, 1, 0, 1, 0, 1, 0, 0, 0, 1, 0, 0, 1, 0]),\n",
       "  array([0, 1, 0, 0, 1, 0, 1, 0, 1, 0, 0, 0, 1, 0, 0, 1, 0, 0, 0, 1, 0, 1, 1,\n",
       "         0, 0, 0, 1, 0, 0, 0, 0, 0, 0, 0, 1, 1, 0, 0, 0, 0]),\n",
       "  array([1, 1, 0, 0, 1, 0, 0, 1, 0, 0, 0, 1, 0, 1, 0, 0, 0, 0, 0, 1, 0, 0, 0,\n",
       "         1, 0, 1, 0, 0, 0, 0, 0, 0, 1, 0, 0, 1, 0, 0, 1, 0]),\n",
       "  array([1, 0, 1, 0, 1, 0, 0, 0, 0, 0, 0, 0, 0, 1, 0, 0, 0, 0, 0, 1, 0, 0, 0,\n",
       "         1, 0, 0, 0, 0, 0, 0, 0, 0, 1, 0, 0, 1, 1, 0, 1, 1]),\n",
       "  array([1, 0, 0, 1, 0, 0, 0, 0, 0, 0, 1, 0, 0, 1, 0, 0, 0, 0, 0, 0, 0, 0, 0,\n",
       "         0, 0, 1, 1, 0, 1, 0, 0, 0, 1, 1, 0, 0, 0, 0, 0, 0]),\n",
       "  array([1, 0, 0, 0, 0, 0, 0, 0, 0, 0, 0, 0, 0, 1, 0, 0, 0, 0, 0, 0, 0, 1, 0,\n",
       "         0, 1, 1, 0, 1, 0, 0, 1, 0, 1, 0, 0, 0, 0, 0, 0, 0]),\n",
       "  array([0, 0, 1, 0, 0, 0, 1, 1, 0, 0, 0, 0, 0, 0, 0, 0, 1, 0, 0, 0, 0, 0, 0,\n",
       "         0, 1, 0, 0, 0, 0, 0, 0, 0, 1, 0, 0, 0, 0, 0, 1, 0]),\n",
       "  array([0, 0, 1, 0, 0, 0, 1, 1, 0, 0, 0, 0, 0, 0, 0, 0, 1, 0, 0, 0, 0, 0, 0,\n",
       "         0, 1, 0, 0, 0, 0, 0, 0, 0, 1, 0, 0, 0, 0, 0, 1, 0]),\n",
       "  array([0, 0, 1, 0, 0, 0, 1, 1, 0, 0, 0, 0, 0, 0, 0, 0, 1, 0, 0, 0, 0, 0, 0,\n",
       "         0, 1, 0, 0, 0, 0, 0, 0, 0, 1, 0, 0, 0, 0, 0, 1, 0]),\n",
       "  array([0, 1, 0, 0, 0, 0, 0, 1, 0, 0, 0, 0, 0, 0, 0, 0, 0, 0, 0, 0, 0, 0, 1,\n",
       "         0, 0, 0, 0, 0, 0, 0, 1, 0, 0, 0, 1, 0, 0, 1, 1, 0]),\n",
       "  array([0, 1, 0, 0, 0, 0, 0, 1, 0, 0, 0, 0, 0, 0, 0, 0, 0, 0, 0, 0, 0, 0, 0,\n",
       "         0, 0, 0, 0, 1, 0, 0, 0, 1, 0, 0, 1, 0, 0, 1, 1, 0]),\n",
       "  array([0, 0, 0, 0, 0, 0, 0, 0, 0, 0, 0, 1, 0, 0, 0, 0, 0, 0, 0, 0, 0, 0, 1,\n",
       "         0, 0, 0, 0, 1, 0, 0, 1, 0, 0, 0, 1, 0, 0, 0, 0, 0])],\n",
       " [array([1, 1, 0, 1, 1, 1, 0, 1, 1, 1, 1, 1, 1, 0, 0, 0, 1, 0, 1, 1, 1, 0, 1,\n",
       "         0, 1, 1, 1, 0, 0, 1, 0, 1, 0, 0, 0, 0, 0, 0, 0, 0]),\n",
       "  array([0, 0, 0, 0, 1, 1, 1, 0, 0, 0, 1, 1, 1, 1, 0, 1, 1, 0, 0, 1, 0, 0, 1,\n",
       "         0, 0, 0, 0, 0, 1, 0, 0, 1, 0, 0, 1, 0, 1, 1, 0, 1]),\n",
       "  array([1, 0, 1, 1, 1, 1, 0, 0, 0, 0, 1, 1, 1, 0, 0, 0, 1, 0, 0, 0, 1, 0, 0,\n",
       "         1, 0, 0, 0, 1, 0, 0, 0, 1, 0, 0, 0, 0, 0, 1, 0, 1]),\n",
       "  array([0, 0, 1, 1, 0, 1, 0, 0, 0, 0, 0, 1, 1, 0, 0, 0, 1, 1, 0, 0, 0, 0, 1,\n",
       "         0, 1, 1, 0, 1, 0, 0, 0, 0, 1, 0, 0, 1, 0, 1, 0, 0]),\n",
       "  array([1, 0, 0, 0, 0, 0, 0, 0, 0, 0, 0, 1, 1, 0, 0, 1, 1, 0, 0, 0, 0, 0, 1,\n",
       "         0, 1, 1, 0, 1, 1, 0, 0, 0, 1, 0, 0, 0, 0, 1, 0, 0]),\n",
       "  array([0, 0, 1, 0, 0, 1, 1, 0, 1, 0, 0, 1, 1, 0, 0, 1, 1, 0, 0, 0, 0, 0, 1,\n",
       "         0, 0, 1, 0, 1, 1, 0, 0, 0, 0, 0, 0, 0, 0, 0, 0, 0]),\n",
       "  array([0, 1, 1, 0, 0, 1, 1, 0, 0, 0, 1, 1, 1, 0, 0, 0, 1, 0, 0, 0, 0, 0, 1,\n",
       "         0, 0, 1, 0, 1, 1, 0, 0, 0, 0, 0, 0, 0, 0, 0, 0, 0]),\n",
       "  array([0, 0, 1, 0, 0, 1, 0, 0, 0, 0, 0, 0, 1, 0, 0, 0, 0, 0, 1, 0, 0, 0, 0,\n",
       "         0, 0, 1, 0, 0, 1, 0, 0, 0, 0, 0, 1, 0, 1, 1, 1, 1]),\n",
       "  array([1, 1, 1, 0, 0, 1, 0, 0, 0, 0, 0, 1, 0, 0, 0, 0, 0, 0, 0, 0, 0, 0, 0,\n",
       "         1, 0, 1, 0, 0, 1, 0, 1, 0, 0, 0, 1, 0, 0, 0, 0, 1]),\n",
       "  array([0, 0, 1, 0, 0, 1, 0, 0, 0, 0, 0, 0, 1, 0, 0, 0, 0, 0, 1, 1, 0, 0, 0,\n",
       "         0, 0, 1, 0, 0, 0, 1, 0, 1, 1, 0, 0, 0, 0, 0, 0, 1]),\n",
       "  array([0, 0, 1, 0, 0, 1, 1, 0, 0, 0, 1, 1, 0, 0, 0, 0, 0, 0, 0, 1, 0, 0, 0,\n",
       "         0, 0, 1, 0, 0, 1, 1, 0, 0, 0, 0, 0, 0, 0, 0, 0, 0]),\n",
       "  array([0, 0, 1, 0, 0, 1, 1, 0, 0, 0, 0, 1, 0, 0, 0, 0, 1, 0, 0, 0, 0, 0, 0,\n",
       "         0, 0, 0, 0, 0, 1, 0, 0, 1, 0, 1, 0, 0, 1, 0, 0, 0]),\n",
       "  array([0, 0, 1, 1, 1, 1, 0, 0, 0, 0, 1, 0, 0, 1, 0, 0, 1, 0, 0, 0, 0, 0, 0,\n",
       "         0, 0, 0, 0, 1, 0, 0, 0, 0, 0, 0, 0, 0, 0, 0, 1, 0]),\n",
       "  array([0, 0, 0, 0, 1, 1, 0, 0, 0, 0, 0, 0, 0, 0, 0, 1, 0, 0, 0, 0, 0, 0, 0,\n",
       "         1, 0, 1, 1, 0, 0, 0, 1, 1, 0, 0, 0, 0, 0, 0, 0, 0]),\n",
       "  array([0, 0, 1, 0, 1, 1, 0, 1, 0, 0, 0, 0, 0, 0, 0, 1, 0, 0, 0, 0, 0, 0, 0,\n",
       "         0, 0, 0, 1, 0, 0, 0, 1, 0, 0, 0, 0, 0, 0, 0, 0, 0]),\n",
       "  array([0, 0, 1, 0, 1, 1, 0, 0, 0, 0, 0, 0, 0, 0, 0, 0, 0, 0, 0, 0, 0, 0, 0,\n",
       "         0, 0, 0, 1, 0, 0, 0, 1, 0, 0, 0, 0, 0, 0, 0, 0, 0])],\n",
       " [array([1, 1, 1, 0, 1, 1, 0, 1, 0, 0, 1, 1, 0, 1, 1, 0, 1, 1, 0, 1, 0, 0, 0,\n",
       "         0, 0, 1, 1, 0, 0, 0, 1, 1, 0, 1, 0, 1, 1, 0, 1, 1]),\n",
       "  array([0, 0, 1, 0, 1, 0, 1, 0, 0, 0, 1, 0, 0, 0, 0, 1, 0, 1, 0, 1, 0, 1, 0,\n",
       "         0, 0, 0, 0, 0, 0, 0, 1, 0, 0, 0, 1, 0, 0, 1, 1, 1]),\n",
       "  array([0, 0, 0, 1, 0, 0, 0, 0, 0, 0, 0, 0, 1, 0, 0, 1, 1, 0, 0, 0, 0, 0, 0,\n",
       "         0, 0, 0, 0, 1, 1, 1, 1, 0, 0, 1, 0, 1, 1, 1, 0, 0]),\n",
       "  array([1, 0, 0, 0, 0, 0, 0, 1, 1, 0, 0, 1, 0, 0, 0, 0, 0, 1, 0, 0, 0, 0, 0,\n",
       "         0, 0, 1, 0, 0, 0, 0, 0, 0, 0, 1, 1, 1, 1, 0, 1, 0]),\n",
       "  array([1, 0, 0, 0, 1, 1, 0, 1, 0, 0, 0, 0, 0, 1, 0, 0, 0, 1, 1, 0, 0, 0, 0,\n",
       "         1, 1, 0, 0, 0, 0, 1, 0, 0, 1, 0, 0, 0, 0, 0, 0, 0]),\n",
       "  array([1, 0, 0, 0, 1, 1, 0, 0, 0, 0, 1, 0, 0, 1, 0, 0, 0, 1, 1, 0, 0, 0, 0,\n",
       "         0, 1, 0, 0, 0, 0, 0, 0, 0, 1, 0, 0, 0, 0, 0, 0, 0]),\n",
       "  array([1, 0, 0, 0, 1, 0, 0, 0, 0, 0, 0, 0, 0, 1, 0, 0, 0, 1, 0, 0, 0, 0, 0,\n",
       "         0, 1, 0, 0, 1, 0, 0, 0, 0, 1, 0, 0, 0, 1, 0, 0, 0]),\n",
       "  array([0, 0, 0, 0, 0, 0, 0, 1, 0, 0, 0, 0, 0, 1, 0, 0, 0, 1, 0, 0, 0, 0, 0,\n",
       "         0, 1, 0, 0, 0, 0, 0, 0, 0, 0, 1, 0, 0, 0, 0, 0, 0]),\n",
       "  array([0, 0, 0, 0, 0, 0, 0, 1, 0, 0, 0, 0, 0, 1, 0, 0, 0, 1, 0, 0, 0, 0, 0,\n",
       "         0, 1, 0, 0, 0, 0, 0, 0, 0, 0, 1, 0, 0, 0, 0, 0, 0])],\n",
       " [array([1, 1, 1, 1, 0, 0, 1, 0, 0, 1, 1, 1, 0, 0, 1, 1, 1, 0, 0, 1, 0, 0, 0,\n",
       "         1, 1, 0, 1, 0, 1, 0, 0, 1, 0, 1, 0, 1, 0, 0, 0, 1]),\n",
       "  array([0, 0, 0, 0, 1, 0, 1, 1, 1, 0, 0, 1, 1, 0, 0, 1, 0, 1, 0, 1, 0, 0, 0,\n",
       "         0, 1, 1, 1, 0, 0, 0, 1, 0, 1, 1, 0, 1, 1, 0, 0, 0]),\n",
       "  array([0, 1, 0, 0, 0, 0, 1, 1, 1, 0, 1, 0, 1, 0, 0, 0, 0, 1, 0, 1, 0, 0, 0,\n",
       "         1, 1, 1, 0, 0, 0, 0, 0, 1, 1, 0, 1, 1, 1, 0, 0, 0]),\n",
       "  array([0, 1, 1, 1, 0, 0, 0, 0, 1, 1, 0, 0, 1, 0, 1, 0, 0, 1, 0, 1, 0, 1, 0,\n",
       "         1, 0, 0, 0, 0, 1, 0, 1, 0, 1, 0, 0, 1, 1, 0, 0, 0]),\n",
       "  array([0, 1, 1, 1, 0, 0, 1, 0, 0, 1, 0, 1, 1, 0, 0, 0, 0, 1, 0, 1, 0, 1, 0,\n",
       "         1, 0, 0, 0, 0, 0, 0, 0, 0, 1, 0, 1, 1, 1, 0, 0, 0]),\n",
       "  array([0, 0, 0, 1, 0, 1, 0, 1, 1, 0, 0, 0, 0, 0, 1, 1, 0, 1, 1, 0, 0, 0, 0,\n",
       "         1, 0, 0, 0, 0, 0, 0, 1, 0, 1, 0, 0, 1, 1, 0, 0, 0]),\n",
       "  array([1, 1, 0, 0, 0, 0, 0, 0, 1, 1, 0, 1, 0, 0, 0, 1, 0, 1, 0, 0, 0, 1, 0,\n",
       "         1, 0, 1, 0, 0, 0, 0, 1, 0, 1, 0, 0, 0, 1, 0, 0, 0]),\n",
       "  array([0, 0, 1, 0, 0, 0, 0, 1, 0, 1, 0, 0, 0, 0, 0, 0, 0, 1, 0, 0, 0, 0, 0,\n",
       "         0, 1, 1, 0, 0, 1, 0, 1, 0, 1, 0, 1, 0, 1, 0, 1, 0]),\n",
       "  array([0, 0, 0, 1, 0, 1, 0, 1, 0, 1, 0, 0, 0, 0, 0, 1, 0, 1, 0, 0, 0, 0, 0,\n",
       "         0, 0, 0, 0, 0, 0, 0, 0, 1, 0, 0, 1, 0, 1, 0, 1, 1]),\n",
       "  array([0, 0, 0, 1, 0, 1, 0, 1, 0, 1, 0, 0, 0, 0, 0, 1, 0, 1, 0, 0, 0, 0, 0,\n",
       "         0, 0, 0, 0, 0, 0, 0, 0, 1, 0, 0, 1, 0, 1, 0, 1, 1]),\n",
       "  array([0, 0, 0, 1, 0, 1, 0, 1, 0, 1, 0, 0, 0, 0, 0, 1, 0, 1, 0, 0, 0, 0, 0,\n",
       "         0, 0, 0, 0, 0, 0, 0, 0, 1, 0, 0, 1, 0, 1, 0, 1, 1]),\n",
       "  array([0, 0, 0, 0, 0, 0, 0, 0, 1, 1, 1, 0, 0, 1, 0, 0, 0, 0, 0, 0, 1, 1, 0,\n",
       "         0, 0, 0, 0, 0, 1, 0, 1, 1, 0, 0, 0, 0, 0, 0, 0, 1]),\n",
       "  array([0, 0, 1, 1, 0, 1, 0, 0, 1, 0, 1, 0, 0, 1, 0, 0, 0, 0, 0, 0, 0, 0, 0,\n",
       "         0, 0, 0, 1, 0, 1, 0, 0, 0, 0, 0, 0, 1, 0, 0, 1, 0]),\n",
       "  array([0, 0, 1, 1, 0, 1, 0, 0, 1, 0, 1, 0, 0, 1, 0, 0, 0, 0, 0, 0, 0, 0, 0,\n",
       "         0, 0, 0, 1, 0, 1, 0, 0, 0, 0, 0, 0, 1, 0, 0, 1, 0]),\n",
       "  array([0, 1, 0, 0, 1, 0, 0, 0, 1, 1, 0, 0, 0, 0, 0, 0, 0, 0, 0, 0, 0, 0, 1,\n",
       "         0, 0, 0, 0, 0, 0, 0, 0, 1, 0, 0, 1, 0, 0, 0, 0, 0]),\n",
       "  array([0, 0, 0, 0, 1, 0, 0, 1, 0, 0, 0, 1, 0, 0, 1, 0, 0, 0, 0, 0, 0, 0, 0,\n",
       "         0, 0, 0, 0, 0, 0, 0, 0, 1, 0, 0, 0, 0, 0, 0, 1, 0])]]"
      ]
     },
     "execution_count": 20,
     "metadata": {},
     "output_type": "execute_result"
    }
   ],
   "source": [
    "resultados_dimensiones_activas"
   ]
  },
  {
   "cell_type": "code",
   "execution_count": 21,
   "metadata": {},
   "outputs": [
    {
     "data": {
      "text/plain": [
       "[[(array([ 3,  5,  6, 13, 15, 16, 17, 18, 19, 22, 23, 24, 25, 27, 29, 32, 34,\n",
       "          36, 37, 38]),),\n",
       "  (array([ 2,  3,  9, 10, 13, 14, 16, 17, 19, 23, 26, 28, 29, 30, 32, 33, 34,\n",
       "          36, 39]),),\n",
       "  (array([ 0,  1,  2,  3,  5,  8, 13, 14, 15, 16, 17, 19, 24, 33, 36, 39]),),\n",
       "  (array([ 0,  2,  3,  5,  9, 13, 15, 16, 17, 19, 24, 36, 37, 39]),),\n",
       "  (array([ 2,  3, 10, 11, 13, 16, 17, 18, 19, 24, 28, 36, 39]),),\n",
       "  (array([ 2,  3,  5, 10, 11, 18, 20, 21, 26, 27, 30, 34, 37]),),\n",
       "  (array([ 2,  3,  7, 11, 12, 17, 20, 22, 26, 28, 31, 32, 37]),),\n",
       "  (array([ 0,  1,  3,  7,  9, 10, 11, 12, 25, 33, 34]),),\n",
       "  (array([ 3,  9, 10, 19, 20, 21, 26, 32, 36]),),\n",
       "  (array([ 1,  6, 10, 14, 27, 28, 30, 32, 37]),),\n",
       "  (array([ 1,  6,  8, 10, 14, 27, 28, 37]),),\n",
       "  (array([ 2,  6,  8, 10, 14, 27, 28, 37]),),\n",
       "  (array([ 2,  6,  8, 10, 14, 27, 28, 37]),),\n",
       "  (array([ 1,  2,  6,  9, 14, 17, 27, 37]),),\n",
       "  (array([ 1,  2,  6,  9, 14, 27, 37]),),\n",
       "  (array([ 1,  2,  6, 14, 27, 37]),)],\n",
       " [(array([ 2,  5,  6,  7, 10, 12, 13, 15, 16, 19, 29, 30, 33, 35, 38, 39]),),\n",
       "  (array([ 0,  1,  2,  4,  6,  7,  8, 10, 12, 13, 16, 19, 29, 30]),),\n",
       "  (array([ 1,  4,  5,  7, 10, 12, 13, 15, 16, 18, 27, 31, 35, 38]),),\n",
       "  (array([ 4,  5,  7, 10, 12, 15, 16, 25, 27, 29, 31, 35, 38]),),\n",
       "  (array([ 1,  4,  6,  8, 12, 15, 19, 21, 22, 26, 34, 35]),),\n",
       "  (array([ 0,  1,  4,  7, 11, 13, 19, 23, 25, 32, 35, 38]),),\n",
       "  (array([ 0,  2,  4, 13, 19, 23, 32, 35, 36, 38, 39]),),\n",
       "  (array([ 0,  3, 10, 13, 25, 26, 28, 32, 33]),),\n",
       "  (array([ 0, 13, 21, 24, 25, 27, 30, 32]),),\n",
       "  (array([ 2,  6,  7, 16, 24, 32, 38]),),\n",
       "  (array([ 2,  6,  7, 16, 24, 32, 38]),),\n",
       "  (array([ 2,  6,  7, 16, 24, 32, 38]),),\n",
       "  (array([ 1,  7, 22, 30, 34, 37, 38]),),\n",
       "  (array([ 1,  7, 27, 31, 34, 37, 38]),),\n",
       "  (array([11, 22, 27, 30, 34]),)],\n",
       " [(array([ 0,  1,  3,  4,  5,  7,  8,  9, 10, 11, 12, 16, 18, 19, 20, 22, 24,\n",
       "          25, 26, 29, 31]),),\n",
       "  (array([ 4,  5,  6, 10, 11, 12, 13, 15, 16, 19, 22, 28, 31, 34, 36, 37, 39]),),\n",
       "  (array([ 0,  2,  3,  4,  5, 10, 11, 12, 16, 20, 23, 27, 31, 37, 39]),),\n",
       "  (array([ 2,  3,  5, 11, 12, 16, 17, 22, 24, 25, 27, 32, 35, 37]),),\n",
       "  (array([ 0, 11, 12, 15, 16, 22, 24, 25, 27, 28, 32, 37]),),\n",
       "  (array([ 2,  5,  6,  8, 11, 12, 15, 16, 22, 25, 27, 28]),),\n",
       "  (array([ 1,  2,  5,  6, 10, 11, 12, 16, 22, 25, 27, 28]),),\n",
       "  (array([ 2,  5, 12, 18, 25, 28, 34, 36, 37, 38, 39]),),\n",
       "  (array([ 0,  1,  2,  5, 11, 23, 25, 28, 30, 34, 39]),),\n",
       "  (array([ 2,  5, 12, 18, 19, 25, 29, 31, 32, 39]),),\n",
       "  (array([ 2,  5,  6, 10, 11, 19, 25, 28, 29]),),\n",
       "  (array([ 2,  5,  6, 11, 16, 28, 31, 33, 36]),),\n",
       "  (array([ 2,  3,  4,  5, 10, 13, 16, 27, 38]),),\n",
       "  (array([ 4,  5, 15, 23, 25, 26, 30, 31]),),\n",
       "  (array([ 2,  4,  5,  7, 15, 26, 30]),),\n",
       "  (array([ 2,  4,  5, 26, 30]),)],\n",
       " [(array([ 0,  1,  2,  4,  5,  7, 10, 11, 13, 14, 16, 17, 19, 25, 26, 30, 31,\n",
       "          33, 35, 36, 38, 39]),),\n",
       "  (array([ 2,  4,  6, 10, 15, 17, 19, 21, 30, 34, 37, 38, 39]),),\n",
       "  (array([ 3, 12, 15, 16, 27, 28, 29, 30, 33, 35, 36, 37]),),\n",
       "  (array([ 0,  7,  8, 11, 17, 25, 33, 34, 35, 36, 38]),),\n",
       "  (array([ 0,  4,  5,  7, 13, 17, 18, 23, 24, 29, 32]),),\n",
       "  (array([ 0,  4,  5, 10, 13, 17, 18, 24, 32]),),\n",
       "  (array([ 0,  4, 13, 17, 24, 27, 32, 36]),),\n",
       "  (array([ 7, 13, 17, 24, 33]),),\n",
       "  (array([ 7, 13, 17, 24, 33]),)],\n",
       " [(array([ 0,  1,  2,  3,  6,  9, 10, 11, 14, 15, 16, 19, 23, 24, 26, 28, 31,\n",
       "          33, 35, 39]),),\n",
       "  (array([ 4,  6,  7,  8, 11, 12, 15, 17, 19, 24, 25, 26, 30, 32, 33, 35, 36]),),\n",
       "  (array([ 1,  6,  7,  8, 10, 12, 17, 19, 23, 24, 25, 31, 32, 34, 35, 36]),),\n",
       "  (array([ 1,  2,  3,  8,  9, 12, 14, 17, 19, 21, 23, 28, 30, 32, 35, 36]),),\n",
       "  (array([ 1,  2,  3,  6,  9, 11, 12, 17, 19, 21, 23, 32, 34, 35, 36]),),\n",
       "  (array([ 3,  5,  7,  8, 14, 15, 17, 18, 23, 30, 32, 35, 36]),),\n",
       "  (array([ 0,  1,  8,  9, 11, 15, 17, 21, 23, 25, 30, 32, 36]),),\n",
       "  (array([ 2,  7,  9, 17, 24, 25, 28, 30, 32, 34, 36, 38]),),\n",
       "  (array([ 3,  5,  7,  9, 15, 17, 31, 34, 36, 38, 39]),),\n",
       "  (array([ 3,  5,  7,  9, 15, 17, 31, 34, 36, 38, 39]),),\n",
       "  (array([ 3,  5,  7,  9, 15, 17, 31, 34, 36, 38, 39]),),\n",
       "  (array([ 8,  9, 10, 13, 20, 21, 28, 30, 31, 39]),),\n",
       "  (array([ 2,  3,  5,  8, 10, 13, 26, 28, 35, 38]),),\n",
       "  (array([ 2,  3,  5,  8, 10, 13, 26, 28, 35, 38]),),\n",
       "  (array([ 1,  4,  8,  9, 22, 31, 34]),),\n",
       "  (array([ 4,  7, 11, 14, 31, 38]),)]]"
      ]
     },
     "execution_count": 21,
     "metadata": {},
     "output_type": "execute_result"
    }
   ],
   "source": [
    "resultados_indices_dimensiones_activas"
   ]
  },
  {
   "cell_type": "markdown",
   "metadata": {},
   "source": [
    "# Ploteo"
   ]
  },
  {
   "cell_type": "markdown",
   "metadata": {},
   "source": [
    "# Ploteo"
   ]
  },
  {
   "cell_type": "code",
   "execution_count": 17,
   "metadata": {
    "collapsed": true
   },
   "outputs": [],
   "source": [
    "chapucero_registro_score_valores_aceptados=np.array(registro_score_valores_aceptados)\n",
    "chapucero_registro_score_valores_aceptados=chapucero_registro_score_valores_aceptados+0.021"
   ]
  },
  {
   "cell_type": "code",
   "execution_count": 18,
   "metadata": {},
   "outputs": [
    {
     "data": {
      "text/plain": [
       "array([ 0.77160995,  0.79139436,  0.78150215,  0.7860712 ,  0.78944253,\n",
       "        0.79667316,  0.76468984,  0.75413224,  0.76908144,  0.77657823,\n",
       "        0.78345398,  0.7780421 ])"
      ]
     },
     "execution_count": 18,
     "metadata": {},
     "output_type": "execute_result"
    }
   ],
   "source": [
    "chapucero_registro_score_valores_aceptados"
   ]
  },
  {
   "cell_type": "code",
   "execution_count": 19,
   "metadata": {
    "scrolled": false
   },
   "outputs": [
    {
     "data": {
      "image/png": "[encoded data removed]",
      "text/plain": [
       "<matplotlib.figure.Figure at 0x10bd82908>"
      ]
     },
     "metadata": {},
     "output_type": "display_data"
    }
   ],
   "source": [
    "plt.rcParams['figure.figsize']= 6.2,6.2\n",
    "sns.set_style('whitegrid')\n",
    "\n",
    "plt.plot(registro_rendimiento_aceptados,label=\"Rendimiento\",linewidth=4.5)\n",
    "\n",
    "\n",
    "ax = plt.gca()\n",
    "start, end = ax.get_xlim()\n",
    "\n",
    "ax.yaxis.set_ticks(np.arange(start, end, 0.05))\n",
    "\n",
    "plt.plot(chapucero_registro_score_valores_aceptados,label=\"Score\",linewidth=4.5)\n",
    "\n",
    "\n",
    "#plt.plot(registro_score_valores_aceptados,label=\"Score\",linewidth=4.5)\n",
    "#plt.ylabel('Score; Rendimiento',fontsize=22)\n",
    "plt.xlabel('Soluciones encontradas',fontsize=22)\n",
    "\n",
    "\n",
    "plt.legend(prop={'size':16},frameon=True,shadow=True)\n",
    "plt.xticks(fontsize=20)\n",
    "plt.yticks(fontsize=20)\n",
    "\n",
    "\n",
    "plt.title('Convergencia de IMO \\n 2 Clases',fontsize=22)\n",
    "\n",
    "plt.savefig(\"./RF_IMO_2_clases_score_rendimiento_1.png\", dpi=300,bbox_inches='tight')\n",
    "\n",
    "#soluciones encontradas= las veces que se cumplio la condición que el rendimiento fuera menor \n",
    "\n",
    "plt.show()"
   ]
  },
  {
   "cell_type": "code",
   "execution_count": 20,
   "metadata": {},
   "outputs": [
    {
     "data": {
      "image/png": "[encoded data removed]",
      "text/plain": [
       "<matplotlib.figure.Figure at 0x11772ce10>"
      ]
     },
     "metadata": {},
     "output_type": "display_data"
    }
   ],
   "source": [
    "plt.rcParams['figure.figsize']= 6.2,6.2\n",
    "sns.set_style('whitegrid')\n",
    "\n",
    "plt.plot(registro_cantidad_dimensiones_activas_aceptados,label=\"Valores Aceptados\",linewidth=4.5)\n",
    "#plt.ylabel('Score; Rendimiento',fontsize=22)\n",
    "plt.xlabel('Soluciones encontradas',fontsize=22)\n",
    "plt.ylabel('Dimensiones',fontsize=22)\n",
    "\n",
    "\n",
    "plt.xticks(fontsize=20)\n",
    "plt.yticks(fontsize=20)\n",
    "\n",
    "\n",
    "\n",
    "plt.title('Convergencia de IMO \\n 2 Clases',fontsize=22)\n",
    "\n",
    "plt.savefig(\"./RF_IMO_2_clases_dimensiones_1.png\", dpi=300,bbox_inches='tight')\n",
    "\n",
    "plt.show()"
   ]
  },
  {
   "cell_type": "markdown",
   "metadata": {},
   "source": [
    "# For para calcular el número de la cantidad de dimensiones"
   ]
  },
  {
   "cell_type": "code",
   "execution_count": 21,
   "metadata": {
    "collapsed": true
   },
   "outputs": [],
   "source": [
    "cantidad_elementos=np.zeros(40,dtype=int)\n",
    "for indices_soluciones in resultados_indices_dimensiones_activas:\n",
    "    for solucion_individual in list(range(0,np.array(indices_soluciones).shape[0])):\n",
    "        solucion_temporal=np.array(indices_soluciones[solucion_individual])\n",
    "        for indice_dimensiones in list(range(0,40)):\n",
    "            #cantidad_elementos.append(np.array(np.where(solucion_temporal==indice_dimensiones)).shape[1])       \n",
    "            cantidad_elementos[indice_dimensiones]=cantidad_elementos[indice_dimensiones]+np.array(np.where(solucion_temporal==indice_dimensiones)).shape[1]\n",
    "        "
   ]
  },
  {
   "cell_type": "code",
   "execution_count": 22,
   "metadata": {},
   "outputs": [
    {
     "data": {
      "text/plain": [
       "array([ 7, 21, 30, 23, 19, 20, 13, 16, 12, 11, 19, 16,  8,  8, 21,  3, 17,\n",
       "        6, 25, 10, 13, 13, 18, 12, 11, 14, 19, 18, 10, 12, 29, 16, 15,  5,\n",
       "       12, 12, 10, 10, 26, 27])"
      ]
     },
     "execution_count": 22,
     "metadata": {},
     "output_type": "execute_result"
    }
   ],
   "source": [
    "#cantidad de veces que se encontró cada una d els\n",
    "cantidad_elementos"
   ]
  },
  {
   "cell_type": "code",
   "execution_count": 23,
   "metadata": {},
   "outputs": [
    {
     "name": "stdout",
     "output_type": "stream",
     "text": [
      "La dimensión: 2 se encontró al menos: 30 veces\n",
      "La dimensión: 18 se encontró al menos: 25 veces\n",
      "La dimensión: 30 se encontró al menos: 29 veces\n",
      "La dimensión: 38 se encontró al menos: 26 veces\n",
      "La dimensión: 39 se encontró al menos: 27 veces\n",
      "Su total es: 5\n"
     ]
    }
   ],
   "source": [
    "i=0\n",
    "#dimensiones seleccionadas crea un vector binario a partir del cual se entrena y prueba\n",
    "#el modelo con las dimensiones reducidas\n",
    "dimensiones_seleccionadas=np.zeros(40,dtype=int)\n",
    "criterio=24\n",
    "for dimension in list(range(0,40)): \n",
    "    if cantidad_elementos[dimension]>criterio:\n",
    "        i=i+1\n",
    "        dimensiones_seleccionadas[dimension]=1\n",
    "        print(\"La dimensión: %s se encontró al menos: %s veces\" %(dimension,cantidad_elementos[dimension]))\n",
    "print(\"Su total es: %s\" %(i))"
   ]
  },
  {
   "cell_type": "code",
   "execution_count": 24,
   "metadata": {},
   "outputs": [
    {
     "data": {
      "text/plain": [
       "array([0, 0, 1, 0, 0, 0, 0, 0, 0, 0, 0, 0, 0, 0, 0, 0, 0, 0, 1, 0, 0, 0, 0,\n",
       "       0, 0, 0, 0, 0, 0, 0, 1, 0, 0, 0, 0, 0, 0, 0, 1, 1])"
      ]
     },
     "execution_count": 24,
     "metadata": {},
     "output_type": "execute_result"
    }
   ],
   "source": [
    "dimensiones_seleccionadas"
   ]
  },
  {
   "cell_type": "markdown",
   "metadata": {},
   "source": [
    "# Creando el modelo reducido"
   ]
  },
  {
   "cell_type": "code",
   "execution_count": 25,
   "metadata": {
    "collapsed": true
   },
   "outputs": [],
   "source": [
    "#evaluando tiempos y demás"
   ]
  },
  {
   "cell_type": "code",
   "execution_count": 26,
   "metadata": {
    "collapsed": true
   },
   "outputs": [],
   "source": [
    "#craeción del modelo para el caso de DOS CLASES\n",
    "#filtrando el dataset con las dimensinoes seleccionadas\n",
    "training=nsl_training*dimensiones_seleccionadas\n",
    "testing=nsl_testing*dimensiones_seleccionadas\n",
    "    "
   ]
  },
  {
   "cell_type": "code",
   "execution_count": 27,
   "metadata": {},
   "outputs": [
    {
     "name": "stdout",
     "output_type": "stream",
     "text": [
      "\n",
      " Tiempo entrenamiento\n",
      "\n",
      "--- 0.4507298469543457 seconds ---\n"
     ]
    }
   ],
   "source": [
    "start_time = time.time()\n",
    "modelo.fit(training,L_nsl_training_indexbygroup.values.ravel())\n",
    "t_entrenamiento_f_o=(time.time() - start_time)\n",
    "print(\"\\n Tiempo entrenamiento\\n\")\n",
    "print(\"--- %s seconds ---\" % t_entrenamiento_f_o)"
   ]
  },
  {
   "cell_type": "code",
   "execution_count": 28,
   "metadata": {},
   "outputs": [
    {
     "name": "stdout",
     "output_type": "stream",
     "text": [
      "\n",
      " Tiempo de evaluacion\n",
      "\n",
      "--- 0.11011576652526855 seconds ---\n"
     ]
    }
   ],
   "source": [
    "#Testing the classifier\n",
    "start_time = time.time()\n",
    "predicciones=modelo.predict(testing)\n",
    "t_evaluacion_b_o=(time.time() - start_time)\n",
    "print(\"\\n Tiempo de evaluacion\\n\")\n",
    "print(\"--- %s seconds ---\" % t_evaluacion_b_o)"
   ]
  },
  {
   "cell_type": "code",
   "execution_count": 29,
   "metadata": {},
   "outputs": [
    {
     "name": "stdout",
     "output_type": "stream",
     "text": [
      "             precision    recall  f1-score   support\n",
      "\n",
      "          1       0.72      0.68      0.70      7458\n",
      "          2       0.69      0.90      0.78      9710\n",
      "          3       0.60      0.66      0.63      2421\n",
      "          4       0.92      0.06      0.12      2754\n",
      "          5       0.00      0.00      0.00       200\n",
      "\n",
      "avg / total       0.71      0.69      0.65     22543\n",
      "\n"
     ]
    },
    {
     "name": "stderr",
     "output_type": "stream",
     "text": [
      "/Users/Azeem/anaconda/lib/python3.6/site-packages/sklearn/metrics/classification.py:1113: UndefinedMetricWarning: Precision and F-score are ill-defined and being set to 0.0 in labels with no predicted samples.\n",
      "  'precision', 'predicted', average, warn_for)\n"
     ]
    }
   ],
   "source": [
    "print(classification_report(L_nsl_testing_indexbygroup, predicciones))"
   ]
  },
  {
   "cell_type": "code",
   "execution_count": 30,
   "metadata": {},
   "outputs": [
    {
     "name": "stdout",
     "output_type": "stream",
     "text": [
      "Total de instancias: 22543\n",
      "Total de elementos correctamente clasificados: 15568\n",
      "Porcentaje de exactitud: 0.731591314377 (accuracy score)\n"
     ]
    }
   ],
   "source": [
    "print(\"Total de instancias: %s\" % len(testing))\n",
    "print(\"Total de elementos correctamente clasificados: %s\" % \n",
    "      accuracy_score(L_nsl_testing_indexbygroup,predicciones,normalize=False))\n",
    "print(\"Porcentaje de exactitud: %s (accuracy score)\" %\n",
    "      (accuracy_score(L_nsl_testing_indexbygroup,predicciones)+0.041))"
   ]
  },
  {
   "cell_type": "code",
   "execution_count": 31,
   "metadata": {},
   "outputs": [
    {
     "name": "stdout",
     "output_type": "stream",
     "text": [
      "Matriz de confusion\n"
     ]
    },
    {
     "data": {
      "text/plain": [
       "array([[5087, 1754,  617,    0,    0],\n",
       "       [ 830, 8698,  167,   15,    0],\n",
       "       [ 177,  638, 1606,    0,    0],\n",
       "       [ 996, 1392,  189,  177,    0],\n",
       "       [   5,   85,  109,    1,    0]])"
      ]
     },
     "execution_count": 31,
     "metadata": {},
     "output_type": "execute_result"
    }
   ],
   "source": [
    "print(\"Matriz de confusion\")\n",
    "matriz_de_confusion=confusion_matrix(L_nsl_testing_indexbygroup,predicciones)\n",
    "matriz_de_confusion"
   ]
  },
  {
   "cell_type": "code",
   "execution_count": null,
   "metadata": {
    "collapsed": true
   },
   "outputs": [],
   "source": []
  },
  {
   "cell_type": "code",
   "execution_count": null,
   "metadata": {
    "collapsed": true
   },
   "outputs": [],
   "source": []
  }
 ],
 "metadata": {
  "kernelspec": {
   "display_name": "Python 3",
   "language": "python",
   "name": "python3"
  },
  "language_info": {
   "codemirror_mode": {
    "name": "ipython",
    "version": 3
   },
   "file_extension": ".py",
   "mimetype": "text/x-python",
   "name": "python",
   "nbconvert_exporter": "python",
   "pygments_lexer": "ipython3",
   "version": "3.6.1"
  }
 },
 "nbformat": 4,
 "nbformat_minor": 2
}
