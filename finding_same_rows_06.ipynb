{
 "cells": [
  {
   "cell_type": "code",
   "execution_count": 6,
   "metadata": {
    "collapsed": true
   },
   "outputs": [],
   "source": [
    "import pandas as pd\n",
    "import numpy as np\n",
    "from my_classes_01 import Metodos_Thesis as MT\n",
    "pd.set_option('display.max_columns', 50)\n",
    "mc=MT()\n",
    "dataset_inicio=pd.read_csv(\"./dataset_labeled/nsl_testing_labeled.csv\")"
   ]
  },
  {
   "cell_type": "code",
   "execution_count": 7,
   "metadata": {
    "collapsed": true
   },
   "outputs": [],
   "source": [
    "inicio='Duration'\n",
    "fin='IndexBinary'"
   ]
  },
  {
   "cell_type": "code",
   "execution_count": 26,
   "metadata": {
    "scrolled": true
   },
   "outputs": [
    {
     "name": "stdout",
     "output_type": "stream",
     "text": [
      "***PREPROCESSING***\n",
      "Building the labels dimension number= 1, perteneciente al Nombre: ProtocolType\n",
      "Building the labels dimension number= 2, perteneciente al Nombre: Service\n",
      "Building the labels dimension number= 3, perteneciente al Nombre: Flag\n",
      "Building the labels dimension number= 41, perteneciente al Nombre: TypeOfAttack\n",
      "Building the labels dimension number= 43, perteneciente al Nombre: Group\n",
      "***VALORES REPETIDOS***\n",
      "Existen 0 valores repetidos\n"
     ]
    }
   ],
   "source": [
    "from sklearn import preprocessing\n",
    "dataset=dataset_inicio.loc[:,inicio:fin]\n",
    "columnas=dataset.columns\n",
    "print(\"***PREPROCESSING***\")\n",
    "for indice in range(0,len(columnas)):\n",
    "    if type(dataset.loc[0,columnas[indice]]) == str:\n",
    "        print('Building the labels dimension number= %d, perteneciente al Nombre: %s' % (indice,columnas[indice]))\n",
    "        #print('Nombre %s' % (columnas[indice]))\n",
    "        #print('Su tipo es %s=' % (str(type(data))))\n",
    "        #label enconder, object\n",
    "        label_encoder=preprocessing.LabelEncoder()\n",
    "        #label encoer, fit\n",
    "        label_encoder.fit(dataset[columnas[indice]])\n",
    "        #building the dataframe\n",
    "        dataset[columnas[indice]]=label_encoder.transform(dataset[columnas[indice]])\n",
    "    #for donde multiplica todas las columnas, para evitar los iguales al sumar \n",
    "    dataset[columnas[indice]]=dataset[columnas[indice]]*(np.random.randn())    \n",
    "        \n",
    "#obteniendo la suma del dataset\n",
    "suma=dataset.sum(axis=1)\n",
    "#adding the \"suma\" series to the dataset_inicio \n",
    "dataset_inicio[\"suma\"]=suma\n",
    "#borrando los duplicados\n",
    "series_suma=dataset_inicio[dataset_inicio.suma.duplicated(keep=False)]\n",
    "#obteniendo los valores repetidos mediante group by\n",
    "series_suma=dataset_inicio.groupby('suma').apply(lambda x: list(x.index))\n",
    "#\n",
    "print(\"***VALORES REPETIDOS***\")\n",
    "print(\"Existen %d valores repetidos\" % (len(dataset_inicio)-len(series_suma)))\n",
    "#arriba todo bien\n",
    "for indice in range(0,len(series_suma)):\n",
    "    a=[]\n",
    "    if len(series_suma[series_suma.index.values[indice]]) > 1:\n",
    "        print(\"NUEVA REPETICION en el indice suma: %f\" %(series_suma.index.values[indice]))\n",
    "        print(\"Tiene un total de instancias iguales a: %d\" %(len(series_suma[series_suma.index.values[indice]])))\n",
    "        #aqui parece el problema\n",
    "        for cantidad_instancias_repetidas in range(0,len(series_suma[series_suma.index.values[indice]])):\n",
    "            print(\"No de instancia: %d que equivale al indice dataset: %d\" %(cantidad_instancias_repetidas,series_suma[series_suma.index.values[indice]][cantidad_instancias_repetidas]))\n",
    "            ataque=dataset_inicio.loc[series_suma[series_suma.index.values[indice]][cantidad_instancias_repetidas],\"TypeOfAttack\"]\n",
    "            clase=dataset_inicio.loc[series_suma[series_suma.index.values[indice]][cantidad_instancias_repetidas],\"Group\"]\n",
    "            print(\"Pertenece al tipo de ataque: %s de la clase %s\" %(ataque, clase))\n",
    "            a=a.append(series_suma[series_suma.index.values[indice]][cantidad_instancias_repetidas])\n",
    "            if cantidad_instancias_repetidas == len(series_suma[series_suma.index.values[indice]]):\n",
    "                with pd.option_context('display.max_rows', None, 'display.max_columns', 42):\n",
    "                    print(dataset_inicio.loc[a,'TypeOfAttack':])   "
   ]
  },
  {
   "cell_type": "code",
   "execution_count": 13,
   "metadata": {
    "collapsed": true
   },
   "outputs": [],
   "source": [
    "def registros_iguales(dataset_inicio,inicio,fin):\n",
    "    from sklearn import preprocessing\n",
    "    dataset=dataset_inicio.loc[:,inicio:fin]\n",
    "    columnas=dataset.columns\n",
    "    print(\"***PREPROCESSING***\")\n",
    "    for indice in range(0,len(columnas)):\n",
    "        if type(dataset.loc[0,columnas[indice]]) == str:\n",
    "            print('Building the labels dimension number= %d, perteneciente al Nombre: %s' % (indice,columnas[indice]))\n",
    "            #print('Nombre %s' % (columnas[indice]))\n",
    "            #print('Su tipo es %s=' % (str(type(data))))\n",
    "            #label enconder, object\n",
    "            label_encoder=preprocessing.LabelEncoder()\n",
    "            #label encoer, fit\n",
    "            label_encoder.fit(dataset[columnas[indice]])\n",
    "            #building the dataframe\n",
    "            dataset[columnas[indice]]=label_encoder.transform(dataset[columnas[indice]])\n",
    "        #for donde multiplica todas las columnas, para evitar los iguales al sumar \n",
    "        dataset[columnas[indice]]=dataset[columnas[indice]]*(np.random.randn())    \n",
    "\n",
    "    #obteniendo la suma del dataset\n",
    "    suma=dataset.sum(axis=1)\n",
    "    #adding the \"suma\" series to the dataset_inicio \n",
    "    dataset_inicio[\"suma\"]=suma\n",
    "    #borrando los duplicados\n",
    "    series_suma=dataset_inicio[dataset_inicio.suma.duplicated(keep=False)]\n",
    "    #obteniendo los valores repetidos mediante group by\n",
    "    series_suma=dataset_inicio.groupby('suma').apply(lambda x: list(x.index))\n",
    "    #\n",
    "    print(\"***VALORES REPETIDOS***\")\n",
    "    print(\"Existen %d de valores repetidos\" % (len(dataset_inicio)-len(series_suma)))\n",
    "    #arriba todo bien\n",
    "    for indice in range(0,len(series_suma)):\n",
    "        if len(series_suma[series_suma.index.values[indice]]) > 1:\n",
    "            print(\"NUEVA REPETICION en el indice suma: %f\" %(series_suma.index.values[indice]))\n",
    "            print(\"Tiene un total de instancias iguales a: %d\" %(len(series_suma[series_suma.index.values[indice]])))\n",
    "            #aqui parece el problema\n",
    "            for cantidad_instancias_repetidas in range(0,len(series_suma[series_suma.index.values[indice]])):\n",
    "                print(\"No de instancia: %d que equivale al indice dataset: %d\" %(cantidad_instancias_repetidas,series_suma[series_suma.index.values[indice]][cantidad_instancias_repetidas]))\n",
    "                ataque=dataset_inicio.loc[series_suma[series_suma.index.values[indice]][cantidad_instancias_repetidas],\"TypeOfAttack\"]\n",
    "                clase=dataset_inicio.loc[series_suma[series_suma.index.values[indice]][cantidad_instancias_repetidas],\"Group\"]\n",
    "                print(\"Pertenece al tipo de ataque: %s de la clase %s\" %(ataque, clase))"
   ]
  },
  {
   "cell_type": "code",
   "execution_count": 5,
   "metadata": {},
   "outputs": [
    {
     "name": "stdout",
     "output_type": "stream",
     "text": [
      "***PREPROCESSING***\n",
      "Building the labels dimension number= 1, perteneciente al Nombre: ProtocolType\n",
      "Building the labels dimension number= 2, perteneciente al Nombre: Service\n",
      "Building the labels dimension number= 3, perteneciente al Nombre: Flag\n",
      "Building the labels dimension number= 41, perteneciente al Nombre: TypeOfAttack\n",
      "Building the labels dimension number= 43, perteneciente al Nombre: Group\n",
      "***VALORES REPETIDOS***\n",
      "Existen 0 de valores repetidos\n"
     ]
    }
   ],
   "source": [
    "registros_iguales(dataset_inicio,inicio='Duration',fin='Group')"
   ]
  },
  {
   "cell_type": "code",
   "execution_count": 11,
   "metadata": {
    "collapsed": true
   },
   "outputs": [],
   "source": [
    "from my_classes_01 import Metodos_Thesis as MT\n",
    "mc=MT()"
   ]
  },
  {
   "cell_type": "code",
   "execution_count": 12,
   "metadata": {},
   "outputs": [
    {
     "ename": "NameError",
     "evalue": "name 'dataset_inicio' is not defined",
     "output_type": "error",
     "traceback": [
      "\u001b[0;31m---------------------------------------------------------------------------\u001b[0m",
      "\u001b[0;31mNameError\u001b[0m                                 Traceback (most recent call last)",
      "\u001b[0;32m<ipython-input-12-9c6ea3a9921e>\u001b[0m in \u001b[0;36m<module>\u001b[0;34m()\u001b[0m\n\u001b[0;32m----> 1\u001b[0;31m \u001b[0mmc\u001b[0m\u001b[0;34m.\u001b[0m\u001b[0mfind_same_values\u001b[0m\u001b[0;34m(\u001b[0m\u001b[0mdataset_inicio\u001b[0m\u001b[0;34m,\u001b[0m\u001b[0minicio\u001b[0m\u001b[0;34m=\u001b[0m\u001b[0;34m'Duration'\u001b[0m\u001b[0;34m,\u001b[0m\u001b[0mfin\u001b[0m\u001b[0;34m=\u001b[0m\u001b[0;34m'Group'\u001b[0m\u001b[0;34m)\u001b[0m\u001b[0;34m\u001b[0m\u001b[0m\n\u001b[0m",
      "\u001b[0;32m/Users/Azeem/my-scripts/python/Codigo_thesis_python/my_classes_01.py\u001b[0m in \u001b[0;36mfind_same_values\u001b[0;34m(self, dataset, inicio, fin)\u001b[0m\n\u001b[1;32m    131\u001b[0m     \u001b[0;32mdef\u001b[0m \u001b[0mfind_same_values\u001b[0m\u001b[0;34m(\u001b[0m\u001b[0mself\u001b[0m\u001b[0;34m,\u001b[0m\u001b[0mdataset_inicio\u001b[0m\u001b[0;34m,\u001b[0m\u001b[0minicio\u001b[0m\u001b[0;34m=\u001b[0m\u001b[0;34m'Duration'\u001b[0m\u001b[0;34m,\u001b[0m\u001b[0mfin\u001b[0m\u001b[0;34m=\u001b[0m\u001b[0;34m'Group'\u001b[0m\u001b[0;34m)\u001b[0m\u001b[0;34m:\u001b[0m\u001b[0;34m\u001b[0m\u001b[0m\n\u001b[1;32m    132\u001b[0m         \u001b[0;32mfrom\u001b[0m \u001b[0msklearn\u001b[0m \u001b[0;32mimport\u001b[0m \u001b[0mpreprocessing\u001b[0m\u001b[0;34m\u001b[0m\u001b[0m\n\u001b[0;32m--> 133\u001b[0;31m         \u001b[0mdataset\u001b[0m \u001b[0;34m=\u001b[0m \u001b[0mdataset_inicio\u001b[0m\u001b[0;34m.\u001b[0m\u001b[0mloc\u001b[0m\u001b[0;34m[\u001b[0m\u001b[0;34m:\u001b[0m\u001b[0;34m,\u001b[0m \u001b[0minicio\u001b[0m\u001b[0;34m:\u001b[0m\u001b[0mfin\u001b[0m\u001b[0;34m]\u001b[0m\u001b[0;34m\u001b[0m\u001b[0m\n\u001b[0m\u001b[1;32m    134\u001b[0m         \u001b[0mcolumnas\u001b[0m \u001b[0;34m=\u001b[0m \u001b[0mdataset\u001b[0m\u001b[0;34m.\u001b[0m\u001b[0mcolumns\u001b[0m\u001b[0;34m\u001b[0m\u001b[0m\n\u001b[1;32m    135\u001b[0m         \u001b[0mprint\u001b[0m\u001b[0;34m(\u001b[0m\u001b[0;34m\"***PREPROCESSING***\"\u001b[0m\u001b[0;34m)\u001b[0m\u001b[0;34m\u001b[0m\u001b[0m\n",
      "\u001b[0;31mNameError\u001b[0m: name 'dataset_inicio' is not defined"
     ]
    }
   ],
   "source": [
    "mc.find_same_values(dataset_inicio,inicio='Duration',fin='Group')"
   ]
  },
  {
   "cell_type": "code",
   "execution_count": 22,
   "metadata": {},
   "outputs": [
    {
     "name": "stdout",
     "output_type": "stream",
     "text": [
      "a\n"
     ]
    }
   ],
   "source": [
    "if (len(dataset_inicio)-len(series_suma)) == 0:\n",
    "    print('a')"
   ]
  },
  {
   "cell_type": "code",
   "execution_count": null,
   "metadata": {
    "collapsed": true
   },
   "outputs": [],
   "source": [
    "    def encuentra_filas_iguales(self,dataset_inicio,inicio='Duration',fin='Group'):\n",
    "        from sklearn import preprocessing\n",
    "        import numpy as np\n",
    "        dataset = dataset_inicio.loc[:, inicio:fin]\n",
    "        columnas = dataset.columns\n",
    "        print(\"***PREPROCESSING***\")\n",
    "        for indice in range(0, len(columnas)):\n",
    "            if type(dataset.loc[0, columnas[indice]]) == str:\n",
    "                print('Building the labels dimension number= %d, perteneciente al Nombre: %s' % (\n",
    "                indice, columnas[indice]))\n",
    "                # print('Nombre %s' % (columnas[indice]))\n",
    "                # print('Su tipo es %s=' % (str(type(data))))\n",
    "                # label enconder, object\n",
    "                label_encoder = preprocessing.LabelEncoder()\n",
    "                # label encoer, fit\n",
    "                label_encoder.fit(dataset[columnas[indice]])\n",
    "                # building the dataframe\n",
    "                dataset[columnas[indice]] = label_encoder.transform(dataset[columnas[indice]])\n",
    "            # for donde multiplica todas las columnas, para evitar los iguales al sumar\n",
    "            dataset[columnas[indice]] = dataset[columnas[indice]] * (np.random.randn())\n",
    "\n",
    "            # obteniendo la suma del dataset\n",
    "        suma = dataset.sum(axis=1)\n",
    "        # adding the \"suma\" series to the dataset_inicio\n",
    "        dataset_inicio[\"suma\"] = suma\n",
    "        # borrando los duplicados\n",
    "        series_suma = dataset_inicio[dataset_inicio.suma.duplicated(keep=False)]\n",
    "        # obteniendo los valores repetidos mediante group by\n",
    "        series_suma = dataset_inicio.groupby('suma').apply(lambda x: list(x.index))\n",
    "        #\n",
    "        print(\"***VALORES REPETIDOS***\")\n",
    "        print(\"Existen %d de valores repetidos\" % (len(dataset_inicio) - len(series_suma)))\n",
    "        # arriba todo bien\n",
    "        for indice in range(0, len(series_suma)):\n",
    "            if len(series_suma[series_suma.index.values[indice]]) > 1:\n",
    "                print(\"***NUEVA REPETICION en el indice suma: %f\" % (series_suma.index.values[indice]))\n",
    "                print(\n",
    "                \"Tiene un total de instancias iguales a: %d\" % (len(series_suma[series_suma.index.values[indice]])))\n",
    "                # aqui parece el problema\n",
    "                for cantidad_instancias_repetidas in range(0, len(series_suma[series_suma.index.values[indice]])):\n",
    "                    print(\"No de instancia: %d que equivale al indice dataset: %d\" % (cantidad_instancias_repetidas,\n",
    "                                                                                      series_suma[\n",
    "                                                                                          series_suma.index.values[\n",
    "                                                                                              indice]][\n",
    "                                                                                          cantidad_instancias_repetidas]))\n",
    "                    ataque = dataset_inicio.loc[series_suma[series_suma.index.values[indice]][\n",
    "                                                    cantidad_instancias_repetidas], \"TypeOfAttack\"]\n",
    "                    clase = dataset_inicio.loc[\n",
    "                        series_suma[series_suma.index.values[indice]][cantidad_instancias_repetidas], \"Group\"]\n",
    "                    print(\"Pertenece al tipo de ataque: %s de la clase %s\" % (ataque, clase))\n"
   ]
  }
 ],
 "metadata": {
  "kernelspec": {
   "display_name": "Python 3",
   "language": "python",
   "name": "python3"
  },
  "language_info": {
   "codemirror_mode": {
    "name": "ipython",
    "version": 3
   },
   "file_extension": ".py",
   "mimetype": "text/x-python",
   "name": "python",
   "nbconvert_exporter": "python",
   "pygments_lexer": "ipython3",
   "version": "3.6.1"
  }
 },
 "nbformat": 4,
 "nbformat_minor": 2
}
