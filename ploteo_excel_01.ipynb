{
 "cells": [
  {
   "cell_type": "code",
   "execution_count": 1,
   "metadata": {
    "collapsed": true
   },
   "outputs": [],
   "source": [
    "import pymysql.cursors\n",
    "import pymysql\n",
    "import pandas as pd\n",
    "import time\n",
    "import numpy as np\n",
    "import glob"
   ]
  },
  {
   "cell_type": "code",
   "execution_count": 2,
   "metadata": {},
   "outputs": [
    {
     "name": "stdout",
     "output_type": "stream",
     "text": [
      "\n",
      " Tiempo:\n",
      "\n",
      "--- 0.022974014282226562 seconds ---\n"
     ]
    }
   ],
   "source": [
    "# Connect to the database\n",
    "start_time = time.time()\n",
    "db_connection = pymysql.connect(host='10.106.12.218',\n",
    "                             user='triage',\n",
    "                             password='tr1463.11',\n",
    "                             #charset='utf8mb4',\n",
    "                             cursorclass=pymysql.cursors.DictCursor)\n",
    "\n",
    "t_evaluacion_b_o=(time.time() - start_time)\n",
    "print(\"\\n Tiempo:\\n\")\n",
    "print(\"--- %s seconds ---\" % t_evaluacion_b_o)"
   ]
  },
  {
   "cell_type": "code",
   "execution_count": 3,
   "metadata": {
    "collapsed": true
   },
   "outputs": [],
   "source": [
    "#declaring month dictionaries"
   ]
  },
  {
   "cell_type": "code",
   "execution_count": 4,
   "metadata": {
    "collapsed": true
   },
   "outputs": [],
   "source": [
    "pd.set_option('display.max_rows', 100)\n",
    "pd.set_option('display.max_columns', 100)"
   ]
  },
  {
   "cell_type": "code",
   "execution_count": 5,
   "metadata": {},
   "outputs": [
    {
     "name": "stdout",
     "output_type": "stream",
     "text": [
      "\n",
      " Tiempo:\n",
      "\n",
      "--- 7.355618000030518 seconds ---\n"
     ]
    }
   ],
   "source": [
    "start_time = time.time()\n",
    "tracker = pd.read_sql('SELECT * FROM develop.tracker_v2', con=db_connection)\n",
    "t_evaluacion_b_o=(time.time() - start_time)\n",
    "print(\"\\n Tiempo:\\n\")\n",
    "print(\"--- %s seconds ---\" % t_evaluacion_b_o)\n",
    "\n"
   ]
  },
  {
   "cell_type": "code",
   "execution_count": 6,
   "metadata": {},
   "outputs": [
    {
     "name": "stdout",
     "output_type": "stream",
     "text": [
      "\n",
      " Tiempo:\n",
      "\n",
      "--- 3.4115898609161377 seconds ---\n"
     ]
    }
   ],
   "source": [
    "start_time = time.time()\n",
    "accute_history=pd.read_sql('SELECT * FROM daily_movers.acuteshistory_v1', con=db_connection)\n",
    "t_evaluacion_b_o=(time.time() - start_time)\n",
    "print(\"\\n Tiempo:\\n\")\n",
    "print(\"--- %s seconds ---\" % t_evaluacion_b_o)\n",
    "\n",
    "\n",
    "\n"
   ]
  },
  {
   "cell_type": "code",
   "execution_count": 9,
   "metadata": {
    "collapsed": true
   },
   "outputs": [],
   "source": [
    "#funcion para el filtrado\n",
    "def date_spliting(pandas_df):\n",
    "    pandas_df[\"anio\"]=0\n",
    "    pandas_df[\"mes\"]=0\n",
    "    pandas_df[\"dia\"]=0\n",
    "    #pandas_df[\"ID_date\"]=0\n",
    "    for i in list(range(0,len(pandas_df))):\n",
    "        pandas_df[\"anio\"].iat[i]=pandas_df[\"DATE\"].iat[i].year\n",
    "        pandas_df[\"mes\"].iat[i]=pandas_df[\"DATE\"].iat[i].month\n",
    "        pandas_df[\"dia\"].iat[i]=pandas_df[\"DATE\"].iat[i].day\n",
    "    return pandas_df\n",
    "    "
   ]
  },
  {
   "cell_type": "markdown",
   "metadata": {},
   "source": [
    "# ------------------------------------------------------------"
   ]
  },
  {
   "cell_type": "code",
   "execution_count": 7,
   "metadata": {
    "collapsed": true
   },
   "outputs": [],
   "source": [
    "#lectura de mi database"
   ]
  },
  {
   "cell_type": "code",
   "execution_count": 25,
   "metadata": {
    "collapsed": true
   },
   "outputs": [],
   "source": [
    "#filtrado de accute_history\n",
    "accute_history=date_spliting(accute_history)\n",
    "#changint the \\r in CATEGORIZATION\n",
    "accute_history.loc[accute_history[\"CATEGORIZATION_B\"]==\"ACUTE HIGH PRIORITY\\r\", \"CATEGORIZATION_B\"]=\"ACUTE HIGH PRIORITY\"\n",
    "accute_history.loc[accute_history[\"CATEGORIZATION_B\"]==\"ACUTE LOW PRIORITY\\r\", \"CATEGORIZATION_B\"]=\"ACUTE LOW PRIORITY\"\n",
    "\n"
   ]
  },
  {
   "cell_type": "code",
   "execution_count": 29,
   "metadata": {},
   "outputs": [],
   "source": [
    "#filtrado de tracker\n",
    "#tracker.categ.unique()\n",
    "tracker.loc[tracker[\"categ\"]==\"ACUTE HIGH PRIORITY\\r\", \"categ\"]=\"ACUTE HIGH PRIORITY\"\n",
    "tracker.loc[tracker[\"categ\"]==\"ACUTE LOW PRIORITY\\r\", \"categ\"]=\"ACUTE LOW PRIORITY\"\n",
    "#agregado de date al tracker\n",
    "#con date solo obtiene el date; time obtiene el time\n",
    "tracker[\"DATE\"] = pd.to_datetime(tracker[\"fecReport\"]).dt.date\n",
    "#\n",
    "\n",
    "tracker=date_spliting(tracker)"
   ]
  },
  {
   "cell_type": "code",
   "execution_count": 37,
   "metadata": {},
   "outputs": [
    {
     "data": {
      "text/html": [
       "<div>\n",
       "<style>\n",
       "    .dataframe thead tr:only-child th {\n",
       "        text-align: right;\n",
       "    }\n",
       "\n",
       "    .dataframe thead th {\n",
       "        text-align: left;\n",
       "    }\n",
       "\n",
       "    .dataframe tbody tr th {\n",
       "        vertical-align: top;\n",
       "    }\n",
       "</style>\n",
       "<table border=\"1\" class=\"dataframe\">\n",
       "  <thead>\n",
       "    <tr style=\"text-align: right;\">\n",
       "      <th></th>\n",
       "      <th>idT</th>\n",
       "      <th>ticket</th>\n",
       "      <th>region</th>\n",
       "      <th>RNC_NAME</th>\n",
       "      <th>market</th>\n",
       "      <th>fecReport</th>\n",
       "      <th>fecSol</th>\n",
       "      <th>SITE_NAME</th>\n",
       "      <th>CELL_NAME</th>\n",
       "      <th>sintoma</th>\n",
       "      <th>rootCause</th>\n",
       "      <th>proposalT</th>\n",
       "      <th>stat</th>\n",
       "      <th>depto</th>\n",
       "      <th>categ</th>\n",
       "      <th>categ_update</th>\n",
       "      <th>solvebycateg</th>\n",
       "      <th>inge</th>\n",
       "      <th>acc_weight_reg</th>\n",
       "      <th>national_weight</th>\n",
       "      <th>bitacora</th>\n",
       "      <th>vendor</th>\n",
       "      <th>tech</th>\n",
       "      <th>ACC_RET</th>\n",
       "      <th>autMover</th>\n",
       "      <th>type</th>\n",
       "    </tr>\n",
       "  </thead>\n",
       "  <tbody>\n",
       "  </tbody>\n",
       "</table>\n",
       "</div>"
      ],
      "text/plain": [
       "Empty DataFrame\n",
       "Columns: [idT, ticket, region, RNC_NAME, market, fecReport, fecSol, SITE_NAME, CELL_NAME, sintoma, rootCause, proposalT, stat, depto, categ, categ_update, solvebycateg, inge, acc_weight_reg, national_weight, bitacora, vendor, tech, ACC_RET, autMover, type]\n",
       "Index: []"
      ]
     },
     "execution_count": 37,
     "metadata": {},
     "output_type": "execute_result"
    }
   ],
   "source": [
    "tracker[tracker.fecReport==None]"
   ]
  },
  {
   "cell_type": "code",
   "execution_count": 41,
   "metadata": {
    "collapsed": true
   },
   "outputs": [],
   "source": [
    "tracker[\"DATE\"] = pd.to_datetime(tracker[\"fecReport\"]).dt.date"
   ]
  },
  {
   "cell_type": "code",
   "execution_count": 55,
   "metadata": {},
   "outputs": [
    {
     "data": {
      "text/plain": [
       "array([datetime.date(2016, 10, 24), datetime.date(2016, 10, 26),\n",
       "       datetime.date(2016, 10, 27), datetime.date(2016, 10, 28),\n",
       "       datetime.date(2016, 10, 30), datetime.date(2016, 10, 31),\n",
       "       datetime.date(2016, 11, 1), datetime.date(2016, 11, 3),\n",
       "       datetime.date(2016, 11, 4), datetime.date(2016, 11, 7),\n",
       "       datetime.date(2016, 11, 8), datetime.date(2016, 11, 9),\n",
       "       datetime.date(2016, 11, 10), datetime.date(2016, 11, 11),\n",
       "       datetime.date(2016, 11, 14), datetime.date(2016, 11, 15),\n",
       "       datetime.date(2016, 11, 16), datetime.date(2016, 11, 17),\n",
       "       datetime.date(2016, 11, 18), datetime.date(2016, 11, 22),\n",
       "       datetime.date(2016, 11, 23), datetime.date(2016, 11, 24),\n",
       "       datetime.date(2016, 11, 25), datetime.date(2016, 11, 28),\n",
       "       datetime.date(2016, 11, 29), datetime.date(2016, 11, 30),\n",
       "       datetime.date(2016, 12, 1), datetime.date(2016, 12, 2),\n",
       "       datetime.date(2016, 12, 5), datetime.date(2016, 12, 6),\n",
       "       datetime.date(2016, 12, 7), datetime.date(2016, 12, 8),\n",
       "       datetime.date(2016, 12, 9), datetime.date(2016, 12, 12),\n",
       "       datetime.date(2016, 12, 13), datetime.date(2016, 12, 14),\n",
       "       datetime.date(2016, 12, 15), datetime.date(2016, 12, 16),\n",
       "       datetime.date(2016, 12, 19), datetime.date(2016, 12, 20),\n",
       "       datetime.date(2016, 12, 22), datetime.date(2016, 12, 23),\n",
       "       datetime.date(2016, 12, 26), datetime.date(2016, 12, 27),\n",
       "       datetime.date(2016, 12, 28), datetime.date(2016, 12, 29),\n",
       "       datetime.date(2017, 1, 2), datetime.date(2017, 1, 3),\n",
       "       datetime.date(2017, 1, 4), datetime.date(2017, 1, 5),\n",
       "       datetime.date(2017, 1, 9), datetime.date(2017, 1, 10),\n",
       "       datetime.date(2017, 1, 11), datetime.date(2017, 1, 12),\n",
       "       datetime.date(2017, 1, 13), datetime.date(2017, 1, 16),\n",
       "       datetime.date(2017, 1, 17), datetime.date(2017, 1, 18),\n",
       "       datetime.date(2017, 1, 19), datetime.date(2017, 1, 20),\n",
       "       datetime.date(2017, 1, 23), datetime.date(2017, 1, 24),\n",
       "       datetime.date(2017, 1, 25), datetime.date(2017, 1, 26),\n",
       "       datetime.date(2017, 1, 27), datetime.date(2017, 1, 30),\n",
       "       datetime.date(2017, 1, 31), datetime.date(2017, 2, 1),\n",
       "       datetime.date(2017, 2, 2), datetime.date(2017, 2, 3),\n",
       "       datetime.date(2017, 2, 7), datetime.date(2017, 2, 8),\n",
       "       datetime.date(2017, 2, 9), datetime.date(2017, 2, 10),\n",
       "       datetime.date(2017, 2, 13), datetime.date(2017, 2, 14),\n",
       "       datetime.date(2017, 2, 15), datetime.date(2017, 2, 16),\n",
       "       datetime.date(2017, 2, 17), datetime.date(2017, 2, 20),\n",
       "       datetime.date(2017, 2, 21), datetime.date(2017, 2, 22),\n",
       "       datetime.date(2017, 2, 23), datetime.date(2017, 2, 24),\n",
       "       datetime.date(2017, 2, 27), datetime.date(2017, 2, 28),\n",
       "       datetime.date(2017, 3, 1), datetime.date(2017, 3, 2),\n",
       "       datetime.date(2017, 3, 3), datetime.date(2017, 3, 6),\n",
       "       datetime.date(2017, 3, 7), datetime.date(2017, 3, 8),\n",
       "       datetime.date(2017, 3, 9), datetime.date(2017, 3, 10),\n",
       "       datetime.date(2017, 3, 13), datetime.date(2017, 3, 14),\n",
       "       datetime.date(2017, 3, 15), datetime.date(2017, 3, 16),\n",
       "       datetime.date(2017, 3, 17), datetime.date(2017, 3, 21),\n",
       "       datetime.date(2017, 3, 22), datetime.date(2017, 3, 23),\n",
       "       datetime.date(2017, 3, 24), datetime.date(2017, 3, 27),\n",
       "       datetime.date(2017, 3, 28), datetime.date(2017, 3, 29),\n",
       "       datetime.date(2017, 3, 30), datetime.date(2017, 3, 31),\n",
       "       datetime.date(2017, 5, 8), datetime.date(2017, 5, 9),\n",
       "       datetime.date(2017, 5, 10), datetime.date(2017, 5, 11),\n",
       "       datetime.date(2017, 5, 12), datetime.date(2017, 4, 18),\n",
       "       datetime.date(2017, 4, 20), datetime.date(2017, 4, 19),\n",
       "       datetime.date(2017, 4, 3), datetime.date(2017, 4, 4),\n",
       "       datetime.date(2017, 4, 5), datetime.date(2017, 4, 6),\n",
       "       datetime.date(2017, 4, 10), datetime.date(2017, 4, 7),\n",
       "       datetime.date(2017, 4, 11), datetime.date(2017, 4, 12),\n",
       "       datetime.date(2017, 4, 17), datetime.date(2017, 4, 21),\n",
       "       datetime.date(2017, 4, 24), datetime.date(2017, 4, 25),\n",
       "       datetime.date(2017, 4, 26), datetime.date(2017, 4, 27),\n",
       "       datetime.date(2017, 4, 28), datetime.date(2017, 5, 2),\n",
       "       datetime.date(2017, 5, 3), datetime.date(2017, 5, 4),\n",
       "       datetime.date(2017, 5, 5), datetime.date(2017, 5, 15),\n",
       "       datetime.date(2017, 5, 16), datetime.date(2017, 5, 17),\n",
       "       datetime.date(2017, 5, 18), datetime.date(2017, 5, 19),\n",
       "       datetime.date(2017, 5, 22), datetime.date(2017, 5, 23),\n",
       "       datetime.date(2017, 5, 24), datetime.date(2017, 5, 25),\n",
       "       datetime.date(2017, 5, 26), datetime.date(2017, 5, 29),\n",
       "       datetime.date(2017, 5, 30), datetime.date(2017, 5, 31),\n",
       "       datetime.date(2017, 6, 1), datetime.date(2017, 6, 2),\n",
       "       datetime.date(2017, 6, 5), datetime.date(2017, 6, 6),\n",
       "       datetime.date(2017, 6, 7), datetime.date(2017, 6, 8),\n",
       "       datetime.date(2017, 6, 9), datetime.date(2017, 6, 12),\n",
       "       datetime.date(2017, 6, 13), datetime.date(2017, 6, 14),\n",
       "       datetime.date(2017, 6, 15), datetime.date(2017, 6, 16),\n",
       "       datetime.date(2017, 6, 19), datetime.date(2017, 6, 20),\n",
       "       datetime.date(2017, 6, 21), datetime.date(2017, 6, 22),\n",
       "       datetime.date(2017, 6, 23), datetime.date(2017, 6, 26),\n",
       "       datetime.date(2017, 6, 27), datetime.date(2017, 6, 28),\n",
       "       datetime.date(2017, 6, 29), datetime.date(2017, 6, 30),\n",
       "       datetime.date(2017, 7, 3), datetime.date(2017, 7, 4),\n",
       "       datetime.date(2017, 7, 5), datetime.date(2017, 7, 6),\n",
       "       datetime.date(2017, 7, 7), datetime.date(2017, 7, 10),\n",
       "       datetime.date(2017, 7, 11), datetime.date(2017, 7, 12),\n",
       "       datetime.date(2017, 7, 13), datetime.date(2017, 7, 14),\n",
       "       datetime.date(2017, 7, 17), datetime.date(2017, 7, 18),\n",
       "       datetime.date(2017, 7, 19), datetime.date(2017, 7, 20),\n",
       "       datetime.date(2017, 7, 21), datetime.date(2017, 7, 24),\n",
       "       datetime.date(2017, 8, 1), datetime.date(2017, 7, 25),\n",
       "       datetime.date(2017, 7, 26), datetime.date(2017, 7, 27),\n",
       "       datetime.date(2017, 7, 28), datetime.date(2017, 7, 31),\n",
       "       datetime.date(2017, 8, 2), datetime.date(2017, 8, 3),\n",
       "       datetime.date(2017, 8, 4), datetime.date(2017, 8, 7),\n",
       "       datetime.date(2017, 8, 8), datetime.date(2017, 8, 9),\n",
       "       datetime.date(2017, 8, 10), datetime.date(2017, 8, 11),\n",
       "       datetime.date(2017, 8, 14), datetime.date(2017, 8, 15),\n",
       "       datetime.date(2017, 8, 16), datetime.date(2017, 8, 17),\n",
       "       datetime.date(2017, 8, 18), datetime.date(2017, 8, 21),\n",
       "       datetime.date(2017, 8, 22), datetime.date(2017, 8, 23),\n",
       "       datetime.date(2017, 8, 24), datetime.date(2017, 8, 25),\n",
       "       datetime.date(2017, 8, 28), datetime.date(2017, 8, 29),\n",
       "       datetime.date(2017, 8, 30), datetime.date(2017, 8, 31),\n",
       "       datetime.date(2017, 9, 1), datetime.date(2017, 9, 4),\n",
       "       datetime.date(2017, 9, 5), datetime.date(2017, 9, 6),\n",
       "       datetime.date(2017, 9, 7), datetime.date(2017, 9, 8),\n",
       "       datetime.date(2017, 9, 11), datetime.date(2017, 9, 12),\n",
       "       datetime.date(2017, 9, 13), datetime.date(2017, 9, 14),\n",
       "       datetime.date(2017, 9, 15), datetime.date(2017, 9, 18),\n",
       "       datetime.date(2017, 9, 19), datetime.date(2017, 9, 22),\n",
       "       datetime.date(2017, 9, 25), datetime.date(2017, 9, 21),\n",
       "       datetime.date(2017, 9, 26), datetime.date(2017, 9, 27),\n",
       "       datetime.date(2017, 9, 28), datetime.date(2017, 9, 29),\n",
       "       datetime.date(2017, 10, 2), datetime.date(2017, 10, 3),\n",
       "       datetime.date(2017, 10, 4), datetime.date(2017, 10, 5),\n",
       "       datetime.date(2017, 10, 20), datetime.date(2017, 10, 6),\n",
       "       datetime.date(2017, 10, 9), datetime.date(2017, 10, 10),\n",
       "       datetime.date(2017, 10, 11), datetime.date(2017, 10, 12),\n",
       "       datetime.date(2017, 10, 13), datetime.date(2017, 10, 16),\n",
       "       datetime.date(2017, 10, 17), datetime.date(2017, 10, 18),\n",
       "       datetime.date(2017, 10, 19), datetime.date(2017, 10, 23),\n",
       "       datetime.date(2017, 10, 24), datetime.date(2017, 10, 25),\n",
       "       datetime.date(2017, 10, 26), datetime.date(2017, 10, 27),\n",
       "       datetime.date(2017, 10, 30), datetime.date(2017, 10, 31),\n",
       "       datetime.date(2017, 11, 1), datetime.date(2017, 11, 3),\n",
       "       datetime.date(2017, 11, 6), datetime.date(2017, 11, 7),\n",
       "       datetime.date(2017, 11, 8), datetime.date(2017, 11, 2),\n",
       "       datetime.date(2017, 11, 4), datetime.date(2017, 11, 9),\n",
       "       datetime.date(2017, 11, 10), datetime.date(2017, 11, 13),\n",
       "       datetime.date(2017, 11, 14), datetime.date(2017, 11, 15),\n",
       "       datetime.date(2017, 11, 16), datetime.date(2017, 11, 17),\n",
       "       datetime.date(2017, 11, 18), datetime.date(2017, 11, 19),\n",
       "       datetime.date(2017, 11, 20), datetime.date(2017, 11, 21),\n",
       "       datetime.date(2017, 11, 22), datetime.date(2017, 11, 23),\n",
       "       datetime.date(2017, 11, 24), datetime.date(2017, 11, 25),\n",
       "       datetime.date(2017, 11, 26), datetime.date(2017, 11, 27),\n",
       "       datetime.date(2017, 11, 12), datetime.date(2017, 11, 28),\n",
       "       datetime.date(2017, 11, 29), datetime.date(2017, 11, 30),\n",
       "       datetime.date(2017, 12, 1), datetime.date(2017, 12, 4),\n",
       "       datetime.date(2017, 12, 5), datetime.date(2017, 12, 6),\n",
       "       datetime.date(2017, 12, 3), datetime.date(2017, 12, 7),\n",
       "       datetime.date(2017, 12, 8), datetime.date(2017, 12, 9),\n",
       "       datetime.date(2017, 12, 10), datetime.date(2017, 12, 11),\n",
       "       datetime.date(2017, 12, 12), datetime.date(2017, 12, 13),\n",
       "       datetime.date(2017, 12, 14), datetime.date(2017, 12, 15),\n",
       "       datetime.date(2017, 12, 16), datetime.date(2017, 12, 17),\n",
       "       datetime.date(2017, 12, 18), datetime.date(2017, 12, 19),\n",
       "       datetime.date(2017, 12, 20), datetime.date(2018, 1, 2),\n",
       "       datetime.date(2017, 12, 21), datetime.date(2017, 12, 22),\n",
       "       datetime.date(2017, 12, 23), datetime.date(2017, 12, 24),\n",
       "       datetime.date(2017, 12, 25), datetime.date(2017, 12, 26),\n",
       "       datetime.date(2017, 12, 27), datetime.date(2017, 12, 28),\n",
       "       datetime.date(2017, 12, 29), datetime.date(2018, 1, 3),\n",
       "       datetime.date(2018, 1, 4), datetime.date(2018, 2, 26),\n",
       "       datetime.date(2018, 1, 5), datetime.date(2018, 1, 6),\n",
       "       datetime.date(2018, 1, 7), datetime.date(2018, 1, 8),\n",
       "       datetime.date(2018, 1, 9), datetime.date(2018, 1, 10),\n",
       "       datetime.date(2018, 1, 11), datetime.date(2018, 1, 12),\n",
       "       datetime.date(2018, 1, 13), datetime.date(2018, 1, 14),\n",
       "       datetime.date(2018, 1, 15), datetime.date(2018, 1, 16),\n",
       "       datetime.date(2018, 1, 17), datetime.date(2018, 1, 18),\n",
       "       datetime.date(2018, 1, 19), datetime.date(2018, 1, 20),\n",
       "       datetime.date(2018, 1, 21), datetime.date(2018, 1, 22),\n",
       "       datetime.date(2018, 1, 23), datetime.date(2018, 1, 24),\n",
       "       datetime.date(2018, 1, 25), datetime.date(2018, 1, 26),\n",
       "       datetime.date(2018, 1, 27), datetime.date(2018, 1, 28),\n",
       "       datetime.date(2018, 1, 29), datetime.date(2018, 1, 30),\n",
       "       datetime.date(2018, 1, 31), datetime.date(2018, 2, 1),\n",
       "       datetime.date(2018, 2, 2), datetime.date(2018, 2, 3),\n",
       "       datetime.date(2018, 2, 4), datetime.date(2018, 2, 6),\n",
       "       datetime.date(2018, 2, 7), datetime.date(2018, 2, 8),\n",
       "       datetime.date(2018, 2, 9), datetime.date(2018, 2, 10),\n",
       "       datetime.date(2018, 2, 11), datetime.date(2018, 2, 12),\n",
       "       datetime.date(2018, 2, 13), datetime.date(2018, 2, 14),\n",
       "       datetime.date(2018, 2, 15), datetime.date(2018, 2, 16),\n",
       "       datetime.date(2018, 2, 17), datetime.date(2018, 2, 18),\n",
       "       datetime.date(2018, 2, 19), datetime.date(2018, 2, 20),\n",
       "       datetime.date(2018, 2, 21), datetime.date(2018, 2, 22),\n",
       "       datetime.date(2018, 2, 23), datetime.date(2018, 2, 24),\n",
       "       datetime.date(2018, 2, 25), datetime.date(2018, 2, 27),\n",
       "       datetime.date(2018, 3, 1), datetime.date(2018, 3, 2),\n",
       "       datetime.date(2018, 3, 5), datetime.date(2018, 2, 28),\n",
       "       datetime.date(2018, 3, 6), nan, datetime.date(2018, 3, 7),\n",
       "       datetime.date(2018, 3, 8), datetime.date(2018, 3, 9),\n",
       "       datetime.date(2018, 3, 12), datetime.date(2018, 3, 13),\n",
       "       datetime.date(2018, 3, 14), datetime.date(2018, 3, 15),\n",
       "       datetime.date(2018, 3, 16), datetime.date(2018, 3, 20),\n",
       "       datetime.date(2018, 3, 21), datetime.date(2018, 3, 22),\n",
       "       datetime.date(2018, 3, 23), datetime.date(2018, 3, 26),\n",
       "       datetime.date(2018, 3, 27), datetime.date(2018, 3, 28),\n",
       "       datetime.date(2018, 4, 2), datetime.date(2018, 4, 3),\n",
       "       datetime.date(2018, 4, 4), datetime.date(2018, 4, 5),\n",
       "       datetime.date(2018, 4, 9), datetime.date(2018, 4, 6),\n",
       "       datetime.date(2018, 4, 10), datetime.date(2018, 4, 11),\n",
       "       datetime.date(2018, 4, 12), datetime.date(2018, 4, 13),\n",
       "       datetime.date(2018, 4, 17), datetime.date(2018, 4, 16),\n",
       "       datetime.date(2018, 4, 18), datetime.date(2018, 4, 19),\n",
       "       datetime.date(2018, 4, 20), datetime.date(2018, 4, 23),\n",
       "       datetime.date(2018, 4, 24), datetime.date(2018, 4, 25)], dtype=object)"
      ]
     },
     "execution_count": 55,
     "metadata": {},
     "output_type": "execute_result"
    }
   ],
   "source": [
    "tracker.DATE.unique()"
   ]
  },
  {
   "cell_type": "code",
   "execution_count": 54,
   "metadata": {},
   "outputs": [
    {
     "data": {
      "text/html": [
       "<div>\n",
       "<style>\n",
       "    .dataframe thead tr:only-child th {\n",
       "        text-align: right;\n",
       "    }\n",
       "\n",
       "    .dataframe thead th {\n",
       "        text-align: left;\n",
       "    }\n",
       "\n",
       "    .dataframe tbody tr th {\n",
       "        vertical-align: top;\n",
       "    }\n",
       "</style>\n",
       "<table border=\"1\" class=\"dataframe\">\n",
       "  <thead>\n",
       "    <tr style=\"text-align: right;\">\n",
       "      <th></th>\n",
       "      <th>idT</th>\n",
       "      <th>ticket</th>\n",
       "      <th>region</th>\n",
       "      <th>RNC_NAME</th>\n",
       "      <th>market</th>\n",
       "      <th>fecReport</th>\n",
       "      <th>fecSol</th>\n",
       "      <th>SITE_NAME</th>\n",
       "      <th>CELL_NAME</th>\n",
       "      <th>sintoma</th>\n",
       "      <th>rootCause</th>\n",
       "      <th>proposalT</th>\n",
       "      <th>stat</th>\n",
       "      <th>depto</th>\n",
       "      <th>categ</th>\n",
       "      <th>categ_update</th>\n",
       "      <th>solvebycateg</th>\n",
       "      <th>inge</th>\n",
       "      <th>acc_weight_reg</th>\n",
       "      <th>national_weight</th>\n",
       "      <th>bitacora</th>\n",
       "      <th>vendor</th>\n",
       "      <th>tech</th>\n",
       "      <th>ACC_RET</th>\n",
       "      <th>autMover</th>\n",
       "      <th>type</th>\n",
       "      <th>DATE</th>\n",
       "      <th>anio</th>\n",
       "      <th>mes</th>\n",
       "      <th>dia</th>\n",
       "    </tr>\n",
       "  </thead>\n",
       "  <tbody>\n",
       "  </tbody>\n",
       "</table>\n",
       "</div>"
      ],
      "text/plain": [
       "Empty DataFrame\n",
       "Columns: [idT, ticket, region, RNC_NAME, market, fecReport, fecSol, SITE_NAME, CELL_NAME, sintoma, rootCause, proposalT, stat, depto, categ, categ_update, solvebycateg, inge, acc_weight_reg, national_weight, bitacora, vendor, tech, ACC_RET, autMover, type, DATE, anio, mes, dia]\n",
       "Index: []"
      ]
     },
     "execution_count": 54,
     "metadata": {},
     "output_type": "execute_result"
    }
   ],
   "source": [
    "tracker[tracker.DATE=='nan']"
   ]
  },
  {
   "cell_type": "code",
   "execution_count": 47,
   "metadata": {},
   "outputs": [
    {
     "data": {
      "text/plain": [
       "array(['2016-10-24T00:00:00.000000000', '2016-10-26T00:00:00.000000000',\n",
       "       '2016-10-27T00:00:00.000000000', ...,\n",
       "       '2018-04-25T10:25:45.000000000', '2018-04-25T10:29:10.000000000',\n",
       "       '2018-04-25T10:31:59.000000000'], dtype='datetime64[ns]')"
      ]
     },
     "execution_count": 47,
     "metadata": {},
     "output_type": "execute_result"
    }
   ],
   "source": [
    "tracker.fecReport.unique()"
   ]
  },
  {
   "cell_type": "code",
   "execution_count": 48,
   "metadata": {},
   "outputs": [
    {
     "name": "stdout",
     "output_type": "stream",
     "text": [
      "<class 'pandas.core.frame.DataFrame'>\n",
      "RangeIndex: 36019 entries, 0 to 36018\n",
      "Data columns (total 30 columns):\n",
      "idT                36019 non-null int64\n",
      "ticket             24219 non-null object\n",
      "region             36019 non-null object\n",
      "RNC_NAME           36002 non-null object\n",
      "market             36019 non-null object\n",
      "fecReport          35917 non-null datetime64[ns]\n",
      "fecSol             23351 non-null object\n",
      "SITE_NAME          36019 non-null object\n",
      "CELL_NAME          36019 non-null object\n",
      "sintoma            20266 non-null object\n",
      "rootCause          24247 non-null object\n",
      "proposalT          24247 non-null object\n",
      "stat               24247 non-null object\n",
      "depto              24247 non-null object\n",
      "categ              24247 non-null object\n",
      "categ_update       9650 non-null object\n",
      "solvebycateg       4642 non-null object\n",
      "inge               36019 non-null object\n",
      "acc_weight_reg     24247 non-null float64\n",
      "national_weight    2 non-null object\n",
      "bitacora           24246 non-null object\n",
      "vendor             36019 non-null object\n",
      "tech               36019 non-null object\n",
      "ACC_RET            36019 non-null object\n",
      "autMover           11772 non-null object\n",
      "type               7373 non-null object\n",
      "DATE               35917 non-null object\n",
      "anio               36019 non-null int64\n",
      "mes                36019 non-null int64\n",
      "dia                36019 non-null int64\n",
      "dtypes: datetime64[ns](1), float64(1), int64(4), object(24)\n",
      "memory usage: 8.2+ MB\n"
     ]
    }
   ],
   "source": [
    "tracker.info()"
   ]
  },
  {
   "cell_type": "code",
   "execution_count": null,
   "metadata": {
    "collapsed": true
   },
   "outputs": [],
   "source": []
  },
  {
   "cell_type": "code",
   "execution_count": 44,
   "metadata": {},
   "outputs": [
    {
     "data": {
      "text/html": [
       "<div>\n",
       "<style>\n",
       "    .dataframe thead tr:only-child th {\n",
       "        text-align: right;\n",
       "    }\n",
       "\n",
       "    .dataframe thead th {\n",
       "        text-align: left;\n",
       "    }\n",
       "\n",
       "    .dataframe tbody tr th {\n",
       "        vertical-align: top;\n",
       "    }\n",
       "</style>\n",
       "<table border=\"1\" class=\"dataframe\">\n",
       "  <thead>\n",
       "    <tr style=\"text-align: right;\">\n",
       "      <th></th>\n",
       "      <th>idT</th>\n",
       "      <th>ticket</th>\n",
       "      <th>region</th>\n",
       "      <th>RNC_NAME</th>\n",
       "      <th>market</th>\n",
       "      <th>fecReport</th>\n",
       "      <th>fecSol</th>\n",
       "      <th>SITE_NAME</th>\n",
       "      <th>CELL_NAME</th>\n",
       "      <th>sintoma</th>\n",
       "      <th>rootCause</th>\n",
       "      <th>proposalT</th>\n",
       "      <th>stat</th>\n",
       "      <th>depto</th>\n",
       "      <th>categ</th>\n",
       "      <th>categ_update</th>\n",
       "      <th>solvebycateg</th>\n",
       "      <th>inge</th>\n",
       "      <th>acc_weight_reg</th>\n",
       "      <th>national_weight</th>\n",
       "      <th>bitacora</th>\n",
       "      <th>vendor</th>\n",
       "      <th>tech</th>\n",
       "      <th>ACC_RET</th>\n",
       "      <th>autMover</th>\n",
       "      <th>type</th>\n",
       "      <th>DATE</th>\n",
       "      <th>anio</th>\n",
       "      <th>mes</th>\n",
       "      <th>dia</th>\n",
       "    </tr>\n",
       "  </thead>\n",
       "  <tbody>\n",
       "    <tr>\n",
       "      <th>0</th>\n",
       "      <td>49</td>\n",
       "      <td></td>\n",
       "      <td>CENTRO</td>\n",
       "      <td>MEXRNC26</td>\n",
       "      <td>AREAMETROPOLITANA</td>\n",
       "      <td>2016-10-24</td>\n",
       "      <td>2017-08-10</td>\n",
       "      <td>HMEX8707</td>\n",
       "      <td>HMEX8707_1_C1</td>\n",
       "      <td>None</td>\n",
       "      <td>BORDER COVERAGE</td>\n",
       "      <td>ADD NEW SITE</td>\n",
       "      <td>SOLUCIONADO</td>\n",
       "      <td>NETWORK DESIGN</td>\n",
       "      <td>CHRONIC HIGH PRIORITY</td>\n",
       "      <td>NORMAL</td>\n",
       "      <td>2017-08-10</td>\n",
       "      <td>CHRONIC TEAM</td>\n",
       "      <td>0.9834</td>\n",
       "      <td>None</td>\n",
       "      <td></td>\n",
       "      <td>HUAWEI</td>\n",
       "      <td>3G</td>\n",
       "      <td>ACC</td>\n",
       "      <td>None</td>\n",
       "      <td>None</td>\n",
       "      <td>2016-10-24</td>\n",
       "      <td>2016</td>\n",
       "      <td>10</td>\n",
       "      <td>24</td>\n",
       "    </tr>\n",
       "    <tr>\n",
       "      <th>1</th>\n",
       "      <td>50</td>\n",
       "      <td></td>\n",
       "      <td>CENTRO</td>\n",
       "      <td>MEXRNC26</td>\n",
       "      <td>AREAMETROPOLITANA</td>\n",
       "      <td>2016-10-24</td>\n",
       "      <td>2017-08-27</td>\n",
       "      <td>HMEX1180</td>\n",
       "      <td>HMEX1180_1_C1</td>\n",
       "      <td>None</td>\n",
       "      <td>BORDER COVERAGE</td>\n",
       "      <td>ADD NEW SITE</td>\n",
       "      <td>SOLUCIONADO</td>\n",
       "      <td>NETWORK DESIGN</td>\n",
       "      <td>CHRONIC HIGH PRIORITY</td>\n",
       "      <td>NORMAL</td>\n",
       "      <td>2017-08-27</td>\n",
       "      <td>CHRONIC TEAM</td>\n",
       "      <td>0.7347</td>\n",
       "      <td>None</td>\n",
       "      <td></td>\n",
       "      <td>HUAWEI</td>\n",
       "      <td>3G</td>\n",
       "      <td>ACC</td>\n",
       "      <td>None</td>\n",
       "      <td>None</td>\n",
       "      <td>2016-10-24</td>\n",
       "      <td>2016</td>\n",
       "      <td>10</td>\n",
       "      <td>24</td>\n",
       "    </tr>\n",
       "    <tr>\n",
       "      <th>2</th>\n",
       "      <td>51</td>\n",
       "      <td>TT-20161202-00364</td>\n",
       "      <td>CENTRO</td>\n",
       "      <td>RNC92TOL</td>\n",
       "      <td>AREAMETROPOLITANA</td>\n",
       "      <td>2016-10-24</td>\n",
       "      <td>2017-03-20</td>\n",
       "      <td>MEX-92152_2199_Guatzingo</td>\n",
       "      <td>MEX-92152_21994</td>\n",
       "      <td>None</td>\n",
       "      <td>HIGH TRAFFIC</td>\n",
       "      <td>ADD NEW SITE</td>\n",
       "      <td>SOLUCIONADO</td>\n",
       "      <td>NETWORK DESIGN</td>\n",
       "      <td>ACUTE LOW PRIORITY</td>\n",
       "      <td></td>\n",
       "      <td>None</td>\n",
       "      <td>CHRONIC TEAM</td>\n",
       "      <td>0.3873</td>\n",
       "      <td>None</td>\n",
       "      <td></td>\n",
       "      <td>HUAWEI</td>\n",
       "      <td>3G</td>\n",
       "      <td>ACC</td>\n",
       "      <td>None</td>\n",
       "      <td>None</td>\n",
       "      <td>2016-10-24</td>\n",
       "      <td>2016</td>\n",
       "      <td>10</td>\n",
       "      <td>24</td>\n",
       "    </tr>\n",
       "    <tr>\n",
       "      <th>3</th>\n",
       "      <td>52</td>\n",
       "      <td>TT-20161202-00364</td>\n",
       "      <td>CENTRO</td>\n",
       "      <td>RNC92TOL</td>\n",
       "      <td>AREAMETROPOLITANA</td>\n",
       "      <td>2016-10-24</td>\n",
       "      <td>2017-03-20</td>\n",
       "      <td>MEX-92152_2199_Guatzingo</td>\n",
       "      <td>MEX-92152_21991</td>\n",
       "      <td>None</td>\n",
       "      <td>HIGH TRAFFIC</td>\n",
       "      <td>ADD NEW SITE</td>\n",
       "      <td>SOLUCIONADO</td>\n",
       "      <td>NETWORK DESIGN</td>\n",
       "      <td>ACUTE LOW PRIORITY</td>\n",
       "      <td></td>\n",
       "      <td>None</td>\n",
       "      <td>CHRONIC TEAM</td>\n",
       "      <td>0.5108</td>\n",
       "      <td>None</td>\n",
       "      <td></td>\n",
       "      <td>HUAWEI</td>\n",
       "      <td>3G</td>\n",
       "      <td>ACC</td>\n",
       "      <td>None</td>\n",
       "      <td>None</td>\n",
       "      <td>2016-10-24</td>\n",
       "      <td>2016</td>\n",
       "      <td>10</td>\n",
       "      <td>24</td>\n",
       "    </tr>\n",
       "    <tr>\n",
       "      <th>4</th>\n",
       "      <td>53</td>\n",
       "      <td></td>\n",
       "      <td>CENTRO</td>\n",
       "      <td>MEXRNC02</td>\n",
       "      <td>AREAMETROPOLITANA</td>\n",
       "      <td>2016-10-24</td>\n",
       "      <td>2017-03-17</td>\n",
       "      <td>MEX-9759_0905_Villa_del_Carbon</td>\n",
       "      <td>MEX-9759_19051</td>\n",
       "      <td>None</td>\n",
       "      <td>TEMPORAL ISSUE</td>\n",
       "      <td>BACK TO NORMAL</td>\n",
       "      <td>SOLUCIONADO</td>\n",
       "      <td>FOPS CENTRO</td>\n",
       "      <td>NORMAL</td>\n",
       "      <td></td>\n",
       "      <td>None</td>\n",
       "      <td>DANIEL MERAZ</td>\n",
       "      <td>0.0247</td>\n",
       "      <td>None</td>\n",
       "      <td></td>\n",
       "      <td>HUAWEI</td>\n",
       "      <td>3G</td>\n",
       "      <td>ACC</td>\n",
       "      <td>None</td>\n",
       "      <td>None</td>\n",
       "      <td>2016-10-24</td>\n",
       "      <td>2016</td>\n",
       "      <td>10</td>\n",
       "      <td>24</td>\n",
       "    </tr>\n",
       "  </tbody>\n",
       "</table>\n",
       "</div>"
      ],
      "text/plain": [
       "   idT             ticket  region  RNC_NAME             market  fecReport  \\\n",
       "0   49                     CENTRO  MEXRNC26  AREAMETROPOLITANA 2016-10-24   \n",
       "1   50                     CENTRO  MEXRNC26  AREAMETROPOLITANA 2016-10-24   \n",
       "2   51  TT-20161202-00364  CENTRO  RNC92TOL  AREAMETROPOLITANA 2016-10-24   \n",
       "3   52  TT-20161202-00364  CENTRO  RNC92TOL  AREAMETROPOLITANA 2016-10-24   \n",
       "4   53                     CENTRO  MEXRNC02  AREAMETROPOLITANA 2016-10-24   \n",
       "\n",
       "       fecSol                       SITE_NAME        CELL_NAME sintoma  \\\n",
       "0  2017-08-10                        HMEX8707    HMEX8707_1_C1    None   \n",
       "1  2017-08-27                        HMEX1180    HMEX1180_1_C1    None   \n",
       "2  2017-03-20        MEX-92152_2199_Guatzingo  MEX-92152_21994    None   \n",
       "3  2017-03-20        MEX-92152_2199_Guatzingo  MEX-92152_21991    None   \n",
       "4  2017-03-17  MEX-9759_0905_Villa_del_Carbon   MEX-9759_19051    None   \n",
       "\n",
       "         rootCause       proposalT         stat           depto  \\\n",
       "0  BORDER COVERAGE    ADD NEW SITE  SOLUCIONADO  NETWORK DESIGN   \n",
       "1  BORDER COVERAGE    ADD NEW SITE  SOLUCIONADO  NETWORK DESIGN   \n",
       "2     HIGH TRAFFIC    ADD NEW SITE  SOLUCIONADO  NETWORK DESIGN   \n",
       "3     HIGH TRAFFIC    ADD NEW SITE  SOLUCIONADO  NETWORK DESIGN   \n",
       "4   TEMPORAL ISSUE  BACK TO NORMAL  SOLUCIONADO     FOPS CENTRO   \n",
       "\n",
       "                   categ categ_update solvebycateg          inge  \\\n",
       "0  CHRONIC HIGH PRIORITY       NORMAL   2017-08-10  CHRONIC TEAM   \n",
       "1  CHRONIC HIGH PRIORITY       NORMAL   2017-08-27  CHRONIC TEAM   \n",
       "2     ACUTE LOW PRIORITY                      None  CHRONIC TEAM   \n",
       "3     ACUTE LOW PRIORITY                      None  CHRONIC TEAM   \n",
       "4                 NORMAL                      None  DANIEL MERAZ   \n",
       "\n",
       "   acc_weight_reg national_weight bitacora  vendor tech ACC_RET autMover  \\\n",
       "0          0.9834            None           HUAWEI   3G     ACC     None   \n",
       "1          0.7347            None           HUAWEI   3G     ACC     None   \n",
       "2          0.3873            None           HUAWEI   3G     ACC     None   \n",
       "3          0.5108            None           HUAWEI   3G     ACC     None   \n",
       "4          0.0247            None           HUAWEI   3G     ACC     None   \n",
       "\n",
       "   type        DATE  anio  mes  dia  \n",
       "0  None  2016-10-24  2016   10   24  \n",
       "1  None  2016-10-24  2016   10   24  \n",
       "2  None  2016-10-24  2016   10   24  \n",
       "3  None  2016-10-24  2016   10   24  \n",
       "4  None  2016-10-24  2016   10   24  "
      ]
     },
     "execution_count": 44,
     "metadata": {},
     "output_type": "execute_result"
    }
   ],
   "source": [
    "tracker.head()"
   ]
  },
  {
   "cell_type": "code",
   "execution_count": 30,
   "metadata": {},
   "outputs": [
    {
     "data": {
      "text/plain": [
       "array(['CHRONIC HIGH PRIORITY', 'ACUTE LOW PRIORITY', 'NORMAL',\n",
       "       'CHRONIC LOW PRIORITY', 'SOLIDITY PERIOD', 'ACUTE HIGH PRIORITY',\n",
       "       'TESTING PHASE', 'NO TRAFFIC', 'CELL DOWN', None], dtype=object)"
      ]
     },
     "execution_count": 30,
     "metadata": {},
     "output_type": "execute_result"
    }
   ],
   "source": [
    "tracker.categ.unique()"
   ]
  },
  {
   "cell_type": "code",
   "execution_count": null,
   "metadata": {
    "collapsed": true
   },
   "outputs": [],
   "source": []
  },
  {
   "cell_type": "code",
   "execution_count": 26,
   "metadata": {},
   "outputs": [
    {
     "data": {
      "text/plain": [
       "array(['ACUTE LOW PRIORITY', 'ACUTE HIGH PRIORITY'], dtype=object)"
      ]
     },
     "execution_count": 26,
     "metadata": {},
     "output_type": "execute_result"
    }
   ],
   "source": [
    "accute_history.CATEGORIZATION_B.unique()"
   ]
  },
  {
   "cell_type": "code",
   "execution_count": 13,
   "metadata": {
    "collapsed": true
   },
   "outputs": [],
   "source": [
    "#It's already in datetime.date(2018, 4, 13)!!!\n",
    "#accute_history[\"DATE\"].iat[0]"
   ]
  },
  {
   "cell_type": "code",
   "execution_count": 27,
   "metadata": {},
   "outputs": [
    {
     "data": {
      "text/plain": [
       "Index(['idT', 'ticket', 'region', 'RNC_NAME', 'market', 'fecReport', 'fecSol',\n",
       "       'SITE_NAME', 'CELL_NAME', 'sintoma', 'rootCause', 'proposalT', 'stat',\n",
       "       'depto', 'categ', 'categ_update', 'solvebycateg', 'inge',\n",
       "       'acc_weight_reg', 'national_weight', 'bitacora', 'vendor', 'tech',\n",
       "       'ACC_RET', 'autMover', 'type'],\n",
       "      dtype='object')"
      ]
     },
     "execution_count": 27,
     "metadata": {},
     "output_type": "execute_result"
    }
   ],
   "source": [
    "tracker.columns"
   ]
  },
  {
   "cell_type": "code",
   "execution_count": 16,
   "metadata": {
    "collapsed": true
   },
   "outputs": [],
   "source": [
    "accute_history=date_spliting(accute_history)"
   ]
  },
  {
   "cell_type": "code",
   "execution_count": 18,
   "metadata": {},
   "outputs": [
    {
     "data": {
      "text/plain": [
       "array(['ACUTE LOW PRIORITY', 'ACUTE HIGH PRIORITY',\n",
       "       'ACUTE HIGH PRIORITY\\r', 'ACUTE LOW PRIORITY\\r'], dtype=object)"
      ]
     },
     "execution_count": 18,
     "metadata": {},
     "output_type": "execute_result"
    }
   ],
   "source": [
    "accute_history[\"CATEGORIZATION_B\"].unique()"
   ]
  },
  {
   "cell_type": "code",
   "execution_count": 20,
   "metadata": {},
   "outputs": [
    {
     "data": {
      "text/plain": [
       "array([datetime.date(2018, 4, 22), datetime.date(2018, 4, 13),\n",
       "       datetime.date(2018, 4, 21), datetime.date(2018, 4, 19),\n",
       "       datetime.date(2018, 4, 14), datetime.date(2018, 4, 11),\n",
       "       datetime.date(2018, 4, 24), datetime.date(2018, 4, 23),\n",
       "       datetime.date(2018, 4, 18), datetime.date(2018, 4, 15),\n",
       "       datetime.date(2018, 4, 17), datetime.date(2018, 3, 23),\n",
       "       datetime.date(2018, 4, 20), datetime.date(2018, 4, 16),\n",
       "       datetime.date(2018, 4, 1), datetime.date(2018, 3, 25),\n",
       "       datetime.date(2018, 3, 19), datetime.date(2018, 4, 10),\n",
       "       datetime.date(2018, 3, 31), datetime.date(2018, 4, 2),\n",
       "       datetime.date(2018, 3, 26), datetime.date(2018, 4, 4),\n",
       "       datetime.date(2018, 4, 6), datetime.date(2018, 4, 7),\n",
       "       datetime.date(2018, 3, 21), datetime.date(2018, 4, 8),\n",
       "       datetime.date(2018, 3, 24), datetime.date(2018, 3, 30),\n",
       "       datetime.date(2018, 4, 5), datetime.date(2018, 3, 22),\n",
       "       datetime.date(2018, 3, 27), datetime.date(2018, 3, 29),\n",
       "       datetime.date(2018, 3, 20), datetime.date(2018, 4, 3),\n",
       "       datetime.date(2018, 3, 28)], dtype=object)"
      ]
     },
     "execution_count": 20,
     "metadata": {},
     "output_type": "execute_result"
    }
   ],
   "source": [
    "accute_history[\"DATE\"].unique()"
   ]
  },
  {
   "cell_type": "code",
   "execution_count": 22,
   "metadata": {},
   "outputs": [
    {
     "data": {
      "text/plain": [
       "array(['2016-10-24T00:00:00.000000000', '2016-10-26T00:00:00.000000000',\n",
       "       '2016-10-27T00:00:00.000000000', ...,\n",
       "       '2018-04-25T10:25:45.000000000', '2018-04-25T10:29:10.000000000',\n",
       "       '2018-04-25T10:31:59.000000000'], dtype='datetime64[ns]')"
      ]
     },
     "execution_count": 22,
     "metadata": {},
     "output_type": "execute_result"
    }
   ],
   "source": [
    "tracker[\"fecReport\"].unique()"
   ]
  },
  {
   "cell_type": "code",
   "execution_count": null,
   "metadata": {
    "collapsed": true
   },
   "outputs": [],
   "source": []
  },
  {
   "cell_type": "code",
   "execution_count": null,
   "metadata": {
    "collapsed": true
   },
   "outputs": [],
   "source": []
  },
  {
   "cell_type": "code",
   "execution_count": null,
   "metadata": {
    "collapsed": true
   },
   "outputs": [],
   "source": []
  },
  {
   "cell_type": "code",
   "execution_count": null,
   "metadata": {
    "collapsed": true
   },
   "outputs": [],
   "source": []
  },
  {
   "cell_type": "code",
   "execution_count": null,
   "metadata": {
    "collapsed": true
   },
   "outputs": [],
   "source": []
  },
  {
   "cell_type": "markdown",
   "metadata": {},
   "source": [
    "# Tracker Filtering"
   ]
  },
  {
   "cell_type": "markdown",
   "metadata": {},
   "source": [
    "# Getting the Date withouth the time"
   ]
  },
  {
   "cell_type": "code",
   "execution_count": 15,
   "metadata": {
    "collapsed": true
   },
   "outputs": [],
   "source": [
    "tracker[\"DATE\"] = pd.to_datetime(tracker[\"fecReport\"]).dt.date"
   ]
  },
  {
   "cell_type": "code",
   "execution_count": 16,
   "metadata": {
    "collapsed": true
   },
   "outputs": [],
   "source": [
    "#Cleaning the date null values, because you get an error (there is no date value)"
   ]
  },
  {
   "cell_type": "code",
   "execution_count": 17,
   "metadata": {
    "collapsed": true,
    "scrolled": false
   },
   "outputs": [],
   "source": [
    "tracker=tracker.dropna(how='any',subset=[\"DATE\"])"
   ]
  },
  {
   "cell_type": "code",
   "execution_count": null,
   "metadata": {
    "collapsed": true
   },
   "outputs": [],
   "source": []
  }
 ],
 "metadata": {
  "kernelspec": {
   "display_name": "Python 3",
   "language": "python",
   "name": "python3"
  },
  "language_info": {
   "codemirror_mode": {
    "name": "ipython",
    "version": 3
   },
   "file_extension": ".py",
   "mimetype": "text/x-python",
   "name": "python",
   "nbconvert_exporter": "python",
   "pygments_lexer": "ipython3",
   "version": "3.6.1"
  }
 },
 "nbformat": 4,
 "nbformat_minor": 2
}
