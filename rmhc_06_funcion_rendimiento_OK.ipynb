{
 "cells": [
  {
   "cell_type": "markdown",
   "metadata": {},
   "source": [
    "# Librerías"
   ]
  },
  {
   "cell_type": "code",
   "execution_count": 43,
   "metadata": {
    "collapsed": true
   },
   "outputs": [],
   "source": [
    "import itertools\n",
    "import time\n",
    "import numpy as np\n",
    "import pandas as pd\n",
    "import matplotlib.pyplot as plt\n",
    "from matplotlib import offsetbox\n",
    "from sklearn import (manifold, datasets, decomposition, ensemble,\n",
    "                     discriminant_analysis, random_projection)#Prueba evaluación y entrenamiento un solo individuo. \n",
    "#Vectores completos\n",
    "from sklearn.metrics import classification_report,confusion_matrix,accuracy_score\n",
    "import random"
   ]
  },
  {
   "cell_type": "markdown",
   "metadata": {},
   "source": [
    "# Databases"
   ]
  },
  {
   "cell_type": "code",
   "execution_count": 44,
   "metadata": {
    "collapsed": true
   },
   "outputs": [],
   "source": [
    "#Reading all the cvs\n",
    "#Nss learning\n",
    "nsl_training=pd.read_csv('./Final_Datasets/MINMAX_FD_NSL_Tra.csv')\n",
    "#Nsl testing\n",
    "nsl_testing=pd.read_csv('./Final_Datasets/MINMAX_FD_NSL_Test.csv')"
   ]
  },
  {
   "cell_type": "markdown",
   "metadata": {},
   "source": [
    "# Labels"
   ]
  },
  {
   "cell_type": "code",
   "execution_count": 45,
   "metadata": {
    "collapsed": true
   },
   "outputs": [],
   "source": [
    "#NSL TESTING LABELS\n",
    "\n",
    "#Index binary (2 clases)\n",
    "L_nsl_testing_indexbinary=pd.read_csv(\"./Final_Datasets/L_nsl_testing_indexbinary.csv\")\n",
    "#Index by Group (5 clases)\n",
    "L_nsl_testing_indexbygroup=pd.read_csv(\"./Final_Datasets/L_nsl_testing_indexbygroup.csv\")\n",
    "#Index tipe of attack (42? clases)\n",
    "L_nsl_testing_indextipeofattack=pd.read_csv(\"./Final_Datasets/L_nsl_testing_indextipeofattack.csv\")\n",
    "\n",
    "\n",
    "#nsl TRAINING LABELS\n",
    "# 2 clases\n",
    "L_nsl_training_indexbinary=pd.read_csv(\"./Final_Datasets/L_nsl_training_indexbinary.csv\")\n",
    "#Index by Group (5 clases)\n",
    "L_nsl_training_indexbygroup=pd.read_csv(\"./Final_Datasets/L_nsl_training_indexbygroup.csv\")\n",
    "#Index tipe of attack (42? clases)\n",
    "L_nsl_training_indextipeofattack=pd.read_csv(\"./Final_Datasets/L_nsl_training_indextipeofattack.csv\")"
   ]
  },
  {
   "cell_type": "markdown",
   "metadata": {},
   "source": [
    "# Conversión de Pandas->Numpy (array) not Matrix"
   ]
  },
  {
   "cell_type": "code",
   "execution_count": 46,
   "metadata": {
    "collapsed": true
   },
   "outputs": [],
   "source": [
    "nsl_training=nsl_training.as_matrix(columns=None)\n",
    "nsl_testing=nsl_testing.as_matrix(columns=None)"
   ]
  },
  {
   "cell_type": "markdown",
   "metadata": {},
   "source": [
    "# Lectura del modelo"
   ]
  },
  {
   "cell_type": "code",
   "execution_count": 47,
   "metadata": {
    "collapsed": true
   },
   "outputs": [],
   "source": [
    "from sklearn.ensemble import RandomForestClassifier\n",
    "\n",
    "modelo=RandomForestClassifier(criterion='entropy',n_jobs=2, \n",
    "                              bootstrap=True, max_depth=10, max_features='sqrt', min_samples_leaf=2, \n",
    "                              min_samples_split=100, n_estimators=8)\n"
   ]
  },
  {
   "cell_type": "markdown",
   "metadata": {},
   "source": [
    "# Creacion de las funciones a utilizar"
   ]
  },
  {
   "cell_type": "markdown",
   "metadata": {},
   "source": [
    "# funcion muta vector binario corregida"
   ]
  },
  {
   "cell_type": "code",
   "execution_count": 48,
   "metadata": {
    "collapsed": true
   },
   "outputs": [],
   "source": [
    "def muta_vector_binario(dimensiones_temporales,M=20):\n",
    "    \"\"\"Dimensiones temporales: vector binario que contiene las dimensiones actuales de la ultima\n",
    "        iteración probada.\n",
    "        M=cantidad total de dimensiones a mutar. Si no se otorga un número\n",
    "        M es igual a la máxima cantidad de dimensiones en NSL-KDD\"\"\"\n",
    "    \n",
    "    print(\"Valor de M (dimensiones a mutar): %s\" %M)\n",
    "    vector_mutado=np.array(dimensiones_temporales)\n",
    "    #Genera números aleatorios entre 0 y M\n",
    "    #Dichos numeros aleatorios seran los indices a mutar de (vector_mutado)\n",
    "    indice_general=list(range(0,40))\n",
    "    indice=sorted(random.sample(indice_general,M))\n",
    "    \n",
    "   \n",
    "    #Aplica la operación negación binaria a los valores del indice\n",
    "    for numero_indice in indice:\n",
    "        if vector_mutado[numero_indice]==0:\n",
    "            vector_mutado[numero_indice]=1\n",
    "        else:\n",
    "            vector_mutado[numero_indice]=0\n",
    "    #regresa el vector mutado\n",
    "    print(\"indice de vectores a mutar: \")\n",
    "    print(indice)\n",
    "    print(\"Solución actual:\")\n",
    "    print(dimensiones_temporales)\n",
    "    print(\"Solución mutada:\")\n",
    "    print(vector_mutado)\n",
    "    print(\"\\n\")\n",
    "    return vector_mutado\n",
    "    "
   ]
  },
  {
   "cell_type": "code",
   "execution_count": 49,
   "metadata": {
    "collapsed": true
   },
   "outputs": [],
   "source": [
    "def obtencion_parametros_binarios(vector_actual, M=40):\n",
    "    \"\"\"M=máximo número de dimensiones a mutar\n",
    "    vector_actual= vector binario, relacionado con la ultima iteracion\n",
    "    puede o no ser el mejor.\n",
    "    Regresa los zeros y unos actuales,\n",
    "    el ultimo vector binario,\n",
    "    los dataset filtrados\"\"\"\n",
    "\n",
    "    #Agregar la función para calcular M\n",
    "\n",
    "    \n",
    "    #Muta el ultimo vector\n",
    "    dimensiones_temporales=muta_vector_binario(vector_actual,M)\n",
    "\n",
    "    #se filtra la base de datos con las dimensiones de dimensiones mejor\n",
    "    #SE hacen cero las dimensiones a omitir\n",
    "    #dimensiones_temporales contiene la mejor iteración, entonces es la dimensión activa\n",
    "    training=nsl_training*dimensiones_temporales\n",
    "    testing=nsl_testing*dimensiones_temporales\n",
    "\n",
    "    #Se buscan esos ceros en el indice (dimensiones suspendidas)\n",
    "    zeros=np.where(dimensiones_temporales == 0)\n",
    "\n",
    "    #se obtienen los indices del los unos (dimensiones activas)\n",
    "    unos=np.where(dimensiones_temporales==1)\n",
    "\n",
    "    #se eliminan esas dimensiones\n",
    "    training=np.delete(training,zeros,axis=1)\n",
    "    testing=np.delete(testing,zeros,axis=1)\n",
    "\n",
    "    \n",
    "    return [dimensiones_temporales,zeros,unos,training,testing]"
   ]
  },
  {
   "cell_type": "markdown",
   "metadata": {},
   "source": [
    "# Funcion para calcular M dependiendo de las iteraciones"
   ]
  },
  {
   "cell_type": "code",
   "execution_count": 50,
   "metadata": {
    "collapsed": true
   },
   "outputs": [],
   "source": [
    "def M_dimensiones_a_mutar(Perror,i_actual,i_max,M_Max=40):\n",
    "    iteraciones=1-(i_actual/i_max)\n",
    "    M=M_Max*np.amin([iteraciones,Perror])\n",
    "    M=np.array(np.round_(M))\n",
    "    return M"
   ]
  },
  {
   "cell_type": "code",
   "execution_count": 54,
   "metadata": {
    "collapsed": true
   },
   "outputs": [],
   "source": [
    "def M_dimensiones_a_mutar_2(i_actual,i_max,M_Max=40):\n",
    "    iteraciones=1-(i_actual/i_max)\n",
    "    M=M_Max*iteraciones\n",
    "    M=np.array(np.round_(M))\n",
    "    return M"
   ]
  },
  {
   "cell_type": "markdown",
   "metadata": {},
   "source": [
    "# Declaración del modelo"
   ]
  },
  {
   "cell_type": "code",
   "execution_count": 51,
   "metadata": {
    "collapsed": true
   },
   "outputs": [],
   "source": [
    "from sklearn.ensemble import RandomForestClassifier\n",
    "\n",
    "modelo=RandomForestClassifier(criterion='entropy',n_jobs=2, \n",
    "                              bootstrap=True, max_depth=10, max_features='sqrt', min_samples_leaf=2, \n",
    "                              min_samples_split=100, n_estimators=8)\n"
   ]
  },
  {
   "cell_type": "markdown",
   "metadata": {
    "collapsed": true
   },
   "source": [
    "# Función de rendimiento"
   ]
  },
  {
   "cell_type": "code",
   "execution_count": 52,
   "metadata": {
    "collapsed": true
   },
   "outputs": [],
   "source": [
    "def funcion_rendimiento(Perror_actual,unos,N=40,alfa=.3):\n",
    "    cardinalidad=np.array(unos).shape[1]\n",
    "    rendimiento=alfa*Perror_actual+(1-alfa)*(cardinalidad/N)\n",
    "    return rendimiento"
   ]
  },
  {
   "cell_type": "markdown",
   "metadata": {},
   "source": [
    "# Inicio del algoritmo RMHC"
   ]
  },
  {
   "cell_type": "code",
   "execution_count": 56,
   "metadata": {
    "scrolled": false
   },
   "outputs": [
    {
     "name": "stdout",
     "output_type": "stream",
     "text": [
      "solucion_inicial\n",
      "[1 0 0 0 1 1 0 1 0 1 0 1 0 0 1 1 1 0 1 1 0 1 1 1 1 1 1 1 1 0 0 0 1 0 0 0 1\n",
      " 1 1 0]\n",
      "\n",
      "\n",
      "\n",
      "\n",
      " Iteracion: 1 \n",
      "\n",
      "\n",
      "Valor de M (dimensiones a mutar): 38\n",
      "indice de vectores a mutar: \n",
      "[0, 2, 3, 4, 5, 6, 7, 8, 9, 10, 11, 12, 13, 14, 15, 16, 17, 18, 19, 20, 21, 22, 23, 24, 25, 26, 27, 28, 29, 30, 31, 32, 34, 35, 36, 37, 38, 39]\n",
      "Solución actual:\n",
      "[1 0 0 0 1 1 0 1 0 1 0 1 0 0 1 1 1 0 1 1 0 1 1 1 1 1 1 1 1 0 0 0 1 0 0 0 1\n",
      " 1 1 0]\n",
      "Solución mutada:\n",
      "[0 0 1 1 0 0 1 0 1 0 1 0 1 1 0 0 0 1 0 0 1 0 0 0 0 0 0 0 0 1 1 1 0 0 1 1 0\n",
      " 0 0 1]\n",
      "\n",
      "\n",
      "Indice de las Dimensiones activas: \n",
      "(array([ 2,  3,  6,  8, 10, 12, 13, 17, 20, 29, 30, 31, 34, 35, 39]),)\n",
      "Total de dimensiones activas: 15\n",
      "Porcentaje de exactitud: 0.769329725414 (accuracy score)\n",
      "Probabilidad de error (Perror): 0.230670274586\n",
      "Rendimiento (RE): 0.331701082376\n",
      "\n",
      "\n",
      " Iteracion: 2 \n",
      "\n",
      "\n",
      "Valor de M (dimensiones a mutar): 9\n",
      "indice de vectores a mutar: \n",
      "[1, 11, 16, 18, 22, 25, 29, 33, 36]\n",
      "Solución actual:\n",
      "[0 0 1 1 0 0 1 0 1 0 1 0 1 1 0 0 0 1 0 0 1 0 0 0 0 0 0 0 0 1 1 1 0 0 1 1 0\n",
      " 0 0 1]\n",
      "Solución mutada:\n",
      "[0 1 1 1 0 0 1 0 1 0 1 1 1 1 0 0 1 1 1 0 1 0 1 0 0 1 0 0 0 0 1 1 0 1 1 1 1\n",
      " 0 0 1]\n",
      "\n",
      "\n",
      "Indice de las Dimensiones activas: \n",
      "(array([ 1,  2,  3,  6,  8, 10, 11, 12, 13, 16, 17, 18, 20, 22, 25, 30, 31,\n",
      "       33, 34, 35, 36, 39]),)\n",
      "Total de dimensiones activas: 22\n",
      "Porcentaje de exactitud: 0.756287982966 (accuracy score)\n",
      "Probabilidad de error (Perror): 0.243712017034\n",
      "Rendimiento (RE): 0.45811360511\n",
      "\n",
      "\n",
      " Iteracion: 3 \n",
      "\n",
      "\n",
      "Valor de M (dimensiones a mutar): 10\n",
      "indice de vectores a mutar: \n",
      "[5, 13, 14, 18, 20, 21, 28, 29, 33, 37]\n",
      "Solución actual:\n",
      "[0 1 1 1 0 0 1 0 1 0 1 1 1 1 0 0 1 1 1 0 1 0 1 0 0 1 0 0 0 0 1 1 0 1 1 1 1\n",
      " 0 0 1]\n",
      "Solución mutada:\n",
      "[0 1 1 1 0 1 1 0 1 0 1 1 1 0 1 0 1 1 0 0 0 1 1 0 0 1 0 0 1 1 1 1 0 0 1 1 1\n",
      " 1 0 1]\n",
      "\n",
      "\n",
      "Indice de las Dimensiones activas: \n",
      "(array([ 1,  2,  3,  5,  6,  8, 10, 11, 12, 14, 16, 17, 21, 22, 25, 28, 29,\n",
      "       30, 31, 34, 35, 36, 37, 39]),)\n",
      "Total de dimensiones activas: 24\n",
      "Porcentaje de exactitud: 0.788714900413 (accuracy score)\n",
      "Probabilidad de error (Perror): 0.211285099587\n",
      "Rendimiento (RE): 0.483385529876\n",
      "\n",
      "\n",
      " Iteracion: 4 \n",
      "\n",
      "\n",
      "Valor de M (dimensiones a mutar): 8\n",
      "indice de vectores a mutar: \n",
      "[0, 2, 12, 20, 21, 26, 36, 37]\n",
      "Solución actual:\n",
      "[0 1 1 1 0 1 1 0 1 0 1 1 1 0 1 0 1 1 0 0 0 1 1 0 0 1 0 0 1 1 1 1 0 0 1 1 1\n",
      " 1 0 1]\n",
      "Solución mutada:\n",
      "[1 1 0 1 0 1 1 0 1 0 1 1 0 0 1 0 1 1 0 0 1 0 1 0 0 1 1 0 1 1 1 1 0 0 1 1 0\n",
      " 0 0 1]\n",
      "\n",
      "\n",
      "Indice de las Dimensiones activas: \n",
      "(array([ 0,  1,  3,  5,  6,  8, 10, 11, 14, 16, 17, 20, 22, 25, 26, 28, 29,\n",
      "       30, 31, 34, 35, 39]),)\n",
      "Total de dimensiones activas: 22\n",
      "Porcentaje de exactitud: 0.72678880362 (accuracy score)\n",
      "Probabilidad de error (Perror): 0.27321119638\n",
      "Rendimiento (RE): 0.466963358914\n",
      "\n",
      "\n",
      " Iteracion: 5 \n",
      "\n",
      "\n",
      "Valor de M (dimensiones a mutar): 11\n",
      "indice de vectores a mutar: \n",
      "[0, 5, 7, 15, 16, 23, 25, 26, 33, 35, 39]\n",
      "Solución actual:\n",
      "[1 1 0 1 0 1 1 0 1 0 1 1 0 0 1 0 1 1 0 0 1 0 1 0 0 1 1 0 1 1 1 1 0 0 1 1 0\n",
      " 0 0 1]\n",
      "Solución mutada:\n",
      "[0 1 0 1 0 0 1 1 1 0 1 1 0 0 1 1 0 1 0 0 1 0 1 1 0 0 0 0 1 1 1 1 0 1 1 0 0\n",
      " 0 0 0]\n",
      "\n",
      "\n",
      "Indice de las Dimensiones activas: \n",
      "(array([ 1,  3,  6,  7,  8, 10, 11, 14, 15, 17, 20, 22, 23, 28, 29, 30, 31,\n",
      "       33, 34]),)\n",
      "Total de dimensiones activas: 19\n",
      "Porcentaje de exactitud: 0.727188040633 (accuracy score)\n",
      "Probabilidad de error (Perror): 0.272811959367\n",
      "Rendimiento (RE): 0.41434358781\n",
      "\n",
      "\n",
      " Iteracion: 6 \n",
      "\n",
      "\n",
      "Valor de M (dimensiones a mutar): 11\n",
      "indice de vectores a mutar: \n",
      "[1, 2, 7, 12, 21, 22, 25, 26, 27, 35, 39]\n",
      "Solución actual:\n",
      "[0 1 0 1 0 0 1 1 1 0 1 1 0 0 1 1 0 1 0 0 1 0 1 1 0 0 0 0 1 1 1 1 0 1 1 0 0\n",
      " 0 0 0]\n",
      "Solución mutada:\n",
      "[0 0 1 1 0 0 1 0 1 0 1 1 1 0 1 1 0 1 0 0 1 1 0 1 0 1 1 1 1 1 1 1 0 1 1 1 0\n",
      " 0 0 1]\n",
      "\n",
      "\n",
      "Indice de las Dimensiones activas: \n",
      "(array([ 2,  3,  6,  8, 10, 11, 12, 14, 15, 17, 20, 21, 23, 25, 26, 27, 28,\n",
      "       29, 30, 31, 33, 34, 35, 39]),)\n",
      "Total de dimensiones activas: 24\n",
      "Porcentaje de exactitud: 0.769551523755 (accuracy score)\n",
      "Probabilidad de error (Perror): 0.230448476245\n",
      "Rendimiento (RE): 0.489134542874\n",
      "\n",
      "\n",
      " Iteracion: 7 \n",
      "\n",
      "\n",
      "Valor de M (dimensiones a mutar): 9\n",
      "indice de vectores a mutar: \n",
      "[0, 2, 9, 21, 22, 27, 31, 38, 39]\n",
      "Solución actual:\n",
      "[0 0 1 1 0 0 1 0 1 0 1 1 1 0 1 1 0 1 0 0 1 1 0 1 0 1 1 1 1 1 1 1 0 1 1 1 0\n",
      " 0 0 1]\n",
      "Solución mutada:\n",
      "[1 0 0 1 0 0 1 0 1 1 1 1 1 0 1 1 0 1 0 0 1 0 1 1 0 1 1 0 1 1 1 0 0 1 1 1 0\n",
      " 0 1 0]\n",
      "\n",
      "\n",
      "Indice de las Dimensiones activas: \n",
      "(array([ 0,  3,  6,  8,  9, 10, 11, 12, 14, 15, 17, 20, 22, 23, 25, 26, 28,\n",
      "       29, 30, 33, 34, 35, 38]),)\n",
      "Total de dimensiones activas: 23\n",
      "Porcentaje de exactitud: 0.738277957681 (accuracy score)\n",
      "Probabilidad de error (Perror): 0.261722042319\n",
      "Rendimiento (RE): 0.481016612696\n",
      "\n",
      "\n",
      " Iteracion: 8 \n",
      "\n",
      "\n",
      "Valor de M (dimensiones a mutar): 10\n",
      "indice de vectores a mutar: \n",
      "[1, 10, 11, 23, 25, 28, 32, 33, 35, 38]\n",
      "Solución actual:\n",
      "[1 0 0 1 0 0 1 0 1 1 1 1 1 0 1 1 0 1 0 0 1 0 1 1 0 1 1 0 1 1 1 0 0 1 1 1 0\n",
      " 0 1 0]\n",
      "Solución mutada:\n",
      "[1 1 0 1 0 0 1 0 1 1 0 0 1 0 1 1 0 1 0 0 1 0 1 0 0 0 1 0 0 1 1 0 1 0 1 0 0\n",
      " 0 0 0]\n",
      "\n",
      "\n",
      "Indice de las Dimensiones activas: \n",
      "(array([ 0,  1,  3,  6,  8,  9, 12, 14, 15, 17, 20, 22, 26, 29, 30, 32, 34]),)\n",
      "Total de dimensiones activas: 17\n",
      "Porcentaje de exactitud: 0.753227165861 (accuracy score)\n",
      "Probabilidad de error (Perror): 0.246772834139\n",
      "Rendimiento (RE): 0.371531850242\n",
      "\n",
      "\n",
      " Iteracion: 9 \n",
      "\n",
      "\n",
      "Valor de M (dimensiones a mutar): 10\n",
      "indice de vectores a mutar: \n",
      "[0, 1, 2, 9, 14, 15, 19, 23, 25, 29]\n",
      "Solución actual:\n",
      "[1 1 0 1 0 0 1 0 1 1 0 0 1 0 1 1 0 1 0 0 1 0 1 0 0 0 1 0 0 1 1 0 1 0 1 0 0\n",
      " 0 0 0]\n",
      "Solución mutada:\n",
      "[0 0 1 1 0 0 1 0 1 0 0 0 1 0 0 0 0 1 0 1 1 0 1 1 0 1 1 0 0 0 1 0 1 0 1 0 0\n",
      " 0 0 0]\n",
      "\n",
      "\n",
      "Indice de las Dimensiones activas: \n",
      "(array([ 2,  3,  6,  8, 12, 17, 19, 20, 22, 23, 25, 26, 30, 32, 34]),)\n",
      "Total de dimensiones activas: 15\n",
      "Porcentaje de exactitud: 0.808721110766 (accuracy score)\n",
      "Probabilidad de error (Perror): 0.191278889234\n",
      "Rendimiento (RE): 0.31988366677\n",
      "\n",
      "\n",
      " Iteracion: 10 \n",
      "\n",
      "\n",
      "Valor de M (dimensiones a mutar): 8\n",
      "indice de vectores a mutar: \n",
      "[7, 12, 16, 18, 22, 27, 37, 38]\n",
      "Solución actual:\n",
      "[0 0 1 1 0 0 1 0 1 0 0 0 1 0 0 0 0 1 0 1 1 0 1 1 0 1 1 0 0 0 1 0 1 0 1 0 0\n",
      " 0 0 0]\n",
      "Solución mutada:\n",
      "[0 0 1 1 0 0 1 1 1 0 0 0 0 0 0 0 1 1 1 1 1 0 0 1 0 1 1 1 0 0 1 0 1 0 1 0 0\n",
      " 1 1 0]\n",
      "\n",
      "\n",
      "Indice de las Dimensiones activas: \n",
      "(array([ 2,  3,  6,  7,  8, 16, 17, 18, 19, 20, 23, 25, 26, 27, 30, 32, 34,\n",
      "       37, 38]),)\n",
      "Total de dimensiones activas: 19\n",
      "Porcentaje de exactitud: 0.766623785654 (accuracy score)\n",
      "Probabilidad de error (Perror): 0.233376214346\n",
      "Rendimiento (RE): 0.402512864304\n",
      "\n",
      "\n",
      " Iteracion: 11 \n",
      "\n",
      "\n",
      "Valor de M (dimensiones a mutar): 9\n",
      "indice de vectores a mutar: \n",
      "[4, 6, 8, 16, 21, 25, 27, 28, 38]\n",
      "Solución actual:\n",
      "[0 0 1 1 0 0 1 1 1 0 0 0 0 0 0 0 1 1 1 1 1 0 0 1 0 1 1 1 0 0 1 0 1 0 1 0 0\n",
      " 1 1 0]\n",
      "Solución mutada:\n",
      "[0 0 1 1 1 0 0 1 0 0 0 0 0 0 0 0 0 1 1 1 1 1 0 1 0 0 1 0 1 0 1 0 1 0 1 0 0\n",
      " 1 0 0]\n",
      "\n",
      "\n",
      "Indice de las Dimensiones activas: \n",
      "(array([ 2,  3,  4,  7, 17, 18, 19, 20, 21, 23, 26, 28, 30, 32, 34, 37]),)\n",
      "Total de dimensiones activas: 16\n",
      "Porcentaje de exactitud: 0.806636206361 (accuracy score)\n",
      "Probabilidad de error (Perror): 0.193363793639\n",
      "Rendimiento (RE): 0.338009138092\n",
      "\n",
      "\n",
      " Iteracion: 12 \n",
      "\n",
      "\n",
      "Valor de M (dimensiones a mutar): 8\n",
      "indice de vectores a mutar: \n",
      "[8, 9, 12, 15, 18, 25, 28, 39]\n",
      "Solución actual:\n",
      "[0 0 1 1 1 0 0 1 0 0 0 0 0 0 0 0 0 1 1 1 1 1 0 1 0 0 1 0 1 0 1 0 1 0 1 0 0\n",
      " 1 0 0]\n",
      "Solución mutada:\n",
      "[0 0 1 1 1 0 0 1 1 1 0 0 1 0 0 1 0 1 0 1 1 1 0 1 0 1 1 0 0 0 1 0 1 0 1 0 0\n",
      " 1 0 1]\n",
      "\n",
      "\n",
      "Indice de las Dimensiones activas: \n",
      "(array([ 2,  3,  4,  7,  8,  9, 12, 15, 17, 19, 20, 21, 23, 25, 26, 30, 32,\n",
      "       34, 37, 39]),)\n",
      "Total de dimensiones activas: 20\n",
      "Porcentaje de exactitud: 0.777580623697 (accuracy score)\n",
      "Probabilidad de error (Perror): 0.222419376303\n",
      "Rendimiento (RE): 0.416725812891\n",
      "\n",
      "\n",
      " Iteracion: 13 \n",
      "\n",
      "\n",
      "Valor de M (dimensiones a mutar): 8\n",
      "indice de vectores a mutar: \n",
      "[9, 12, 16, 26, 28, 31, 33, 36]\n",
      "Solución actual:\n",
      "[0 0 1 1 1 0 0 1 1 1 0 0 1 0 0 1 0 1 0 1 1 1 0 1 0 1 1 0 0 0 1 0 1 0 1 0 0\n",
      " 1 0 1]\n",
      "Solución mutada:\n",
      "[0 0 1 1 1 0 0 1 1 0 0 0 0 0 0 1 1 1 0 1 1 1 0 1 0 1 0 0 1 0 1 1 1 1 1 0 1\n",
      " 1 0 1]\n",
      "\n",
      "\n",
      "Indice de las Dimensiones activas: \n",
      "(array([ 2,  3,  4,  7,  8, 15, 16, 17, 19, 20, 21, 23, 25, 28, 30, 31, 32,\n",
      "       33, 34, 36, 37, 39]),)\n",
      "Total de dimensiones activas: 22\n",
      "Porcentaje de exactitud: 0.772967218205 (accuracy score)\n",
      "Probabilidad de error (Perror): 0.227032781795\n",
      "Rendimiento (RE): 0.453109834538\n",
      "\n",
      "\n",
      " Iteracion: 14 \n",
      "\n",
      "\n",
      "Valor de M (dimensiones a mutar): 5\n",
      "indice de vectores a mutar: \n",
      "[19, 24, 27, 28, 32]\n",
      "Solución actual:\n",
      "[0 0 1 1 1 0 0 1 1 0 0 0 0 0 0 1 1 1 0 1 1 1 0 1 0 1 0 0 1 0 1 1 1 1 1 0 1\n",
      " 1 0 1]\n",
      "Solución mutada:\n",
      "[0 0 1 1 1 0 0 1 1 0 0 0 0 0 0 1 1 1 0 0 1 1 0 1 1 1 0 1 0 0 1 1 0 1 1 0 1\n",
      " 1 0 1]\n",
      "\n",
      "\n"
     ]
    },
    {
     "name": "stdout",
     "output_type": "stream",
     "text": [
      "Indice de las Dimensiones activas: \n",
      "(array([ 2,  3,  4,  7,  8, 15, 16, 17, 20, 21, 23, 24, 25, 27, 30, 31, 33,\n",
      "       34, 36, 37, 39]),)\n",
      "Total de dimensiones activas: 21\n",
      "Porcentaje de exactitud: 0.765292995608 (accuracy score)\n",
      "Probabilidad de error (Perror): 0.234707004392\n",
      "Rendimiento (RE): 0.437912101317\n"
     ]
    }
   ],
   "source": [
    "i=1\n",
    "M=38\n",
    "iteraciones_maximas=15\n",
    "#la declaracion tiene que ser 40! cómo puede tener menos dimensinoes???!!!\n",
    "mejor_solucion=np.random.randint(2, size=40)\n",
    "#almacena los score de todas las iteraciones\n",
    "registro_score_iteracion=[]\n",
    "#almacena la probabilidad de error de todas las iteraciones\n",
    "registro_perror_iteracion=[]\n",
    "#almacena el vector binario de todas las iteraciones\n",
    "registro_dimensiones_iteracion=[]\n",
    "#registro de la probabilidad de error de los valores aceptados\n",
    "registro_perror_valores_aceptados=[]\n",
    "#almacena unicamente el score de los vectores binarios aceptados\n",
    "registro_score_valores_aceptados=[]\n",
    "#almacena el vector binario de los valores aceptados (dimensiones_activas)\n",
    "registro_dimensiones_activas_valores_aceptados=[]\n",
    "#registro de las dimensiones activas por iteracion\n",
    "registro_dimensiones_activas_iteracion=[]\n",
    "#registro de la cantidad de dimensiones activas por iteracion\n",
    "registro_cantidad_dimensiones_activas_iteracion=[]\n",
    "#registro del rendimiento por iteracion\n",
    "registro_rendimiento_iteracion=[]\n",
    "#registro del rendimiento de los valore aceptados\n",
    "registro_rendimiento_aceptados=[]\n",
    "\n",
    "\n",
    "\n",
    "print(\"solucion_inicial\")\n",
    "print(mejor_solucion)\n",
    "print(\"\\n\")\n",
    "\n",
    "dimensiones_temporales=np.array(mejor_solucion)\n",
    "\n",
    "while (i<iteraciones_maximas):\n",
    "    print(\"\\n\\n Iteracion: %s \\n\\n\" %(i))\n",
    "    \n",
    "    [dimensiones_temporales,zeros,unos,training,testing]=obtencion_parametros_binarios(dimensiones_temporales,M)    \n",
    "    #Se evaluan los resultados\n",
    "    #se entrena el modelo\n",
    "    modelo.fit(training,L_nsl_training_indexbinary.values.ravel())\n",
    "    #se obtienen las predicciones\n",
    "    predicciones=modelo.predict(testing)\n",
    "\n",
    "    #se obtiene el accuracy score\n",
    "    score_actual=accuracy_score(L_nsl_testing_indexbinary,predicciones)\n",
    "    #se obtiene la probabilidad de error\n",
    "    perror_actual=1-score_actual\n",
    "    #se obtiene el rendimiento de dicha solucion\n",
    "    rendimiento_actual=funcion_rendimiento(perror_actual,unos,N=40,alfa=.3)\n",
    "    \n",
    "    \n",
    "    \n",
    "    \n",
    "    \n",
    "    #se declara un vector que contiene todos los score de todas las iteraciones\n",
    "\n",
    "    #Se almacenan los resultados\n",
    "    registro_score_iteracion.append(score_actual)\n",
    "    registro_dimensiones_iteracion.append(dimensiones_temporales)\n",
    "    registro_perror_iteracion.append(perror_actual)\n",
    "    registro_dimensiones_activas_iteracion.append(unos)\n",
    "    registro_cantidad_dimensiones_activas_iteracion.append(np.array(unos).shape[1])\n",
    "    registro_rendimiento_iteracion.append(rendimiento_actual)\n",
    "    \n",
    "    #Se imprimen los resultados\n",
    "    print(\"Indice de las Dimensiones activas: \")\n",
    "    print(unos)\n",
    "    print(\"Total de dimensiones activas: %s\" % np.array(unos).shape[1])\n",
    "    print(\"Porcentaje de exactitud: %s (accuracy score)\" %accuracy_score(L_nsl_testing_indexbinary,predicciones))\n",
    "    print(\"Probabilidad de error (Perror): %s\" % (1-accuracy_score(L_nsl_testing_indexbinary,predicciones)))\n",
    "    print(\"Rendimiento (RE): %s\" %rendimiento_actual)\n",
    "    \n",
    "    #M se calcula al final\n",
    "    \n",
    "    #M=M_dimensiones_a_mutar_2(i,iteraciones_maximas,M_Max=40)\n",
    "    \n",
    "    M=M_dimensiones_a_mutar(perror_actual,i,iteraciones_maximas,M_Max=40)\n",
    "    \n",
    "    \n",
    "    #M debe ser entero o da un error al elegir el sampleo aleatorio en la seleccion de dimensiones\n",
    "    #problema porque M es flotante\n",
    "    M=int(M)\n",
    "   \n",
    "    \n",
    "    i=i+1\n",
    "    "
   ]
  },
  {
   "cell_type": "code",
   "execution_count": 13,
   "metadata": {},
   "outputs": [
    {
     "data": {
      "text/plain": [
       "(40,)"
      ]
     },
     "execution_count": 13,
     "metadata": {},
     "output_type": "execute_result"
    }
   ],
   "source": [
    "dimensiones_temporales.shape"
   ]
  },
  {
   "cell_type": "code",
   "execution_count": 21,
   "metadata": {},
   "outputs": [
    {
     "data": {
      "text/plain": [
       "1"
      ]
     },
     "execution_count": 21,
     "metadata": {},
     "output_type": "execute_result"
    }
   ],
   "source": [
    "len(unos)"
   ]
  },
  {
   "cell_type": "code",
   "execution_count": 38,
   "metadata": {},
   "outputs": [
    {
     "data": {
      "text/plain": [
       "17"
      ]
     },
     "execution_count": 38,
     "metadata": {},
     "output_type": "execute_result"
    }
   ],
   "source": [
    "np.array(unos).shape[1]"
   ]
  },
  {
   "cell_type": "code",
   "execution_count": null,
   "metadata": {
    "collapsed": true
   },
   "outputs": [],
   "source": []
  }
 ],
 "metadata": {
  "kernelspec": {
   "display_name": "Python 3",
   "language": "python",
   "name": "python3"
  },
  "language_info": {
   "codemirror_mode": {
    "name": "ipython",
    "version": 3
   },
   "file_extension": ".py",
   "mimetype": "text/x-python",
   "name": "python",
   "nbconvert_exporter": "python",
   "pygments_lexer": "ipython3",
   "version": "3.6.1"
  }
 },
 "nbformat": 4,
 "nbformat_minor": 2
}
