{
 "cells": [
  {
   "cell_type": "code",
   "execution_count": 1,
   "metadata": {
    "collapsed": true
   },
   "outputs": [],
   "source": [
    "import pandas as pd\n",
    "import numpy as np\n",
    "from my_classes_01 import Metodos_Thesis as MT\n",
    "mc=MT()\n",
    "dataset_inicio=pd.read_csv(\"./dataset_labeled/nsl_testing_labeled.csv\")\n",
    "pd.set_option('display.max_columns', 50)"
   ]
  },
  {
   "cell_type": "code",
   "execution_count": 2,
   "metadata": {
    "collapsed": true
   },
   "outputs": [],
   "source": [
    "inicio='Duration'\n",
    "fin='IndexBinary'"
   ]
  },
  {
   "cell_type": "code",
   "execution_count": 3,
   "metadata": {
    "scrolled": true
   },
   "outputs": [
    {
     "name": "stdout",
     "output_type": "stream",
     "text": [
      "***PREPROCESSING***\n",
      "Building the labels dimension number= 1, perteneciente al Nombre: ProtocolType\n",
      "Building the labels dimension number= 2, perteneciente al Nombre: Service\n",
      "Building the labels dimension number= 3, perteneciente al Nombre: Flag\n",
      "Building the labels dimension number= 41, perteneciente al Nombre: TypeOfAttack\n",
      "Building the labels dimension number= 43, perteneciente al Nombre: Group\n",
      "***VALORES REPETIDOS***\n",
      "Existen 0 de valores repetidos\n"
     ]
    }
   ],
   "source": [
    "from sklearn import preprocessing\n",
    "dataset=dataset_inicio.loc[:,inicio:fin]\n",
    "columnas=dataset.columns\n",
    "print(\"***PREPROCESSING***\")\n",
    "for indice in range(0,len(columnas)):\n",
    "    if type(dataset.loc[0,columnas[indice]]) == str:\n",
    "        print('Building the labels dimension number= %d, perteneciente al Nombre: %s' % (indice,columnas[indice]))\n",
    "        #print('Nombre %s' % (columnas[indice]))\n",
    "        #print('Su tipo es %s=' % (str(type(data))))\n",
    "        #label enconder, object\n",
    "        label_encoder=preprocessing.LabelEncoder()\n",
    "        #label encoer, fit\n",
    "        label_encoder.fit(dataset[columnas[indice]])\n",
    "        #building the dataframe\n",
    "        dataset[columnas[indice]]=label_encoder.transform(dataset[columnas[indice]])\n",
    "    #for donde multiplica todas las columnas, para evitar los iguales al sumar \n",
    "    dataset[columnas[indice]]=dataset[columnas[indice]]*(np.random.randn())    \n",
    "        \n",
    "#obteniendo la suma del dataset\n",
    "suma=dataset.sum(axis=1)\n",
    "#adding the \"suma\" series to the dataset_inicio \n",
    "dataset_inicio[\"suma\"]=suma\n",
    "#borrando los duplicados\n",
    "series_suma=dataset_inicio[dataset_inicio.suma.duplicated(keep=False)]\n",
    "#obteniendo los valores repetidos mediante group by\n",
    "series_suma=dataset_inicio.groupby('suma').apply(lambda x: list(x.index))\n",
    "#\n",
    "print(\"***VALORES REPETIDOS***\")\n",
    "print(\"Existen %d de valores repetidos\" % (len(dataset_inicio)-len(series_suma)))\n",
    "#arriba todo bien\n",
    "for indice in range(0,len(series_suma)):\n",
    "    if len(series_suma[series_suma.index.values[indice]]) > 1:\n",
    "        print(\"NUEVA REPETICION en el indice suma: %f\" %(series_suma.index.values[indice]))\n",
    "        print(\"Tiene un total de instancias iguales a: %d\" %(len(series_suma[series_suma.index.values[indice]])))\n",
    "        #aqui parece el problema\n",
    "        for cantidad_instancias_repetidas in range(0,len(series_suma[series_suma.index.values[indice]])):\n",
    "            print(\"No de instancia: %d que equivale al indice dataset: %d\" %(cantidad_instancias_repetidas,series_suma[series_suma.index.values[indice]][cantidad_instancias_repetidas]))\n",
    "            ataque=dataset_inicio.loc[series_suma[series_suma.index.values[indice]][cantidad_instancias_repetidas],\"TypeOfAttack\"]\n",
    "            clase=dataset_inicio.loc[series_suma[series_suma.index.values[indice]][cantidad_instancias_repetidas],\"Group\"]\n",
    "            print(\"Pertenece al tipo de ataque: %s de la clase %s\" %(ataque, clase))"
   ]
  },
  {
   "cell_type": "code",
   "execution_count": 12,
   "metadata": {},
   "outputs": [
    {
     "data": {
      "text/html": [
       "<div>\n",
       "<style>\n",
       "    .dataframe thead tr:only-child th {\n",
       "        text-align: right;\n",
       "    }\n",
       "\n",
       "    .dataframe thead th {\n",
       "        text-align: left;\n",
       "    }\n",
       "\n",
       "    .dataframe tbody tr th {\n",
       "        vertical-align: top;\n",
       "    }\n",
       "</style>\n",
       "<table border=\"1\" class=\"dataframe\">\n",
       "  <thead>\n",
       "    <tr style=\"text-align: right;\">\n",
       "      <th></th>\n",
       "      <th>Duration</th>\n",
       "      <th>ProtocolType</th>\n",
       "      <th>Service</th>\n",
       "      <th>Flag</th>\n",
       "      <th>SourceBytes</th>\n",
       "      <th>DestinationBytes</th>\n",
       "      <th>Land</th>\n",
       "      <th>WrongFragment</th>\n",
       "      <th>Urgent</th>\n",
       "      <th>Hot</th>\n",
       "      <th>FailedLogins</th>\n",
       "      <th>LoggedIn</th>\n",
       "      <th>NumberOfCompromised</th>\n",
       "      <th>RootShell</th>\n",
       "      <th>SuAttempted</th>\n",
       "      <th>Root</th>\n",
       "      <th>NumberOfFileCreations</th>\n",
       "      <th>NumberOfShellPrompts</th>\n",
       "      <th>NumberOfAccessFiles</th>\n",
       "      <th>NumberOfOutbound</th>\n",
       "      <th>IsHotLogin</th>\n",
       "      <th>IsGuestLogin</th>\n",
       "      <th>Count</th>\n",
       "      <th>SrvCount</th>\n",
       "      <th>SerrorRate</th>\n",
       "      <th>SrvSerrorRate</th>\n",
       "      <th>RerrorRate</th>\n",
       "      <th>SrvRerrorRate</th>\n",
       "      <th>SameSrvRate</th>\n",
       "      <th>DiffSrvRate</th>\n",
       "      <th>SrvDiffHostRate</th>\n",
       "      <th>DstHostCount</th>\n",
       "      <th>DstHostSrvCount</th>\n",
       "      <th>DstHostSameSrvRate</th>\n",
       "      <th>DstHostDiffSrvRate</th>\n",
       "      <th>DstHostSameSrcPortRate</th>\n",
       "      <th>DstHostSrvDiffHostRate</th>\n",
       "      <th>DstHostSerrorRate</th>\n",
       "      <th>DstHostSrvSerrorRate</th>\n",
       "      <th>DstHostRerrorRate</th>\n",
       "      <th>DstHostSrvRerrorRate</th>\n",
       "      <th>TypeOfAttack</th>\n",
       "      <th>Group</th>\n",
       "      <th>IndexAttack</th>\n",
       "      <th>IndexByGroup</th>\n",
       "      <th>IndexBinary</th>\n",
       "      <th>suma</th>\n",
       "    </tr>\n",
       "  </thead>\n",
       "  <tbody>\n",
       "    <tr>\n",
       "      <th>96705</th>\n",
       "      <td>0</td>\n",
       "      <td>icmp</td>\n",
       "      <td>eco_i</td>\n",
       "      <td>SF</td>\n",
       "      <td>18</td>\n",
       "      <td>0</td>\n",
       "      <td>0</td>\n",
       "      <td>0</td>\n",
       "      <td>0</td>\n",
       "      <td>0</td>\n",
       "      <td>0</td>\n",
       "      <td>0</td>\n",
       "      <td>0</td>\n",
       "      <td>0</td>\n",
       "      <td>0</td>\n",
       "      <td>0</td>\n",
       "      <td>0</td>\n",
       "      <td>0</td>\n",
       "      <td>0</td>\n",
       "      <td>0</td>\n",
       "      <td>0</td>\n",
       "      <td>0</td>\n",
       "      <td>1</td>\n",
       "      <td>1</td>\n",
       "      <td>0.0</td>\n",
       "      <td>0.0</td>\n",
       "      <td>0.0</td>\n",
       "      <td>0.0</td>\n",
       "      <td>1.0</td>\n",
       "      <td>0.0</td>\n",
       "      <td>0.0</td>\n",
       "      <td>1</td>\n",
       "      <td>255</td>\n",
       "      <td>1.0</td>\n",
       "      <td>0.0</td>\n",
       "      <td>1.0</td>\n",
       "      <td>1.0</td>\n",
       "      <td>0.0</td>\n",
       "      <td>0.0</td>\n",
       "      <td>0.0</td>\n",
       "      <td>0.0</td>\n",
       "      <td>ipsweep.</td>\n",
       "      <td>probe</td>\n",
       "      <td>7</td>\n",
       "      <td>3</td>\n",
       "      <td>1</td>\n",
       "      <td>0.567929</td>\n",
       "    </tr>\n",
       "    <tr>\n",
       "      <th>96706</th>\n",
       "      <td>0</td>\n",
       "      <td>icmp</td>\n",
       "      <td>eco_i</td>\n",
       "      <td>SF</td>\n",
       "      <td>18</td>\n",
       "      <td>0</td>\n",
       "      <td>0</td>\n",
       "      <td>0</td>\n",
       "      <td>0</td>\n",
       "      <td>0</td>\n",
       "      <td>0</td>\n",
       "      <td>0</td>\n",
       "      <td>0</td>\n",
       "      <td>0</td>\n",
       "      <td>0</td>\n",
       "      <td>0</td>\n",
       "      <td>0</td>\n",
       "      <td>0</td>\n",
       "      <td>0</td>\n",
       "      <td>0</td>\n",
       "      <td>0</td>\n",
       "      <td>0</td>\n",
       "      <td>1</td>\n",
       "      <td>1</td>\n",
       "      <td>0.0</td>\n",
       "      <td>0.0</td>\n",
       "      <td>0.0</td>\n",
       "      <td>0.0</td>\n",
       "      <td>1.0</td>\n",
       "      <td>0.0</td>\n",
       "      <td>0.0</td>\n",
       "      <td>1</td>\n",
       "      <td>255</td>\n",
       "      <td>1.0</td>\n",
       "      <td>0.0</td>\n",
       "      <td>1.0</td>\n",
       "      <td>1.0</td>\n",
       "      <td>0.0</td>\n",
       "      <td>0.0</td>\n",
       "      <td>0.0</td>\n",
       "      <td>0.0</td>\n",
       "      <td>ipsweep.</td>\n",
       "      <td>probe</td>\n",
       "      <td>7</td>\n",
       "      <td>3</td>\n",
       "      <td>1</td>\n",
       "      <td>0.567929</td>\n",
       "    </tr>\n",
       "  </tbody>\n",
       "</table>\n",
       "</div>"
      ],
      "text/plain": [
       "       Duration ProtocolType Service Flag  SourceBytes  DestinationBytes  \\\n",
       "96705         0         icmp   eco_i   SF           18                 0   \n",
       "96706         0         icmp   eco_i   SF           18                 0   \n",
       "\n",
       "       Land  WrongFragment  Urgent  Hot  FailedLogins  LoggedIn  \\\n",
       "96705     0              0       0    0             0         0   \n",
       "96706     0              0       0    0             0         0   \n",
       "\n",
       "       NumberOfCompromised  RootShell  SuAttempted  Root  \\\n",
       "96705                    0          0            0     0   \n",
       "96706                    0          0            0     0   \n",
       "\n",
       "       NumberOfFileCreations  NumberOfShellPrompts  NumberOfAccessFiles  \\\n",
       "96705                      0                     0                    0   \n",
       "96706                      0                     0                    0   \n",
       "\n",
       "       NumberOfOutbound  IsHotLogin  IsGuestLogin  Count  SrvCount  \\\n",
       "96705                 0           0             0      1         1   \n",
       "96706                 0           0             0      1         1   \n",
       "\n",
       "       SerrorRate  SrvSerrorRate  RerrorRate  SrvRerrorRate  SameSrvRate  \\\n",
       "96705         0.0            0.0         0.0            0.0          1.0   \n",
       "96706         0.0            0.0         0.0            0.0          1.0   \n",
       "\n",
       "       DiffSrvRate  SrvDiffHostRate  DstHostCount  DstHostSrvCount  \\\n",
       "96705          0.0              0.0             1              255   \n",
       "96706          0.0              0.0             1              255   \n",
       "\n",
       "       DstHostSameSrvRate  DstHostDiffSrvRate  DstHostSameSrcPortRate  \\\n",
       "96705                 1.0                 0.0                     1.0   \n",
       "96706                 1.0                 0.0                     1.0   \n",
       "\n",
       "       DstHostSrvDiffHostRate  DstHostSerrorRate  DstHostSrvSerrorRate  \\\n",
       "96705                     1.0                0.0                   0.0   \n",
       "96706                     1.0                0.0                   0.0   \n",
       "\n",
       "       DstHostRerrorRate  DstHostSrvRerrorRate TypeOfAttack  Group  \\\n",
       "96705                0.0                   0.0     ipsweep.  probe   \n",
       "96706                0.0                   0.0     ipsweep.  probe   \n",
       "\n",
       "       IndexAttack  IndexByGroup  IndexBinary      suma  \n",
       "96705            7             3            1  0.567929  \n",
       "96706            7             3            1  0.567929  "
      ]
     },
     "execution_count": 12,
     "metadata": {},
     "output_type": "execute_result"
    }
   ],
   "source": [
    "dataset_inicio.loc[[96705,96706],:]"
   ]
  },
  {
   "cell_type": "code",
   "execution_count": 122,
   "metadata": {},
   "outputs": [
    {
     "data": {
      "text/html": [
       "<div>\n",
       "<style>\n",
       "    .dataframe thead tr:only-child th {\n",
       "        text-align: right;\n",
       "    }\n",
       "\n",
       "    .dataframe thead th {\n",
       "        text-align: left;\n",
       "    }\n",
       "\n",
       "    .dataframe tbody tr th {\n",
       "        vertical-align: top;\n",
       "    }\n",
       "</style>\n",
       "<table border=\"1\" class=\"dataframe\">\n",
       "  <thead>\n",
       "    <tr style=\"text-align: right;\">\n",
       "      <th></th>\n",
       "      <th>Duration</th>\n",
       "      <th>ProtocolType</th>\n",
       "      <th>Service</th>\n",
       "      <th>Flag</th>\n",
       "      <th>SourceBytes</th>\n",
       "      <th>DestinationBytes</th>\n",
       "      <th>Land</th>\n",
       "      <th>WrongFragment</th>\n",
       "      <th>Urgent</th>\n",
       "      <th>Hot</th>\n",
       "      <th>...</th>\n",
       "      <th>DstHostSerrorRate</th>\n",
       "      <th>DstHostSrvSerrorRate</th>\n",
       "      <th>DstHostRerrorRate</th>\n",
       "      <th>DstHostSrvRerrorRate</th>\n",
       "      <th>TypeOfAttack</th>\n",
       "      <th>TimesApparead</th>\n",
       "      <th>Group</th>\n",
       "      <th>IndexAttack</th>\n",
       "      <th>IndexByGroup</th>\n",
       "      <th>IndexBinary</th>\n",
       "    </tr>\n",
       "  </thead>\n",
       "  <tbody>\n",
       "    <tr>\n",
       "      <th>12349</th>\n",
       "      <td>0</td>\n",
       "      <td>59.622352</td>\n",
       "      <td>-3614.932548</td>\n",
       "      <td>-217.792612</td>\n",
       "      <td>121</td>\n",
       "      <td>174</td>\n",
       "      <td>0</td>\n",
       "      <td>0</td>\n",
       "      <td>0</td>\n",
       "      <td>0</td>\n",
       "      <td>...</td>\n",
       "      <td>0.0</td>\n",
       "      <td>0.0</td>\n",
       "      <td>0.0</td>\n",
       "      <td>0.04</td>\n",
       "      <td>332.651977</td>\n",
       "      <td>9</td>\n",
       "      <td>-279.433228</td>\n",
       "      <td>4</td>\n",
       "      <td>4</td>\n",
       "      <td>1</td>\n",
       "    </tr>\n",
       "    <tr>\n",
       "      <th>21710</th>\n",
       "      <td>0</td>\n",
       "      <td>59.622352</td>\n",
       "      <td>-3614.932548</td>\n",
       "      <td>-217.792612</td>\n",
       "      <td>125</td>\n",
       "      <td>174</td>\n",
       "      <td>0</td>\n",
       "      <td>0</td>\n",
       "      <td>0</td>\n",
       "      <td>0</td>\n",
       "      <td>...</td>\n",
       "      <td>0.0</td>\n",
       "      <td>0.0</td>\n",
       "      <td>0.0</td>\n",
       "      <td>0.05</td>\n",
       "      <td>332.651977</td>\n",
       "      <td>8</td>\n",
       "      <td>-279.433228</td>\n",
       "      <td>4</td>\n",
       "      <td>4</td>\n",
       "      <td>1</td>\n",
       "    </tr>\n",
       "  </tbody>\n",
       "</table>\n",
       "<p>2 rows × 47 columns</p>\n",
       "</div>"
      ],
      "text/plain": [
       "       Duration  ProtocolType      Service        Flag  SourceBytes  \\\n",
       "12349         0     59.622352 -3614.932548 -217.792612          121   \n",
       "21710         0     59.622352 -3614.932548 -217.792612          125   \n",
       "\n",
       "       DestinationBytes  Land  WrongFragment  Urgent  Hot     ...       \\\n",
       "12349               174     0              0       0    0     ...        \n",
       "21710               174     0              0       0    0     ...        \n",
       "\n",
       "       DstHostSerrorRate  DstHostSrvSerrorRate  DstHostRerrorRate  \\\n",
       "12349                0.0                   0.0                0.0   \n",
       "21710                0.0                   0.0                0.0   \n",
       "\n",
       "       DstHostSrvRerrorRate  TypeOfAttack  TimesApparead       Group  \\\n",
       "12349                  0.04    332.651977              9 -279.433228   \n",
       "21710                  0.05    332.651977              8 -279.433228   \n",
       "\n",
       "       IndexAttack  IndexByGroup  IndexBinary  \n",
       "12349            4             4            1  \n",
       "21710            4             4            1  \n",
       "\n",
       "[2 rows x 47 columns]"
      ]
     },
     "execution_count": 122,
     "metadata": {},
     "output_type": "execute_result"
    }
   ],
   "source": [
    "dataset.loc[[12349,21710],:]"
   ]
  },
  {
   "cell_type": "code",
   "execution_count": 23,
   "metadata": {
    "collapsed": true
   },
   "outputs": [],
   "source": [
    "t1=dataset.loc[3445,:]"
   ]
  },
  {
   "cell_type": "code",
   "execution_count": 26,
   "metadata": {},
   "outputs": [
    {
     "data": {
      "text/plain": [
       "116.16"
      ]
     },
     "execution_count": 26,
     "metadata": {},
     "output_type": "execute_result"
    }
   ],
   "source": [
    "t1.sum()"
   ]
  },
  {
   "cell_type": "code",
   "execution_count": 27,
   "metadata": {
    "collapsed": true
   },
   "outputs": [],
   "source": [
    "t2=dataset.loc[9666,:]"
   ]
  },
  {
   "cell_type": "code",
   "execution_count": 28,
   "metadata": {},
   "outputs": [
    {
     "data": {
      "text/plain": [
       "116.16"
      ]
     },
     "execution_count": 28,
     "metadata": {},
     "output_type": "execute_result"
    }
   ],
   "source": [
    "t2.sum()"
   ]
  },
  {
   "cell_type": "markdown",
   "metadata": {},
   "source": [
    "# el problema esta en el label encoder, hay que asginar valores más grandes"
   ]
  },
  {
   "cell_type": "code",
   "execution_count": 32,
   "metadata": {
    "collapsed": true
   },
   "outputs": [],
   "source": [
    "#multiplicando por un valor random unicamente las columnas en las que fue usada el label encoder"
   ]
  },
  {
   "cell_type": "code",
   "execution_count": 96,
   "metadata": {},
   "outputs": [
    {
     "data": {
      "text/plain": [
       "76"
      ]
     },
     "execution_count": 96,
     "metadata": {},
     "output_type": "execute_result"
    }
   ],
   "source": [
    "np.random.randint(low=20,high=80)"
   ]
  }
 ],
 "metadata": {
  "kernelspec": {
   "display_name": "Python 3",
   "language": "python",
   "name": "python3"
  },
  "language_info": {
   "codemirror_mode": {
    "name": "ipython",
    "version": 3
   },
   "file_extension": ".py",
   "mimetype": "text/x-python",
   "name": "python",
   "nbconvert_exporter": "python",
   "pygments_lexer": "ipython3",
   "version": "3.6.1"
  }
 },
 "nbformat": 4,
 "nbformat_minor": 2
}
