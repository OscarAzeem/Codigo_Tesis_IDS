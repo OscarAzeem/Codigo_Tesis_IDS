{
 "cells": [
  {
   "cell_type": "code",
   "execution_count": 1,
   "metadata": {
    "collapsed": true
   },
   "outputs": [],
   "source": [
    "#Definiendo las librerias\n",
    "#importing everything\n",
    "import pandas as pd\n",
    "import numpy as np\n",
    "#visualization\n",
    "import matplotlib.pyplot as plt\n",
    "import seaborn as sns\n",
    "#printing in noteboo\n",
    "%matplotlib inline\n",
    "#leyendo corrected (testing dataset)\n",
    "#testing=pd.read_csv('./Original_Corrected_datasets/KDD/corrected.csv')\n",
    "testing=pd.read_csv('./Original_Datasets/KDD/corrected')"
   ]
  },
  {
   "cell_type": "code",
   "execution_count": 2,
   "metadata": {
    "collapsed": true
   },
   "outputs": [],
   "source": [
    "from my_classes_01 import Metodos_Thesis as MT1\n",
    "mc=MT1()"
   ]
  },
  {
   "cell_type": "code",
   "execution_count": 3,
   "metadata": {},
   "outputs": [
    {
     "name": "stdout",
     "output_type": "stream",
     "text": [
      "Su tipo es <class 'pandas.core.frame.DataFrame'>=\n",
      "Sus filas son 311029=\n",
      "Sus columnas son 42=\n"
     ]
    }
   ],
   "source": [
    "mc.ip(testing)"
   ]
  },
  {
   "cell_type": "code",
   "execution_count": 6,
   "metadata": {
    "scrolled": true
   },
   "outputs": [
    {
     "data": {
      "text/plain": [
       "array(['normal', 'snmpgetattack', 'named', 'xlock', 'smurf', 'ipsweep',\n",
       "       'multihop', 'xsnoop', 'sendmail', 'guess_passwd', 'saint',\n",
       "       'buffer_overflow', 'portsweep', 'pod', 'apache2', 'phf', 'udpstorm',\n",
       "       'warezmaster', 'perl', 'satan', 'xterm', 'mscan', 'processtable',\n",
       "       'ps', 'nmap', 'rootkit', 'neptune', 'loadmodule', 'imap', 'back',\n",
       "       'httptunnel', 'worm', 'mailbomb', 'ftp_write', 'teardrop', 'land',\n",
       "       'sqlattack', 'snmpguess'], dtype=object)"
      ]
     },
     "execution_count": 6,
     "metadata": {},
     "output_type": "execute_result"
    }
   ],
   "source": [
    "testing.TypeOfAttack.unique()"
   ]
  },
  {
   "cell_type": "code",
   "execution_count": 11,
   "metadata": {},
   "outputs": [],
   "source": [
    "testing=mc.cleaning_one_column(testing)"
   ]
  },
  {
   "cell_type": "code",
   "execution_count": 12,
   "metadata": {},
   "outputs": [
    {
     "data": {
      "text/plain": [
       "array(['nor', 'snmpgetatt', 'na', 'xl', 'sm', 'ipsw', 'multi', 'xsn',\n",
       "       'sendm', 'guess_pas', 'sa', 'buffer_overf', 'portsw', '', 'apac',\n",
       "       'udpst', 'warezmas', 'p', 'xt', 'ms', 'processta', 'n', 'root',\n",
       "       'nept', 'loadmod', 'i', 'b', 'httptun', 'w', 'mailb', 'ftp_wr',\n",
       "       'teard', 'l', 'sqlatt', 'snmpgu'], dtype=object)"
      ]
     },
     "execution_count": 12,
     "metadata": {},
     "output_type": "execute_result"
    }
   ],
   "source": [
    "testing.TypeOfAttack.unique()"
   ]
  },
  {
   "cell_type": "code",
   "execution_count": 13,
   "metadata": {
    "collapsed": true
   },
   "outputs": [],
   "source": [
    "#Reading all the datasets :("
   ]
  },
  {
   "cell_type": "code",
   "execution_count": 14,
   "metadata": {
    "collapsed": true
   },
   "outputs": [],
   "source": [
    "#leyendo corrected (testing dataset)\n",
    "testing=pd.read_csv('./Original_Corrected_datasets/KDD/corrected.csv')"
   ]
  },
  {
   "cell_type": "markdown",
   "metadata": {},
   "source": [
    "# Longitudes"
   ]
  },
  {
   "cell_type": "code",
   "execution_count": 8,
   "metadata": {},
   "outputs": [
    {
     "name": "stdout",
     "output_type": "stream",
     "text": [
      "Su tamaño es: 10 y dice hola\n"
     ]
    }
   ],
   "source": [
    "print('Su tamaño es: %d y dice %s' %(10, 'hola'))"
   ]
  },
  {
   "cell_type": "code",
   "execution_count": 21,
   "metadata": {},
   "outputs": [
    {
     "data": {
      "text/plain": [
       "(311029, 42)"
      ]
     },
     "execution_count": 21,
     "metadata": {},
     "output_type": "execute_result"
    }
   ],
   "source": [
    "testing.shape"
   ]
  },
  {
   "cell_type": "code",
   "execution_count": 22,
   "metadata": {},
   "outputs": [
    {
     "data": {
      "text/plain": [
       "tuple"
      ]
     },
     "execution_count": 22,
     "metadata": {},
     "output_type": "execute_result"
    }
   ],
   "source": [
    "type(testing.shape)"
   ]
  },
  {
   "cell_type": "code",
   "execution_count": 23,
   "metadata": {},
   "outputs": [
    {
     "data": {
      "text/plain": [
       "311029"
      ]
     },
     "execution_count": 23,
     "metadata": {},
     "output_type": "execute_result"
    }
   ],
   "source": [
    "testing.shape[0]"
   ]
  },
  {
   "cell_type": "code",
   "execution_count": 24,
   "metadata": {},
   "outputs": [
    {
     "data": {
      "text/plain": [
       "2"
      ]
     },
     "execution_count": 24,
     "metadata": {},
     "output_type": "execute_result"
    }
   ],
   "source": [
    "len(testing.shape)"
   ]
  },
  {
   "cell_type": "code",
   "execution_count": null,
   "metadata": {
    "collapsed": true
   },
   "outputs": [],
   "source": []
  }
 ],
 "metadata": {
  "kernelspec": {
   "display_name": "Python 3",
   "language": "python",
   "name": "python3"
  },
  "language_info": {
   "codemirror_mode": {
    "name": "ipython",
    "version": 3
   },
   "file_extension": ".py",
   "mimetype": "text/x-python",
   "name": "python",
   "nbconvert_exporter": "python",
   "pygments_lexer": "ipython3",
   "version": "3.6.1"
  }
 },
 "nbformat": 4,
 "nbformat_minor": 2
}
