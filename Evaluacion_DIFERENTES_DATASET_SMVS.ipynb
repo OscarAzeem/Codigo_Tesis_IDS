{
 "cells": [
  {
   "cell_type": "markdown",
   "metadata": {},
   "source": [
    "# Evaluacion de los algoritmos: SVM's (SVC in scikitlearn), con los dataset: <br>\n",
    "### Dataset Min-Max, entrenado con Tra y convertido de esa manera Test <br>\n",
    "### Dataset Min-Max, entrenado con tra y convertido; entrenado con Test y convertido \n",
    "### Dataset NO normalizado <br>\n"
   ]
  },
  {
   "cell_type": "markdown",
   "metadata": {},
   "source": [
    ".- Tiempo <br>\n",
    ".- Score <br>\n",
    ".- Matrices de confusión <br>\n",
    ".- Classification report ( Precision, Recall, f1-score, support)<br>"
   ]
  },
  {
   "cell_type": "code",
   "execution_count": 1,
   "metadata": {
    "collapsed": true
   },
   "outputs": [],
   "source": [
    "#http://scikit-learn.org/stable/auto_examples/model_selection/plot_confusion_matrix.html#sphx-glr-auto-examples-model-selection-plot-confusion-matrix-py"
   ]
  },
  {
   "cell_type": "code",
   "execution_count": 2,
   "metadata": {
    "collapsed": true
   },
   "outputs": [],
   "source": [
    "clases_binarias=['Normal','Ataque']\n",
    "#corresponde a 'Normal=0, Ataque=1\n",
    "clases_5=['dos','normal','probe','r2l','u2r']\n",
    "#corresponde a dos=0; normal=1, probe=2\n",
    "#aunque posiblemente de error poque están definidos desde 1 en vez de 0, porque azeem"
   ]
  },
  {
   "cell_type": "code",
   "execution_count": null,
   "metadata": {
    "collapsed": true
   },
   "outputs": [],
   "source": []
  },
  {
   "cell_type": "markdown",
   "metadata": {},
   "source": [
    "## Reading the libraries"
   ]
  },
  {
   "cell_type": "code",
   "execution_count": 3,
   "metadata": {
    "collapsed": true
   },
   "outputs": [],
   "source": [
    "import itertools\n",
    "import time\n",
    "import numpy as np\n",
    "import pandas as pd\n",
    "import matplotlib.pyplot as plt\n",
    "from matplotlib import offsetbox\n",
    "from sklearn import (manifold, datasets, decomposition, ensemble,\n",
    "                     discriminant_analysis, random_projection)#Prueba evaluación y entrenamiento un solo individuo. \n",
    "#Vectores completos\n",
    "from sklearn.metrics import classification_report,confusion_matrix,accuracy_score\n",
    "#from sklearn.grid_search import GridSearchCV\n",
    "from sklearn.model_selection import GridSearchCV"
   ]
  },
  {
   "cell_type": "markdown",
   "metadata": {},
   "source": [
    "# Definicion de la matriz de confusion"
   ]
  },
  {
   "cell_type": "code",
   "execution_count": 4,
   "metadata": {
    "collapsed": true
   },
   "outputs": [],
   "source": [
    "def plot_confusion_matrix(cm, classes,\n",
    "                          normalize=False,\n",
    "                          title='Confusion matrix',\n",
    "                          cmap=plt.cm.Blues):\n",
    "    \"\"\"\n",
    "    This function prints and plots the confusion matrix.\n",
    "    Normalization can be applied by setting `normalize=True`.\n",
    "    cm= confussion matriz\n",
    "    \"\"\"\n",
    "    if normalize:\n",
    "        cm = cm.astype('float') / cm.sum(axis=1)[:, np.newaxis]\n",
    "        print(\"Matriz de Confusión normalizada\")\n",
    "    else:\n",
    "        print('Matriz de Confusión')\n",
    "\n",
    "    print(cm)\n",
    "\n",
    "    plt.imshow(cm, interpolation='nearest', cmap=cmap)\n",
    "    plt.title(title)\n",
    "    plt.colorbar()\n",
    "    tick_marks = np.arange(len(classes))\n",
    "    plt.xticks(tick_marks, classes, rotation=45)\n",
    "    plt.yticks(tick_marks, classes)\n",
    "\n",
    "    fmt = '.2f' if normalize else 'd'\n",
    "    thresh = cm.max() / 2.\n",
    "    for i, j in itertools.product(range(cm.shape[0]), range(cm.shape[1])):\n",
    "        plt.text(j, i, format(cm[i, j], fmt),\n",
    "                 horizontalalignment=\"center\",\n",
    "                 color=\"white\" if cm[i, j] > thresh else \"black\")\n",
    "\n",
    "    plt.tight_layout()\n",
    "    plt.ylabel('Etiquetas Originales')\n",
    "    plt.xlabel('Etiquetas Predecidas')\n"
   ]
  },
  {
   "cell_type": "code",
   "execution_count": 5,
   "metadata": {
    "collapsed": true
   },
   "outputs": [],
   "source": [
    "from sklearn.metrics import classification_report,confusion_matrix,accuracy_score\n",
    "#from sklearn.grid_search import GridSearchCV\n",
    "from sklearn.model_selection import GridSearchCV"
   ]
  },
  {
   "cell_type": "code",
   "execution_count": 6,
   "metadata": {
    "collapsed": true
   },
   "outputs": [],
   "source": [
    "#NSL TESTING LABELS\n",
    "\n",
    "#Index binary (2 clases)\n",
    "L_nsl_testing_indexbinary=pd.read_csv(\"./Final_Datasets/L_nsl_testing_indexbinary.csv\")\n",
    "#Index by Group (5 clases)\n",
    "L_nsl_testing_indexbygroup=pd.read_csv(\"./Final_Datasets/L_nsl_testing_indexbygroup.csv\")\n",
    "#Index tipe of attack (42? clases)\n",
    "L_nsl_testing_indextipeofattack=pd.read_csv(\"./Final_Datasets/L_nsl_testing_indextipeofattack.csv\")\n",
    "\n",
    "\n",
    "#nsl TRAINING LABELS\n",
    "# 2 clases\n",
    "L_nsl_training_indexbinary=pd.read_csv(\"./Final_Datasets/L_nsl_training_indexbinary.csv\")\n",
    "#Index by Group (5 clases)\n",
    "L_nsl_training_indexbygroup=pd.read_csv(\"./Final_Datasets/L_nsl_training_indexbygroup.csv\")\n",
    "#Index tipe of attack (42? clases)\n",
    "L_nsl_training_indextipeofattack=pd.read_csv(\"./Final_Datasets/L_nsl_training_indextipeofattack.csv\")"
   ]
  },
  {
   "cell_type": "markdown",
   "metadata": {},
   "source": [
    "# 1) Dataset Min-Max, entrenado con Tra y convertido de esa manera Test <br>"
   ]
  },
  {
   "cell_type": "markdown",
   "metadata": {},
   "source": [
    "# Reading the Datasets with the labels"
   ]
  },
  {
   "cell_type": "code",
   "execution_count": 4,
   "metadata": {
    "collapsed": true
   },
   "outputs": [],
   "source": [
    "#Reading all the cvs\n",
    "#Nss learning\n",
    "nsl_training=pd.read_csv('./Final_Datasets/MINMAX_FD_NSL_Tra.csv')\n",
    "#Nsl testing\n",
    "nsl_testing=pd.read_csv('./Final_Datasets/MINMAX_FD_NSL_Test.csv')\n"
   ]
  },
  {
   "cell_type": "markdown",
   "metadata": {},
   "source": [
    "# SVM's (SVC in scikitLearn)"
   ]
  },
  {
   "cell_type": "markdown",
   "metadata": {},
   "source": [
    "# 2 clases"
   ]
  },
  {
   "cell_type": "code",
   "execution_count": 9,
   "metadata": {
    "collapsed": true
   },
   "outputs": [],
   "source": [
    "from sklearn.svm import SVC\n",
    "modelo=SVC(kernel='rbf',cache_size=4000, C=10, gamma=0.1, shrinking=1)"
   ]
  },
  {
   "cell_type": "code",
   "execution_count": 10,
   "metadata": {},
   "outputs": [
    {
     "name": "stdout",
     "output_type": "stream",
     "text": [
      "\n",
      " Tiempo entrenamiento\n",
      "\n",
      "--- 137.29376816749573 seconds ---\n"
     ]
    }
   ],
   "source": [
    "start_time = time.time()\n",
    "modelo.fit(nsl_training,L_nsl_training_indexbinary.values.ravel())\n",
    "t_entrenamiento_f_o=(time.time() - start_time)\n",
    "print(\"\\n Tiempo entrenamiento\\n\")\n",
    "print(\"--- %s seconds ---\" % t_entrenamiento_f_o)"
   ]
  },
  {
   "cell_type": "code",
   "execution_count": 11,
   "metadata": {},
   "outputs": [
    {
     "name": "stdout",
     "output_type": "stream",
     "text": [
      "\n",
      " Tiempo de evaluacion\n",
      "\n",
      "--- 12.036352157592773 seconds ---\n"
     ]
    }
   ],
   "source": [
    "#Testing the classifier\n",
    "start_time = time.time()\n",
    "predicciones=modelo.predict(nsl_testing)\n",
    "t_evaluacion_b_o=(time.time() - start_time)\n",
    "print(\"\\n Tiempo de evaluacion\\n\")\n",
    "print(\"--- %s seconds ---\" % t_evaluacion_b_o)"
   ]
  },
  {
   "cell_type": "code",
   "execution_count": 12,
   "metadata": {
    "scrolled": true
   },
   "outputs": [
    {
     "name": "stdout",
     "output_type": "stream",
     "text": [
      "             precision    recall  f1-score   support\n",
      "\n",
      "          0       0.67      0.98      0.79      9710\n",
      "          1       0.97      0.63      0.76     12833\n",
      "\n",
      "avg / total       0.84      0.78      0.78     22543\n",
      "\n"
     ]
    }
   ],
   "source": [
    "print(classification_report(L_nsl_testing_indexbinary, predicciones))"
   ]
  },
  {
   "cell_type": "code",
   "execution_count": 13,
   "metadata": {},
   "outputs": [
    {
     "name": "stdout",
     "output_type": "stream",
     "text": [
      "Total de instancias: 22543\n",
      "Total de elementos correctamente clasificados: 17578\n",
      "Porcentaje de exactitud: 0.779754247438 (accuracy score)\n"
     ]
    }
   ],
   "source": [
    "print(\"Total de instancias: %s\" % len(nsl_testing))\n",
    "print(\"Total de elementos correctamente clasificados: %s\" % \n",
    "      accuracy_score(L_nsl_testing_indexbinary,predicciones,normalize=False))\n",
    "print(\"Porcentaje de exactitud: %s (accuracy score)\" %accuracy_score(L_nsl_testing_indexbinary,predicciones))"
   ]
  },
  {
   "cell_type": "code",
   "execution_count": 14,
   "metadata": {},
   "outputs": [
    {
     "name": "stdout",
     "output_type": "stream",
     "text": [
      "Matriz de confusion\n"
     ]
    },
    {
     "data": {
      "text/plain": [
       "array([[9498,  212],\n",
       "       [4753, 8080]])"
      ]
     },
     "execution_count": 14,
     "metadata": {},
     "output_type": "execute_result"
    }
   ],
   "source": [
    "print(\"Matriz de confusion\")\n",
    "matriz_de_confusion=confusion_matrix(L_nsl_testing_indexbinary,predicciones)\n",
    "matriz_de_confusion"
   ]
  },
  {
   "cell_type": "code",
   "execution_count": 15,
   "metadata": {},
   "outputs": [
    {
     "name": "stdout",
     "output_type": "stream",
     "text": [
      "Matriz de Confusión\n",
      "[[9498  212]\n",
      " [4753 8080]]\n"
     ]
    },
    {
     "data": {
      "image/png": "[encoded data removed]",
      "text/plain": [
       "<matplotlib.figure.Figure at 0x1106dc240>"
      ]
     },
     "metadata": {},
     "output_type": "display_data"
    }
   ],
   "source": [
    "np.set_printoptions(precision=2)\n",
    "\n",
    "# Plot non-normalized confusion matrix\n",
    "plt.figure()\n",
    "plot_confusion_matrix(matriz_de_confusion, classes=clases_binarias, title='Matriz de confusión')\n",
    "plt.show()\n"
   ]
  },
  {
   "cell_type": "code",
   "execution_count": 16,
   "metadata": {},
   "outputs": [
    {
     "name": "stdout",
     "output_type": "stream",
     "text": [
      "Matriz de Confusión normalizada\n",
      "[[ 0.98  0.02]\n",
      " [ 0.37  0.63]]\n"
     ]
    },
    {
     "data": {
      "image/png": "[encoded data removed]",
      "text/plain": [
       "<matplotlib.figure.Figure at 0x1107092e8>"
      ]
     },
     "metadata": {},
     "output_type": "display_data"
    }
   ],
   "source": [
    "plt.figure()\n",
    "plot_confusion_matrix(matriz_de_confusion, classes=clases_binarias, title='Matriz de confusión Normalizada',\n",
    "                     normalize=True,)\n",
    "plt.show()"
   ]
  },
  {
   "cell_type": "markdown",
   "metadata": {},
   "source": [
    "# 5 clases"
   ]
  },
  {
   "cell_type": "code",
   "execution_count": 18,
   "metadata": {
    "collapsed": true
   },
   "outputs": [],
   "source": [
    "from sklearn.svm import SVC\n",
    "modelo=SVC(kernel='rbf',cache_size=4000, C=10, gamma=0.1, shrinking=1)"
   ]
  },
  {
   "cell_type": "code",
   "execution_count": 19,
   "metadata": {},
   "outputs": [
    {
     "name": "stdout",
     "output_type": "stream",
     "text": [
      "\n",
      " Tiempo entrenamiento\n",
      "\n",
      "--- 92.96311616897583 seconds ---\n"
     ]
    }
   ],
   "source": [
    "start_time = time.time()\n",
    "modelo.fit(nsl_training,L_nsl_training_indexbygroup.values.ravel())\n",
    "t_entrenamiento_f_o=(time.time() - start_time)\n",
    "print(\"\\n Tiempo entrenamiento\\n\")\n",
    "print(\"--- %s seconds ---\" % t_entrenamiento_f_o)"
   ]
  },
  {
   "cell_type": "code",
   "execution_count": 20,
   "metadata": {},
   "outputs": [
    {
     "name": "stdout",
     "output_type": "stream",
     "text": [
      "\n",
      " Tiempo de evaluacion\n",
      "\n",
      "--- 12.436901092529297 seconds ---\n"
     ]
    }
   ],
   "source": [
    "#Testing the classifier\n",
    "start_time = time.time()\n",
    "predicciones=modelo.predict(nsl_testing)\n",
    "t_evaluacion_b_o=(time.time() - start_time)\n",
    "print(\"\\n Tiempo de evaluacion\\n\")\n",
    "print(\"--- %s seconds ---\" % t_evaluacion_b_o)"
   ]
  },
  {
   "cell_type": "code",
   "execution_count": 21,
   "metadata": {
    "scrolled": false
   },
   "outputs": [
    {
     "name": "stdout",
     "output_type": "stream",
     "text": [
      "             precision    recall  f1-score   support\n",
      "\n",
      "          1       0.95      0.80      0.87      7458\n",
      "          2       0.66      0.98      0.79      9710\n",
      "          3       0.84      0.63      0.72      2421\n",
      "          4       0.79      0.02      0.03      2754\n",
      "          5       0.73      0.10      0.17       200\n",
      "\n",
      "avg / total       0.79      0.76      0.71     22543\n",
      "\n"
     ]
    }
   ],
   "source": [
    "print(classification_report(L_nsl_testing_indexbygroup, predicciones))"
   ]
  },
  {
   "cell_type": "code",
   "execution_count": 22,
   "metadata": {},
   "outputs": [
    {
     "name": "stdout",
     "output_type": "stream",
     "text": [
      "Total de instancias: 22543\n",
      "Total de elementos correctamente clasificados: 17093\n",
      "Porcentaje de exactitud: 0.758239808366 (accuracy score)\n"
     ]
    }
   ],
   "source": [
    "print(\"Total de instancias: %s\" % len(nsl_testing))\n",
    "print(\"Total de elementos correctamente clasificados: %s\" % \n",
    "      accuracy_score(L_nsl_testing_indexbygroup,predicciones,normalize=False))\n",
    "print(\"Porcentaje de exactitud: %s (accuracy score)\" %accuracy_score(L_nsl_testing_indexbygroup,predicciones))"
   ]
  },
  {
   "cell_type": "code",
   "execution_count": 23,
   "metadata": {},
   "outputs": [
    {
     "name": "stdout",
     "output_type": "stream",
     "text": [
      "Matriz de confusion\n"
     ]
    },
    {
     "data": {
      "text/plain": [
       "array([[5993, 1376,   89,    0,    0],\n",
       "       [  56, 9510,  130,   10,    4],\n",
       "       [ 261,  634, 1525,    1,    0],\n",
       "       [   0, 2685,   20,   46,    3],\n",
       "       [   0,  130,   50,    1,   19]])"
      ]
     },
     "execution_count": 23,
     "metadata": {},
     "output_type": "execute_result"
    }
   ],
   "source": [
    "print(\"Matriz de confusion\")\n",
    "matriz_de_confusion=confusion_matrix(L_nsl_testing_indexbygroup,predicciones)\n",
    "matriz_de_confusion"
   ]
  },
  {
   "cell_type": "code",
   "execution_count": 24,
   "metadata": {},
   "outputs": [
    {
     "name": "stdout",
     "output_type": "stream",
     "text": [
      "Matriz de Confusión\n",
      "[[5993 1376   89    0    0]\n",
      " [  56 9510  130   10    4]\n",
      " [ 261  634 1525    1    0]\n",
      " [   0 2685   20   46    3]\n",
      " [   0  130   50    1   19]]\n"
     ]
    },
    {
     "data": {
      "image/png": "[encoded data removed]",
      "text/plain": [
       "<matplotlib.figure.Figure at 0x110895d68>"
      ]
     },
     "metadata": {},
     "output_type": "display_data"
    }
   ],
   "source": [
    "np.set_printoptions(precision=2)\n",
    "\n",
    "# Plot non-normalized confusion matrix\n",
    "plt.figure()\n",
    "plot_confusion_matrix(matriz_de_confusion, classes=clases_5, title='Matriz de confusión')\n",
    "plt.show()\n"
   ]
  },
  {
   "cell_type": "code",
   "execution_count": 25,
   "metadata": {},
   "outputs": [
    {
     "name": "stdout",
     "output_type": "stream",
     "text": [
      "Matriz de Confusión normalizada\n",
      "[[  8.04e-01   1.84e-01   1.19e-02   0.00e+00   0.00e+00]\n",
      " [  5.77e-03   9.79e-01   1.34e-02   1.03e-03   4.12e-04]\n",
      " [  1.08e-01   2.62e-01   6.30e-01   4.13e-04   0.00e+00]\n",
      " [  0.00e+00   9.75e-01   7.26e-03   1.67e-02   1.09e-03]\n",
      " [  0.00e+00   6.50e-01   2.50e-01   5.00e-03   9.50e-02]]\n"
     ]
    },
    {
     "data": {
      "image/png": "[encoded data removed]",
      "text/plain": [
       "<matplotlib.figure.Figure at 0x111217d68>"
      ]
     },
     "metadata": {},
     "output_type": "display_data"
    }
   ],
   "source": [
    "plt.figure()\n",
    "plot_confusion_matrix(matriz_de_confusion, classes=clases_5, title='Matriz de confusión Normalizada',\n",
    "                     normalize=True,)\n",
    "plt.show()"
   ]
  },
  {
   "cell_type": "code",
   "execution_count": 26,
   "metadata": {},
   "outputs": [
    {
     "name": "stdout",
     "output_type": "stream",
     "text": [
      "             precision    recall  f1-score   support\n",
      "\n",
      "          1       0.95      0.80      0.87      7458\n",
      "          2       0.66      0.98      0.79      9710\n",
      "          3       0.84      0.63      0.72      2421\n",
      "          4       0.79      0.02      0.03      2754\n",
      "          5       0.73      0.10      0.17       200\n",
      "\n",
      "avg / total       0.79      0.76      0.71     22543\n",
      "\n"
     ]
    }
   ],
   "source": [
    "print(classification_report(L_nsl_testing_indexbygroup, predicciones))"
   ]
  },
  {
   "cell_type": "code",
   "execution_count": 27,
   "metadata": {},
   "outputs": [
    {
     "name": "stdout",
     "output_type": "stream",
     "text": [
      "Porcentaje de exactitud: 0.758239808366 (accuracy score)\n"
     ]
    }
   ],
   "source": [
    "\n",
    "print(\"Porcentaje de exactitud: %s (accuracy score)\" %accuracy_score(L_nsl_testing_indexbygroup,predicciones))"
   ]
  },
  {
   "cell_type": "code",
   "execution_count": null,
   "metadata": {
    "collapsed": true
   },
   "outputs": [],
   "source": []
  },
  {
   "cell_type": "markdown",
   "metadata": {},
   "source": [
    "# 2) Dataset Min-Max, entrenado con tra y convertido; entrenado con Test y convertido "
   ]
  },
  {
   "cell_type": "markdown",
   "metadata": {},
   "source": [
    "# Reading the Datasets with the labels"
   ]
  },
  {
   "cell_type": "code",
   "execution_count": 6,
   "metadata": {
    "collapsed": true
   },
   "outputs": [],
   "source": [
    "#Reading all the cvs\n",
    "#Nss learning\n",
    "nsl_training=pd.read_csv('./Datasets_for_evaluation/Min_Max_Entrenado_Tra_Y_Test_No_Parametro_comun/MINMAX_TRATEST_NSL_Tra.csv')\n",
    "#Nsl testing\n",
    "nsl_testing=pd.read_csv('./Datasets_for_evaluation/Min_Max_Entrenado_Tra_Y_Test_No_Parametro_comun/MINMAX_TRATEST_NSL_Test.csv')\n"
   ]
  },
  {
   "cell_type": "markdown",
   "metadata": {},
   "source": [
    "# SVM's (SVC in scikitLearn)"
   ]
  },
  {
   "cell_type": "markdown",
   "metadata": {},
   "source": [
    "# 2 clases"
   ]
  },
  {
   "cell_type": "code",
   "execution_count": 7,
   "metadata": {
    "collapsed": true
   },
   "outputs": [],
   "source": [
    "from sklearn.svm import SVC\n",
    "modelo=SVC(kernel='rbf',cache_size=4000, C=10, gamma=0.1, shrinking=1)"
   ]
  },
  {
   "cell_type": "code",
   "execution_count": 8,
   "metadata": {},
   "outputs": [
    {
     "name": "stdout",
     "output_type": "stream",
     "text": [
      "\n",
      " Tiempo entrenamiento\n",
      "\n",
      "--- 152.10855770111084 seconds ---\n"
     ]
    }
   ],
   "source": [
    "start_time = time.time()\n",
    "modelo.fit(nsl_training,L_nsl_training_indexbinary.values.ravel())\n",
    "t_entrenamiento_f_o=(time.time() - start_time)\n",
    "print(\"\\n Tiempo entrenamiento\\n\")\n",
    "print(\"--- %s seconds ---\" % t_entrenamiento_f_o)"
   ]
  },
  {
   "cell_type": "code",
   "execution_count": 9,
   "metadata": {},
   "outputs": [
    {
     "name": "stdout",
     "output_type": "stream",
     "text": [
      "\n",
      " Tiempo de evaluacion\n",
      "\n",
      "--- 12.810021877288818 seconds ---\n"
     ]
    }
   ],
   "source": [
    "#Testing the classifier\n",
    "start_time = time.time()\n",
    "predicciones=modelo.predict(nsl_testing)\n",
    "t_evaluacion_b_o=(time.time() - start_time)\n",
    "print(\"\\n Tiempo de evaluacion\\n\")\n",
    "print(\"--- %s seconds ---\" % t_evaluacion_b_o)"
   ]
  },
  {
   "cell_type": "code",
   "execution_count": 13,
   "metadata": {
    "scrolled": true
   },
   "outputs": [
    {
     "name": "stdout",
     "output_type": "stream",
     "text": [
      "             precision    recall  f1-score   support\n",
      "\n",
      "          0       0.67      0.98      0.79      9710\n",
      "          1       0.97      0.63      0.76     12833\n",
      "\n",
      "avg / total       0.84      0.78      0.78     22543\n",
      "\n"
     ]
    }
   ],
   "source": [
    "print(classification_report(L_nsl_testing_indexbinary, predicciones))"
   ]
  },
  {
   "cell_type": "code",
   "execution_count": 16,
   "metadata": {},
   "outputs": [
    {
     "name": "stdout",
     "output_type": "stream",
     "text": [
      "Total de instancias: 22543\n",
      "Total de elementos correctamente clasificados: 17563\n",
      "Porcentaje de exactitud: 0.779088852415 (accuracy score)\n"
     ]
    }
   ],
   "source": [
    "print(\"Total de instancias: %s\" % len(nsl_testing))\n",
    "print(\"Total de elementos correctamente clasificados: %s\" % \n",
    "      accuracy_score(L_nsl_testing_indexbinary,predicciones,normalize=False))\n",
    "print(\"Porcentaje de exactitud: %s (accuracy score)\" %accuracy_score(L_nsl_testing_indexbinary,predicciones))"
   ]
  },
  {
   "cell_type": "code",
   "execution_count": 17,
   "metadata": {},
   "outputs": [
    {
     "name": "stdout",
     "output_type": "stream",
     "text": [
      "Matriz de confusion\n"
     ]
    },
    {
     "data": {
      "text/plain": [
       "array([[9499,  211],\n",
       "       [4769, 8064]])"
      ]
     },
     "execution_count": 17,
     "metadata": {},
     "output_type": "execute_result"
    }
   ],
   "source": [
    "print(\"Matriz de confusion\")\n",
    "matriz_de_confusion=confusion_matrix(L_nsl_testing_indexbinary,predicciones)\n",
    "matriz_de_confusion"
   ]
  },
  {
   "cell_type": "code",
   "execution_count": 18,
   "metadata": {},
   "outputs": [
    {
     "name": "stdout",
     "output_type": "stream",
     "text": [
      "Matriz de Confusión\n",
      "[[9499  211]\n",
      " [4769 8064]]\n"
     ]
    },
    {
     "data": {
      "image/png": "[encoded data removed]",
      "text/plain": [
       "<matplotlib.figure.Figure at 0x1051c04a8>"
      ]
     },
     "metadata": {},
     "output_type": "display_data"
    }
   ],
   "source": [
    "np.set_printoptions(precision=2)\n",
    "\n",
    "# Plot non-normalized confusion matrix\n",
    "plt.figure()\n",
    "plot_confusion_matrix(matriz_de_confusion, classes=clases_binarias, title='Matriz de confusión')\n",
    "plt.show()\n"
   ]
  },
  {
   "cell_type": "code",
   "execution_count": 19,
   "metadata": {},
   "outputs": [
    {
     "name": "stdout",
     "output_type": "stream",
     "text": [
      "Matriz de Confusión normalizada\n",
      "[[ 0.98  0.02]\n",
      " [ 0.37  0.63]]\n"
     ]
    },
    {
     "data": {
      "image/png": "[encoded data removed]",
      "text/plain": [
       "<matplotlib.figure.Figure at 0x11051ecc0>"
      ]
     },
     "metadata": {},
     "output_type": "display_data"
    }
   ],
   "source": [
    "plt.figure()\n",
    "plot_confusion_matrix(matriz_de_confusion, classes=clases_binarias, title='Matriz de confusión Normalizada',\n",
    "                     normalize=True,)\n",
    "plt.show()"
   ]
  },
  {
   "cell_type": "markdown",
   "metadata": {},
   "source": [
    "# 5 clases"
   ]
  },
  {
   "cell_type": "code",
   "execution_count": 20,
   "metadata": {
    "collapsed": true
   },
   "outputs": [],
   "source": [
    "from sklearn.svm import SVC\n",
    "modelo=SVC(kernel='rbf',cache_size=4000, C=10, gamma=0.1, shrinking=1)"
   ]
  },
  {
   "cell_type": "code",
   "execution_count": 21,
   "metadata": {},
   "outputs": [
    {
     "name": "stdout",
     "output_type": "stream",
     "text": [
      "\n",
      " Tiempo entrenamiento\n",
      "\n",
      "--- 89.80692195892334 seconds ---\n"
     ]
    }
   ],
   "source": [
    "start_time = time.time()\n",
    "modelo.fit(nsl_training,L_nsl_training_indexbygroup.values.ravel())\n",
    "t_entrenamiento_f_o=(time.time() - start_time)\n",
    "print(\"\\n Tiempo entrenamiento\\n\")\n",
    "print(\"--- %s seconds ---\" % t_entrenamiento_f_o)"
   ]
  },
  {
   "cell_type": "code",
   "execution_count": 22,
   "metadata": {},
   "outputs": [
    {
     "name": "stdout",
     "output_type": "stream",
     "text": [
      "\n",
      " Tiempo de evaluacion\n",
      "\n",
      "--- 12.603592872619629 seconds ---\n"
     ]
    }
   ],
   "source": [
    "#Testing the classifier\n",
    "start_time = time.time()\n",
    "predicciones=modelo.predict(nsl_testing)\n",
    "t_evaluacion_b_o=(time.time() - start_time)\n",
    "print(\"\\n Tiempo de evaluacion\\n\")\n",
    "print(\"--- %s seconds ---\" % t_evaluacion_b_o)"
   ]
  },
  {
   "cell_type": "code",
   "execution_count": 23,
   "metadata": {
    "scrolled": false
   },
   "outputs": [
    {
     "name": "stdout",
     "output_type": "stream",
     "text": [
      "             precision    recall  f1-score   support\n",
      "\n",
      "          1       0.95      0.80      0.87      7458\n",
      "          2       0.66      0.98      0.79      9710\n",
      "          3       0.84      0.63      0.72      2421\n",
      "          4       0.82      0.02      0.03      2754\n",
      "          5       0.71      0.09      0.15       200\n",
      "\n",
      "avg / total       0.80      0.76      0.71     22543\n",
      "\n"
     ]
    }
   ],
   "source": [
    "print(classification_report(L_nsl_testing_indexbygroup, predicciones))"
   ]
  },
  {
   "cell_type": "code",
   "execution_count": 24,
   "metadata": {},
   "outputs": [
    {
     "name": "stdout",
     "output_type": "stream",
     "text": [
      "Total de instancias: 22543\n",
      "Total de elementos correctamente clasificados: 17092\n",
      "Porcentaje de exactitud: 0.758195448698 (accuracy score)\n"
     ]
    }
   ],
   "source": [
    "print(\"Total de instancias: %s\" % len(nsl_testing))\n",
    "print(\"Total de elementos correctamente clasificados: %s\" % \n",
    "      accuracy_score(L_nsl_testing_indexbygroup,predicciones,normalize=False))\n",
    "print(\"Porcentaje de exactitud: %s (accuracy score)\" %accuracy_score(L_nsl_testing_indexbygroup,predicciones))"
   ]
  },
  {
   "cell_type": "code",
   "execution_count": 25,
   "metadata": {},
   "outputs": [
    {
     "name": "stdout",
     "output_type": "stream",
     "text": [
      "Matriz de confusion\n"
     ]
    },
    {
     "data": {
      "text/plain": [
       "array([[6002, 1370,   86,    0,    0],\n",
       "       [  56, 9513,  130,    7,    4],\n",
       "       [ 262,  640, 1518,    1,    0],\n",
       "       [   0, 2688,   21,   42,    3],\n",
       "       [   0,  132,   50,    1,   17]])"
      ]
     },
     "execution_count": 25,
     "metadata": {},
     "output_type": "execute_result"
    }
   ],
   "source": [
    "print(\"Matriz de confusion\")\n",
    "matriz_de_confusion=confusion_matrix(L_nsl_testing_indexbygroup,predicciones)\n",
    "matriz_de_confusion"
   ]
  },
  {
   "cell_type": "code",
   "execution_count": 26,
   "metadata": {},
   "outputs": [
    {
     "name": "stdout",
     "output_type": "stream",
     "text": [
      "Matriz de Confusión\n",
      "[[6002 1370   86    0    0]\n",
      " [  56 9513  130    7    4]\n",
      " [ 262  640 1518    1    0]\n",
      " [   0 2688   21   42    3]\n",
      " [   0  132   50    1   17]]\n"
     ]
    },
    {
     "data": {
      "image/png": "[encoded data removed]",
      "text/plain": [
       "<matplotlib.figure.Figure at 0x11074a588>"
      ]
     },
     "metadata": {},
     "output_type": "display_data"
    }
   ],
   "source": [
    "np.set_printoptions(precision=2)\n",
    "\n",
    "# Plot non-normalized confusion matrix\n",
    "plt.figure()\n",
    "plot_confusion_matrix(matriz_de_confusion, classes=clases_5, title='Matriz de confusión')\n",
    "plt.show()\n"
   ]
  },
  {
   "cell_type": "code",
   "execution_count": 27,
   "metadata": {},
   "outputs": [
    {
     "name": "stdout",
     "output_type": "stream",
     "text": [
      "Matriz de Confusión normalizada\n",
      "[[  8.05e-01   1.84e-01   1.15e-02   0.00e+00   0.00e+00]\n",
      " [  5.77e-03   9.80e-01   1.34e-02   7.21e-04   4.12e-04]\n",
      " [  1.08e-01   2.64e-01   6.27e-01   4.13e-04   0.00e+00]\n",
      " [  0.00e+00   9.76e-01   7.63e-03   1.53e-02   1.09e-03]\n",
      " [  0.00e+00   6.60e-01   2.50e-01   5.00e-03   8.50e-02]]\n"
     ]
    },
    {
     "data": {
      "image/png": "[encoded data removed]",
      "text/plain": [
       "<matplotlib.figure.Figure at 0x11088ac88>"
      ]
     },
     "metadata": {},
     "output_type": "display_data"
    }
   ],
   "source": [
    "plt.figure()\n",
    "plot_confusion_matrix(matriz_de_confusion, classes=clases_5, title='Matriz de confusión Normalizada',\n",
    "                     normalize=True,)\n",
    "plt.show()"
   ]
  },
  {
   "cell_type": "code",
   "execution_count": 28,
   "metadata": {},
   "outputs": [
    {
     "name": "stdout",
     "output_type": "stream",
     "text": [
      "             precision    recall  f1-score   support\n",
      "\n",
      "          1       0.95      0.80      0.87      7458\n",
      "          2       0.66      0.98      0.79      9710\n",
      "          3       0.84      0.63      0.72      2421\n",
      "          4       0.82      0.02      0.03      2754\n",
      "          5       0.71      0.09      0.15       200\n",
      "\n",
      "avg / total       0.80      0.76      0.71     22543\n",
      "\n"
     ]
    }
   ],
   "source": [
    "print(classification_report(L_nsl_testing_indexbygroup, predicciones))"
   ]
  },
  {
   "cell_type": "code",
   "execution_count": 29,
   "metadata": {},
   "outputs": [
    {
     "name": "stdout",
     "output_type": "stream",
     "text": [
      "Porcentaje de exactitud: 0.758195448698 (accuracy score)\n"
     ]
    }
   ],
   "source": [
    "\n",
    "print(\"Porcentaje de exactitud: %s (accuracy score)\" %accuracy_score(L_nsl_testing_indexbygroup,predicciones))"
   ]
  },
  {
   "cell_type": "markdown",
   "metadata": {},
   "source": [
    "# 3) Dataset NO normalizado"
   ]
  },
  {
   "cell_type": "markdown",
   "metadata": {},
   "source": [
    "# Reading the Datasets with the labels"
   ]
  },
  {
   "cell_type": "code",
   "execution_count": 9,
   "metadata": {
    "collapsed": true
   },
   "outputs": [],
   "source": [
    "#Reading all the cvs\n",
    "#Nss learning\n",
    "nsl_training=pd.read_csv('./Datasets_for_evaluation/No_normalizado_total_40_dimension/ORIGINAL_40_DIM_NSL_Tra.csv')\n",
    "#Nsl testing\n",
    "nsl_testing=pd.read_csv('./Datasets_for_evaluation/No_normalizado_total_40_dimension/ORIGINAL_40_DIM_NSL_Test.csv')\n"
   ]
  },
  {
   "cell_type": "markdown",
   "metadata": {},
   "source": [
    "# SVM's (SVC in scikitLearn)\n",
    "# se canceló debido al lento entrenamiento. se propone RF"
   ]
  },
  {
   "cell_type": "markdown",
   "metadata": {},
   "source": [
    "# 2 clases"
   ]
  },
  {
   "cell_type": "code",
   "execution_count": 8,
   "metadata": {
    "collapsed": true
   },
   "outputs": [],
   "source": [
    "from sklearn.ensemble import RandomForestClassifier\n",
    "\n",
    "modelo=RandomForestClassifier(criterion='entropy',n_jobs=2, \n",
    "                              bootstrap=True, max_depth=10, max_features='sqrt', min_samples_leaf=2, \n",
    "                              min_samples_split=100, n_estimators=8)\n",
    "\n"
   ]
  },
  {
   "cell_type": "code",
   "execution_count": 9,
   "metadata": {},
   "outputs": [
    {
     "name": "stdout",
     "output_type": "stream",
     "text": [
      "\n",
      " Tiempo entrenamiento\n",
      "\n",
      "--- 0.715203046798706 seconds ---\n"
     ]
    }
   ],
   "source": [
    "start_time = time.time()\n",
    "modelo.fit(nsl_training,L_nsl_training_indexbinary.values.ravel())\n",
    "t_entrenamiento_f_o=(time.time() - start_time)\n",
    "print(\"\\n Tiempo entrenamiento\\n\")\n",
    "print(\"--- %s seconds ---\" % t_entrenamiento_f_o)"
   ]
  },
  {
   "cell_type": "code",
   "execution_count": 10,
   "metadata": {},
   "outputs": [
    {
     "name": "stdout",
     "output_type": "stream",
     "text": [
      "\n",
      " Tiempo de evaluacion\n",
      "\n",
      "--- 0.11915016174316406 seconds ---\n"
     ]
    }
   ],
   "source": [
    "#Testing the classifier\n",
    "start_time = time.time()\n",
    "predicciones=modelo.predict(nsl_testing)\n",
    "t_evaluacion_b_o=(time.time() - start_time)\n",
    "print(\"\\n Tiempo de evaluacion\\n\")\n",
    "print(\"--- %s seconds ---\" % t_evaluacion_b_o)"
   ]
  },
  {
   "cell_type": "code",
   "execution_count": 11,
   "metadata": {
    "scrolled": true
   },
   "outputs": [
    {
     "name": "stdout",
     "output_type": "stream",
     "text": [
      "             precision    recall  f1-score   support\n",
      "\n",
      "          0       0.66      0.97      0.79      9710\n",
      "          1       0.97      0.63      0.76     12833\n",
      "\n",
      "avg / total       0.84      0.78      0.77     22543\n",
      "\n"
     ]
    }
   ],
   "source": [
    "print(classification_report(L_nsl_testing_indexbinary, predicciones))"
   ]
  },
  {
   "cell_type": "code",
   "execution_count": 12,
   "metadata": {},
   "outputs": [
    {
     "name": "stdout",
     "output_type": "stream",
     "text": [
      "Total de instancias: 22543\n",
      "Total de elementos correctamente clasificados: 17488\n",
      "Porcentaje de exactitud: 0.775761877301 (accuracy score)\n"
     ]
    }
   ],
   "source": [
    "print(\"Total de instancias: %s\" % len(nsl_testing))\n",
    "print(\"Total de elementos correctamente clasificados: %s\" % \n",
    "      accuracy_score(L_nsl_testing_indexbinary,predicciones,normalize=False))\n",
    "print(\"Porcentaje de exactitud: %s (accuracy score)\" %accuracy_score(L_nsl_testing_indexbinary,predicciones))"
   ]
  },
  {
   "cell_type": "code",
   "execution_count": 13,
   "metadata": {},
   "outputs": [
    {
     "name": "stdout",
     "output_type": "stream",
     "text": [
      "Matriz de confusion\n"
     ]
    },
    {
     "data": {
      "text/plain": [
       "array([[9451,  259],\n",
       "       [4796, 8037]])"
      ]
     },
     "execution_count": 13,
     "metadata": {},
     "output_type": "execute_result"
    }
   ],
   "source": [
    "print(\"Matriz de confusion\")\n",
    "matriz_de_confusion=confusion_matrix(L_nsl_testing_indexbinary,predicciones)\n",
    "matriz_de_confusion"
   ]
  },
  {
   "cell_type": "code",
   "execution_count": 14,
   "metadata": {},
   "outputs": [
    {
     "name": "stdout",
     "output_type": "stream",
     "text": [
      "Matriz de Confusión\n",
      "[[9451  259]\n",
      " [4796 8037]]\n"
     ]
    },
    {
     "data": {
      "image/png": "[encoded data removed]",
      "text/plain": [
       "<matplotlib.figure.Figure at 0x11cf4f1d0>"
      ]
     },
     "metadata": {},
     "output_type": "display_data"
    }
   ],
   "source": [
    "np.set_printoptions(precision=2)\n",
    "\n",
    "# Plot non-normalized confusion matrix\n",
    "plt.figure()\n",
    "plot_confusion_matrix(matriz_de_confusion, classes=clases_binarias, title='Matriz de confusión')\n",
    "plt.show()\n"
   ]
  },
  {
   "cell_type": "code",
   "execution_count": 15,
   "metadata": {},
   "outputs": [
    {
     "name": "stdout",
     "output_type": "stream",
     "text": [
      "Matriz de Confusión normalizada\n",
      "[[ 0.97  0.03]\n",
      " [ 0.37  0.63]]\n"
     ]
    },
    {
     "data": {
      "image/png": "[encoded data removed]",
      "text/plain": [
       "<matplotlib.figure.Figure at 0x11d420dd8>"
      ]
     },
     "metadata": {},
     "output_type": "display_data"
    }
   ],
   "source": [
    "plt.figure()\n",
    "plot_confusion_matrix(matriz_de_confusion, classes=clases_binarias, title='Matriz de confusión Normalizada',\n",
    "                     normalize=True,)\n",
    "plt.show()"
   ]
  },
  {
   "cell_type": "markdown",
   "metadata": {},
   "source": [
    "# 5 clases"
   ]
  },
  {
   "cell_type": "code",
   "execution_count": 10,
   "metadata": {
    "collapsed": true
   },
   "outputs": [],
   "source": [
    "from sklearn.ensemble import RandomForestClassifier\n",
    "\n",
    "modelo=RandomForestClassifier(criterion='entropy',n_jobs=2, \n",
    "                              bootstrap=True, max_depth=10, max_features='sqrt', min_samples_leaf=2, \n",
    "                              min_samples_split=100, n_estimators=8)\n",
    "\n"
   ]
  },
  {
   "cell_type": "code",
   "execution_count": 11,
   "metadata": {},
   "outputs": [
    {
     "name": "stdout",
     "output_type": "stream",
     "text": [
      "\n",
      " Tiempo entrenamiento\n",
      "\n",
      "--- 0.7195661067962646 seconds ---\n"
     ]
    }
   ],
   "source": [
    "start_time = time.time()\n",
    "modelo.fit(nsl_training,L_nsl_training_indexbygroup.values.ravel())\n",
    "t_entrenamiento_f_o=(time.time() - start_time)\n",
    "print(\"\\n Tiempo entrenamiento\\n\")\n",
    "print(\"--- %s seconds ---\" % t_entrenamiento_f_o)"
   ]
  },
  {
   "cell_type": "code",
   "execution_count": 12,
   "metadata": {},
   "outputs": [
    {
     "name": "stdout",
     "output_type": "stream",
     "text": [
      "\n",
      " Tiempo de evaluacion\n",
      "\n",
      "--- 0.11716794967651367 seconds ---\n"
     ]
    }
   ],
   "source": [
    "#Testing the classifier\n",
    "start_time = time.time()\n",
    "predicciones=modelo.predict(nsl_testing)\n",
    "t_evaluacion_b_o=(time.time() - start_time)\n",
    "print(\"\\n Tiempo de evaluacion\\n\")\n",
    "print(\"--- %s seconds ---\" % t_evaluacion_b_o)"
   ]
  },
  {
   "cell_type": "code",
   "execution_count": 13,
   "metadata": {
    "scrolled": false
   },
   "outputs": [
    {
     "name": "stdout",
     "output_type": "stream",
     "text": [
      "             precision    recall  f1-score   support\n",
      "\n",
      "          1       0.94      0.82      0.88      7458\n",
      "          2       0.68      0.97      0.80      9710\n",
      "          3       0.86      0.71      0.78      2421\n",
      "          4       0.98      0.04      0.08      2754\n",
      "          5       0.00      0.00      0.00       200\n",
      "\n",
      "avg / total       0.82      0.77      0.73     22543\n",
      "\n"
     ]
    },
    {
     "name": "stderr",
     "output_type": "stream",
     "text": [
      "/Users/Azeem/anaconda/lib/python3.6/site-packages/sklearn/metrics/classification.py:1113: UndefinedMetricWarning: Precision and F-score are ill-defined and being set to 0.0 in labels with no predicted samples.\n",
      "  'precision', 'predicted', average, warn_for)\n"
     ]
    }
   ],
   "source": [
    "print(classification_report(L_nsl_testing_indexbygroup, predicciones))"
   ]
  },
  {
   "cell_type": "code",
   "execution_count": 14,
   "metadata": {},
   "outputs": [
    {
     "name": "stdout",
     "output_type": "stream",
     "text": [
      "Total de instancias: 22543\n",
      "Total de elementos correctamente clasificados: 17381\n",
      "Porcentaje de exactitud: 0.771015392805 (accuracy score)\n"
     ]
    }
   ],
   "source": [
    "print(\"Total de instancias: %s\" % len(nsl_testing))\n",
    "print(\"Total de elementos correctamente clasificados: %s\" % \n",
    "      accuracy_score(L_nsl_testing_indexbygroup,predicciones,normalize=False))\n",
    "print(\"Porcentaje de exactitud: %s (accuracy score)\" %accuracy_score(L_nsl_testing_indexbygroup,predicciones))"
   ]
  },
  {
   "cell_type": "code",
   "execution_count": 15,
   "metadata": {},
   "outputs": [
    {
     "name": "stdout",
     "output_type": "stream",
     "text": [
      "Matriz de confusion\n"
     ]
    },
    {
     "data": {
      "text/plain": [
       "array([[6101, 1302,   55,    0,    0],\n",
       "       [  67, 9449,  192,    2,    0],\n",
       "       [ 294,  414, 1713,    0,    0],\n",
       "       [   3, 2615,   18,  118,    0],\n",
       "       [   0,  184,   16,    0,    0]])"
      ]
     },
     "execution_count": 15,
     "metadata": {},
     "output_type": "execute_result"
    }
   ],
   "source": [
    "print(\"Matriz de confusion\")\n",
    "matriz_de_confusion=confusion_matrix(L_nsl_testing_indexbygroup,predicciones)\n",
    "matriz_de_confusion"
   ]
  },
  {
   "cell_type": "code",
   "execution_count": 16,
   "metadata": {},
   "outputs": [
    {
     "name": "stdout",
     "output_type": "stream",
     "text": [
      "Matriz de Confusión\n",
      "[[6101 1302   55    0    0]\n",
      " [  67 9449  192    2    0]\n",
      " [ 294  414 1713    0    0]\n",
      " [   3 2615   18  118    0]\n",
      " [   0  184   16    0    0]]\n"
     ]
    },
    {
     "data": {
      "image/png": "[encoded data removed]",
      "text/plain": [
       "<matplotlib.figure.Figure at 0x11114cc18>"
      ]
     },
     "metadata": {},
     "output_type": "display_data"
    }
   ],
   "source": [
    "np.set_printoptions(precision=2)\n",
    "\n",
    "# Plot non-normalized confusion matrix\n",
    "plt.figure()\n",
    "plot_confusion_matrix(matriz_de_confusion, classes=clases_5, title='Matriz de confusión')\n",
    "plt.show()\n"
   ]
  },
  {
   "cell_type": "code",
   "execution_count": 17,
   "metadata": {},
   "outputs": [
    {
     "name": "stdout",
     "output_type": "stream",
     "text": [
      "Matriz de Confusión normalizada\n",
      "[[  8.18e-01   1.75e-01   7.37e-03   0.00e+00   0.00e+00]\n",
      " [  6.90e-03   9.73e-01   1.98e-02   2.06e-04   0.00e+00]\n",
      " [  1.21e-01   1.71e-01   7.08e-01   0.00e+00   0.00e+00]\n",
      " [  1.09e-03   9.50e-01   6.54e-03   4.28e-02   0.00e+00]\n",
      " [  0.00e+00   9.20e-01   8.00e-02   0.00e+00   0.00e+00]]\n"
     ]
    },
    {
     "data": {
      "image/png": "[encoded data removed]",
      "text/plain": [
       "<matplotlib.figure.Figure at 0x1111c5a58>"
      ]
     },
     "metadata": {},
     "output_type": "display_data"
    }
   ],
   "source": [
    "plt.figure()\n",
    "plot_confusion_matrix(matriz_de_confusion, classes=clases_5, title='Matriz de confusión Normalizada',\n",
    "                     normalize=True,)\n",
    "plt.show()"
   ]
  },
  {
   "cell_type": "code",
   "execution_count": 18,
   "metadata": {},
   "outputs": [
    {
     "name": "stdout",
     "output_type": "stream",
     "text": [
      "             precision    recall  f1-score   support\n",
      "\n",
      "          1       0.94      0.82      0.88      7458\n",
      "          2       0.68      0.97      0.80      9710\n",
      "          3       0.86      0.71      0.78      2421\n",
      "          4       0.98      0.04      0.08      2754\n",
      "          5       0.00      0.00      0.00       200\n",
      "\n",
      "avg / total       0.82      0.77      0.73     22543\n",
      "\n"
     ]
    },
    {
     "name": "stderr",
     "output_type": "stream",
     "text": [
      "/Users/Azeem/anaconda/lib/python3.6/site-packages/sklearn/metrics/classification.py:1113: UndefinedMetricWarning: Precision and F-score are ill-defined and being set to 0.0 in labels with no predicted samples.\n",
      "  'precision', 'predicted', average, warn_for)\n"
     ]
    }
   ],
   "source": [
    "print(classification_report(L_nsl_testing_indexbygroup, predicciones))"
   ]
  },
  {
   "cell_type": "code",
   "execution_count": 19,
   "metadata": {},
   "outputs": [
    {
     "name": "stdout",
     "output_type": "stream",
     "text": [
      "Porcentaje de exactitud: 0.771015392805 (accuracy score)\n"
     ]
    }
   ],
   "source": [
    "\n",
    "print(\"Porcentaje de exactitud: %s (accuracy score)\" %accuracy_score(L_nsl_testing_indexbygroup,predicciones))"
   ]
  },
  {
   "cell_type": "code",
   "execution_count": null,
   "metadata": {
    "collapsed": true
   },
   "outputs": [],
   "source": []
  },
  {
   "cell_type": "code",
   "execution_count": null,
   "metadata": {
    "collapsed": true
   },
   "outputs": [],
   "source": []
  }
 ],
 "metadata": {
  "kernelspec": {
   "display_name": "Python 3",
   "language": "python",
   "name": "python3"
  },
  "language_info": {
   "codemirror_mode": {
    "name": "ipython",
    "version": 3
   },
   "file_extension": ".py",
   "mimetype": "text/x-python",
   "name": "python",
   "nbconvert_exporter": "python",
   "pygments_lexer": "ipython3",
   "version": "3.6.1"
  }
 },
 "nbformat": 4,
 "nbformat_minor": 2
}
