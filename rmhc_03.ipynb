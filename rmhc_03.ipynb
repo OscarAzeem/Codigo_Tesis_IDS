{
 "cells": [
  {
   "cell_type": "markdown",
   "metadata": {},
   "source": [
    "# Librerías"
   ]
  },
  {
   "cell_type": "code",
   "execution_count": 3,
   "metadata": {
    "collapsed": true
   },
   "outputs": [],
   "source": [
    "import itertools\n",
    "import time\n",
    "import numpy as np\n",
    "import pandas as pd\n",
    "import matplotlib.pyplot as plt\n",
    "from matplotlib import offsetbox\n",
    "from sklearn import (manifold, datasets, decomposition, ensemble,\n",
    "                     discriminant_analysis, random_projection)#Prueba evaluación y entrenamiento un solo individuo. \n",
    "#Vectores completos\n",
    "from sklearn.metrics import classification_report,confusion_matrix,accuracy_score\n",
    "import random"
   ]
  },
  {
   "cell_type": "markdown",
   "metadata": {},
   "source": [
    "# Databases"
   ]
  },
  {
   "cell_type": "code",
   "execution_count": 4,
   "metadata": {
    "collapsed": true
   },
   "outputs": [],
   "source": [
    "#Reading all the cvs\n",
    "#Nss learning\n",
    "nsl_training=pd.read_csv('./Final_Datasets/MINMAX_FD_NSL_Tra.csv')\n",
    "#Nsl testing\n",
    "nsl_testing=pd.read_csv('./Final_Datasets/MINMAX_FD_NSL_Test.csv')"
   ]
  },
  {
   "cell_type": "markdown",
   "metadata": {},
   "source": [
    "# Labels"
   ]
  },
  {
   "cell_type": "code",
   "execution_count": 5,
   "metadata": {
    "collapsed": true
   },
   "outputs": [],
   "source": [
    "#NSL TESTING LABELS\n",
    "\n",
    "#Index binary (2 clases)\n",
    "L_nsl_testing_indexbinary=pd.read_csv(\"./Final_Datasets/L_nsl_testing_indexbinary.csv\")\n",
    "#Index by Group (5 clases)\n",
    "L_nsl_testing_indexbygroup=pd.read_csv(\"./Final_Datasets/L_nsl_testing_indexbygroup.csv\")\n",
    "#Index tipe of attack (42? clases)\n",
    "L_nsl_testing_indextipeofattack=pd.read_csv(\"./Final_Datasets/L_nsl_testing_indextipeofattack.csv\")\n",
    "\n",
    "\n",
    "#nsl TRAINING LABELS\n",
    "# 2 clases\n",
    "L_nsl_training_indexbinary=pd.read_csv(\"./Final_Datasets/L_nsl_training_indexbinary.csv\")\n",
    "#Index by Group (5 clases)\n",
    "L_nsl_training_indexbygroup=pd.read_csv(\"./Final_Datasets/L_nsl_training_indexbygroup.csv\")\n",
    "#Index tipe of attack (42? clases)\n",
    "L_nsl_training_indextipeofattack=pd.read_csv(\"./Final_Datasets/L_nsl_training_indextipeofattack.csv\")"
   ]
  },
  {
   "cell_type": "markdown",
   "metadata": {},
   "source": [
    "# Conversión de Pandas->Numpy (array) not Matrix"
   ]
  },
  {
   "cell_type": "code",
   "execution_count": 6,
   "metadata": {
    "collapsed": true
   },
   "outputs": [],
   "source": [
    "nsl_training=nsl_training.as_matrix(columns=None)\n",
    "nsl_testing=nsl_testing.as_matrix(columns=None)"
   ]
  },
  {
   "cell_type": "markdown",
   "metadata": {},
   "source": [
    "# Lectura del modelo"
   ]
  },
  {
   "cell_type": "code",
   "execution_count": 7,
   "metadata": {
    "collapsed": true
   },
   "outputs": [],
   "source": [
    "from sklearn.ensemble import RandomForestClassifier\n",
    "\n",
    "modelo=RandomForestClassifier(criterion='entropy',n_jobs=2, \n",
    "                              bootstrap=True, max_depth=10, max_features='sqrt', min_samples_leaf=2, \n",
    "                              min_samples_split=100, n_estimators=8)\n"
   ]
  },
  {
   "cell_type": "markdown",
   "metadata": {},
   "source": [
    "# Creacion de las funciones a utilizar"
   ]
  },
  {
   "cell_type": "code",
   "execution_count": 331,
   "metadata": {
    "scrolled": false
   },
   "outputs": [
    {
     "name": "stdout",
     "output_type": "stream",
     "text": [
      "Dimensiones activas: \n",
      "(array([ 1,  2,  4,  7,  9, 10, 14, 17, 18, 19, 21, 22, 23, 25, 26, 28, 29,\n",
      "       32, 34, 35, 36]),)\n",
      "Total de dimensiones activas: 21\n",
      "Porcentaje de exactitud: 0.764538881249 (accuracy score)\n"
     ]
    }
   ],
   "source": [
    "#inicio RMHC\n",
    "#M, comienza con la máxima cantidad de dimensiones posibles\n",
    "M=n_nsl_training.shape[1]\n",
    "\n",
    "\n",
    "#declaración de la primea solución del espacio de búsqueda. \n",
    "#de forma completamente aleatoria\n",
    "#La primer solución se considera la mejor en la primer iteración\n",
    "dimensiones_mejor=np.random.randint(2, size=M)\n",
    "\n",
    "#se filtra la base de datos con las dimensiones de dimensiones mejor\n",
    "#SE hacen cero las dimensiones a omitir\n",
    "#dimensiones_mejor contiene la mejor iteración, entonces es la dimensión activa\n",
    "training=n_nsl_training*dimensiones_mejor\n",
    "testing=n_nsl_testing*dimensiones_mejor\n",
    "\n",
    "#Se buscan esos ceros en el indice (dimensiones suspendidas)\n",
    "zeros=np.where(dimensiones_mejor == 0)\n",
    "\n",
    "#se obtienen los indices del los unos (dimensiones activas)\n",
    "unos=np.where(dimensiones_mejor==1)\n",
    "\n",
    "\n",
    "#se eliminan esas dimensiones\n",
    "training=np.delete(training,zeros,axis=1)\n",
    "testing=np.delete(testing,zeros,axis=1)\n",
    "\n",
    "\n",
    "#se declara un vector que contiene todas las dimensiones en cada iteración\n",
    "dimensiones_iteracion=[]\n",
    "dimensiones_iteracion.append(dimensiones_mejor)\n",
    "\n",
    "\n",
    "\n",
    "#se entrena el modelo\n",
    "modelo.fit(training,L_nsl_training_indexbinary.values.ravel())\n",
    "#se obtienen las predicciones\n",
    "predicciones=modelo.predict(testing)\n",
    "\n",
    "#se obtiene el accuracy score\n",
    "score_mejor=accuracy_score(L_nsl_testing_indexbinary,predicciones)\n",
    "#se declara un vector que contiene todos los score de todas las iteraciones\n",
    "\n",
    "score_iteracion=[]\n",
    "score_iteracion.append(score_mejor)\n",
    "\n",
    "\n",
    "print(\"Dimensiones activas: \")\n",
    "print(unos)\n",
    "print(\"Total de dimensiones activas: %s\" % np.array(unos).shape[1])\n",
    "print(\"Porcentaje de exactitud: %s (accuracy score)\" %accuracy_score(L_nsl_testing_indexbinary,predicciones))"
   ]
  },
  {
   "cell_type": "code",
   "execution_count": 22,
   "metadata": {
    "collapsed": true
   },
   "outputs": [],
   "source": [
    "def muta_vector_binario(dimensiones_temporales,M=20):\n",
    "    \"\"\"Dimensiones temporales: vector binario que contiene las dimensiones actuales de la ultima\n",
    "        iteración probada.\n",
    "        M=cantidad total de dimensiones a mutar. Si no se otorga un número\n",
    "        M es igual a la máxima cantidad de dimensiones en NSL-KDD\"\"\"\n",
    "    \n",
    "    vector_mutado=np.array(dimensiones_temporales)\n",
    "    #Genera números aleatorios entre 0 y M\n",
    "    #Dichos numeros aleatorios seran los indices a mutar entre de (vector_mutado)\n",
    "    indice=sorted(random.sample(list(range(0,vector_mutado.shape[0])), M))\n",
    "   \n",
    "    #Aplica la operación negación binaria a los valores del indice\n",
    "    for numero_indice in indice:\n",
    "        if vector_mutado[numero_indice]==0:\n",
    "            vector_mutado[numero_indice]=1\n",
    "        else:\n",
    "            vector_mutado[numero_indice]=0\n",
    "    #regresa el vector mutado\n",
    "    print(\"indice de vectores a mutar\")\n",
    "    print(indice)\n",
    "    print(\"\\n\")\n",
    "    print(\"Solución actual:\")\n",
    "    print(dimensiones_temporales)\n",
    "    print(\"Solución mutada:\")\n",
    "    print(vector_mutado)\n",
    "    print(\"\\n\")\n",
    "    return vector_mutado\n",
    "    "
   ]
  },
  {
   "cell_type": "code",
   "execution_count": 9,
   "metadata": {
    "collapsed": true
   },
   "outputs": [],
   "source": [
    "def obtencion_parametros_binarios(vector_actual, M=40):\n",
    "    \"\"\"M=máximo número de dimensiones a mutar\n",
    "    vector_actual= vector binario, relacionado con la ultima iteracion\n",
    "    puede o no ser el mejor.\n",
    "    Regresa los zeros y unos actuales,\n",
    "    el ultimo vector binario,\n",
    "    los dataset filtrados\"\"\"\n",
    "\n",
    "    #Agregar la función para calcular M\n",
    "\n",
    "    \n",
    "    #Muta el ultimo vector\n",
    "    dimensiones_temporales=muta_vector_binario(vector_actual,M)\n",
    "\n",
    "    #se filtra la base de datos con las dimensiones de dimensiones mejor\n",
    "    #SE hacen cero las dimensiones a omitir\n",
    "    #dimensiones_temporales contiene la mejor iteración, entonces es la dimensión activa\n",
    "    training=nsl_training*dimensiones_temporales\n",
    "    testing=nsl_testing*dimensiones_temporales\n",
    "\n",
    "    #Se buscan esos ceros en el indice (dimensiones suspendidas)\n",
    "    zeros=np.where(dimensiones_temporales == 0)\n",
    "\n",
    "    #se obtienen los indices del los unos (dimensiones activas)\n",
    "    unos=np.where(dimensiones_temporales==1)\n",
    "\n",
    "    #se eliminan esas dimensiones\n",
    "    training=np.delete(training,zeros,axis=1)\n",
    "    testing=np.delete(testing,zeros,axis=1)\n",
    "\n",
    "    \n",
    "    return [dimensiones_temporales,zeros,unos,training,testing]"
   ]
  },
  {
   "cell_type": "markdown",
   "metadata": {},
   "source": [
    "# Inicio del algoritmo RMHC"
   ]
  },
  {
   "cell_type": "code",
   "execution_count": 10,
   "metadata": {
    "collapsed": true
   },
   "outputs": [],
   "source": [
    "from sklearn.ensemble import RandomForestClassifier\n",
    "\n",
    "modelo=RandomForestClassifier(criterion='entropy',n_jobs=2, \n",
    "                              bootstrap=True, max_depth=10, max_features='sqrt', min_samples_leaf=2, \n",
    "                              min_samples_split=100, n_estimators=8)\n"
   ]
  },
  {
   "cell_type": "code",
   "execution_count": 25,
   "metadata": {
    "scrolled": false
   },
   "outputs": [
    {
     "name": "stdout",
     "output_type": "stream",
     "text": [
      "mejor solucion\n",
      "[1 0 1 1 1 1 0 1 0 0 1 0 1 1 1 0 1 1 1 0 0 1 0 0 0 0 0 1 1 1 1 0 0 0 0 0 1\n",
      " 0 0 0]\n",
      "\n",
      "\n",
      "\n",
      " Iteracion: 1 \n",
      "\n",
      "indice de vectores a mutar\n",
      "[0, 1, 2, 4, 6, 8, 11, 12, 15, 19, 21, 24, 25, 26, 32, 33, 35, 36, 38, 39]\n",
      "\n",
      "\n",
      "Solución actual:\n",
      "[1 0 1 1 1 1 0 1 0 0 1 0 1 1 1 0 1 1 1 0 0 1 0 0 0 0 0 1 1 1 1 0 0 0 0 0 1\n",
      " 0 0 0]\n",
      "Solución mutada:\n",
      "[0 1 0 1 0 1 1 1 1 0 1 1 0 1 1 1 1 1 1 1 0 0 0 0 1 1 1 1 1 1 1 0 1 1 0 1 0\n",
      " 0 1 1]\n",
      "\n",
      "\n",
      "Dimensiones activas: \n",
      "(array([ 1,  3,  5,  6,  7,  8, 10, 11, 13, 14, 15, 16, 17, 18, 19, 24, 25,\n",
      "       26, 27, 28, 29, 30, 32, 33, 35, 38, 39]),)\n",
      "Total de dimensiones activas: 27\n",
      "Porcentaje de exactitud: 0.770660515459 (accuracy score)\n",
      "\n",
      " Iteracion: 2 \n",
      "\n",
      "indice de vectores a mutar\n",
      "[1, 2, 3, 4, 10, 11, 12, 13, 14, 15, 16, 21, 22, 23, 28, 30, 33, 34, 36, 39]\n",
      "\n",
      "\n",
      "Solución actual:\n",
      "[0 1 0 1 0 1 1 1 1 0 1 1 0 1 1 1 1 1 1 1 0 0 0 0 1 1 1 1 1 1 1 0 1 1 0 1 0\n",
      " 0 1 1]\n",
      "Solución mutada:\n",
      "[0 0 1 0 1 1 1 1 1 0 0 0 1 0 0 0 0 1 1 1 0 1 1 1 1 1 1 1 0 1 0 0 1 0 1 1 1\n",
      " 0 1 0]\n",
      "\n",
      "\n",
      "Dimensiones activas: \n",
      "(array([ 2,  4,  5,  6,  7,  8, 12, 17, 18, 19, 21, 22, 23, 24, 25, 26, 27,\n",
      "       29, 32, 34, 35, 36, 38]),)\n",
      "Total de dimensiones activas: 23\n",
      "Porcentaje de exactitud: 0.804373863284 (accuracy score)\n",
      "\n",
      " Iteracion: 3 \n",
      "\n",
      "indice de vectores a mutar\n",
      "[1, 3, 4, 9, 10, 15, 18, 19, 20, 21, 23, 24, 25, 26, 28, 32, 35, 36, 37, 38]\n",
      "\n",
      "\n",
      "Solución actual:\n",
      "[0 0 1 0 1 1 1 1 1 0 0 0 1 0 0 0 0 1 1 1 0 1 1 1 1 1 1 1 0 1 0 0 1 0 1 1 1\n",
      " 0 1 0]\n",
      "Solución mutada:\n",
      "[0 1 1 1 0 1 1 1 1 1 1 0 1 0 0 1 0 1 0 0 1 0 1 0 0 0 0 1 1 1 0 0 0 0 1 0 0\n",
      " 1 0 0]\n",
      "\n",
      "\n",
      "Dimensiones activas: \n",
      "(array([ 1,  2,  3,  5,  6,  7,  8,  9, 10, 12, 15, 17, 20, 22, 27, 28, 29,\n",
      "       34, 37]),)\n",
      "Total de dimensiones activas: 19\n",
      "Porcentaje de exactitud: 0.767377900013 (accuracy score)\n",
      "\n",
      " Iteracion: 4 \n",
      "\n",
      "indice de vectores a mutar\n",
      "[0, 1, 2, 3, 5, 11, 14, 15, 16, 21, 24, 25, 29, 31, 33, 34, 35, 36, 38, 39]\n",
      "\n",
      "\n",
      "Solución actual:\n",
      "[0 1 1 1 0 1 1 1 1 1 1 0 1 0 0 1 0 1 0 0 1 0 1 0 0 0 0 1 1 1 0 0 0 0 1 0 0\n",
      " 1 0 0]\n",
      "Solución mutada:\n",
      "[1 0 0 0 0 0 1 1 1 1 1 1 1 0 1 0 1 1 0 0 1 1 1 0 1 1 0 1 1 0 0 1 0 1 0 1 1\n",
      " 1 1 1]\n",
      "\n",
      "\n",
      "Dimensiones activas: \n",
      "(array([ 0,  6,  7,  8,  9, 10, 11, 12, 14, 16, 17, 20, 21, 22, 24, 25, 27,\n",
      "       28, 31, 33, 35, 36, 37, 38, 39]),)\n",
      "Total de dimensiones activas: 25\n",
      "Porcentaje de exactitud: 0.72213103846 (accuracy score)\n",
      "\n",
      " Iteracion: 5 \n",
      "\n",
      "indice de vectores a mutar\n",
      "[1, 3, 4, 10, 13, 17, 18, 19, 20, 22, 23, 24, 26, 28, 31, 33, 34, 36, 37, 39]\n",
      "\n",
      "\n",
      "Solución actual:\n",
      "[1 0 0 0 0 0 1 1 1 1 1 1 1 0 1 0 1 1 0 0 1 1 1 0 1 1 0 1 1 0 0 1 0 1 0 1 1\n",
      " 1 1 1]\n",
      "Solución mutada:\n",
      "[1 1 0 1 1 0 1 1 1 1 0 1 1 1 1 0 1 0 1 1 0 1 0 1 0 1 1 1 0 0 0 0 0 0 1 1 0\n",
      " 0 1 0]\n",
      "\n",
      "\n",
      "Dimensiones activas: \n",
      "(array([ 0,  1,  3,  4,  6,  7,  8,  9, 11, 12, 13, 14, 16, 18, 19, 21, 23,\n",
      "       25, 26, 27, 34, 35, 38]),)\n",
      "Total de dimensiones activas: 23\n",
      "Porcentaje de exactitud: 0.772567981192 (accuracy score)\n",
      "\n",
      " Iteracion: 6 \n",
      "\n",
      "indice de vectores a mutar\n",
      "[1, 4, 6, 7, 8, 9, 12, 13, 17, 18, 19, 20, 22, 24, 25, 26, 27, 28, 33, 34]\n",
      "\n",
      "\n",
      "Solución actual:\n",
      "[1 1 0 1 1 0 1 1 1 1 0 1 1 1 1 0 1 0 1 1 0 1 0 1 0 1 1 1 0 0 0 0 0 0 1 1 0\n",
      " 0 1 0]\n",
      "Solución mutada:\n",
      "[1 0 0 1 0 0 0 0 0 0 0 1 0 0 1 0 1 1 0 0 1 1 1 1 1 0 0 0 1 0 0 0 0 1 0 1 0\n",
      " 0 1 0]\n",
      "\n",
      "\n",
      "Dimensiones activas: \n",
      "(array([ 0,  3, 11, 14, 16, 17, 20, 21, 22, 23, 24, 28, 33, 35, 38]),)\n",
      "Total de dimensiones activas: 15\n",
      "Porcentaje de exactitud: 0.718005589318 (accuracy score)\n",
      "\n",
      " Iteracion: 7 \n",
      "\n",
      "indice de vectores a mutar\n",
      "[0, 3, 12, 13, 15, 16, 17, 18, 22, 23, 24, 25, 28, 30, 31, 33, 35, 36, 37, 39]\n",
      "\n",
      "\n",
      "Solución actual:\n",
      "[1 0 0 1 0 0 0 0 0 0 0 1 0 0 1 0 1 1 0 0 1 1 1 1 1 0 0 0 1 0 0 0 0 1 0 1 0\n",
      " 0 1 0]\n",
      "Solución mutada:\n",
      "[0 0 0 0 0 0 0 0 0 0 0 1 1 1 1 1 0 0 1 0 1 1 0 0 0 1 0 0 0 0 1 1 0 0 0 0 1\n",
      " 1 1 1]\n",
      "\n",
      "\n",
      "Dimensiones activas: \n",
      "(array([11, 12, 13, 14, 15, 18, 20, 21, 25, 30, 31, 36, 37, 38, 39]),)\n",
      "Total de dimensiones activas: 15\n",
      "Porcentaje de exactitud: 0.736769728962 (accuracy score)\n",
      "\n",
      " Iteracion: 8 \n",
      "\n",
      "indice de vectores a mutar\n",
      "[2, 3, 5, 7, 8, 12, 18, 19, 20, 22, 26, 28, 29, 30, 32, 33, 34, 36, 37, 39]\n",
      "\n",
      "\n",
      "Solución actual:\n",
      "[0 0 0 0 0 0 0 0 0 0 0 1 1 1 1 1 0 0 1 0 1 1 0 0 0 1 0 0 0 0 1 1 0 0 0 0 1\n",
      " 1 1 1]\n",
      "Solución mutada:\n",
      "[0 0 1 1 0 1 0 1 1 0 0 1 0 1 1 1 0 0 0 1 0 1 1 0 0 1 1 0 1 1 0 1 1 1 1 0 0\n",
      " 0 1 0]\n",
      "\n",
      "\n",
      "Dimensiones activas: \n",
      "(array([ 2,  3,  5,  7,  8, 11, 13, 14, 15, 19, 21, 22, 25, 26, 28, 29, 31,\n",
      "       32, 33, 34, 38]),)\n",
      "Total de dimensiones activas: 21\n",
      "Porcentaje de exactitud: 0.736414851617 (accuracy score)\n",
      "\n",
      " Iteracion: 9 \n",
      "\n",
      "indice de vectores a mutar\n",
      "[1, 2, 5, 7, 10, 12, 13, 14, 15, 16, 17, 18, 20, 21, 22, 25, 26, 27, 36, 39]\n",
      "\n",
      "\n",
      "Solución actual:\n",
      "[0 0 1 1 0 1 0 1 1 0 0 1 0 1 1 1 0 0 0 1 0 1 1 0 0 1 1 0 1 1 0 1 1 1 1 0 0\n",
      " 0 1 0]\n",
      "Solución mutada:\n",
      "[0 1 0 1 0 0 0 0 1 0 1 1 1 0 0 0 1 1 1 1 1 0 0 0 0 0 0 1 1 1 0 1 1 1 1 0 1\n",
      " 0 1 1]\n",
      "\n",
      "\n",
      "Dimensiones activas: \n",
      "(array([ 1,  3,  8, 10, 11, 12, 16, 17, 18, 19, 20, 27, 28, 29, 31, 32, 33,\n",
      "       34, 36, 38, 39]),)\n",
      "Total de dimensiones activas: 21\n",
      "Porcentaje de exactitud: 0.760147274098 (accuracy score)\n",
      "\n",
      " Iteracion: 10 \n",
      "\n",
      "indice de vectores a mutar\n",
      "[1, 3, 4, 5, 7, 8, 10, 13, 15, 18, 20, 24, 28, 30, 31, 32, 33, 34, 38, 39]\n",
      "\n",
      "\n",
      "Solución actual:\n",
      "[0 1 0 1 0 0 0 0 1 0 1 1 1 0 0 0 1 1 1 1 1 0 0 0 0 0 0 1 1 1 0 1 1 1 1 0 1\n",
      " 0 1 1]\n",
      "Solución mutada:\n",
      "[0 0 0 0 1 1 0 1 0 0 0 1 1 1 0 1 1 1 0 1 0 0 0 0 1 0 0 1 0 1 1 0 0 0 0 0 1\n",
      " 0 0 0]\n",
      "\n",
      "\n",
      "Dimensiones activas: \n",
      "(array([ 4,  5,  7, 11, 12, 13, 15, 16, 17, 19, 24, 27, 29, 30, 36]),)\n",
      "Total de dimensiones activas: 15\n",
      "Porcentaje de exactitud: 0.742447766491 (accuracy score)\n"
     ]
    }
   ],
   "source": [
    "i=0\n",
    "M=40\n",
    "iteraciones_maximas=10\n",
    "mejor_solucion=np.random.randint(2, size=M)\n",
    "#almacena los score de todas las iteraciones\n",
    "registro_score_iteracion=[]\n",
    "#almacena el vector binario de todas las iteraciones\n",
    "registro_dimensiones_iteracion=[]\n",
    "#almacena unicamente el score de los vectores binarios aceptados\n",
    "registro_score_valores_aceptados=[]\n",
    "#almacena el vector binario de los valores aceptados\n",
    "registro_dimensiones_valores_aceptados=[]\n",
    "#almacena el indice de las dimensiones activas de los valores aceptados\n",
    "registro_unos_valores_aceptados=[]\n",
    "print(\"solucion_inicial\")\n",
    "print(mejor_solucion)\n",
    "print(\"\\n\")\n",
    "\n",
    "dimensiones_temporales=np.array(mejor_solucion)\n",
    "\n",
    "while (i<iteraciones_maximas):\n",
    "    print(\"\\n Iteracion: %s \\n\" %(i+1))\n",
    "    [dimensiones_temporales,zeros,unos,training,testing]=obtencion_parametros_binarios(dimensiones_temporales,M=20)    \n",
    "    #Se evaluan los resultados\n",
    "    #se entrena el modelo\n",
    "    modelo.fit(training,L_nsl_training_indexbinary.values.ravel())\n",
    "    #se obtienen las predicciones\n",
    "    predicciones=modelo.predict(testing)\n",
    "\n",
    "    #se obtiene el accuracy score\n",
    "    score_actual=accuracy_score(L_nsl_testing_indexbinary,predicciones)\n",
    "    #se declara un vector que contiene todos los score de todas las iteraciones\n",
    "\n",
    "    #Se almacenan los resultados\n",
    "    registro_score_iteracion.append(score_actual)\n",
    "    registro_dimensiones_iteracion.append(dimensiones_temporales)\n",
    "    \n",
    "\n",
    "    \n",
    "    #Se imprimen los resultados\n",
    "    print(\"Dimensiones activas: \")\n",
    "    print(unos)\n",
    "    print(\"Total de dimensiones activas: %s\" % np.array(unos).shape[1])\n",
    "    print(\"Porcentaje de exactitud: %s (accuracy score)\" %accuracy_score(L_nsl_testing_indexbinary,predicciones))\n",
    "    \n",
    "    \n",
    "    i=i+1\n",
    "    "
   ]
  },
  {
   "cell_type": "code",
   "execution_count": 41,
   "metadata": {},
   "outputs": [
    {
     "data": {
      "text/plain": [
       "array([0, 1, 0, 0, 1, 1, 0, 0, 1, 0, 0, 1, 0, 1, 1, 1, 1, 0, 0, 0, 1, 0, 1,\n",
       "       1, 0, 1, 1, 1, 1, 0, 1, 1, 1, 0, 0, 0, 0, 0, 1, 1])"
      ]
     },
     "execution_count": 41,
     "metadata": {},
     "output_type": "execute_result"
    }
   ],
   "source": [
    "mejor_solucion=np.random.randint(2, size=M)\n",
    "mejor_solucion"
   ]
  },
  {
   "cell_type": "code",
   "execution_count": null,
   "metadata": {
    "collapsed": true
   },
   "outputs": [],
   "source": []
  },
  {
   "cell_type": "code",
   "execution_count": null,
   "metadata": {
    "collapsed": true
   },
   "outputs": [],
   "source": []
  },
  {
   "cell_type": "code",
   "execution_count": null,
   "metadata": {
    "collapsed": true
   },
   "outputs": [],
   "source": [
    "#evaluación del siguiente vector\n",
    "\n",
    "\n",
    "    #se eliminan esas dimensiones\n",
    "    training=np.delete(training,zeros,axis=1)\n",
    "    testing=np.delete(testing,zeros,axis=1)\n",
    "\n",
    "\n",
    "    #se declara un vector que contiene todas las dimensiones en cada iteración\n",
    "    dimensiones_iteracion=[]\n",
    "    dimensiones_iteracion.append(dimensiones_mejor)\n",
    "\n",
    "\n",
    "\n",
    "    #se entrena el modelo\n",
    "    modelo.fit(training,L_nsl_training_indexbinary.values.ravel())\n",
    "    #se obtienen las predicciones\n",
    "    predicciones=modelo.predict(testing)\n",
    "\n",
    "    #se obtiene el accuracy score\n",
    "    score_mejor=accuracy_score(L_nsl_testing_indexbinary,predicciones)\n",
    "    #se declara un vector que contiene todos los score de todas las iteraciones\n",
    "\n",
    "    score_iteracion=[]\n",
    "    score_iteracion.append(score_mejor)\n",
    "\n",
    "\n",
    "    print(\"Dimensiones activas: \")\n",
    "    print(unos)\n",
    "    print(\"Total de dimensiones activas: %s\" % np.array(unos).shape[1])\n",
    "    print(\"Porcentaje de exactitud: %s (accuracy score)\" %accuracy_score(L_nsl_testing_indexbinary,predicciones))"
   ]
  },
  {
   "cell_type": "code",
   "execution_count": 433,
   "metadata": {},
   "outputs": [
    {
     "name": "stdout",
     "output_type": "stream",
     "text": [
      "[1 1 0 1 1 0 0 0 0 1 1 1 0 0 0 0 1 1 0 0 0 1 0 1 1 1 1 1 0 0 0 1 0 1 0 1 0\n",
      " 1 0 0]\n"
     ]
    }
   ],
   "source": [
    "print(mejor_solucion)"
   ]
  },
  {
   "cell_type": "code",
   "execution_count": 444,
   "metadata": {
    "collapsed": true
   },
   "outputs": [],
   "source": [
    "def muta_vector_binario(dimensiones_temporales,M=20):\n",
    "    \"\"\"Dimensiones temporales: vector binario que contiene las dimensiones actuales de la ultima\n",
    "        iteración probada.\n",
    "        M=cantidad total de dimensiones a mutar. Si no se otorga un número\n",
    "        M es igual a la máxima cantidad de dimensiones en NSL-KDD\"\"\"\n",
    "    \n",
    "    vector_mutado=np.array(dimensiones_temporales)\n",
    "    #Genera tres números aleatorios entre 0 y M\n",
    "    #Dichos numeros aleatorios seran los indices a mutar entre de (vector_mutado)\n",
    "    indice=sorted(random.sample(list(range(0,vector_mutado.shape[0])), M))\n",
    "    print(indice)\n",
    "    #Aplica la operación negación binaria a los valores del indice\n",
    "    for numero_indice in indice:\n",
    "        if vector_mutado[numero_indice]==0:\n",
    "            vector_mutado[numero_indice]=1\n",
    "        else:\n",
    "            vector_mutado[numero_indice]=0\n",
    "    #regresa el vector mutado\n",
    "    return vector_mutado"
   ]
  },
  {
   "cell_type": "code",
   "execution_count": 451,
   "metadata": {},
   "outputs": [
    {
     "name": "stdout",
     "output_type": "stream",
     "text": [
      "[1 1 0 1 1 0 0 0 0 1 1 1 0 0 0 0 1 1 0 0 0 1 0 1 1 1 1 1 0 0 0 1 0 1 0 1 0\n",
      " 1 0 0]\n",
      "\n",
      "\n",
      "[5, 6, 7, 10, 13, 14, 16, 19, 20, 21, 22, 24, 25, 26, 28, 29, 31, 36, 38, 39]\n",
      "[1 1 0 1 1 1 1 1 0 1 0 1 0 1 1 0 0 1 0 1 1 0 1 1 0 0 0 1 1 1 0 0 0 1 0 1 1\n",
      " 1 1 1]\n"
     ]
    }
   ],
   "source": [
    "print(mejor_solucion)\n",
    "print(\"\\n\")\n",
    "test=muta_vector_binario(mejor_solucion)\n",
    "print(test)"
   ]
  },
  {
   "cell_type": "code",
   "execution_count": null,
   "metadata": {
    "collapsed": true
   },
   "outputs": [],
   "source": []
  },
  {
   "cell_type": "code",
   "execution_count": 45,
   "metadata": {},
   "outputs": [
    {
     "data": {
      "text/plain": [
       "40"
      ]
     },
     "execution_count": 45,
     "metadata": {},
     "output_type": "execute_result"
    }
   ],
   "source": [
    "mejor_solucion.shape[0]"
   ]
  },
  {
   "cell_type": "code",
   "execution_count": 163,
   "metadata": {
    "collapsed": true
   },
   "outputs": [],
   "source": [
    "dimensiones_temporales=mejor_solucion"
   ]
  },
  {
   "cell_type": "code",
   "execution_count": 162,
   "metadata": {},
   "outputs": [
    {
     "data": {
      "text/plain": [
       "[1, 8, 9, 11, 13, 15, 16, 17, 18, 20, 23, 25, 26, 28, 30, 31, 32, 34, 35, 39]"
      ]
     },
     "execution_count": 162,
     "metadata": {},
     "output_type": "execute_result"
    }
   ],
   "source": [
    "indice=sorted(random.sample(list(range(0,dimensiones_temporales.shape[0])), 20))\n",
    "indice"
   ]
  },
  {
   "cell_type": "code",
   "execution_count": 165,
   "metadata": {},
   "outputs": [
    {
     "data": {
      "text/plain": [
       "0"
      ]
     },
     "execution_count": 165,
     "metadata": {},
     "output_type": "execute_result"
    }
   ],
   "source": [
    "dimensiones_temporales[0]"
   ]
  },
  {
   "cell_type": "code",
   "execution_count": null,
   "metadata": {
    "collapsed": true
   },
   "outputs": [],
   "source": []
  }
 ],
 "metadata": {
  "kernelspec": {
   "display_name": "Python 3",
   "language": "python",
   "name": "python3"
  },
  "language_info": {
   "codemirror_mode": {
    "name": "ipython",
    "version": 3
   },
   "file_extension": ".py",
   "mimetype": "text/x-python",
   "name": "python",
   "nbconvert_exporter": "python",
   "pygments_lexer": "ipython3",
   "version": "3.6.1"
  }
 },
 "nbformat": 4,
 "nbformat_minor": 2
}
