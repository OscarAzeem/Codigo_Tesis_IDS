{
 "cells": [
  {
   "cell_type": "markdown",
   "metadata": {},
   "source": [
    "# se agregan todos los print para comprobar la fase líquida"
   ]
  },
  {
   "cell_type": "raw",
   "metadata": {},
   "source": []
  },
  {
   "cell_type": "markdown",
   "metadata": {},
   "source": [
    "# se arreglaron las matrizes de resultados para ser una sola"
   ]
  },
  {
   "cell_type": "markdown",
   "metadata": {},
   "source": [
    "# Librerías"
   ]
  },
  {
   "cell_type": "code",
   "execution_count": 1,
   "metadata": {
    "collapsed": true
   },
   "outputs": [],
   "source": [
    "import itertools\n",
    "import time\n",
    "import numpy as np\n",
    "import pandas as pd\n",
    "import matplotlib.pyplot as plt\n",
    "from matplotlib import offsetbox\n",
    "from sklearn import (manifold, datasets, decomposition, ensemble,\n",
    "                     discriminant_analysis, random_projection)#Prueba evaluación y entrenamiento un solo individuo. \n",
    "#Vectores completos\n",
    "from sklearn.metrics import classification_report,confusion_matrix,accuracy_score\n",
    "import random"
   ]
  },
  {
   "cell_type": "code",
   "execution_count": 2,
   "metadata": {
    "collapsed": true
   },
   "outputs": [],
   "source": [
    "import seaborn as sns"
   ]
  },
  {
   "cell_type": "markdown",
   "metadata": {},
   "source": [
    "# Databases"
   ]
  },
  {
   "cell_type": "code",
   "execution_count": 3,
   "metadata": {
    "collapsed": true
   },
   "outputs": [],
   "source": [
    "#Reading all the cvs\n",
    "#Nss learning\n",
    "nsl_training=pd.read_csv('./Final_Datasets/MINMAX_FD_NSL_Tra.csv')\n",
    "#Nsl testing\n",
    "nsl_testing=pd.read_csv('./Final_Datasets/MINMAX_FD_NSL_Test.csv')"
   ]
  },
  {
   "cell_type": "markdown",
   "metadata": {},
   "source": [
    "# Labels"
   ]
  },
  {
   "cell_type": "code",
   "execution_count": 4,
   "metadata": {
    "collapsed": true
   },
   "outputs": [],
   "source": [
    "#NSL TESTING LABELS\n",
    "\n",
    "#Index binary (2 clases)\n",
    "L_nsl_testing_indexbinary=pd.read_csv(\"./Final_Datasets/L_nsl_testing_indexbinary.csv\")\n",
    "#Index by Group (5 clases)\n",
    "L_nsl_testing_indexbygroup=pd.read_csv(\"./Final_Datasets/L_nsl_testing_indexbygroup.csv\")\n",
    "#Index tipe of attack (42? clases)\n",
    "L_nsl_testing_indextipeofattack=pd.read_csv(\"./Final_Datasets/L_nsl_testing_indextipeofattack.csv\")\n",
    "\n",
    "\n",
    "#nsl TRAINING LABELS\n",
    "# 2 clases\n",
    "L_nsl_training_indexbinary=pd.read_csv(\"./Final_Datasets/L_nsl_training_indexbinary.csv\")\n",
    "#Index by Group (5 clases)\n",
    "L_nsl_training_indexbygroup=pd.read_csv(\"./Final_Datasets/L_nsl_training_indexbygroup.csv\")\n",
    "#Index tipe of attack (42? clases)\n",
    "L_nsl_training_indextipeofattack=pd.read_csv(\"./Final_Datasets/L_nsl_training_indextipeofattack.csv\")"
   ]
  },
  {
   "cell_type": "markdown",
   "metadata": {},
   "source": [
    "# Conversión de Pandas->Numpy (array) not Matrix"
   ]
  },
  {
   "cell_type": "code",
   "execution_count": 5,
   "metadata": {
    "collapsed": true
   },
   "outputs": [],
   "source": [
    "nsl_training=nsl_training.as_matrix(columns=None)\n",
    "nsl_testing=nsl_testing.as_matrix(columns=None)"
   ]
  },
  {
   "cell_type": "markdown",
   "metadata": {},
   "source": [
    "# Funcion para calcular M dependiendo de las iteraciones"
   ]
  },
  {
   "cell_type": "code",
   "execution_count": 27,
   "metadata": {
    "collapsed": true
   },
   "outputs": [],
   "source": [
    "def M_dimensiones_a_mutar(Perror,i_actual,i_max,M_Max=40):\n",
    "    iteraciones=1-(i_actual/i_max)\n",
    "    M=M_Max*np.amin([iteraciones,Perror])\n",
    "    M=np.array(np.round_(M))\n",
    "    return M"
   ]
  },
  {
   "cell_type": "markdown",
   "metadata": {},
   "source": [
    "# Declaración del modelo"
   ]
  },
  {
   "cell_type": "code",
   "execution_count": 28,
   "metadata": {
    "collapsed": true
   },
   "outputs": [],
   "source": [
    "from sklearn.ensemble import RandomForestClassifier\n",
    "\n",
    "modelo=RandomForestClassifier(criterion='entropy',n_jobs=2, \n",
    "                              bootstrap=True, max_depth=10, max_features='sqrt', min_samples_leaf=2, \n",
    "                              min_samples_split=100, n_estimators=8)\n"
   ]
  },
  {
   "cell_type": "markdown",
   "metadata": {},
   "source": [
    "# Declarando e modelo para la distancia"
   ]
  },
  {
   "cell_type": "code",
   "execution_count": 29,
   "metadata": {
    "collapsed": true
   },
   "outputs": [],
   "source": [
    "from sklearn.neighbors import DistanceMetric\n",
    "dist = DistanceMetric.get_metric('jaccard')"
   ]
  },
  {
   "cell_type": "code",
   "execution_count": null,
   "metadata": {
    "collapsed": true
   },
   "outputs": [],
   "source": []
  },
  {
   "cell_type": "markdown",
   "metadata": {
    "collapsed": true
   },
   "source": [
    "# IMO"
   ]
  },
  {
   "cell_type": "markdown",
   "metadata": {},
   "source": [
    "# Funciones"
   ]
  },
  {
   "cell_type": "markdown",
   "metadata": {},
   "source": [
    "# Eval sencilla"
   ]
  },
  {
   "cell_type": "code",
   "execution_count": 17,
   "metadata": {
    "collapsed": true
   },
   "outputs": [],
   "source": [
    "#funcion para la evaluacion sencilla de un elemento\n",
    "#la evaluación sencilla consta de \n",
    "#indices_uno_poblacion, guarda los indices de la poblacion de aniones o cationes las cuales contienen los\n",
    "#parametros de 1\n",
    "def evaluacion_sencilla(poblacion,matriz_de_evaluacion,indices_unos_poblacion,modelo):\n",
    "    \"\"\"Regresa la matriz dd resultados\n",
    "    los indices dónde se encuentran los unos\"\"\"\n",
    "    for indice_elemento in list(range(0,(poblacion.shape[0]))):\n",
    "        #filtrado de la base de datos\n",
    "        training_temp=poblacion[indice_elemento]*nsl_training\n",
    "        testing_temp=poblacion[indice_elemento]*nsl_testing    \n",
    "        #se entrena el modelo\n",
    "        modelo.fit(training_temp,training_etiquetas.values.ravel())\n",
    "        #se evalua el modelo\n",
    "        predicciones_temp=modelo.predict(testing_temp)\n",
    "        #se obtiene el accuracy score\n",
    "        matriz_de_evaluacion[indice_elemento,0]=accuracy_score(testing_etiquetas,predicciones_temp)\n",
    "        #se obtiene la probabilidad de error\n",
    "        matriz_de_evaluacion[indice_elemento,1]=1-accuracy_score(testing_etiquetas,predicciones_temp)\n",
    "        #se obtienen la cantidd de los indices de los unos (dimensinoes activas)\n",
    "        matriz_de_evaluacion[indice_elemento,2]=np.array(np.where(poblacion[indice_elemento]==1)).shape[1]\n",
    "        #se obtienen los indices de los unos\n",
    "        indices_unos_poblacion.append(np.where(poblacion[indice_elemento]==1))\n",
    "        \n",
    "        print(\"unos temporales: %s\" %M_E_A[indice_elemento,2])\n",
    "    return [matriz_de_evaluacion,indices_unos_poblacion]\n",
    "\n",
    "        "
   ]
  },
  {
   "cell_type": "markdown",
   "metadata": {},
   "source": [
    "# Eval compuesta"
   ]
  },
  {
   "cell_type": "code",
   "execution_count": 13,
   "metadata": {
    "collapsed": true
   },
   "outputs": [],
   "source": [
    "\n",
    "#Matriz con resultados para su actualizacion\n",
    "#0-column (distancia - Jaccard)\n",
    "#1-column (fuerza)\n",
    "#2-column (cantidad de dimensiones similares con el mejor)\n",
    "\n",
    "#funcion para la evaluacion compuesta de un elemento\n",
    "#la evaluación sencilla consta de \n",
    "def evaluacion_compuesta(poblacion,mejor_elemento_pob_contraria,matriz_de_evaluacion):\n",
    "    \"\"\"Regresa la matriz dd resultados compuestos, la cual incluye\n",
    "    distancia (jacard), fuerza, y los indices de los vectores iguales entre \n",
    "    el elemento x y el mejor de la población\"\"\"\n",
    "    for indice_elemento in list(range(0,(poblacion.shape[0]))):\n",
    "        #se calcula el indice [elemento,3]->Distancia\n",
    "        a=poblacion[indice_elemento]\n",
    "        b=mejor_elemento_pob_contraria\n",
    "        matriz_de_evaluacion[indice_elemento,3]=dist.pairwise([a,b])[0,1]\n",
    "        #se calcula el indice [elemento,4]->fuerza\n",
    "        x=matriz_de_evaluacion[indice_elemento,3]\n",
    "        fuerza=(1/(1+(2.71828**(-0.1/x))))\n",
    "        #se almacena la fuerza en la matriz\n",
    "        matriz_de_evaluacion[indice_elemento,4]=fuerza\n",
    " \n",
    "        print(\"indice_elemento %s\" %indice_elemento)\n",
    "    return [matriz_de_evaluacion]\n"
   ]
  },
  {
   "cell_type": "markdown",
   "metadata": {},
   "source": [
    "# Declaracion de parámetros"
   ]
  },
  {
   "cell_type": "code",
   "execution_count": 22,
   "metadata": {
    "scrolled": true
   },
   "outputs": [
    {
     "name": "stdout",
     "output_type": "stream",
     "text": [
      "unos temporales: 19.0\n",
      "unos temporales: 15.0\n",
      "unos temporales: 20.0\n",
      "unos temporales: 19.0\n",
      "unos temporales: 20.0\n",
      "unos temporales: 18.0\n",
      "unos temporales: 19.0\n",
      "unos temporales: 20.0\n",
      "unos temporales: 18.0\n",
      "unos temporales: 19.0\n",
      "indice_elemento 0\n",
      "indice_elemento 1\n",
      "indice_elemento 2\n",
      "indice_elemento 3\n",
      "indice_elemento 4\n",
      "indice_elemento 5\n",
      "indice_elemento 6\n",
      "indice_elemento 7\n",
      "indice_elemento 8\n",
      "indice_elemento 9\n"
     ]
    }
   ],
   "source": [
    "#Declaracion de la poblacion de forma aleatoria\n",
    "\n",
    "A=np.random.randint(2, size=(10,40))\n",
    "C=np.random.randint(2, size=(10,40))\n",
    "\n",
    "\n",
    "#Matriz Dimensiones activas (lista):\n",
    "#dimensiones_activas_aniones=[]\n",
    "#dimensiones_activas_cationes=[]\n",
    "\n",
    "I_A=[]\n",
    "I_C=[]\n",
    "\n",
    "#Matriz de evaluacion con todos los parámetros\n",
    "M_E_A=np.zeros([10,8])\n",
    "M_E_C=np.zeros([10,8])\n",
    "\n",
    "\n",
    "\n",
    "#Declaracion de las matrices para\n",
    "#Matriz Resultados sencillos\n",
    "#0-column (score)\n",
    "#1-column (p-error\n",
    "#2-column (dimensiones activas)\n",
    "\n",
    "\n",
    "#Matriz con resultados para su actualizacion\n",
    "#3-column (distancia - Jaccard)\n",
    "#4-column (fuerza)\n",
    "\n",
    "\n",
    "#5-column cantidad de dimensiones M a mutar\n",
    "#6-column Cantidad de dimensiones M que cumplieron la condición de su fase sólida/líquida\n",
    "\n",
    "\n",
    "#2-column (cantidad de dimensiones similares con el mejor)\n",
    "\n",
    "\n",
    "\n",
    "#declaracion de etiquetas\n",
    "training_etiquetas=L_nsl_training_indexbinary\n",
    "testing_etiquetas=L_nsl_testing_indexbinary\n",
    "\n",
    "[M_E_A,IA]=evaluacion_sencilla(A,M_E_A,I_A,modelo)\n",
    "\n",
    "mejor_elemento=np.random.randint(2, size=(40))\n",
    "[M_E_A]=evaluacion_compuesta(A,mejor_elemento,M_E_A)\n",
    "\n",
    "\n"
   ]
  },
  {
   "cell_type": "code",
   "execution_count": 24,
   "metadata": {
    "scrolled": true
   },
   "outputs": [
    {
     "data": {
      "text/plain": [
       "array([[  0.73610433,   0.26389567,  19.        ,   0.64516129,\n",
       "          0.53867258,   0.        ,   0.        ,   0.        ],\n",
       "       [  0.73450739,   0.26549261,  15.        ,   0.64285714,\n",
       "          0.53881063,   0.        ,   0.        ,   0.        ],\n",
       "       [  0.75571131,   0.24428869,  20.        ,   0.61290323,\n",
       "          0.5406992 ,   0.        ,   0.        ,   0.        ],\n",
       "       [  0.76090139,   0.23909861,  19.        ,   0.6       ,\n",
       "          0.54157046,   0.        ,   0.        ,   0.        ],\n",
       "       [  0.76169986,   0.23830014,  20.        ,   0.61290323,\n",
       "          0.5406992 ,   0.        ,   0.        ,   0.        ],\n",
       "       [  0.77376569,   0.22623431,  18.        ,   0.63333333,\n",
       "          0.53939185,   0.        ,   0.        ,   0.        ],\n",
       "       [  0.75012199,   0.24987801,  19.        ,   0.64516129,\n",
       "          0.53867258,   0.        ,   0.        ,   0.        ],\n",
       "       [  0.73960875,   0.26039125,  20.        ,   0.56666667,\n",
       "          0.54400348,   0.        ,   0.        ,   0.        ],\n",
       "       [  0.75016635,   0.24983365,  18.        ,   0.67741935,\n",
       "          0.53683787,   0.        ,   0.        ,   0.        ],\n",
       "       [  0.75642106,   0.24357894,  19.        ,   0.6875    ,\n",
       "          0.53629964,   0.        ,   0.        ,   0.        ]])"
      ]
     },
     "execution_count": 24,
     "metadata": {},
     "output_type": "execute_result"
    }
   ],
   "source": [
    "M_E_A"
   ]
  },
  {
   "cell_type": "markdown",
   "metadata": {},
   "source": [
    "# Fase líquida"
   ]
  },
  {
   "cell_type": "code",
   "execution_count": 78,
   "metadata": {
    "collapsed": true
   },
   "outputs": [],
   "source": [
    "def fase_liquida(poblacion,mejor_pob_contraria,matriz_resultados):\n",
    "    \"\"\"poblacion=poblacion de aniones/cationes\n",
    "    mejor_pob_contraia=mejor elemento de la poblacion contraria a partir de la cual mutar\n",
    "    fase=liquida,solida\"\"\"\n",
    "    #probando la fase líquida\n",
    "    for indice_elemento in list(range(0,(poblacion.shape[0]))):\n",
    "        \n",
    "        print(\"\\n\")\n",
    "        print(\"Me encuentro trabajando en el elmento %s de %s totales\" %(indice_elemento,poblacion.shape[0]))\n",
    "        respaldo_temporal_elemento=np.array(poblacion[indice_elemento])\n",
    "        print(\"Elemento:\")\n",
    "        print(respaldo_temporal_elemento)\n",
    "        \n",
    "        \n",
    "        #variables para iterar\n",
    "        i=0\n",
    "        j=0\n",
    "        \n",
    "        #Encuentra el total de dimensiones M posibles a mutar POR ELEMENTO\n",
    "        M=M_dimensiones_a_mutar(matriz_resultados[indice_elemento,1],i_actual,i_max)\n",
    "        \n",
    "        print(\"Tiene una probabilidad de error de: %s\" % matriz_resultados[indice_elemento,1])\n",
    "        print(\"Para el elemento %s se mutan un total máximo de M=%s dimensiones\" %(indice_elemento,M))\n",
    "        \n",
    "        #Encuentra el total de dimensinoes posibles a mutar, dependiendo del elemento (distancia,fuerza)\n",
    "        #y que ademas depende de M\n",
    "        #posicion_temp=cantidad de dimensinoes a mutar por elemento. \n",
    "        \n",
    "        #matriz_resultados[elemento,5]->posicion\n",
    "        #matriz_resultados[elemnto,4]->fuerza\n",
    "\n",
    "        #desde aquí sería la fase líquida (desde la actualizacion de la posicion)\n",
    "        \n",
    "        \n",
    "        #posicion temporal, maxima cantidad de dimensinoes permitidas a mutar por ese elemento\n",
    "        posicion_temp=matriz_resultados[indice_elemento,4]*M\n",
    "        #se redondea para que se un total de dimensiones entero\n",
    "        posicion_temp=np.array(np.round_(posicion_temp))\n",
    "        \n",
    "        print(\"Cantidad de dimensiones a mutar específicas para ese elmento: %s\" %(posicion_temp))\n",
    "        \n",
    "        \n",
    "     \n",
    "        \n",
    "        #se actualiza la matriz de resultados\n",
    "        matriz_resultados[indice_elemento,5]=posicion_temp\n",
    "        \n",
    "        #\n",
    "        #encuentra la cantidad de elmentos de pos temporal diferentes y mutalos\n",
    "        #si sobran pos-temporal, entonces muta los iguales, pero primeramente los diferentes\n",
    "        \n",
    "        #encuentra los indices de los elementos diferentes (fase líquida)\n",
    "        diferentes_temp_indices=np.where((poblacion[indice_elemento]==mejor_pob_contraria)==False)\n",
    "        #se hace np array para poder indexarse\n",
    "        diferentes_temp_indices=np.array(diferentes_temp_indices)\n",
    "        \n",
    "        print(\"El elemento mejor es: \")\n",
    "        print(mejor_pob_contraria)\n",
    "        print(\"El elemento a evaluar es: \")\n",
    "        print(poblacion[indice_elemento])\n",
    "        print(\"Los indices que son diferentes son %s\" %(np.array(diferentes_temp_indices).shape[1]))\n",
    "        print(diferentes_temp_indices)\n",
    "        \n",
    "        #encuentra la cantidad de los indices de los elementos diferentes (fase líquida)\n",
    "        diferentes_temp_cantidad=np.array(diferentes_temp_indices).shape[1]\n",
    "        \n",
    "        \n",
    "        #se actualiza la columna 6 de la matriz de resultados\n",
    "        matriz_resultados[indice_elemento,6]=posicion_temp-diferentes_temp_cantidad\n",
    "        \n",
    "        \n",
    "        #dimensiones utilizadas se declara antes del while con 0\n",
    "        dimensiones_utilizadas=4\n",
    "        \n",
    "        \n",
    "        \n",
    "        #primer while para mutar las dimensiones diferentes\n",
    "        while((dimensiones_utilizadas<=posicion_temp) and (dimensiones_utilizadas<=diferentes_temp_cantidad)):\n",
    "            #muta los diferentes\n",
    "            \n",
    "            #print(\"\\n\\n\")\n",
    "            \n",
    "            #print(diferentes_temp_indices)\n",
    "            #print(dimensiones_utilizadas)\n",
    "            #print(type(diferentes_temp_indices))\n",
    "            #print(diferentes_temp_indices[0,dimensiones_utilizadas])\n",
    "            \n",
    "            if (poblacion[indice_elemento,diferentes_temp_indices[0,dimensiones_utilizadas]] ==0):\n",
    "                poblacion[indice_elemento,diferentes_temp_indices[0,dimensiones_utilizadas]] =1\n",
    "            else:\n",
    "                poblacion[indice_elemento,diferentes_temp_indices[0,dimensiones_utilizadas]] =0\n",
    "            \n",
    "            dimensiones_utilizadas=dimensiones_utilizadas+1\n",
    "        \n",
    "        \n",
    "        #segundo while para mutar las dimensiones iguales\n",
    "        #aquellas dimensinoes de manera aleatoria que no se encuentren en diferentes_temp_indices\n",
    "        while(dimensiones_utilizadas<=posicion_temp):\n",
    "            #dimensiones_restantes a mutar\n",
    "            dim_res=posicion_temp-dimensiones_utilizadas\n",
    "            \n",
    "            \n",
    "            #se actualiza la columna 7 de la matriz de resultados\n",
    "            matriz_resultados[indice_elemento,7]=dim_res\n",
    "            \n",
    "            #Realizando un filtrado de las dimensiones posibles a utilizar\n",
    "            lista_dimensiones_totales=list(range(0,40))\n",
    "            lista_dimensiones_utilizadas=list(np.array(diferentes_temp_indices))\n",
    "            lista_dimensiones_posibles_a_utilizar=list(set(lista_dimensiones_totales)-set(lista_dimensiones_utilizadas))\n",
    "            #Seleccionando un aleatorio de las dimensiones posibles\n",
    "            dimensiones_a_utilizar=random.sample(lista_dimensiones_posibles_a_utilizar,(dim_res))\n",
    "            \n",
    "            #Muta las dimensiones iguales\n",
    "            \n",
    "            if poblacion[indice_elemento,dimensiones_a_utilizar[j]] ==0:\n",
    "                poblacion[indice_elemento,dimensiones_a_utilizar[j]] =1\n",
    "            else:\n",
    "                poblacion[indice_elemento,dimensiones_a_utilizar[j]] =0\n",
    "            \n",
    "            j=j+1\n",
    "            dimensiones_utilizadas=dimensiones_utilizadas+1\n",
    "            \n",
    "        \n"
   ]
  },
  {
   "cell_type": "code",
   "execution_count": 79,
   "metadata": {
    "scrolled": false
   },
   "outputs": [
    {
     "name": "stdout",
     "output_type": "stream",
     "text": [
      "\n",
      "\n",
      "Me encuentro trabajando en el elmento 0 de 10 totales\n",
      "Elemento:\n",
      "[0 0 0 0 1 0 0 0 1 1 1 0 0 1 0 1 1 1 1 1 0 0 1 1 1 1 1 1 0 0 1 0 0 1 1 1 1\n",
      " 1 0 0]\n",
      "Tiene una probabilidad de error de: 0.26389566606\n",
      "Para el elemento 0 se mutan un total máximo de M=11.0 dimensiones\n",
      "Cantidad de dimensiones a mutar específicas para ese elmento: 6.0\n",
      "El elemento mejor es: \n",
      "[1 1 1 1 1 0 0 0 1 1 1 0 0 1 0 0 1 1 1 0 1 1 1 1 1 1 1 0 1 0 0 1 0 1 0 0 0\n",
      " 0 1 0]\n",
      "El elemento a evaluar es: \n",
      "[0 0 0 0 1 0 0 0 1 1 1 0 0 1 0 1 1 1 1 1 0 0 1 1 1 1 1 1 0 0 1 0 0 1 1 1 1\n",
      " 1 0 0]\n",
      "Los indices que son diferentes son 17\n",
      "[[ 0  1  2  3 15 19 20 21 27 28 30 31 34 35 36 37 38]]\n",
      "\n",
      "\n",
      "Me encuentro trabajando en el elmento 1 de 10 totales\n",
      "Elemento:\n",
      "[1 0 0 1 0 1 0 0 1 1 1 0 0 1 0 0 1 1 1 0 0 0 1 0 0 0 1 1 0 0 0 1 0 1 1 1 0\n",
      " 0 0 1]\n",
      "Tiene una probabilidad de error de: 0.265492614115\n",
      "Para el elemento 1 se mutan un total máximo de M=11.0 dimensiones\n",
      "Cantidad de dimensiones a mutar específicas para ese elmento: 6.0\n",
      "El elemento mejor es: \n",
      "[1 1 1 1 1 0 0 0 1 1 1 0 0 1 0 0 1 1 1 0 1 1 1 1 1 1 1 0 1 0 0 1 0 1 0 0 0\n",
      " 0 1 0]\n",
      "El elemento a evaluar es: \n",
      "[1 0 0 1 0 1 0 0 1 1 1 0 0 1 0 0 1 1 1 0 0 0 1 0 0 0 1 1 0 0 0 1 0 1 1 1 0\n",
      " 0 0 1]\n",
      "Los indices que son diferentes son 15\n",
      "[[ 1  2  4  5 20 21 23 24 25 27 28 34 35 38 39]]\n",
      "\n",
      "\n",
      "Me encuentro trabajando en el elmento 2 de 10 totales\n",
      "Elemento:\n",
      "[1 1 0 0 1 1 1 0 1 1 1 0 0 1 0 1 1 0 0 0 0 0 1 1 0 1 1 1 0 1 0 0 0 0 0 1 0\n",
      " 1 1 0]\n",
      "Tiene una probabilidad de error de: 0.244288692721\n",
      "Para el elemento 2 se mutan un total máximo de M=10.0 dimensiones\n",
      "Cantidad de dimensiones a mutar específicas para ese elmento: 5.0\n",
      "El elemento mejor es: \n",
      "[1 1 1 1 1 0 0 0 1 1 1 0 0 1 0 0 1 1 1 0 1 1 1 1 1 1 1 0 1 0 0 1 0 1 0 0 0\n",
      " 0 1 0]\n",
      "El elemento a evaluar es: \n",
      "[1 1 0 0 1 1 1 0 1 1 1 0 0 1 0 1 1 0 0 0 0 0 1 1 0 1 1 1 0 1 0 0 0 0 0 1 0\n",
      " 1 1 0]\n",
      "Los indices que son diferentes son 17\n",
      "[[ 2  3  5  6 15 17 18 20 21 24 27 28 29 31 33 35 37]]\n",
      "\n",
      "\n",
      "Me encuentro trabajando en el elmento 3 de 10 totales\n",
      "Elemento:\n",
      "[0 1 0 1 0 0 0 0 1 0 1 0 0 1 1 1 0 1 0 0 1 0 1 1 1 1 0 1 0 0 1 1 0 0 0 1 0\n",
      " 1 1 0]\n",
      "Tiene una probabilidad de error de: 0.239098611542\n",
      "Para el elemento 3 se mutan un total máximo de M=10.0 dimensiones\n",
      "Cantidad de dimensiones a mutar específicas para ese elmento: 5.0\n",
      "El elemento mejor es: \n",
      "[1 1 1 1 1 0 0 0 1 1 1 0 0 1 0 0 1 1 1 0 1 1 1 1 1 1 1 0 1 0 0 1 0 1 0 0 0\n",
      " 0 1 0]\n",
      "El elemento a evaluar es: \n",
      "[0 1 0 1 0 0 0 0 1 0 1 0 0 1 1 1 0 1 0 0 1 0 1 1 1 1 0 1 0 0 1 1 0 0 0 1 0\n",
      " 1 1 0]\n",
      "Los indices que son diferentes son 16\n",
      "[[ 0  2  4  9 14 15 16 18 21 26 27 28 30 33 35 37]]\n",
      "\n",
      "\n",
      "Me encuentro trabajando en el elmento 4 de 10 totales\n",
      "Elemento:\n",
      "[1 0 1 1 0 0 1 0 0 1 1 0 1 1 1 0 1 0 1 0 0 1 1 1 0 0 1 0 0 0 1 0 1 1 1 1 0\n",
      " 0 1 1]\n",
      "Tiene una probabilidad de error de: 0.238300137515\n",
      "Para el elemento 4 se mutan un total máximo de M=10.0 dimensiones\n",
      "Cantidad de dimensiones a mutar específicas para ese elmento: 5.0\n",
      "El elemento mejor es: \n",
      "[1 1 1 1 1 0 0 0 1 1 1 0 0 1 0 0 1 1 1 0 1 1 1 1 1 1 1 0 1 0 0 1 0 1 0 0 0\n",
      " 0 1 0]\n",
      "El elemento a evaluar es: \n",
      "[1 0 1 1 0 0 1 0 0 1 1 0 1 1 1 0 1 0 1 0 0 1 1 1 0 0 1 0 0 0 1 0 1 1 1 1 0\n",
      " 0 1 1]\n",
      "Los indices que son diferentes son 17\n",
      "[[ 1  4  6  8 12 14 17 20 24 25 28 30 31 32 34 35 39]]\n",
      "\n",
      "\n",
      "Me encuentro trabajando en el elmento 5 de 10 totales\n",
      "Elemento:\n",
      "[1 1 0 0 1 0 0 1 0 1 1 0 1 1 0 0 1 0 0 0 1 1 1 0 1 0 1 1 0 0 1 0 0 0 1 0 0\n",
      " 1 0 0]\n",
      "Tiene una probabilidad de error de: 0.226234307767\n",
      "Para el elemento 5 se mutan un total máximo de M=9.0 dimensiones\n",
      "Cantidad de dimensiones a mutar específicas para ese elmento: 5.0\n",
      "El elemento mejor es: \n",
      "[1 1 1 1 1 0 0 0 1 1 1 0 0 1 0 0 1 1 1 0 1 1 1 1 1 1 1 0 1 0 0 1 0 1 0 0 0\n",
      " 0 1 0]\n",
      "El elemento a evaluar es: \n",
      "[1 1 0 0 1 0 0 1 0 1 1 0 1 1 0 0 1 0 0 0 1 1 1 0 1 0 1 1 0 0 1 0 0 0 1 0 0\n",
      " 1 0 0]\n",
      "Los indices que son diferentes son 17\n",
      "[[ 2  3  7  8 12 17 18 23 25 27 28 30 31 33 34 37 38]]\n",
      "\n",
      "\n",
      "Me encuentro trabajando en el elmento 6 de 10 totales\n",
      "Elemento:\n",
      "[0 0 1 0 0 0 0 0 1 1 1 0 0 1 1 0 1 0 0 1 1 1 0 0 0 0 0 0 1 0 0 1 0 1 1 1 0\n",
      " 1 0 1]\n",
      "Tiene una probabilidad de error de: 0.249878010912\n",
      "Para el elemento 6 se mutan un total máximo de M=10.0 dimensiones\n",
      "Cantidad de dimensiones a mutar específicas para ese elmento: 5.0\n",
      "El elemento mejor es: \n",
      "[1 1 1 1 1 0 0 0 1 1 1 0 0 1 0 0 1 1 1 0 1 1 1 1 1 1 1 0 1 0 0 1 0 1 0 0 0\n",
      " 0 1 0]\n",
      "El elemento a evaluar es: \n",
      "[0 0 1 0 0 0 0 0 1 1 1 0 0 1 1 0 1 0 0 1 1 1 0 0 0 0 0 0 1 0 0 1 0 1 1 1 0\n",
      " 1 0 1]\n",
      "Los indices que son diferentes son 18\n",
      "[[ 0  1  3  4 14 17 18 19 22 23 24 25 26 34 35 37 38 39]]\n",
      "\n",
      "\n",
      "Me encuentro trabajando en el elmento 7 de 10 totales\n",
      "Elemento:\n",
      "[1 0 0 1 0 0 1 0 1 1 1 0 0 1 0 1 1 1 1 0 1 0 0 1 0 0 1 1 1 0 0 1 0 0 0 1 1\n",
      " 1 0 0]\n",
      "Tiene una probabilidad de error de: 0.260391252273\n",
      "Para el elemento 7 se mutan un total máximo de M=10.0 dimensiones\n",
      "Cantidad de dimensiones a mutar específicas para ese elmento: 5.0\n",
      "El elemento mejor es: \n",
      "[1 1 1 1 1 0 0 0 1 1 1 0 0 1 0 0 1 1 1 0 1 1 1 1 1 1 1 0 1 0 0 1 0 1 0 0 0\n",
      " 0 1 0]\n",
      "El elemento a evaluar es: \n",
      "[1 0 0 1 0 0 1 0 1 1 1 0 0 1 0 1 1 1 1 0 1 0 0 1 0 0 1 1 1 0 0 1 0 0 0 1 1\n",
      " 1 0 0]\n",
      "Los indices que son diferentes son 15\n",
      "[[ 1  2  4  6 15 21 22 24 25 27 33 35 36 37 38]]\n",
      "\n",
      "\n",
      "Me encuentro trabajando en el elmento 8 de 10 totales\n",
      "Elemento:\n",
      "[1 1 0 0 1 0 1 1 1 1 1 0 1 1 0 0 1 0 0 1 1 0 0 0 0 0 0 0 1 0 0 1 0 0 1 0 1\n",
      " 1 0 0]\n",
      "Tiene una probabilidad de error de: 0.249833651244\n",
      "Para el elemento 8 se mutan un total máximo de M=10.0 dimensiones\n",
      "Cantidad de dimensiones a mutar específicas para ese elmento: 5.0\n",
      "El elemento mejor es: \n",
      "[1 1 1 1 1 0 0 0 1 1 1 0 0 1 0 0 1 1 1 0 1 1 1 1 1 1 1 0 1 0 0 1 0 1 0 0 0\n",
      " 0 1 0]\n",
      "El elemento a evaluar es: \n",
      "[1 1 0 0 1 0 1 1 1 1 1 0 1 1 0 0 1 0 0 1 1 0 0 0 0 0 0 0 1 0 0 1 0 0 1 0 1\n",
      " 1 0 0]\n",
      "Los indices que son diferentes son 19\n",
      "[[ 2  3  6  7 12 17 18 19 21 22 23 24 25 26 33 34 36 37 38]]\n",
      "\n",
      "\n",
      "Me encuentro trabajando en el elmento 9 de 10 totales\n",
      "Elemento:\n",
      "[1 0 1 0 0 0 0 1 1 1 1 0 0 1 0 1 0 0 1 1 1 0 1 1 0 0 0 1 0 1 0 0 0 1 1 1 1\n",
      " 0 1 1]\n",
      "Tiene una probabilidad de error de: 0.24357893803\n",
      "Para el elemento 9 se mutan un total máximo de M=10.0 dimensiones\n",
      "Cantidad de dimensiones a mutar específicas para ese elmento: 5.0\n",
      "El elemento mejor es: \n",
      "[1 1 1 1 1 0 0 0 1 1 1 0 0 1 0 0 1 1 1 0 1 1 1 1 1 1 1 0 1 0 0 1 0 1 0 0 0\n",
      " 0 1 0]\n",
      "El elemento a evaluar es: \n",
      "[1 0 1 0 0 0 0 1 1 1 1 0 0 1 0 1 0 0 1 1 1 0 1 1 0 0 0 1 0 1 0 0 0 1 1 1 1\n",
      " 0 1 1]\n",
      "Los indices que son diferentes son 20\n",
      "[[ 1  3  4  7 15 16 17 19 21 24 25 26 27 28 29 31 34 35 36 39]]\n"
     ]
    }
   ],
   "source": [
    "i_actual=100\n",
    "i_max=300\n",
    "fase_liquida(A,mejor_elemento,M_E_A)"
   ]
  },
  {
   "cell_type": "code",
   "execution_count": null,
   "metadata": {
    "collapsed": true
   },
   "outputs": [],
   "source": [
    "print(diferentes_temp_indices)\n",
    "            print(dimensiones_utilizadas)\n",
    "            print(diferentes_temp_indices[0,dimensiones_utilizadas])\n",
    "            "
   ]
  },
  {
   "cell_type": "code",
   "execution_count": 41,
   "metadata": {},
   "outputs": [
    {
     "data": {
      "text/plain": [
       "True"
      ]
     },
     "execution_count": 41,
     "metadata": {},
     "output_type": "execute_result"
    }
   ],
   "source": [
    "diferentes_temp_indices=np.array([ 0,  1,  2,  3,  9, 10, 13, 15, 19, 20, 21, 27, 28, 30, 31, 34, 35,\n",
    "       36, 37, 38])\n",
    "A[0,diferentes_temp_indices[0]] ==0"
   ]
  },
  {
   "cell_type": "code",
   "execution_count": null,
   "metadata": {
    "collapsed": true
   },
   "outputs": [],
   "source": [
    "poblacion[indice_elemento,diferentes_temp_indices[dimensiones_utilizadas]] ==0:"
   ]
  },
  {
   "cell_type": "code",
   "execution_count": null,
   "metadata": {
    "collapsed": true
   },
   "outputs": [],
   "source": []
  },
  {
   "cell_type": "code",
   "execution_count": null,
   "metadata": {
    "collapsed": true
   },
   "outputs": [],
   "source": []
  }
 ],
 "metadata": {
  "kernelspec": {
   "display_name": "Python 3",
   "language": "python",
   "name": "python3"
  },
  "language_info": {
   "codemirror_mode": {
    "name": "ipython",
    "version": 3
   },
   "file_extension": ".py",
   "mimetype": "text/x-python",
   "name": "python",
   "nbconvert_exporter": "python",
   "pygments_lexer": "ipython3",
   "version": "3.6.1"
  }
 },
 "nbformat": 4,
 "nbformat_minor": 2
}
